{
 "cells": [
  {
   "cell_type": "markdown",
   "id": "c6501cb0-2939-4e78-b647-7246cd5804a4",
   "metadata": {},
   "source": [
    "# Clean PDTC Metadata to Remove Duplicate Files\n",
    "## Date: 2022-02-25\n",
    "## Author: Jeffrey Grover\n",
    "**Purpose:** There are still a few duplicate files in there. These should be removed."
   ]
  },
  {
   "cell_type": "markdown",
   "id": "195693b8-2ace-431c-bbc2-c116141352e6",
   "metadata": {},
   "source": [
    "### Load libraries"
   ]
  },
  {
   "cell_type": "code",
   "execution_count": 11,
   "id": "8df3f8fd-bbb0-47f9-a75a-3cf57dedd3f4",
   "metadata": {},
   "outputs": [],
   "source": [
    "library(tidyverse)\n",
    "library(readxl)"
   ]
  },
  {
   "cell_type": "markdown",
   "id": "729cd234-da37-4779-a144-38bbe66431e6",
   "metadata": {},
   "source": [
    "### Read the metadata"
   ]
  },
  {
   "cell_type": "code",
   "execution_count": 2,
   "id": "7864e3f3-5c17-42e1-8bd2-83a32b8a2d12",
   "metadata": {},
   "outputs": [
    {
     "name": "stderr",
     "output_type": "stream",
     "text": [
      "New names:\n",
      "* `` -> ...1\n",
      "\n",
      "\u001b[1mRows: \u001b[22m\u001b[34m2192\u001b[39m \u001b[1mColumns: \u001b[22m\u001b[34m26\u001b[39m\n",
      "\n",
      "\u001b[36m──\u001b[39m \u001b[1mColumn specification\u001b[22m \u001b[36m──────────────────────────────────────────────────────────────────────────────────────────────────────────────────────────────────────────────────────────────────────────────────────────────────────────────────────\u001b[39m\n",
      "\u001b[1mDelimiter:\u001b[22m \",\"\n",
      "\u001b[31mchr\u001b[39m (24): contributor, file_name, patient_id, model_id, tumor_id, case_id, s...\n",
      "\u001b[32mdbl\u001b[39m  (2): ...1, paired_end\n",
      "\n",
      "\n",
      "\u001b[36mℹ\u001b[39m Use \u001b[30m\u001b[47m\u001b[30m\u001b[47m`spec()`\u001b[47m\u001b[30m\u001b[49m\u001b[39m to retrieve the full column specification for this data.\n",
      "\u001b[36mℹ\u001b[39m Specify the column types or set \u001b[30m\u001b[47m\u001b[30m\u001b[47m`show_col_types = FALSE`\u001b[47m\u001b[30m\u001b[49m\u001b[39m to quiet this message.\n",
      "\n"
     ]
    },
    {
     "data": {
      "text/html": [
       "<table class=\"dataframe\">\n",
       "<caption>A tibble: 6 × 26</caption>\n",
       "<thead>\n",
       "\t<tr><th scope=col>...1</th><th scope=col>contributor</th><th scope=col>file_name</th><th scope=col>patient_id</th><th scope=col>model_id</th><th scope=col>tumor_id</th><th scope=col>case_id</th><th scope=col>sample_id</th><th scope=col>sample_type</th><th scope=col>experimental_strategy</th><th scope=col>⋯</th><th scope=col>access_level</th><th scope=col>data_category</th><th scope=col>data_format</th><th scope=col>data_type</th><th scope=col>platform</th><th scope=col>is_ffpe</th><th scope=col>passage</th><th scope=col>body_location</th><th scope=col>disease_type</th><th scope=col>comment</th></tr>\n",
       "\t<tr><th scope=col>&lt;dbl&gt;</th><th scope=col>&lt;chr&gt;</th><th scope=col>&lt;chr&gt;</th><th scope=col>&lt;chr&gt;</th><th scope=col>&lt;chr&gt;</th><th scope=col>&lt;chr&gt;</th><th scope=col>&lt;chr&gt;</th><th scope=col>&lt;chr&gt;</th><th scope=col>&lt;chr&gt;</th><th scope=col>&lt;chr&gt;</th><th scope=col>⋯</th><th scope=col>&lt;chr&gt;</th><th scope=col>&lt;chr&gt;</th><th scope=col>&lt;chr&gt;</th><th scope=col>&lt;chr&gt;</th><th scope=col>&lt;chr&gt;</th><th scope=col>&lt;chr&gt;</th><th scope=col>&lt;chr&gt;</th><th scope=col>&lt;chr&gt;</th><th scope=col>&lt;chr&gt;</th><th scope=col>&lt;chr&gt;</th></tr>\n",
       "</thead>\n",
       "<tbody>\n",
       "\t<tr><td>1</td><td>BCM</td><td>LZML_37246_NoIndex_L00X_R1_001.fastq.gz</td><td>24452</td><td>BCM-0002</td><td>2011012-2  </td><td>NA</td><td>BCM-0002</td><td>PDX</td><td>RNA-Seq</td><td>⋯</td><td>Controlled</td><td>Raw Sequencing Data</td><td>fastq.gz</td><td>Raw Reads</td><td>Illumina</td><td>FALSE</td><td>Unknown</td><td>Breast</td><td>Invasive breast carcinoma</td><td>NA</td></tr>\n",
       "\t<tr><td>2</td><td>BCM</td><td>LZML_37246_NoIndex_L00X_R2_001.fastq.gz</td><td>24452</td><td>BCM-0002</td><td>2011012-2  </td><td>NA</td><td>BCM-0002</td><td>PDX</td><td>RNA-Seq</td><td>⋯</td><td>Controlled</td><td>Raw Sequencing Data</td><td>fastq.gz</td><td>Raw Reads</td><td>Illumina</td><td>FALSE</td><td>Unknown</td><td>Breast</td><td>Invasive breast carcinoma</td><td>NA</td></tr>\n",
       "\t<tr><td>3</td><td>BCM</td><td>ML6065_GATCAGCG_L00X_R1_001.fastq.gz   </td><td>2219 </td><td>BCM-0046</td><td>2011012-46 </td><td>NA</td><td>BCM-0046</td><td>PDX</td><td>RNA-Seq</td><td>⋯</td><td>Controlled</td><td>Raw Sequencing Data</td><td>fastq.gz</td><td>Raw Reads</td><td>Illumina</td><td>FALSE</td><td>Unknown</td><td>Breast</td><td>Invasive breast carcinoma</td><td>NA</td></tr>\n",
       "\t<tr><td>4</td><td>BCM</td><td>ML6065_GATCAGCG_L00X_R2_001.fastq.gz   </td><td>2219 </td><td>BCM-0046</td><td>2011012-46 </td><td>NA</td><td>BCM-0046</td><td>PDX</td><td>RNA-Seq</td><td>⋯</td><td>Controlled</td><td>Raw Sequencing Data</td><td>fastq.gz</td><td>Raw Reads</td><td>Illumina</td><td>FALSE</td><td>Unknown</td><td>Breast</td><td>Invasive breast carcinoma</td><td>NA</td></tr>\n",
       "\t<tr><td>5</td><td>BCM</td><td>ML6061_CAGATCTG_L00X_R1_001.fastq.gz   </td><td>24561</td><td>BCM-0104</td><td>2011012-104</td><td>NA</td><td>BCM-0104</td><td>PDX</td><td>RNA-Seq</td><td>⋯</td><td>Controlled</td><td>Raw Sequencing Data</td><td>fastq.gz</td><td>Raw Reads</td><td>Illumina</td><td>FALSE</td><td>Unknown</td><td>Breast</td><td>Invasive breast carcinoma</td><td>NA</td></tr>\n",
       "\t<tr><td>6</td><td>BCM</td><td>ML6061_CAGATCTG_L00X_R2_001.fastq.gz   </td><td>24561</td><td>BCM-0104</td><td>2011012-104</td><td>NA</td><td>BCM-0104</td><td>PDX</td><td>RNA-Seq</td><td>⋯</td><td>Controlled</td><td>Raw Sequencing Data</td><td>fastq.gz</td><td>Raw Reads</td><td>Illumina</td><td>FALSE</td><td>Unknown</td><td>Breast</td><td>Invasive breast carcinoma</td><td>NA</td></tr>\n",
       "</tbody>\n",
       "</table>\n"
      ],
      "text/latex": [
       "A tibble: 6 × 26\n",
       "\\begin{tabular}{lllllllllllllllllllll}\n",
       " ...1 & contributor & file\\_name & patient\\_id & model\\_id & tumor\\_id & case\\_id & sample\\_id & sample\\_type & experimental\\_strategy & ⋯ & access\\_level & data\\_category & data\\_format & data\\_type & platform & is\\_ffpe & passage & body\\_location & disease\\_type & comment\\\\\n",
       " <dbl> & <chr> & <chr> & <chr> & <chr> & <chr> & <chr> & <chr> & <chr> & <chr> & ⋯ & <chr> & <chr> & <chr> & <chr> & <chr> & <chr> & <chr> & <chr> & <chr> & <chr>\\\\\n",
       "\\hline\n",
       "\t 1 & BCM & LZML\\_37246\\_NoIndex\\_L00X\\_R1\\_001.fastq.gz & 24452 & BCM-0002 & 2011012-2   & NA & BCM-0002 & PDX & RNA-Seq & ⋯ & Controlled & Raw Sequencing Data & fastq.gz & Raw Reads & Illumina & FALSE & Unknown & Breast & Invasive breast carcinoma & NA\\\\\n",
       "\t 2 & BCM & LZML\\_37246\\_NoIndex\\_L00X\\_R2\\_001.fastq.gz & 24452 & BCM-0002 & 2011012-2   & NA & BCM-0002 & PDX & RNA-Seq & ⋯ & Controlled & Raw Sequencing Data & fastq.gz & Raw Reads & Illumina & FALSE & Unknown & Breast & Invasive breast carcinoma & NA\\\\\n",
       "\t 3 & BCM & ML6065\\_GATCAGCG\\_L00X\\_R1\\_001.fastq.gz    & 2219  & BCM-0046 & 2011012-46  & NA & BCM-0046 & PDX & RNA-Seq & ⋯ & Controlled & Raw Sequencing Data & fastq.gz & Raw Reads & Illumina & FALSE & Unknown & Breast & Invasive breast carcinoma & NA\\\\\n",
       "\t 4 & BCM & ML6065\\_GATCAGCG\\_L00X\\_R2\\_001.fastq.gz    & 2219  & BCM-0046 & 2011012-46  & NA & BCM-0046 & PDX & RNA-Seq & ⋯ & Controlled & Raw Sequencing Data & fastq.gz & Raw Reads & Illumina & FALSE & Unknown & Breast & Invasive breast carcinoma & NA\\\\\n",
       "\t 5 & BCM & ML6061\\_CAGATCTG\\_L00X\\_R1\\_001.fastq.gz    & 24561 & BCM-0104 & 2011012-104 & NA & BCM-0104 & PDX & RNA-Seq & ⋯ & Controlled & Raw Sequencing Data & fastq.gz & Raw Reads & Illumina & FALSE & Unknown & Breast & Invasive breast carcinoma & NA\\\\\n",
       "\t 6 & BCM & ML6061\\_CAGATCTG\\_L00X\\_R2\\_001.fastq.gz    & 24561 & BCM-0104 & 2011012-104 & NA & BCM-0104 & PDX & RNA-Seq & ⋯ & Controlled & Raw Sequencing Data & fastq.gz & Raw Reads & Illumina & FALSE & Unknown & Breast & Invasive breast carcinoma & NA\\\\\n",
       "\\end{tabular}\n"
      ],
      "text/markdown": [
       "\n",
       "A tibble: 6 × 26\n",
       "\n",
       "| ...1 &lt;dbl&gt; | contributor &lt;chr&gt; | file_name &lt;chr&gt; | patient_id &lt;chr&gt; | model_id &lt;chr&gt; | tumor_id &lt;chr&gt; | case_id &lt;chr&gt; | sample_id &lt;chr&gt; | sample_type &lt;chr&gt; | experimental_strategy &lt;chr&gt; | ⋯ ⋯ | access_level &lt;chr&gt; | data_category &lt;chr&gt; | data_format &lt;chr&gt; | data_type &lt;chr&gt; | platform &lt;chr&gt; | is_ffpe &lt;chr&gt; | passage &lt;chr&gt; | body_location &lt;chr&gt; | disease_type &lt;chr&gt; | comment &lt;chr&gt; |\n",
       "|---|---|---|---|---|---|---|---|---|---|---|---|---|---|---|---|---|---|---|---|---|\n",
       "| 1 | BCM | LZML_37246_NoIndex_L00X_R1_001.fastq.gz | 24452 | BCM-0002 | 2011012-2   | NA | BCM-0002 | PDX | RNA-Seq | ⋯ | Controlled | Raw Sequencing Data | fastq.gz | Raw Reads | Illumina | FALSE | Unknown | Breast | Invasive breast carcinoma | NA |\n",
       "| 2 | BCM | LZML_37246_NoIndex_L00X_R2_001.fastq.gz | 24452 | BCM-0002 | 2011012-2   | NA | BCM-0002 | PDX | RNA-Seq | ⋯ | Controlled | Raw Sequencing Data | fastq.gz | Raw Reads | Illumina | FALSE | Unknown | Breast | Invasive breast carcinoma | NA |\n",
       "| 3 | BCM | ML6065_GATCAGCG_L00X_R1_001.fastq.gz    | 2219  | BCM-0046 | 2011012-46  | NA | BCM-0046 | PDX | RNA-Seq | ⋯ | Controlled | Raw Sequencing Data | fastq.gz | Raw Reads | Illumina | FALSE | Unknown | Breast | Invasive breast carcinoma | NA |\n",
       "| 4 | BCM | ML6065_GATCAGCG_L00X_R2_001.fastq.gz    | 2219  | BCM-0046 | 2011012-46  | NA | BCM-0046 | PDX | RNA-Seq | ⋯ | Controlled | Raw Sequencing Data | fastq.gz | Raw Reads | Illumina | FALSE | Unknown | Breast | Invasive breast carcinoma | NA |\n",
       "| 5 | BCM | ML6061_CAGATCTG_L00X_R1_001.fastq.gz    | 24561 | BCM-0104 | 2011012-104 | NA | BCM-0104 | PDX | RNA-Seq | ⋯ | Controlled | Raw Sequencing Data | fastq.gz | Raw Reads | Illumina | FALSE | Unknown | Breast | Invasive breast carcinoma | NA |\n",
       "| 6 | BCM | ML6061_CAGATCTG_L00X_R2_001.fastq.gz    | 24561 | BCM-0104 | 2011012-104 | NA | BCM-0104 | PDX | RNA-Seq | ⋯ | Controlled | Raw Sequencing Data | fastq.gz | Raw Reads | Illumina | FALSE | Unknown | Breast | Invasive breast carcinoma | NA |\n",
       "\n"
      ],
      "text/plain": [
       "  ...1 contributor file_name                               patient_id model_id\n",
       "1 1    BCM         LZML_37246_NoIndex_L00X_R1_001.fastq.gz 24452      BCM-0002\n",
       "2 2    BCM         LZML_37246_NoIndex_L00X_R2_001.fastq.gz 24452      BCM-0002\n",
       "3 3    BCM         ML6065_GATCAGCG_L00X_R1_001.fastq.gz    2219       BCM-0046\n",
       "4 4    BCM         ML6065_GATCAGCG_L00X_R2_001.fastq.gz    2219       BCM-0046\n",
       "5 5    BCM         ML6061_CAGATCTG_L00X_R1_001.fastq.gz    24561      BCM-0104\n",
       "6 6    BCM         ML6061_CAGATCTG_L00X_R2_001.fastq.gz    24561      BCM-0104\n",
       "  tumor_id    case_id sample_id sample_type experimental_strategy ⋯\n",
       "1 2011012-2   NA      BCM-0002  PDX         RNA-Seq               ⋯\n",
       "2 2011012-2   NA      BCM-0002  PDX         RNA-Seq               ⋯\n",
       "3 2011012-46  NA      BCM-0046  PDX         RNA-Seq               ⋯\n",
       "4 2011012-46  NA      BCM-0046  PDX         RNA-Seq               ⋯\n",
       "5 2011012-104 NA      BCM-0104  PDX         RNA-Seq               ⋯\n",
       "6 2011012-104 NA      BCM-0104  PDX         RNA-Seq               ⋯\n",
       "  access_level data_category       data_format data_type platform is_ffpe\n",
       "1 Controlled   Raw Sequencing Data fastq.gz    Raw Reads Illumina FALSE  \n",
       "2 Controlled   Raw Sequencing Data fastq.gz    Raw Reads Illumina FALSE  \n",
       "3 Controlled   Raw Sequencing Data fastq.gz    Raw Reads Illumina FALSE  \n",
       "4 Controlled   Raw Sequencing Data fastq.gz    Raw Reads Illumina FALSE  \n",
       "5 Controlled   Raw Sequencing Data fastq.gz    Raw Reads Illumina FALSE  \n",
       "6 Controlled   Raw Sequencing Data fastq.gz    Raw Reads Illumina FALSE  \n",
       "  passage body_location disease_type              comment\n",
       "1 Unknown Breast        Invasive breast carcinoma NA     \n",
       "2 Unknown Breast        Invasive breast carcinoma NA     \n",
       "3 Unknown Breast        Invasive breast carcinoma NA     \n",
       "4 Unknown Breast        Invasive breast carcinoma NA     \n",
       "5 Unknown Breast        Invasive breast carcinoma NA     \n",
       "6 Unknown Breast        Invasive breast carcinoma NA     "
      ]
     },
     "metadata": {},
     "output_type": "display_data"
    }
   ],
   "source": [
    "pdtc_metadata <- read_csv('../2022-02-16_integrate_tmz_bcm_hci_metadata/2022-02-17_pdtc_metadata_cleaned.csv')\n",
    "\n",
    "head(pdtc_metadata)"
   ]
  },
  {
   "cell_type": "markdown",
   "id": "5a6b5e13-6ba5-4495-a33d-3f465b89cd7e",
   "metadata": {},
   "source": [
    "### Find the duplicate file names"
   ]
  },
  {
   "cell_type": "code",
   "execution_count": 3,
   "id": "9232f845-1212-43f3-b148-6e3d906cfcc3",
   "metadata": {},
   "outputs": [
    {
     "data": {
      "text/html": [
       "58"
      ],
      "text/latex": [
       "58"
      ],
      "text/markdown": [
       "58"
      ],
      "text/plain": [
       "[1] 58"
      ]
     },
     "metadata": {},
     "output_type": "display_data"
    },
    {
     "data": {
      "text/html": [
       "<style>\n",
       ".list-inline {list-style: none; margin:0; padding: 0}\n",
       ".list-inline>li {display: inline-block}\n",
       ".list-inline>li:not(:last-child)::after {content: \"\\00b7\"; padding: 0 .5ex}\n",
       "</style>\n",
       "<ol class=list-inline><li>'0704112-T_HCI-001_Patient_tumor_R1.fastq.gz'</li><li>'0704112-T_HCI-001_Patient_tumor_R2.fastq.gz'</li><li>'0704112-X_HCI-001_PDXtumor_R1.fastq.gz'</li><li>'0704112-X_HCI-001_PDXtumor_R2.fastq.gz'</li><li>'0900570-B_HCI-002_Patient_normal_R1.fastq.gz'</li><li>'0900570-B_HCI-002_Patient_normal_R2.fastq.gz'</li><li>'0900570-T_HCI-002_Patient_tumor_R1.fastq.gz'</li><li>'0900570-T_HCI-002_Patient_tumor_R2.fastq.gz'</li><li>'0900570-X_HCI-002_PDXtumor_R1.fastq.gz'</li><li>'0900570-X_HCI-002_PDXtumor_R2.fastq.gz'</li><li>'0900642-T_HCI-009_Patient_tumor_R1.fastq.gz'</li><li>'0900642-T_HCI-009_Patient_tumor_R2.fastq.gz'</li><li>'0900642-X_HCI-009_PDXtumor_R1.fastq.gz'</li><li>'0900642-X_HCI-009_PDXtumor_R2.fastq.gz'</li><li>'0903211-B_HCI-010_Patient_normal_R1.fastq.gz'</li><li>'0903211-B_HCI-010_Patient_normal_R2.fastq.gz'</li><li>'0903211-T_HCI-010_Patient_tumor_R1.fastq.gz'</li><li>'0903211-T_HCI-010_Patient_tumor_R2.fastq.gz'</li><li>'0903211-X_HCI-010_PDXtumor_R1.fastq.gz'</li><li>'0903211-X_HCI-010_PDXtumor_R2.fastq.gz'</li><li>'0903293-T_HCI-003_Patient_tumor_R1.fastq.gz'</li><li>'0903293-T_HCI-003_Patient_tumor_R2.fastq.gz'</li><li>'0903293-X_HCI-003_PDXtumor_R1.fastq.gz'</li><li>'0903293-X_HCI-003_PDXtumor_R2.fastq.gz'</li><li>'0907163-T_HCI-011_Patient_tumor_R1.fastq.gz'</li><li>'0907163-T_HCI-011_Patient_tumor_R2.fastq.gz'</li><li>'0907163-X_HCI-011_PDXtumor_R1.fastq.gz'</li><li>'0907163-X_HCI-011_PDXtumor_R2.fastq.gz'</li><li>'0907177-T_HCI-004_Patient_tumor_R1.fastq.gz'</li><li>'0907177-T_HCI-004_Patient_tumor_R2.fastq.gz'</li><li>'0908104-T_HCI-012_Patient_tumor_R1.fastq.gz'</li><li>'0908104-T_HCI-012_Patient_tumor_R2.fastq.gz'</li><li>'0908263-T_HCI-007_Patient_tumor_R1.fastq.gz'</li><li>'0908263-T_HCI-007_Patient_tumor_R2.fastq.gz'</li><li>'0908263-X_HCI-007_PDXtumor_R1.fastq.gz'</li><li>'0908263-X_HCI-007_PDXtumor_R2.fastq.gz'</li><li>'1-AM-0245_S1_R1.fastq.gz'</li><li>'1-AM-0245_S1_R2.fastq.gz'</li><li>'1-AM0245_S1_1.fastq'</li><li>'1-AM0245_S1_2.fastq'</li><li>'1007496-T_HCI-005_Patient_tumor_R1.fastq.gz'</li><li>'1007496-T_HCI-005_Patient_tumor_R2.fastq.gz'</li><li>'1007496-X_HCI-005_PDXtumor_R1.fastq.gz'</li><li>'1007496-X_HCI-005_PDXtumor_R2.fastq.gz'</li><li>'1007649-B_HCI-008_Patient_normal_R1.fastq.gz'</li><li>'1007649-B_HCI-008_Patient_normal_R2.fastq.gz'</li><li>'1007649-T_HCI-008_Patient_tumor_R1.fastq.gz'</li><li>'1007649-T_HCI-008_Patient_tumor_R2.fastq.gz'</li><li>'1007649-X_HCI-008_PDXtumor_R1.fastq.gz'</li><li>'1007649-X_HCI-008_PDXtumor_R2.fastq.gz'</li><li>'2-CK-2021_S2_R1.fastq.gz'</li><li>'2-CK-2021_S2_R2.fastq.gz'</li><li>'2-CK2021_S2_1.fastq'</li><li>'2-CK2021_S2_2.fastq'</li><li>'3-CK-0643_S3_R1.fastq.gz'</li><li>'3-CK-0643_S3_R2.fastq.gz'</li><li>'3-CK0643_S3_1.fastq'</li><li>'3-CK0643_S3_2.fastq'</li></ol>\n"
      ],
      "text/latex": [
       "\\begin{enumerate*}\n",
       "\\item '0704112-T\\_HCI-001\\_Patient\\_tumor\\_R1.fastq.gz'\n",
       "\\item '0704112-T\\_HCI-001\\_Patient\\_tumor\\_R2.fastq.gz'\n",
       "\\item '0704112-X\\_HCI-001\\_PDXtumor\\_R1.fastq.gz'\n",
       "\\item '0704112-X\\_HCI-001\\_PDXtumor\\_R2.fastq.gz'\n",
       "\\item '0900570-B\\_HCI-002\\_Patient\\_normal\\_R1.fastq.gz'\n",
       "\\item '0900570-B\\_HCI-002\\_Patient\\_normal\\_R2.fastq.gz'\n",
       "\\item '0900570-T\\_HCI-002\\_Patient\\_tumor\\_R1.fastq.gz'\n",
       "\\item '0900570-T\\_HCI-002\\_Patient\\_tumor\\_R2.fastq.gz'\n",
       "\\item '0900570-X\\_HCI-002\\_PDXtumor\\_R1.fastq.gz'\n",
       "\\item '0900570-X\\_HCI-002\\_PDXtumor\\_R2.fastq.gz'\n",
       "\\item '0900642-T\\_HCI-009\\_Patient\\_tumor\\_R1.fastq.gz'\n",
       "\\item '0900642-T\\_HCI-009\\_Patient\\_tumor\\_R2.fastq.gz'\n",
       "\\item '0900642-X\\_HCI-009\\_PDXtumor\\_R1.fastq.gz'\n",
       "\\item '0900642-X\\_HCI-009\\_PDXtumor\\_R2.fastq.gz'\n",
       "\\item '0903211-B\\_HCI-010\\_Patient\\_normal\\_R1.fastq.gz'\n",
       "\\item '0903211-B\\_HCI-010\\_Patient\\_normal\\_R2.fastq.gz'\n",
       "\\item '0903211-T\\_HCI-010\\_Patient\\_tumor\\_R1.fastq.gz'\n",
       "\\item '0903211-T\\_HCI-010\\_Patient\\_tumor\\_R2.fastq.gz'\n",
       "\\item '0903211-X\\_HCI-010\\_PDXtumor\\_R1.fastq.gz'\n",
       "\\item '0903211-X\\_HCI-010\\_PDXtumor\\_R2.fastq.gz'\n",
       "\\item '0903293-T\\_HCI-003\\_Patient\\_tumor\\_R1.fastq.gz'\n",
       "\\item '0903293-T\\_HCI-003\\_Patient\\_tumor\\_R2.fastq.gz'\n",
       "\\item '0903293-X\\_HCI-003\\_PDXtumor\\_R1.fastq.gz'\n",
       "\\item '0903293-X\\_HCI-003\\_PDXtumor\\_R2.fastq.gz'\n",
       "\\item '0907163-T\\_HCI-011\\_Patient\\_tumor\\_R1.fastq.gz'\n",
       "\\item '0907163-T\\_HCI-011\\_Patient\\_tumor\\_R2.fastq.gz'\n",
       "\\item '0907163-X\\_HCI-011\\_PDXtumor\\_R1.fastq.gz'\n",
       "\\item '0907163-X\\_HCI-011\\_PDXtumor\\_R2.fastq.gz'\n",
       "\\item '0907177-T\\_HCI-004\\_Patient\\_tumor\\_R1.fastq.gz'\n",
       "\\item '0907177-T\\_HCI-004\\_Patient\\_tumor\\_R2.fastq.gz'\n",
       "\\item '0908104-T\\_HCI-012\\_Patient\\_tumor\\_R1.fastq.gz'\n",
       "\\item '0908104-T\\_HCI-012\\_Patient\\_tumor\\_R2.fastq.gz'\n",
       "\\item '0908263-T\\_HCI-007\\_Patient\\_tumor\\_R1.fastq.gz'\n",
       "\\item '0908263-T\\_HCI-007\\_Patient\\_tumor\\_R2.fastq.gz'\n",
       "\\item '0908263-X\\_HCI-007\\_PDXtumor\\_R1.fastq.gz'\n",
       "\\item '0908263-X\\_HCI-007\\_PDXtumor\\_R2.fastq.gz'\n",
       "\\item '1-AM-0245\\_S1\\_R1.fastq.gz'\n",
       "\\item '1-AM-0245\\_S1\\_R2.fastq.gz'\n",
       "\\item '1-AM0245\\_S1\\_1.fastq'\n",
       "\\item '1-AM0245\\_S1\\_2.fastq'\n",
       "\\item '1007496-T\\_HCI-005\\_Patient\\_tumor\\_R1.fastq.gz'\n",
       "\\item '1007496-T\\_HCI-005\\_Patient\\_tumor\\_R2.fastq.gz'\n",
       "\\item '1007496-X\\_HCI-005\\_PDXtumor\\_R1.fastq.gz'\n",
       "\\item '1007496-X\\_HCI-005\\_PDXtumor\\_R2.fastq.gz'\n",
       "\\item '1007649-B\\_HCI-008\\_Patient\\_normal\\_R1.fastq.gz'\n",
       "\\item '1007649-B\\_HCI-008\\_Patient\\_normal\\_R2.fastq.gz'\n",
       "\\item '1007649-T\\_HCI-008\\_Patient\\_tumor\\_R1.fastq.gz'\n",
       "\\item '1007649-T\\_HCI-008\\_Patient\\_tumor\\_R2.fastq.gz'\n",
       "\\item '1007649-X\\_HCI-008\\_PDXtumor\\_R1.fastq.gz'\n",
       "\\item '1007649-X\\_HCI-008\\_PDXtumor\\_R2.fastq.gz'\n",
       "\\item '2-CK-2021\\_S2\\_R1.fastq.gz'\n",
       "\\item '2-CK-2021\\_S2\\_R2.fastq.gz'\n",
       "\\item '2-CK2021\\_S2\\_1.fastq'\n",
       "\\item '2-CK2021\\_S2\\_2.fastq'\n",
       "\\item '3-CK-0643\\_S3\\_R1.fastq.gz'\n",
       "\\item '3-CK-0643\\_S3\\_R2.fastq.gz'\n",
       "\\item '3-CK0643\\_S3\\_1.fastq'\n",
       "\\item '3-CK0643\\_S3\\_2.fastq'\n",
       "\\end{enumerate*}\n"
      ],
      "text/markdown": [
       "1. '0704112-T_HCI-001_Patient_tumor_R1.fastq.gz'\n",
       "2. '0704112-T_HCI-001_Patient_tumor_R2.fastq.gz'\n",
       "3. '0704112-X_HCI-001_PDXtumor_R1.fastq.gz'\n",
       "4. '0704112-X_HCI-001_PDXtumor_R2.fastq.gz'\n",
       "5. '0900570-B_HCI-002_Patient_normal_R1.fastq.gz'\n",
       "6. '0900570-B_HCI-002_Patient_normal_R2.fastq.gz'\n",
       "7. '0900570-T_HCI-002_Patient_tumor_R1.fastq.gz'\n",
       "8. '0900570-T_HCI-002_Patient_tumor_R2.fastq.gz'\n",
       "9. '0900570-X_HCI-002_PDXtumor_R1.fastq.gz'\n",
       "10. '0900570-X_HCI-002_PDXtumor_R2.fastq.gz'\n",
       "11. '0900642-T_HCI-009_Patient_tumor_R1.fastq.gz'\n",
       "12. '0900642-T_HCI-009_Patient_tumor_R2.fastq.gz'\n",
       "13. '0900642-X_HCI-009_PDXtumor_R1.fastq.gz'\n",
       "14. '0900642-X_HCI-009_PDXtumor_R2.fastq.gz'\n",
       "15. '0903211-B_HCI-010_Patient_normal_R1.fastq.gz'\n",
       "16. '0903211-B_HCI-010_Patient_normal_R2.fastq.gz'\n",
       "17. '0903211-T_HCI-010_Patient_tumor_R1.fastq.gz'\n",
       "18. '0903211-T_HCI-010_Patient_tumor_R2.fastq.gz'\n",
       "19. '0903211-X_HCI-010_PDXtumor_R1.fastq.gz'\n",
       "20. '0903211-X_HCI-010_PDXtumor_R2.fastq.gz'\n",
       "21. '0903293-T_HCI-003_Patient_tumor_R1.fastq.gz'\n",
       "22. '0903293-T_HCI-003_Patient_tumor_R2.fastq.gz'\n",
       "23. '0903293-X_HCI-003_PDXtumor_R1.fastq.gz'\n",
       "24. '0903293-X_HCI-003_PDXtumor_R2.fastq.gz'\n",
       "25. '0907163-T_HCI-011_Patient_tumor_R1.fastq.gz'\n",
       "26. '0907163-T_HCI-011_Patient_tumor_R2.fastq.gz'\n",
       "27. '0907163-X_HCI-011_PDXtumor_R1.fastq.gz'\n",
       "28. '0907163-X_HCI-011_PDXtumor_R2.fastq.gz'\n",
       "29. '0907177-T_HCI-004_Patient_tumor_R1.fastq.gz'\n",
       "30. '0907177-T_HCI-004_Patient_tumor_R2.fastq.gz'\n",
       "31. '0908104-T_HCI-012_Patient_tumor_R1.fastq.gz'\n",
       "32. '0908104-T_HCI-012_Patient_tumor_R2.fastq.gz'\n",
       "33. '0908263-T_HCI-007_Patient_tumor_R1.fastq.gz'\n",
       "34. '0908263-T_HCI-007_Patient_tumor_R2.fastq.gz'\n",
       "35. '0908263-X_HCI-007_PDXtumor_R1.fastq.gz'\n",
       "36. '0908263-X_HCI-007_PDXtumor_R2.fastq.gz'\n",
       "37. '1-AM-0245_S1_R1.fastq.gz'\n",
       "38. '1-AM-0245_S1_R2.fastq.gz'\n",
       "39. '1-AM0245_S1_1.fastq'\n",
       "40. '1-AM0245_S1_2.fastq'\n",
       "41. '1007496-T_HCI-005_Patient_tumor_R1.fastq.gz'\n",
       "42. '1007496-T_HCI-005_Patient_tumor_R2.fastq.gz'\n",
       "43. '1007496-X_HCI-005_PDXtumor_R1.fastq.gz'\n",
       "44. '1007496-X_HCI-005_PDXtumor_R2.fastq.gz'\n",
       "45. '1007649-B_HCI-008_Patient_normal_R1.fastq.gz'\n",
       "46. '1007649-B_HCI-008_Patient_normal_R2.fastq.gz'\n",
       "47. '1007649-T_HCI-008_Patient_tumor_R1.fastq.gz'\n",
       "48. '1007649-T_HCI-008_Patient_tumor_R2.fastq.gz'\n",
       "49. '1007649-X_HCI-008_PDXtumor_R1.fastq.gz'\n",
       "50. '1007649-X_HCI-008_PDXtumor_R2.fastq.gz'\n",
       "51. '2-CK-2021_S2_R1.fastq.gz'\n",
       "52. '2-CK-2021_S2_R2.fastq.gz'\n",
       "53. '2-CK2021_S2_1.fastq'\n",
       "54. '2-CK2021_S2_2.fastq'\n",
       "55. '3-CK-0643_S3_R1.fastq.gz'\n",
       "56. '3-CK-0643_S3_R2.fastq.gz'\n",
       "57. '3-CK0643_S3_1.fastq'\n",
       "58. '3-CK0643_S3_2.fastq'\n",
       "\n",
       "\n"
      ],
      "text/plain": [
       " [1] \"0704112-T_HCI-001_Patient_tumor_R1.fastq.gz\" \n",
       " [2] \"0704112-T_HCI-001_Patient_tumor_R2.fastq.gz\" \n",
       " [3] \"0704112-X_HCI-001_PDXtumor_R1.fastq.gz\"      \n",
       " [4] \"0704112-X_HCI-001_PDXtumor_R2.fastq.gz\"      \n",
       " [5] \"0900570-B_HCI-002_Patient_normal_R1.fastq.gz\"\n",
       " [6] \"0900570-B_HCI-002_Patient_normal_R2.fastq.gz\"\n",
       " [7] \"0900570-T_HCI-002_Patient_tumor_R1.fastq.gz\" \n",
       " [8] \"0900570-T_HCI-002_Patient_tumor_R2.fastq.gz\" \n",
       " [9] \"0900570-X_HCI-002_PDXtumor_R1.fastq.gz\"      \n",
       "[10] \"0900570-X_HCI-002_PDXtumor_R2.fastq.gz\"      \n",
       "[11] \"0900642-T_HCI-009_Patient_tumor_R1.fastq.gz\" \n",
       "[12] \"0900642-T_HCI-009_Patient_tumor_R2.fastq.gz\" \n",
       "[13] \"0900642-X_HCI-009_PDXtumor_R1.fastq.gz\"      \n",
       "[14] \"0900642-X_HCI-009_PDXtumor_R2.fastq.gz\"      \n",
       "[15] \"0903211-B_HCI-010_Patient_normal_R1.fastq.gz\"\n",
       "[16] \"0903211-B_HCI-010_Patient_normal_R2.fastq.gz\"\n",
       "[17] \"0903211-T_HCI-010_Patient_tumor_R1.fastq.gz\" \n",
       "[18] \"0903211-T_HCI-010_Patient_tumor_R2.fastq.gz\" \n",
       "[19] \"0903211-X_HCI-010_PDXtumor_R1.fastq.gz\"      \n",
       "[20] \"0903211-X_HCI-010_PDXtumor_R2.fastq.gz\"      \n",
       "[21] \"0903293-T_HCI-003_Patient_tumor_R1.fastq.gz\" \n",
       "[22] \"0903293-T_HCI-003_Patient_tumor_R2.fastq.gz\" \n",
       "[23] \"0903293-X_HCI-003_PDXtumor_R1.fastq.gz\"      \n",
       "[24] \"0903293-X_HCI-003_PDXtumor_R2.fastq.gz\"      \n",
       "[25] \"0907163-T_HCI-011_Patient_tumor_R1.fastq.gz\" \n",
       "[26] \"0907163-T_HCI-011_Patient_tumor_R2.fastq.gz\" \n",
       "[27] \"0907163-X_HCI-011_PDXtumor_R1.fastq.gz\"      \n",
       "[28] \"0907163-X_HCI-011_PDXtumor_R2.fastq.gz\"      \n",
       "[29] \"0907177-T_HCI-004_Patient_tumor_R1.fastq.gz\" \n",
       "[30] \"0907177-T_HCI-004_Patient_tumor_R2.fastq.gz\" \n",
       "[31] \"0908104-T_HCI-012_Patient_tumor_R1.fastq.gz\" \n",
       "[32] \"0908104-T_HCI-012_Patient_tumor_R2.fastq.gz\" \n",
       "[33] \"0908263-T_HCI-007_Patient_tumor_R1.fastq.gz\" \n",
       "[34] \"0908263-T_HCI-007_Patient_tumor_R2.fastq.gz\" \n",
       "[35] \"0908263-X_HCI-007_PDXtumor_R1.fastq.gz\"      \n",
       "[36] \"0908263-X_HCI-007_PDXtumor_R2.fastq.gz\"      \n",
       "[37] \"1-AM-0245_S1_R1.fastq.gz\"                    \n",
       "[38] \"1-AM-0245_S1_R2.fastq.gz\"                    \n",
       "[39] \"1-AM0245_S1_1.fastq\"                         \n",
       "[40] \"1-AM0245_S1_2.fastq\"                         \n",
       "[41] \"1007496-T_HCI-005_Patient_tumor_R1.fastq.gz\" \n",
       "[42] \"1007496-T_HCI-005_Patient_tumor_R2.fastq.gz\" \n",
       "[43] \"1007496-X_HCI-005_PDXtumor_R1.fastq.gz\"      \n",
       "[44] \"1007496-X_HCI-005_PDXtumor_R2.fastq.gz\"      \n",
       "[45] \"1007649-B_HCI-008_Patient_normal_R1.fastq.gz\"\n",
       "[46] \"1007649-B_HCI-008_Patient_normal_R2.fastq.gz\"\n",
       "[47] \"1007649-T_HCI-008_Patient_tumor_R1.fastq.gz\" \n",
       "[48] \"1007649-T_HCI-008_Patient_tumor_R2.fastq.gz\" \n",
       "[49] \"1007649-X_HCI-008_PDXtumor_R1.fastq.gz\"      \n",
       "[50] \"1007649-X_HCI-008_PDXtumor_R2.fastq.gz\"      \n",
       "[51] \"2-CK-2021_S2_R1.fastq.gz\"                    \n",
       "[52] \"2-CK-2021_S2_R2.fastq.gz\"                    \n",
       "[53] \"2-CK2021_S2_1.fastq\"                         \n",
       "[54] \"2-CK2021_S2_2.fastq\"                         \n",
       "[55] \"3-CK-0643_S3_R1.fastq.gz\"                    \n",
       "[56] \"3-CK-0643_S3_R2.fastq.gz\"                    \n",
       "[57] \"3-CK0643_S3_1.fastq\"                         \n",
       "[58] \"3-CK0643_S3_2.fastq\"                         "
      ]
     },
     "metadata": {},
     "output_type": "display_data"
    }
   ],
   "source": [
    "duplicates <- (pdtc_metadata$file_name %>% table() %>% as.data.frame() %>% filter(Freq > 1))[, 1] %>% as.character()\n",
    "\n",
    "length(duplicates)\n",
    "duplicates"
   ]
  },
  {
   "cell_type": "code",
   "execution_count": 4,
   "id": "8232d994-4475-417d-b1b2-bfae5bdc9b5c",
   "metadata": {},
   "outputs": [],
   "source": [
    "# Look at the metadata for only the duplicates externally\n",
    "\n",
    "duplicates <- filter(pdtc_metadata, file_name %in% duplicates) %>% arrange(file_name)\n",
    "\n",
    "write_csv(duplicates, '2022-02-25_pdtc_duplicate_files.csv')"
   ]
  },
  {
   "cell_type": "markdown",
   "id": "10ed7cc0-7927-46e8-b8b8-50fdfe9c6d69",
   "metadata": {},
   "source": [
    "### Remove duplicates"
   ]
  },
  {
   "cell_type": "markdown",
   "id": "3b6aa16c-5d6b-4ec1-b83f-ec67b5a5b35e",
   "metadata": {},
   "source": [
    "It appears, from visual inspection, that all the HCI duplicates have 1 in the paired end column even if they should have 2. They also have NA in the capture assembly column."
   ]
  },
  {
   "cell_type": "code",
   "execution_count": 6,
   "id": "45ff330f-e917-49bc-b7d8-f8d4bbafd58d",
   "metadata": {},
   "outputs": [
    {
     "data": {
      "text/html": [
       "92"
      ],
      "text/latex": [
       "92"
      ],
      "text/markdown": [
       "92"
      ],
      "text/plain": [
       "[1] 92"
      ]
     },
     "metadata": {},
     "output_type": "display_data"
    },
    {
     "data": {
      "text/html": [
       "46"
      ],
      "text/latex": [
       "46"
      ],
      "text/markdown": [
       "46"
      ],
      "text/plain": [
       "[1] 46"
      ]
     },
     "metadata": {},
     "output_type": "display_data"
    },
    {
     "data": {
      "text/html": [
       "TRUE"
      ],
      "text/latex": [
       "TRUE"
      ],
      "text/markdown": [
       "TRUE"
      ],
      "text/plain": [
       "[1] TRUE"
      ]
     },
     "metadata": {},
     "output_type": "display_data"
    }
   ],
   "source": [
    "# Verify that all HCI duplicates have a 1 in paired_end and NA in capture_assembly\n",
    "\n",
    "# How many HCI duplicates?\n",
    "duplicates %>% filter(contributor == 'HCI') %>% nrow()\n",
    "\n",
    "# Half of those should have NA in the capture assembly\n",
    "duplicates %>% filter(contributor == 'HCI' & is.na(capture_assembly)) %>% nrow()\n",
    "(duplicates %>% filter(contributor == 'HCI') %>% nrow()) * 0.5 == (duplicates %>% filter(contributor == 'HCI' & is.na(capture_assembly)) %>% nrow())"
   ]
  },
  {
   "cell_type": "code",
   "execution_count": 7,
   "id": "91ba630c-b22f-491f-96b7-524b21980a23",
   "metadata": {},
   "outputs": [],
   "source": [
    "# Create a list of HCI files to remove\n",
    "\n",
    "hci_to_remove <- duplicates %>% filter(contributor == 'HCI' & is.na(capture_assembly))"
   ]
  },
  {
   "cell_type": "code",
   "execution_count": 10,
   "id": "0300766f-92f0-4645-aca6-4d34a0f63bdb",
   "metadata": {},
   "outputs": [
    {
     "data": {
      "text/html": [
       "2146"
      ],
      "text/latex": [
       "2146"
      ],
      "text/markdown": [
       "2146"
      ],
      "text/plain": [
       "[1] 2146"
      ]
     },
     "metadata": {},
     "output_type": "display_data"
    },
    {
     "data": {
      "text/html": [
       "TRUE"
      ],
      "text/latex": [
       "TRUE"
      ],
      "text/markdown": [
       "TRUE"
      ],
      "text/plain": [
       "[1] TRUE"
      ]
     },
     "metadata": {},
     "output_type": "display_data"
    }
   ],
   "source": [
    "# Remove HCI duplicates by their unique index\n",
    "\n",
    "pdtc_metadata_cleaned <- pdtc_metadata %>% filter(!(...1 %in% hci_to_remove$...1))\n",
    "nrow(pdtc_metadata_cleaned)\n",
    "\n",
    "# Check the number of remaining files makes sense\n",
    "nrow(pdtc_metadata_cleaned) == (nrow(pdtc_metadata) - 46)"
   ]
  },
  {
   "cell_type": "markdown",
   "id": "fda80124-336b-4a52-af4e-5c62e5aa511c",
   "metadata": {},
   "source": [
    "For the WISTAR files, these are actually from the TMZ Paper. I have the metadata for these as well. Duplicates were caused by table merges, but can be fixed with this metadata source."
   ]
  },
  {
   "cell_type": "code",
   "execution_count": 12,
   "id": "4792613b-3085-4410-93c6-dbd3ef89fbd4",
   "metadata": {},
   "outputs": [
    {
     "data": {
      "text/html": [
       "<table class=\"dataframe\">\n",
       "<caption>A tibble: 24 × 23</caption>\n",
       "<thead>\n",
       "\t<tr><th scope=col>Center</th><th scope=col>Sex</th><th scope=col>Age at Primary Diagnosis</th><th scope=col>Tumor ID</th><th scope=col>Collection Procedure</th><th scope=col>Age at collection</th><th scope=col>Initial Diagnosis</th><th scope=col>Clinical Event Point</th><th scope=col>Primary Tumor Origin</th><th scope=col>Specimen Tissue</th><th scope=col>⋯</th><th scope=col>Model ID</th><th scope=col>Data Format</th><th scope=col>Data Type</th><th scope=col>Sample Type</th><th scope=col>Experimental Strategy</th><th scope=col>Platform</th><th scope=col>Capture Kit</th><th scope=col>Capture Assembly</th><th scope=col>Is FFPE</th><th scope=col>Passage</th></tr>\n",
       "\t<tr><th scope=col>&lt;chr&gt;</th><th scope=col>&lt;chr&gt;</th><th scope=col>&lt;chr&gt;</th><th scope=col>&lt;chr&gt;</th><th scope=col>&lt;chr&gt;</th><th scope=col>&lt;dbl&gt;</th><th scope=col>&lt;chr&gt;</th><th scope=col>&lt;chr&gt;</th><th scope=col>&lt;chr&gt;</th><th scope=col>&lt;chr&gt;</th><th scope=col>⋯</th><th scope=col>&lt;chr&gt;</th><th scope=col>&lt;chr&gt;</th><th scope=col>&lt;chr&gt;</th><th scope=col>&lt;chr&gt;</th><th scope=col>&lt;chr&gt;</th><th scope=col>&lt;chr&gt;</th><th scope=col>&lt;chr&gt;</th><th scope=col>&lt;chr&gt;</th><th scope=col>&lt;chr&gt;</th><th scope=col>&lt;chr&gt;</th></tr>\n",
       "</thead>\n",
       "<tbody>\n",
       "\t<tr><td>Huntsman</td><td>Female</td><td>ND</td><td>F563 </td><td>Resection    </td><td>77</td><td>Urothelial/Bladder Cancer</td><td>Initial diagnosis  </td><td>Bladder</td><td>Bladder </td><td>⋯</td><td> BL0293-F563   </td><td>TXT.GZ  </td><td>Raw Reads    </td><td>PDX</td><td>RNA-Seq</td><td>Illumina HiSeq</td><td>IlluminaTruSeqStandardRNAkitwithRiboZeroGold</td><td>NA                                     </td><td>No</td><td>NA</td></tr>\n",
       "\t<tr><td>MDA     </td><td>Female</td><td>ND</td><td>F563 </td><td>Resection    </td><td>77</td><td>Urothelial/Bladder Cancer</td><td>Initial diagnosis  </td><td>Bladder</td><td>Bladder </td><td>⋯</td><td> BL0293-F563   </td><td>FASTQ.GZ</td><td>Raw Reads    </td><td>PDX</td><td>RNA-Seq</td><td>Illumina HiSeq</td><td>Kapa stranded mRNA-Seq Kit                  </td><td>NA                                     </td><td>No</td><td>P1</td></tr>\n",
       "\t<tr><td>WashU   </td><td>Female</td><td>ND</td><td>F563 </td><td>Resection    </td><td>77</td><td>Urothelial/Bladder Cancer</td><td>Initial diagnosis  </td><td>Bladder</td><td>Bladder </td><td>⋯</td><td>BL0293-F563_SL </td><td>FASTQ.GZ</td><td>Raw Reads    </td><td>PDX</td><td>RNA-Seq</td><td>NovaSeq S4    </td><td>TruSeq Stranded Total RNA                   </td><td>NA                                     </td><td>No</td><td>P5</td></tr>\n",
       "\t<tr><td>Wistar  </td><td>Female</td><td>ND</td><td>F563 </td><td>Resection    </td><td>77</td><td>Urothelial/Bladder Cancer</td><td>Initial diagnosis  </td><td>Bladder</td><td>Bladder </td><td>⋯</td><td>AM0245         </td><td>FASTQ   </td><td>Raw Reads    </td><td>PDX</td><td>RNA-Seq</td><td>Illumina      </td><td>Lexogen mRNA                                </td><td>NA                                     </td><td>No</td><td>NA</td></tr>\n",
       "\t<tr><td>Huntsman</td><td>Female</td><td>43</td><td>121-T</td><td>Needle Biopsy</td><td>46</td><td>Adenocarcinoma           </td><td>Distant Metastatsis</td><td>Colon  </td><td>Liver   </td><td>⋯</td><td>172845-121-T   </td><td>TXT.GZ  </td><td>Raw Reads    </td><td>PDX</td><td>RNA-Seq</td><td>Illumina HiSeq</td><td>IlluminaTruSeqStandardRNAkitwithRiboZeroGold</td><td>NA                                     </td><td>No</td><td>NA</td></tr>\n",
       "\t<tr><td>MDA     </td><td>Female</td><td>43</td><td>121-T</td><td>Needle Biopsy</td><td>46</td><td>Adenocarcinoma           </td><td>Distant Metastatsis</td><td>Colon  </td><td>Liver   </td><td>⋯</td><td>172845-121-T   </td><td>FASTQ.GZ</td><td>Raw Reads    </td><td>PDX</td><td>RNA-Seq</td><td>Illumina HiSeq</td><td>Kapa stranded mRNA-Seq Kit                  </td><td>NA                                     </td><td>No</td><td>P1</td></tr>\n",
       "\t<tr><td>WashU   </td><td>Female</td><td>43</td><td>121-T</td><td>Needle Biopsy</td><td>46</td><td>Adenocarcinoma           </td><td>Distant Metastatsis</td><td>Colon  </td><td>Liver   </td><td>⋯</td><td>172845-121-T_SL</td><td>FASTQ.GZ</td><td>Raw Reads    </td><td>PDX</td><td>RNA-Seq</td><td>NovaSeq S4    </td><td>TruSeq Stranded Total RNA                   </td><td>NA                                     </td><td>No</td><td>P3</td></tr>\n",
       "\t<tr><td>Wistar  </td><td>Female</td><td>43</td><td>121-T</td><td>Needle Biopsy</td><td>46</td><td>Adenocarcinoma           </td><td>Distant Metastatsis</td><td>Colon  </td><td>Liver   </td><td>⋯</td><td>CK0643         </td><td>FASTQ   </td><td>Raw Reads    </td><td>PDX</td><td>RNA-Seq</td><td>Illumina      </td><td>Lexogen mRNA                                </td><td>NA                                     </td><td>No</td><td>NA</td></tr>\n",
       "\t<tr><td>Huntsman</td><td>Female</td><td>66</td><td>104-R</td><td>Resection    </td><td>66</td><td>Adenocarcinoma           </td><td>Distant Metastatsis</td><td>Colon  </td><td>Shoulder</td><td>⋯</td><td>625472-104-R   </td><td>TXT.GZ  </td><td>Raw Reads    </td><td>PDX</td><td>RNA-Seq</td><td>Illumina HiSeq</td><td>IlluminaTruSeqStandardRNAkitwithRiboZeroGold</td><td>NA                                     </td><td>No</td><td>NA</td></tr>\n",
       "\t<tr><td>MDA     </td><td>Female</td><td>66</td><td>104-R</td><td>Resection    </td><td>66</td><td>Adenocarcinoma           </td><td>Distant Metastatsis</td><td>Colon  </td><td>Shoulder</td><td>⋯</td><td>625472-104-R   </td><td>FASTQ.GZ</td><td>Raw Reads    </td><td>PDX</td><td>RNA-Seq</td><td>Illumina HiSeq</td><td>Kapa stranded mRNA-Seq Kit                  </td><td>NA                                     </td><td>No</td><td>P1</td></tr>\n",
       "\t<tr><td>WashU   </td><td>Female</td><td>66</td><td>104-R</td><td>Resection    </td><td>66</td><td>Adenocarcinoma           </td><td>Distant Metastatsis</td><td>Colon  </td><td>Shoulder</td><td>⋯</td><td>625472-104-R_SL</td><td>FASTQ.GZ</td><td>Raw Reads    </td><td>PDX</td><td>RNA-Seq</td><td>NovaSeq S4    </td><td>TruSeq Stranded Total RNA                   </td><td>NA                                     </td><td>No</td><td>P2</td></tr>\n",
       "\t<tr><td>Wistar  </td><td>Female</td><td>66</td><td>104-R</td><td>Resection    </td><td>66</td><td>Adenocarcinoma           </td><td>Distant Metastatsis</td><td>Colon  </td><td>Shoulder</td><td>⋯</td><td>CK2021         </td><td>FASTQ   </td><td>Raw Reads    </td><td>PDX</td><td>RNA-Seq</td><td>Illumina      </td><td>Lexogen mRNA                                </td><td>NA                                     </td><td>No</td><td>NA</td></tr>\n",
       "\t<tr><td>Huntsman</td><td>Female</td><td>ND</td><td>F563 </td><td>Resection    </td><td>77</td><td>Urothelial/Bladder Cancer</td><td>Initial diagnosis  </td><td>Bladder</td><td>Bladder </td><td>⋯</td><td> BL0293-F563   </td><td>FASTQ.GZ</td><td>Raw Reads    </td><td>PDX</td><td>WES    </td><td>Illumina HiSeq</td><td>AgilentSureSelectXThumanAllExonV6-COSMIC    </td><td>NA                                     </td><td>No</td><td>NA</td></tr>\n",
       "\t<tr><td>MDA     </td><td>Female</td><td>ND</td><td>F563 </td><td>Resection    </td><td>77</td><td>Urothelial/Bladder Cancer</td><td>Initial diagnosis  </td><td>Bladder</td><td>Bladder </td><td>⋯</td><td> BL0293-F563   </td><td>FASTQ.GZ</td><td>Raw Reads    </td><td>PDX</td><td>WES    </td><td>Illumina HiSeq</td><td>AgilentSureSelectXThumanAllExonV6-COSMIC    </td><td>NA                                     </td><td>No</td><td>P1</td></tr>\n",
       "\t<tr><td>WashU   </td><td>Female</td><td>ND</td><td>F563 </td><td>Resection    </td><td>77</td><td>Urothelial/Bladder Cancer</td><td>Initial diagnosis  </td><td>Bladder</td><td>Bladder </td><td>⋯</td><td>BL0293-F563_SL </td><td>CRAM    </td><td>Aligned Reads</td><td>PDX</td><td>WES    </td><td>NovaSeq S4    </td><td>IDT Exome                                   </td><td>GRCh38_full_analysis_set_plus_decoy_hla</td><td>No</td><td>P5</td></tr>\n",
       "\t<tr><td>Wistar  </td><td>Female</td><td>ND</td><td>F563 </td><td>Resection    </td><td>77</td><td>Urothelial/Bladder Cancer</td><td>Initial diagnosis  </td><td>Bladder</td><td>Bladder </td><td>⋯</td><td>CK0643         </td><td>FASTQ.GZ</td><td>Raw Reads    </td><td>PDX</td><td>WES    </td><td>Illumina      </td><td>Nextera DNA Exome                           </td><td>NA                                     </td><td>No</td><td>NA</td></tr>\n",
       "\t<tr><td>Huntsman</td><td>Female</td><td>43</td><td>121-T</td><td>Needle Biopsy</td><td>46</td><td>Adenocarcinoma           </td><td>Distant Metastatsis</td><td>Colon  </td><td>Liver   </td><td>⋯</td><td>172845-121-T   </td><td>FASTQ.GZ</td><td>Raw Reads    </td><td>PDX</td><td>WES    </td><td>Illumina HiSeq</td><td>AgilentSureSelectXThumanAllExonV6-COSMIC    </td><td>NA                                     </td><td>No</td><td>NA</td></tr>\n",
       "\t<tr><td>MDA     </td><td>Female</td><td>43</td><td>121-T</td><td>Needle Biopsy</td><td>46</td><td>Adenocarcinoma           </td><td>Distant Metastatsis</td><td>Colon  </td><td>Liver   </td><td>⋯</td><td>172845-121-T   </td><td>FASTQ.GZ</td><td>Raw Reads    </td><td>PDX</td><td>WES    </td><td>Illumina HiSeq</td><td>AgilentSureSelectXThumanAllExonV6-COSMIC    </td><td>NA                                     </td><td>No</td><td>P1</td></tr>\n",
       "\t<tr><td>WashU   </td><td>Female</td><td>43</td><td>121-T</td><td>Needle Biopsy</td><td>46</td><td>Adenocarcinoma           </td><td>Distant Metastatsis</td><td>Colon  </td><td>Liver   </td><td>⋯</td><td>172845-121-T_SL</td><td>CRAM    </td><td>Aligned Reads</td><td>PDX</td><td>WES    </td><td>NovaSeq S4    </td><td>IDT Exome                                   </td><td>GRCh38_full_analysis_set_plus_decoy_hla</td><td>No</td><td>P3</td></tr>\n",
       "\t<tr><td>Wistar  </td><td>Female</td><td>43</td><td>121-T</td><td>Needle Biopsy</td><td>46</td><td>Adenocarcinoma           </td><td>Distant Metastatsis</td><td>Colon  </td><td>Liver   </td><td>⋯</td><td>CK2021         </td><td>FASTQ.GZ</td><td>Raw Reads    </td><td>PDX</td><td>WES    </td><td>Illumina      </td><td>Nextera DNA Exome                           </td><td>NA                                     </td><td>No</td><td>NA</td></tr>\n",
       "\t<tr><td>Huntsman</td><td>Female</td><td>66</td><td>104-R</td><td>Resection    </td><td>66</td><td>Adenocarcinoma           </td><td>Distant Metastatsis</td><td>Colon  </td><td>Shoulder</td><td>⋯</td><td>625472-104-R   </td><td>FASTQ.GZ</td><td>Raw Reads    </td><td>PDX</td><td>WES    </td><td>Illumina HiSeq</td><td>AgilentSureSelectXThumanAllExonV6-COSMIC    </td><td>NA                                     </td><td>No</td><td>NA</td></tr>\n",
       "\t<tr><td>MDA     </td><td>Female</td><td>66</td><td>104-R</td><td>Resection    </td><td>66</td><td>Adenocarcinoma           </td><td>Distant Metastatsis</td><td>Colon  </td><td>Shoulder</td><td>⋯</td><td>625472-104-R   </td><td>FASTQ.GZ</td><td>Raw Reads    </td><td>PDX</td><td>WES    </td><td>Illumina HiSeq</td><td>AgilentSureSelectXThumanAllExonV6-COSMIC    </td><td>NA                                     </td><td>No</td><td>P1</td></tr>\n",
       "\t<tr><td>WashU   </td><td>Female</td><td>66</td><td>104-R</td><td>Resection    </td><td>66</td><td>Adenocarcinoma           </td><td>Distant Metastatsis</td><td>Colon  </td><td>Shoulder</td><td>⋯</td><td>625472-104-R_SL</td><td>CRAM    </td><td>Aligned Reads</td><td>PDX</td><td>WES    </td><td>NovaSeq S4    </td><td>IDT Exome                                   </td><td>GRCh38_full_analysis_set_plus_decoy_hla</td><td>No</td><td>P2</td></tr>\n",
       "\t<tr><td>Wistar  </td><td>Female</td><td>66</td><td>104-R</td><td>Resection    </td><td>66</td><td>Adenocarcinoma           </td><td>Distant Metastatsis</td><td>Colon  </td><td>Shoulder</td><td>⋯</td><td>AM0245         </td><td>FASTQ.GZ</td><td>Raw Reads    </td><td>PDX</td><td>WES    </td><td>Illumina      </td><td>Nextera DNA Exome                           </td><td>NA                                     </td><td>No</td><td>NA</td></tr>\n",
       "</tbody>\n",
       "</table>\n"
      ],
      "text/latex": [
       "A tibble: 24 × 23\n",
       "\\begin{tabular}{lllllllllllllllllllll}\n",
       " Center & Sex & Age at Primary Diagnosis & Tumor ID & Collection Procedure & Age at collection & Initial Diagnosis & Clinical Event Point & Primary Tumor Origin & Specimen Tissue & ⋯ & Model ID & Data Format & Data Type & Sample Type & Experimental Strategy & Platform & Capture Kit & Capture Assembly & Is FFPE & Passage\\\\\n",
       " <chr> & <chr> & <chr> & <chr> & <chr> & <dbl> & <chr> & <chr> & <chr> & <chr> & ⋯ & <chr> & <chr> & <chr> & <chr> & <chr> & <chr> & <chr> & <chr> & <chr> & <chr>\\\\\n",
       "\\hline\n",
       "\t Huntsman & Female & ND & F563  & Resection     & 77 & Urothelial/Bladder Cancer & Initial diagnosis   & Bladder & Bladder  & ⋯ &  BL0293-F563    & TXT.GZ   & Raw Reads     & PDX & RNA-Seq & Illumina HiSeq & IlluminaTruSeqStandardRNAkitwithRiboZeroGold & NA                                      & No & NA\\\\\n",
       "\t MDA      & Female & ND & F563  & Resection     & 77 & Urothelial/Bladder Cancer & Initial diagnosis   & Bladder & Bladder  & ⋯ &  BL0293-F563    & FASTQ.GZ & Raw Reads     & PDX & RNA-Seq & Illumina HiSeq & Kapa stranded mRNA-Seq Kit                   & NA                                      & No & P1\\\\\n",
       "\t WashU    & Female & ND & F563  & Resection     & 77 & Urothelial/Bladder Cancer & Initial diagnosis   & Bladder & Bladder  & ⋯ & BL0293-F563\\_SL  & FASTQ.GZ & Raw Reads     & PDX & RNA-Seq & NovaSeq S4     & TruSeq Stranded Total RNA                    & NA                                      & No & P5\\\\\n",
       "\t Wistar   & Female & ND & F563  & Resection     & 77 & Urothelial/Bladder Cancer & Initial diagnosis   & Bladder & Bladder  & ⋯ & AM0245          & FASTQ    & Raw Reads     & PDX & RNA-Seq & Illumina       & Lexogen mRNA                                 & NA                                      & No & NA\\\\\n",
       "\t Huntsman & Female & 43 & 121-T & Needle Biopsy & 46 & Adenocarcinoma            & Distant Metastatsis & Colon   & Liver    & ⋯ & 172845-121-T    & TXT.GZ   & Raw Reads     & PDX & RNA-Seq & Illumina HiSeq & IlluminaTruSeqStandardRNAkitwithRiboZeroGold & NA                                      & No & NA\\\\\n",
       "\t MDA      & Female & 43 & 121-T & Needle Biopsy & 46 & Adenocarcinoma            & Distant Metastatsis & Colon   & Liver    & ⋯ & 172845-121-T    & FASTQ.GZ & Raw Reads     & PDX & RNA-Seq & Illumina HiSeq & Kapa stranded mRNA-Seq Kit                   & NA                                      & No & P1\\\\\n",
       "\t WashU    & Female & 43 & 121-T & Needle Biopsy & 46 & Adenocarcinoma            & Distant Metastatsis & Colon   & Liver    & ⋯ & 172845-121-T\\_SL & FASTQ.GZ & Raw Reads     & PDX & RNA-Seq & NovaSeq S4     & TruSeq Stranded Total RNA                    & NA                                      & No & P3\\\\\n",
       "\t Wistar   & Female & 43 & 121-T & Needle Biopsy & 46 & Adenocarcinoma            & Distant Metastatsis & Colon   & Liver    & ⋯ & CK0643          & FASTQ    & Raw Reads     & PDX & RNA-Seq & Illumina       & Lexogen mRNA                                 & NA                                      & No & NA\\\\\n",
       "\t Huntsman & Female & 66 & 104-R & Resection     & 66 & Adenocarcinoma            & Distant Metastatsis & Colon   & Shoulder & ⋯ & 625472-104-R    & TXT.GZ   & Raw Reads     & PDX & RNA-Seq & Illumina HiSeq & IlluminaTruSeqStandardRNAkitwithRiboZeroGold & NA                                      & No & NA\\\\\n",
       "\t MDA      & Female & 66 & 104-R & Resection     & 66 & Adenocarcinoma            & Distant Metastatsis & Colon   & Shoulder & ⋯ & 625472-104-R    & FASTQ.GZ & Raw Reads     & PDX & RNA-Seq & Illumina HiSeq & Kapa stranded mRNA-Seq Kit                   & NA                                      & No & P1\\\\\n",
       "\t WashU    & Female & 66 & 104-R & Resection     & 66 & Adenocarcinoma            & Distant Metastatsis & Colon   & Shoulder & ⋯ & 625472-104-R\\_SL & FASTQ.GZ & Raw Reads     & PDX & RNA-Seq & NovaSeq S4     & TruSeq Stranded Total RNA                    & NA                                      & No & P2\\\\\n",
       "\t Wistar   & Female & 66 & 104-R & Resection     & 66 & Adenocarcinoma            & Distant Metastatsis & Colon   & Shoulder & ⋯ & CK2021          & FASTQ    & Raw Reads     & PDX & RNA-Seq & Illumina       & Lexogen mRNA                                 & NA                                      & No & NA\\\\\n",
       "\t Huntsman & Female & ND & F563  & Resection     & 77 & Urothelial/Bladder Cancer & Initial diagnosis   & Bladder & Bladder  & ⋯ &  BL0293-F563    & FASTQ.GZ & Raw Reads     & PDX & WES     & Illumina HiSeq & AgilentSureSelectXThumanAllExonV6-COSMIC     & NA                                      & No & NA\\\\\n",
       "\t MDA      & Female & ND & F563  & Resection     & 77 & Urothelial/Bladder Cancer & Initial diagnosis   & Bladder & Bladder  & ⋯ &  BL0293-F563    & FASTQ.GZ & Raw Reads     & PDX & WES     & Illumina HiSeq & AgilentSureSelectXThumanAllExonV6-COSMIC     & NA                                      & No & P1\\\\\n",
       "\t WashU    & Female & ND & F563  & Resection     & 77 & Urothelial/Bladder Cancer & Initial diagnosis   & Bladder & Bladder  & ⋯ & BL0293-F563\\_SL  & CRAM     & Aligned Reads & PDX & WES     & NovaSeq S4     & IDT Exome                                    & GRCh38\\_full\\_analysis\\_set\\_plus\\_decoy\\_hla & No & P5\\\\\n",
       "\t Wistar   & Female & ND & F563  & Resection     & 77 & Urothelial/Bladder Cancer & Initial diagnosis   & Bladder & Bladder  & ⋯ & CK0643          & FASTQ.GZ & Raw Reads     & PDX & WES     & Illumina       & Nextera DNA Exome                            & NA                                      & No & NA\\\\\n",
       "\t Huntsman & Female & 43 & 121-T & Needle Biopsy & 46 & Adenocarcinoma            & Distant Metastatsis & Colon   & Liver    & ⋯ & 172845-121-T    & FASTQ.GZ & Raw Reads     & PDX & WES     & Illumina HiSeq & AgilentSureSelectXThumanAllExonV6-COSMIC     & NA                                      & No & NA\\\\\n",
       "\t MDA      & Female & 43 & 121-T & Needle Biopsy & 46 & Adenocarcinoma            & Distant Metastatsis & Colon   & Liver    & ⋯ & 172845-121-T    & FASTQ.GZ & Raw Reads     & PDX & WES     & Illumina HiSeq & AgilentSureSelectXThumanAllExonV6-COSMIC     & NA                                      & No & P1\\\\\n",
       "\t WashU    & Female & 43 & 121-T & Needle Biopsy & 46 & Adenocarcinoma            & Distant Metastatsis & Colon   & Liver    & ⋯ & 172845-121-T\\_SL & CRAM     & Aligned Reads & PDX & WES     & NovaSeq S4     & IDT Exome                                    & GRCh38\\_full\\_analysis\\_set\\_plus\\_decoy\\_hla & No & P3\\\\\n",
       "\t Wistar   & Female & 43 & 121-T & Needle Biopsy & 46 & Adenocarcinoma            & Distant Metastatsis & Colon   & Liver    & ⋯ & CK2021          & FASTQ.GZ & Raw Reads     & PDX & WES     & Illumina       & Nextera DNA Exome                            & NA                                      & No & NA\\\\\n",
       "\t Huntsman & Female & 66 & 104-R & Resection     & 66 & Adenocarcinoma            & Distant Metastatsis & Colon   & Shoulder & ⋯ & 625472-104-R    & FASTQ.GZ & Raw Reads     & PDX & WES     & Illumina HiSeq & AgilentSureSelectXThumanAllExonV6-COSMIC     & NA                                      & No & NA\\\\\n",
       "\t MDA      & Female & 66 & 104-R & Resection     & 66 & Adenocarcinoma            & Distant Metastatsis & Colon   & Shoulder & ⋯ & 625472-104-R    & FASTQ.GZ & Raw Reads     & PDX & WES     & Illumina HiSeq & AgilentSureSelectXThumanAllExonV6-COSMIC     & NA                                      & No & P1\\\\\n",
       "\t WashU    & Female & 66 & 104-R & Resection     & 66 & Adenocarcinoma            & Distant Metastatsis & Colon   & Shoulder & ⋯ & 625472-104-R\\_SL & CRAM     & Aligned Reads & PDX & WES     & NovaSeq S4     & IDT Exome                                    & GRCh38\\_full\\_analysis\\_set\\_plus\\_decoy\\_hla & No & P2\\\\\n",
       "\t Wistar   & Female & 66 & 104-R & Resection     & 66 & Adenocarcinoma            & Distant Metastatsis & Colon   & Shoulder & ⋯ & AM0245          & FASTQ.GZ & Raw Reads     & PDX & WES     & Illumina       & Nextera DNA Exome                            & NA                                      & No & NA\\\\\n",
       "\\end{tabular}\n"
      ],
      "text/markdown": [
       "\n",
       "A tibble: 24 × 23\n",
       "\n",
       "| Center &lt;chr&gt; | Sex &lt;chr&gt; | Age at Primary Diagnosis &lt;chr&gt; | Tumor ID &lt;chr&gt; | Collection Procedure &lt;chr&gt; | Age at collection &lt;dbl&gt; | Initial Diagnosis &lt;chr&gt; | Clinical Event Point &lt;chr&gt; | Primary Tumor Origin &lt;chr&gt; | Specimen Tissue &lt;chr&gt; | ⋯ ⋯ | Model ID &lt;chr&gt; | Data Format &lt;chr&gt; | Data Type &lt;chr&gt; | Sample Type &lt;chr&gt; | Experimental Strategy &lt;chr&gt; | Platform &lt;chr&gt; | Capture Kit &lt;chr&gt; | Capture Assembly &lt;chr&gt; | Is FFPE &lt;chr&gt; | Passage &lt;chr&gt; |\n",
       "|---|---|---|---|---|---|---|---|---|---|---|---|---|---|---|---|---|---|---|---|---|\n",
       "| Huntsman | Female | ND | F563  | Resection     | 77 | Urothelial/Bladder Cancer | Initial diagnosis   | Bladder | Bladder  | ⋯ |  BL0293-F563    | TXT.GZ   | Raw Reads     | PDX | RNA-Seq | Illumina HiSeq | IlluminaTruSeqStandardRNAkitwithRiboZeroGold | NA                                      | No | NA |\n",
       "| MDA      | Female | ND | F563  | Resection     | 77 | Urothelial/Bladder Cancer | Initial diagnosis   | Bladder | Bladder  | ⋯ |  BL0293-F563    | FASTQ.GZ | Raw Reads     | PDX | RNA-Seq | Illumina HiSeq | Kapa stranded mRNA-Seq Kit                   | NA                                      | No | P1 |\n",
       "| WashU    | Female | ND | F563  | Resection     | 77 | Urothelial/Bladder Cancer | Initial diagnosis   | Bladder | Bladder  | ⋯ | BL0293-F563_SL  | FASTQ.GZ | Raw Reads     | PDX | RNA-Seq | NovaSeq S4     | TruSeq Stranded Total RNA                    | NA                                      | No | P5 |\n",
       "| Wistar   | Female | ND | F563  | Resection     | 77 | Urothelial/Bladder Cancer | Initial diagnosis   | Bladder | Bladder  | ⋯ | AM0245          | FASTQ    | Raw Reads     | PDX | RNA-Seq | Illumina       | Lexogen mRNA                                 | NA                                      | No | NA |\n",
       "| Huntsman | Female | 43 | 121-T | Needle Biopsy | 46 | Adenocarcinoma            | Distant Metastatsis | Colon   | Liver    | ⋯ | 172845-121-T    | TXT.GZ   | Raw Reads     | PDX | RNA-Seq | Illumina HiSeq | IlluminaTruSeqStandardRNAkitwithRiboZeroGold | NA                                      | No | NA |\n",
       "| MDA      | Female | 43 | 121-T | Needle Biopsy | 46 | Adenocarcinoma            | Distant Metastatsis | Colon   | Liver    | ⋯ | 172845-121-T    | FASTQ.GZ | Raw Reads     | PDX | RNA-Seq | Illumina HiSeq | Kapa stranded mRNA-Seq Kit                   | NA                                      | No | P1 |\n",
       "| WashU    | Female | 43 | 121-T | Needle Biopsy | 46 | Adenocarcinoma            | Distant Metastatsis | Colon   | Liver    | ⋯ | 172845-121-T_SL | FASTQ.GZ | Raw Reads     | PDX | RNA-Seq | NovaSeq S4     | TruSeq Stranded Total RNA                    | NA                                      | No | P3 |\n",
       "| Wistar   | Female | 43 | 121-T | Needle Biopsy | 46 | Adenocarcinoma            | Distant Metastatsis | Colon   | Liver    | ⋯ | CK0643          | FASTQ    | Raw Reads     | PDX | RNA-Seq | Illumina       | Lexogen mRNA                                 | NA                                      | No | NA |\n",
       "| Huntsman | Female | 66 | 104-R | Resection     | 66 | Adenocarcinoma            | Distant Metastatsis | Colon   | Shoulder | ⋯ | 625472-104-R    | TXT.GZ   | Raw Reads     | PDX | RNA-Seq | Illumina HiSeq | IlluminaTruSeqStandardRNAkitwithRiboZeroGold | NA                                      | No | NA |\n",
       "| MDA      | Female | 66 | 104-R | Resection     | 66 | Adenocarcinoma            | Distant Metastatsis | Colon   | Shoulder | ⋯ | 625472-104-R    | FASTQ.GZ | Raw Reads     | PDX | RNA-Seq | Illumina HiSeq | Kapa stranded mRNA-Seq Kit                   | NA                                      | No | P1 |\n",
       "| WashU    | Female | 66 | 104-R | Resection     | 66 | Adenocarcinoma            | Distant Metastatsis | Colon   | Shoulder | ⋯ | 625472-104-R_SL | FASTQ.GZ | Raw Reads     | PDX | RNA-Seq | NovaSeq S4     | TruSeq Stranded Total RNA                    | NA                                      | No | P2 |\n",
       "| Wistar   | Female | 66 | 104-R | Resection     | 66 | Adenocarcinoma            | Distant Metastatsis | Colon   | Shoulder | ⋯ | CK2021          | FASTQ    | Raw Reads     | PDX | RNA-Seq | Illumina       | Lexogen mRNA                                 | NA                                      | No | NA |\n",
       "| Huntsman | Female | ND | F563  | Resection     | 77 | Urothelial/Bladder Cancer | Initial diagnosis   | Bladder | Bladder  | ⋯ |  BL0293-F563    | FASTQ.GZ | Raw Reads     | PDX | WES     | Illumina HiSeq | AgilentSureSelectXThumanAllExonV6-COSMIC     | NA                                      | No | NA |\n",
       "| MDA      | Female | ND | F563  | Resection     | 77 | Urothelial/Bladder Cancer | Initial diagnosis   | Bladder | Bladder  | ⋯ |  BL0293-F563    | FASTQ.GZ | Raw Reads     | PDX | WES     | Illumina HiSeq | AgilentSureSelectXThumanAllExonV6-COSMIC     | NA                                      | No | P1 |\n",
       "| WashU    | Female | ND | F563  | Resection     | 77 | Urothelial/Bladder Cancer | Initial diagnosis   | Bladder | Bladder  | ⋯ | BL0293-F563_SL  | CRAM     | Aligned Reads | PDX | WES     | NovaSeq S4     | IDT Exome                                    | GRCh38_full_analysis_set_plus_decoy_hla | No | P5 |\n",
       "| Wistar   | Female | ND | F563  | Resection     | 77 | Urothelial/Bladder Cancer | Initial diagnosis   | Bladder | Bladder  | ⋯ | CK0643          | FASTQ.GZ | Raw Reads     | PDX | WES     | Illumina       | Nextera DNA Exome                            | NA                                      | No | NA |\n",
       "| Huntsman | Female | 43 | 121-T | Needle Biopsy | 46 | Adenocarcinoma            | Distant Metastatsis | Colon   | Liver    | ⋯ | 172845-121-T    | FASTQ.GZ | Raw Reads     | PDX | WES     | Illumina HiSeq | AgilentSureSelectXThumanAllExonV6-COSMIC     | NA                                      | No | NA |\n",
       "| MDA      | Female | 43 | 121-T | Needle Biopsy | 46 | Adenocarcinoma            | Distant Metastatsis | Colon   | Liver    | ⋯ | 172845-121-T    | FASTQ.GZ | Raw Reads     | PDX | WES     | Illumina HiSeq | AgilentSureSelectXThumanAllExonV6-COSMIC     | NA                                      | No | P1 |\n",
       "| WashU    | Female | 43 | 121-T | Needle Biopsy | 46 | Adenocarcinoma            | Distant Metastatsis | Colon   | Liver    | ⋯ | 172845-121-T_SL | CRAM     | Aligned Reads | PDX | WES     | NovaSeq S4     | IDT Exome                                    | GRCh38_full_analysis_set_plus_decoy_hla | No | P3 |\n",
       "| Wistar   | Female | 43 | 121-T | Needle Biopsy | 46 | Adenocarcinoma            | Distant Metastatsis | Colon   | Liver    | ⋯ | CK2021          | FASTQ.GZ | Raw Reads     | PDX | WES     | Illumina       | Nextera DNA Exome                            | NA                                      | No | NA |\n",
       "| Huntsman | Female | 66 | 104-R | Resection     | 66 | Adenocarcinoma            | Distant Metastatsis | Colon   | Shoulder | ⋯ | 625472-104-R    | FASTQ.GZ | Raw Reads     | PDX | WES     | Illumina HiSeq | AgilentSureSelectXThumanAllExonV6-COSMIC     | NA                                      | No | NA |\n",
       "| MDA      | Female | 66 | 104-R | Resection     | 66 | Adenocarcinoma            | Distant Metastatsis | Colon   | Shoulder | ⋯ | 625472-104-R    | FASTQ.GZ | Raw Reads     | PDX | WES     | Illumina HiSeq | AgilentSureSelectXThumanAllExonV6-COSMIC     | NA                                      | No | P1 |\n",
       "| WashU    | Female | 66 | 104-R | Resection     | 66 | Adenocarcinoma            | Distant Metastatsis | Colon   | Shoulder | ⋯ | 625472-104-R_SL | CRAM     | Aligned Reads | PDX | WES     | NovaSeq S4     | IDT Exome                                    | GRCh38_full_analysis_set_plus_decoy_hla | No | P2 |\n",
       "| Wistar   | Female | 66 | 104-R | Resection     | 66 | Adenocarcinoma            | Distant Metastatsis | Colon   | Shoulder | ⋯ | AM0245          | FASTQ.GZ | Raw Reads     | PDX | WES     | Illumina       | Nextera DNA Exome                            | NA                                      | No | NA |\n",
       "\n"
      ],
      "text/plain": [
       "   Center   Sex    Age at Primary Diagnosis Tumor ID Collection Procedure\n",
       "1  Huntsman Female ND                       F563     Resection           \n",
       "2  MDA      Female ND                       F563     Resection           \n",
       "3  WashU    Female ND                       F563     Resection           \n",
       "4  Wistar   Female ND                       F563     Resection           \n",
       "5  Huntsman Female 43                       121-T    Needle Biopsy       \n",
       "6  MDA      Female 43                       121-T    Needle Biopsy       \n",
       "7  WashU    Female 43                       121-T    Needle Biopsy       \n",
       "8  Wistar   Female 43                       121-T    Needle Biopsy       \n",
       "9  Huntsman Female 66                       104-R    Resection           \n",
       "10 MDA      Female 66                       104-R    Resection           \n",
       "11 WashU    Female 66                       104-R    Resection           \n",
       "12 Wistar   Female 66                       104-R    Resection           \n",
       "13 Huntsman Female ND                       F563     Resection           \n",
       "14 MDA      Female ND                       F563     Resection           \n",
       "15 WashU    Female ND                       F563     Resection           \n",
       "16 Wistar   Female ND                       F563     Resection           \n",
       "17 Huntsman Female 43                       121-T    Needle Biopsy       \n",
       "18 MDA      Female 43                       121-T    Needle Biopsy       \n",
       "19 WashU    Female 43                       121-T    Needle Biopsy       \n",
       "20 Wistar   Female 43                       121-T    Needle Biopsy       \n",
       "21 Huntsman Female 66                       104-R    Resection           \n",
       "22 MDA      Female 66                       104-R    Resection           \n",
       "23 WashU    Female 66                       104-R    Resection           \n",
       "24 Wistar   Female 66                       104-R    Resection           \n",
       "   Age at collection Initial Diagnosis         Clinical Event Point\n",
       "1  77                Urothelial/Bladder Cancer Initial diagnosis   \n",
       "2  77                Urothelial/Bladder Cancer Initial diagnosis   \n",
       "3  77                Urothelial/Bladder Cancer Initial diagnosis   \n",
       "4  77                Urothelial/Bladder Cancer Initial diagnosis   \n",
       "5  46                Adenocarcinoma            Distant Metastatsis \n",
       "6  46                Adenocarcinoma            Distant Metastatsis \n",
       "7  46                Adenocarcinoma            Distant Metastatsis \n",
       "8  46                Adenocarcinoma            Distant Metastatsis \n",
       "9  66                Adenocarcinoma            Distant Metastatsis \n",
       "10 66                Adenocarcinoma            Distant Metastatsis \n",
       "11 66                Adenocarcinoma            Distant Metastatsis \n",
       "12 66                Adenocarcinoma            Distant Metastatsis \n",
       "13 77                Urothelial/Bladder Cancer Initial diagnosis   \n",
       "14 77                Urothelial/Bladder Cancer Initial diagnosis   \n",
       "15 77                Urothelial/Bladder Cancer Initial diagnosis   \n",
       "16 77                Urothelial/Bladder Cancer Initial diagnosis   \n",
       "17 46                Adenocarcinoma            Distant Metastatsis \n",
       "18 46                Adenocarcinoma            Distant Metastatsis \n",
       "19 46                Adenocarcinoma            Distant Metastatsis \n",
       "20 46                Adenocarcinoma            Distant Metastatsis \n",
       "21 66                Adenocarcinoma            Distant Metastatsis \n",
       "22 66                Adenocarcinoma            Distant Metastatsis \n",
       "23 66                Adenocarcinoma            Distant Metastatsis \n",
       "24 66                Adenocarcinoma            Distant Metastatsis \n",
       "   Primary Tumor Origin Specimen Tissue ⋯ Model ID        Data Format\n",
       "1  Bladder              Bladder         ⋯  BL0293-F563    TXT.GZ     \n",
       "2  Bladder              Bladder         ⋯  BL0293-F563    FASTQ.GZ   \n",
       "3  Bladder              Bladder         ⋯ BL0293-F563_SL  FASTQ.GZ   \n",
       "4  Bladder              Bladder         ⋯ AM0245          FASTQ      \n",
       "5  Colon                Liver           ⋯ 172845-121-T    TXT.GZ     \n",
       "6  Colon                Liver           ⋯ 172845-121-T    FASTQ.GZ   \n",
       "7  Colon                Liver           ⋯ 172845-121-T_SL FASTQ.GZ   \n",
       "8  Colon                Liver           ⋯ CK0643          FASTQ      \n",
       "9  Colon                Shoulder        ⋯ 625472-104-R    TXT.GZ     \n",
       "10 Colon                Shoulder        ⋯ 625472-104-R    FASTQ.GZ   \n",
       "11 Colon                Shoulder        ⋯ 625472-104-R_SL FASTQ.GZ   \n",
       "12 Colon                Shoulder        ⋯ CK2021          FASTQ      \n",
       "13 Bladder              Bladder         ⋯  BL0293-F563    FASTQ.GZ   \n",
       "14 Bladder              Bladder         ⋯  BL0293-F563    FASTQ.GZ   \n",
       "15 Bladder              Bladder         ⋯ BL0293-F563_SL  CRAM       \n",
       "16 Bladder              Bladder         ⋯ CK0643          FASTQ.GZ   \n",
       "17 Colon                Liver           ⋯ 172845-121-T    FASTQ.GZ   \n",
       "18 Colon                Liver           ⋯ 172845-121-T    FASTQ.GZ   \n",
       "19 Colon                Liver           ⋯ 172845-121-T_SL CRAM       \n",
       "20 Colon                Liver           ⋯ CK2021          FASTQ.GZ   \n",
       "21 Colon                Shoulder        ⋯ 625472-104-R    FASTQ.GZ   \n",
       "22 Colon                Shoulder        ⋯ 625472-104-R    FASTQ.GZ   \n",
       "23 Colon                Shoulder        ⋯ 625472-104-R_SL CRAM       \n",
       "24 Colon                Shoulder        ⋯ AM0245          FASTQ.GZ   \n",
       "   Data Type     Sample Type Experimental Strategy Platform      \n",
       "1  Raw Reads     PDX         RNA-Seq               Illumina HiSeq\n",
       "2  Raw Reads     PDX         RNA-Seq               Illumina HiSeq\n",
       "3  Raw Reads     PDX         RNA-Seq               NovaSeq S4    \n",
       "4  Raw Reads     PDX         RNA-Seq               Illumina      \n",
       "5  Raw Reads     PDX         RNA-Seq               Illumina HiSeq\n",
       "6  Raw Reads     PDX         RNA-Seq               Illumina HiSeq\n",
       "7  Raw Reads     PDX         RNA-Seq               NovaSeq S4    \n",
       "8  Raw Reads     PDX         RNA-Seq               Illumina      \n",
       "9  Raw Reads     PDX         RNA-Seq               Illumina HiSeq\n",
       "10 Raw Reads     PDX         RNA-Seq               Illumina HiSeq\n",
       "11 Raw Reads     PDX         RNA-Seq               NovaSeq S4    \n",
       "12 Raw Reads     PDX         RNA-Seq               Illumina      \n",
       "13 Raw Reads     PDX         WES                   Illumina HiSeq\n",
       "14 Raw Reads     PDX         WES                   Illumina HiSeq\n",
       "15 Aligned Reads PDX         WES                   NovaSeq S4    \n",
       "16 Raw Reads     PDX         WES                   Illumina      \n",
       "17 Raw Reads     PDX         WES                   Illumina HiSeq\n",
       "18 Raw Reads     PDX         WES                   Illumina HiSeq\n",
       "19 Aligned Reads PDX         WES                   NovaSeq S4    \n",
       "20 Raw Reads     PDX         WES                   Illumina      \n",
       "21 Raw Reads     PDX         WES                   Illumina HiSeq\n",
       "22 Raw Reads     PDX         WES                   Illumina HiSeq\n",
       "23 Aligned Reads PDX         WES                   NovaSeq S4    \n",
       "24 Raw Reads     PDX         WES                   Illumina      \n",
       "   Capture Kit                                 \n",
       "1  IlluminaTruSeqStandardRNAkitwithRiboZeroGold\n",
       "2  Kapa stranded mRNA-Seq Kit                  \n",
       "3  TruSeq Stranded Total RNA                   \n",
       "4  Lexogen mRNA                                \n",
       "5  IlluminaTruSeqStandardRNAkitwithRiboZeroGold\n",
       "6  Kapa stranded mRNA-Seq Kit                  \n",
       "7  TruSeq Stranded Total RNA                   \n",
       "8  Lexogen mRNA                                \n",
       "9  IlluminaTruSeqStandardRNAkitwithRiboZeroGold\n",
       "10 Kapa stranded mRNA-Seq Kit                  \n",
       "11 TruSeq Stranded Total RNA                   \n",
       "12 Lexogen mRNA                                \n",
       "13 AgilentSureSelectXThumanAllExonV6-COSMIC    \n",
       "14 AgilentSureSelectXThumanAllExonV6-COSMIC    \n",
       "15 IDT Exome                                   \n",
       "16 Nextera DNA Exome                           \n",
       "17 AgilentSureSelectXThumanAllExonV6-COSMIC    \n",
       "18 AgilentSureSelectXThumanAllExonV6-COSMIC    \n",
       "19 IDT Exome                                   \n",
       "20 Nextera DNA Exome                           \n",
       "21 AgilentSureSelectXThumanAllExonV6-COSMIC    \n",
       "22 AgilentSureSelectXThumanAllExonV6-COSMIC    \n",
       "23 IDT Exome                                   \n",
       "24 Nextera DNA Exome                           \n",
       "   Capture Assembly                        Is FFPE Passage\n",
       "1  NA                                      No      NA     \n",
       "2  NA                                      No      P1     \n",
       "3  NA                                      No      P5     \n",
       "4  NA                                      No      NA     \n",
       "5  NA                                      No      NA     \n",
       "6  NA                                      No      P1     \n",
       "7  NA                                      No      P3     \n",
       "8  NA                                      No      NA     \n",
       "9  NA                                      No      NA     \n",
       "10 NA                                      No      P1     \n",
       "11 NA                                      No      P2     \n",
       "12 NA                                      No      NA     \n",
       "13 NA                                      No      NA     \n",
       "14 NA                                      No      P1     \n",
       "15 GRCh38_full_analysis_set_plus_decoy_hla No      P5     \n",
       "16 NA                                      No      NA     \n",
       "17 NA                                      No      NA     \n",
       "18 NA                                      No      P1     \n",
       "19 GRCh38_full_analysis_set_plus_decoy_hla No      P3     \n",
       "20 NA                                      No      NA     \n",
       "21 NA                                      No      NA     \n",
       "22 NA                                      No      P1     \n",
       "23 GRCh38_full_analysis_set_plus_decoy_hla No      P2     \n",
       "24 NA                                      No      NA     "
      ]
     },
     "metadata": {},
     "output_type": "display_data"
    }
   ],
   "source": [
    "# Load the tmz metadata\n",
    "\n",
    "tmz_metadata <- read_excel('../2022-02-16_integrate_tmz_bcm_hci_metadata/TMZ_SequenceMetadata.xlsx')\n",
    "\n",
    "tmz_metadata"
   ]
  },
  {
   "cell_type": "code",
   "execution_count": 14,
   "id": "3fd5c3b2-00aa-4b79-8586-51a4da7258c0",
   "metadata": {},
   "outputs": [
    {
     "data": {
      "text/html": [
       "<table class=\"dataframe\">\n",
       "<caption>A spec_tbl_df: 24 × 26</caption>\n",
       "<thead>\n",
       "\t<tr><th scope=col>...1</th><th scope=col>contributor</th><th scope=col>file_name</th><th scope=col>patient_id</th><th scope=col>model_id</th><th scope=col>tumor_id</th><th scope=col>case_id</th><th scope=col>sample_id</th><th scope=col>sample_type</th><th scope=col>experimental_strategy</th><th scope=col>⋯</th><th scope=col>access_level</th><th scope=col>data_category</th><th scope=col>data_format</th><th scope=col>data_type</th><th scope=col>platform</th><th scope=col>is_ffpe</th><th scope=col>passage</th><th scope=col>body_location</th><th scope=col>disease_type</th><th scope=col>comment</th></tr>\n",
       "\t<tr><th scope=col>&lt;dbl&gt;</th><th scope=col>&lt;chr&gt;</th><th scope=col>&lt;chr&gt;</th><th scope=col>&lt;chr&gt;</th><th scope=col>&lt;chr&gt;</th><th scope=col>&lt;chr&gt;</th><th scope=col>&lt;chr&gt;</th><th scope=col>&lt;chr&gt;</th><th scope=col>&lt;chr&gt;</th><th scope=col>&lt;chr&gt;</th><th scope=col>⋯</th><th scope=col>&lt;chr&gt;</th><th scope=col>&lt;chr&gt;</th><th scope=col>&lt;chr&gt;</th><th scope=col>&lt;chr&gt;</th><th scope=col>&lt;chr&gt;</th><th scope=col>&lt;chr&gt;</th><th scope=col>&lt;chr&gt;</th><th scope=col>&lt;chr&gt;</th><th scope=col>&lt;chr&gt;</th><th scope=col>&lt;chr&gt;</th></tr>\n",
       "</thead>\n",
       "<tbody>\n",
       "\t<tr><td> 997</td><td>WISTAR</td><td>1-AM-0245_S1_R1.fastq.gz</td><td>JAX-BL0293 </td><td>AM0245</td><td>F563 </td><td>NA</td><td>AM0245</td><td>PDX</td><td>WES    </td><td>⋯</td><td>Open Access</td><td>Raw Sequencing Data</td><td>fastq.gz</td><td>Raw Reads</td><td>Illumina</td><td>FALSE</td><td>Unknown</td><td>Bladder </td><td>Urothelial Bladder Cancer</td><td>NA</td></tr>\n",
       "\t<tr><td> 997</td><td>WISTAR</td><td>1-AM-0245_S1_R1.fastq.gz</td><td>PDMR-625472</td><td>AM0245</td><td>104-R</td><td>NA</td><td>AM0245</td><td>PDX</td><td>WES    </td><td>⋯</td><td>Open Access</td><td>Raw Sequencing Data</td><td>fastq.gz</td><td>Raw Reads</td><td>Illumina</td><td>FALSE</td><td>Unknown</td><td>Shoulder</td><td>Colon - Adenocarcinoma   </td><td>NA</td></tr>\n",
       "\t<tr><td> 998</td><td>WISTAR</td><td>1-AM-0245_S1_R2.fastq.gz</td><td>JAX-BL0293 </td><td>AM0245</td><td>F563 </td><td>NA</td><td>AM0245</td><td>PDX</td><td>WES    </td><td>⋯</td><td>Open Access</td><td>Raw Sequencing Data</td><td>fastq.gz</td><td>Raw Reads</td><td>Illumina</td><td>FALSE</td><td>Unknown</td><td>Bladder </td><td>Urothelial Bladder Cancer</td><td>NA</td></tr>\n",
       "\t<tr><td> 998</td><td>WISTAR</td><td>1-AM-0245_S1_R2.fastq.gz</td><td>PDMR-625472</td><td>AM0245</td><td>104-R</td><td>NA</td><td>AM0245</td><td>PDX</td><td>WES    </td><td>⋯</td><td>Open Access</td><td>Raw Sequencing Data</td><td>fastq.gz</td><td>Raw Reads</td><td>Illumina</td><td>FALSE</td><td>Unknown</td><td>Shoulder</td><td>Colon - Adenocarcinoma   </td><td>NA</td></tr>\n",
       "\t<tr><td>1003</td><td>WISTAR</td><td>1-AM0245_S1_1.fastq     </td><td>JAX-BL0293 </td><td>AM0245</td><td>F563 </td><td>NA</td><td>AM0245</td><td>PDX</td><td>RNA-Seq</td><td>⋯</td><td>Open Access</td><td>Raw Sequencing Data</td><td>fastq   </td><td>Raw Reads</td><td>Illumina</td><td>FALSE</td><td>Unknown</td><td>Bladder </td><td>Urothelial Bladder Cancer</td><td>NA</td></tr>\n",
       "\t<tr><td>1003</td><td>WISTAR</td><td>1-AM0245_S1_1.fastq     </td><td>PDMR-625472</td><td>AM0245</td><td>104-R</td><td>NA</td><td>AM0245</td><td>PDX</td><td>RNA-Seq</td><td>⋯</td><td>Open Access</td><td>Raw Sequencing Data</td><td>fastq   </td><td>Raw Reads</td><td>Illumina</td><td>FALSE</td><td>Unknown</td><td>Shoulder</td><td>Colon - Adenocarcinoma   </td><td>NA</td></tr>\n",
       "\t<tr><td>1004</td><td>WISTAR</td><td>1-AM0245_S1_2.fastq     </td><td>JAX-BL0293 </td><td>AM0245</td><td>F563 </td><td>NA</td><td>AM0245</td><td>PDX</td><td>RNA-Seq</td><td>⋯</td><td>Open Access</td><td>Raw Sequencing Data</td><td>fastq   </td><td>Raw Reads</td><td>Illumina</td><td>FALSE</td><td>Unknown</td><td>Bladder </td><td>Urothelial Bladder Cancer</td><td>NA</td></tr>\n",
       "\t<tr><td>1004</td><td>WISTAR</td><td>1-AM0245_S1_2.fastq     </td><td>PDMR-625472</td><td>AM0245</td><td>104-R</td><td>NA</td><td>AM0245</td><td>PDX</td><td>RNA-Seq</td><td>⋯</td><td>Open Access</td><td>Raw Sequencing Data</td><td>fastq   </td><td>Raw Reads</td><td>Illumina</td><td>FALSE</td><td>Unknown</td><td>Shoulder</td><td>Colon - Adenocarcinoma   </td><td>NA</td></tr>\n",
       "\t<tr><td> 999</td><td>WISTAR</td><td>2-CK-2021_S2_R1.fastq.gz</td><td>PDMR-625472</td><td>CK2021</td><td>104-R</td><td>NA</td><td>CK2021</td><td>PDX</td><td>WES    </td><td>⋯</td><td>Open Access</td><td>Raw Sequencing Data</td><td>fastq.gz</td><td>Raw Reads</td><td>Illumina</td><td>FALSE</td><td>Unknown</td><td>Shoulder</td><td>Colon - Adenocarcinoma   </td><td>NA</td></tr>\n",
       "\t<tr><td> 999</td><td>WISTAR</td><td>2-CK-2021_S2_R1.fastq.gz</td><td>PDMR-172845</td><td>CK2021</td><td>121-T</td><td>NA</td><td>CK2021</td><td>PDX</td><td>WES    </td><td>⋯</td><td>Open Access</td><td>Raw Sequencing Data</td><td>fastq.gz</td><td>Raw Reads</td><td>Illumina</td><td>FALSE</td><td>Unknown</td><td>Liver   </td><td>Colon - Adenocarcinoma   </td><td>NA</td></tr>\n",
       "\t<tr><td>1000</td><td>WISTAR</td><td>2-CK-2021_S2_R2.fastq.gz</td><td>PDMR-625472</td><td>CK2021</td><td>104-R</td><td>NA</td><td>CK2021</td><td>PDX</td><td>WES    </td><td>⋯</td><td>Open Access</td><td>Raw Sequencing Data</td><td>fastq.gz</td><td>Raw Reads</td><td>Illumina</td><td>FALSE</td><td>Unknown</td><td>Shoulder</td><td>Colon - Adenocarcinoma   </td><td>NA</td></tr>\n",
       "\t<tr><td>1000</td><td>WISTAR</td><td>2-CK-2021_S2_R2.fastq.gz</td><td>PDMR-172845</td><td>CK2021</td><td>121-T</td><td>NA</td><td>CK2021</td><td>PDX</td><td>WES    </td><td>⋯</td><td>Open Access</td><td>Raw Sequencing Data</td><td>fastq.gz</td><td>Raw Reads</td><td>Illumina</td><td>FALSE</td><td>Unknown</td><td>Liver   </td><td>Colon - Adenocarcinoma   </td><td>NA</td></tr>\n",
       "\t<tr><td>1005</td><td>WISTAR</td><td>2-CK2021_S2_1.fastq     </td><td>PDMR-625472</td><td>CK2021</td><td>104-R</td><td>NA</td><td>CK2021</td><td>PDX</td><td>RNA-Seq</td><td>⋯</td><td>Open Access</td><td>Raw Sequencing Data</td><td>fastq   </td><td>Raw Reads</td><td>Illumina</td><td>FALSE</td><td>Unknown</td><td>Shoulder</td><td>Colon - Adenocarcinoma   </td><td>NA</td></tr>\n",
       "\t<tr><td>1005</td><td>WISTAR</td><td>2-CK2021_S2_1.fastq     </td><td>PDMR-172845</td><td>CK2021</td><td>121-T</td><td>NA</td><td>CK2021</td><td>PDX</td><td>RNA-Seq</td><td>⋯</td><td>Open Access</td><td>Raw Sequencing Data</td><td>fastq   </td><td>Raw Reads</td><td>Illumina</td><td>FALSE</td><td>Unknown</td><td>Liver   </td><td>Colon - Adenocarcinoma   </td><td>NA</td></tr>\n",
       "\t<tr><td>1006</td><td>WISTAR</td><td>2-CK2021_S2_2.fastq     </td><td>PDMR-625472</td><td>CK2021</td><td>104-R</td><td>NA</td><td>CK2021</td><td>PDX</td><td>RNA-Seq</td><td>⋯</td><td>Open Access</td><td>Raw Sequencing Data</td><td>fastq   </td><td>Raw Reads</td><td>Illumina</td><td>FALSE</td><td>Unknown</td><td>Shoulder</td><td>Colon - Adenocarcinoma   </td><td>NA</td></tr>\n",
       "\t<tr><td>1006</td><td>WISTAR</td><td>2-CK2021_S2_2.fastq     </td><td>PDMR-172845</td><td>CK2021</td><td>121-T</td><td>NA</td><td>CK2021</td><td>PDX</td><td>RNA-Seq</td><td>⋯</td><td>Open Access</td><td>Raw Sequencing Data</td><td>fastq   </td><td>Raw Reads</td><td>Illumina</td><td>FALSE</td><td>Unknown</td><td>Liver   </td><td>Colon - Adenocarcinoma   </td><td>NA</td></tr>\n",
       "\t<tr><td>1001</td><td>WISTAR</td><td>3-CK-0643_S3_R1.fastq.gz</td><td>PDMR-172845</td><td>CK0643</td><td>121-T</td><td>NA</td><td>CK0643</td><td>PDX</td><td>WES    </td><td>⋯</td><td>Open Access</td><td>Raw Sequencing Data</td><td>fastq.gz</td><td>Raw Reads</td><td>Illumina</td><td>FALSE</td><td>Unknown</td><td>Liver   </td><td>Colon - Adenocarcinoma   </td><td>NA</td></tr>\n",
       "\t<tr><td>1001</td><td>WISTAR</td><td>3-CK-0643_S3_R1.fastq.gz</td><td>JAX-BL0293 </td><td>CK0643</td><td>F563 </td><td>NA</td><td>CK0643</td><td>PDX</td><td>WES    </td><td>⋯</td><td>Open Access</td><td>Raw Sequencing Data</td><td>fastq.gz</td><td>Raw Reads</td><td>Illumina</td><td>FALSE</td><td>Unknown</td><td>Bladder </td><td>Urothelial Bladder Cancer</td><td>NA</td></tr>\n",
       "\t<tr><td>1002</td><td>WISTAR</td><td>3-CK-0643_S3_R2.fastq.gz</td><td>PDMR-172845</td><td>CK0643</td><td>121-T</td><td>NA</td><td>CK0643</td><td>PDX</td><td>WES    </td><td>⋯</td><td>Open Access</td><td>Raw Sequencing Data</td><td>fastq.gz</td><td>Raw Reads</td><td>Illumina</td><td>FALSE</td><td>Unknown</td><td>Liver   </td><td>Colon - Adenocarcinoma   </td><td>NA</td></tr>\n",
       "\t<tr><td>1002</td><td>WISTAR</td><td>3-CK-0643_S3_R2.fastq.gz</td><td>JAX-BL0293 </td><td>CK0643</td><td>F563 </td><td>NA</td><td>CK0643</td><td>PDX</td><td>WES    </td><td>⋯</td><td>Open Access</td><td>Raw Sequencing Data</td><td>fastq.gz</td><td>Raw Reads</td><td>Illumina</td><td>FALSE</td><td>Unknown</td><td>Bladder </td><td>Urothelial Bladder Cancer</td><td>NA</td></tr>\n",
       "\t<tr><td>1007</td><td>WISTAR</td><td>3-CK0643_S3_1.fastq     </td><td>PDMR-172845</td><td>CK0643</td><td>121-T</td><td>NA</td><td>CK0643</td><td>PDX</td><td>RNA-Seq</td><td>⋯</td><td>Open Access</td><td>Raw Sequencing Data</td><td>fastq   </td><td>Raw Reads</td><td>Illumina</td><td>FALSE</td><td>Unknown</td><td>Liver   </td><td>Colon - Adenocarcinoma   </td><td>NA</td></tr>\n",
       "\t<tr><td>1007</td><td>WISTAR</td><td>3-CK0643_S3_1.fastq     </td><td>JAX-BL0293 </td><td>CK0643</td><td>F563 </td><td>NA</td><td>CK0643</td><td>PDX</td><td>RNA-Seq</td><td>⋯</td><td>Open Access</td><td>Raw Sequencing Data</td><td>fastq   </td><td>Raw Reads</td><td>Illumina</td><td>FALSE</td><td>Unknown</td><td>Bladder </td><td>Urothelial Bladder Cancer</td><td>NA</td></tr>\n",
       "\t<tr><td>1008</td><td>WISTAR</td><td>3-CK0643_S3_2.fastq     </td><td>PDMR-172845</td><td>CK0643</td><td>121-T</td><td>NA</td><td>CK0643</td><td>PDX</td><td>RNA-Seq</td><td>⋯</td><td>Open Access</td><td>Raw Sequencing Data</td><td>fastq   </td><td>Raw Reads</td><td>Illumina</td><td>FALSE</td><td>Unknown</td><td>Liver   </td><td>Colon - Adenocarcinoma   </td><td>NA</td></tr>\n",
       "\t<tr><td>1008</td><td>WISTAR</td><td>3-CK0643_S3_2.fastq     </td><td>JAX-BL0293 </td><td>CK0643</td><td>F563 </td><td>NA</td><td>CK0643</td><td>PDX</td><td>RNA-Seq</td><td>⋯</td><td>Open Access</td><td>Raw Sequencing Data</td><td>fastq   </td><td>Raw Reads</td><td>Illumina</td><td>FALSE</td><td>Unknown</td><td>Bladder </td><td>Urothelial Bladder Cancer</td><td>NA</td></tr>\n",
       "</tbody>\n",
       "</table>\n"
      ],
      "text/latex": [
       "A spec\\_tbl\\_df: 24 × 26\n",
       "\\begin{tabular}{lllllllllllllllllllll}\n",
       " ...1 & contributor & file\\_name & patient\\_id & model\\_id & tumor\\_id & case\\_id & sample\\_id & sample\\_type & experimental\\_strategy & ⋯ & access\\_level & data\\_category & data\\_format & data\\_type & platform & is\\_ffpe & passage & body\\_location & disease\\_type & comment\\\\\n",
       " <dbl> & <chr> & <chr> & <chr> & <chr> & <chr> & <chr> & <chr> & <chr> & <chr> & ⋯ & <chr> & <chr> & <chr> & <chr> & <chr> & <chr> & <chr> & <chr> & <chr> & <chr>\\\\\n",
       "\\hline\n",
       "\t  997 & WISTAR & 1-AM-0245\\_S1\\_R1.fastq.gz & JAX-BL0293  & AM0245 & F563  & NA & AM0245 & PDX & WES     & ⋯ & Open Access & Raw Sequencing Data & fastq.gz & Raw Reads & Illumina & FALSE & Unknown & Bladder  & Urothelial Bladder Cancer & NA\\\\\n",
       "\t  997 & WISTAR & 1-AM-0245\\_S1\\_R1.fastq.gz & PDMR-625472 & AM0245 & 104-R & NA & AM0245 & PDX & WES     & ⋯ & Open Access & Raw Sequencing Data & fastq.gz & Raw Reads & Illumina & FALSE & Unknown & Shoulder & Colon - Adenocarcinoma    & NA\\\\\n",
       "\t  998 & WISTAR & 1-AM-0245\\_S1\\_R2.fastq.gz & JAX-BL0293  & AM0245 & F563  & NA & AM0245 & PDX & WES     & ⋯ & Open Access & Raw Sequencing Data & fastq.gz & Raw Reads & Illumina & FALSE & Unknown & Bladder  & Urothelial Bladder Cancer & NA\\\\\n",
       "\t  998 & WISTAR & 1-AM-0245\\_S1\\_R2.fastq.gz & PDMR-625472 & AM0245 & 104-R & NA & AM0245 & PDX & WES     & ⋯ & Open Access & Raw Sequencing Data & fastq.gz & Raw Reads & Illumina & FALSE & Unknown & Shoulder & Colon - Adenocarcinoma    & NA\\\\\n",
       "\t 1003 & WISTAR & 1-AM0245\\_S1\\_1.fastq      & JAX-BL0293  & AM0245 & F563  & NA & AM0245 & PDX & RNA-Seq & ⋯ & Open Access & Raw Sequencing Data & fastq    & Raw Reads & Illumina & FALSE & Unknown & Bladder  & Urothelial Bladder Cancer & NA\\\\\n",
       "\t 1003 & WISTAR & 1-AM0245\\_S1\\_1.fastq      & PDMR-625472 & AM0245 & 104-R & NA & AM0245 & PDX & RNA-Seq & ⋯ & Open Access & Raw Sequencing Data & fastq    & Raw Reads & Illumina & FALSE & Unknown & Shoulder & Colon - Adenocarcinoma    & NA\\\\\n",
       "\t 1004 & WISTAR & 1-AM0245\\_S1\\_2.fastq      & JAX-BL0293  & AM0245 & F563  & NA & AM0245 & PDX & RNA-Seq & ⋯ & Open Access & Raw Sequencing Data & fastq    & Raw Reads & Illumina & FALSE & Unknown & Bladder  & Urothelial Bladder Cancer & NA\\\\\n",
       "\t 1004 & WISTAR & 1-AM0245\\_S1\\_2.fastq      & PDMR-625472 & AM0245 & 104-R & NA & AM0245 & PDX & RNA-Seq & ⋯ & Open Access & Raw Sequencing Data & fastq    & Raw Reads & Illumina & FALSE & Unknown & Shoulder & Colon - Adenocarcinoma    & NA\\\\\n",
       "\t  999 & WISTAR & 2-CK-2021\\_S2\\_R1.fastq.gz & PDMR-625472 & CK2021 & 104-R & NA & CK2021 & PDX & WES     & ⋯ & Open Access & Raw Sequencing Data & fastq.gz & Raw Reads & Illumina & FALSE & Unknown & Shoulder & Colon - Adenocarcinoma    & NA\\\\\n",
       "\t  999 & WISTAR & 2-CK-2021\\_S2\\_R1.fastq.gz & PDMR-172845 & CK2021 & 121-T & NA & CK2021 & PDX & WES     & ⋯ & Open Access & Raw Sequencing Data & fastq.gz & Raw Reads & Illumina & FALSE & Unknown & Liver    & Colon - Adenocarcinoma    & NA\\\\\n",
       "\t 1000 & WISTAR & 2-CK-2021\\_S2\\_R2.fastq.gz & PDMR-625472 & CK2021 & 104-R & NA & CK2021 & PDX & WES     & ⋯ & Open Access & Raw Sequencing Data & fastq.gz & Raw Reads & Illumina & FALSE & Unknown & Shoulder & Colon - Adenocarcinoma    & NA\\\\\n",
       "\t 1000 & WISTAR & 2-CK-2021\\_S2\\_R2.fastq.gz & PDMR-172845 & CK2021 & 121-T & NA & CK2021 & PDX & WES     & ⋯ & Open Access & Raw Sequencing Data & fastq.gz & Raw Reads & Illumina & FALSE & Unknown & Liver    & Colon - Adenocarcinoma    & NA\\\\\n",
       "\t 1005 & WISTAR & 2-CK2021\\_S2\\_1.fastq      & PDMR-625472 & CK2021 & 104-R & NA & CK2021 & PDX & RNA-Seq & ⋯ & Open Access & Raw Sequencing Data & fastq    & Raw Reads & Illumina & FALSE & Unknown & Shoulder & Colon - Adenocarcinoma    & NA\\\\\n",
       "\t 1005 & WISTAR & 2-CK2021\\_S2\\_1.fastq      & PDMR-172845 & CK2021 & 121-T & NA & CK2021 & PDX & RNA-Seq & ⋯ & Open Access & Raw Sequencing Data & fastq    & Raw Reads & Illumina & FALSE & Unknown & Liver    & Colon - Adenocarcinoma    & NA\\\\\n",
       "\t 1006 & WISTAR & 2-CK2021\\_S2\\_2.fastq      & PDMR-625472 & CK2021 & 104-R & NA & CK2021 & PDX & RNA-Seq & ⋯ & Open Access & Raw Sequencing Data & fastq    & Raw Reads & Illumina & FALSE & Unknown & Shoulder & Colon - Adenocarcinoma    & NA\\\\\n",
       "\t 1006 & WISTAR & 2-CK2021\\_S2\\_2.fastq      & PDMR-172845 & CK2021 & 121-T & NA & CK2021 & PDX & RNA-Seq & ⋯ & Open Access & Raw Sequencing Data & fastq    & Raw Reads & Illumina & FALSE & Unknown & Liver    & Colon - Adenocarcinoma    & NA\\\\\n",
       "\t 1001 & WISTAR & 3-CK-0643\\_S3\\_R1.fastq.gz & PDMR-172845 & CK0643 & 121-T & NA & CK0643 & PDX & WES     & ⋯ & Open Access & Raw Sequencing Data & fastq.gz & Raw Reads & Illumina & FALSE & Unknown & Liver    & Colon - Adenocarcinoma    & NA\\\\\n",
       "\t 1001 & WISTAR & 3-CK-0643\\_S3\\_R1.fastq.gz & JAX-BL0293  & CK0643 & F563  & NA & CK0643 & PDX & WES     & ⋯ & Open Access & Raw Sequencing Data & fastq.gz & Raw Reads & Illumina & FALSE & Unknown & Bladder  & Urothelial Bladder Cancer & NA\\\\\n",
       "\t 1002 & WISTAR & 3-CK-0643\\_S3\\_R2.fastq.gz & PDMR-172845 & CK0643 & 121-T & NA & CK0643 & PDX & WES     & ⋯ & Open Access & Raw Sequencing Data & fastq.gz & Raw Reads & Illumina & FALSE & Unknown & Liver    & Colon - Adenocarcinoma    & NA\\\\\n",
       "\t 1002 & WISTAR & 3-CK-0643\\_S3\\_R2.fastq.gz & JAX-BL0293  & CK0643 & F563  & NA & CK0643 & PDX & WES     & ⋯ & Open Access & Raw Sequencing Data & fastq.gz & Raw Reads & Illumina & FALSE & Unknown & Bladder  & Urothelial Bladder Cancer & NA\\\\\n",
       "\t 1007 & WISTAR & 3-CK0643\\_S3\\_1.fastq      & PDMR-172845 & CK0643 & 121-T & NA & CK0643 & PDX & RNA-Seq & ⋯ & Open Access & Raw Sequencing Data & fastq    & Raw Reads & Illumina & FALSE & Unknown & Liver    & Colon - Adenocarcinoma    & NA\\\\\n",
       "\t 1007 & WISTAR & 3-CK0643\\_S3\\_1.fastq      & JAX-BL0293  & CK0643 & F563  & NA & CK0643 & PDX & RNA-Seq & ⋯ & Open Access & Raw Sequencing Data & fastq    & Raw Reads & Illumina & FALSE & Unknown & Bladder  & Urothelial Bladder Cancer & NA\\\\\n",
       "\t 1008 & WISTAR & 3-CK0643\\_S3\\_2.fastq      & PDMR-172845 & CK0643 & 121-T & NA & CK0643 & PDX & RNA-Seq & ⋯ & Open Access & Raw Sequencing Data & fastq    & Raw Reads & Illumina & FALSE & Unknown & Liver    & Colon - Adenocarcinoma    & NA\\\\\n",
       "\t 1008 & WISTAR & 3-CK0643\\_S3\\_2.fastq      & JAX-BL0293  & CK0643 & F563  & NA & CK0643 & PDX & RNA-Seq & ⋯ & Open Access & Raw Sequencing Data & fastq    & Raw Reads & Illumina & FALSE & Unknown & Bladder  & Urothelial Bladder Cancer & NA\\\\\n",
       "\\end{tabular}\n"
      ],
      "text/markdown": [
       "\n",
       "A spec_tbl_df: 24 × 26\n",
       "\n",
       "| ...1 &lt;dbl&gt; | contributor &lt;chr&gt; | file_name &lt;chr&gt; | patient_id &lt;chr&gt; | model_id &lt;chr&gt; | tumor_id &lt;chr&gt; | case_id &lt;chr&gt; | sample_id &lt;chr&gt; | sample_type &lt;chr&gt; | experimental_strategy &lt;chr&gt; | ⋯ ⋯ | access_level &lt;chr&gt; | data_category &lt;chr&gt; | data_format &lt;chr&gt; | data_type &lt;chr&gt; | platform &lt;chr&gt; | is_ffpe &lt;chr&gt; | passage &lt;chr&gt; | body_location &lt;chr&gt; | disease_type &lt;chr&gt; | comment &lt;chr&gt; |\n",
       "|---|---|---|---|---|---|---|---|---|---|---|---|---|---|---|---|---|---|---|---|---|\n",
       "|  997 | WISTAR | 1-AM-0245_S1_R1.fastq.gz | JAX-BL0293  | AM0245 | F563  | NA | AM0245 | PDX | WES     | ⋯ | Open Access | Raw Sequencing Data | fastq.gz | Raw Reads | Illumina | FALSE | Unknown | Bladder  | Urothelial Bladder Cancer | NA |\n",
       "|  997 | WISTAR | 1-AM-0245_S1_R1.fastq.gz | PDMR-625472 | AM0245 | 104-R | NA | AM0245 | PDX | WES     | ⋯ | Open Access | Raw Sequencing Data | fastq.gz | Raw Reads | Illumina | FALSE | Unknown | Shoulder | Colon - Adenocarcinoma    | NA |\n",
       "|  998 | WISTAR | 1-AM-0245_S1_R2.fastq.gz | JAX-BL0293  | AM0245 | F563  | NA | AM0245 | PDX | WES     | ⋯ | Open Access | Raw Sequencing Data | fastq.gz | Raw Reads | Illumina | FALSE | Unknown | Bladder  | Urothelial Bladder Cancer | NA |\n",
       "|  998 | WISTAR | 1-AM-0245_S1_R2.fastq.gz | PDMR-625472 | AM0245 | 104-R | NA | AM0245 | PDX | WES     | ⋯ | Open Access | Raw Sequencing Data | fastq.gz | Raw Reads | Illumina | FALSE | Unknown | Shoulder | Colon - Adenocarcinoma    | NA |\n",
       "| 1003 | WISTAR | 1-AM0245_S1_1.fastq      | JAX-BL0293  | AM0245 | F563  | NA | AM0245 | PDX | RNA-Seq | ⋯ | Open Access | Raw Sequencing Data | fastq    | Raw Reads | Illumina | FALSE | Unknown | Bladder  | Urothelial Bladder Cancer | NA |\n",
       "| 1003 | WISTAR | 1-AM0245_S1_1.fastq      | PDMR-625472 | AM0245 | 104-R | NA | AM0245 | PDX | RNA-Seq | ⋯ | Open Access | Raw Sequencing Data | fastq    | Raw Reads | Illumina | FALSE | Unknown | Shoulder | Colon - Adenocarcinoma    | NA |\n",
       "| 1004 | WISTAR | 1-AM0245_S1_2.fastq      | JAX-BL0293  | AM0245 | F563  | NA | AM0245 | PDX | RNA-Seq | ⋯ | Open Access | Raw Sequencing Data | fastq    | Raw Reads | Illumina | FALSE | Unknown | Bladder  | Urothelial Bladder Cancer | NA |\n",
       "| 1004 | WISTAR | 1-AM0245_S1_2.fastq      | PDMR-625472 | AM0245 | 104-R | NA | AM0245 | PDX | RNA-Seq | ⋯ | Open Access | Raw Sequencing Data | fastq    | Raw Reads | Illumina | FALSE | Unknown | Shoulder | Colon - Adenocarcinoma    | NA |\n",
       "|  999 | WISTAR | 2-CK-2021_S2_R1.fastq.gz | PDMR-625472 | CK2021 | 104-R | NA | CK2021 | PDX | WES     | ⋯ | Open Access | Raw Sequencing Data | fastq.gz | Raw Reads | Illumina | FALSE | Unknown | Shoulder | Colon - Adenocarcinoma    | NA |\n",
       "|  999 | WISTAR | 2-CK-2021_S2_R1.fastq.gz | PDMR-172845 | CK2021 | 121-T | NA | CK2021 | PDX | WES     | ⋯ | Open Access | Raw Sequencing Data | fastq.gz | Raw Reads | Illumina | FALSE | Unknown | Liver    | Colon - Adenocarcinoma    | NA |\n",
       "| 1000 | WISTAR | 2-CK-2021_S2_R2.fastq.gz | PDMR-625472 | CK2021 | 104-R | NA | CK2021 | PDX | WES     | ⋯ | Open Access | Raw Sequencing Data | fastq.gz | Raw Reads | Illumina | FALSE | Unknown | Shoulder | Colon - Adenocarcinoma    | NA |\n",
       "| 1000 | WISTAR | 2-CK-2021_S2_R2.fastq.gz | PDMR-172845 | CK2021 | 121-T | NA | CK2021 | PDX | WES     | ⋯ | Open Access | Raw Sequencing Data | fastq.gz | Raw Reads | Illumina | FALSE | Unknown | Liver    | Colon - Adenocarcinoma    | NA |\n",
       "| 1005 | WISTAR | 2-CK2021_S2_1.fastq      | PDMR-625472 | CK2021 | 104-R | NA | CK2021 | PDX | RNA-Seq | ⋯ | Open Access | Raw Sequencing Data | fastq    | Raw Reads | Illumina | FALSE | Unknown | Shoulder | Colon - Adenocarcinoma    | NA |\n",
       "| 1005 | WISTAR | 2-CK2021_S2_1.fastq      | PDMR-172845 | CK2021 | 121-T | NA | CK2021 | PDX | RNA-Seq | ⋯ | Open Access | Raw Sequencing Data | fastq    | Raw Reads | Illumina | FALSE | Unknown | Liver    | Colon - Adenocarcinoma    | NA |\n",
       "| 1006 | WISTAR | 2-CK2021_S2_2.fastq      | PDMR-625472 | CK2021 | 104-R | NA | CK2021 | PDX | RNA-Seq | ⋯ | Open Access | Raw Sequencing Data | fastq    | Raw Reads | Illumina | FALSE | Unknown | Shoulder | Colon - Adenocarcinoma    | NA |\n",
       "| 1006 | WISTAR | 2-CK2021_S2_2.fastq      | PDMR-172845 | CK2021 | 121-T | NA | CK2021 | PDX | RNA-Seq | ⋯ | Open Access | Raw Sequencing Data | fastq    | Raw Reads | Illumina | FALSE | Unknown | Liver    | Colon - Adenocarcinoma    | NA |\n",
       "| 1001 | WISTAR | 3-CK-0643_S3_R1.fastq.gz | PDMR-172845 | CK0643 | 121-T | NA | CK0643 | PDX | WES     | ⋯ | Open Access | Raw Sequencing Data | fastq.gz | Raw Reads | Illumina | FALSE | Unknown | Liver    | Colon - Adenocarcinoma    | NA |\n",
       "| 1001 | WISTAR | 3-CK-0643_S3_R1.fastq.gz | JAX-BL0293  | CK0643 | F563  | NA | CK0643 | PDX | WES     | ⋯ | Open Access | Raw Sequencing Data | fastq.gz | Raw Reads | Illumina | FALSE | Unknown | Bladder  | Urothelial Bladder Cancer | NA |\n",
       "| 1002 | WISTAR | 3-CK-0643_S3_R2.fastq.gz | PDMR-172845 | CK0643 | 121-T | NA | CK0643 | PDX | WES     | ⋯ | Open Access | Raw Sequencing Data | fastq.gz | Raw Reads | Illumina | FALSE | Unknown | Liver    | Colon - Adenocarcinoma    | NA |\n",
       "| 1002 | WISTAR | 3-CK-0643_S3_R2.fastq.gz | JAX-BL0293  | CK0643 | F563  | NA | CK0643 | PDX | WES     | ⋯ | Open Access | Raw Sequencing Data | fastq.gz | Raw Reads | Illumina | FALSE | Unknown | Bladder  | Urothelial Bladder Cancer | NA |\n",
       "| 1007 | WISTAR | 3-CK0643_S3_1.fastq      | PDMR-172845 | CK0643 | 121-T | NA | CK0643 | PDX | RNA-Seq | ⋯ | Open Access | Raw Sequencing Data | fastq    | Raw Reads | Illumina | FALSE | Unknown | Liver    | Colon - Adenocarcinoma    | NA |\n",
       "| 1007 | WISTAR | 3-CK0643_S3_1.fastq      | JAX-BL0293  | CK0643 | F563  | NA | CK0643 | PDX | RNA-Seq | ⋯ | Open Access | Raw Sequencing Data | fastq    | Raw Reads | Illumina | FALSE | Unknown | Bladder  | Urothelial Bladder Cancer | NA |\n",
       "| 1008 | WISTAR | 3-CK0643_S3_2.fastq      | PDMR-172845 | CK0643 | 121-T | NA | CK0643 | PDX | RNA-Seq | ⋯ | Open Access | Raw Sequencing Data | fastq    | Raw Reads | Illumina | FALSE | Unknown | Liver    | Colon - Adenocarcinoma    | NA |\n",
       "| 1008 | WISTAR | 3-CK0643_S3_2.fastq      | JAX-BL0293  | CK0643 | F563  | NA | CK0643 | PDX | RNA-Seq | ⋯ | Open Access | Raw Sequencing Data | fastq    | Raw Reads | Illumina | FALSE | Unknown | Bladder  | Urothelial Bladder Cancer | NA |\n",
       "\n"
      ],
      "text/plain": [
       "   ...1 contributor file_name                patient_id  model_id tumor_id\n",
       "1   997 WISTAR      1-AM-0245_S1_R1.fastq.gz JAX-BL0293  AM0245   F563    \n",
       "2   997 WISTAR      1-AM-0245_S1_R1.fastq.gz PDMR-625472 AM0245   104-R   \n",
       "3   998 WISTAR      1-AM-0245_S1_R2.fastq.gz JAX-BL0293  AM0245   F563    \n",
       "4   998 WISTAR      1-AM-0245_S1_R2.fastq.gz PDMR-625472 AM0245   104-R   \n",
       "5  1003 WISTAR      1-AM0245_S1_1.fastq      JAX-BL0293  AM0245   F563    \n",
       "6  1003 WISTAR      1-AM0245_S1_1.fastq      PDMR-625472 AM0245   104-R   \n",
       "7  1004 WISTAR      1-AM0245_S1_2.fastq      JAX-BL0293  AM0245   F563    \n",
       "8  1004 WISTAR      1-AM0245_S1_2.fastq      PDMR-625472 AM0245   104-R   \n",
       "9   999 WISTAR      2-CK-2021_S2_R1.fastq.gz PDMR-625472 CK2021   104-R   \n",
       "10  999 WISTAR      2-CK-2021_S2_R1.fastq.gz PDMR-172845 CK2021   121-T   \n",
       "11 1000 WISTAR      2-CK-2021_S2_R2.fastq.gz PDMR-625472 CK2021   104-R   \n",
       "12 1000 WISTAR      2-CK-2021_S2_R2.fastq.gz PDMR-172845 CK2021   121-T   \n",
       "13 1005 WISTAR      2-CK2021_S2_1.fastq      PDMR-625472 CK2021   104-R   \n",
       "14 1005 WISTAR      2-CK2021_S2_1.fastq      PDMR-172845 CK2021   121-T   \n",
       "15 1006 WISTAR      2-CK2021_S2_2.fastq      PDMR-625472 CK2021   104-R   \n",
       "16 1006 WISTAR      2-CK2021_S2_2.fastq      PDMR-172845 CK2021   121-T   \n",
       "17 1001 WISTAR      3-CK-0643_S3_R1.fastq.gz PDMR-172845 CK0643   121-T   \n",
       "18 1001 WISTAR      3-CK-0643_S3_R1.fastq.gz JAX-BL0293  CK0643   F563    \n",
       "19 1002 WISTAR      3-CK-0643_S3_R2.fastq.gz PDMR-172845 CK0643   121-T   \n",
       "20 1002 WISTAR      3-CK-0643_S3_R2.fastq.gz JAX-BL0293  CK0643   F563    \n",
       "21 1007 WISTAR      3-CK0643_S3_1.fastq      PDMR-172845 CK0643   121-T   \n",
       "22 1007 WISTAR      3-CK0643_S3_1.fastq      JAX-BL0293  CK0643   F563    \n",
       "23 1008 WISTAR      3-CK0643_S3_2.fastq      PDMR-172845 CK0643   121-T   \n",
       "24 1008 WISTAR      3-CK0643_S3_2.fastq      JAX-BL0293  CK0643   F563    \n",
       "   case_id sample_id sample_type experimental_strategy ⋯ access_level\n",
       "1  NA      AM0245    PDX         WES                   ⋯ Open Access \n",
       "2  NA      AM0245    PDX         WES                   ⋯ Open Access \n",
       "3  NA      AM0245    PDX         WES                   ⋯ Open Access \n",
       "4  NA      AM0245    PDX         WES                   ⋯ Open Access \n",
       "5  NA      AM0245    PDX         RNA-Seq               ⋯ Open Access \n",
       "6  NA      AM0245    PDX         RNA-Seq               ⋯ Open Access \n",
       "7  NA      AM0245    PDX         RNA-Seq               ⋯ Open Access \n",
       "8  NA      AM0245    PDX         RNA-Seq               ⋯ Open Access \n",
       "9  NA      CK2021    PDX         WES                   ⋯ Open Access \n",
       "10 NA      CK2021    PDX         WES                   ⋯ Open Access \n",
       "11 NA      CK2021    PDX         WES                   ⋯ Open Access \n",
       "12 NA      CK2021    PDX         WES                   ⋯ Open Access \n",
       "13 NA      CK2021    PDX         RNA-Seq               ⋯ Open Access \n",
       "14 NA      CK2021    PDX         RNA-Seq               ⋯ Open Access \n",
       "15 NA      CK2021    PDX         RNA-Seq               ⋯ Open Access \n",
       "16 NA      CK2021    PDX         RNA-Seq               ⋯ Open Access \n",
       "17 NA      CK0643    PDX         WES                   ⋯ Open Access \n",
       "18 NA      CK0643    PDX         WES                   ⋯ Open Access \n",
       "19 NA      CK0643    PDX         WES                   ⋯ Open Access \n",
       "20 NA      CK0643    PDX         WES                   ⋯ Open Access \n",
       "21 NA      CK0643    PDX         RNA-Seq               ⋯ Open Access \n",
       "22 NA      CK0643    PDX         RNA-Seq               ⋯ Open Access \n",
       "23 NA      CK0643    PDX         RNA-Seq               ⋯ Open Access \n",
       "24 NA      CK0643    PDX         RNA-Seq               ⋯ Open Access \n",
       "   data_category       data_format data_type platform is_ffpe passage\n",
       "1  Raw Sequencing Data fastq.gz    Raw Reads Illumina FALSE   Unknown\n",
       "2  Raw Sequencing Data fastq.gz    Raw Reads Illumina FALSE   Unknown\n",
       "3  Raw Sequencing Data fastq.gz    Raw Reads Illumina FALSE   Unknown\n",
       "4  Raw Sequencing Data fastq.gz    Raw Reads Illumina FALSE   Unknown\n",
       "5  Raw Sequencing Data fastq       Raw Reads Illumina FALSE   Unknown\n",
       "6  Raw Sequencing Data fastq       Raw Reads Illumina FALSE   Unknown\n",
       "7  Raw Sequencing Data fastq       Raw Reads Illumina FALSE   Unknown\n",
       "8  Raw Sequencing Data fastq       Raw Reads Illumina FALSE   Unknown\n",
       "9  Raw Sequencing Data fastq.gz    Raw Reads Illumina FALSE   Unknown\n",
       "10 Raw Sequencing Data fastq.gz    Raw Reads Illumina FALSE   Unknown\n",
       "11 Raw Sequencing Data fastq.gz    Raw Reads Illumina FALSE   Unknown\n",
       "12 Raw Sequencing Data fastq.gz    Raw Reads Illumina FALSE   Unknown\n",
       "13 Raw Sequencing Data fastq       Raw Reads Illumina FALSE   Unknown\n",
       "14 Raw Sequencing Data fastq       Raw Reads Illumina FALSE   Unknown\n",
       "15 Raw Sequencing Data fastq       Raw Reads Illumina FALSE   Unknown\n",
       "16 Raw Sequencing Data fastq       Raw Reads Illumina FALSE   Unknown\n",
       "17 Raw Sequencing Data fastq.gz    Raw Reads Illumina FALSE   Unknown\n",
       "18 Raw Sequencing Data fastq.gz    Raw Reads Illumina FALSE   Unknown\n",
       "19 Raw Sequencing Data fastq.gz    Raw Reads Illumina FALSE   Unknown\n",
       "20 Raw Sequencing Data fastq.gz    Raw Reads Illumina FALSE   Unknown\n",
       "21 Raw Sequencing Data fastq       Raw Reads Illumina FALSE   Unknown\n",
       "22 Raw Sequencing Data fastq       Raw Reads Illumina FALSE   Unknown\n",
       "23 Raw Sequencing Data fastq       Raw Reads Illumina FALSE   Unknown\n",
       "24 Raw Sequencing Data fastq       Raw Reads Illumina FALSE   Unknown\n",
       "   body_location disease_type              comment\n",
       "1  Bladder       Urothelial Bladder Cancer NA     \n",
       "2  Shoulder      Colon - Adenocarcinoma    NA     \n",
       "3  Bladder       Urothelial Bladder Cancer NA     \n",
       "4  Shoulder      Colon - Adenocarcinoma    NA     \n",
       "5  Bladder       Urothelial Bladder Cancer NA     \n",
       "6  Shoulder      Colon - Adenocarcinoma    NA     \n",
       "7  Bladder       Urothelial Bladder Cancer NA     \n",
       "8  Shoulder      Colon - Adenocarcinoma    NA     \n",
       "9  Shoulder      Colon - Adenocarcinoma    NA     \n",
       "10 Liver         Colon - Adenocarcinoma    NA     \n",
       "11 Shoulder      Colon - Adenocarcinoma    NA     \n",
       "12 Liver         Colon - Adenocarcinoma    NA     \n",
       "13 Shoulder      Colon - Adenocarcinoma    NA     \n",
       "14 Liver         Colon - Adenocarcinoma    NA     \n",
       "15 Shoulder      Colon - Adenocarcinoma    NA     \n",
       "16 Liver         Colon - Adenocarcinoma    NA     \n",
       "17 Liver         Colon - Adenocarcinoma    NA     \n",
       "18 Bladder       Urothelial Bladder Cancer NA     \n",
       "19 Liver         Colon - Adenocarcinoma    NA     \n",
       "20 Bladder       Urothelial Bladder Cancer NA     \n",
       "21 Liver         Colon - Adenocarcinoma    NA     \n",
       "22 Bladder       Urothelial Bladder Cancer NA     \n",
       "23 Liver         Colon - Adenocarcinoma    NA     \n",
       "24 Bladder       Urothelial Bladder Cancer NA     "
      ]
     },
     "metadata": {},
     "output_type": "display_data"
    }
   ],
   "source": [
    "# Create a list of wistar files that are duplicates\n",
    "\n",
    "wistar_duplicates <- duplicates %>% filter(contributor == 'WISTAR')\n",
    "\n",
    "wistar_duplicates %>% write_csv('2022-02-25_wistar_duplicates.csv')\n",
    "\n",
    "wistar_duplicates"
   ]
  },
  {
   "cell_type": "markdown",
   "id": "89ac2824-e2eb-45e3-afd4-fba61f86ede4",
   "metadata": {},
   "source": [
    "It looks like the wistar files cannot be deduplicated easily, because the TMZ metadata has multiple disease type entries for the same model IDs. Also, multiple patient IDs. However, they are different depending on experiment type."
   ]
  },
  {
   "cell_type": "markdown",
   "id": "fef17c9d-0448-4f69-9281-4bdb76be0991",
   "metadata": {},
   "source": [
    "I should create a new index column for the cleaned metadata and export. I can then use the duplicates to fix it manually since writing the logic to deduplicate this and not lose anything will be complicated. It's best to do this programmatically, but I don't see an easy way around this."
   ]
  },
  {
   "cell_type": "code",
   "execution_count": 17,
   "id": "5ae91119-bc46-49a0-9459-f7d2308d379e",
   "metadata": {},
   "outputs": [],
   "source": [
    "# Create new index column\n",
    "\n",
    "pdtc_metadata_cleaned$...1 <- seq(1, nrow(pdtc_metadata_cleaned))"
   ]
  },
  {
   "cell_type": "code",
   "execution_count": 18,
   "id": "caa95978-0e69-418f-b5d8-6b8adbfff672",
   "metadata": {},
   "outputs": [],
   "source": [
    "# Export\n",
    "\n",
    "pdtc_metadata_cleaned %>% write_csv('2022-02-25_pdtc_metadata_duplicated_wistar.csv')"
   ]
  },
  {
   "cell_type": "markdown",
   "id": "a845907e-80f7-44c7-b9ac-b84a9c495a5a",
   "metadata": {},
   "source": [
    "### Fix the wistar duplicates\n",
    "I edited a list manually and can replace these file IDs with the edited ones. That will remove the duplicates and replace with a single entry for each file name that matches the TMZ metadata."
   ]
  },
  {
   "cell_type": "code",
   "execution_count": 19,
   "id": "602b0f54-8d3b-4658-a01f-4e5f7c2f65d7",
   "metadata": {},
   "outputs": [
    {
     "data": {
      "text/html": [
       "<table class=\"dataframe\">\n",
       "<caption>A tibble: 12 × 26</caption>\n",
       "<thead>\n",
       "\t<tr><th scope=col>...1</th><th scope=col>contributor</th><th scope=col>file_name</th><th scope=col>patient_id</th><th scope=col>model_id</th><th scope=col>tumor_id</th><th scope=col>case_id</th><th scope=col>sample_id</th><th scope=col>sample_type</th><th scope=col>experimental_strategy</th><th scope=col>⋯</th><th scope=col>access_level</th><th scope=col>data_category</th><th scope=col>data_format</th><th scope=col>data_type</th><th scope=col>platform</th><th scope=col>is_ffpe</th><th scope=col>passage</th><th scope=col>body_location</th><th scope=col>disease_type</th><th scope=col>comment</th></tr>\n",
       "\t<tr><th scope=col>&lt;dbl&gt;</th><th scope=col>&lt;chr&gt;</th><th scope=col>&lt;chr&gt;</th><th scope=col>&lt;chr&gt;</th><th scope=col>&lt;chr&gt;</th><th scope=col>&lt;chr&gt;</th><th scope=col>&lt;chr&gt;</th><th scope=col>&lt;chr&gt;</th><th scope=col>&lt;chr&gt;</th><th scope=col>&lt;chr&gt;</th><th scope=col>⋯</th><th scope=col>&lt;chr&gt;</th><th scope=col>&lt;chr&gt;</th><th scope=col>&lt;chr&gt;</th><th scope=col>&lt;chr&gt;</th><th scope=col>&lt;chr&gt;</th><th scope=col>&lt;lgl&gt;</th><th scope=col>&lt;chr&gt;</th><th scope=col>&lt;chr&gt;</th><th scope=col>&lt;chr&gt;</th><th scope=col>&lt;chr&gt;</th></tr>\n",
       "</thead>\n",
       "<tbody>\n",
       "\t<tr><td> 997</td><td>WISTAR</td><td>1-AM-0245_S1_R1.fastq.gz</td><td>PDMR-625472</td><td>AM0245</td><td>104-R</td><td>NA</td><td>AM0245</td><td>PDX</td><td>WES    </td><td>⋯</td><td>Open Access</td><td>Raw Sequencing Data</td><td>fastq.gz</td><td>Raw Reads</td><td>Illumina</td><td>FALSE</td><td>Unknown</td><td>Shoulder</td><td>Colon - Adenocarcinoma   </td><td>NA</td></tr>\n",
       "\t<tr><td> 998</td><td>WISTAR</td><td>1-AM-0245_S1_R2.fastq.gz</td><td>PDMR-625472</td><td>AM0245</td><td>104-R</td><td>NA</td><td>AM0245</td><td>PDX</td><td>WES    </td><td>⋯</td><td>Open Access</td><td>Raw Sequencing Data</td><td>fastq.gz</td><td>Raw Reads</td><td>Illumina</td><td>FALSE</td><td>Unknown</td><td>Shoulder</td><td>Colon - Adenocarcinoma   </td><td>NA</td></tr>\n",
       "\t<tr><td>1003</td><td>WISTAR</td><td>1-AM0245_S1_1.fastq     </td><td>JAX-BL0293 </td><td>AM0245</td><td>F563 </td><td>NA</td><td>AM0245</td><td>PDX</td><td>RNA-Seq</td><td>⋯</td><td>Open Access</td><td>Raw Sequencing Data</td><td>fastq   </td><td>Raw Reads</td><td>Illumina</td><td>FALSE</td><td>Unknown</td><td>Bladder </td><td>Urothelial Bladder Cancer</td><td>NA</td></tr>\n",
       "\t<tr><td>1004</td><td>WISTAR</td><td>1-AM0245_S1_2.fastq     </td><td>JAX-BL0293 </td><td>AM0245</td><td>F563 </td><td>NA</td><td>AM0245</td><td>PDX</td><td>RNA-Seq</td><td>⋯</td><td>Open Access</td><td>Raw Sequencing Data</td><td>fastq   </td><td>Raw Reads</td><td>Illumina</td><td>FALSE</td><td>Unknown</td><td>Bladder </td><td>Urothelial Bladder Cancer</td><td>NA</td></tr>\n",
       "\t<tr><td> 999</td><td>WISTAR</td><td>2-CK-2021_S2_R1.fastq.gz</td><td>PDMR-172845</td><td>CK2021</td><td>121-T</td><td>NA</td><td>CK2021</td><td>PDX</td><td>WES    </td><td>⋯</td><td>Open Access</td><td>Raw Sequencing Data</td><td>fastq.gz</td><td>Raw Reads</td><td>Illumina</td><td>FALSE</td><td>Unknown</td><td>Liver   </td><td>Colon - Adenocarcinoma   </td><td>NA</td></tr>\n",
       "\t<tr><td>1000</td><td>WISTAR</td><td>2-CK-2021_S2_R2.fastq.gz</td><td>PDMR-172845</td><td>CK2021</td><td>121-T</td><td>NA</td><td>CK2021</td><td>PDX</td><td>WES    </td><td>⋯</td><td>Open Access</td><td>Raw Sequencing Data</td><td>fastq.gz</td><td>Raw Reads</td><td>Illumina</td><td>FALSE</td><td>Unknown</td><td>Liver   </td><td>Colon - Adenocarcinoma   </td><td>NA</td></tr>\n",
       "\t<tr><td>1005</td><td>WISTAR</td><td>2-CK2021_S2_1.fastq     </td><td>PDMR-625472</td><td>CK2021</td><td>104-R</td><td>NA</td><td>CK2021</td><td>PDX</td><td>RNA-Seq</td><td>⋯</td><td>Open Access</td><td>Raw Sequencing Data</td><td>fastq   </td><td>Raw Reads</td><td>Illumina</td><td>FALSE</td><td>Unknown</td><td>Shoulder</td><td>Colon - Adenocarcinoma   </td><td>NA</td></tr>\n",
       "\t<tr><td>1006</td><td>WISTAR</td><td>2-CK2021_S2_2.fastq     </td><td>PDMR-625472</td><td>CK2021</td><td>104-R</td><td>NA</td><td>CK2021</td><td>PDX</td><td>RNA-Seq</td><td>⋯</td><td>Open Access</td><td>Raw Sequencing Data</td><td>fastq   </td><td>Raw Reads</td><td>Illumina</td><td>FALSE</td><td>Unknown</td><td>Shoulder</td><td>Colon - Adenocarcinoma   </td><td>NA</td></tr>\n",
       "\t<tr><td>1001</td><td>WISTAR</td><td>3-CK-0643_S3_R1.fastq.gz</td><td>JAX-BL0293 </td><td>CK0643</td><td>F563 </td><td>NA</td><td>CK0643</td><td>PDX</td><td>WES    </td><td>⋯</td><td>Open Access</td><td>Raw Sequencing Data</td><td>fastq.gz</td><td>Raw Reads</td><td>Illumina</td><td>FALSE</td><td>Unknown</td><td>Bladder </td><td>Urothelial Bladder Cancer</td><td>NA</td></tr>\n",
       "\t<tr><td>1002</td><td>WISTAR</td><td>3-CK-0643_S3_R2.fastq.gz</td><td>JAX-BL0293 </td><td>CK0643</td><td>F563 </td><td>NA</td><td>CK0643</td><td>PDX</td><td>WES    </td><td>⋯</td><td>Open Access</td><td>Raw Sequencing Data</td><td>fastq.gz</td><td>Raw Reads</td><td>Illumina</td><td>FALSE</td><td>Unknown</td><td>Bladder </td><td>Urothelial Bladder Cancer</td><td>NA</td></tr>\n",
       "\t<tr><td>1007</td><td>WISTAR</td><td>3-CK0643_S3_1.fastq     </td><td>PDMR-172845</td><td>CK0643</td><td>121-T</td><td>NA</td><td>CK0643</td><td>PDX</td><td>RNA-Seq</td><td>⋯</td><td>Open Access</td><td>Raw Sequencing Data</td><td>fastq   </td><td>Raw Reads</td><td>Illumina</td><td>FALSE</td><td>Unknown</td><td>Liver   </td><td>Colon - Adenocarcinoma   </td><td>NA</td></tr>\n",
       "\t<tr><td>1008</td><td>WISTAR</td><td>3-CK0643_S3_2.fastq     </td><td>PDMR-172845</td><td>CK0643</td><td>121-T</td><td>NA</td><td>CK0643</td><td>PDX</td><td>RNA-Seq</td><td>⋯</td><td>Open Access</td><td>Raw Sequencing Data</td><td>fastq   </td><td>Raw Reads</td><td>Illumina</td><td>FALSE</td><td>Unknown</td><td>Liver   </td><td>Colon - Adenocarcinoma   </td><td>NA</td></tr>\n",
       "</tbody>\n",
       "</table>\n"
      ],
      "text/latex": [
       "A tibble: 12 × 26\n",
       "\\begin{tabular}{lllllllllllllllllllll}\n",
       " ...1 & contributor & file\\_name & patient\\_id & model\\_id & tumor\\_id & case\\_id & sample\\_id & sample\\_type & experimental\\_strategy & ⋯ & access\\_level & data\\_category & data\\_format & data\\_type & platform & is\\_ffpe & passage & body\\_location & disease\\_type & comment\\\\\n",
       " <dbl> & <chr> & <chr> & <chr> & <chr> & <chr> & <chr> & <chr> & <chr> & <chr> & ⋯ & <chr> & <chr> & <chr> & <chr> & <chr> & <lgl> & <chr> & <chr> & <chr> & <chr>\\\\\n",
       "\\hline\n",
       "\t  997 & WISTAR & 1-AM-0245\\_S1\\_R1.fastq.gz & PDMR-625472 & AM0245 & 104-R & NA & AM0245 & PDX & WES     & ⋯ & Open Access & Raw Sequencing Data & fastq.gz & Raw Reads & Illumina & FALSE & Unknown & Shoulder & Colon - Adenocarcinoma    & NA\\\\\n",
       "\t  998 & WISTAR & 1-AM-0245\\_S1\\_R2.fastq.gz & PDMR-625472 & AM0245 & 104-R & NA & AM0245 & PDX & WES     & ⋯ & Open Access & Raw Sequencing Data & fastq.gz & Raw Reads & Illumina & FALSE & Unknown & Shoulder & Colon - Adenocarcinoma    & NA\\\\\n",
       "\t 1003 & WISTAR & 1-AM0245\\_S1\\_1.fastq      & JAX-BL0293  & AM0245 & F563  & NA & AM0245 & PDX & RNA-Seq & ⋯ & Open Access & Raw Sequencing Data & fastq    & Raw Reads & Illumina & FALSE & Unknown & Bladder  & Urothelial Bladder Cancer & NA\\\\\n",
       "\t 1004 & WISTAR & 1-AM0245\\_S1\\_2.fastq      & JAX-BL0293  & AM0245 & F563  & NA & AM0245 & PDX & RNA-Seq & ⋯ & Open Access & Raw Sequencing Data & fastq    & Raw Reads & Illumina & FALSE & Unknown & Bladder  & Urothelial Bladder Cancer & NA\\\\\n",
       "\t  999 & WISTAR & 2-CK-2021\\_S2\\_R1.fastq.gz & PDMR-172845 & CK2021 & 121-T & NA & CK2021 & PDX & WES     & ⋯ & Open Access & Raw Sequencing Data & fastq.gz & Raw Reads & Illumina & FALSE & Unknown & Liver    & Colon - Adenocarcinoma    & NA\\\\\n",
       "\t 1000 & WISTAR & 2-CK-2021\\_S2\\_R2.fastq.gz & PDMR-172845 & CK2021 & 121-T & NA & CK2021 & PDX & WES     & ⋯ & Open Access & Raw Sequencing Data & fastq.gz & Raw Reads & Illumina & FALSE & Unknown & Liver    & Colon - Adenocarcinoma    & NA\\\\\n",
       "\t 1005 & WISTAR & 2-CK2021\\_S2\\_1.fastq      & PDMR-625472 & CK2021 & 104-R & NA & CK2021 & PDX & RNA-Seq & ⋯ & Open Access & Raw Sequencing Data & fastq    & Raw Reads & Illumina & FALSE & Unknown & Shoulder & Colon - Adenocarcinoma    & NA\\\\\n",
       "\t 1006 & WISTAR & 2-CK2021\\_S2\\_2.fastq      & PDMR-625472 & CK2021 & 104-R & NA & CK2021 & PDX & RNA-Seq & ⋯ & Open Access & Raw Sequencing Data & fastq    & Raw Reads & Illumina & FALSE & Unknown & Shoulder & Colon - Adenocarcinoma    & NA\\\\\n",
       "\t 1001 & WISTAR & 3-CK-0643\\_S3\\_R1.fastq.gz & JAX-BL0293  & CK0643 & F563  & NA & CK0643 & PDX & WES     & ⋯ & Open Access & Raw Sequencing Data & fastq.gz & Raw Reads & Illumina & FALSE & Unknown & Bladder  & Urothelial Bladder Cancer & NA\\\\\n",
       "\t 1002 & WISTAR & 3-CK-0643\\_S3\\_R2.fastq.gz & JAX-BL0293  & CK0643 & F563  & NA & CK0643 & PDX & WES     & ⋯ & Open Access & Raw Sequencing Data & fastq.gz & Raw Reads & Illumina & FALSE & Unknown & Bladder  & Urothelial Bladder Cancer & NA\\\\\n",
       "\t 1007 & WISTAR & 3-CK0643\\_S3\\_1.fastq      & PDMR-172845 & CK0643 & 121-T & NA & CK0643 & PDX & RNA-Seq & ⋯ & Open Access & Raw Sequencing Data & fastq    & Raw Reads & Illumina & FALSE & Unknown & Liver    & Colon - Adenocarcinoma    & NA\\\\\n",
       "\t 1008 & WISTAR & 3-CK0643\\_S3\\_2.fastq      & PDMR-172845 & CK0643 & 121-T & NA & CK0643 & PDX & RNA-Seq & ⋯ & Open Access & Raw Sequencing Data & fastq    & Raw Reads & Illumina & FALSE & Unknown & Liver    & Colon - Adenocarcinoma    & NA\\\\\n",
       "\\end{tabular}\n"
      ],
      "text/markdown": [
       "\n",
       "A tibble: 12 × 26\n",
       "\n",
       "| ...1 &lt;dbl&gt; | contributor &lt;chr&gt; | file_name &lt;chr&gt; | patient_id &lt;chr&gt; | model_id &lt;chr&gt; | tumor_id &lt;chr&gt; | case_id &lt;chr&gt; | sample_id &lt;chr&gt; | sample_type &lt;chr&gt; | experimental_strategy &lt;chr&gt; | ⋯ ⋯ | access_level &lt;chr&gt; | data_category &lt;chr&gt; | data_format &lt;chr&gt; | data_type &lt;chr&gt; | platform &lt;chr&gt; | is_ffpe &lt;lgl&gt; | passage &lt;chr&gt; | body_location &lt;chr&gt; | disease_type &lt;chr&gt; | comment &lt;chr&gt; |\n",
       "|---|---|---|---|---|---|---|---|---|---|---|---|---|---|---|---|---|---|---|---|---|\n",
       "|  997 | WISTAR | 1-AM-0245_S1_R1.fastq.gz | PDMR-625472 | AM0245 | 104-R | NA | AM0245 | PDX | WES     | ⋯ | Open Access | Raw Sequencing Data | fastq.gz | Raw Reads | Illumina | FALSE | Unknown | Shoulder | Colon - Adenocarcinoma    | NA |\n",
       "|  998 | WISTAR | 1-AM-0245_S1_R2.fastq.gz | PDMR-625472 | AM0245 | 104-R | NA | AM0245 | PDX | WES     | ⋯ | Open Access | Raw Sequencing Data | fastq.gz | Raw Reads | Illumina | FALSE | Unknown | Shoulder | Colon - Adenocarcinoma    | NA |\n",
       "| 1003 | WISTAR | 1-AM0245_S1_1.fastq      | JAX-BL0293  | AM0245 | F563  | NA | AM0245 | PDX | RNA-Seq | ⋯ | Open Access | Raw Sequencing Data | fastq    | Raw Reads | Illumina | FALSE | Unknown | Bladder  | Urothelial Bladder Cancer | NA |\n",
       "| 1004 | WISTAR | 1-AM0245_S1_2.fastq      | JAX-BL0293  | AM0245 | F563  | NA | AM0245 | PDX | RNA-Seq | ⋯ | Open Access | Raw Sequencing Data | fastq    | Raw Reads | Illumina | FALSE | Unknown | Bladder  | Urothelial Bladder Cancer | NA |\n",
       "|  999 | WISTAR | 2-CK-2021_S2_R1.fastq.gz | PDMR-172845 | CK2021 | 121-T | NA | CK2021 | PDX | WES     | ⋯ | Open Access | Raw Sequencing Data | fastq.gz | Raw Reads | Illumina | FALSE | Unknown | Liver    | Colon - Adenocarcinoma    | NA |\n",
       "| 1000 | WISTAR | 2-CK-2021_S2_R2.fastq.gz | PDMR-172845 | CK2021 | 121-T | NA | CK2021 | PDX | WES     | ⋯ | Open Access | Raw Sequencing Data | fastq.gz | Raw Reads | Illumina | FALSE | Unknown | Liver    | Colon - Adenocarcinoma    | NA |\n",
       "| 1005 | WISTAR | 2-CK2021_S2_1.fastq      | PDMR-625472 | CK2021 | 104-R | NA | CK2021 | PDX | RNA-Seq | ⋯ | Open Access | Raw Sequencing Data | fastq    | Raw Reads | Illumina | FALSE | Unknown | Shoulder | Colon - Adenocarcinoma    | NA |\n",
       "| 1006 | WISTAR | 2-CK2021_S2_2.fastq      | PDMR-625472 | CK2021 | 104-R | NA | CK2021 | PDX | RNA-Seq | ⋯ | Open Access | Raw Sequencing Data | fastq    | Raw Reads | Illumina | FALSE | Unknown | Shoulder | Colon - Adenocarcinoma    | NA |\n",
       "| 1001 | WISTAR | 3-CK-0643_S3_R1.fastq.gz | JAX-BL0293  | CK0643 | F563  | NA | CK0643 | PDX | WES     | ⋯ | Open Access | Raw Sequencing Data | fastq.gz | Raw Reads | Illumina | FALSE | Unknown | Bladder  | Urothelial Bladder Cancer | NA |\n",
       "| 1002 | WISTAR | 3-CK-0643_S3_R2.fastq.gz | JAX-BL0293  | CK0643 | F563  | NA | CK0643 | PDX | WES     | ⋯ | Open Access | Raw Sequencing Data | fastq.gz | Raw Reads | Illumina | FALSE | Unknown | Bladder  | Urothelial Bladder Cancer | NA |\n",
       "| 1007 | WISTAR | 3-CK0643_S3_1.fastq      | PDMR-172845 | CK0643 | 121-T | NA | CK0643 | PDX | RNA-Seq | ⋯ | Open Access | Raw Sequencing Data | fastq    | Raw Reads | Illumina | FALSE | Unknown | Liver    | Colon - Adenocarcinoma    | NA |\n",
       "| 1008 | WISTAR | 3-CK0643_S3_2.fastq      | PDMR-172845 | CK0643 | 121-T | NA | CK0643 | PDX | RNA-Seq | ⋯ | Open Access | Raw Sequencing Data | fastq    | Raw Reads | Illumina | FALSE | Unknown | Liver    | Colon - Adenocarcinoma    | NA |\n",
       "\n"
      ],
      "text/plain": [
       "   ...1 contributor file_name                patient_id  model_id tumor_id\n",
       "1   997 WISTAR      1-AM-0245_S1_R1.fastq.gz PDMR-625472 AM0245   104-R   \n",
       "2   998 WISTAR      1-AM-0245_S1_R2.fastq.gz PDMR-625472 AM0245   104-R   \n",
       "3  1003 WISTAR      1-AM0245_S1_1.fastq      JAX-BL0293  AM0245   F563    \n",
       "4  1004 WISTAR      1-AM0245_S1_2.fastq      JAX-BL0293  AM0245   F563    \n",
       "5   999 WISTAR      2-CK-2021_S2_R1.fastq.gz PDMR-172845 CK2021   121-T   \n",
       "6  1000 WISTAR      2-CK-2021_S2_R2.fastq.gz PDMR-172845 CK2021   121-T   \n",
       "7  1005 WISTAR      2-CK2021_S2_1.fastq      PDMR-625472 CK2021   104-R   \n",
       "8  1006 WISTAR      2-CK2021_S2_2.fastq      PDMR-625472 CK2021   104-R   \n",
       "9  1001 WISTAR      3-CK-0643_S3_R1.fastq.gz JAX-BL0293  CK0643   F563    \n",
       "10 1002 WISTAR      3-CK-0643_S3_R2.fastq.gz JAX-BL0293  CK0643   F563    \n",
       "11 1007 WISTAR      3-CK0643_S3_1.fastq      PDMR-172845 CK0643   121-T   \n",
       "12 1008 WISTAR      3-CK0643_S3_2.fastq      PDMR-172845 CK0643   121-T   \n",
       "   case_id sample_id sample_type experimental_strategy ⋯ access_level\n",
       "1  NA      AM0245    PDX         WES                   ⋯ Open Access \n",
       "2  NA      AM0245    PDX         WES                   ⋯ Open Access \n",
       "3  NA      AM0245    PDX         RNA-Seq               ⋯ Open Access \n",
       "4  NA      AM0245    PDX         RNA-Seq               ⋯ Open Access \n",
       "5  NA      CK2021    PDX         WES                   ⋯ Open Access \n",
       "6  NA      CK2021    PDX         WES                   ⋯ Open Access \n",
       "7  NA      CK2021    PDX         RNA-Seq               ⋯ Open Access \n",
       "8  NA      CK2021    PDX         RNA-Seq               ⋯ Open Access \n",
       "9  NA      CK0643    PDX         WES                   ⋯ Open Access \n",
       "10 NA      CK0643    PDX         WES                   ⋯ Open Access \n",
       "11 NA      CK0643    PDX         RNA-Seq               ⋯ Open Access \n",
       "12 NA      CK0643    PDX         RNA-Seq               ⋯ Open Access \n",
       "   data_category       data_format data_type platform is_ffpe passage\n",
       "1  Raw Sequencing Data fastq.gz    Raw Reads Illumina FALSE   Unknown\n",
       "2  Raw Sequencing Data fastq.gz    Raw Reads Illumina FALSE   Unknown\n",
       "3  Raw Sequencing Data fastq       Raw Reads Illumina FALSE   Unknown\n",
       "4  Raw Sequencing Data fastq       Raw Reads Illumina FALSE   Unknown\n",
       "5  Raw Sequencing Data fastq.gz    Raw Reads Illumina FALSE   Unknown\n",
       "6  Raw Sequencing Data fastq.gz    Raw Reads Illumina FALSE   Unknown\n",
       "7  Raw Sequencing Data fastq       Raw Reads Illumina FALSE   Unknown\n",
       "8  Raw Sequencing Data fastq       Raw Reads Illumina FALSE   Unknown\n",
       "9  Raw Sequencing Data fastq.gz    Raw Reads Illumina FALSE   Unknown\n",
       "10 Raw Sequencing Data fastq.gz    Raw Reads Illumina FALSE   Unknown\n",
       "11 Raw Sequencing Data fastq       Raw Reads Illumina FALSE   Unknown\n",
       "12 Raw Sequencing Data fastq       Raw Reads Illumina FALSE   Unknown\n",
       "   body_location disease_type              comment\n",
       "1  Shoulder      Colon - Adenocarcinoma    NA     \n",
       "2  Shoulder      Colon - Adenocarcinoma    NA     \n",
       "3  Bladder       Urothelial Bladder Cancer NA     \n",
       "4  Bladder       Urothelial Bladder Cancer NA     \n",
       "5  Liver         Colon - Adenocarcinoma    NA     \n",
       "6  Liver         Colon - Adenocarcinoma    NA     \n",
       "7  Shoulder      Colon - Adenocarcinoma    NA     \n",
       "8  Shoulder      Colon - Adenocarcinoma    NA     \n",
       "9  Bladder       Urothelial Bladder Cancer NA     \n",
       "10 Bladder       Urothelial Bladder Cancer NA     \n",
       "11 Liver         Colon - Adenocarcinoma    NA     \n",
       "12 Liver         Colon - Adenocarcinoma    NA     "
      ]
     },
     "metadata": {},
     "output_type": "display_data"
    }
   ],
   "source": [
    "# read in the edited metadata\n",
    "\n",
    "wistar_deduplicated <- read_excel('2022-02-25_wistar_deduplicated.xlsx')\n",
    "\n",
    "wistar_deduplicated"
   ]
  },
  {
   "cell_type": "code",
   "execution_count": 21,
   "id": "01ebbc5e-8ec7-4cdb-96c3-50d4c547174d",
   "metadata": {},
   "outputs": [
    {
     "data": {
      "text/html": [
       "TRUE"
      ],
      "text/latex": [
       "TRUE"
      ],
      "text/markdown": [
       "TRUE"
      ],
      "text/plain": [
       "[1] TRUE"
      ]
     },
     "metadata": {},
     "output_type": "display_data"
    }
   ],
   "source": [
    "# Remove the rows that are for these duplicated file names from the cleaned version\n",
    "\n",
    "pdtc_metadata_cleaned <- pdtc_metadata_cleaned %>% filter(!(file_name %in% wistar_deduplicated$file_name))\n",
    "\n",
    "# Does that match the expected number of files\n",
    "2146 - nrow(pdtc_metadata_cleaned) == 24"
   ]
  },
  {
   "cell_type": "code",
   "execution_count": 25,
   "id": "d29012ba-3b45-4f3f-8a86-9e1a1ab3a14d",
   "metadata": {},
   "outputs": [
    {
     "data": {
      "text/html": [
       "2134"
      ],
      "text/latex": [
       "2134"
      ],
      "text/markdown": [
       "2134"
      ],
      "text/plain": [
       "[1] 2134"
      ]
     },
     "metadata": {},
     "output_type": "display_data"
    },
    {
     "data": {
      "text/html": [
       "<table class=\"dataframe\">\n",
       "<caption>A tibble: 6 × 26</caption>\n",
       "<thead>\n",
       "\t<tr><th scope=col>...1</th><th scope=col>contributor</th><th scope=col>file_name</th><th scope=col>patient_id</th><th scope=col>model_id</th><th scope=col>tumor_id</th><th scope=col>case_id</th><th scope=col>sample_id</th><th scope=col>sample_type</th><th scope=col>experimental_strategy</th><th scope=col>⋯</th><th scope=col>access_level</th><th scope=col>data_category</th><th scope=col>data_format</th><th scope=col>data_type</th><th scope=col>platform</th><th scope=col>is_ffpe</th><th scope=col>passage</th><th scope=col>body_location</th><th scope=col>disease_type</th><th scope=col>comment</th></tr>\n",
       "\t<tr><th scope=col>&lt;int&gt;</th><th scope=col>&lt;chr&gt;</th><th scope=col>&lt;chr&gt;</th><th scope=col>&lt;chr&gt;</th><th scope=col>&lt;chr&gt;</th><th scope=col>&lt;chr&gt;</th><th scope=col>&lt;chr&gt;</th><th scope=col>&lt;chr&gt;</th><th scope=col>&lt;chr&gt;</th><th scope=col>&lt;chr&gt;</th><th scope=col>⋯</th><th scope=col>&lt;chr&gt;</th><th scope=col>&lt;chr&gt;</th><th scope=col>&lt;chr&gt;</th><th scope=col>&lt;chr&gt;</th><th scope=col>&lt;chr&gt;</th><th scope=col>&lt;chr&gt;</th><th scope=col>&lt;chr&gt;</th><th scope=col>&lt;chr&gt;</th><th scope=col>&lt;chr&gt;</th><th scope=col>&lt;chr&gt;</th></tr>\n",
       "</thead>\n",
       "<tbody>\n",
       "\t<tr><td>1</td><td>BCM</td><td>34_S29_L005_R1_001.fastq.gz</td><td>24483</td><td>BCM-4913</td><td>4913</td><td>NA</td><td>BCM-4913</td><td>PDX</td><td>WES</td><td>⋯</td><td>Controlled</td><td>Raw Sequencing Data</td><td>fastq.gz</td><td>Raw Reads</td><td>Illumina</td><td>Unknown</td><td>Unknown</td><td>Breast</td><td>Invasive breast carcinoma       </td><td>NA</td></tr>\n",
       "\t<tr><td>2</td><td>BCM</td><td>34_S29_L005_R2_001.fastq.gz</td><td>24483</td><td>BCM-4913</td><td>4913</td><td>NA</td><td>BCM-4913</td><td>PDX</td><td>WES</td><td>⋯</td><td>Controlled</td><td>Raw Sequencing Data</td><td>fastq.gz</td><td>Raw Reads</td><td>Illumina</td><td>Unknown</td><td>Unknown</td><td>Breast</td><td>Invasive breast carcinoma       </td><td>NA</td></tr>\n",
       "\t<tr><td>3</td><td>BCM</td><td>35_S30_L005_R1_001.fastq.gz</td><td>24490</td><td>BCM-4400</td><td>4400</td><td>NA</td><td>BCM-4400</td><td>PDX</td><td>WES</td><td>⋯</td><td>Controlled</td><td>Raw Sequencing Data</td><td>fastq.gz</td><td>Raw Reads</td><td>Illumina</td><td>Unknown</td><td>Unknown</td><td>Breast</td><td>Infiltrating duct carcinoma, NOS</td><td>NA</td></tr>\n",
       "\t<tr><td>4</td><td>BCM</td><td>35_S30_L005_R2_001.fastq.gz</td><td>24490</td><td>BCM-4400</td><td>4400</td><td>NA</td><td>BCM-4400</td><td>PDX</td><td>WES</td><td>⋯</td><td>Controlled</td><td>Raw Sequencing Data</td><td>fastq.gz</td><td>Raw Reads</td><td>Illumina</td><td>Unknown</td><td>Unknown</td><td>Breast</td><td>Infiltrating duct carcinoma, NOS</td><td>NA</td></tr>\n",
       "\t<tr><td>5</td><td>BCM</td><td>36_S31_L005_R1_001.fastq.gz</td><td>24455</td><td>BCM-2277</td><td>2277</td><td>NA</td><td>BCM-2277</td><td>PDX</td><td>WES</td><td>⋯</td><td>Controlled</td><td>Raw Sequencing Data</td><td>fastq.gz</td><td>Raw Reads</td><td>Illumina</td><td>Unknown</td><td>Unknown</td><td>Breast</td><td>Invasive breast carcinoma       </td><td>NA</td></tr>\n",
       "\t<tr><td>6</td><td>BCM</td><td>36_S31_L005_R2_001.fastq.gz</td><td>24455</td><td>BCM-2277</td><td>2277</td><td>NA</td><td>BCM-2277</td><td>PDX</td><td>WES</td><td>⋯</td><td>Controlled</td><td>Raw Sequencing Data</td><td>fastq.gz</td><td>Raw Reads</td><td>Illumina</td><td>Unknown</td><td>Unknown</td><td>Breast</td><td>Invasive breast carcinoma       </td><td>NA</td></tr>\n",
       "</tbody>\n",
       "</table>\n"
      ],
      "text/latex": [
       "A tibble: 6 × 26\n",
       "\\begin{tabular}{lllllllllllllllllllll}\n",
       " ...1 & contributor & file\\_name & patient\\_id & model\\_id & tumor\\_id & case\\_id & sample\\_id & sample\\_type & experimental\\_strategy & ⋯ & access\\_level & data\\_category & data\\_format & data\\_type & platform & is\\_ffpe & passage & body\\_location & disease\\_type & comment\\\\\n",
       " <int> & <chr> & <chr> & <chr> & <chr> & <chr> & <chr> & <chr> & <chr> & <chr> & ⋯ & <chr> & <chr> & <chr> & <chr> & <chr> & <chr> & <chr> & <chr> & <chr> & <chr>\\\\\n",
       "\\hline\n",
       "\t 1 & BCM & 34\\_S29\\_L005\\_R1\\_001.fastq.gz & 24483 & BCM-4913 & 4913 & NA & BCM-4913 & PDX & WES & ⋯ & Controlled & Raw Sequencing Data & fastq.gz & Raw Reads & Illumina & Unknown & Unknown & Breast & Invasive breast carcinoma        & NA\\\\\n",
       "\t 2 & BCM & 34\\_S29\\_L005\\_R2\\_001.fastq.gz & 24483 & BCM-4913 & 4913 & NA & BCM-4913 & PDX & WES & ⋯ & Controlled & Raw Sequencing Data & fastq.gz & Raw Reads & Illumina & Unknown & Unknown & Breast & Invasive breast carcinoma        & NA\\\\\n",
       "\t 3 & BCM & 35\\_S30\\_L005\\_R1\\_001.fastq.gz & 24490 & BCM-4400 & 4400 & NA & BCM-4400 & PDX & WES & ⋯ & Controlled & Raw Sequencing Data & fastq.gz & Raw Reads & Illumina & Unknown & Unknown & Breast & Infiltrating duct carcinoma, NOS & NA\\\\\n",
       "\t 4 & BCM & 35\\_S30\\_L005\\_R2\\_001.fastq.gz & 24490 & BCM-4400 & 4400 & NA & BCM-4400 & PDX & WES & ⋯ & Controlled & Raw Sequencing Data & fastq.gz & Raw Reads & Illumina & Unknown & Unknown & Breast & Infiltrating duct carcinoma, NOS & NA\\\\\n",
       "\t 5 & BCM & 36\\_S31\\_L005\\_R1\\_001.fastq.gz & 24455 & BCM-2277 & 2277 & NA & BCM-2277 & PDX & WES & ⋯ & Controlled & Raw Sequencing Data & fastq.gz & Raw Reads & Illumina & Unknown & Unknown & Breast & Invasive breast carcinoma        & NA\\\\\n",
       "\t 6 & BCM & 36\\_S31\\_L005\\_R2\\_001.fastq.gz & 24455 & BCM-2277 & 2277 & NA & BCM-2277 & PDX & WES & ⋯ & Controlled & Raw Sequencing Data & fastq.gz & Raw Reads & Illumina & Unknown & Unknown & Breast & Invasive breast carcinoma        & NA\\\\\n",
       "\\end{tabular}\n"
      ],
      "text/markdown": [
       "\n",
       "A tibble: 6 × 26\n",
       "\n",
       "| ...1 &lt;int&gt; | contributor &lt;chr&gt; | file_name &lt;chr&gt; | patient_id &lt;chr&gt; | model_id &lt;chr&gt; | tumor_id &lt;chr&gt; | case_id &lt;chr&gt; | sample_id &lt;chr&gt; | sample_type &lt;chr&gt; | experimental_strategy &lt;chr&gt; | ⋯ ⋯ | access_level &lt;chr&gt; | data_category &lt;chr&gt; | data_format &lt;chr&gt; | data_type &lt;chr&gt; | platform &lt;chr&gt; | is_ffpe &lt;chr&gt; | passage &lt;chr&gt; | body_location &lt;chr&gt; | disease_type &lt;chr&gt; | comment &lt;chr&gt; |\n",
       "|---|---|---|---|---|---|---|---|---|---|---|---|---|---|---|---|---|---|---|---|---|\n",
       "| 1 | BCM | 34_S29_L005_R1_001.fastq.gz | 24483 | BCM-4913 | 4913 | NA | BCM-4913 | PDX | WES | ⋯ | Controlled | Raw Sequencing Data | fastq.gz | Raw Reads | Illumina | Unknown | Unknown | Breast | Invasive breast carcinoma        | NA |\n",
       "| 2 | BCM | 34_S29_L005_R2_001.fastq.gz | 24483 | BCM-4913 | 4913 | NA | BCM-4913 | PDX | WES | ⋯ | Controlled | Raw Sequencing Data | fastq.gz | Raw Reads | Illumina | Unknown | Unknown | Breast | Invasive breast carcinoma        | NA |\n",
       "| 3 | BCM | 35_S30_L005_R1_001.fastq.gz | 24490 | BCM-4400 | 4400 | NA | BCM-4400 | PDX | WES | ⋯ | Controlled | Raw Sequencing Data | fastq.gz | Raw Reads | Illumina | Unknown | Unknown | Breast | Infiltrating duct carcinoma, NOS | NA |\n",
       "| 4 | BCM | 35_S30_L005_R2_001.fastq.gz | 24490 | BCM-4400 | 4400 | NA | BCM-4400 | PDX | WES | ⋯ | Controlled | Raw Sequencing Data | fastq.gz | Raw Reads | Illumina | Unknown | Unknown | Breast | Infiltrating duct carcinoma, NOS | NA |\n",
       "| 5 | BCM | 36_S31_L005_R1_001.fastq.gz | 24455 | BCM-2277 | 2277 | NA | BCM-2277 | PDX | WES | ⋯ | Controlled | Raw Sequencing Data | fastq.gz | Raw Reads | Illumina | Unknown | Unknown | Breast | Invasive breast carcinoma        | NA |\n",
       "| 6 | BCM | 36_S31_L005_R2_001.fastq.gz | 24455 | BCM-2277 | 2277 | NA | BCM-2277 | PDX | WES | ⋯ | Controlled | Raw Sequencing Data | fastq.gz | Raw Reads | Illumina | Unknown | Unknown | Breast | Invasive breast carcinoma        | NA |\n",
       "\n"
      ],
      "text/plain": [
       "  ...1 contributor file_name                   patient_id model_id tumor_id\n",
       "1 1    BCM         34_S29_L005_R1_001.fastq.gz 24483      BCM-4913 4913    \n",
       "2 2    BCM         34_S29_L005_R2_001.fastq.gz 24483      BCM-4913 4913    \n",
       "3 3    BCM         35_S30_L005_R1_001.fastq.gz 24490      BCM-4400 4400    \n",
       "4 4    BCM         35_S30_L005_R2_001.fastq.gz 24490      BCM-4400 4400    \n",
       "5 5    BCM         36_S31_L005_R1_001.fastq.gz 24455      BCM-2277 2277    \n",
       "6 6    BCM         36_S31_L005_R2_001.fastq.gz 24455      BCM-2277 2277    \n",
       "  case_id sample_id sample_type experimental_strategy ⋯ access_level\n",
       "1 NA      BCM-4913  PDX         WES                   ⋯ Controlled  \n",
       "2 NA      BCM-4913  PDX         WES                   ⋯ Controlled  \n",
       "3 NA      BCM-4400  PDX         WES                   ⋯ Controlled  \n",
       "4 NA      BCM-4400  PDX         WES                   ⋯ Controlled  \n",
       "5 NA      BCM-2277  PDX         WES                   ⋯ Controlled  \n",
       "6 NA      BCM-2277  PDX         WES                   ⋯ Controlled  \n",
       "  data_category       data_format data_type platform is_ffpe passage\n",
       "1 Raw Sequencing Data fastq.gz    Raw Reads Illumina Unknown Unknown\n",
       "2 Raw Sequencing Data fastq.gz    Raw Reads Illumina Unknown Unknown\n",
       "3 Raw Sequencing Data fastq.gz    Raw Reads Illumina Unknown Unknown\n",
       "4 Raw Sequencing Data fastq.gz    Raw Reads Illumina Unknown Unknown\n",
       "5 Raw Sequencing Data fastq.gz    Raw Reads Illumina Unknown Unknown\n",
       "6 Raw Sequencing Data fastq.gz    Raw Reads Illumina Unknown Unknown\n",
       "  body_location disease_type                     comment\n",
       "1 Breast        Invasive breast carcinoma        NA     \n",
       "2 Breast        Invasive breast carcinoma        NA     \n",
       "3 Breast        Infiltrating duct carcinoma, NOS NA     \n",
       "4 Breast        Infiltrating duct carcinoma, NOS NA     \n",
       "5 Breast        Invasive breast carcinoma        NA     \n",
       "6 Breast        Invasive breast carcinoma        NA     "
      ]
     },
     "metadata": {},
     "output_type": "display_data"
    }
   ],
   "source": [
    "# Put the wistar rows back in, sort, and generate a new index\n",
    "\n",
    "pdtc_metadata_cleaned <- bind_rows(pdtc_metadata_cleaned, mutate(wistar_deduplicated, is_ffpe = as.character(is_ffpe))) %>%\n",
    "    arrange(contributor, file_name)\n",
    "\n",
    "pdtc_metadata_cleaned$...1 <- seq(1, nrow(pdtc_metadata_cleaned))\n",
    "\n",
    "nrow(pdtc_metadata_cleaned)\n",
    "head(pdtc_metadata_cleaned)"
   ]
  },
  {
   "cell_type": "markdown",
   "id": "1b9ad5e1-a2b0-402b-bbcf-025c3d5b0bab",
   "metadata": {},
   "source": [
    "### Before export, check this is fixed"
   ]
  },
  {
   "cell_type": "code",
   "execution_count": 28,
   "id": "f2492a73-ea15-466d-af53-7e67c31ef594",
   "metadata": {},
   "outputs": [
    {
     "data": {
      "text/html": [
       "<table class=\"dataframe\">\n",
       "<caption>A data.frame: 0 × 2</caption>\n",
       "<thead>\n",
       "\t<tr><th scope=col>.</th><th scope=col>Freq</th></tr>\n",
       "\t<tr><th scope=col>&lt;fct&gt;</th><th scope=col>&lt;int&gt;</th></tr>\n",
       "</thead>\n",
       "<tbody>\n",
       "</tbody>\n",
       "</table>\n"
      ],
      "text/latex": [
       "A data.frame: 0 × 2\n",
       "\\begin{tabular}{ll}\n",
       " . & Freq\\\\\n",
       " <fct> & <int>\\\\\n",
       "\\hline\n",
       "\\end{tabular}\n"
      ],
      "text/markdown": [
       "\n",
       "A data.frame: 0 × 2\n",
       "\n",
       "| . &lt;fct&gt; | Freq &lt;int&gt; |\n",
       "|---|---|\n",
       "\n"
      ],
      "text/plain": [
       "     . Freq"
      ]
     },
     "metadata": {},
     "output_type": "display_data"
    }
   ],
   "source": [
    "# Check that all filenames are present exactly once\n",
    "\n",
    "pdtc_metadata_cleaned$file_name %>% table() %>% as.data.frame() %>% filter(Freq > 1)"
   ]
  },
  {
   "cell_type": "code",
   "execution_count": 29,
   "id": "17550b20-fcd5-43e3-88fe-45a9d629fc4e",
   "metadata": {},
   "outputs": [
    {
     "data": {
      "text/html": [
       "<table class=\"dataframe\">\n",
       "<caption>A data.frame: 0 × 2</caption>\n",
       "<thead>\n",
       "\t<tr><th scope=col>.</th><th scope=col>Freq</th></tr>\n",
       "\t<tr><th scope=col>&lt;fct&gt;</th><th scope=col>&lt;int&gt;</th></tr>\n",
       "</thead>\n",
       "<tbody>\n",
       "</tbody>\n",
       "</table>\n"
      ],
      "text/latex": [
       "A data.frame: 0 × 2\n",
       "\\begin{tabular}{ll}\n",
       " . & Freq\\\\\n",
       " <fct> & <int>\\\\\n",
       "\\hline\n",
       "\\end{tabular}\n"
      ],
      "text/markdown": [
       "\n",
       "A data.frame: 0 × 2\n",
       "\n",
       "| . &lt;fct&gt; | Freq &lt;int&gt; |\n",
       "|---|---|\n",
       "\n"
      ],
      "text/plain": [
       "     . Freq"
      ]
     },
     "metadata": {},
     "output_type": "display_data"
    }
   ],
   "source": [
    "# Make sure all the indices are unique\n",
    "\n",
    "pdtc_metadata_cleaned$...1 %>% table() %>% as.data.frame() %>% filter(Freq > 1)"
   ]
  },
  {
   "cell_type": "code",
   "execution_count": 30,
   "id": "a2b2dedf-3878-4993-8333-66a70d19bbfd",
   "metadata": {},
   "outputs": [],
   "source": [
    "# Rename the index column before export\n",
    "\n",
    "colnames(pdtc_metadata_cleaned)[[1]] <- ''"
   ]
  },
  {
   "cell_type": "code",
   "execution_count": 31,
   "id": "876c0045-53ac-4132-b964-dd30187baa1c",
   "metadata": {},
   "outputs": [],
   "source": [
    "# Export\n",
    "\n",
    "pdtc_metadata_cleaned %>% write_csv('2022-02-25_pdtc_portal_metadata_deduplicated.csv')"
   ]
  }
 ],
 "metadata": {
  "kernelspec": {
   "display_name": "R",
   "language": "R",
   "name": "ir"
  },
  "language_info": {
   "codemirror_mode": "r",
   "file_extension": ".r",
   "mimetype": "text/x-r-source",
   "name": "R",
   "pygments_lexer": "r",
   "version": "4.1.2"
  }
 },
 "nbformat": 4,
 "nbformat_minor": 5
}
