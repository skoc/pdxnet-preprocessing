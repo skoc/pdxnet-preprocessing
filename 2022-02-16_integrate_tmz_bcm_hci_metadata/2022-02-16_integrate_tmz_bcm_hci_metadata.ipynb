{
 "cells": [
  {
   "cell_type": "markdown",
   "id": "a257b3b9-24b6-497f-8e27-cefa1e6ea541",
   "metadata": {},
   "source": [
    "# Integrate More Metadata For the PDTCs\n",
    "## Date: 2022-02-16\n",
    "## Author: Jeffrey Grover\n",
    "**Purpose:** Mike Lloyd has more metadata that might fill in the remaining missing information for the PDTCs. Integrate those here."
   ]
  },
  {
   "cell_type": "markdown",
   "id": "e6e14198-147a-4fe3-8e7b-fdbeaaec4505",
   "metadata": {},
   "source": [
    "### Load libraries"
   ]
  },
  {
   "cell_type": "code",
   "execution_count": 1,
   "id": "954726f3-6e0b-4cbd-a1ed-d790d6d77bfc",
   "metadata": {},
   "outputs": [
    {
     "name": "stderr",
     "output_type": "stream",
     "text": [
      "── \u001b[1mAttaching packages\u001b[22m ───────────────────────────────────────────────────────────────────────────────────────────────────────────────────────────────────────────────────────────────────────────────────────────────────── tidyverse 1.3.1 ──\n",
      "\n",
      "\u001b[32m✔\u001b[39m \u001b[34mggplot2\u001b[39m 3.3.5     \u001b[32m✔\u001b[39m \u001b[34mpurrr  \u001b[39m 0.3.4\n",
      "\u001b[32m✔\u001b[39m \u001b[34mtibble \u001b[39m 3.1.6     \u001b[32m✔\u001b[39m \u001b[34mdplyr  \u001b[39m 1.0.7\n",
      "\u001b[32m✔\u001b[39m \u001b[34mtidyr  \u001b[39m 1.1.4     \u001b[32m✔\u001b[39m \u001b[34mstringr\u001b[39m 1.4.0\n",
      "\u001b[32m✔\u001b[39m \u001b[34mreadr  \u001b[39m 2.1.1     \u001b[32m✔\u001b[39m \u001b[34mforcats\u001b[39m 0.5.1\n",
      "\n",
      "── \u001b[1mConflicts\u001b[22m ──────────────────────────────────────────────────────────────────────────────────────────────────────────────────────────────────────────────────────────────────────────────────────────────────────── tidyverse_conflicts() ──\n",
      "\u001b[31m✖\u001b[39m \u001b[34mdplyr\u001b[39m::\u001b[32mfilter()\u001b[39m masks \u001b[34mstats\u001b[39m::filter()\n",
      "\u001b[31m✖\u001b[39m \u001b[34mdplyr\u001b[39m::\u001b[32mlag()\u001b[39m    masks \u001b[34mstats\u001b[39m::lag()\n",
      "\n"
     ]
    }
   ],
   "source": [
    "library(tidyverse)\n",
    "library(readxl)"
   ]
  },
  {
   "cell_type": "markdown",
   "id": "5dfc3b37-f51f-4643-9974-bc157abd5c2d",
   "metadata": {},
   "source": [
    "### Load the metadata\n",
    "Since it's been fixed. What's the missing data situation look like?"
   ]
  },
  {
   "cell_type": "code",
   "execution_count": 2,
   "id": "e29c32de-46f9-4f1c-a0bd-d88ccf82f9aa",
   "metadata": {},
   "outputs": [
    {
     "name": "stderr",
     "output_type": "stream",
     "text": [
      "New names:\n",
      "* `` -> ...1\n",
      "\n",
      "\u001b[1mRows: \u001b[22m\u001b[34m334\u001b[39m \u001b[1mColumns: \u001b[22m\u001b[34m21\u001b[39m\n",
      "\n",
      "\u001b[36m──\u001b[39m \u001b[1mColumn specification\u001b[22m \u001b[36m──────────────────────────────────────────────────────────────────────────────────────────────────────────────────────────────────────────────────────────────────────────────────────────────────────────────────────\u001b[39m\n",
      "\u001b[1mDelimiter:\u001b[22m \",\"\n",
      "\u001b[31mchr\u001b[39m  (18): PDXSource, Contributor, ContributorPDX.ID, PDMR.Patient.ID, Gende...\n",
      "\u001b[32mdbl\u001b[39m   (2): ...1, CTEP.SDCCode\n",
      "\u001b[34mdttm\u001b[39m  (1): Submission\n",
      "\n",
      "\n",
      "\u001b[36mℹ\u001b[39m Use \u001b[30m\u001b[47m\u001b[30m\u001b[47m`spec()`\u001b[47m\u001b[30m\u001b[49m\u001b[39m to retrieve the full column specification for this data.\n",
      "\u001b[36mℹ\u001b[39m Specify the column types or set \u001b[30m\u001b[47m\u001b[30m\u001b[47m`show_col_types = FALSE`\u001b[47m\u001b[30m\u001b[49m\u001b[39m to quiet this message.\n",
      "\n"
     ]
    },
    {
     "data": {
      "text/html": [
       "<table class=\"dataframe\">\n",
       "<caption>A tibble: 6 × 21</caption>\n",
       "<thead>\n",
       "\t<tr><th scope=col>...1</th><th scope=col>PDXSource</th><th scope=col>Contributor</th><th scope=col>ContributorPDX.ID</th><th scope=col>PDMR.Patient.ID</th><th scope=col>Gender</th><th scope=col>CTEP.SDCCode</th><th scope=col>CTEP.SDCDescription</th><th scope=col>DiagnosisSubtype</th><th scope=col>Disease.BodyLocation</th><th scope=col>⋯</th><th scope=col>Date.ofDiagnosis</th><th scope=col>Has.KnownMetastaticDisease</th><th scope=col>Grade.StageInformation</th><th scope=col>PatientNotes</th><th scope=col>Molecular.andIHC.Data</th><th scope=col>Has.Smoked100.Cigarettes</th><th scope=col>Race</th><th scope=col>Ethnicity</th><th scope=col>AdditionalMedicalHistory</th><th scope=col>Submission</th></tr>\n",
       "\t<tr><th scope=col>&lt;dbl&gt;</th><th scope=col>&lt;chr&gt;</th><th scope=col>&lt;chr&gt;</th><th scope=col>&lt;chr&gt;</th><th scope=col>&lt;chr&gt;</th><th scope=col>&lt;chr&gt;</th><th scope=col>&lt;dbl&gt;</th><th scope=col>&lt;chr&gt;</th><th scope=col>&lt;chr&gt;</th><th scope=col>&lt;chr&gt;</th><th scope=col>⋯</th><th scope=col>&lt;chr&gt;</th><th scope=col>&lt;chr&gt;</th><th scope=col>&lt;chr&gt;</th><th scope=col>&lt;chr&gt;</th><th scope=col>&lt;chr&gt;</th><th scope=col>&lt;chr&gt;</th><th scope=col>&lt;chr&gt;</th><th scope=col>&lt;chr&gt;</th><th scope=col>&lt;chr&gt;</th><th scope=col>&lt;dttm&gt;</th></tr>\n",
       "</thead>\n",
       "<tbody>\n",
       "\t<tr><td>1</td><td>PDXNet Consortium Members</td><td>MDACC</td><td>B8174</td><td>K42829</td><td>Female</td><td>10009951</td><td>Adenocarcinoma - colon</td><td><span style=white-space:pre-wrap>adenocarcinoma of sigmoid colon                                   </span></td><td>Digestive/Gastrointestinal</td><td>⋯</td><td>42790</td><td><span style=white-space:pre-wrap>Yes         </span></td><td><span style=white-space:pre-wrap>Stage             </span></td><td>Tumor Grade/Stage: Stage IV Location of known metastases: Pelvis, omentum, Chest wall (left), Lymph node (left axillary)</td><td><span style=white-space:pre-wrap>APC c.4037C&gt;G p.S1346*; FBXW7 c.832C&gt;T p.R278*; KRAS c.38G&gt;A p.G13D; TP53 c.427G&gt;A p.V143M                              </span></td><td>No </td><td><span style=white-space:pre-wrap>White       </span></td><td>Not Hispanic or Latino</td><td><span style=white-space:pre-wrap>-                                                                                                                     </span></td><td>2021-09-02</td></tr>\n",
       "\t<tr><td>2</td><td>PDXNet Consortium Members</td><td>MDACC</td><td>B8175</td><td>K30337</td><td>Female</td><td>10009951</td><td>Adenocarcinoma - colon</td><td>adenocarcinoma                                                    </td><td>Digestive/Gastrointestinal</td><td>⋯</td><td>42500</td><td>Yes         </td><td>Stage             </td><td>Tumor Grade/Stage: Stage IV, poorly differentiated Location of known metastases: Peritoneum, Liver                      </td><td>KRAS/NRAS WT,BRAF mutated, MSI Stable                                                                                   </td><td>No </td><td>White       </td><td>Hispanic or Latino    </td><td>Family h/o: 2nd degree relative, Uterine cancer                                                                       </td><td>2018-12-19</td></tr>\n",
       "\t<tr><td>3</td><td>PDXNet Consortium Members</td><td>MDACC</td><td>B8176</td><td>K45526</td><td>Female</td><td>10009951</td><td>Adenocarcinoma - colon</td><td>Lynch syndrome; mucinous and signet ring cell adenocarcinoma      </td><td>Digestive/Gastrointestinal</td><td>⋯</td><td>42132</td><td>Not Reported</td><td>TNM (Pathological)</td><td>Tumor Grade/Stage:  pT1bpN0pM0, poorly differentiated Location of known metastases: Liver, Abdomen                      </td><td>Germline heterozygous MSH2 c388_389del variant (deleterious) Lynch syndrome, MSI-high; KRAS-G12D; Loss of MSH2 and MSH6;</td><td>Yes</td><td>White       </td><td>Hispanic or Latino    </td><td>Family History: 1st degree relative, GI cancer involving esophagus, liver, bile duct, stomach, pancreas, colon, rectum</td><td>2018-12-19</td></tr>\n",
       "\t<tr><td>4</td><td>PDXNet Consortium Members</td><td>MDACC</td><td>B8182</td><td>K75566</td><td>Female</td><td>10009951</td><td>Adenocarcinoma - colon</td><td>poorly differentiated mucinous and signet ring cell adenocarcinoma</td><td>Digestive/Gastrointestinal</td><td>⋯</td><td>42644</td><td>Yes         </td><td>Stage, TNM        </td><td>Tumor Grade/Stage: Stage III T4N2M0 Location of known metastases: Liver                                                 </td><td>-                                                                                                                       </td><td>No </td><td>White       </td><td>Hispanic or Latino    </td><td>-                                                                                                                     </td><td>2021-09-02</td></tr>\n",
       "\t<tr><td>5</td><td>PDXNet Consortium Members</td><td>MDACC</td><td>B8183</td><td>K83548</td><td>Male  </td><td>10009951</td><td>Adenocarcinoma - colon</td><td>adenocarcinoma                                                    </td><td>Digestive/Gastrointestinal</td><td>⋯</td><td>42184</td><td>Yes         </td><td>Stage             </td><td>Tumor Grade/Stage: Stage IV, moderately differentiated  Location of known metastases:  Liver, Duodenum, Pelvis          </td><td>MSI-Stable; BRAF mutant; KRAS wild type                                                                                 </td><td>Yes</td><td>Not Provided</td><td>Not Provided          </td><td>-                                                                                                                     </td><td>2018-12-19</td></tr>\n",
       "\t<tr><td>6</td><td>PDXNet Consortium Members</td><td>MDACC</td><td>B8207</td><td>K49395</td><td>Male  </td><td>10009951</td><td>Adenocarcinoma - colon</td><td>Sigmoid                                                           </td><td>Digestive/Gastrointestinal</td><td>⋯</td><td>41537</td><td>Yes         </td><td>Stage, TNM        </td><td>Tumor Grade/Stage: Stage IVB, TxNxM1b, Moderately differentiated  Location of known metastases: Liver, Lung             </td><td>Mutations present in: MDM4, NOTCH1, RB1, TP53, APC                                                                      </td><td>Yes</td><td>White       </td><td>Not Hispanic or Latino</td><td>No family history of cancer                                                                                           </td><td>2021-09-02</td></tr>\n",
       "</tbody>\n",
       "</table>\n"
      ],
      "text/latex": [
       "A tibble: 6 × 21\n",
       "\\begin{tabular}{lllllllllllllllllllll}\n",
       " ...1 & PDXSource & Contributor & ContributorPDX.ID & PDMR.Patient.ID & Gender & CTEP.SDCCode & CTEP.SDCDescription & DiagnosisSubtype & Disease.BodyLocation & ⋯ & Date.ofDiagnosis & Has.KnownMetastaticDisease & Grade.StageInformation & PatientNotes & Molecular.andIHC.Data & Has.Smoked100.Cigarettes & Race & Ethnicity & AdditionalMedicalHistory & Submission\\\\\n",
       " <dbl> & <chr> & <chr> & <chr> & <chr> & <chr> & <dbl> & <chr> & <chr> & <chr> & ⋯ & <chr> & <chr> & <chr> & <chr> & <chr> & <chr> & <chr> & <chr> & <chr> & <dttm>\\\\\n",
       "\\hline\n",
       "\t 1 & PDXNet Consortium Members & MDACC & B8174 & K42829 & Female & 10009951 & Adenocarcinoma - colon & adenocarcinoma of sigmoid colon                                    & Digestive/Gastrointestinal & ⋯ & 42790 & Yes          & Stage              & Tumor Grade/Stage: Stage IV Location of known metastases: Pelvis, omentum, Chest wall (left), Lymph node (left axillary) & APC c.4037C>G p.S1346*; FBXW7 c.832C>T p.R278*; KRAS c.38G>A p.G13D; TP53 c.427G>A p.V143M                               & No  & White        & Not Hispanic or Latino & -                                                                                                                      & 2021-09-02\\\\\n",
       "\t 2 & PDXNet Consortium Members & MDACC & B8175 & K30337 & Female & 10009951 & Adenocarcinoma - colon & adenocarcinoma                                                     & Digestive/Gastrointestinal & ⋯ & 42500 & Yes          & Stage              & Tumor Grade/Stage: Stage IV, poorly differentiated Location of known metastases: Peritoneum, Liver                       & KRAS/NRAS WT,BRAF mutated, MSI Stable                                                                                    & No  & White        & Hispanic or Latino     & Family h/o: 2nd degree relative, Uterine cancer                                                                        & 2018-12-19\\\\\n",
       "\t 3 & PDXNet Consortium Members & MDACC & B8176 & K45526 & Female & 10009951 & Adenocarcinoma - colon & Lynch syndrome; mucinous and signet ring cell adenocarcinoma       & Digestive/Gastrointestinal & ⋯ & 42132 & Not Reported & TNM (Pathological) & Tumor Grade/Stage:  pT1bpN0pM0, poorly differentiated Location of known metastases: Liver, Abdomen                       & Germline heterozygous MSH2 c388\\_389del variant (deleterious) Lynch syndrome, MSI-high; KRAS-G12D; Loss of MSH2 and MSH6; & Yes & White        & Hispanic or Latino     & Family History: 1st degree relative, GI cancer involving esophagus, liver, bile duct, stomach, pancreas, colon, rectum & 2018-12-19\\\\\n",
       "\t 4 & PDXNet Consortium Members & MDACC & B8182 & K75566 & Female & 10009951 & Adenocarcinoma - colon & poorly differentiated mucinous and signet ring cell adenocarcinoma & Digestive/Gastrointestinal & ⋯ & 42644 & Yes          & Stage, TNM         & Tumor Grade/Stage: Stage III T4N2M0 Location of known metastases: Liver                                                  & -                                                                                                                        & No  & White        & Hispanic or Latino     & -                                                                                                                      & 2021-09-02\\\\\n",
       "\t 5 & PDXNet Consortium Members & MDACC & B8183 & K83548 & Male   & 10009951 & Adenocarcinoma - colon & adenocarcinoma                                                     & Digestive/Gastrointestinal & ⋯ & 42184 & Yes          & Stage              & Tumor Grade/Stage: Stage IV, moderately differentiated  Location of known metastases:  Liver, Duodenum, Pelvis           & MSI-Stable; BRAF mutant; KRAS wild type                                                                                  & Yes & Not Provided & Not Provided           & -                                                                                                                      & 2018-12-19\\\\\n",
       "\t 6 & PDXNet Consortium Members & MDACC & B8207 & K49395 & Male   & 10009951 & Adenocarcinoma - colon & Sigmoid                                                            & Digestive/Gastrointestinal & ⋯ & 41537 & Yes          & Stage, TNM         & Tumor Grade/Stage: Stage IVB, TxNxM1b, Moderately differentiated  Location of known metastases: Liver, Lung              & Mutations present in: MDM4, NOTCH1, RB1, TP53, APC                                                                       & Yes & White        & Not Hispanic or Latino & No family history of cancer                                                                                            & 2021-09-02\\\\\n",
       "\\end{tabular}\n"
      ],
      "text/markdown": [
       "\n",
       "A tibble: 6 × 21\n",
       "\n",
       "| ...1 &lt;dbl&gt; | PDXSource &lt;chr&gt; | Contributor &lt;chr&gt; | ContributorPDX.ID &lt;chr&gt; | PDMR.Patient.ID &lt;chr&gt; | Gender &lt;chr&gt; | CTEP.SDCCode &lt;dbl&gt; | CTEP.SDCDescription &lt;chr&gt; | DiagnosisSubtype &lt;chr&gt; | Disease.BodyLocation &lt;chr&gt; | ⋯ ⋯ | Date.ofDiagnosis &lt;chr&gt; | Has.KnownMetastaticDisease &lt;chr&gt; | Grade.StageInformation &lt;chr&gt; | PatientNotes &lt;chr&gt; | Molecular.andIHC.Data &lt;chr&gt; | Has.Smoked100.Cigarettes &lt;chr&gt; | Race &lt;chr&gt; | Ethnicity &lt;chr&gt; | AdditionalMedicalHistory &lt;chr&gt; | Submission &lt;dttm&gt; |\n",
       "|---|---|---|---|---|---|---|---|---|---|---|---|---|---|---|---|---|---|---|---|---|\n",
       "| 1 | PDXNet Consortium Members | MDACC | B8174 | K42829 | Female | 10009951 | Adenocarcinoma - colon | adenocarcinoma of sigmoid colon                                    | Digestive/Gastrointestinal | ⋯ | 42790 | Yes          | Stage              | Tumor Grade/Stage: Stage IV Location of known metastases: Pelvis, omentum, Chest wall (left), Lymph node (left axillary) | APC c.4037C&gt;G p.S1346*; FBXW7 c.832C&gt;T p.R278*; KRAS c.38G&gt;A p.G13D; TP53 c.427G&gt;A p.V143M                               | No  | White        | Not Hispanic or Latino | -                                                                                                                      | 2021-09-02 |\n",
       "| 2 | PDXNet Consortium Members | MDACC | B8175 | K30337 | Female | 10009951 | Adenocarcinoma - colon | adenocarcinoma                                                     | Digestive/Gastrointestinal | ⋯ | 42500 | Yes          | Stage              | Tumor Grade/Stage: Stage IV, poorly differentiated Location of known metastases: Peritoneum, Liver                       | KRAS/NRAS WT,BRAF mutated, MSI Stable                                                                                    | No  | White        | Hispanic or Latino     | Family h/o: 2nd degree relative, Uterine cancer                                                                        | 2018-12-19 |\n",
       "| 3 | PDXNet Consortium Members | MDACC | B8176 | K45526 | Female | 10009951 | Adenocarcinoma - colon | Lynch syndrome; mucinous and signet ring cell adenocarcinoma       | Digestive/Gastrointestinal | ⋯ | 42132 | Not Reported | TNM (Pathological) | Tumor Grade/Stage:  pT1bpN0pM0, poorly differentiated Location of known metastases: Liver, Abdomen                       | Germline heterozygous MSH2 c388_389del variant (deleterious) Lynch syndrome, MSI-high; KRAS-G12D; Loss of MSH2 and MSH6; | Yes | White        | Hispanic or Latino     | Family History: 1st degree relative, GI cancer involving esophagus, liver, bile duct, stomach, pancreas, colon, rectum | 2018-12-19 |\n",
       "| 4 | PDXNet Consortium Members | MDACC | B8182 | K75566 | Female | 10009951 | Adenocarcinoma - colon | poorly differentiated mucinous and signet ring cell adenocarcinoma | Digestive/Gastrointestinal | ⋯ | 42644 | Yes          | Stage, TNM         | Tumor Grade/Stage: Stage III T4N2M0 Location of known metastases: Liver                                                  | -                                                                                                                        | No  | White        | Hispanic or Latino     | -                                                                                                                      | 2021-09-02 |\n",
       "| 5 | PDXNet Consortium Members | MDACC | B8183 | K83548 | Male   | 10009951 | Adenocarcinoma - colon | adenocarcinoma                                                     | Digestive/Gastrointestinal | ⋯ | 42184 | Yes          | Stage              | Tumor Grade/Stage: Stage IV, moderately differentiated  Location of known metastases:  Liver, Duodenum, Pelvis           | MSI-Stable; BRAF mutant; KRAS wild type                                                                                  | Yes | Not Provided | Not Provided           | -                                                                                                                      | 2018-12-19 |\n",
       "| 6 | PDXNet Consortium Members | MDACC | B8207 | K49395 | Male   | 10009951 | Adenocarcinoma - colon | Sigmoid                                                            | Digestive/Gastrointestinal | ⋯ | 41537 | Yes          | Stage, TNM         | Tumor Grade/Stage: Stage IVB, TxNxM1b, Moderately differentiated  Location of known metastases: Liver, Lung              | Mutations present in: MDM4, NOTCH1, RB1, TP53, APC                                                                       | Yes | White        | Not Hispanic or Latino | No family history of cancer                                                                                            | 2021-09-02 |\n",
       "\n"
      ],
      "text/plain": [
       "  ...1 PDXSource                 Contributor ContributorPDX.ID PDMR.Patient.ID\n",
       "1 1    PDXNet Consortium Members MDACC       B8174             K42829         \n",
       "2 2    PDXNet Consortium Members MDACC       B8175             K30337         \n",
       "3 3    PDXNet Consortium Members MDACC       B8176             K45526         \n",
       "4 4    PDXNet Consortium Members MDACC       B8182             K75566         \n",
       "5 5    PDXNet Consortium Members MDACC       B8183             K83548         \n",
       "6 6    PDXNet Consortium Members MDACC       B8207             K49395         \n",
       "  Gender CTEP.SDCCode CTEP.SDCDescription   \n",
       "1 Female 10009951     Adenocarcinoma - colon\n",
       "2 Female 10009951     Adenocarcinoma - colon\n",
       "3 Female 10009951     Adenocarcinoma - colon\n",
       "4 Female 10009951     Adenocarcinoma - colon\n",
       "5 Male   10009951     Adenocarcinoma - colon\n",
       "6 Male   10009951     Adenocarcinoma - colon\n",
       "  DiagnosisSubtype                                                  \n",
       "1 adenocarcinoma of sigmoid colon                                   \n",
       "2 adenocarcinoma                                                    \n",
       "3 Lynch syndrome; mucinous and signet ring cell adenocarcinoma      \n",
       "4 poorly differentiated mucinous and signet ring cell adenocarcinoma\n",
       "5 adenocarcinoma                                                    \n",
       "6 Sigmoid                                                           \n",
       "  Disease.BodyLocation       ⋯ Date.ofDiagnosis Has.KnownMetastaticDisease\n",
       "1 Digestive/Gastrointestinal ⋯ 42790            Yes                       \n",
       "2 Digestive/Gastrointestinal ⋯ 42500            Yes                       \n",
       "3 Digestive/Gastrointestinal ⋯ 42132            Not Reported              \n",
       "4 Digestive/Gastrointestinal ⋯ 42644            Yes                       \n",
       "5 Digestive/Gastrointestinal ⋯ 42184            Yes                       \n",
       "6 Digestive/Gastrointestinal ⋯ 41537            Yes                       \n",
       "  Grade.StageInformation\n",
       "1 Stage                 \n",
       "2 Stage                 \n",
       "3 TNM (Pathological)    \n",
       "4 Stage, TNM            \n",
       "5 Stage                 \n",
       "6 Stage, TNM            \n",
       "  PatientNotes                                                                                                            \n",
       "1 Tumor Grade/Stage: Stage IV Location of known metastases: Pelvis, omentum, Chest wall (left), Lymph node (left axillary)\n",
       "2 Tumor Grade/Stage: Stage IV, poorly differentiated Location of known metastases: Peritoneum, Liver                      \n",
       "3 Tumor Grade/Stage:  pT1bpN0pM0, poorly differentiated Location of known metastases: Liver, Abdomen                      \n",
       "4 Tumor Grade/Stage: Stage III T4N2M0 Location of known metastases: Liver                                                 \n",
       "5 Tumor Grade/Stage: Stage IV, moderately differentiated  Location of known metastases:  Liver, Duodenum, Pelvis          \n",
       "6 Tumor Grade/Stage: Stage IVB, TxNxM1b, Moderately differentiated  Location of known metastases: Liver, Lung             \n",
       "  Molecular.andIHC.Data                                                                                                   \n",
       "1 APC c.4037C>G p.S1346*; FBXW7 c.832C>T p.R278*; KRAS c.38G>A p.G13D; TP53 c.427G>A p.V143M                              \n",
       "2 KRAS/NRAS WT,BRAF mutated, MSI Stable                                                                                   \n",
       "3 Germline heterozygous MSH2 c388_389del variant (deleterious) Lynch syndrome, MSI-high; KRAS-G12D; Loss of MSH2 and MSH6;\n",
       "4 -                                                                                                                       \n",
       "5 MSI-Stable; BRAF mutant; KRAS wild type                                                                                 \n",
       "6 Mutations present in: MDM4, NOTCH1, RB1, TP53, APC                                                                      \n",
       "  Has.Smoked100.Cigarettes Race         Ethnicity             \n",
       "1 No                       White        Not Hispanic or Latino\n",
       "2 No                       White        Hispanic or Latino    \n",
       "3 Yes                      White        Hispanic or Latino    \n",
       "4 No                       White        Hispanic or Latino    \n",
       "5 Yes                      Not Provided Not Provided          \n",
       "6 Yes                      White        Not Hispanic or Latino\n",
       "  AdditionalMedicalHistory                                                                                              \n",
       "1 -                                                                                                                     \n",
       "2 Family h/o: 2nd degree relative, Uterine cancer                                                                       \n",
       "3 Family History: 1st degree relative, GI cancer involving esophagus, liver, bile duct, stomach, pancreas, colon, rectum\n",
       "4 -                                                                                                                     \n",
       "5 -                                                                                                                     \n",
       "6 No family history of cancer                                                                                           \n",
       "  Submission\n",
       "1 2021-09-02\n",
       "2 2018-12-19\n",
       "3 2018-12-19\n",
       "4 2021-09-02\n",
       "5 2018-12-19\n",
       "6 2021-09-02"
      ]
     },
     "metadata": {},
     "output_type": "display_data"
    }
   ],
   "source": [
    "pdtc_models <- read_csv('../2022-02-09_pdxnet_pdtc_pdmr_portal_ids/2022-02-09_pdxnet_portal_pdtc_models.csv')\n",
    "\n",
    "head(pdtc_models)"
   ]
  },
  {
   "cell_type": "code",
   "execution_count": 3,
   "id": "23a95016-3f0e-4ead-84ca-ab2d889b3e75",
   "metadata": {},
   "outputs": [
    {
     "name": "stderr",
     "output_type": "stream",
     "text": [
      "New names:\n",
      "* `` -> ...1\n",
      "\n",
      "\u001b[1mRows: \u001b[22m\u001b[34m2180\u001b[39m \u001b[1mColumns: \u001b[22m\u001b[34m26\u001b[39m\n",
      "\n",
      "\u001b[36m──\u001b[39m \u001b[1mColumn specification\u001b[22m \u001b[36m──────────────────────────────────────────────────────────────────────────────────────────────────────────────────────────────────────────────────────────────────────────────────────────────────────────────────────\u001b[39m\n",
      "\u001b[1mDelimiter:\u001b[22m \",\"\n",
      "\u001b[31mchr\u001b[39m (24): contributor, file_name, patient_id, model_id, tumor_id, case_id, s...\n",
      "\u001b[32mdbl\u001b[39m  (2): ...1, paired_end\n",
      "\n",
      "\n",
      "\u001b[36mℹ\u001b[39m Use \u001b[30m\u001b[47m\u001b[30m\u001b[47m`spec()`\u001b[47m\u001b[30m\u001b[49m\u001b[39m to retrieve the full column specification for this data.\n",
      "\u001b[36mℹ\u001b[39m Specify the column types or set \u001b[30m\u001b[47m\u001b[30m\u001b[47m`show_col_types = FALSE`\u001b[47m\u001b[30m\u001b[49m\u001b[39m to quiet this message.\n",
      "\n"
     ]
    },
    {
     "data": {
      "text/html": [
       "<table class=\"dataframe\">\n",
       "<caption>A tibble: 6 × 26</caption>\n",
       "<thead>\n",
       "\t<tr><th scope=col>...1</th><th scope=col>contributor</th><th scope=col>file_name</th><th scope=col>patient_id</th><th scope=col>model_id</th><th scope=col>tumor_id</th><th scope=col>case_id</th><th scope=col>sample_id</th><th scope=col>sample_type</th><th scope=col>experimental_strategy</th><th scope=col>⋯</th><th scope=col>access_level</th><th scope=col>data_category</th><th scope=col>data_format</th><th scope=col>data_type</th><th scope=col>platform</th><th scope=col>is_ffpe</th><th scope=col>passage</th><th scope=col>body_location</th><th scope=col>disease_type</th><th scope=col>comment</th></tr>\n",
       "\t<tr><th scope=col>&lt;dbl&gt;</th><th scope=col>&lt;chr&gt;</th><th scope=col>&lt;chr&gt;</th><th scope=col>&lt;chr&gt;</th><th scope=col>&lt;chr&gt;</th><th scope=col>&lt;chr&gt;</th><th scope=col>&lt;chr&gt;</th><th scope=col>&lt;chr&gt;</th><th scope=col>&lt;chr&gt;</th><th scope=col>&lt;chr&gt;</th><th scope=col>⋯</th><th scope=col>&lt;chr&gt;</th><th scope=col>&lt;chr&gt;</th><th scope=col>&lt;chr&gt;</th><th scope=col>&lt;chr&gt;</th><th scope=col>&lt;chr&gt;</th><th scope=col>&lt;chr&gt;</th><th scope=col>&lt;chr&gt;</th><th scope=col>&lt;chr&gt;</th><th scope=col>&lt;chr&gt;</th><th scope=col>&lt;chr&gt;</th></tr>\n",
       "</thead>\n",
       "<tbody>\n",
       "\t<tr><td>1</td><td>BCM</td><td>LZML_37246_NoIndex_L00X_R1_001.fastq.gz</td><td>24452</td><td>BCM-0002</td><td>2011012-2  </td><td>NA</td><td>BCM-0002</td><td>PDX</td><td>RNA-Seq</td><td>⋯</td><td>Controlled</td><td>Raw Sequencing Data</td><td>fastq.gz</td><td>Raw Reads</td><td>Illumina</td><td>FALSE</td><td>Unknown</td><td>Breast</td><td>Invasive breast carcinoma</td><td>NA</td></tr>\n",
       "\t<tr><td>2</td><td>BCM</td><td>LZML_37246_NoIndex_L00X_R2_001.fastq.gz</td><td>24452</td><td>BCM-0002</td><td>2011012-2  </td><td>NA</td><td>BCM-0002</td><td>PDX</td><td>RNA-Seq</td><td>⋯</td><td>Controlled</td><td>Raw Sequencing Data</td><td>fastq.gz</td><td>Raw Reads</td><td>Illumina</td><td>FALSE</td><td>Unknown</td><td>Breast</td><td>Invasive breast carcinoma</td><td>NA</td></tr>\n",
       "\t<tr><td>3</td><td>BCM</td><td>ML6065_GATCAGCG_L00X_R1_001.fastq.gz   </td><td>2219 </td><td>BCM-0046</td><td>2011012-46 </td><td>NA</td><td>BCM-0046</td><td>PDX</td><td>RNA-Seq</td><td>⋯</td><td>Controlled</td><td>Raw Sequencing Data</td><td>fastq.gz</td><td>Raw Reads</td><td>Illumina</td><td>FALSE</td><td>Unknown</td><td>Breast</td><td>Invasive breast carcinoma</td><td>NA</td></tr>\n",
       "\t<tr><td>4</td><td>BCM</td><td>ML6065_GATCAGCG_L00X_R2_001.fastq.gz   </td><td>2219 </td><td>BCM-0046</td><td>2011012-46 </td><td>NA</td><td>BCM-0046</td><td>PDX</td><td>RNA-Seq</td><td>⋯</td><td>Controlled</td><td>Raw Sequencing Data</td><td>fastq.gz</td><td>Raw Reads</td><td>Illumina</td><td>FALSE</td><td>Unknown</td><td>Breast</td><td>Invasive breast carcinoma</td><td>NA</td></tr>\n",
       "\t<tr><td>5</td><td>BCM</td><td>ML6061_CAGATCTG_L00X_R1_001.fastq.gz   </td><td>24561</td><td>BCM-0104</td><td>2011012-104</td><td>NA</td><td>BCM-0104</td><td>PDX</td><td>RNA-Seq</td><td>⋯</td><td>Controlled</td><td>Raw Sequencing Data</td><td>fastq.gz</td><td>Raw Reads</td><td>Illumina</td><td>FALSE</td><td>Unknown</td><td>Breast</td><td>Invasive breast carcinoma</td><td>NA</td></tr>\n",
       "\t<tr><td>6</td><td>BCM</td><td>ML6061_CAGATCTG_L00X_R2_001.fastq.gz   </td><td>24561</td><td>BCM-0104</td><td>2011012-104</td><td>NA</td><td>BCM-0104</td><td>PDX</td><td>RNA-Seq</td><td>⋯</td><td>Controlled</td><td>Raw Sequencing Data</td><td>fastq.gz</td><td>Raw Reads</td><td>Illumina</td><td>FALSE</td><td>Unknown</td><td>Breast</td><td>Invasive breast carcinoma</td><td>NA</td></tr>\n",
       "</tbody>\n",
       "</table>\n"
      ],
      "text/latex": [
       "A tibble: 6 × 26\n",
       "\\begin{tabular}{lllllllllllllllllllll}\n",
       " ...1 & contributor & file\\_name & patient\\_id & model\\_id & tumor\\_id & case\\_id & sample\\_id & sample\\_type & experimental\\_strategy & ⋯ & access\\_level & data\\_category & data\\_format & data\\_type & platform & is\\_ffpe & passage & body\\_location & disease\\_type & comment\\\\\n",
       " <dbl> & <chr> & <chr> & <chr> & <chr> & <chr> & <chr> & <chr> & <chr> & <chr> & ⋯ & <chr> & <chr> & <chr> & <chr> & <chr> & <chr> & <chr> & <chr> & <chr> & <chr>\\\\\n",
       "\\hline\n",
       "\t 1 & BCM & LZML\\_37246\\_NoIndex\\_L00X\\_R1\\_001.fastq.gz & 24452 & BCM-0002 & 2011012-2   & NA & BCM-0002 & PDX & RNA-Seq & ⋯ & Controlled & Raw Sequencing Data & fastq.gz & Raw Reads & Illumina & FALSE & Unknown & Breast & Invasive breast carcinoma & NA\\\\\n",
       "\t 2 & BCM & LZML\\_37246\\_NoIndex\\_L00X\\_R2\\_001.fastq.gz & 24452 & BCM-0002 & 2011012-2   & NA & BCM-0002 & PDX & RNA-Seq & ⋯ & Controlled & Raw Sequencing Data & fastq.gz & Raw Reads & Illumina & FALSE & Unknown & Breast & Invasive breast carcinoma & NA\\\\\n",
       "\t 3 & BCM & ML6065\\_GATCAGCG\\_L00X\\_R1\\_001.fastq.gz    & 2219  & BCM-0046 & 2011012-46  & NA & BCM-0046 & PDX & RNA-Seq & ⋯ & Controlled & Raw Sequencing Data & fastq.gz & Raw Reads & Illumina & FALSE & Unknown & Breast & Invasive breast carcinoma & NA\\\\\n",
       "\t 4 & BCM & ML6065\\_GATCAGCG\\_L00X\\_R2\\_001.fastq.gz    & 2219  & BCM-0046 & 2011012-46  & NA & BCM-0046 & PDX & RNA-Seq & ⋯ & Controlled & Raw Sequencing Data & fastq.gz & Raw Reads & Illumina & FALSE & Unknown & Breast & Invasive breast carcinoma & NA\\\\\n",
       "\t 5 & BCM & ML6061\\_CAGATCTG\\_L00X\\_R1\\_001.fastq.gz    & 24561 & BCM-0104 & 2011012-104 & NA & BCM-0104 & PDX & RNA-Seq & ⋯ & Controlled & Raw Sequencing Data & fastq.gz & Raw Reads & Illumina & FALSE & Unknown & Breast & Invasive breast carcinoma & NA\\\\\n",
       "\t 6 & BCM & ML6061\\_CAGATCTG\\_L00X\\_R2\\_001.fastq.gz    & 24561 & BCM-0104 & 2011012-104 & NA & BCM-0104 & PDX & RNA-Seq & ⋯ & Controlled & Raw Sequencing Data & fastq.gz & Raw Reads & Illumina & FALSE & Unknown & Breast & Invasive breast carcinoma & NA\\\\\n",
       "\\end{tabular}\n"
      ],
      "text/markdown": [
       "\n",
       "A tibble: 6 × 26\n",
       "\n",
       "| ...1 &lt;dbl&gt; | contributor &lt;chr&gt; | file_name &lt;chr&gt; | patient_id &lt;chr&gt; | model_id &lt;chr&gt; | tumor_id &lt;chr&gt; | case_id &lt;chr&gt; | sample_id &lt;chr&gt; | sample_type &lt;chr&gt; | experimental_strategy &lt;chr&gt; | ⋯ ⋯ | access_level &lt;chr&gt; | data_category &lt;chr&gt; | data_format &lt;chr&gt; | data_type &lt;chr&gt; | platform &lt;chr&gt; | is_ffpe &lt;chr&gt; | passage &lt;chr&gt; | body_location &lt;chr&gt; | disease_type &lt;chr&gt; | comment &lt;chr&gt; |\n",
       "|---|---|---|---|---|---|---|---|---|---|---|---|---|---|---|---|---|---|---|---|---|\n",
       "| 1 | BCM | LZML_37246_NoIndex_L00X_R1_001.fastq.gz | 24452 | BCM-0002 | 2011012-2   | NA | BCM-0002 | PDX | RNA-Seq | ⋯ | Controlled | Raw Sequencing Data | fastq.gz | Raw Reads | Illumina | FALSE | Unknown | Breast | Invasive breast carcinoma | NA |\n",
       "| 2 | BCM | LZML_37246_NoIndex_L00X_R2_001.fastq.gz | 24452 | BCM-0002 | 2011012-2   | NA | BCM-0002 | PDX | RNA-Seq | ⋯ | Controlled | Raw Sequencing Data | fastq.gz | Raw Reads | Illumina | FALSE | Unknown | Breast | Invasive breast carcinoma | NA |\n",
       "| 3 | BCM | ML6065_GATCAGCG_L00X_R1_001.fastq.gz    | 2219  | BCM-0046 | 2011012-46  | NA | BCM-0046 | PDX | RNA-Seq | ⋯ | Controlled | Raw Sequencing Data | fastq.gz | Raw Reads | Illumina | FALSE | Unknown | Breast | Invasive breast carcinoma | NA |\n",
       "| 4 | BCM | ML6065_GATCAGCG_L00X_R2_001.fastq.gz    | 2219  | BCM-0046 | 2011012-46  | NA | BCM-0046 | PDX | RNA-Seq | ⋯ | Controlled | Raw Sequencing Data | fastq.gz | Raw Reads | Illumina | FALSE | Unknown | Breast | Invasive breast carcinoma | NA |\n",
       "| 5 | BCM | ML6061_CAGATCTG_L00X_R1_001.fastq.gz    | 24561 | BCM-0104 | 2011012-104 | NA | BCM-0104 | PDX | RNA-Seq | ⋯ | Controlled | Raw Sequencing Data | fastq.gz | Raw Reads | Illumina | FALSE | Unknown | Breast | Invasive breast carcinoma | NA |\n",
       "| 6 | BCM | ML6061_CAGATCTG_L00X_R2_001.fastq.gz    | 24561 | BCM-0104 | 2011012-104 | NA | BCM-0104 | PDX | RNA-Seq | ⋯ | Controlled | Raw Sequencing Data | fastq.gz | Raw Reads | Illumina | FALSE | Unknown | Breast | Invasive breast carcinoma | NA |\n",
       "\n"
      ],
      "text/plain": [
       "  ...1 contributor file_name                               patient_id model_id\n",
       "1 1    BCM         LZML_37246_NoIndex_L00X_R1_001.fastq.gz 24452      BCM-0002\n",
       "2 2    BCM         LZML_37246_NoIndex_L00X_R2_001.fastq.gz 24452      BCM-0002\n",
       "3 3    BCM         ML6065_GATCAGCG_L00X_R1_001.fastq.gz    2219       BCM-0046\n",
       "4 4    BCM         ML6065_GATCAGCG_L00X_R2_001.fastq.gz    2219       BCM-0046\n",
       "5 5    BCM         ML6061_CAGATCTG_L00X_R1_001.fastq.gz    24561      BCM-0104\n",
       "6 6    BCM         ML6061_CAGATCTG_L00X_R2_001.fastq.gz    24561      BCM-0104\n",
       "  tumor_id    case_id sample_id sample_type experimental_strategy ⋯\n",
       "1 2011012-2   NA      BCM-0002  PDX         RNA-Seq               ⋯\n",
       "2 2011012-2   NA      BCM-0002  PDX         RNA-Seq               ⋯\n",
       "3 2011012-46  NA      BCM-0046  PDX         RNA-Seq               ⋯\n",
       "4 2011012-46  NA      BCM-0046  PDX         RNA-Seq               ⋯\n",
       "5 2011012-104 NA      BCM-0104  PDX         RNA-Seq               ⋯\n",
       "6 2011012-104 NA      BCM-0104  PDX         RNA-Seq               ⋯\n",
       "  access_level data_category       data_format data_type platform is_ffpe\n",
       "1 Controlled   Raw Sequencing Data fastq.gz    Raw Reads Illumina FALSE  \n",
       "2 Controlled   Raw Sequencing Data fastq.gz    Raw Reads Illumina FALSE  \n",
       "3 Controlled   Raw Sequencing Data fastq.gz    Raw Reads Illumina FALSE  \n",
       "4 Controlled   Raw Sequencing Data fastq.gz    Raw Reads Illumina FALSE  \n",
       "5 Controlled   Raw Sequencing Data fastq.gz    Raw Reads Illumina FALSE  \n",
       "6 Controlled   Raw Sequencing Data fastq.gz    Raw Reads Illumina FALSE  \n",
       "  passage body_location disease_type              comment\n",
       "1 Unknown Breast        Invasive breast carcinoma NA     \n",
       "2 Unknown Breast        Invasive breast carcinoma NA     \n",
       "3 Unknown Breast        Invasive breast carcinoma NA     \n",
       "4 Unknown Breast        Invasive breast carcinoma NA     \n",
       "5 Unknown Breast        Invasive breast carcinoma NA     \n",
       "6 Unknown Breast        Invasive breast carcinoma NA     "
      ]
     },
     "metadata": {},
     "output_type": "display_data"
    }
   ],
   "source": [
    "pdtc_metadata <- read_csv('../2022-02-09_pdxnet_pdtc_pdmr_portal_ids/2022-02-15_pdtc_metadata_cleaned.csv')\n",
    "\n",
    "head(pdtc_metadata)"
   ]
  },
  {
   "cell_type": "code",
   "execution_count": 4,
   "id": "4612eb00-0c56-43a9-a03d-3deb3e374e8c",
   "metadata": {},
   "outputs": [
    {
     "data": {
      "text/html": [
       "<table class=\"dataframe\">\n",
       "<caption>A tibble: 6 × 23</caption>\n",
       "<thead>\n",
       "\t<tr><th scope=col>Center</th><th scope=col>Sex</th><th scope=col>Age at Primary Diagnosis</th><th scope=col>Tumor ID</th><th scope=col>Collection Procedure</th><th scope=col>Age at collection</th><th scope=col>Initial Diagnosis</th><th scope=col>Clinical Event Point</th><th scope=col>Primary Tumor Origin</th><th scope=col>Specimen Tissue</th><th scope=col>⋯</th><th scope=col>Model ID</th><th scope=col>Data Format</th><th scope=col>Data Type</th><th scope=col>Sample Type</th><th scope=col>Experimental Strategy</th><th scope=col>Platform</th><th scope=col>Capture Kit</th><th scope=col>Capture Assembly</th><th scope=col>Is FFPE</th><th scope=col>Passage</th></tr>\n",
       "\t<tr><th scope=col>&lt;chr&gt;</th><th scope=col>&lt;chr&gt;</th><th scope=col>&lt;chr&gt;</th><th scope=col>&lt;chr&gt;</th><th scope=col>&lt;chr&gt;</th><th scope=col>&lt;dbl&gt;</th><th scope=col>&lt;chr&gt;</th><th scope=col>&lt;chr&gt;</th><th scope=col>&lt;chr&gt;</th><th scope=col>&lt;chr&gt;</th><th scope=col>⋯</th><th scope=col>&lt;chr&gt;</th><th scope=col>&lt;chr&gt;</th><th scope=col>&lt;chr&gt;</th><th scope=col>&lt;chr&gt;</th><th scope=col>&lt;chr&gt;</th><th scope=col>&lt;chr&gt;</th><th scope=col>&lt;chr&gt;</th><th scope=col>&lt;chr&gt;</th><th scope=col>&lt;chr&gt;</th><th scope=col>&lt;chr&gt;</th></tr>\n",
       "</thead>\n",
       "<tbody>\n",
       "\t<tr><td>Huntsman</td><td>Female</td><td>ND</td><td>F563 </td><td>Resection    </td><td>77</td><td>Urothelial/Bladder Cancer</td><td>Initial diagnosis  </td><td>Bladder</td><td>Bladder</td><td>⋯</td><td>BL0293-F563   </td><td>TXT.GZ  </td><td>Raw Reads</td><td>PDX</td><td>RNA-Seq</td><td>Illumina HiSeq</td><td>IlluminaTruSeqStandardRNAkitwithRiboZeroGold</td><td>NA</td><td>No</td><td>NA</td></tr>\n",
       "\t<tr><td>MDA     </td><td>Female</td><td>ND</td><td>F563 </td><td>Resection    </td><td>77</td><td>Urothelial/Bladder Cancer</td><td>Initial diagnosis  </td><td>Bladder</td><td>Bladder</td><td>⋯</td><td>BL0293-F563   </td><td>FASTQ.GZ</td><td>Raw Reads</td><td>PDX</td><td>RNA-Seq</td><td>Illumina HiSeq</td><td>Kapa stranded mRNA-Seq Kit                  </td><td>NA</td><td>No</td><td>P1</td></tr>\n",
       "\t<tr><td>WashU   </td><td>Female</td><td>ND</td><td>F563 </td><td>Resection    </td><td>77</td><td>Urothelial/Bladder Cancer</td><td>Initial diagnosis  </td><td>Bladder</td><td>Bladder</td><td>⋯</td><td>BL0293-F563_SL</td><td>FASTQ.GZ</td><td>Raw Reads</td><td>PDX</td><td>RNA-Seq</td><td>NovaSeq S4    </td><td>TruSeq Stranded Total RNA                   </td><td>NA</td><td>No</td><td>P5</td></tr>\n",
       "\t<tr><td>Wistar  </td><td>Female</td><td>ND</td><td>F563 </td><td>Resection    </td><td>77</td><td>Urothelial/Bladder Cancer</td><td>Initial diagnosis  </td><td>Bladder</td><td>Bladder</td><td>⋯</td><td>AM0245        </td><td>FASTQ   </td><td>Raw Reads</td><td>PDX</td><td>RNA-Seq</td><td>Illumina      </td><td>Lexogen mRNA                                </td><td>NA</td><td>No</td><td>NA</td></tr>\n",
       "\t<tr><td>Huntsman</td><td>Female</td><td>43</td><td>121-T</td><td>Needle Biopsy</td><td>46</td><td>Adenocarcinoma           </td><td>Distant Metastatsis</td><td>Colon  </td><td>Liver  </td><td>⋯</td><td>172845-121-T  </td><td>TXT.GZ  </td><td>Raw Reads</td><td>PDX</td><td>RNA-Seq</td><td>Illumina HiSeq</td><td>IlluminaTruSeqStandardRNAkitwithRiboZeroGold</td><td>NA</td><td>No</td><td>NA</td></tr>\n",
       "\t<tr><td>MDA     </td><td>Female</td><td>43</td><td>121-T</td><td>Needle Biopsy</td><td>46</td><td>Adenocarcinoma           </td><td>Distant Metastatsis</td><td>Colon  </td><td>Liver  </td><td>⋯</td><td>172845-121-T  </td><td>FASTQ.GZ</td><td>Raw Reads</td><td>PDX</td><td>RNA-Seq</td><td>Illumina HiSeq</td><td>Kapa stranded mRNA-Seq Kit                  </td><td>NA</td><td>No</td><td>P1</td></tr>\n",
       "</tbody>\n",
       "</table>\n"
      ],
      "text/latex": [
       "A tibble: 6 × 23\n",
       "\\begin{tabular}{lllllllllllllllllllll}\n",
       " Center & Sex & Age at Primary Diagnosis & Tumor ID & Collection Procedure & Age at collection & Initial Diagnosis & Clinical Event Point & Primary Tumor Origin & Specimen Tissue & ⋯ & Model ID & Data Format & Data Type & Sample Type & Experimental Strategy & Platform & Capture Kit & Capture Assembly & Is FFPE & Passage\\\\\n",
       " <chr> & <chr> & <chr> & <chr> & <chr> & <dbl> & <chr> & <chr> & <chr> & <chr> & ⋯ & <chr> & <chr> & <chr> & <chr> & <chr> & <chr> & <chr> & <chr> & <chr> & <chr>\\\\\n",
       "\\hline\n",
       "\t Huntsman & Female & ND & F563  & Resection     & 77 & Urothelial/Bladder Cancer & Initial diagnosis   & Bladder & Bladder & ⋯ & BL0293-F563    & TXT.GZ   & Raw Reads & PDX & RNA-Seq & Illumina HiSeq & IlluminaTruSeqStandardRNAkitwithRiboZeroGold & NA & No & NA\\\\\n",
       "\t MDA      & Female & ND & F563  & Resection     & 77 & Urothelial/Bladder Cancer & Initial diagnosis   & Bladder & Bladder & ⋯ & BL0293-F563    & FASTQ.GZ & Raw Reads & PDX & RNA-Seq & Illumina HiSeq & Kapa stranded mRNA-Seq Kit                   & NA & No & P1\\\\\n",
       "\t WashU    & Female & ND & F563  & Resection     & 77 & Urothelial/Bladder Cancer & Initial diagnosis   & Bladder & Bladder & ⋯ & BL0293-F563\\_SL & FASTQ.GZ & Raw Reads & PDX & RNA-Seq & NovaSeq S4     & TruSeq Stranded Total RNA                    & NA & No & P5\\\\\n",
       "\t Wistar   & Female & ND & F563  & Resection     & 77 & Urothelial/Bladder Cancer & Initial diagnosis   & Bladder & Bladder & ⋯ & AM0245         & FASTQ    & Raw Reads & PDX & RNA-Seq & Illumina       & Lexogen mRNA                                 & NA & No & NA\\\\\n",
       "\t Huntsman & Female & 43 & 121-T & Needle Biopsy & 46 & Adenocarcinoma            & Distant Metastatsis & Colon   & Liver   & ⋯ & 172845-121-T   & TXT.GZ   & Raw Reads & PDX & RNA-Seq & Illumina HiSeq & IlluminaTruSeqStandardRNAkitwithRiboZeroGold & NA & No & NA\\\\\n",
       "\t MDA      & Female & 43 & 121-T & Needle Biopsy & 46 & Adenocarcinoma            & Distant Metastatsis & Colon   & Liver   & ⋯ & 172845-121-T   & FASTQ.GZ & Raw Reads & PDX & RNA-Seq & Illumina HiSeq & Kapa stranded mRNA-Seq Kit                   & NA & No & P1\\\\\n",
       "\\end{tabular}\n"
      ],
      "text/markdown": [
       "\n",
       "A tibble: 6 × 23\n",
       "\n",
       "| Center &lt;chr&gt; | Sex &lt;chr&gt; | Age at Primary Diagnosis &lt;chr&gt; | Tumor ID &lt;chr&gt; | Collection Procedure &lt;chr&gt; | Age at collection &lt;dbl&gt; | Initial Diagnosis &lt;chr&gt; | Clinical Event Point &lt;chr&gt; | Primary Tumor Origin &lt;chr&gt; | Specimen Tissue &lt;chr&gt; | ⋯ ⋯ | Model ID &lt;chr&gt; | Data Format &lt;chr&gt; | Data Type &lt;chr&gt; | Sample Type &lt;chr&gt; | Experimental Strategy &lt;chr&gt; | Platform &lt;chr&gt; | Capture Kit &lt;chr&gt; | Capture Assembly &lt;chr&gt; | Is FFPE &lt;chr&gt; | Passage &lt;chr&gt; |\n",
       "|---|---|---|---|---|---|---|---|---|---|---|---|---|---|---|---|---|---|---|---|---|\n",
       "| Huntsman | Female | ND | F563  | Resection     | 77 | Urothelial/Bladder Cancer | Initial diagnosis   | Bladder | Bladder | ⋯ | BL0293-F563    | TXT.GZ   | Raw Reads | PDX | RNA-Seq | Illumina HiSeq | IlluminaTruSeqStandardRNAkitwithRiboZeroGold | NA | No | NA |\n",
       "| MDA      | Female | ND | F563  | Resection     | 77 | Urothelial/Bladder Cancer | Initial diagnosis   | Bladder | Bladder | ⋯ | BL0293-F563    | FASTQ.GZ | Raw Reads | PDX | RNA-Seq | Illumina HiSeq | Kapa stranded mRNA-Seq Kit                   | NA | No | P1 |\n",
       "| WashU    | Female | ND | F563  | Resection     | 77 | Urothelial/Bladder Cancer | Initial diagnosis   | Bladder | Bladder | ⋯ | BL0293-F563_SL | FASTQ.GZ | Raw Reads | PDX | RNA-Seq | NovaSeq S4     | TruSeq Stranded Total RNA                    | NA | No | P5 |\n",
       "| Wistar   | Female | ND | F563  | Resection     | 77 | Urothelial/Bladder Cancer | Initial diagnosis   | Bladder | Bladder | ⋯ | AM0245         | FASTQ    | Raw Reads | PDX | RNA-Seq | Illumina       | Lexogen mRNA                                 | NA | No | NA |\n",
       "| Huntsman | Female | 43 | 121-T | Needle Biopsy | 46 | Adenocarcinoma            | Distant Metastatsis | Colon   | Liver   | ⋯ | 172845-121-T   | TXT.GZ   | Raw Reads | PDX | RNA-Seq | Illumina HiSeq | IlluminaTruSeqStandardRNAkitwithRiboZeroGold | NA | No | NA |\n",
       "| MDA      | Female | 43 | 121-T | Needle Biopsy | 46 | Adenocarcinoma            | Distant Metastatsis | Colon   | Liver   | ⋯ | 172845-121-T   | FASTQ.GZ | Raw Reads | PDX | RNA-Seq | Illumina HiSeq | Kapa stranded mRNA-Seq Kit                   | NA | No | P1 |\n",
       "\n"
      ],
      "text/plain": [
       "  Center   Sex    Age at Primary Diagnosis Tumor ID Collection Procedure\n",
       "1 Huntsman Female ND                       F563     Resection           \n",
       "2 MDA      Female ND                       F563     Resection           \n",
       "3 WashU    Female ND                       F563     Resection           \n",
       "4 Wistar   Female ND                       F563     Resection           \n",
       "5 Huntsman Female 43                       121-T    Needle Biopsy       \n",
       "6 MDA      Female 43                       121-T    Needle Biopsy       \n",
       "  Age at collection Initial Diagnosis         Clinical Event Point\n",
       "1 77                Urothelial/Bladder Cancer Initial diagnosis   \n",
       "2 77                Urothelial/Bladder Cancer Initial diagnosis   \n",
       "3 77                Urothelial/Bladder Cancer Initial diagnosis   \n",
       "4 77                Urothelial/Bladder Cancer Initial diagnosis   \n",
       "5 46                Adenocarcinoma            Distant Metastatsis \n",
       "6 46                Adenocarcinoma            Distant Metastatsis \n",
       "  Primary Tumor Origin Specimen Tissue ⋯ Model ID       Data Format Data Type\n",
       "1 Bladder              Bladder         ⋯ BL0293-F563    TXT.GZ      Raw Reads\n",
       "2 Bladder              Bladder         ⋯ BL0293-F563    FASTQ.GZ    Raw Reads\n",
       "3 Bladder              Bladder         ⋯ BL0293-F563_SL FASTQ.GZ    Raw Reads\n",
       "4 Bladder              Bladder         ⋯ AM0245         FASTQ       Raw Reads\n",
       "5 Colon                Liver           ⋯ 172845-121-T   TXT.GZ      Raw Reads\n",
       "6 Colon                Liver           ⋯ 172845-121-T   FASTQ.GZ    Raw Reads\n",
       "  Sample Type Experimental Strategy Platform      \n",
       "1 PDX         RNA-Seq               Illumina HiSeq\n",
       "2 PDX         RNA-Seq               Illumina HiSeq\n",
       "3 PDX         RNA-Seq               NovaSeq S4    \n",
       "4 PDX         RNA-Seq               Illumina      \n",
       "5 PDX         RNA-Seq               Illumina HiSeq\n",
       "6 PDX         RNA-Seq               Illumina HiSeq\n",
       "  Capture Kit                                  Capture Assembly Is FFPE Passage\n",
       "1 IlluminaTruSeqStandardRNAkitwithRiboZeroGold NA               No      NA     \n",
       "2 Kapa stranded mRNA-Seq Kit                   NA               No      P1     \n",
       "3 TruSeq Stranded Total RNA                    NA               No      P5     \n",
       "4 Lexogen mRNA                                 NA               No      NA     \n",
       "5 IlluminaTruSeqStandardRNAkitwithRiboZeroGold NA               No      NA     \n",
       "6 Kapa stranded mRNA-Seq Kit                   NA               No      P1     "
      ]
     },
     "metadata": {},
     "output_type": "display_data"
    }
   ],
   "source": [
    "tmz_metadata <- read_excel('TMZ_SequenceMetadata.xlsx') %>% mutate_if(is.character, str_trim) # Need to strip whitespace\n",
    "\n",
    "head(tmz_metadata)"
   ]
  },
  {
   "cell_type": "code",
   "execution_count": 5,
   "id": "df1cc008-5a2d-401e-bdc1-becc7e276e79",
   "metadata": {},
   "outputs": [
    {
     "name": "stderr",
     "output_type": "stream",
     "text": [
      "\u001b[1mRows: \u001b[22m\u001b[34m90\u001b[39m \u001b[1mColumns: \u001b[22m\u001b[34m18\u001b[39m\n",
      "\n",
      "\u001b[36m──\u001b[39m \u001b[1mColumn specification\u001b[22m \u001b[36m──────────────────────────────────────────────────────────────────────────────────────────────────────────────────────────────────────────────────────────────────────────────────────────────────────────────────────\u001b[39m\n",
      "\u001b[1mDelimiter:\u001b[22m \",\"\n",
      "\u001b[31mchr\u001b[39m (17): Model ID, Patient ID, Pathology Diagnosis, Patient ER Status, Pati...\n",
      "\u001b[32mdbl\u001b[39m  (1): Age at Diagnosis\n",
      "\n",
      "\n",
      "\u001b[36mℹ\u001b[39m Use \u001b[30m\u001b[47m\u001b[30m\u001b[47m`spec()`\u001b[47m\u001b[30m\u001b[49m\u001b[39m to retrieve the full column specification for this data.\n",
      "\u001b[36mℹ\u001b[39m Specify the column types or set \u001b[30m\u001b[47m\u001b[30m\u001b[47m`show_col_types = FALSE`\u001b[47m\u001b[30m\u001b[49m\u001b[39m to quiet this message.\n",
      "\n"
     ]
    },
    {
     "data": {
      "text/html": [
       "<table class=\"dataframe\">\n",
       "<caption>A tibble: 6 × 18</caption>\n",
       "<thead>\n",
       "\t<tr><th scope=col>Model ID</th><th scope=col>Patient ID</th><th scope=col>Pathology Diagnosis</th><th scope=col>Patient ER Status</th><th scope=col>Patient PR Status</th><th scope=col>Patient HER2 Status</th><th scope=col>PDX ER Status</th><th scope=col>PDX PR Status</th><th scope=col>PDX HER2 Status</th><th scope=col>Germline BRCA1 Status</th><th scope=col>Germline BRCA2 Status</th><th scope=col>Stage</th><th scope=col>Grade</th><th scope=col>Clinical Event Point</th><th scope=col>Age at Diagnosis</th><th scope=col>Race</th><th scope=col>Tumor Naive</th><th scope=col>Patient Treatments</th></tr>\n",
       "\t<tr><th scope=col>&lt;chr&gt;</th><th scope=col>&lt;chr&gt;</th><th scope=col>&lt;chr&gt;</th><th scope=col>&lt;chr&gt;</th><th scope=col>&lt;chr&gt;</th><th scope=col>&lt;chr&gt;</th><th scope=col>&lt;chr&gt;</th><th scope=col>&lt;chr&gt;</th><th scope=col>&lt;chr&gt;</th><th scope=col>&lt;chr&gt;</th><th scope=col>&lt;chr&gt;</th><th scope=col>&lt;chr&gt;</th><th scope=col>&lt;chr&gt;</th><th scope=col>&lt;chr&gt;</th><th scope=col>&lt;dbl&gt;</th><th scope=col>&lt;chr&gt;</th><th scope=col>&lt;chr&gt;</th><th scope=col>&lt;chr&gt;</th></tr>\n",
       "</thead>\n",
       "<tbody>\n",
       "\t<tr><td>BCM-0002 </td><td>24452</td><td>Unknown                         </td><td>Not Reported</td><td>Not Reported</td><td>Not Reported</td><td>Negative</td><td>Negative</td><td>Negative</td><td>Wild type   </td><td>Wild type   </td><td>Not Reported</td><td>NA                        </td><td>Distant Metastasis</td><td>43.62</td><td>Black or African American</td><td>No </td><td>Anastrozole,Capecitabine,Carboplatin,Docetaxel,Doxorubicin,Gemcitabine,Letrozole,Paclitaxel,Tamoxifen</td></tr>\n",
       "\t<tr><td>BCM-0046 </td><td>2219 </td><td>Infiltrating duct carcinoma, NOS</td><td>Negative    </td><td>Negative    </td><td>Negative    </td><td>Negative</td><td>Negative</td><td>Negative</td><td>Wild type   </td><td>Wild type   </td><td>NA          </td><td>G3 (Poorly Differentiated)</td><td>Primary           </td><td>53.47</td><td>Hispanic or Latino       </td><td>No </td><td>Cyclophosphamide,Docetaxel,Epirubicin                                                                </td></tr>\n",
       "\t<tr><td>BCM-0104 </td><td>24561</td><td>Infiltrating duct carcinoma, NOS</td><td>Negative    </td><td>Negative    </td><td>Negative    </td><td>Negative</td><td>Negative</td><td>Negative</td><td>Not Reported</td><td>Not Reported</td><td>Not Reported</td><td>NA                        </td><td>Primary           </td><td>58.11</td><td>White                    </td><td>No </td><td>Paclitaxel                                                                                           </td></tr>\n",
       "\t<tr><td>BCM-0113 </td><td>4661 </td><td>Infiltrating duct carcinoma, NOS</td><td>Negative    </td><td>Negative    </td><td>Negative    </td><td>Negative</td><td>Negative</td><td>Negative</td><td>Wild type   </td><td>Wild type   </td><td>Not Reported</td><td>G3 (Poorly Differentiated)</td><td>Distant Metastasis</td><td>63.38</td><td>Hispanic or Latino       </td><td>No </td><td>Capecitabine,Carboplatin,Cyclophosphamide,Docetaxel,Doxorubicin,Ixabepilone,Paclitaxel               </td></tr>\n",
       "\t<tr><td>BCM-0132 </td><td>28918</td><td>Infiltrating duct carcinoma, NOS</td><td>Negative    </td><td>Negative    </td><td>Negative    </td><td>Negative</td><td>Negative</td><td>Negative</td><td>Wild type   </td><td>Wild type   </td><td>3b          </td><td>G3 (Poorly Differentiated)</td><td>Primary           </td><td>58.93</td><td>Black or African American</td><td>Yes</td><td>Capecitabine,Carboplatin,Cyclophosphamide,Docetaxel,Doxorubicin,Paclitaxel                           </td></tr>\n",
       "\t<tr><td>BCM-15003</td><td>14310</td><td>Adenoid cystic carcinoma        </td><td>Negative    </td><td>Negative    </td><td>Negative    </td><td>Negative</td><td>Negative</td><td>Negative</td><td>Wild type   </td><td>Wild type   </td><td>NA          </td><td>NA                        </td><td>Primary           </td><td>66.37</td><td>Hispanic or Latino       </td><td>Yes</td><td>Cyclophosphamide,Docetaxel                                                                           </td></tr>\n",
       "</tbody>\n",
       "</table>\n"
      ],
      "text/latex": [
       "A tibble: 6 × 18\n",
       "\\begin{tabular}{llllllllllllllllll}\n",
       " Model ID & Patient ID & Pathology Diagnosis & Patient ER Status & Patient PR Status & Patient HER2 Status & PDX ER Status & PDX PR Status & PDX HER2 Status & Germline BRCA1 Status & Germline BRCA2 Status & Stage & Grade & Clinical Event Point & Age at Diagnosis & Race & Tumor Naive & Patient Treatments\\\\\n",
       " <chr> & <chr> & <chr> & <chr> & <chr> & <chr> & <chr> & <chr> & <chr> & <chr> & <chr> & <chr> & <chr> & <chr> & <dbl> & <chr> & <chr> & <chr>\\\\\n",
       "\\hline\n",
       "\t BCM-0002  & 24452 & Unknown                          & Not Reported & Not Reported & Not Reported & Negative & Negative & Negative & Wild type    & Wild type    & Not Reported & NA                         & Distant Metastasis & 43.62 & Black or African American & No  & Anastrozole,Capecitabine,Carboplatin,Docetaxel,Doxorubicin,Gemcitabine,Letrozole,Paclitaxel,Tamoxifen\\\\\n",
       "\t BCM-0046  & 2219  & Infiltrating duct carcinoma, NOS & Negative     & Negative     & Negative     & Negative & Negative & Negative & Wild type    & Wild type    & NA           & G3 (Poorly Differentiated) & Primary            & 53.47 & Hispanic or Latino        & No  & Cyclophosphamide,Docetaxel,Epirubicin                                                                \\\\\n",
       "\t BCM-0104  & 24561 & Infiltrating duct carcinoma, NOS & Negative     & Negative     & Negative     & Negative & Negative & Negative & Not Reported & Not Reported & Not Reported & NA                         & Primary            & 58.11 & White                     & No  & Paclitaxel                                                                                           \\\\\n",
       "\t BCM-0113  & 4661  & Infiltrating duct carcinoma, NOS & Negative     & Negative     & Negative     & Negative & Negative & Negative & Wild type    & Wild type    & Not Reported & G3 (Poorly Differentiated) & Distant Metastasis & 63.38 & Hispanic or Latino        & No  & Capecitabine,Carboplatin,Cyclophosphamide,Docetaxel,Doxorubicin,Ixabepilone,Paclitaxel               \\\\\n",
       "\t BCM-0132  & 28918 & Infiltrating duct carcinoma, NOS & Negative     & Negative     & Negative     & Negative & Negative & Negative & Wild type    & Wild type    & 3b           & G3 (Poorly Differentiated) & Primary            & 58.93 & Black or African American & Yes & Capecitabine,Carboplatin,Cyclophosphamide,Docetaxel,Doxorubicin,Paclitaxel                           \\\\\n",
       "\t BCM-15003 & 14310 & Adenoid cystic carcinoma         & Negative     & Negative     & Negative     & Negative & Negative & Negative & Wild type    & Wild type    & NA           & NA                         & Primary            & 66.37 & Hispanic or Latino        & Yes & Cyclophosphamide,Docetaxel                                                                           \\\\\n",
       "\\end{tabular}\n"
      ],
      "text/markdown": [
       "\n",
       "A tibble: 6 × 18\n",
       "\n",
       "| Model ID &lt;chr&gt; | Patient ID &lt;chr&gt; | Pathology Diagnosis &lt;chr&gt; | Patient ER Status &lt;chr&gt; | Patient PR Status &lt;chr&gt; | Patient HER2 Status &lt;chr&gt; | PDX ER Status &lt;chr&gt; | PDX PR Status &lt;chr&gt; | PDX HER2 Status &lt;chr&gt; | Germline BRCA1 Status &lt;chr&gt; | Germline BRCA2 Status &lt;chr&gt; | Stage &lt;chr&gt; | Grade &lt;chr&gt; | Clinical Event Point &lt;chr&gt; | Age at Diagnosis &lt;dbl&gt; | Race &lt;chr&gt; | Tumor Naive &lt;chr&gt; | Patient Treatments &lt;chr&gt; |\n",
       "|---|---|---|---|---|---|---|---|---|---|---|---|---|---|---|---|---|---|\n",
       "| BCM-0002  | 24452 | Unknown                          | Not Reported | Not Reported | Not Reported | Negative | Negative | Negative | Wild type    | Wild type    | Not Reported | NA                         | Distant Metastasis | 43.62 | Black or African American | No  | Anastrozole,Capecitabine,Carboplatin,Docetaxel,Doxorubicin,Gemcitabine,Letrozole,Paclitaxel,Tamoxifen |\n",
       "| BCM-0046  | 2219  | Infiltrating duct carcinoma, NOS | Negative     | Negative     | Negative     | Negative | Negative | Negative | Wild type    | Wild type    | NA           | G3 (Poorly Differentiated) | Primary            | 53.47 | Hispanic or Latino        | No  | Cyclophosphamide,Docetaxel,Epirubicin                                                                 |\n",
       "| BCM-0104  | 24561 | Infiltrating duct carcinoma, NOS | Negative     | Negative     | Negative     | Negative | Negative | Negative | Not Reported | Not Reported | Not Reported | NA                         | Primary            | 58.11 | White                     | No  | Paclitaxel                                                                                            |\n",
       "| BCM-0113  | 4661  | Infiltrating duct carcinoma, NOS | Negative     | Negative     | Negative     | Negative | Negative | Negative | Wild type    | Wild type    | Not Reported | G3 (Poorly Differentiated) | Distant Metastasis | 63.38 | Hispanic or Latino        | No  | Capecitabine,Carboplatin,Cyclophosphamide,Docetaxel,Doxorubicin,Ixabepilone,Paclitaxel                |\n",
       "| BCM-0132  | 28918 | Infiltrating duct carcinoma, NOS | Negative     | Negative     | Negative     | Negative | Negative | Negative | Wild type    | Wild type    | 3b           | G3 (Poorly Differentiated) | Primary            | 58.93 | Black or African American | Yes | Capecitabine,Carboplatin,Cyclophosphamide,Docetaxel,Doxorubicin,Paclitaxel                            |\n",
       "| BCM-15003 | 14310 | Adenoid cystic carcinoma         | Negative     | Negative     | Negative     | Negative | Negative | Negative | Wild type    | Wild type    | NA           | NA                         | Primary            | 66.37 | Hispanic or Latino        | Yes | Cyclophosphamide,Docetaxel                                                                            |\n",
       "\n"
      ],
      "text/plain": [
       "  Model ID  Patient ID Pathology Diagnosis              Patient ER Status\n",
       "1 BCM-0002  24452      Unknown                          Not Reported     \n",
       "2 BCM-0046  2219       Infiltrating duct carcinoma, NOS Negative         \n",
       "3 BCM-0104  24561      Infiltrating duct carcinoma, NOS Negative         \n",
       "4 BCM-0113  4661       Infiltrating duct carcinoma, NOS Negative         \n",
       "5 BCM-0132  28918      Infiltrating duct carcinoma, NOS Negative         \n",
       "6 BCM-15003 14310      Adenoid cystic carcinoma         Negative         \n",
       "  Patient PR Status Patient HER2 Status PDX ER Status PDX PR Status\n",
       "1 Not Reported      Not Reported        Negative      Negative     \n",
       "2 Negative          Negative            Negative      Negative     \n",
       "3 Negative          Negative            Negative      Negative     \n",
       "4 Negative          Negative            Negative      Negative     \n",
       "5 Negative          Negative            Negative      Negative     \n",
       "6 Negative          Negative            Negative      Negative     \n",
       "  PDX HER2 Status Germline BRCA1 Status Germline BRCA2 Status Stage       \n",
       "1 Negative        Wild type             Wild type             Not Reported\n",
       "2 Negative        Wild type             Wild type             NA          \n",
       "3 Negative        Not Reported          Not Reported          Not Reported\n",
       "4 Negative        Wild type             Wild type             Not Reported\n",
       "5 Negative        Wild type             Wild type             3b          \n",
       "6 Negative        Wild type             Wild type             NA          \n",
       "  Grade                      Clinical Event Point Age at Diagnosis\n",
       "1 NA                         Distant Metastasis   43.62           \n",
       "2 G3 (Poorly Differentiated) Primary              53.47           \n",
       "3 NA                         Primary              58.11           \n",
       "4 G3 (Poorly Differentiated) Distant Metastasis   63.38           \n",
       "5 G3 (Poorly Differentiated) Primary              58.93           \n",
       "6 NA                         Primary              66.37           \n",
       "  Race                      Tumor Naive\n",
       "1 Black or African American No         \n",
       "2 Hispanic or Latino        No         \n",
       "3 White                     No         \n",
       "4 Hispanic or Latino        No         \n",
       "5 Black or African American Yes        \n",
       "6 Hispanic or Latino        Yes        \n",
       "  Patient Treatments                                                                                   \n",
       "1 Anastrozole,Capecitabine,Carboplatin,Docetaxel,Doxorubicin,Gemcitabine,Letrozole,Paclitaxel,Tamoxifen\n",
       "2 Cyclophosphamide,Docetaxel,Epirubicin                                                                \n",
       "3 Paclitaxel                                                                                           \n",
       "4 Capecitabine,Carboplatin,Cyclophosphamide,Docetaxel,Doxorubicin,Ixabepilone,Paclitaxel               \n",
       "5 Capecitabine,Carboplatin,Cyclophosphamide,Docetaxel,Doxorubicin,Paclitaxel                           \n",
       "6 Cyclophosphamide,Docetaxel                                                                           "
      ]
     },
     "metadata": {},
     "output_type": "display_data"
    }
   ],
   "source": [
    "bcm_metadata <- read_csv('BCM_FullMetaData_Breast_collection_models.csv')\n",
    "\n",
    "head(bcm_metadata)"
   ]
  },
  {
   "cell_type": "markdown",
   "id": "e9a21bed-a707-4ea3-9517-bd8dcdef2f95",
   "metadata": {},
   "source": [
    "### Summarize the missing metadata\n",
    "Before any other cleaning."
   ]
  },
  {
   "cell_type": "code",
   "execution_count": 6,
   "id": "5c7ff3bd-a566-45ed-8de9-8e0236f38503",
   "metadata": {},
   "outputs": [],
   "source": [
    "# Define function to summarize missing fields\n",
    "\n",
    "summarize_missing_fields <- function(df) {\n",
    "    colSums((is.na(df) | (df == 'Unknown') | (df == '?'))) %>% as.data.frame()\n",
    "}"
   ]
  },
  {
   "cell_type": "code",
   "execution_count": 7,
   "id": "1c298584-daaf-4b31-a8f7-261baffd9059",
   "metadata": {},
   "outputs": [
    {
     "data": {
      "text/html": [
       "<table class=\"dataframe\">\n",
       "<caption>A data.frame: 26 × 1</caption>\n",
       "<thead>\n",
       "\t<tr><th></th><th scope=col>.</th></tr>\n",
       "\t<tr><th></th><th scope=col>&lt;dbl&gt;</th></tr>\n",
       "</thead>\n",
       "<tbody>\n",
       "\t<tr><th scope=row>...1</th><td>   0</td></tr>\n",
       "\t<tr><th scope=row>contributor</th><td>   0</td></tr>\n",
       "\t<tr><th scope=row>file_name</th><td>   0</td></tr>\n",
       "\t<tr><th scope=row>patient_id</th><td>  26</td></tr>\n",
       "\t<tr><th scope=row>model_id</th><td> 870</td></tr>\n",
       "\t<tr><th scope=row>tumor_id</th><td>1422</td></tr>\n",
       "\t<tr><th scope=row>case_id</th><td> 602</td></tr>\n",
       "\t<tr><th scope=row>sample_id</th><td>   0</td></tr>\n",
       "\t<tr><th scope=row>sample_type</th><td>   0</td></tr>\n",
       "\t<tr><th scope=row>experimental_strategy</th><td>   0</td></tr>\n",
       "\t<tr><th scope=row>gender</th><td>  48</td></tr>\n",
       "\t<tr><th scope=row>paired_end</th><td>   0</td></tr>\n",
       "\t<tr><th scope=row>capture_kit</th><td>  26</td></tr>\n",
       "\t<tr><th scope=row>capture_assembly</th><td>1570</td></tr>\n",
       "\t<tr><th scope=row>availability</th><td>   0</td></tr>\n",
       "\t<tr><th scope=row>public</th><td>   0</td></tr>\n",
       "\t<tr><th scope=row>access_level</th><td>   0</td></tr>\n",
       "\t<tr><th scope=row>data_category</th><td>   0</td></tr>\n",
       "\t<tr><th scope=row>data_format</th><td>   0</td></tr>\n",
       "\t<tr><th scope=row>data_type</th><td>   0</td></tr>\n",
       "\t<tr><th scope=row>platform</th><td>   0</td></tr>\n",
       "\t<tr><th scope=row>is_ffpe</th><td>1714</td></tr>\n",
       "\t<tr><th scope=row>passage</th><td>1174</td></tr>\n",
       "\t<tr><th scope=row>body_location</th><td>  80</td></tr>\n",
       "\t<tr><th scope=row>disease_type</th><td>  80</td></tr>\n",
       "\t<tr><th scope=row>comment</th><td>2144</td></tr>\n",
       "</tbody>\n",
       "</table>\n"
      ],
      "text/latex": [
       "A data.frame: 26 × 1\n",
       "\\begin{tabular}{r|l}\n",
       "  & .\\\\\n",
       "  & <dbl>\\\\\n",
       "\\hline\n",
       "\t...1 &    0\\\\\n",
       "\tcontributor &    0\\\\\n",
       "\tfile\\_name &    0\\\\\n",
       "\tpatient\\_id &   26\\\\\n",
       "\tmodel\\_id &  870\\\\\n",
       "\ttumor\\_id & 1422\\\\\n",
       "\tcase\\_id &  602\\\\\n",
       "\tsample\\_id &    0\\\\\n",
       "\tsample\\_type &    0\\\\\n",
       "\texperimental\\_strategy &    0\\\\\n",
       "\tgender &   48\\\\\n",
       "\tpaired\\_end &    0\\\\\n",
       "\tcapture\\_kit &   26\\\\\n",
       "\tcapture\\_assembly & 1570\\\\\n",
       "\tavailability &    0\\\\\n",
       "\tpublic &    0\\\\\n",
       "\taccess\\_level &    0\\\\\n",
       "\tdata\\_category &    0\\\\\n",
       "\tdata\\_format &    0\\\\\n",
       "\tdata\\_type &    0\\\\\n",
       "\tplatform &    0\\\\\n",
       "\tis\\_ffpe & 1714\\\\\n",
       "\tpassage & 1174\\\\\n",
       "\tbody\\_location &   80\\\\\n",
       "\tdisease\\_type &   80\\\\\n",
       "\tcomment & 2144\\\\\n",
       "\\end{tabular}\n"
      ],
      "text/markdown": [
       "\n",
       "A data.frame: 26 × 1\n",
       "\n",
       "| <!--/--> | . &lt;dbl&gt; |\n",
       "|---|---|\n",
       "| ...1 |    0 |\n",
       "| contributor |    0 |\n",
       "| file_name |    0 |\n",
       "| patient_id |   26 |\n",
       "| model_id |  870 |\n",
       "| tumor_id | 1422 |\n",
       "| case_id |  602 |\n",
       "| sample_id |    0 |\n",
       "| sample_type |    0 |\n",
       "| experimental_strategy |    0 |\n",
       "| gender |   48 |\n",
       "| paired_end |    0 |\n",
       "| capture_kit |   26 |\n",
       "| capture_assembly | 1570 |\n",
       "| availability |    0 |\n",
       "| public |    0 |\n",
       "| access_level |    0 |\n",
       "| data_category |    0 |\n",
       "| data_format |    0 |\n",
       "| data_type |    0 |\n",
       "| platform |    0 |\n",
       "| is_ffpe | 1714 |\n",
       "| passage | 1174 |\n",
       "| body_location |   80 |\n",
       "| disease_type |   80 |\n",
       "| comment | 2144 |\n",
       "\n"
      ],
      "text/plain": [
       "                      .   \n",
       "...1                     0\n",
       "contributor              0\n",
       "file_name                0\n",
       "patient_id              26\n",
       "model_id               870\n",
       "tumor_id              1422\n",
       "case_id                602\n",
       "sample_id                0\n",
       "sample_type              0\n",
       "experimental_strategy    0\n",
       "gender                  48\n",
       "paired_end               0\n",
       "capture_kit             26\n",
       "capture_assembly      1570\n",
       "availability             0\n",
       "public                   0\n",
       "access_level             0\n",
       "data_category            0\n",
       "data_format              0\n",
       "data_type                0\n",
       "platform                 0\n",
       "is_ffpe               1714\n",
       "passage               1174\n",
       "body_location           80\n",
       "disease_type            80\n",
       "comment               2144"
      ]
     },
     "metadata": {},
     "output_type": "display_data"
    }
   ],
   "source": [
    "# How many NAs are there for the most important columns?\n",
    "\n",
    "\n",
    "summarize_missing_fields(pdtc_metadata)"
   ]
  },
  {
   "cell_type": "markdown",
   "id": "395b7f0a-ca57-4d0c-9c41-a328bf7a5fbc",
   "metadata": {},
   "source": [
    "### Fix formatting for HCI and BCM IDs"
   ]
  },
  {
   "cell_type": "code",
   "execution_count": 8,
   "id": "0d154e07-ae36-4883-a847-994ff1828a6f",
   "metadata": {},
   "outputs": [
    {
     "data": {
      "text/html": [
       "208"
      ],
      "text/latex": [
       "208"
      ],
      "text/markdown": [
       "208"
      ],
      "text/plain": [
       "[1] 208"
      ]
     },
     "metadata": {},
     "output_type": "display_data"
    },
    {
     "data": {
      "text/html": [
       "198"
      ],
      "text/latex": [
       "198"
      ],
      "text/markdown": [
       "198"
      ],
      "text/plain": [
       "[1] 198"
      ]
     },
     "metadata": {},
     "output_type": "display_data"
    },
    {
     "data": {
      "text/html": [
       "<table class=\"dataframe\">\n",
       "<caption>A spec_tbl_df: 10 × 26</caption>\n",
       "<thead>\n",
       "\t<tr><th scope=col>...1</th><th scope=col>contributor</th><th scope=col>file_name</th><th scope=col>patient_id</th><th scope=col>model_id</th><th scope=col>tumor_id</th><th scope=col>case_id</th><th scope=col>sample_id</th><th scope=col>sample_type</th><th scope=col>experimental_strategy</th><th scope=col>⋯</th><th scope=col>access_level</th><th scope=col>data_category</th><th scope=col>data_format</th><th scope=col>data_type</th><th scope=col>platform</th><th scope=col>is_ffpe</th><th scope=col>passage</th><th scope=col>body_location</th><th scope=col>disease_type</th><th scope=col>comment</th></tr>\n",
       "\t<tr><th scope=col>&lt;dbl&gt;</th><th scope=col>&lt;chr&gt;</th><th scope=col>&lt;chr&gt;</th><th scope=col>&lt;chr&gt;</th><th scope=col>&lt;chr&gt;</th><th scope=col>&lt;chr&gt;</th><th scope=col>&lt;chr&gt;</th><th scope=col>&lt;chr&gt;</th><th scope=col>&lt;chr&gt;</th><th scope=col>&lt;chr&gt;</th><th scope=col>⋯</th><th scope=col>&lt;chr&gt;</th><th scope=col>&lt;chr&gt;</th><th scope=col>&lt;chr&gt;</th><th scope=col>&lt;chr&gt;</th><th scope=col>&lt;chr&gt;</th><th scope=col>&lt;chr&gt;</th><th scope=col>&lt;chr&gt;</th><th scope=col>&lt;chr&gt;</th><th scope=col>&lt;chr&gt;</th><th scope=col>&lt;chr&gt;</th></tr>\n",
       "</thead>\n",
       "<tbody>\n",
       "\t<tr><td>167</td><td>BCM</td><td>45_S43_L008_R1_001.fastq.gz       </td><td>24490</td><td>BRA65   </td><td>NA</td><td>NA</td><td>BRA65   </td><td>PDX</td><td>WES</td><td>⋯</td><td>Controlled</td><td>Raw Sequencing Data</td><td>fastq.gz</td><td>Raw Reads</td><td>Illumina</td><td>Unknown</td><td>Unknown</td><td>Unknown</td><td>Unknown</td><td>NA</td></tr>\n",
       "\t<tr><td>168</td><td>BCM</td><td>45_S43_L008_R2_001.fastq.gz       </td><td>24490</td><td>BRA65   </td><td>NA</td><td>NA</td><td>BRA65   </td><td>PDX</td><td>WES</td><td>⋯</td><td>Controlled</td><td>Raw Sequencing Data</td><td>fastq.gz</td><td>Raw Reads</td><td>Illumina</td><td>Unknown</td><td>Unknown</td><td>Unknown</td><td>Unknown</td><td>NA</td></tr>\n",
       "\t<tr><td>169</td><td>BCM</td><td>46_S44_L008_R1_001.fastq.gz       </td><td>24490</td><td>BRA42   </td><td>NA</td><td>NA</td><td>BRA42   </td><td>PDX</td><td>WES</td><td>⋯</td><td>Controlled</td><td>Raw Sequencing Data</td><td>fastq.gz</td><td>Raw Reads</td><td>Illumina</td><td>Unknown</td><td>Unknown</td><td>Unknown</td><td>Unknown</td><td>NA</td></tr>\n",
       "\t<tr><td>170</td><td>BCM</td><td>46_S44_L008_R2_001.fastq.gz       </td><td>24490</td><td>BRA42   </td><td>NA</td><td>NA</td><td>BRA42   </td><td>PDX</td><td>WES</td><td>⋯</td><td>Controlled</td><td>Raw Sequencing Data</td><td>fastq.gz</td><td>Raw Reads</td><td>Illumina</td><td>Unknown</td><td>Unknown</td><td>Unknown</td><td>Unknown</td><td>NA</td></tr>\n",
       "\t<tr><td>173</td><td>BCM</td><td>54_S51_L008_R1_001.fastq.gz       </td><td>24490</td><td>FCP699  </td><td>NA</td><td>NA</td><td>FCP699  </td><td>PDX</td><td>WES</td><td>⋯</td><td>Controlled</td><td>Raw Sequencing Data</td><td>fastq.gz</td><td>Raw Reads</td><td>Illumina</td><td>Unknown</td><td>Unknown</td><td>Unknown</td><td>Unknown</td><td>NA</td></tr>\n",
       "\t<tr><td>174</td><td>BCM</td><td>54_S51_L008_R2_001.fastq.gz       </td><td>24490</td><td>FCP699  </td><td>NA</td><td>NA</td><td>FCP699  </td><td>PDX</td><td>WES</td><td>⋯</td><td>Controlled</td><td>Raw Sequencing Data</td><td>fastq.gz</td><td>Raw Reads</td><td>Illumina</td><td>Unknown</td><td>Unknown</td><td>Unknown</td><td>Unknown</td><td>NA</td></tr>\n",
       "\t<tr><td>175</td><td>BCM</td><td>GW-WES-10_S10_L005_R1_001.fastq.gz</td><td>24490</td><td>MC1     </td><td>NA</td><td>NA</td><td>MC1     </td><td>PDX</td><td>WES</td><td>⋯</td><td>Controlled</td><td>Raw Sequencing Data</td><td>fastq.gz</td><td>Raw Reads</td><td>Illumina</td><td>Unknown</td><td>Unknown</td><td>Unknown</td><td>Unknown</td><td>NA</td></tr>\n",
       "\t<tr><td>176</td><td>BCM</td><td>GW-WES-10_S10_L005_R2_001.fastq.gz</td><td>24490</td><td>MC1     </td><td>NA</td><td>NA</td><td>MC1     </td><td>PDX</td><td>WES</td><td>⋯</td><td>Controlled</td><td>Raw Sequencing Data</td><td>fastq.gz</td><td>Raw Reads</td><td>Illumina</td><td>Unknown</td><td>Unknown</td><td>Unknown</td><td>Unknown</td><td>NA</td></tr>\n",
       "\t<tr><td>181</td><td>BCM</td><td>GW-WES-9_S9_L005_R1_001.fastq.gz  </td><td>24490</td><td>MDA-IBC3</td><td>NA</td><td>NA</td><td>MDA-IBC3</td><td>PDX</td><td>WES</td><td>⋯</td><td>Controlled</td><td>Raw Sequencing Data</td><td>fastq.gz</td><td>Raw Reads</td><td>Illumina</td><td>Unknown</td><td>Unknown</td><td>Unknown</td><td>Unknown</td><td>NA</td></tr>\n",
       "\t<tr><td>182</td><td>BCM</td><td>GW-WES-9_S9_L005_R2_001.fastq.gz  </td><td>24490</td><td>MDA-IBC3</td><td>NA</td><td>NA</td><td>MDA-IBC3</td><td>PDX</td><td>WES</td><td>⋯</td><td>Controlled</td><td>Raw Sequencing Data</td><td>fastq.gz</td><td>Raw Reads</td><td>Illumina</td><td>Unknown</td><td>Unknown</td><td>Unknown</td><td>Unknown</td><td>NA</td></tr>\n",
       "</tbody>\n",
       "</table>\n"
      ],
      "text/latex": [
       "A spec\\_tbl\\_df: 10 × 26\n",
       "\\begin{tabular}{lllllllllllllllllllll}\n",
       " ...1 & contributor & file\\_name & patient\\_id & model\\_id & tumor\\_id & case\\_id & sample\\_id & sample\\_type & experimental\\_strategy & ⋯ & access\\_level & data\\_category & data\\_format & data\\_type & platform & is\\_ffpe & passage & body\\_location & disease\\_type & comment\\\\\n",
       " <dbl> & <chr> & <chr> & <chr> & <chr> & <chr> & <chr> & <chr> & <chr> & <chr> & ⋯ & <chr> & <chr> & <chr> & <chr> & <chr> & <chr> & <chr> & <chr> & <chr> & <chr>\\\\\n",
       "\\hline\n",
       "\t 167 & BCM & 45\\_S43\\_L008\\_R1\\_001.fastq.gz        & 24490 & BRA65    & NA & NA & BRA65    & PDX & WES & ⋯ & Controlled & Raw Sequencing Data & fastq.gz & Raw Reads & Illumina & Unknown & Unknown & Unknown & Unknown & NA\\\\\n",
       "\t 168 & BCM & 45\\_S43\\_L008\\_R2\\_001.fastq.gz        & 24490 & BRA65    & NA & NA & BRA65    & PDX & WES & ⋯ & Controlled & Raw Sequencing Data & fastq.gz & Raw Reads & Illumina & Unknown & Unknown & Unknown & Unknown & NA\\\\\n",
       "\t 169 & BCM & 46\\_S44\\_L008\\_R1\\_001.fastq.gz        & 24490 & BRA42    & NA & NA & BRA42    & PDX & WES & ⋯ & Controlled & Raw Sequencing Data & fastq.gz & Raw Reads & Illumina & Unknown & Unknown & Unknown & Unknown & NA\\\\\n",
       "\t 170 & BCM & 46\\_S44\\_L008\\_R2\\_001.fastq.gz        & 24490 & BRA42    & NA & NA & BRA42    & PDX & WES & ⋯ & Controlled & Raw Sequencing Data & fastq.gz & Raw Reads & Illumina & Unknown & Unknown & Unknown & Unknown & NA\\\\\n",
       "\t 173 & BCM & 54\\_S51\\_L008\\_R1\\_001.fastq.gz        & 24490 & FCP699   & NA & NA & FCP699   & PDX & WES & ⋯ & Controlled & Raw Sequencing Data & fastq.gz & Raw Reads & Illumina & Unknown & Unknown & Unknown & Unknown & NA\\\\\n",
       "\t 174 & BCM & 54\\_S51\\_L008\\_R2\\_001.fastq.gz        & 24490 & FCP699   & NA & NA & FCP699   & PDX & WES & ⋯ & Controlled & Raw Sequencing Data & fastq.gz & Raw Reads & Illumina & Unknown & Unknown & Unknown & Unknown & NA\\\\\n",
       "\t 175 & BCM & GW-WES-10\\_S10\\_L005\\_R1\\_001.fastq.gz & 24490 & MC1      & NA & NA & MC1      & PDX & WES & ⋯ & Controlled & Raw Sequencing Data & fastq.gz & Raw Reads & Illumina & Unknown & Unknown & Unknown & Unknown & NA\\\\\n",
       "\t 176 & BCM & GW-WES-10\\_S10\\_L005\\_R2\\_001.fastq.gz & 24490 & MC1      & NA & NA & MC1      & PDX & WES & ⋯ & Controlled & Raw Sequencing Data & fastq.gz & Raw Reads & Illumina & Unknown & Unknown & Unknown & Unknown & NA\\\\\n",
       "\t 181 & BCM & GW-WES-9\\_S9\\_L005\\_R1\\_001.fastq.gz   & 24490 & MDA-IBC3 & NA & NA & MDA-IBC3 & PDX & WES & ⋯ & Controlled & Raw Sequencing Data & fastq.gz & Raw Reads & Illumina & Unknown & Unknown & Unknown & Unknown & NA\\\\\n",
       "\t 182 & BCM & GW-WES-9\\_S9\\_L005\\_R2\\_001.fastq.gz   & 24490 & MDA-IBC3 & NA & NA & MDA-IBC3 & PDX & WES & ⋯ & Controlled & Raw Sequencing Data & fastq.gz & Raw Reads & Illumina & Unknown & Unknown & Unknown & Unknown & NA\\\\\n",
       "\\end{tabular}\n"
      ],
      "text/markdown": [
       "\n",
       "A spec_tbl_df: 10 × 26\n",
       "\n",
       "| ...1 &lt;dbl&gt; | contributor &lt;chr&gt; | file_name &lt;chr&gt; | patient_id &lt;chr&gt; | model_id &lt;chr&gt; | tumor_id &lt;chr&gt; | case_id &lt;chr&gt; | sample_id &lt;chr&gt; | sample_type &lt;chr&gt; | experimental_strategy &lt;chr&gt; | ⋯ ⋯ | access_level &lt;chr&gt; | data_category &lt;chr&gt; | data_format &lt;chr&gt; | data_type &lt;chr&gt; | platform &lt;chr&gt; | is_ffpe &lt;chr&gt; | passage &lt;chr&gt; | body_location &lt;chr&gt; | disease_type &lt;chr&gt; | comment &lt;chr&gt; |\n",
       "|---|---|---|---|---|---|---|---|---|---|---|---|---|---|---|---|---|---|---|---|---|\n",
       "| 167 | BCM | 45_S43_L008_R1_001.fastq.gz        | 24490 | BRA65    | NA | NA | BRA65    | PDX | WES | ⋯ | Controlled | Raw Sequencing Data | fastq.gz | Raw Reads | Illumina | Unknown | Unknown | Unknown | Unknown | NA |\n",
       "| 168 | BCM | 45_S43_L008_R2_001.fastq.gz        | 24490 | BRA65    | NA | NA | BRA65    | PDX | WES | ⋯ | Controlled | Raw Sequencing Data | fastq.gz | Raw Reads | Illumina | Unknown | Unknown | Unknown | Unknown | NA |\n",
       "| 169 | BCM | 46_S44_L008_R1_001.fastq.gz        | 24490 | BRA42    | NA | NA | BRA42    | PDX | WES | ⋯ | Controlled | Raw Sequencing Data | fastq.gz | Raw Reads | Illumina | Unknown | Unknown | Unknown | Unknown | NA |\n",
       "| 170 | BCM | 46_S44_L008_R2_001.fastq.gz        | 24490 | BRA42    | NA | NA | BRA42    | PDX | WES | ⋯ | Controlled | Raw Sequencing Data | fastq.gz | Raw Reads | Illumina | Unknown | Unknown | Unknown | Unknown | NA |\n",
       "| 173 | BCM | 54_S51_L008_R1_001.fastq.gz        | 24490 | FCP699   | NA | NA | FCP699   | PDX | WES | ⋯ | Controlled | Raw Sequencing Data | fastq.gz | Raw Reads | Illumina | Unknown | Unknown | Unknown | Unknown | NA |\n",
       "| 174 | BCM | 54_S51_L008_R2_001.fastq.gz        | 24490 | FCP699   | NA | NA | FCP699   | PDX | WES | ⋯ | Controlled | Raw Sequencing Data | fastq.gz | Raw Reads | Illumina | Unknown | Unknown | Unknown | Unknown | NA |\n",
       "| 175 | BCM | GW-WES-10_S10_L005_R1_001.fastq.gz | 24490 | MC1      | NA | NA | MC1      | PDX | WES | ⋯ | Controlled | Raw Sequencing Data | fastq.gz | Raw Reads | Illumina | Unknown | Unknown | Unknown | Unknown | NA |\n",
       "| 176 | BCM | GW-WES-10_S10_L005_R2_001.fastq.gz | 24490 | MC1      | NA | NA | MC1      | PDX | WES | ⋯ | Controlled | Raw Sequencing Data | fastq.gz | Raw Reads | Illumina | Unknown | Unknown | Unknown | Unknown | NA |\n",
       "| 181 | BCM | GW-WES-9_S9_L005_R1_001.fastq.gz   | 24490 | MDA-IBC3 | NA | NA | MDA-IBC3 | PDX | WES | ⋯ | Controlled | Raw Sequencing Data | fastq.gz | Raw Reads | Illumina | Unknown | Unknown | Unknown | Unknown | NA |\n",
       "| 182 | BCM | GW-WES-9_S9_L005_R2_001.fastq.gz   | 24490 | MDA-IBC3 | NA | NA | MDA-IBC3 | PDX | WES | ⋯ | Controlled | Raw Sequencing Data | fastq.gz | Raw Reads | Illumina | Unknown | Unknown | Unknown | Unknown | NA |\n",
       "\n"
      ],
      "text/plain": [
       "   ...1 contributor file_name                          patient_id model_id\n",
       "1  167  BCM         45_S43_L008_R1_001.fastq.gz        24490      BRA65   \n",
       "2  168  BCM         45_S43_L008_R2_001.fastq.gz        24490      BRA65   \n",
       "3  169  BCM         46_S44_L008_R1_001.fastq.gz        24490      BRA42   \n",
       "4  170  BCM         46_S44_L008_R2_001.fastq.gz        24490      BRA42   \n",
       "5  173  BCM         54_S51_L008_R1_001.fastq.gz        24490      FCP699  \n",
       "6  174  BCM         54_S51_L008_R2_001.fastq.gz        24490      FCP699  \n",
       "7  175  BCM         GW-WES-10_S10_L005_R1_001.fastq.gz 24490      MC1     \n",
       "8  176  BCM         GW-WES-10_S10_L005_R2_001.fastq.gz 24490      MC1     \n",
       "9  181  BCM         GW-WES-9_S9_L005_R1_001.fastq.gz   24490      MDA-IBC3\n",
       "10 182  BCM         GW-WES-9_S9_L005_R2_001.fastq.gz   24490      MDA-IBC3\n",
       "   tumor_id case_id sample_id sample_type experimental_strategy ⋯ access_level\n",
       "1  NA       NA      BRA65     PDX         WES                   ⋯ Controlled  \n",
       "2  NA       NA      BRA65     PDX         WES                   ⋯ Controlled  \n",
       "3  NA       NA      BRA42     PDX         WES                   ⋯ Controlled  \n",
       "4  NA       NA      BRA42     PDX         WES                   ⋯ Controlled  \n",
       "5  NA       NA      FCP699    PDX         WES                   ⋯ Controlled  \n",
       "6  NA       NA      FCP699    PDX         WES                   ⋯ Controlled  \n",
       "7  NA       NA      MC1       PDX         WES                   ⋯ Controlled  \n",
       "8  NA       NA      MC1       PDX         WES                   ⋯ Controlled  \n",
       "9  NA       NA      MDA-IBC3  PDX         WES                   ⋯ Controlled  \n",
       "10 NA       NA      MDA-IBC3  PDX         WES                   ⋯ Controlled  \n",
       "   data_category       data_format data_type platform is_ffpe passage\n",
       "1  Raw Sequencing Data fastq.gz    Raw Reads Illumina Unknown Unknown\n",
       "2  Raw Sequencing Data fastq.gz    Raw Reads Illumina Unknown Unknown\n",
       "3  Raw Sequencing Data fastq.gz    Raw Reads Illumina Unknown Unknown\n",
       "4  Raw Sequencing Data fastq.gz    Raw Reads Illumina Unknown Unknown\n",
       "5  Raw Sequencing Data fastq.gz    Raw Reads Illumina Unknown Unknown\n",
       "6  Raw Sequencing Data fastq.gz    Raw Reads Illumina Unknown Unknown\n",
       "7  Raw Sequencing Data fastq.gz    Raw Reads Illumina Unknown Unknown\n",
       "8  Raw Sequencing Data fastq.gz    Raw Reads Illumina Unknown Unknown\n",
       "9  Raw Sequencing Data fastq.gz    Raw Reads Illumina Unknown Unknown\n",
       "10 Raw Sequencing Data fastq.gz    Raw Reads Illumina Unknown Unknown\n",
       "   body_location disease_type comment\n",
       "1  Unknown       Unknown      NA     \n",
       "2  Unknown       Unknown      NA     \n",
       "3  Unknown       Unknown      NA     \n",
       "4  Unknown       Unknown      NA     \n",
       "5  Unknown       Unknown      NA     \n",
       "6  Unknown       Unknown      NA     \n",
       "7  Unknown       Unknown      NA     \n",
       "8  Unknown       Unknown      NA     \n",
       "9  Unknown       Unknown      NA     \n",
       "10 Unknown       Unknown      NA     "
      ]
     },
     "metadata": {},
     "output_type": "display_data"
    }
   ],
   "source": [
    "# How many don't conform to HCI-# and BCM-# with the dash\n",
    "# Note: a few models don't follow this convention and have a different prefix entirely\n",
    "\n",
    "# How many models are there from BCM?\n",
    "nrow(pdtc_metadata %>% filter(contributor == 'BCM'))\n",
    "\n",
    "# How many start with this?\n",
    "pdtc_metadata %>% filter(contributor == 'BCM' & startsWith(model_id, 'BCM-')) %>% nrow()\n",
    "\n",
    "# Show the ones that don't\n",
    "pdtc_metadata %>% filter(contributor == 'BCM' & !startsWith(model_id, 'BCM-'))"
   ]
  },
  {
   "cell_type": "markdown",
   "id": "6f01b0a3-d7b6-4b72-8c53-878960c7a587",
   "metadata": {},
   "source": [
    "It looks like all BCM models follow this convention, except for ones which don't use a BCM prefix at all."
   ]
  },
  {
   "cell_type": "code",
   "execution_count": 9,
   "id": "fb0c0298-ae33-4a0e-b0f3-bbffba883e62",
   "metadata": {},
   "outputs": [
    {
     "data": {
      "text/html": [
       "246"
      ],
      "text/latex": [
       "246"
      ],
      "text/markdown": [
       "246"
      ],
      "text/plain": [
       "[1] 246"
      ]
     },
     "metadata": {},
     "output_type": "display_data"
    },
    {
     "data": {
      "text/html": [
       "0"
      ],
      "text/latex": [
       "0"
      ],
      "text/markdown": [
       "0"
      ],
      "text/plain": [
       "[1] 0"
      ]
     },
     "metadata": {},
     "output_type": "display_data"
    },
    {
     "data": {
      "text/html": [
       "246"
      ],
      "text/latex": [
       "246"
      ],
      "text/markdown": [
       "246"
      ],
      "text/plain": [
       "[1] 246"
      ]
     },
     "metadata": {},
     "output_type": "display_data"
    }
   ],
   "source": [
    "# Do the same for HCI\n",
    "\n",
    "# How many models are there from HCI?\n",
    "nrow(pdtc_metadata %>% filter(contributor == 'HCI'))\n",
    "\n",
    "# How many start with this?\n",
    "pdtc_metadata %>% filter(contributor == 'HCI' & startsWith(patient_id, 'HCI-')) %>% nrow()\n",
    "\n",
    "# How many don't\n",
    "pdtc_metadata %>% filter(contributor == 'HCI' & !startsWith(patient_id, 'HCI-')) %>% nrow()"
   ]
  },
  {
   "cell_type": "code",
   "execution_count": 10,
   "id": "be9833ac-468a-4ffd-befe-af719d91c68b",
   "metadata": {},
   "outputs": [
    {
     "data": {
      "text/html": [
       "234"
      ],
      "text/latex": [
       "234"
      ],
      "text/markdown": [
       "234"
      ],
      "text/plain": [
       "[1] 234"
      ]
     },
     "metadata": {},
     "output_type": "display_data"
    },
    {
     "data": {
      "text/html": [
       "<table class=\"dataframe\">\n",
       "<caption>A spec_tbl_df: 12 × 26</caption>\n",
       "<thead>\n",
       "\t<tr><th scope=col>...1</th><th scope=col>contributor</th><th scope=col>file_name</th><th scope=col>patient_id</th><th scope=col>model_id</th><th scope=col>tumor_id</th><th scope=col>case_id</th><th scope=col>sample_id</th><th scope=col>sample_type</th><th scope=col>experimental_strategy</th><th scope=col>⋯</th><th scope=col>access_level</th><th scope=col>data_category</th><th scope=col>data_format</th><th scope=col>data_type</th><th scope=col>platform</th><th scope=col>is_ffpe</th><th scope=col>passage</th><th scope=col>body_location</th><th scope=col>disease_type</th><th scope=col>comment</th></tr>\n",
       "\t<tr><th scope=col>&lt;dbl&gt;</th><th scope=col>&lt;chr&gt;</th><th scope=col>&lt;chr&gt;</th><th scope=col>&lt;chr&gt;</th><th scope=col>&lt;chr&gt;</th><th scope=col>&lt;chr&gt;</th><th scope=col>&lt;chr&gt;</th><th scope=col>&lt;chr&gt;</th><th scope=col>&lt;chr&gt;</th><th scope=col>&lt;chr&gt;</th><th scope=col>⋯</th><th scope=col>&lt;chr&gt;</th><th scope=col>&lt;chr&gt;</th><th scope=col>&lt;chr&gt;</th><th scope=col>&lt;chr&gt;</th><th scope=col>&lt;chr&gt;</th><th scope=col>&lt;chr&gt;</th><th scope=col>&lt;chr&gt;</th><th scope=col>&lt;chr&gt;</th><th scope=col>&lt;chr&gt;</th><th scope=col>&lt;chr&gt;</th></tr>\n",
       "</thead>\n",
       "<tbody>\n",
       "\t<tr><td>236</td><td>HCI</td><td>15306X4_TOW18S_patientnormalblood_1.txt.gz       </td><td>TOW18S           </td><td>NA</td><td>NA</td><td>TOW18S           </td><td>15306X4</td><td>Normal</td><td>WES</td><td>⋯</td><td>Controlled</td><td>Raw Sequencing Data</td><td>fastq.gz</td><td>Raw Reads</td><td>Illumina HiSeq</td><td>Unknown</td><td>NA</td><td>Unknown</td><td>Unknown              </td><td>NA</td></tr>\n",
       "\t<tr><td>237</td><td>HCI</td><td>15306X4_TOW18S_patientnormalblood_2.txt.gz       </td><td>TOW18S           </td><td>NA</td><td>NA</td><td>TOW18S           </td><td>15306X4</td><td>Normal</td><td>WES</td><td>⋯</td><td>Controlled</td><td>Raw Sequencing Data</td><td>fastq.gz</td><td>Raw Reads</td><td>Illumina HiSeq</td><td>Unknown</td><td>NA</td><td>Unknown</td><td>Unknown              </td><td>NA</td></tr>\n",
       "\t<tr><td>238</td><td>HCI</td><td>15409X1_AM0245-1801519-L2_PDXtumor_file1.fastq.gz</td><td>AM0245.1801519.L2</td><td>NA</td><td>NA</td><td>AM0245.1801519.L2</td><td>15409X1</td><td>PDX   </td><td>WES</td><td>⋯</td><td>Controlled</td><td>Raw Sequencing Data</td><td>fastq.gz</td><td>Raw Reads</td><td>Illumina HiSeq</td><td>Unknown</td><td>P1</td><td>Colon  </td><td>Colon adenocarcinoma </td><td>NA</td></tr>\n",
       "\t<tr><td>239</td><td>HCI</td><td>15409X1_AM0245-1801519-L2_PDXtumor_file2.fastq.gz</td><td>AM0245.1801519.L2</td><td>NA</td><td>NA</td><td>AM0245.1801519.L2</td><td>15409X1</td><td>PDX   </td><td>WES</td><td>⋯</td><td>Controlled</td><td>Raw Sequencing Data</td><td>fastq.gz</td><td>Raw Reads</td><td>Illumina HiSeq</td><td>Unknown</td><td>P1</td><td>Colon  </td><td>Colon adenocarcinoma </td><td>NA</td></tr>\n",
       "\t<tr><td>240</td><td>HCI</td><td>15409X3_CK02021-180523-R2_PDXtumor_file1.fastq.gz</td><td>CK02021.180523.R2</td><td>NA</td><td>NA</td><td>CK02021.180523.R2</td><td>15409X3</td><td>PDX   </td><td>WES</td><td>⋯</td><td>Controlled</td><td>Raw Sequencing Data</td><td>fastq.gz</td><td>Raw Reads</td><td>Illumina HiSeq</td><td>Unknown</td><td>P2</td><td>Colon  </td><td>Colon adenocarcinoma </td><td>NA</td></tr>\n",
       "\t<tr><td>241</td><td>HCI</td><td>15409X3_CK02021-180523-R2_PDXtumor_file2.fastq.gz</td><td>CK02021.180523.R2</td><td>NA</td><td>NA</td><td>CK02021.180523.R2</td><td>15409X3</td><td>PDX   </td><td>WES</td><td>⋯</td><td>Controlled</td><td>Raw Sequencing Data</td><td>fastq.gz</td><td>Raw Reads</td><td>Illumina HiSeq</td><td>Unknown</td><td>P2</td><td>Colon  </td><td>Colon adenocarcinoma </td><td>NA</td></tr>\n",
       "\t<tr><td>242</td><td>HCI</td><td>15409X2_CK0643-180521-L1_PDXtumor_file1.fastq.gz </td><td>CK0643.180521.L1 </td><td>NA</td><td>NA</td><td>CK0643.180521.L1 </td><td>15409X2</td><td>PDX   </td><td>WES</td><td>⋯</td><td>Controlled</td><td>Raw Sequencing Data</td><td>fastq.gz</td><td>Raw Reads</td><td>Illumina HiSeq</td><td>Unknown</td><td>P4</td><td>Bladder</td><td>urothelial/bladder ca</td><td>NA</td></tr>\n",
       "\t<tr><td>243</td><td>HCI</td><td>15409X2_CK0643-180521-L1_PDXtumor_file2.fastq.gz </td><td>CK0643.180521.L1 </td><td>NA</td><td>NA</td><td>CK0643.180521.L1 </td><td>15409X2</td><td>PDX   </td><td>WES</td><td>⋯</td><td>Controlled</td><td>Raw Sequencing Data</td><td>fastq.gz</td><td>Raw Reads</td><td>Illumina HiSeq</td><td>Unknown</td><td>P4</td><td>Bladder</td><td>urothelial/bladder ca</td><td>NA</td></tr>\n",
       "\t<tr><td>356</td><td>HCI</td><td>15306X7_TOW18S_PDXtumor_P0_1.txt.gz              </td><td>TOW18S           </td><td>NA</td><td>NA</td><td>TOW18S           </td><td>15306X7</td><td>PDX   </td><td>WES</td><td>⋯</td><td>Controlled</td><td>Raw Sequencing Data</td><td>fastq.gz</td><td>Raw Reads</td><td>Illumina HiSeq</td><td>Unknown</td><td>P0</td><td>Unknown</td><td>Unknown              </td><td>NA</td></tr>\n",
       "\t<tr><td>357</td><td>HCI</td><td>15306X7_TOW18S_PDXtumor_P0_2.txt.gz              </td><td>TOW18S           </td><td>NA</td><td>NA</td><td>TOW18S           </td><td>15306X7</td><td>PDX   </td><td>WES</td><td>⋯</td><td>Controlled</td><td>Raw Sequencing Data</td><td>fastq.gz</td><td>Raw Reads</td><td>Illumina HiSeq</td><td>Unknown</td><td>P0</td><td>Unknown</td><td>Unknown              </td><td>NA</td></tr>\n",
       "\t<tr><td>404</td><td>HCI</td><td>15306X6_TOW18S_patienttumor_1.txt.gz             </td><td>TOW18S           </td><td>NA</td><td>NA</td><td>TOW18S           </td><td>15306X6</td><td>Tumor </td><td>WES</td><td>⋯</td><td>Controlled</td><td>Raw Sequencing Data</td><td>fastq.gz</td><td>Raw Reads</td><td>Illumina HiSeq</td><td>Unknown</td><td>NA</td><td>Unknown</td><td>Unknown              </td><td>NA</td></tr>\n",
       "\t<tr><td>405</td><td>HCI</td><td>15306X6_TOW18S_patienttumor_2.txt.gz             </td><td>TOW18S           </td><td>NA</td><td>NA</td><td>TOW18S           </td><td>15306X6</td><td>Tumor </td><td>WES</td><td>⋯</td><td>Controlled</td><td>Raw Sequencing Data</td><td>fastq.gz</td><td>Raw Reads</td><td>Illumina HiSeq</td><td>Unknown</td><td>NA</td><td>Unknown</td><td>Unknown              </td><td>NA</td></tr>\n",
       "</tbody>\n",
       "</table>\n"
      ],
      "text/latex": [
       "A spec\\_tbl\\_df: 12 × 26\n",
       "\\begin{tabular}{lllllllllllllllllllll}\n",
       " ...1 & contributor & file\\_name & patient\\_id & model\\_id & tumor\\_id & case\\_id & sample\\_id & sample\\_type & experimental\\_strategy & ⋯ & access\\_level & data\\_category & data\\_format & data\\_type & platform & is\\_ffpe & passage & body\\_location & disease\\_type & comment\\\\\n",
       " <dbl> & <chr> & <chr> & <chr> & <chr> & <chr> & <chr> & <chr> & <chr> & <chr> & ⋯ & <chr> & <chr> & <chr> & <chr> & <chr> & <chr> & <chr> & <chr> & <chr> & <chr>\\\\\n",
       "\\hline\n",
       "\t 236 & HCI & 15306X4\\_TOW18S\\_patientnormalblood\\_1.txt.gz        & TOW18S            & NA & NA & TOW18S            & 15306X4 & Normal & WES & ⋯ & Controlled & Raw Sequencing Data & fastq.gz & Raw Reads & Illumina HiSeq & Unknown & NA & Unknown & Unknown               & NA\\\\\n",
       "\t 237 & HCI & 15306X4\\_TOW18S\\_patientnormalblood\\_2.txt.gz        & TOW18S            & NA & NA & TOW18S            & 15306X4 & Normal & WES & ⋯ & Controlled & Raw Sequencing Data & fastq.gz & Raw Reads & Illumina HiSeq & Unknown & NA & Unknown & Unknown               & NA\\\\\n",
       "\t 238 & HCI & 15409X1\\_AM0245-1801519-L2\\_PDXtumor\\_file1.fastq.gz & AM0245.1801519.L2 & NA & NA & AM0245.1801519.L2 & 15409X1 & PDX    & WES & ⋯ & Controlled & Raw Sequencing Data & fastq.gz & Raw Reads & Illumina HiSeq & Unknown & P1 & Colon   & Colon adenocarcinoma  & NA\\\\\n",
       "\t 239 & HCI & 15409X1\\_AM0245-1801519-L2\\_PDXtumor\\_file2.fastq.gz & AM0245.1801519.L2 & NA & NA & AM0245.1801519.L2 & 15409X1 & PDX    & WES & ⋯ & Controlled & Raw Sequencing Data & fastq.gz & Raw Reads & Illumina HiSeq & Unknown & P1 & Colon   & Colon adenocarcinoma  & NA\\\\\n",
       "\t 240 & HCI & 15409X3\\_CK02021-180523-R2\\_PDXtumor\\_file1.fastq.gz & CK02021.180523.R2 & NA & NA & CK02021.180523.R2 & 15409X3 & PDX    & WES & ⋯ & Controlled & Raw Sequencing Data & fastq.gz & Raw Reads & Illumina HiSeq & Unknown & P2 & Colon   & Colon adenocarcinoma  & NA\\\\\n",
       "\t 241 & HCI & 15409X3\\_CK02021-180523-R2\\_PDXtumor\\_file2.fastq.gz & CK02021.180523.R2 & NA & NA & CK02021.180523.R2 & 15409X3 & PDX    & WES & ⋯ & Controlled & Raw Sequencing Data & fastq.gz & Raw Reads & Illumina HiSeq & Unknown & P2 & Colon   & Colon adenocarcinoma  & NA\\\\\n",
       "\t 242 & HCI & 15409X2\\_CK0643-180521-L1\\_PDXtumor\\_file1.fastq.gz  & CK0643.180521.L1  & NA & NA & CK0643.180521.L1  & 15409X2 & PDX    & WES & ⋯ & Controlled & Raw Sequencing Data & fastq.gz & Raw Reads & Illumina HiSeq & Unknown & P4 & Bladder & urothelial/bladder ca & NA\\\\\n",
       "\t 243 & HCI & 15409X2\\_CK0643-180521-L1\\_PDXtumor\\_file2.fastq.gz  & CK0643.180521.L1  & NA & NA & CK0643.180521.L1  & 15409X2 & PDX    & WES & ⋯ & Controlled & Raw Sequencing Data & fastq.gz & Raw Reads & Illumina HiSeq & Unknown & P4 & Bladder & urothelial/bladder ca & NA\\\\\n",
       "\t 356 & HCI & 15306X7\\_TOW18S\\_PDXtumor\\_P0\\_1.txt.gz               & TOW18S            & NA & NA & TOW18S            & 15306X7 & PDX    & WES & ⋯ & Controlled & Raw Sequencing Data & fastq.gz & Raw Reads & Illumina HiSeq & Unknown & P0 & Unknown & Unknown               & NA\\\\\n",
       "\t 357 & HCI & 15306X7\\_TOW18S\\_PDXtumor\\_P0\\_2.txt.gz               & TOW18S            & NA & NA & TOW18S            & 15306X7 & PDX    & WES & ⋯ & Controlled & Raw Sequencing Data & fastq.gz & Raw Reads & Illumina HiSeq & Unknown & P0 & Unknown & Unknown               & NA\\\\\n",
       "\t 404 & HCI & 15306X6\\_TOW18S\\_patienttumor\\_1.txt.gz              & TOW18S            & NA & NA & TOW18S            & 15306X6 & Tumor  & WES & ⋯ & Controlled & Raw Sequencing Data & fastq.gz & Raw Reads & Illumina HiSeq & Unknown & NA & Unknown & Unknown               & NA\\\\\n",
       "\t 405 & HCI & 15306X6\\_TOW18S\\_patienttumor\\_2.txt.gz              & TOW18S            & NA & NA & TOW18S            & 15306X6 & Tumor  & WES & ⋯ & Controlled & Raw Sequencing Data & fastq.gz & Raw Reads & Illumina HiSeq & Unknown & NA & Unknown & Unknown               & NA\\\\\n",
       "\\end{tabular}\n"
      ],
      "text/markdown": [
       "\n",
       "A spec_tbl_df: 12 × 26\n",
       "\n",
       "| ...1 &lt;dbl&gt; | contributor &lt;chr&gt; | file_name &lt;chr&gt; | patient_id &lt;chr&gt; | model_id &lt;chr&gt; | tumor_id &lt;chr&gt; | case_id &lt;chr&gt; | sample_id &lt;chr&gt; | sample_type &lt;chr&gt; | experimental_strategy &lt;chr&gt; | ⋯ ⋯ | access_level &lt;chr&gt; | data_category &lt;chr&gt; | data_format &lt;chr&gt; | data_type &lt;chr&gt; | platform &lt;chr&gt; | is_ffpe &lt;chr&gt; | passage &lt;chr&gt; | body_location &lt;chr&gt; | disease_type &lt;chr&gt; | comment &lt;chr&gt; |\n",
       "|---|---|---|---|---|---|---|---|---|---|---|---|---|---|---|---|---|---|---|---|---|\n",
       "| 236 | HCI | 15306X4_TOW18S_patientnormalblood_1.txt.gz        | TOW18S            | NA | NA | TOW18S            | 15306X4 | Normal | WES | ⋯ | Controlled | Raw Sequencing Data | fastq.gz | Raw Reads | Illumina HiSeq | Unknown | NA | Unknown | Unknown               | NA |\n",
       "| 237 | HCI | 15306X4_TOW18S_patientnormalblood_2.txt.gz        | TOW18S            | NA | NA | TOW18S            | 15306X4 | Normal | WES | ⋯ | Controlled | Raw Sequencing Data | fastq.gz | Raw Reads | Illumina HiSeq | Unknown | NA | Unknown | Unknown               | NA |\n",
       "| 238 | HCI | 15409X1_AM0245-1801519-L2_PDXtumor_file1.fastq.gz | AM0245.1801519.L2 | NA | NA | AM0245.1801519.L2 | 15409X1 | PDX    | WES | ⋯ | Controlled | Raw Sequencing Data | fastq.gz | Raw Reads | Illumina HiSeq | Unknown | P1 | Colon   | Colon adenocarcinoma  | NA |\n",
       "| 239 | HCI | 15409X1_AM0245-1801519-L2_PDXtumor_file2.fastq.gz | AM0245.1801519.L2 | NA | NA | AM0245.1801519.L2 | 15409X1 | PDX    | WES | ⋯ | Controlled | Raw Sequencing Data | fastq.gz | Raw Reads | Illumina HiSeq | Unknown | P1 | Colon   | Colon adenocarcinoma  | NA |\n",
       "| 240 | HCI | 15409X3_CK02021-180523-R2_PDXtumor_file1.fastq.gz | CK02021.180523.R2 | NA | NA | CK02021.180523.R2 | 15409X3 | PDX    | WES | ⋯ | Controlled | Raw Sequencing Data | fastq.gz | Raw Reads | Illumina HiSeq | Unknown | P2 | Colon   | Colon adenocarcinoma  | NA |\n",
       "| 241 | HCI | 15409X3_CK02021-180523-R2_PDXtumor_file2.fastq.gz | CK02021.180523.R2 | NA | NA | CK02021.180523.R2 | 15409X3 | PDX    | WES | ⋯ | Controlled | Raw Sequencing Data | fastq.gz | Raw Reads | Illumina HiSeq | Unknown | P2 | Colon   | Colon adenocarcinoma  | NA |\n",
       "| 242 | HCI | 15409X2_CK0643-180521-L1_PDXtumor_file1.fastq.gz  | CK0643.180521.L1  | NA | NA | CK0643.180521.L1  | 15409X2 | PDX    | WES | ⋯ | Controlled | Raw Sequencing Data | fastq.gz | Raw Reads | Illumina HiSeq | Unknown | P4 | Bladder | urothelial/bladder ca | NA |\n",
       "| 243 | HCI | 15409X2_CK0643-180521-L1_PDXtumor_file2.fastq.gz  | CK0643.180521.L1  | NA | NA | CK0643.180521.L1  | 15409X2 | PDX    | WES | ⋯ | Controlled | Raw Sequencing Data | fastq.gz | Raw Reads | Illumina HiSeq | Unknown | P4 | Bladder | urothelial/bladder ca | NA |\n",
       "| 356 | HCI | 15306X7_TOW18S_PDXtumor_P0_1.txt.gz               | TOW18S            | NA | NA | TOW18S            | 15306X7 | PDX    | WES | ⋯ | Controlled | Raw Sequencing Data | fastq.gz | Raw Reads | Illumina HiSeq | Unknown | P0 | Unknown | Unknown               | NA |\n",
       "| 357 | HCI | 15306X7_TOW18S_PDXtumor_P0_2.txt.gz               | TOW18S            | NA | NA | TOW18S            | 15306X7 | PDX    | WES | ⋯ | Controlled | Raw Sequencing Data | fastq.gz | Raw Reads | Illumina HiSeq | Unknown | P0 | Unknown | Unknown               | NA |\n",
       "| 404 | HCI | 15306X6_TOW18S_patienttumor_1.txt.gz              | TOW18S            | NA | NA | TOW18S            | 15306X6 | Tumor  | WES | ⋯ | Controlled | Raw Sequencing Data | fastq.gz | Raw Reads | Illumina HiSeq | Unknown | NA | Unknown | Unknown               | NA |\n",
       "| 405 | HCI | 15306X6_TOW18S_patienttumor_2.txt.gz              | TOW18S            | NA | NA | TOW18S            | 15306X6 | Tumor  | WES | ⋯ | Controlled | Raw Sequencing Data | fastq.gz | Raw Reads | Illumina HiSeq | Unknown | NA | Unknown | Unknown               | NA |\n",
       "\n"
      ],
      "text/plain": [
       "   ...1 contributor file_name                                        \n",
       "1  236  HCI         15306X4_TOW18S_patientnormalblood_1.txt.gz       \n",
       "2  237  HCI         15306X4_TOW18S_patientnormalblood_2.txt.gz       \n",
       "3  238  HCI         15409X1_AM0245-1801519-L2_PDXtumor_file1.fastq.gz\n",
       "4  239  HCI         15409X1_AM0245-1801519-L2_PDXtumor_file2.fastq.gz\n",
       "5  240  HCI         15409X3_CK02021-180523-R2_PDXtumor_file1.fastq.gz\n",
       "6  241  HCI         15409X3_CK02021-180523-R2_PDXtumor_file2.fastq.gz\n",
       "7  242  HCI         15409X2_CK0643-180521-L1_PDXtumor_file1.fastq.gz \n",
       "8  243  HCI         15409X2_CK0643-180521-L1_PDXtumor_file2.fastq.gz \n",
       "9  356  HCI         15306X7_TOW18S_PDXtumor_P0_1.txt.gz              \n",
       "10 357  HCI         15306X7_TOW18S_PDXtumor_P0_2.txt.gz              \n",
       "11 404  HCI         15306X6_TOW18S_patienttumor_1.txt.gz             \n",
       "12 405  HCI         15306X6_TOW18S_patienttumor_2.txt.gz             \n",
       "   patient_id        model_id tumor_id case_id           sample_id sample_type\n",
       "1  TOW18S            NA       NA       TOW18S            15306X4   Normal     \n",
       "2  TOW18S            NA       NA       TOW18S            15306X4   Normal     \n",
       "3  AM0245.1801519.L2 NA       NA       AM0245.1801519.L2 15409X1   PDX        \n",
       "4  AM0245.1801519.L2 NA       NA       AM0245.1801519.L2 15409X1   PDX        \n",
       "5  CK02021.180523.R2 NA       NA       CK02021.180523.R2 15409X3   PDX        \n",
       "6  CK02021.180523.R2 NA       NA       CK02021.180523.R2 15409X3   PDX        \n",
       "7  CK0643.180521.L1  NA       NA       CK0643.180521.L1  15409X2   PDX        \n",
       "8  CK0643.180521.L1  NA       NA       CK0643.180521.L1  15409X2   PDX        \n",
       "9  TOW18S            NA       NA       TOW18S            15306X7   PDX        \n",
       "10 TOW18S            NA       NA       TOW18S            15306X7   PDX        \n",
       "11 TOW18S            NA       NA       TOW18S            15306X6   Tumor      \n",
       "12 TOW18S            NA       NA       TOW18S            15306X6   Tumor      \n",
       "   experimental_strategy ⋯ access_level data_category       data_format\n",
       "1  WES                   ⋯ Controlled   Raw Sequencing Data fastq.gz   \n",
       "2  WES                   ⋯ Controlled   Raw Sequencing Data fastq.gz   \n",
       "3  WES                   ⋯ Controlled   Raw Sequencing Data fastq.gz   \n",
       "4  WES                   ⋯ Controlled   Raw Sequencing Data fastq.gz   \n",
       "5  WES                   ⋯ Controlled   Raw Sequencing Data fastq.gz   \n",
       "6  WES                   ⋯ Controlled   Raw Sequencing Data fastq.gz   \n",
       "7  WES                   ⋯ Controlled   Raw Sequencing Data fastq.gz   \n",
       "8  WES                   ⋯ Controlled   Raw Sequencing Data fastq.gz   \n",
       "9  WES                   ⋯ Controlled   Raw Sequencing Data fastq.gz   \n",
       "10 WES                   ⋯ Controlled   Raw Sequencing Data fastq.gz   \n",
       "11 WES                   ⋯ Controlled   Raw Sequencing Data fastq.gz   \n",
       "12 WES                   ⋯ Controlled   Raw Sequencing Data fastq.gz   \n",
       "   data_type platform       is_ffpe passage body_location disease_type         \n",
       "1  Raw Reads Illumina HiSeq Unknown NA      Unknown       Unknown              \n",
       "2  Raw Reads Illumina HiSeq Unknown NA      Unknown       Unknown              \n",
       "3  Raw Reads Illumina HiSeq Unknown P1      Colon         Colon adenocarcinoma \n",
       "4  Raw Reads Illumina HiSeq Unknown P1      Colon         Colon adenocarcinoma \n",
       "5  Raw Reads Illumina HiSeq Unknown P2      Colon         Colon adenocarcinoma \n",
       "6  Raw Reads Illumina HiSeq Unknown P2      Colon         Colon adenocarcinoma \n",
       "7  Raw Reads Illumina HiSeq Unknown P4      Bladder       urothelial/bladder ca\n",
       "8  Raw Reads Illumina HiSeq Unknown P4      Bladder       urothelial/bladder ca\n",
       "9  Raw Reads Illumina HiSeq Unknown P0      Unknown       Unknown              \n",
       "10 Raw Reads Illumina HiSeq Unknown P0      Unknown       Unknown              \n",
       "11 Raw Reads Illumina HiSeq Unknown NA      Unknown       Unknown              \n",
       "12 Raw Reads Illumina HiSeq Unknown NA      Unknown       Unknown              \n",
       "   comment\n",
       "1  NA     \n",
       "2  NA     \n",
       "3  NA     \n",
       "4  NA     \n",
       "5  NA     \n",
       "6  NA     \n",
       "7  NA     \n",
       "8  NA     \n",
       "9  NA     \n",
       "10 NA     \n",
       "11 NA     \n",
       "12 NA     "
      ]
     },
     "metadata": {},
     "output_type": "display_data"
    }
   ],
   "source": [
    "# For the sequencing metadata ensure that all are HCI-#\n",
    "\n",
    "pdtc_metadata_cleaned <- pdtc_metadata %>% mutate(patient_id = ifelse((contributor == 'HCI' & startsWith(patient_id, 'HCI')), str_replace(patient_id, 'HCI', 'HCI-'), patient_id))\n",
    "\n",
    "# Check\n",
    "pdtc_metadata_cleaned %>% filter(contributor == 'HCI' & startsWith(patient_id, 'HCI-')) %>% nrow()\n",
    "\n",
    "# Which ones don't?\n",
    "pdtc_metadata_cleaned %>% filter(contributor == 'HCI' & !startsWith(patient_id, 'HCI-'))"
   ]
  },
  {
   "cell_type": "markdown",
   "id": "93fc85dc-eef1-42c5-9098-7a0c7f3de3bc",
   "metadata": {},
   "source": [
    "This seems to have worked. Now I can bring those IDs over to the model_id column."
   ]
  },
  {
   "cell_type": "code",
   "execution_count": 11,
   "id": "08650399-cb4d-40f5-978c-15f3260f64be",
   "metadata": {},
   "outputs": [
    {
     "data": {
      "text/html": [
       "108"
      ],
      "text/latex": [
       "108"
      ],
      "text/markdown": [
       "108"
      ],
      "text/plain": [
       "[1] 108"
      ]
     },
     "metadata": {},
     "output_type": "display_data"
    },
    {
     "data": {
      "text/html": [
       "<style>\n",
       ".list-inline {list-style: none; margin:0; padding: 0}\n",
       ".list-inline>li {display: inline-block}\n",
       ".list-inline>li:not(:last-child)::after {content: \"\\00b7\"; padding: 0 .5ex}\n",
       "</style>\n",
       "<ol class=list-inline><li>'Normal'</li><li>'Tumor'</li></ol>\n"
      ],
      "text/latex": [
       "\\begin{enumerate*}\n",
       "\\item 'Normal'\n",
       "\\item 'Tumor'\n",
       "\\end{enumerate*}\n"
      ],
      "text/markdown": [
       "1. 'Normal'\n",
       "2. 'Tumor'\n",
       "\n",
       "\n"
      ],
      "text/plain": [
       "[1] \"Normal\" \"Tumor\" "
      ]
     },
     "metadata": {},
     "output_type": "display_data"
    }
   ],
   "source": [
    "# Bring the patient_id over to the model ID field\n",
    "\n",
    "pdtc_metadata_cleaned <- pdtc_metadata_cleaned %>% mutate(model_id = ifelse((contributor == 'HCI' & is.na(model_id) & sample_type == 'PDX'), patient_id, model_id))\n",
    "\n",
    "# Check the numner of missing model IDs here and what the sample_types of those are\n",
    "pdtc_metadata_cleaned %>% filter(contributor == 'HCI' & is.na(model_id)) %>% nrow()\n",
    "(pdtc_metadata_cleaned %>% filter(contributor == 'HCI' & is.na(model_id)))$sample_type %>% unique()"
   ]
  },
  {
   "cell_type": "code",
   "execution_count": 12,
   "id": "0c77d782-b1ff-464d-a906-3f33805a56de",
   "metadata": {},
   "outputs": [
    {
     "name": "stderr",
     "output_type": "stream",
     "text": [
      "Warning message in cbind(parts$left, ellip_h, parts$right, deparse.level = 0L):\n",
      "“number of rows of result is not a multiple of vector length (arg 2)”\n",
      "Warning message in cbind(parts$left, ellip_h, parts$right, deparse.level = 0L):\n",
      "“number of rows of result is not a multiple of vector length (arg 2)”\n",
      "Warning message in cbind(parts$left, ellip_h, parts$right, deparse.level = 0L):\n",
      "“number of rows of result is not a multiple of vector length (arg 2)”\n",
      "Warning message in cbind(parts$left, ellip_h, parts$right, deparse.level = 0L):\n",
      "“number of rows of result is not a multiple of vector length (arg 2)”\n"
     ]
    },
    {
     "data": {
      "text/html": [
       "<table class=\"dataframe\">\n",
       "<caption>A spec_tbl_df: 0 × 26</caption>\n",
       "<thead>\n",
       "\t<tr><th scope=col>...1</th><th scope=col>contributor</th><th scope=col>file_name</th><th scope=col>patient_id</th><th scope=col>model_id</th><th scope=col>tumor_id</th><th scope=col>case_id</th><th scope=col>sample_id</th><th scope=col>sample_type</th><th scope=col>experimental_strategy</th><th scope=col>⋯</th><th scope=col>access_level</th><th scope=col>data_category</th><th scope=col>data_format</th><th scope=col>data_type</th><th scope=col>platform</th><th scope=col>is_ffpe</th><th scope=col>passage</th><th scope=col>body_location</th><th scope=col>disease_type</th><th scope=col>comment</th></tr>\n",
       "\t<tr><th scope=col>&lt;dbl&gt;</th><th scope=col>&lt;chr&gt;</th><th scope=col>&lt;chr&gt;</th><th scope=col>&lt;chr&gt;</th><th scope=col>&lt;chr&gt;</th><th scope=col>&lt;chr&gt;</th><th scope=col>&lt;chr&gt;</th><th scope=col>&lt;chr&gt;</th><th scope=col>&lt;chr&gt;</th><th scope=col>&lt;chr&gt;</th><th scope=col>⋯</th><th scope=col>&lt;chr&gt;</th><th scope=col>&lt;chr&gt;</th><th scope=col>&lt;chr&gt;</th><th scope=col>&lt;chr&gt;</th><th scope=col>&lt;chr&gt;</th><th scope=col>&lt;chr&gt;</th><th scope=col>&lt;chr&gt;</th><th scope=col>&lt;chr&gt;</th><th scope=col>&lt;chr&gt;</th><th scope=col>&lt;chr&gt;</th></tr>\n",
       "</thead>\n",
       "<tbody>\n",
       "</tbody>\n",
       "</table>\n"
      ],
      "text/latex": [
       "A spec\\_tbl\\_df: 0 × 26\n",
       "\\begin{tabular}{lllllllllllllllllllll}\n",
       " ...1 & contributor & file\\_name & patient\\_id & model\\_id & tumor\\_id & case\\_id & sample\\_id & sample\\_type & experimental\\_strategy & ⋯ & access\\_level & data\\_category & data\\_format & data\\_type & platform & is\\_ffpe & passage & body\\_location & disease\\_type & comment\\\\\n",
       " <dbl> & <chr> & <chr> & <chr> & <chr> & <chr> & <chr> & <chr> & <chr> & <chr> & ⋯ & <chr> & <chr> & <chr> & <chr> & <chr> & <chr> & <chr> & <chr> & <chr> & <chr>\\\\\n",
       "\\hline\n",
       "\\end{tabular}\n"
      ],
      "text/markdown": [
       "\n",
       "A spec_tbl_df: 0 × 26\n",
       "\n",
       "| ...1 &lt;dbl&gt; | contributor &lt;chr&gt; | file_name &lt;chr&gt; | patient_id &lt;chr&gt; | model_id &lt;chr&gt; | tumor_id &lt;chr&gt; | case_id &lt;chr&gt; | sample_id &lt;chr&gt; | sample_type &lt;chr&gt; | experimental_strategy &lt;chr&gt; | ⋯ ⋯ | access_level &lt;chr&gt; | data_category &lt;chr&gt; | data_format &lt;chr&gt; | data_type &lt;chr&gt; | platform &lt;chr&gt; | is_ffpe &lt;chr&gt; | passage &lt;chr&gt; | body_location &lt;chr&gt; | disease_type &lt;chr&gt; | comment &lt;chr&gt; |\n",
       "|---|---|---|---|---|---|---|---|---|---|---|---|---|---|---|---|---|---|---|---|---|\n",
       "\n"
      ],
      "text/plain": [
       "     ...1 contributor file_name patient_id model_id tumor_id case_id sample_id\n",
       "     sample_type experimental_strategy ⋯ access_level data_category data_format\n",
       "     data_type platform is_ffpe passage body_location disease_type comment"
      ]
     },
     "metadata": {},
     "output_type": "display_data"
    }
   ],
   "source": [
    "# How many PDX samples don't have a model_id now?\n",
    "\n",
    "pdtc_metadata_cleaned %>% filter(sample_type == 'PDX' & is.na(model_id)) "
   ]
  },
  {
   "cell_type": "markdown",
   "id": "01a2d537-ef29-4ac1-8821-e9f6ec06a6f8",
   "metadata": {},
   "source": [
    "There are no PDX samples without a model_id now."
   ]
  },
  {
   "cell_type": "markdown",
   "id": "bc8d3bb1-34b5-47a9-a56d-e490f57e897f",
   "metadata": {},
   "source": [
    "### Adding disease info for BCM and TMZ models"
   ]
  },
  {
   "cell_type": "code",
   "execution_count": 13,
   "id": "90fad615-7747-4476-8f21-7431c1f49963",
   "metadata": {},
   "outputs": [
    {
     "data": {
      "text/html": [
       "2180"
      ],
      "text/latex": [
       "2180"
      ],
      "text/markdown": [
       "2180"
      ],
      "text/plain": [
       "[1] 2180"
      ]
     },
     "metadata": {},
     "output_type": "display_data"
    },
    {
     "data": {
      "text/html": [
       "<table class=\"dataframe\">\n",
       "<caption>A tibble: 6 × 26</caption>\n",
       "<thead>\n",
       "\t<tr><th scope=col>...1</th><th scope=col>contributor</th><th scope=col>file_name</th><th scope=col>patient_id</th><th scope=col>model_id</th><th scope=col>tumor_id</th><th scope=col>case_id</th><th scope=col>sample_id</th><th scope=col>sample_type</th><th scope=col>experimental_strategy</th><th scope=col>⋯</th><th scope=col>access_level</th><th scope=col>data_category</th><th scope=col>data_format</th><th scope=col>data_type</th><th scope=col>platform</th><th scope=col>is_ffpe</th><th scope=col>passage</th><th scope=col>body_location</th><th scope=col>disease_type</th><th scope=col>comment</th></tr>\n",
       "\t<tr><th scope=col>&lt;dbl&gt;</th><th scope=col>&lt;chr&gt;</th><th scope=col>&lt;chr&gt;</th><th scope=col>&lt;chr&gt;</th><th scope=col>&lt;chr&gt;</th><th scope=col>&lt;chr&gt;</th><th scope=col>&lt;chr&gt;</th><th scope=col>&lt;chr&gt;</th><th scope=col>&lt;chr&gt;</th><th scope=col>&lt;chr&gt;</th><th scope=col>⋯</th><th scope=col>&lt;chr&gt;</th><th scope=col>&lt;chr&gt;</th><th scope=col>&lt;chr&gt;</th><th scope=col>&lt;chr&gt;</th><th scope=col>&lt;chr&gt;</th><th scope=col>&lt;chr&gt;</th><th scope=col>&lt;chr&gt;</th><th scope=col>&lt;chr&gt;</th><th scope=col>&lt;chr&gt;</th><th scope=col>&lt;chr&gt;</th></tr>\n",
       "</thead>\n",
       "<tbody>\n",
       "\t<tr><td>1</td><td>BCM</td><td>LZML_37246_NoIndex_L00X_R1_001.fastq.gz</td><td>24452</td><td>BCM-0002</td><td>2011012-2  </td><td>NA</td><td>BCM-0002</td><td>PDX</td><td>RNA-Seq</td><td>⋯</td><td>Controlled</td><td>Raw Sequencing Data</td><td>fastq.gz</td><td>Raw Reads</td><td>Illumina</td><td>FALSE</td><td>Unknown</td><td>Breast</td><td>Invasive breast carcinoma</td><td>NA</td></tr>\n",
       "\t<tr><td>2</td><td>BCM</td><td>LZML_37246_NoIndex_L00X_R2_001.fastq.gz</td><td>24452</td><td>BCM-0002</td><td>2011012-2  </td><td>NA</td><td>BCM-0002</td><td>PDX</td><td>RNA-Seq</td><td>⋯</td><td>Controlled</td><td>Raw Sequencing Data</td><td>fastq.gz</td><td>Raw Reads</td><td>Illumina</td><td>FALSE</td><td>Unknown</td><td>Breast</td><td>Invasive breast carcinoma</td><td>NA</td></tr>\n",
       "\t<tr><td>3</td><td>BCM</td><td>ML6065_GATCAGCG_L00X_R1_001.fastq.gz   </td><td>2219 </td><td>BCM-0046</td><td>2011012-46 </td><td>NA</td><td>BCM-0046</td><td>PDX</td><td>RNA-Seq</td><td>⋯</td><td>Controlled</td><td>Raw Sequencing Data</td><td>fastq.gz</td><td>Raw Reads</td><td>Illumina</td><td>FALSE</td><td>Unknown</td><td>Breast</td><td>Invasive breast carcinoma</td><td>NA</td></tr>\n",
       "\t<tr><td>4</td><td>BCM</td><td>ML6065_GATCAGCG_L00X_R2_001.fastq.gz   </td><td>2219 </td><td>BCM-0046</td><td>2011012-46 </td><td>NA</td><td>BCM-0046</td><td>PDX</td><td>RNA-Seq</td><td>⋯</td><td>Controlled</td><td>Raw Sequencing Data</td><td>fastq.gz</td><td>Raw Reads</td><td>Illumina</td><td>FALSE</td><td>Unknown</td><td>Breast</td><td>Invasive breast carcinoma</td><td>NA</td></tr>\n",
       "\t<tr><td>5</td><td>BCM</td><td>ML6061_CAGATCTG_L00X_R1_001.fastq.gz   </td><td>24561</td><td>BCM-0104</td><td>2011012-104</td><td>NA</td><td>BCM-0104</td><td>PDX</td><td>RNA-Seq</td><td>⋯</td><td>Controlled</td><td>Raw Sequencing Data</td><td>fastq.gz</td><td>Raw Reads</td><td>Illumina</td><td>FALSE</td><td>Unknown</td><td>Breast</td><td>Invasive breast carcinoma</td><td>NA</td></tr>\n",
       "\t<tr><td>6</td><td>BCM</td><td>ML6061_CAGATCTG_L00X_R2_001.fastq.gz   </td><td>24561</td><td>BCM-0104</td><td>2011012-104</td><td>NA</td><td>BCM-0104</td><td>PDX</td><td>RNA-Seq</td><td>⋯</td><td>Controlled</td><td>Raw Sequencing Data</td><td>fastq.gz</td><td>Raw Reads</td><td>Illumina</td><td>FALSE</td><td>Unknown</td><td>Breast</td><td>Invasive breast carcinoma</td><td>NA</td></tr>\n",
       "</tbody>\n",
       "</table>\n"
      ],
      "text/latex": [
       "A tibble: 6 × 26\n",
       "\\begin{tabular}{lllllllllllllllllllll}\n",
       " ...1 & contributor & file\\_name & patient\\_id & model\\_id & tumor\\_id & case\\_id & sample\\_id & sample\\_type & experimental\\_strategy & ⋯ & access\\_level & data\\_category & data\\_format & data\\_type & platform & is\\_ffpe & passage & body\\_location & disease\\_type & comment\\\\\n",
       " <dbl> & <chr> & <chr> & <chr> & <chr> & <chr> & <chr> & <chr> & <chr> & <chr> & ⋯ & <chr> & <chr> & <chr> & <chr> & <chr> & <chr> & <chr> & <chr> & <chr> & <chr>\\\\\n",
       "\\hline\n",
       "\t 1 & BCM & LZML\\_37246\\_NoIndex\\_L00X\\_R1\\_001.fastq.gz & 24452 & BCM-0002 & 2011012-2   & NA & BCM-0002 & PDX & RNA-Seq & ⋯ & Controlled & Raw Sequencing Data & fastq.gz & Raw Reads & Illumina & FALSE & Unknown & Breast & Invasive breast carcinoma & NA\\\\\n",
       "\t 2 & BCM & LZML\\_37246\\_NoIndex\\_L00X\\_R2\\_001.fastq.gz & 24452 & BCM-0002 & 2011012-2   & NA & BCM-0002 & PDX & RNA-Seq & ⋯ & Controlled & Raw Sequencing Data & fastq.gz & Raw Reads & Illumina & FALSE & Unknown & Breast & Invasive breast carcinoma & NA\\\\\n",
       "\t 3 & BCM & ML6065\\_GATCAGCG\\_L00X\\_R1\\_001.fastq.gz    & 2219  & BCM-0046 & 2011012-46  & NA & BCM-0046 & PDX & RNA-Seq & ⋯ & Controlled & Raw Sequencing Data & fastq.gz & Raw Reads & Illumina & FALSE & Unknown & Breast & Invasive breast carcinoma & NA\\\\\n",
       "\t 4 & BCM & ML6065\\_GATCAGCG\\_L00X\\_R2\\_001.fastq.gz    & 2219  & BCM-0046 & 2011012-46  & NA & BCM-0046 & PDX & RNA-Seq & ⋯ & Controlled & Raw Sequencing Data & fastq.gz & Raw Reads & Illumina & FALSE & Unknown & Breast & Invasive breast carcinoma & NA\\\\\n",
       "\t 5 & BCM & ML6061\\_CAGATCTG\\_L00X\\_R1\\_001.fastq.gz    & 24561 & BCM-0104 & 2011012-104 & NA & BCM-0104 & PDX & RNA-Seq & ⋯ & Controlled & Raw Sequencing Data & fastq.gz & Raw Reads & Illumina & FALSE & Unknown & Breast & Invasive breast carcinoma & NA\\\\\n",
       "\t 6 & BCM & ML6061\\_CAGATCTG\\_L00X\\_R2\\_001.fastq.gz    & 24561 & BCM-0104 & 2011012-104 & NA & BCM-0104 & PDX & RNA-Seq & ⋯ & Controlled & Raw Sequencing Data & fastq.gz & Raw Reads & Illumina & FALSE & Unknown & Breast & Invasive breast carcinoma & NA\\\\\n",
       "\\end{tabular}\n"
      ],
      "text/markdown": [
       "\n",
       "A tibble: 6 × 26\n",
       "\n",
       "| ...1 &lt;dbl&gt; | contributor &lt;chr&gt; | file_name &lt;chr&gt; | patient_id &lt;chr&gt; | model_id &lt;chr&gt; | tumor_id &lt;chr&gt; | case_id &lt;chr&gt; | sample_id &lt;chr&gt; | sample_type &lt;chr&gt; | experimental_strategy &lt;chr&gt; | ⋯ ⋯ | access_level &lt;chr&gt; | data_category &lt;chr&gt; | data_format &lt;chr&gt; | data_type &lt;chr&gt; | platform &lt;chr&gt; | is_ffpe &lt;chr&gt; | passage &lt;chr&gt; | body_location &lt;chr&gt; | disease_type &lt;chr&gt; | comment &lt;chr&gt; |\n",
       "|---|---|---|---|---|---|---|---|---|---|---|---|---|---|---|---|---|---|---|---|---|\n",
       "| 1 | BCM | LZML_37246_NoIndex_L00X_R1_001.fastq.gz | 24452 | BCM-0002 | 2011012-2   | NA | BCM-0002 | PDX | RNA-Seq | ⋯ | Controlled | Raw Sequencing Data | fastq.gz | Raw Reads | Illumina | FALSE | Unknown | Breast | Invasive breast carcinoma | NA |\n",
       "| 2 | BCM | LZML_37246_NoIndex_L00X_R2_001.fastq.gz | 24452 | BCM-0002 | 2011012-2   | NA | BCM-0002 | PDX | RNA-Seq | ⋯ | Controlled | Raw Sequencing Data | fastq.gz | Raw Reads | Illumina | FALSE | Unknown | Breast | Invasive breast carcinoma | NA |\n",
       "| 3 | BCM | ML6065_GATCAGCG_L00X_R1_001.fastq.gz    | 2219  | BCM-0046 | 2011012-46  | NA | BCM-0046 | PDX | RNA-Seq | ⋯ | Controlled | Raw Sequencing Data | fastq.gz | Raw Reads | Illumina | FALSE | Unknown | Breast | Invasive breast carcinoma | NA |\n",
       "| 4 | BCM | ML6065_GATCAGCG_L00X_R2_001.fastq.gz    | 2219  | BCM-0046 | 2011012-46  | NA | BCM-0046 | PDX | RNA-Seq | ⋯ | Controlled | Raw Sequencing Data | fastq.gz | Raw Reads | Illumina | FALSE | Unknown | Breast | Invasive breast carcinoma | NA |\n",
       "| 5 | BCM | ML6061_CAGATCTG_L00X_R1_001.fastq.gz    | 24561 | BCM-0104 | 2011012-104 | NA | BCM-0104 | PDX | RNA-Seq | ⋯ | Controlled | Raw Sequencing Data | fastq.gz | Raw Reads | Illumina | FALSE | Unknown | Breast | Invasive breast carcinoma | NA |\n",
       "| 6 | BCM | ML6061_CAGATCTG_L00X_R2_001.fastq.gz    | 24561 | BCM-0104 | 2011012-104 | NA | BCM-0104 | PDX | RNA-Seq | ⋯ | Controlled | Raw Sequencing Data | fastq.gz | Raw Reads | Illumina | FALSE | Unknown | Breast | Invasive breast carcinoma | NA |\n",
       "\n"
      ],
      "text/plain": [
       "  ...1 contributor file_name                               patient_id model_id\n",
       "1 1    BCM         LZML_37246_NoIndex_L00X_R1_001.fastq.gz 24452      BCM-0002\n",
       "2 2    BCM         LZML_37246_NoIndex_L00X_R2_001.fastq.gz 24452      BCM-0002\n",
       "3 3    BCM         ML6065_GATCAGCG_L00X_R1_001.fastq.gz    2219       BCM-0046\n",
       "4 4    BCM         ML6065_GATCAGCG_L00X_R2_001.fastq.gz    2219       BCM-0046\n",
       "5 5    BCM         ML6061_CAGATCTG_L00X_R1_001.fastq.gz    24561      BCM-0104\n",
       "6 6    BCM         ML6061_CAGATCTG_L00X_R2_001.fastq.gz    24561      BCM-0104\n",
       "  tumor_id    case_id sample_id sample_type experimental_strategy ⋯\n",
       "1 2011012-2   NA      BCM-0002  PDX         RNA-Seq               ⋯\n",
       "2 2011012-2   NA      BCM-0002  PDX         RNA-Seq               ⋯\n",
       "3 2011012-46  NA      BCM-0046  PDX         RNA-Seq               ⋯\n",
       "4 2011012-46  NA      BCM-0046  PDX         RNA-Seq               ⋯\n",
       "5 2011012-104 NA      BCM-0104  PDX         RNA-Seq               ⋯\n",
       "6 2011012-104 NA      BCM-0104  PDX         RNA-Seq               ⋯\n",
       "  access_level data_category       data_format data_type platform is_ffpe\n",
       "1 Controlled   Raw Sequencing Data fastq.gz    Raw Reads Illumina FALSE  \n",
       "2 Controlled   Raw Sequencing Data fastq.gz    Raw Reads Illumina FALSE  \n",
       "3 Controlled   Raw Sequencing Data fastq.gz    Raw Reads Illumina FALSE  \n",
       "4 Controlled   Raw Sequencing Data fastq.gz    Raw Reads Illumina FALSE  \n",
       "5 Controlled   Raw Sequencing Data fastq.gz    Raw Reads Illumina FALSE  \n",
       "6 Controlled   Raw Sequencing Data fastq.gz    Raw Reads Illumina FALSE  \n",
       "  passage body_location disease_type              comment\n",
       "1 Unknown Breast        Invasive breast carcinoma NA     \n",
       "2 Unknown Breast        Invasive breast carcinoma NA     \n",
       "3 Unknown Breast        Invasive breast carcinoma NA     \n",
       "4 Unknown Breast        Invasive breast carcinoma NA     \n",
       "5 Unknown Breast        Invasive breast carcinoma NA     \n",
       "6 Unknown Breast        Invasive breast carcinoma NA     "
      ]
     },
     "metadata": {},
     "output_type": "display_data"
    }
   ],
   "source": [
    "# Start with the BCM models\n",
    "\n",
    "pdtc_metadata_cleaned <- pdtc_metadata_cleaned %>% left_join(select(bcm_metadata, `Model ID`, `Pathology Diagnosis`, `Patient ID`), by = c('model_id' = 'Model ID')) %>%\n",
    "    mutate(\n",
    "        disease_type = ifelse(disease_type == 'Unknown' & !is.na(`Pathology Diagnosis`), `Pathology Diagnosis`, disease_type),\n",
    "        body_location = ifelse(body_location == 'Unknown' & !is.na(`Pathology Diagnosis`), 'Breast', body_location),\n",
    "        patient_id = ifelse(is.na(patient_id) & !is.na(`Pathology Diagnosis`), `Patient ID`, patient_id)\n",
    "        ) %>%\n",
    "    select(-`Pathology Diagnosis`, -`Patient ID`)\n",
    "\n",
    "nrow(pdtc_metadata_cleaned)\n",
    "head(pdtc_metadata_cleaned)"
   ]
  },
  {
   "cell_type": "code",
   "execution_count": 14,
   "id": "1a21d021-4b7b-4ef7-9811-e652c63380a4",
   "metadata": {},
   "outputs": [
    {
     "data": {
      "text/html": [
       "<table class=\"dataframe\">\n",
       "<caption>A tibble: 6 × 26</caption>\n",
       "<thead>\n",
       "\t<tr><th scope=col>...1</th><th scope=col>contributor</th><th scope=col>file_name</th><th scope=col>patient_id</th><th scope=col>model_id</th><th scope=col>tumor_id</th><th scope=col>case_id</th><th scope=col>sample_id</th><th scope=col>sample_type</th><th scope=col>experimental_strategy</th><th scope=col>⋯</th><th scope=col>access_level</th><th scope=col>data_category</th><th scope=col>data_format</th><th scope=col>data_type</th><th scope=col>platform</th><th scope=col>is_ffpe</th><th scope=col>passage</th><th scope=col>body_location</th><th scope=col>disease_type</th><th scope=col>comment</th></tr>\n",
       "\t<tr><th scope=col>&lt;dbl&gt;</th><th scope=col>&lt;chr&gt;</th><th scope=col>&lt;chr&gt;</th><th scope=col>&lt;chr&gt;</th><th scope=col>&lt;chr&gt;</th><th scope=col>&lt;chr&gt;</th><th scope=col>&lt;chr&gt;</th><th scope=col>&lt;chr&gt;</th><th scope=col>&lt;chr&gt;</th><th scope=col>&lt;chr&gt;</th><th scope=col>⋯</th><th scope=col>&lt;chr&gt;</th><th scope=col>&lt;chr&gt;</th><th scope=col>&lt;chr&gt;</th><th scope=col>&lt;chr&gt;</th><th scope=col>&lt;chr&gt;</th><th scope=col>&lt;chr&gt;</th><th scope=col>&lt;chr&gt;</th><th scope=col>&lt;chr&gt;</th><th scope=col>&lt;chr&gt;</th><th scope=col>&lt;chr&gt;</th></tr>\n",
       "</thead>\n",
       "<tbody>\n",
       "\t<tr><td>1</td><td>BCM</td><td>LZML_37246_NoIndex_L00X_R1_001.fastq.gz</td><td>24452</td><td>BCM-0002</td><td>2011012-2  </td><td>NA</td><td>BCM-0002</td><td>PDX</td><td>RNA-Seq</td><td>⋯</td><td>Controlled</td><td>Raw Sequencing Data</td><td>fastq.gz</td><td>Raw Reads</td><td>Illumina</td><td>FALSE</td><td>Unknown</td><td>Breast</td><td>Invasive breast carcinoma</td><td>NA</td></tr>\n",
       "\t<tr><td>2</td><td>BCM</td><td>LZML_37246_NoIndex_L00X_R2_001.fastq.gz</td><td>24452</td><td>BCM-0002</td><td>2011012-2  </td><td>NA</td><td>BCM-0002</td><td>PDX</td><td>RNA-Seq</td><td>⋯</td><td>Controlled</td><td>Raw Sequencing Data</td><td>fastq.gz</td><td>Raw Reads</td><td>Illumina</td><td>FALSE</td><td>Unknown</td><td>Breast</td><td>Invasive breast carcinoma</td><td>NA</td></tr>\n",
       "\t<tr><td>3</td><td>BCM</td><td>ML6065_GATCAGCG_L00X_R1_001.fastq.gz   </td><td>2219 </td><td>BCM-0046</td><td>2011012-46 </td><td>NA</td><td>BCM-0046</td><td>PDX</td><td>RNA-Seq</td><td>⋯</td><td>Controlled</td><td>Raw Sequencing Data</td><td>fastq.gz</td><td>Raw Reads</td><td>Illumina</td><td>FALSE</td><td>Unknown</td><td>Breast</td><td>Invasive breast carcinoma</td><td>NA</td></tr>\n",
       "\t<tr><td>4</td><td>BCM</td><td>ML6065_GATCAGCG_L00X_R2_001.fastq.gz   </td><td>2219 </td><td>BCM-0046</td><td>2011012-46 </td><td>NA</td><td>BCM-0046</td><td>PDX</td><td>RNA-Seq</td><td>⋯</td><td>Controlled</td><td>Raw Sequencing Data</td><td>fastq.gz</td><td>Raw Reads</td><td>Illumina</td><td>FALSE</td><td>Unknown</td><td>Breast</td><td>Invasive breast carcinoma</td><td>NA</td></tr>\n",
       "\t<tr><td>5</td><td>BCM</td><td>ML6061_CAGATCTG_L00X_R1_001.fastq.gz   </td><td>24561</td><td>BCM-0104</td><td>2011012-104</td><td>NA</td><td>BCM-0104</td><td>PDX</td><td>RNA-Seq</td><td>⋯</td><td>Controlled</td><td>Raw Sequencing Data</td><td>fastq.gz</td><td>Raw Reads</td><td>Illumina</td><td>FALSE</td><td>Unknown</td><td>Breast</td><td>Invasive breast carcinoma</td><td>NA</td></tr>\n",
       "\t<tr><td>6</td><td>BCM</td><td>ML6061_CAGATCTG_L00X_R2_001.fastq.gz   </td><td>24561</td><td>BCM-0104</td><td>2011012-104</td><td>NA</td><td>BCM-0104</td><td>PDX</td><td>RNA-Seq</td><td>⋯</td><td>Controlled</td><td>Raw Sequencing Data</td><td>fastq.gz</td><td>Raw Reads</td><td>Illumina</td><td>FALSE</td><td>Unknown</td><td>Breast</td><td>Invasive breast carcinoma</td><td>NA</td></tr>\n",
       "</tbody>\n",
       "</table>\n"
      ],
      "text/latex": [
       "A tibble: 6 × 26\n",
       "\\begin{tabular}{lllllllllllllllllllll}\n",
       " ...1 & contributor & file\\_name & patient\\_id & model\\_id & tumor\\_id & case\\_id & sample\\_id & sample\\_type & experimental\\_strategy & ⋯ & access\\_level & data\\_category & data\\_format & data\\_type & platform & is\\_ffpe & passage & body\\_location & disease\\_type & comment\\\\\n",
       " <dbl> & <chr> & <chr> & <chr> & <chr> & <chr> & <chr> & <chr> & <chr> & <chr> & ⋯ & <chr> & <chr> & <chr> & <chr> & <chr> & <chr> & <chr> & <chr> & <chr> & <chr>\\\\\n",
       "\\hline\n",
       "\t 1 & BCM & LZML\\_37246\\_NoIndex\\_L00X\\_R1\\_001.fastq.gz & 24452 & BCM-0002 & 2011012-2   & NA & BCM-0002 & PDX & RNA-Seq & ⋯ & Controlled & Raw Sequencing Data & fastq.gz & Raw Reads & Illumina & FALSE & Unknown & Breast & Invasive breast carcinoma & NA\\\\\n",
       "\t 2 & BCM & LZML\\_37246\\_NoIndex\\_L00X\\_R2\\_001.fastq.gz & 24452 & BCM-0002 & 2011012-2   & NA & BCM-0002 & PDX & RNA-Seq & ⋯ & Controlled & Raw Sequencing Data & fastq.gz & Raw Reads & Illumina & FALSE & Unknown & Breast & Invasive breast carcinoma & NA\\\\\n",
       "\t 3 & BCM & ML6065\\_GATCAGCG\\_L00X\\_R1\\_001.fastq.gz    & 2219  & BCM-0046 & 2011012-46  & NA & BCM-0046 & PDX & RNA-Seq & ⋯ & Controlled & Raw Sequencing Data & fastq.gz & Raw Reads & Illumina & FALSE & Unknown & Breast & Invasive breast carcinoma & NA\\\\\n",
       "\t 4 & BCM & ML6065\\_GATCAGCG\\_L00X\\_R2\\_001.fastq.gz    & 2219  & BCM-0046 & 2011012-46  & NA & BCM-0046 & PDX & RNA-Seq & ⋯ & Controlled & Raw Sequencing Data & fastq.gz & Raw Reads & Illumina & FALSE & Unknown & Breast & Invasive breast carcinoma & NA\\\\\n",
       "\t 5 & BCM & ML6061\\_CAGATCTG\\_L00X\\_R1\\_001.fastq.gz    & 24561 & BCM-0104 & 2011012-104 & NA & BCM-0104 & PDX & RNA-Seq & ⋯ & Controlled & Raw Sequencing Data & fastq.gz & Raw Reads & Illumina & FALSE & Unknown & Breast & Invasive breast carcinoma & NA\\\\\n",
       "\t 6 & BCM & ML6061\\_CAGATCTG\\_L00X\\_R2\\_001.fastq.gz    & 24561 & BCM-0104 & 2011012-104 & NA & BCM-0104 & PDX & RNA-Seq & ⋯ & Controlled & Raw Sequencing Data & fastq.gz & Raw Reads & Illumina & FALSE & Unknown & Breast & Invasive breast carcinoma & NA\\\\\n",
       "\\end{tabular}\n"
      ],
      "text/markdown": [
       "\n",
       "A tibble: 6 × 26\n",
       "\n",
       "| ...1 &lt;dbl&gt; | contributor &lt;chr&gt; | file_name &lt;chr&gt; | patient_id &lt;chr&gt; | model_id &lt;chr&gt; | tumor_id &lt;chr&gt; | case_id &lt;chr&gt; | sample_id &lt;chr&gt; | sample_type &lt;chr&gt; | experimental_strategy &lt;chr&gt; | ⋯ ⋯ | access_level &lt;chr&gt; | data_category &lt;chr&gt; | data_format &lt;chr&gt; | data_type &lt;chr&gt; | platform &lt;chr&gt; | is_ffpe &lt;chr&gt; | passage &lt;chr&gt; | body_location &lt;chr&gt; | disease_type &lt;chr&gt; | comment &lt;chr&gt; |\n",
       "|---|---|---|---|---|---|---|---|---|---|---|---|---|---|---|---|---|---|---|---|---|\n",
       "| 1 | BCM | LZML_37246_NoIndex_L00X_R1_001.fastq.gz | 24452 | BCM-0002 | 2011012-2   | NA | BCM-0002 | PDX | RNA-Seq | ⋯ | Controlled | Raw Sequencing Data | fastq.gz | Raw Reads | Illumina | FALSE | Unknown | Breast | Invasive breast carcinoma | NA |\n",
       "| 2 | BCM | LZML_37246_NoIndex_L00X_R2_001.fastq.gz | 24452 | BCM-0002 | 2011012-2   | NA | BCM-0002 | PDX | RNA-Seq | ⋯ | Controlled | Raw Sequencing Data | fastq.gz | Raw Reads | Illumina | FALSE | Unknown | Breast | Invasive breast carcinoma | NA |\n",
       "| 3 | BCM | ML6065_GATCAGCG_L00X_R1_001.fastq.gz    | 2219  | BCM-0046 | 2011012-46  | NA | BCM-0046 | PDX | RNA-Seq | ⋯ | Controlled | Raw Sequencing Data | fastq.gz | Raw Reads | Illumina | FALSE | Unknown | Breast | Invasive breast carcinoma | NA |\n",
       "| 4 | BCM | ML6065_GATCAGCG_L00X_R2_001.fastq.gz    | 2219  | BCM-0046 | 2011012-46  | NA | BCM-0046 | PDX | RNA-Seq | ⋯ | Controlled | Raw Sequencing Data | fastq.gz | Raw Reads | Illumina | FALSE | Unknown | Breast | Invasive breast carcinoma | NA |\n",
       "| 5 | BCM | ML6061_CAGATCTG_L00X_R1_001.fastq.gz    | 24561 | BCM-0104 | 2011012-104 | NA | BCM-0104 | PDX | RNA-Seq | ⋯ | Controlled | Raw Sequencing Data | fastq.gz | Raw Reads | Illumina | FALSE | Unknown | Breast | Invasive breast carcinoma | NA |\n",
       "| 6 | BCM | ML6061_CAGATCTG_L00X_R2_001.fastq.gz    | 24561 | BCM-0104 | 2011012-104 | NA | BCM-0104 | PDX | RNA-Seq | ⋯ | Controlled | Raw Sequencing Data | fastq.gz | Raw Reads | Illumina | FALSE | Unknown | Breast | Invasive breast carcinoma | NA |\n",
       "\n"
      ],
      "text/plain": [
       "  ...1 contributor file_name                               patient_id model_id\n",
       "1 1    BCM         LZML_37246_NoIndex_L00X_R1_001.fastq.gz 24452      BCM-0002\n",
       "2 2    BCM         LZML_37246_NoIndex_L00X_R2_001.fastq.gz 24452      BCM-0002\n",
       "3 3    BCM         ML6065_GATCAGCG_L00X_R1_001.fastq.gz    2219       BCM-0046\n",
       "4 4    BCM         ML6065_GATCAGCG_L00X_R2_001.fastq.gz    2219       BCM-0046\n",
       "5 5    BCM         ML6061_CAGATCTG_L00X_R1_001.fastq.gz    24561      BCM-0104\n",
       "6 6    BCM         ML6061_CAGATCTG_L00X_R2_001.fastq.gz    24561      BCM-0104\n",
       "  tumor_id    case_id sample_id sample_type experimental_strategy ⋯\n",
       "1 2011012-2   NA      BCM-0002  PDX         RNA-Seq               ⋯\n",
       "2 2011012-2   NA      BCM-0002  PDX         RNA-Seq               ⋯\n",
       "3 2011012-46  NA      BCM-0046  PDX         RNA-Seq               ⋯\n",
       "4 2011012-46  NA      BCM-0046  PDX         RNA-Seq               ⋯\n",
       "5 2011012-104 NA      BCM-0104  PDX         RNA-Seq               ⋯\n",
       "6 2011012-104 NA      BCM-0104  PDX         RNA-Seq               ⋯\n",
       "  access_level data_category       data_format data_type platform is_ffpe\n",
       "1 Controlled   Raw Sequencing Data fastq.gz    Raw Reads Illumina FALSE  \n",
       "2 Controlled   Raw Sequencing Data fastq.gz    Raw Reads Illumina FALSE  \n",
       "3 Controlled   Raw Sequencing Data fastq.gz    Raw Reads Illumina FALSE  \n",
       "4 Controlled   Raw Sequencing Data fastq.gz    Raw Reads Illumina FALSE  \n",
       "5 Controlled   Raw Sequencing Data fastq.gz    Raw Reads Illumina FALSE  \n",
       "6 Controlled   Raw Sequencing Data fastq.gz    Raw Reads Illumina FALSE  \n",
       "  passage body_location disease_type              comment\n",
       "1 Unknown Breast        Invasive breast carcinoma NA     \n",
       "2 Unknown Breast        Invasive breast carcinoma NA     \n",
       "3 Unknown Breast        Invasive breast carcinoma NA     \n",
       "4 Unknown Breast        Invasive breast carcinoma NA     \n",
       "5 Unknown Breast        Invasive breast carcinoma NA     \n",
       "6 Unknown Breast        Invasive breast carcinoma NA     "
      ]
     },
     "metadata": {},
     "output_type": "display_data"
    }
   ],
   "source": [
    "# Add using the tmz data sheet\n",
    "# I don't need to add passages, as these are already present for all of these samples in the pdtc metadata\n",
    "\n",
    "pdtc_metadata_cleaned <- pdtc_metadata_cleaned %>% left_join(\n",
    "        distinct(select(tmz_metadata, Sex, `Primary Tumor Origin`, `Model ID`, `Tumor ID`, `Tissue Histology`, `Patient ID`, `Specimen Tissue`, `Is FFPE`)), by = c('model_id' = 'Model ID')) %>%\n",
    "    mutate(\n",
    "        gender = ifelse((is.na(gender) | gender == 'Unknown') & !is.na(Sex), Sex, gender),\n",
    "        patient_id = ifelse(is.na(patient_id) & !is.na(`Patient ID`), `Patient ID`, patient_id),\n",
    "        tumor_id = ifelse(is.na(tumor_id) & !is.na(`Tumor ID`), `Tumor ID`, tumor_id),\n",
    "        is_ffpe = ifelse(is_ffpe == 'Unknown' & !is.na(`Is FFPE`), `Is FFPE`, is_ffpe),\n",
    "        body_location = ifelse(body_location == 'Unknown' & !is.na(`Specimen Tissue`), `Specimen Tissue`, body_location),  # Since some of these were collected other than at their primary tumor origin, this is going to differ from disease_type in those situations\n",
    "        disease_type = ifelse((disease_type == 'Unknown' | is.na(disease_type)) & !is.na(`Primary Tumor Origin`), str_c(`Primary Tumor Origin`, ' - ', `Tissue Histology`), disease_type)\n",
    "        ) %>% \n",
    "    mutate(disease_type = ifelse(startsWith(disease_type, 'Bladder'), str_replace(disease_type, '^Bladder - ', ''), disease_type)) %>%  # Fix the disease type so it doesn't have bladder in there twice\n",
    "    mutate(is_ffpe = ifelse(is_ffpe == 'No', FALSE, is_ffpe)) %>%  # Match TRUE/FALSE formatting with existing files\n",
    "    select(-`Primary Tumor Origin`, -`Tumor ID`, -`Tissue Histology`, -`Patient ID`, -`Specimen Tissue`, -`Is FFPE`, -Sex) # Remove columns from the TMZ metadata\n",
    "\n",
    "head(pdtc_metadata_cleaned)"
   ]
  },
  {
   "cell_type": "code",
   "execution_count": 15,
   "id": "53167179-1c11-4392-a6fb-66b739b67e57",
   "metadata": {},
   "outputs": [
    {
     "data": {
      "text/html": [
       "<table class=\"dataframe\">\n",
       "<caption>A data.frame: 26 × 1</caption>\n",
       "<thead>\n",
       "\t<tr><th></th><th scope=col>.</th></tr>\n",
       "\t<tr><th></th><th scope=col>&lt;dbl&gt;</th></tr>\n",
       "</thead>\n",
       "<tbody>\n",
       "\t<tr><th scope=row>...1</th><td>   0</td></tr>\n",
       "\t<tr><th scope=row>contributor</th><td>   0</td></tr>\n",
       "\t<tr><th scope=row>file_name</th><td>   0</td></tr>\n",
       "\t<tr><th scope=row>patient_id</th><td>   0</td></tr>\n",
       "\t<tr><th scope=row>model_id</th><td> 732</td></tr>\n",
       "\t<tr><th scope=row>tumor_id</th><td>1398</td></tr>\n",
       "\t<tr><th scope=row>case_id</th><td> 614</td></tr>\n",
       "\t<tr><th scope=row>sample_id</th><td>   0</td></tr>\n",
       "\t<tr><th scope=row>sample_type</th><td>   0</td></tr>\n",
       "\t<tr><th scope=row>experimental_strategy</th><td>   0</td></tr>\n",
       "\t<tr><th scope=row>gender</th><td>  24</td></tr>\n",
       "\t<tr><th scope=row>paired_end</th><td>   0</td></tr>\n",
       "\t<tr><th scope=row>capture_kit</th><td>  26</td></tr>\n",
       "\t<tr><th scope=row>capture_assembly</th><td>1582</td></tr>\n",
       "\t<tr><th scope=row>availability</th><td>   0</td></tr>\n",
       "\t<tr><th scope=row>public</th><td>   0</td></tr>\n",
       "\t<tr><th scope=row>access_level</th><td>   0</td></tr>\n",
       "\t<tr><th scope=row>data_category</th><td>   0</td></tr>\n",
       "\t<tr><th scope=row>data_format</th><td>   0</td></tr>\n",
       "\t<tr><th scope=row>data_type</th><td>   0</td></tr>\n",
       "\t<tr><th scope=row>platform</th><td>   0</td></tr>\n",
       "\t<tr><th scope=row>is_ffpe</th><td>1684</td></tr>\n",
       "\t<tr><th scope=row>passage</th><td>1186</td></tr>\n",
       "\t<tr><th scope=row>body_location</th><td>  20</td></tr>\n",
       "\t<tr><th scope=row>disease_type</th><td>  26</td></tr>\n",
       "\t<tr><th scope=row>comment</th><td>2156</td></tr>\n",
       "</tbody>\n",
       "</table>\n"
      ],
      "text/latex": [
       "A data.frame: 26 × 1\n",
       "\\begin{tabular}{r|l}\n",
       "  & .\\\\\n",
       "  & <dbl>\\\\\n",
       "\\hline\n",
       "\t...1 &    0\\\\\n",
       "\tcontributor &    0\\\\\n",
       "\tfile\\_name &    0\\\\\n",
       "\tpatient\\_id &    0\\\\\n",
       "\tmodel\\_id &  732\\\\\n",
       "\ttumor\\_id & 1398\\\\\n",
       "\tcase\\_id &  614\\\\\n",
       "\tsample\\_id &    0\\\\\n",
       "\tsample\\_type &    0\\\\\n",
       "\texperimental\\_strategy &    0\\\\\n",
       "\tgender &   24\\\\\n",
       "\tpaired\\_end &    0\\\\\n",
       "\tcapture\\_kit &   26\\\\\n",
       "\tcapture\\_assembly & 1582\\\\\n",
       "\tavailability &    0\\\\\n",
       "\tpublic &    0\\\\\n",
       "\taccess\\_level &    0\\\\\n",
       "\tdata\\_category &    0\\\\\n",
       "\tdata\\_format &    0\\\\\n",
       "\tdata\\_type &    0\\\\\n",
       "\tplatform &    0\\\\\n",
       "\tis\\_ffpe & 1684\\\\\n",
       "\tpassage & 1186\\\\\n",
       "\tbody\\_location &   20\\\\\n",
       "\tdisease\\_type &   26\\\\\n",
       "\tcomment & 2156\\\\\n",
       "\\end{tabular}\n"
      ],
      "text/markdown": [
       "\n",
       "A data.frame: 26 × 1\n",
       "\n",
       "| <!--/--> | . &lt;dbl&gt; |\n",
       "|---|---|\n",
       "| ...1 |    0 |\n",
       "| contributor |    0 |\n",
       "| file_name |    0 |\n",
       "| patient_id |    0 |\n",
       "| model_id |  732 |\n",
       "| tumor_id | 1398 |\n",
       "| case_id |  614 |\n",
       "| sample_id |    0 |\n",
       "| sample_type |    0 |\n",
       "| experimental_strategy |    0 |\n",
       "| gender |   24 |\n",
       "| paired_end |    0 |\n",
       "| capture_kit |   26 |\n",
       "| capture_assembly | 1582 |\n",
       "| availability |    0 |\n",
       "| public |    0 |\n",
       "| access_level |    0 |\n",
       "| data_category |    0 |\n",
       "| data_format |    0 |\n",
       "| data_type |    0 |\n",
       "| platform |    0 |\n",
       "| is_ffpe | 1684 |\n",
       "| passage | 1186 |\n",
       "| body_location |   20 |\n",
       "| disease_type |   26 |\n",
       "| comment | 2156 |\n",
       "\n"
      ],
      "text/plain": [
       "                      .   \n",
       "...1                     0\n",
       "contributor              0\n",
       "file_name                0\n",
       "patient_id               0\n",
       "model_id               732\n",
       "tumor_id              1398\n",
       "case_id                614\n",
       "sample_id                0\n",
       "sample_type              0\n",
       "experimental_strategy    0\n",
       "gender                  24\n",
       "paired_end               0\n",
       "capture_kit             26\n",
       "capture_assembly      1582\n",
       "availability             0\n",
       "public                   0\n",
       "access_level             0\n",
       "data_category            0\n",
       "data_format              0\n",
       "data_type                0\n",
       "platform                 0\n",
       "is_ffpe               1684\n",
       "passage               1186\n",
       "body_location           20\n",
       "disease_type            26\n",
       "comment               2156"
      ]
     },
     "metadata": {},
     "output_type": "display_data"
    }
   ],
   "source": [
    "# How many NAs are there now?\n",
    "\n",
    "summarize_missing_fields(pdtc_metadata_cleaned)"
   ]
  },
  {
   "cell_type": "code",
   "execution_count": 16,
   "id": "22fdec81-21f8-4f66-8f6d-2f3f40e9c3e9",
   "metadata": {},
   "outputs": [
    {
     "data": {
      "text/html": [
       "0"
      ],
      "text/latex": [
       "0"
      ],
      "text/markdown": [
       "0"
      ],
      "text/plain": [
       "[1] 0"
      ]
     },
     "metadata": {},
     "output_type": "display_data"
    }
   ],
   "source": [
    "# How many PDXs are there without a model_id?\n",
    "\n",
    "pdtc_metadata_cleaned %>% filter(sample_type == 'PDX' & is.na(model_id)) %>% nrow()"
   ]
  },
  {
   "cell_type": "code",
   "execution_count": 18,
   "id": "2f3a4477-c67a-4fce-8318-8fb15025f39e",
   "metadata": {},
   "outputs": [],
   "source": [
    "# Export\n",
    "\n",
    "colnames(pdtc_metadata_cleaned)[1] <- ''\n",
    "pdtc_metadata_cleaned %>% write_csv('2022-02-17_pdtc_metadata_cleaned.csv')"
   ]
  }
 ],
 "metadata": {
  "kernelspec": {
   "display_name": "R",
   "language": "R",
   "name": "ir"
  },
  "language_info": {
   "codemirror_mode": "r",
   "file_extension": ".r",
   "mimetype": "text/x-r-source",
   "name": "R",
   "pygments_lexer": "r",
   "version": "4.1.2"
  }
 },
 "nbformat": 4,
 "nbformat_minor": 5
}
