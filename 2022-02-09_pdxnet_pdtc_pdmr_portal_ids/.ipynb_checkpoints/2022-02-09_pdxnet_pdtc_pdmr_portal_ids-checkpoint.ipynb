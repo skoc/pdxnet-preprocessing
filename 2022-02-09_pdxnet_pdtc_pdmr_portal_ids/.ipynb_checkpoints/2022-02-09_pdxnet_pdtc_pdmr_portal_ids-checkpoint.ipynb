{
 "cells": [
  {
   "cell_type": "markdown",
   "id": "c0593c16-97cb-44da-baee-9942ba644e8b",
   "metadata": {},
   "source": [
    "# Check PDXNet Portal Metadata\n",
    "## Date: 2022-02-09\n",
    "## Author: Jeffrey Grover\n",
    "**Purpose:** Check for the amount of missing metadata from the PDXNet Portal entries."
   ]
  },
  {
   "cell_type": "markdown",
   "id": "ee596f2e-2e3a-47cd-972a-1926ce542691",
   "metadata": {},
   "source": [
    "### Load libraries"
   ]
  },
  {
   "cell_type": "code",
   "execution_count": 1,
   "id": "55d04844-4b8a-4adb-8962-ae876c31bcbc",
   "metadata": {},
   "outputs": [
    {
     "name": "stderr",
     "output_type": "stream",
     "text": [
      "── \u001b[1mAttaching packages\u001b[22m ───────────────────────────────────────────────────────────────────────────────────────────────────────────────────────────────────────────────────────────────────────────────────────────────────── tidyverse 1.3.1 ──\n",
      "\n",
      "\u001b[32m✔\u001b[39m \u001b[34mggplot2\u001b[39m 3.3.5     \u001b[32m✔\u001b[39m \u001b[34mpurrr  \u001b[39m 0.3.4\n",
      "\u001b[32m✔\u001b[39m \u001b[34mtibble \u001b[39m 3.1.6     \u001b[32m✔\u001b[39m \u001b[34mdplyr  \u001b[39m 1.0.7\n",
      "\u001b[32m✔\u001b[39m \u001b[34mtidyr  \u001b[39m 1.1.4     \u001b[32m✔\u001b[39m \u001b[34mstringr\u001b[39m 1.4.0\n",
      "\u001b[32m✔\u001b[39m \u001b[34mreadr  \u001b[39m 2.1.1     \u001b[32m✔\u001b[39m \u001b[34mforcats\u001b[39m 0.5.1\n",
      "\n",
      "── \u001b[1mConflicts\u001b[22m ──────────────────────────────────────────────────────────────────────────────────────────────────────────────────────────────────────────────────────────────────────────────────────────────────────── tidyverse_conflicts() ──\n",
      "\u001b[31m✖\u001b[39m \u001b[34mdplyr\u001b[39m::\u001b[32mfilter()\u001b[39m masks \u001b[34mstats\u001b[39m::filter()\n",
      "\u001b[31m✖\u001b[39m \u001b[34mdplyr\u001b[39m::\u001b[32mlag()\u001b[39m    masks \u001b[34mstats\u001b[39m::lag()\n",
      "\n"
     ]
    }
   ],
   "source": [
    "library(tidyverse)\n",
    "library(readxl)"
   ]
  },
  {
   "cell_type": "markdown",
   "id": "0e403f9b-17ad-4f2b-926d-67a05a7543ef",
   "metadata": {},
   "source": [
    "### Read in the metadata sheets we have\n",
    "The PDTC models, PDTC sequencing, and PDMR sequencing."
   ]
  },
  {
   "cell_type": "code",
   "execution_count": 2,
   "id": "ea13bfd6-9ab1-4176-bb5e-e9e7247fdefd",
   "metadata": {
    "tags": []
   },
   "outputs": [
    {
     "name": "stderr",
     "output_type": "stream",
     "text": [
      "New names:\n",
      "* `` -> ...1\n",
      "\n",
      "\u001b[1mRows: \u001b[22m\u001b[34m334\u001b[39m \u001b[1mColumns: \u001b[22m\u001b[34m21\u001b[39m\n",
      "\n",
      "\u001b[36m──\u001b[39m \u001b[1mColumn specification\u001b[22m \u001b[36m──────────────────────────────────────────────────────────────────────────────────────────────────────────────────────────────────────────────────────────────────────────────────────────────────────────────────────\u001b[39m\n",
      "\u001b[1mDelimiter:\u001b[22m \",\"\n",
      "\u001b[31mchr\u001b[39m  (18): PDXSource, Contributor, ContributorPDX.ID, PDMR.Patient.ID, Gende...\n",
      "\u001b[32mdbl\u001b[39m   (2): ...1, CTEP.SDCCode\n",
      "\u001b[34mdttm\u001b[39m  (1): Submission\n",
      "\n",
      "\n",
      "\u001b[36mℹ\u001b[39m Use \u001b[30m\u001b[47m\u001b[30m\u001b[47m`spec()`\u001b[47m\u001b[30m\u001b[49m\u001b[39m to retrieve the full column specification for this data.\n",
      "\u001b[36mℹ\u001b[39m Specify the column types or set \u001b[30m\u001b[47m\u001b[30m\u001b[47m`show_col_types = FALSE`\u001b[47m\u001b[30m\u001b[49m\u001b[39m to quiet this message.\n",
      "\n"
     ]
    },
    {
     "data": {
      "text/html": [
       "334"
      ],
      "text/latex": [
       "334"
      ],
      "text/markdown": [
       "334"
      ],
      "text/plain": [
       "[1] 334"
      ]
     },
     "metadata": {},
     "output_type": "display_data"
    },
    {
     "data": {
      "text/html": [
       "<style>\n",
       ".list-inline {list-style: none; margin:0; padding: 0}\n",
       ".list-inline>li {display: inline-block}\n",
       ".list-inline>li:not(:last-child)::after {content: \"\\00b7\"; padding: 0 .5ex}\n",
       "</style>\n",
       "<ol class=list-inline><li>'Index'</li><li>'PDXSource'</li><li>'Contributor'</li><li>'ContributorPDX.ID'</li><li>'PDMR.Patient.ID'</li><li>'Gender'</li><li>'CTEP.SDCCode'</li><li>'CTEP.SDCDescription'</li><li>'DiagnosisSubtype'</li><li>'Disease.BodyLocation'</li><li>'Age.atDiagnosis'</li><li>'Date.ofDiagnosis'</li><li>'Has.KnownMetastaticDisease'</li><li>'Grade.StageInformation'</li><li>'PatientNotes'</li><li>'Molecular.andIHC.Data'</li><li>'Has.Smoked100.Cigarettes'</li><li>'Race'</li><li>'Ethnicity'</li><li>'AdditionalMedicalHistory'</li><li>'Submission'</li></ol>\n"
      ],
      "text/latex": [
       "\\begin{enumerate*}\n",
       "\\item 'Index'\n",
       "\\item 'PDXSource'\n",
       "\\item 'Contributor'\n",
       "\\item 'ContributorPDX.ID'\n",
       "\\item 'PDMR.Patient.ID'\n",
       "\\item 'Gender'\n",
       "\\item 'CTEP.SDCCode'\n",
       "\\item 'CTEP.SDCDescription'\n",
       "\\item 'DiagnosisSubtype'\n",
       "\\item 'Disease.BodyLocation'\n",
       "\\item 'Age.atDiagnosis'\n",
       "\\item 'Date.ofDiagnosis'\n",
       "\\item 'Has.KnownMetastaticDisease'\n",
       "\\item 'Grade.StageInformation'\n",
       "\\item 'PatientNotes'\n",
       "\\item 'Molecular.andIHC.Data'\n",
       "\\item 'Has.Smoked100.Cigarettes'\n",
       "\\item 'Race'\n",
       "\\item 'Ethnicity'\n",
       "\\item 'AdditionalMedicalHistory'\n",
       "\\item 'Submission'\n",
       "\\end{enumerate*}\n"
      ],
      "text/markdown": [
       "1. 'Index'\n",
       "2. 'PDXSource'\n",
       "3. 'Contributor'\n",
       "4. 'ContributorPDX.ID'\n",
       "5. 'PDMR.Patient.ID'\n",
       "6. 'Gender'\n",
       "7. 'CTEP.SDCCode'\n",
       "8. 'CTEP.SDCDescription'\n",
       "9. 'DiagnosisSubtype'\n",
       "10. 'Disease.BodyLocation'\n",
       "11. 'Age.atDiagnosis'\n",
       "12. 'Date.ofDiagnosis'\n",
       "13. 'Has.KnownMetastaticDisease'\n",
       "14. 'Grade.StageInformation'\n",
       "15. 'PatientNotes'\n",
       "16. 'Molecular.andIHC.Data'\n",
       "17. 'Has.Smoked100.Cigarettes'\n",
       "18. 'Race'\n",
       "19. 'Ethnicity'\n",
       "20. 'AdditionalMedicalHistory'\n",
       "21. 'Submission'\n",
       "\n",
       "\n"
      ],
      "text/plain": [
       " [1] \"Index\"                      \"PDXSource\"                 \n",
       " [3] \"Contributor\"                \"ContributorPDX.ID\"         \n",
       " [5] \"PDMR.Patient.ID\"            \"Gender\"                    \n",
       " [7] \"CTEP.SDCCode\"               \"CTEP.SDCDescription\"       \n",
       " [9] \"DiagnosisSubtype\"           \"Disease.BodyLocation\"      \n",
       "[11] \"Age.atDiagnosis\"            \"Date.ofDiagnosis\"          \n",
       "[13] \"Has.KnownMetastaticDisease\" \"Grade.StageInformation\"    \n",
       "[15] \"PatientNotes\"               \"Molecular.andIHC.Data\"     \n",
       "[17] \"Has.Smoked100.Cigarettes\"   \"Race\"                      \n",
       "[19] \"Ethnicity\"                  \"AdditionalMedicalHistory\"  \n",
       "[21] \"Submission\"                "
      ]
     },
     "metadata": {},
     "output_type": "display_data"
    },
    {
     "data": {
      "text/html": [
       "<table class=\"dataframe\">\n",
       "<caption>A tibble: 6 × 21</caption>\n",
       "<thead>\n",
       "\t<tr><th scope=col>Index</th><th scope=col>PDXSource</th><th scope=col>Contributor</th><th scope=col>ContributorPDX.ID</th><th scope=col>PDMR.Patient.ID</th><th scope=col>Gender</th><th scope=col>CTEP.SDCCode</th><th scope=col>CTEP.SDCDescription</th><th scope=col>DiagnosisSubtype</th><th scope=col>Disease.BodyLocation</th><th scope=col>⋯</th><th scope=col>Date.ofDiagnosis</th><th scope=col>Has.KnownMetastaticDisease</th><th scope=col>Grade.StageInformation</th><th scope=col>PatientNotes</th><th scope=col>Molecular.andIHC.Data</th><th scope=col>Has.Smoked100.Cigarettes</th><th scope=col>Race</th><th scope=col>Ethnicity</th><th scope=col>AdditionalMedicalHistory</th><th scope=col>Submission</th></tr>\n",
       "\t<tr><th scope=col>&lt;dbl&gt;</th><th scope=col>&lt;chr&gt;</th><th scope=col>&lt;chr&gt;</th><th scope=col>&lt;chr&gt;</th><th scope=col>&lt;chr&gt;</th><th scope=col>&lt;chr&gt;</th><th scope=col>&lt;dbl&gt;</th><th scope=col>&lt;chr&gt;</th><th scope=col>&lt;chr&gt;</th><th scope=col>&lt;chr&gt;</th><th scope=col>⋯</th><th scope=col>&lt;chr&gt;</th><th scope=col>&lt;chr&gt;</th><th scope=col>&lt;chr&gt;</th><th scope=col>&lt;chr&gt;</th><th scope=col>&lt;chr&gt;</th><th scope=col>&lt;chr&gt;</th><th scope=col>&lt;chr&gt;</th><th scope=col>&lt;chr&gt;</th><th scope=col>&lt;chr&gt;</th><th scope=col>&lt;dttm&gt;</th></tr>\n",
       "</thead>\n",
       "<tbody>\n",
       "\t<tr><td>1</td><td>PDXNet Consortium Members</td><td>MDACC</td><td>B8174</td><td>K42829</td><td>Female</td><td>10009951</td><td>Adenocarcinoma - colon</td><td><span style=white-space:pre-wrap>adenocarcinoma of sigmoid colon                                   </span></td><td>Digestive/Gastrointestinal</td><td>⋯</td><td>42790</td><td><span style=white-space:pre-wrap>Yes         </span></td><td><span style=white-space:pre-wrap>Stage             </span></td><td>Tumor Grade/Stage: Stage IV Location of known metastases: Pelvis, omentum, Chest wall (left), Lymph node (left axillary)</td><td><span style=white-space:pre-wrap>APC c.4037C&gt;G p.S1346*; FBXW7 c.832C&gt;T p.R278*; KRAS c.38G&gt;A p.G13D; TP53 c.427G&gt;A p.V143M                              </span></td><td>No </td><td><span style=white-space:pre-wrap>White       </span></td><td>Not Hispanic or Latino</td><td><span style=white-space:pre-wrap>-                                                                                                                     </span></td><td>2021-09-02</td></tr>\n",
       "\t<tr><td>2</td><td>PDXNet Consortium Members</td><td>MDACC</td><td>B8175</td><td>K30337</td><td>Female</td><td>10009951</td><td>Adenocarcinoma - colon</td><td>adenocarcinoma                                                    </td><td>Digestive/Gastrointestinal</td><td>⋯</td><td>42500</td><td>Yes         </td><td>Stage             </td><td>Tumor Grade/Stage: Stage IV, poorly differentiated Location of known metastases: Peritoneum, Liver                      </td><td>KRAS/NRAS WT,BRAF mutated, MSI Stable                                                                                   </td><td>No </td><td>White       </td><td>Hispanic or Latino    </td><td>Family h/o: 2nd degree relative, Uterine cancer                                                                       </td><td>2018-12-19</td></tr>\n",
       "\t<tr><td>3</td><td>PDXNet Consortium Members</td><td>MDACC</td><td>B8176</td><td>K45526</td><td>Female</td><td>10009951</td><td>Adenocarcinoma - colon</td><td>Lynch syndrome; mucinous and signet ring cell adenocarcinoma      </td><td>Digestive/Gastrointestinal</td><td>⋯</td><td>42132</td><td>Not Reported</td><td>TNM (Pathological)</td><td>Tumor Grade/Stage:  pT1bpN0pM0, poorly differentiated Location of known metastases: Liver, Abdomen                      </td><td>Germline heterozygous MSH2 c388_389del variant (deleterious) Lynch syndrome, MSI-high; KRAS-G12D; Loss of MSH2 and MSH6;</td><td>Yes</td><td>White       </td><td>Hispanic or Latino    </td><td>Family History: 1st degree relative, GI cancer involving esophagus, liver, bile duct, stomach, pancreas, colon, rectum</td><td>2018-12-19</td></tr>\n",
       "\t<tr><td>4</td><td>PDXNet Consortium Members</td><td>MDACC</td><td>B8182</td><td>K75566</td><td>Female</td><td>10009951</td><td>Adenocarcinoma - colon</td><td>poorly differentiated mucinous and signet ring cell adenocarcinoma</td><td>Digestive/Gastrointestinal</td><td>⋯</td><td>42644</td><td>Yes         </td><td>Stage, TNM        </td><td>Tumor Grade/Stage: Stage III T4N2M0 Location of known metastases: Liver                                                 </td><td>-                                                                                                                       </td><td>No </td><td>White       </td><td>Hispanic or Latino    </td><td>-                                                                                                                     </td><td>2021-09-02</td></tr>\n",
       "\t<tr><td>5</td><td>PDXNet Consortium Members</td><td>MDACC</td><td>B8183</td><td>K83548</td><td>Male  </td><td>10009951</td><td>Adenocarcinoma - colon</td><td>adenocarcinoma                                                    </td><td>Digestive/Gastrointestinal</td><td>⋯</td><td>42184</td><td>Yes         </td><td>Stage             </td><td>Tumor Grade/Stage: Stage IV, moderately differentiated  Location of known metastases:  Liver, Duodenum, Pelvis          </td><td>MSI-Stable; BRAF mutant; KRAS wild type                                                                                 </td><td>Yes</td><td>Not Provided</td><td>Not Provided          </td><td>-                                                                                                                     </td><td>2018-12-19</td></tr>\n",
       "\t<tr><td>6</td><td>PDXNet Consortium Members</td><td>MDACC</td><td>B8207</td><td>K49395</td><td>Male  </td><td>10009951</td><td>Adenocarcinoma - colon</td><td>Sigmoid                                                           </td><td>Digestive/Gastrointestinal</td><td>⋯</td><td>41537</td><td>Yes         </td><td>Stage, TNM        </td><td>Tumor Grade/Stage: Stage IVB, TxNxM1b, Moderately differentiated  Location of known metastases: Liver, Lung             </td><td>Mutations present in: MDM4, NOTCH1, RB1, TP53, APC                                                                      </td><td>Yes</td><td>White       </td><td>Not Hispanic or Latino</td><td>No family history of cancer                                                                                           </td><td>2021-09-02</td></tr>\n",
       "</tbody>\n",
       "</table>\n"
      ],
      "text/latex": [
       "A tibble: 6 × 21\n",
       "\\begin{tabular}{lllllllllllllllllllll}\n",
       " Index & PDXSource & Contributor & ContributorPDX.ID & PDMR.Patient.ID & Gender & CTEP.SDCCode & CTEP.SDCDescription & DiagnosisSubtype & Disease.BodyLocation & ⋯ & Date.ofDiagnosis & Has.KnownMetastaticDisease & Grade.StageInformation & PatientNotes & Molecular.andIHC.Data & Has.Smoked100.Cigarettes & Race & Ethnicity & AdditionalMedicalHistory & Submission\\\\\n",
       " <dbl> & <chr> & <chr> & <chr> & <chr> & <chr> & <dbl> & <chr> & <chr> & <chr> & ⋯ & <chr> & <chr> & <chr> & <chr> & <chr> & <chr> & <chr> & <chr> & <chr> & <dttm>\\\\\n",
       "\\hline\n",
       "\t 1 & PDXNet Consortium Members & MDACC & B8174 & K42829 & Female & 10009951 & Adenocarcinoma - colon & adenocarcinoma of sigmoid colon                                    & Digestive/Gastrointestinal & ⋯ & 42790 & Yes          & Stage              & Tumor Grade/Stage: Stage IV Location of known metastases: Pelvis, omentum, Chest wall (left), Lymph node (left axillary) & APC c.4037C>G p.S1346*; FBXW7 c.832C>T p.R278*; KRAS c.38G>A p.G13D; TP53 c.427G>A p.V143M                               & No  & White        & Not Hispanic or Latino & -                                                                                                                      & 2021-09-02\\\\\n",
       "\t 2 & PDXNet Consortium Members & MDACC & B8175 & K30337 & Female & 10009951 & Adenocarcinoma - colon & adenocarcinoma                                                     & Digestive/Gastrointestinal & ⋯ & 42500 & Yes          & Stage              & Tumor Grade/Stage: Stage IV, poorly differentiated Location of known metastases: Peritoneum, Liver                       & KRAS/NRAS WT,BRAF mutated, MSI Stable                                                                                    & No  & White        & Hispanic or Latino     & Family h/o: 2nd degree relative, Uterine cancer                                                                        & 2018-12-19\\\\\n",
       "\t 3 & PDXNet Consortium Members & MDACC & B8176 & K45526 & Female & 10009951 & Adenocarcinoma - colon & Lynch syndrome; mucinous and signet ring cell adenocarcinoma       & Digestive/Gastrointestinal & ⋯ & 42132 & Not Reported & TNM (Pathological) & Tumor Grade/Stage:  pT1bpN0pM0, poorly differentiated Location of known metastases: Liver, Abdomen                       & Germline heterozygous MSH2 c388\\_389del variant (deleterious) Lynch syndrome, MSI-high; KRAS-G12D; Loss of MSH2 and MSH6; & Yes & White        & Hispanic or Latino     & Family History: 1st degree relative, GI cancer involving esophagus, liver, bile duct, stomach, pancreas, colon, rectum & 2018-12-19\\\\\n",
       "\t 4 & PDXNet Consortium Members & MDACC & B8182 & K75566 & Female & 10009951 & Adenocarcinoma - colon & poorly differentiated mucinous and signet ring cell adenocarcinoma & Digestive/Gastrointestinal & ⋯ & 42644 & Yes          & Stage, TNM         & Tumor Grade/Stage: Stage III T4N2M0 Location of known metastases: Liver                                                  & -                                                                                                                        & No  & White        & Hispanic or Latino     & -                                                                                                                      & 2021-09-02\\\\\n",
       "\t 5 & PDXNet Consortium Members & MDACC & B8183 & K83548 & Male   & 10009951 & Adenocarcinoma - colon & adenocarcinoma                                                     & Digestive/Gastrointestinal & ⋯ & 42184 & Yes          & Stage              & Tumor Grade/Stage: Stage IV, moderately differentiated  Location of known metastases:  Liver, Duodenum, Pelvis           & MSI-Stable; BRAF mutant; KRAS wild type                                                                                  & Yes & Not Provided & Not Provided           & -                                                                                                                      & 2018-12-19\\\\\n",
       "\t 6 & PDXNet Consortium Members & MDACC & B8207 & K49395 & Male   & 10009951 & Adenocarcinoma - colon & Sigmoid                                                            & Digestive/Gastrointestinal & ⋯ & 41537 & Yes          & Stage, TNM         & Tumor Grade/Stage: Stage IVB, TxNxM1b, Moderately differentiated  Location of known metastases: Liver, Lung              & Mutations present in: MDM4, NOTCH1, RB1, TP53, APC                                                                       & Yes & White        & Not Hispanic or Latino & No family history of cancer                                                                                            & 2021-09-02\\\\\n",
       "\\end{tabular}\n"
      ],
      "text/markdown": [
       "\n",
       "A tibble: 6 × 21\n",
       "\n",
       "| Index &lt;dbl&gt; | PDXSource &lt;chr&gt; | Contributor &lt;chr&gt; | ContributorPDX.ID &lt;chr&gt; | PDMR.Patient.ID &lt;chr&gt; | Gender &lt;chr&gt; | CTEP.SDCCode &lt;dbl&gt; | CTEP.SDCDescription &lt;chr&gt; | DiagnosisSubtype &lt;chr&gt; | Disease.BodyLocation &lt;chr&gt; | ⋯ ⋯ | Date.ofDiagnosis &lt;chr&gt; | Has.KnownMetastaticDisease &lt;chr&gt; | Grade.StageInformation &lt;chr&gt; | PatientNotes &lt;chr&gt; | Molecular.andIHC.Data &lt;chr&gt; | Has.Smoked100.Cigarettes &lt;chr&gt; | Race &lt;chr&gt; | Ethnicity &lt;chr&gt; | AdditionalMedicalHistory &lt;chr&gt; | Submission &lt;dttm&gt; |\n",
       "|---|---|---|---|---|---|---|---|---|---|---|---|---|---|---|---|---|---|---|---|---|\n",
       "| 1 | PDXNet Consortium Members | MDACC | B8174 | K42829 | Female | 10009951 | Adenocarcinoma - colon | adenocarcinoma of sigmoid colon                                    | Digestive/Gastrointestinal | ⋯ | 42790 | Yes          | Stage              | Tumor Grade/Stage: Stage IV Location of known metastases: Pelvis, omentum, Chest wall (left), Lymph node (left axillary) | APC c.4037C&gt;G p.S1346*; FBXW7 c.832C&gt;T p.R278*; KRAS c.38G&gt;A p.G13D; TP53 c.427G&gt;A p.V143M                               | No  | White        | Not Hispanic or Latino | -                                                                                                                      | 2021-09-02 |\n",
       "| 2 | PDXNet Consortium Members | MDACC | B8175 | K30337 | Female | 10009951 | Adenocarcinoma - colon | adenocarcinoma                                                     | Digestive/Gastrointestinal | ⋯ | 42500 | Yes          | Stage              | Tumor Grade/Stage: Stage IV, poorly differentiated Location of known metastases: Peritoneum, Liver                       | KRAS/NRAS WT,BRAF mutated, MSI Stable                                                                                    | No  | White        | Hispanic or Latino     | Family h/o: 2nd degree relative, Uterine cancer                                                                        | 2018-12-19 |\n",
       "| 3 | PDXNet Consortium Members | MDACC | B8176 | K45526 | Female | 10009951 | Adenocarcinoma - colon | Lynch syndrome; mucinous and signet ring cell adenocarcinoma       | Digestive/Gastrointestinal | ⋯ | 42132 | Not Reported | TNM (Pathological) | Tumor Grade/Stage:  pT1bpN0pM0, poorly differentiated Location of known metastases: Liver, Abdomen                       | Germline heterozygous MSH2 c388_389del variant (deleterious) Lynch syndrome, MSI-high; KRAS-G12D; Loss of MSH2 and MSH6; | Yes | White        | Hispanic or Latino     | Family History: 1st degree relative, GI cancer involving esophagus, liver, bile duct, stomach, pancreas, colon, rectum | 2018-12-19 |\n",
       "| 4 | PDXNet Consortium Members | MDACC | B8182 | K75566 | Female | 10009951 | Adenocarcinoma - colon | poorly differentiated mucinous and signet ring cell adenocarcinoma | Digestive/Gastrointestinal | ⋯ | 42644 | Yes          | Stage, TNM         | Tumor Grade/Stage: Stage III T4N2M0 Location of known metastases: Liver                                                  | -                                                                                                                        | No  | White        | Hispanic or Latino     | -                                                                                                                      | 2021-09-02 |\n",
       "| 5 | PDXNet Consortium Members | MDACC | B8183 | K83548 | Male   | 10009951 | Adenocarcinoma - colon | adenocarcinoma                                                     | Digestive/Gastrointestinal | ⋯ | 42184 | Yes          | Stage              | Tumor Grade/Stage: Stage IV, moderately differentiated  Location of known metastases:  Liver, Duodenum, Pelvis           | MSI-Stable; BRAF mutant; KRAS wild type                                                                                  | Yes | Not Provided | Not Provided           | -                                                                                                                      | 2018-12-19 |\n",
       "| 6 | PDXNet Consortium Members | MDACC | B8207 | K49395 | Male   | 10009951 | Adenocarcinoma - colon | Sigmoid                                                            | Digestive/Gastrointestinal | ⋯ | 41537 | Yes          | Stage, TNM         | Tumor Grade/Stage: Stage IVB, TxNxM1b, Moderately differentiated  Location of known metastases: Liver, Lung              | Mutations present in: MDM4, NOTCH1, RB1, TP53, APC                                                                       | Yes | White        | Not Hispanic or Latino | No family history of cancer                                                                                            | 2021-09-02 |\n",
       "\n"
      ],
      "text/plain": [
       "  Index PDXSource                 Contributor ContributorPDX.ID PDMR.Patient.ID\n",
       "1 1     PDXNet Consortium Members MDACC       B8174             K42829         \n",
       "2 2     PDXNet Consortium Members MDACC       B8175             K30337         \n",
       "3 3     PDXNet Consortium Members MDACC       B8176             K45526         \n",
       "4 4     PDXNet Consortium Members MDACC       B8182             K75566         \n",
       "5 5     PDXNet Consortium Members MDACC       B8183             K83548         \n",
       "6 6     PDXNet Consortium Members MDACC       B8207             K49395         \n",
       "  Gender CTEP.SDCCode CTEP.SDCDescription   \n",
       "1 Female 10009951     Adenocarcinoma - colon\n",
       "2 Female 10009951     Adenocarcinoma - colon\n",
       "3 Female 10009951     Adenocarcinoma - colon\n",
       "4 Female 10009951     Adenocarcinoma - colon\n",
       "5 Male   10009951     Adenocarcinoma - colon\n",
       "6 Male   10009951     Adenocarcinoma - colon\n",
       "  DiagnosisSubtype                                                  \n",
       "1 adenocarcinoma of sigmoid colon                                   \n",
       "2 adenocarcinoma                                                    \n",
       "3 Lynch syndrome; mucinous and signet ring cell adenocarcinoma      \n",
       "4 poorly differentiated mucinous and signet ring cell adenocarcinoma\n",
       "5 adenocarcinoma                                                    \n",
       "6 Sigmoid                                                           \n",
       "  Disease.BodyLocation       ⋯ Date.ofDiagnosis Has.KnownMetastaticDisease\n",
       "1 Digestive/Gastrointestinal ⋯ 42790            Yes                       \n",
       "2 Digestive/Gastrointestinal ⋯ 42500            Yes                       \n",
       "3 Digestive/Gastrointestinal ⋯ 42132            Not Reported              \n",
       "4 Digestive/Gastrointestinal ⋯ 42644            Yes                       \n",
       "5 Digestive/Gastrointestinal ⋯ 42184            Yes                       \n",
       "6 Digestive/Gastrointestinal ⋯ 41537            Yes                       \n",
       "  Grade.StageInformation\n",
       "1 Stage                 \n",
       "2 Stage                 \n",
       "3 TNM (Pathological)    \n",
       "4 Stage, TNM            \n",
       "5 Stage                 \n",
       "6 Stage, TNM            \n",
       "  PatientNotes                                                                                                            \n",
       "1 Tumor Grade/Stage: Stage IV Location of known metastases: Pelvis, omentum, Chest wall (left), Lymph node (left axillary)\n",
       "2 Tumor Grade/Stage: Stage IV, poorly differentiated Location of known metastases: Peritoneum, Liver                      \n",
       "3 Tumor Grade/Stage:  pT1bpN0pM0, poorly differentiated Location of known metastases: Liver, Abdomen                      \n",
       "4 Tumor Grade/Stage: Stage III T4N2M0 Location of known metastases: Liver                                                 \n",
       "5 Tumor Grade/Stage: Stage IV, moderately differentiated  Location of known metastases:  Liver, Duodenum, Pelvis          \n",
       "6 Tumor Grade/Stage: Stage IVB, TxNxM1b, Moderately differentiated  Location of known metastases: Liver, Lung             \n",
       "  Molecular.andIHC.Data                                                                                                   \n",
       "1 APC c.4037C>G p.S1346*; FBXW7 c.832C>T p.R278*; KRAS c.38G>A p.G13D; TP53 c.427G>A p.V143M                              \n",
       "2 KRAS/NRAS WT,BRAF mutated, MSI Stable                                                                                   \n",
       "3 Germline heterozygous MSH2 c388_389del variant (deleterious) Lynch syndrome, MSI-high; KRAS-G12D; Loss of MSH2 and MSH6;\n",
       "4 -                                                                                                                       \n",
       "5 MSI-Stable; BRAF mutant; KRAS wild type                                                                                 \n",
       "6 Mutations present in: MDM4, NOTCH1, RB1, TP53, APC                                                                      \n",
       "  Has.Smoked100.Cigarettes Race         Ethnicity             \n",
       "1 No                       White        Not Hispanic or Latino\n",
       "2 No                       White        Hispanic or Latino    \n",
       "3 Yes                      White        Hispanic or Latino    \n",
       "4 No                       White        Hispanic or Latino    \n",
       "5 Yes                      Not Provided Not Provided          \n",
       "6 Yes                      White        Not Hispanic or Latino\n",
       "  AdditionalMedicalHistory                                                                                              \n",
       "1 -                                                                                                                     \n",
       "2 Family h/o: 2nd degree relative, Uterine cancer                                                                       \n",
       "3 Family History: 1st degree relative, GI cancer involving esophagus, liver, bile duct, stomach, pancreas, colon, rectum\n",
       "4 -                                                                                                                     \n",
       "5 -                                                                                                                     \n",
       "6 No family history of cancer                                                                                           \n",
       "  Submission\n",
       "1 2021-09-02\n",
       "2 2018-12-19\n",
       "3 2018-12-19\n",
       "4 2021-09-02\n",
       "5 2018-12-19\n",
       "6 2021-09-02"
      ]
     },
     "metadata": {},
     "output_type": "display_data"
    }
   ],
   "source": [
    "pdtc_models <- read_csv('2022-02-09_pdxnet_portal_pdtc_models.csv')\n",
    "colnames(pdtc_models)[1] <- 'Index'\n",
    "nrow(pdtc_models)\n",
    "colnames(pdtc_models)\n",
    "\n",
    "head(pdtc_models)"
   ]
  },
  {
   "cell_type": "code",
   "execution_count": 3,
   "id": "8c663c99-62f5-41bb-9e95-ff30c4753653",
   "metadata": {
    "tags": []
   },
   "outputs": [
    {
     "name": "stderr",
     "output_type": "stream",
     "text": [
      "New names:\n",
      "* `` -> ...1\n",
      "\n",
      "\u001b[1mRows: \u001b[22m\u001b[34m2822\u001b[39m \u001b[1mColumns: \u001b[22m\u001b[34m29\u001b[39m\n",
      "\n",
      "\u001b[36m──\u001b[39m \u001b[1mColumn specification\u001b[22m \u001b[36m──────────────────────────────────────────────────────────────────────────────────────────────────────────────────────────────────────────────────────────────────────────────────────────────────────────────────────\u001b[39m\n",
      "\u001b[1mDelimiter:\u001b[22m \",\"\n",
      "\u001b[31mchr\u001b[39m (23): contributor, file_name, patient_id, model_id, tumor_id, case_id, s...\n",
      "\u001b[32mdbl\u001b[39m  (4): ...1, paired_end, created_datetime, file_size\n",
      "\u001b[33mlgl\u001b[39m  (2): is_ffpe, investigation\n",
      "\n",
      "\n",
      "\u001b[36mℹ\u001b[39m Use \u001b[30m\u001b[47m\u001b[30m\u001b[47m`spec()`\u001b[47m\u001b[30m\u001b[49m\u001b[39m to retrieve the full column specification for this data.\n",
      "\u001b[36mℹ\u001b[39m Specify the column types or set \u001b[30m\u001b[47m\u001b[30m\u001b[47m`show_col_types = FALSE`\u001b[47m\u001b[30m\u001b[49m\u001b[39m to quiet this message.\n",
      "\n"
     ]
    },
    {
     "data": {
      "text/html": [
       "2822"
      ],
      "text/latex": [
       "2822"
      ],
      "text/markdown": [
       "2822"
      ],
      "text/plain": [
       "[1] 2822"
      ]
     },
     "metadata": {},
     "output_type": "display_data"
    },
    {
     "data": {
      "text/html": [
       "<style>\n",
       ".list-inline {list-style: none; margin:0; padding: 0}\n",
       ".list-inline>li {display: inline-block}\n",
       ".list-inline>li:not(:last-child)::after {content: \"\\00b7\"; padding: 0 .5ex}\n",
       "</style>\n",
       "<ol class=list-inline><li>'Index'</li><li>'contributor'</li><li>'file_name'</li><li>'patient_id'</li><li>'model_id'</li><li>'tumor_id'</li><li>'case_id'</li><li>'sample_id'</li><li>'sample_type'</li><li>'experimental_strategy'</li><li>'gender'</li><li>'paired_end'</li><li>'capture_kit'</li><li>'capture_assembly'</li><li>'availability'</li><li>'public'</li><li>'access_level'</li><li>'created_datetime'</li><li>'data_category'</li><li>'data_format'</li><li>'data_type'</li><li>'platform'</li><li>'is_ffpe'</li><li>'file_size'</li><li>'passage'</li><li>'disease_type'</li><li>'comment'</li><li>'investigation'</li><li>'disease_detail'</li></ol>\n"
      ],
      "text/latex": [
       "\\begin{enumerate*}\n",
       "\\item 'Index'\n",
       "\\item 'contributor'\n",
       "\\item 'file\\_name'\n",
       "\\item 'patient\\_id'\n",
       "\\item 'model\\_id'\n",
       "\\item 'tumor\\_id'\n",
       "\\item 'case\\_id'\n",
       "\\item 'sample\\_id'\n",
       "\\item 'sample\\_type'\n",
       "\\item 'experimental\\_strategy'\n",
       "\\item 'gender'\n",
       "\\item 'paired\\_end'\n",
       "\\item 'capture\\_kit'\n",
       "\\item 'capture\\_assembly'\n",
       "\\item 'availability'\n",
       "\\item 'public'\n",
       "\\item 'access\\_level'\n",
       "\\item 'created\\_datetime'\n",
       "\\item 'data\\_category'\n",
       "\\item 'data\\_format'\n",
       "\\item 'data\\_type'\n",
       "\\item 'platform'\n",
       "\\item 'is\\_ffpe'\n",
       "\\item 'file\\_size'\n",
       "\\item 'passage'\n",
       "\\item 'disease\\_type'\n",
       "\\item 'comment'\n",
       "\\item 'investigation'\n",
       "\\item 'disease\\_detail'\n",
       "\\end{enumerate*}\n"
      ],
      "text/markdown": [
       "1. 'Index'\n",
       "2. 'contributor'\n",
       "3. 'file_name'\n",
       "4. 'patient_id'\n",
       "5. 'model_id'\n",
       "6. 'tumor_id'\n",
       "7. 'case_id'\n",
       "8. 'sample_id'\n",
       "9. 'sample_type'\n",
       "10. 'experimental_strategy'\n",
       "11. 'gender'\n",
       "12. 'paired_end'\n",
       "13. 'capture_kit'\n",
       "14. 'capture_assembly'\n",
       "15. 'availability'\n",
       "16. 'public'\n",
       "17. 'access_level'\n",
       "18. 'created_datetime'\n",
       "19. 'data_category'\n",
       "20. 'data_format'\n",
       "21. 'data_type'\n",
       "22. 'platform'\n",
       "23. 'is_ffpe'\n",
       "24. 'file_size'\n",
       "25. 'passage'\n",
       "26. 'disease_type'\n",
       "27. 'comment'\n",
       "28. 'investigation'\n",
       "29. 'disease_detail'\n",
       "\n",
       "\n"
      ],
      "text/plain": [
       " [1] \"Index\"                 \"contributor\"           \"file_name\"            \n",
       " [4] \"patient_id\"            \"model_id\"              \"tumor_id\"             \n",
       " [7] \"case_id\"               \"sample_id\"             \"sample_type\"          \n",
       "[10] \"experimental_strategy\" \"gender\"                \"paired_end\"           \n",
       "[13] \"capture_kit\"           \"capture_assembly\"      \"availability\"         \n",
       "[16] \"public\"                \"access_level\"          \"created_datetime\"     \n",
       "[19] \"data_category\"         \"data_format\"           \"data_type\"            \n",
       "[22] \"platform\"              \"is_ffpe\"               \"file_size\"            \n",
       "[25] \"passage\"               \"disease_type\"          \"comment\"              \n",
       "[28] \"investigation\"         \"disease_detail\"       "
      ]
     },
     "metadata": {},
     "output_type": "display_data"
    },
    {
     "data": {
      "text/html": [
       "<table class=\"dataframe\">\n",
       "<caption>A tibble: 6 × 29</caption>\n",
       "<thead>\n",
       "\t<tr><th scope=col>Index</th><th scope=col>contributor</th><th scope=col>file_name</th><th scope=col>patient_id</th><th scope=col>model_id</th><th scope=col>tumor_id</th><th scope=col>case_id</th><th scope=col>sample_id</th><th scope=col>sample_type</th><th scope=col>experimental_strategy</th><th scope=col>⋯</th><th scope=col>data_format</th><th scope=col>data_type</th><th scope=col>platform</th><th scope=col>is_ffpe</th><th scope=col>file_size</th><th scope=col>passage</th><th scope=col>disease_type</th><th scope=col>comment</th><th scope=col>investigation</th><th scope=col>disease_detail</th></tr>\n",
       "\t<tr><th scope=col>&lt;dbl&gt;</th><th scope=col>&lt;chr&gt;</th><th scope=col>&lt;chr&gt;</th><th scope=col>&lt;chr&gt;</th><th scope=col>&lt;chr&gt;</th><th scope=col>&lt;chr&gt;</th><th scope=col>&lt;chr&gt;</th><th scope=col>&lt;chr&gt;</th><th scope=col>&lt;chr&gt;</th><th scope=col>&lt;chr&gt;</th><th scope=col>⋯</th><th scope=col>&lt;chr&gt;</th><th scope=col>&lt;chr&gt;</th><th scope=col>&lt;chr&gt;</th><th scope=col>&lt;lgl&gt;</th><th scope=col>&lt;dbl&gt;</th><th scope=col>&lt;chr&gt;</th><th scope=col>&lt;chr&gt;</th><th scope=col>&lt;chr&gt;</th><th scope=col>&lt;lgl&gt;</th><th scope=col>&lt;chr&gt;</th></tr>\n",
       "</thead>\n",
       "<tbody>\n",
       "\t<tr><td>1</td><td>BCM</td><td>LZML_37246_NoIndex_L00X_R1_001.fastq.gz</td><td>24452</td><td>BCM-0002</td><td>2011012-2  </td><td>NA</td><td>BCM-0002</td><td>PDX</td><td>RNA-Seq</td><td>⋯</td><td>FASTQ.GZ</td><td>Raw Reads</td><td>Illumina</td><td>FALSE</td><td>20656964441</td><td>NA</td><td>Breast</td><td>NA</td><td>NA</td><td>Invasive breast carcinoma</td></tr>\n",
       "\t<tr><td>2</td><td>BCM</td><td>LZML_37246_NoIndex_L00X_R2_001.fastq.gz</td><td>24452</td><td>BCM-0002</td><td>2011012-2  </td><td>NA</td><td>BCM-0002</td><td>PDX</td><td>RNA-Seq</td><td>⋯</td><td>FASTQ.GZ</td><td>Raw Reads</td><td>Illumina</td><td>FALSE</td><td>21093643386</td><td>NA</td><td>Breast</td><td>NA</td><td>NA</td><td>Invasive breast carcinoma</td></tr>\n",
       "\t<tr><td>3</td><td>BCM</td><td>ML6065_GATCAGCG_L00X_R1_001.fastq.gz   </td><td>2219 </td><td>BCM-0046</td><td>2011012-46 </td><td>NA</td><td>BCM-0046</td><td>PDX</td><td>RNA-Seq</td><td>⋯</td><td>FASTQ.GZ</td><td>Raw Reads</td><td>Illumina</td><td>FALSE</td><td>22027304876</td><td>NA</td><td>Breast</td><td>NA</td><td>NA</td><td>Invasive breast carcinoma</td></tr>\n",
       "\t<tr><td>4</td><td>BCM</td><td>ML6065_GATCAGCG_L00X_R2_001.fastq.gz   </td><td>2219 </td><td>BCM-0046</td><td>2011012-46 </td><td>NA</td><td>BCM-0046</td><td>PDX</td><td>RNA-Seq</td><td>⋯</td><td>FASTQ.GZ</td><td>Raw Reads</td><td>Illumina</td><td>FALSE</td><td>22027304876</td><td>NA</td><td>Breast</td><td>NA</td><td>NA</td><td>Invasive breast carcinoma</td></tr>\n",
       "\t<tr><td>5</td><td>BCM</td><td>ML6061_CAGATCTG_L00X_R1_001.fastq.gz   </td><td>24561</td><td>BCM-0104</td><td>2011012-104</td><td>NA</td><td>BCM-0104</td><td>PDX</td><td>RNA-Seq</td><td>⋯</td><td>FASTQ.GZ</td><td>Raw Reads</td><td>Illumina</td><td>FALSE</td><td>17927987899</td><td>NA</td><td>Breast</td><td>NA</td><td>NA</td><td>Invasive breast carcinoma</td></tr>\n",
       "\t<tr><td>6</td><td>BCM</td><td>ML6061_CAGATCTG_L00X_R2_001.fastq.gz   </td><td>24561</td><td>BCM-0104</td><td>2011012-104</td><td>NA</td><td>BCM-0104</td><td>PDX</td><td>RNA-Seq</td><td>⋯</td><td>FASTQ.GZ</td><td>Raw Reads</td><td>Illumina</td><td>FALSE</td><td>18002109303</td><td>NA</td><td>Breast</td><td>NA</td><td>NA</td><td>Invasive breast carcinoma</td></tr>\n",
       "</tbody>\n",
       "</table>\n"
      ],
      "text/latex": [
       "A tibble: 6 × 29\n",
       "\\begin{tabular}{lllllllllllllllllllll}\n",
       " Index & contributor & file\\_name & patient\\_id & model\\_id & tumor\\_id & case\\_id & sample\\_id & sample\\_type & experimental\\_strategy & ⋯ & data\\_format & data\\_type & platform & is\\_ffpe & file\\_size & passage & disease\\_type & comment & investigation & disease\\_detail\\\\\n",
       " <dbl> & <chr> & <chr> & <chr> & <chr> & <chr> & <chr> & <chr> & <chr> & <chr> & ⋯ & <chr> & <chr> & <chr> & <lgl> & <dbl> & <chr> & <chr> & <chr> & <lgl> & <chr>\\\\\n",
       "\\hline\n",
       "\t 1 & BCM & LZML\\_37246\\_NoIndex\\_L00X\\_R1\\_001.fastq.gz & 24452 & BCM-0002 & 2011012-2   & NA & BCM-0002 & PDX & RNA-Seq & ⋯ & FASTQ.GZ & Raw Reads & Illumina & FALSE & 20656964441 & NA & Breast & NA & NA & Invasive breast carcinoma\\\\\n",
       "\t 2 & BCM & LZML\\_37246\\_NoIndex\\_L00X\\_R2\\_001.fastq.gz & 24452 & BCM-0002 & 2011012-2   & NA & BCM-0002 & PDX & RNA-Seq & ⋯ & FASTQ.GZ & Raw Reads & Illumina & FALSE & 21093643386 & NA & Breast & NA & NA & Invasive breast carcinoma\\\\\n",
       "\t 3 & BCM & ML6065\\_GATCAGCG\\_L00X\\_R1\\_001.fastq.gz    & 2219  & BCM-0046 & 2011012-46  & NA & BCM-0046 & PDX & RNA-Seq & ⋯ & FASTQ.GZ & Raw Reads & Illumina & FALSE & 22027304876 & NA & Breast & NA & NA & Invasive breast carcinoma\\\\\n",
       "\t 4 & BCM & ML6065\\_GATCAGCG\\_L00X\\_R2\\_001.fastq.gz    & 2219  & BCM-0046 & 2011012-46  & NA & BCM-0046 & PDX & RNA-Seq & ⋯ & FASTQ.GZ & Raw Reads & Illumina & FALSE & 22027304876 & NA & Breast & NA & NA & Invasive breast carcinoma\\\\\n",
       "\t 5 & BCM & ML6061\\_CAGATCTG\\_L00X\\_R1\\_001.fastq.gz    & 24561 & BCM-0104 & 2011012-104 & NA & BCM-0104 & PDX & RNA-Seq & ⋯ & FASTQ.GZ & Raw Reads & Illumina & FALSE & 17927987899 & NA & Breast & NA & NA & Invasive breast carcinoma\\\\\n",
       "\t 6 & BCM & ML6061\\_CAGATCTG\\_L00X\\_R2\\_001.fastq.gz    & 24561 & BCM-0104 & 2011012-104 & NA & BCM-0104 & PDX & RNA-Seq & ⋯ & FASTQ.GZ & Raw Reads & Illumina & FALSE & 18002109303 & NA & Breast & NA & NA & Invasive breast carcinoma\\\\\n",
       "\\end{tabular}\n"
      ],
      "text/markdown": [
       "\n",
       "A tibble: 6 × 29\n",
       "\n",
       "| Index &lt;dbl&gt; | contributor &lt;chr&gt; | file_name &lt;chr&gt; | patient_id &lt;chr&gt; | model_id &lt;chr&gt; | tumor_id &lt;chr&gt; | case_id &lt;chr&gt; | sample_id &lt;chr&gt; | sample_type &lt;chr&gt; | experimental_strategy &lt;chr&gt; | ⋯ ⋯ | data_format &lt;chr&gt; | data_type &lt;chr&gt; | platform &lt;chr&gt; | is_ffpe &lt;lgl&gt; | file_size &lt;dbl&gt; | passage &lt;chr&gt; | disease_type &lt;chr&gt; | comment &lt;chr&gt; | investigation &lt;lgl&gt; | disease_detail &lt;chr&gt; |\n",
       "|---|---|---|---|---|---|---|---|---|---|---|---|---|---|---|---|---|---|---|---|---|\n",
       "| 1 | BCM | LZML_37246_NoIndex_L00X_R1_001.fastq.gz | 24452 | BCM-0002 | 2011012-2   | NA | BCM-0002 | PDX | RNA-Seq | ⋯ | FASTQ.GZ | Raw Reads | Illumina | FALSE | 20656964441 | NA | Breast | NA | NA | Invasive breast carcinoma |\n",
       "| 2 | BCM | LZML_37246_NoIndex_L00X_R2_001.fastq.gz | 24452 | BCM-0002 | 2011012-2   | NA | BCM-0002 | PDX | RNA-Seq | ⋯ | FASTQ.GZ | Raw Reads | Illumina | FALSE | 21093643386 | NA | Breast | NA | NA | Invasive breast carcinoma |\n",
       "| 3 | BCM | ML6065_GATCAGCG_L00X_R1_001.fastq.gz    | 2219  | BCM-0046 | 2011012-46  | NA | BCM-0046 | PDX | RNA-Seq | ⋯ | FASTQ.GZ | Raw Reads | Illumina | FALSE | 22027304876 | NA | Breast | NA | NA | Invasive breast carcinoma |\n",
       "| 4 | BCM | ML6065_GATCAGCG_L00X_R2_001.fastq.gz    | 2219  | BCM-0046 | 2011012-46  | NA | BCM-0046 | PDX | RNA-Seq | ⋯ | FASTQ.GZ | Raw Reads | Illumina | FALSE | 22027304876 | NA | Breast | NA | NA | Invasive breast carcinoma |\n",
       "| 5 | BCM | ML6061_CAGATCTG_L00X_R1_001.fastq.gz    | 24561 | BCM-0104 | 2011012-104 | NA | BCM-0104 | PDX | RNA-Seq | ⋯ | FASTQ.GZ | Raw Reads | Illumina | FALSE | 17927987899 | NA | Breast | NA | NA | Invasive breast carcinoma |\n",
       "| 6 | BCM | ML6061_CAGATCTG_L00X_R2_001.fastq.gz    | 24561 | BCM-0104 | 2011012-104 | NA | BCM-0104 | PDX | RNA-Seq | ⋯ | FASTQ.GZ | Raw Reads | Illumina | FALSE | 18002109303 | NA | Breast | NA | NA | Invasive breast carcinoma |\n",
       "\n"
      ],
      "text/plain": [
       "  Index contributor file_name                               patient_id model_id\n",
       "1 1     BCM         LZML_37246_NoIndex_L00X_R1_001.fastq.gz 24452      BCM-0002\n",
       "2 2     BCM         LZML_37246_NoIndex_L00X_R2_001.fastq.gz 24452      BCM-0002\n",
       "3 3     BCM         ML6065_GATCAGCG_L00X_R1_001.fastq.gz    2219       BCM-0046\n",
       "4 4     BCM         ML6065_GATCAGCG_L00X_R2_001.fastq.gz    2219       BCM-0046\n",
       "5 5     BCM         ML6061_CAGATCTG_L00X_R1_001.fastq.gz    24561      BCM-0104\n",
       "6 6     BCM         ML6061_CAGATCTG_L00X_R2_001.fastq.gz    24561      BCM-0104\n",
       "  tumor_id    case_id sample_id sample_type experimental_strategy ⋯ data_format\n",
       "1 2011012-2   NA      BCM-0002  PDX         RNA-Seq               ⋯ FASTQ.GZ   \n",
       "2 2011012-2   NA      BCM-0002  PDX         RNA-Seq               ⋯ FASTQ.GZ   \n",
       "3 2011012-46  NA      BCM-0046  PDX         RNA-Seq               ⋯ FASTQ.GZ   \n",
       "4 2011012-46  NA      BCM-0046  PDX         RNA-Seq               ⋯ FASTQ.GZ   \n",
       "5 2011012-104 NA      BCM-0104  PDX         RNA-Seq               ⋯ FASTQ.GZ   \n",
       "6 2011012-104 NA      BCM-0104  PDX         RNA-Seq               ⋯ FASTQ.GZ   \n",
       "  data_type platform is_ffpe file_size   passage disease_type comment\n",
       "1 Raw Reads Illumina FALSE   20656964441 NA      Breast       NA     \n",
       "2 Raw Reads Illumina FALSE   21093643386 NA      Breast       NA     \n",
       "3 Raw Reads Illumina FALSE   22027304876 NA      Breast       NA     \n",
       "4 Raw Reads Illumina FALSE   22027304876 NA      Breast       NA     \n",
       "5 Raw Reads Illumina FALSE   17927987899 NA      Breast       NA     \n",
       "6 Raw Reads Illumina FALSE   18002109303 NA      Breast       NA     \n",
       "  investigation disease_detail           \n",
       "1 NA            Invasive breast carcinoma\n",
       "2 NA            Invasive breast carcinoma\n",
       "3 NA            Invasive breast carcinoma\n",
       "4 NA            Invasive breast carcinoma\n",
       "5 NA            Invasive breast carcinoma\n",
       "6 NA            Invasive breast carcinoma"
      ]
     },
     "metadata": {},
     "output_type": "display_data"
    }
   ],
   "source": [
    "pdtc_files <- read_csv('2022-02-09_pdxnet_portal_pdtc_files.csv')\n",
    "colnames(pdtc_files)[1] <- 'Index'\n",
    "nrow(pdtc_files)\n",
    "colnames(pdtc_files)\n",
    "\n",
    "head(pdtc_files)"
   ]
  },
  {
   "cell_type": "code",
   "execution_count": 4,
   "id": "91551b69-6b21-4c2f-89d1-38bb0ffc3b3e",
   "metadata": {
    "tags": []
   },
   "outputs": [
    {
     "name": "stderr",
     "output_type": "stream",
     "text": [
      "New names:\n",
      "* `` -> ...1\n",
      "\n",
      "\u001b[1mRows: \u001b[22m\u001b[34m14506\u001b[39m \u001b[1mColumns: \u001b[22m\u001b[34m22\u001b[39m\n",
      "\n",
      "\u001b[36m──\u001b[39m \u001b[1mColumn specification\u001b[22m \u001b[36m──────────────────────────────────────────────────────────────────────────────────────────────────────────────────────────────────────────────────────────────────────────────────────────────────────────────────────\u001b[39m\n",
      "\u001b[1mDelimiter:\u001b[22m \",\"\n",
      "\u001b[31mchr\u001b[39m (19): contributor, name, project, Patient.ID, gender, disease_type, Capt...\n",
      "\u001b[32mdbl\u001b[39m  (3): ...1, paired_end, age_at_diagnosis\n",
      "\n",
      "\n",
      "\u001b[36mℹ\u001b[39m Use \u001b[30m\u001b[47m\u001b[30m\u001b[47m`spec()`\u001b[47m\u001b[30m\u001b[49m\u001b[39m to retrieve the full column specification for this data.\n",
      "\u001b[36mℹ\u001b[39m Specify the column types or set \u001b[30m\u001b[47m\u001b[30m\u001b[47m`show_col_types = FALSE`\u001b[47m\u001b[30m\u001b[49m\u001b[39m to quiet this message.\n",
      "\n"
     ]
    },
    {
     "data": {
      "text/html": [
       "14506"
      ],
      "text/latex": [
       "14506"
      ],
      "text/markdown": [
       "14506"
      ],
      "text/plain": [
       "[1] 14506"
      ]
     },
     "metadata": {},
     "output_type": "display_data"
    },
    {
     "data": {
      "text/html": [
       "<style>\n",
       ".list-inline {list-style: none; margin:0; padding: 0}\n",
       ".list-inline>li {display: inline-block}\n",
       ".list-inline>li:not(:last-child)::after {content: \"\\00b7\"; padding: 0 .5ex}\n",
       "</style>\n",
       "<ol class=list-inline><li>'Index'</li><li>'contributor'</li><li>'name'</li><li>'project'</li><li>'Patient.ID'</li><li>'gender'</li><li>'disease_type'</li><li>'Capture.assembly'</li><li>'sample_id'</li><li>'PDMR.Version'</li><li>'PDMR.Sample.ID'</li><li>'Is.PDMR.Version.2'</li><li>'Passage'</li><li>'paired_end'</li><li>'sample_type'</li><li>'platform'</li><li>'age_at_diagnosis'</li><li>'Capture.kit'</li><li>'case_id'</li><li>'Specimen.ID'</li><li>'experimental_strategy'</li><li>'id'</li></ol>\n"
      ],
      "text/latex": [
       "\\begin{enumerate*}\n",
       "\\item 'Index'\n",
       "\\item 'contributor'\n",
       "\\item 'name'\n",
       "\\item 'project'\n",
       "\\item 'Patient.ID'\n",
       "\\item 'gender'\n",
       "\\item 'disease\\_type'\n",
       "\\item 'Capture.assembly'\n",
       "\\item 'sample\\_id'\n",
       "\\item 'PDMR.Version'\n",
       "\\item 'PDMR.Sample.ID'\n",
       "\\item 'Is.PDMR.Version.2'\n",
       "\\item 'Passage'\n",
       "\\item 'paired\\_end'\n",
       "\\item 'sample\\_type'\n",
       "\\item 'platform'\n",
       "\\item 'age\\_at\\_diagnosis'\n",
       "\\item 'Capture.kit'\n",
       "\\item 'case\\_id'\n",
       "\\item 'Specimen.ID'\n",
       "\\item 'experimental\\_strategy'\n",
       "\\item 'id'\n",
       "\\end{enumerate*}\n"
      ],
      "text/markdown": [
       "1. 'Index'\n",
       "2. 'contributor'\n",
       "3. 'name'\n",
       "4. 'project'\n",
       "5. 'Patient.ID'\n",
       "6. 'gender'\n",
       "7. 'disease_type'\n",
       "8. 'Capture.assembly'\n",
       "9. 'sample_id'\n",
       "10. 'PDMR.Version'\n",
       "11. 'PDMR.Sample.ID'\n",
       "12. 'Is.PDMR.Version.2'\n",
       "13. 'Passage'\n",
       "14. 'paired_end'\n",
       "15. 'sample_type'\n",
       "16. 'platform'\n",
       "17. 'age_at_diagnosis'\n",
       "18. 'Capture.kit'\n",
       "19. 'case_id'\n",
       "20. 'Specimen.ID'\n",
       "21. 'experimental_strategy'\n",
       "22. 'id'\n",
       "\n",
       "\n"
      ],
      "text/plain": [
       " [1] \"Index\"                 \"contributor\"           \"name\"                 \n",
       " [4] \"project\"               \"Patient.ID\"            \"gender\"               \n",
       " [7] \"disease_type\"          \"Capture.assembly\"      \"sample_id\"            \n",
       "[10] \"PDMR.Version\"          \"PDMR.Sample.ID\"        \"Is.PDMR.Version.2\"    \n",
       "[13] \"Passage\"               \"paired_end\"            \"sample_type\"          \n",
       "[16] \"platform\"              \"age_at_diagnosis\"      \"Capture.kit\"          \n",
       "[19] \"case_id\"               \"Specimen.ID\"           \"experimental_strategy\"\n",
       "[22] \"id\"                   "
      ]
     },
     "metadata": {},
     "output_type": "display_data"
    },
    {
     "data": {
      "text/html": [
       "<table class=\"dataframe\">\n",
       "<caption>A tibble: 6 × 22</caption>\n",
       "<thead>\n",
       "\t<tr><th scope=col>Index</th><th scope=col>contributor</th><th scope=col>name</th><th scope=col>project</th><th scope=col>Patient.ID</th><th scope=col>gender</th><th scope=col>disease_type</th><th scope=col>Capture.assembly</th><th scope=col>sample_id</th><th scope=col>PDMR.Version</th><th scope=col>⋯</th><th scope=col>Passage</th><th scope=col>paired_end</th><th scope=col>sample_type</th><th scope=col>platform</th><th scope=col>age_at_diagnosis</th><th scope=col>Capture.kit</th><th scope=col>case_id</th><th scope=col>Specimen.ID</th><th scope=col>experimental_strategy</th><th scope=col>id</th></tr>\n",
       "\t<tr><th scope=col>&lt;dbl&gt;</th><th scope=col>&lt;chr&gt;</th><th scope=col>&lt;chr&gt;</th><th scope=col>&lt;chr&gt;</th><th scope=col>&lt;chr&gt;</th><th scope=col>&lt;chr&gt;</th><th scope=col>&lt;chr&gt;</th><th scope=col>&lt;chr&gt;</th><th scope=col>&lt;chr&gt;</th><th scope=col>&lt;chr&gt;</th><th scope=col>⋯</th><th scope=col>&lt;chr&gt;</th><th scope=col>&lt;dbl&gt;</th><th scope=col>&lt;chr&gt;</th><th scope=col>&lt;chr&gt;</th><th scope=col>&lt;dbl&gt;</th><th scope=col>&lt;chr&gt;</th><th scope=col>&lt;chr&gt;</th><th scope=col>&lt;chr&gt;</th><th scope=col>&lt;chr&gt;</th><th scope=col>&lt;chr&gt;</th></tr>\n",
       "</thead>\n",
       "<tbody>\n",
       "\t<tr><td>1</td><td>NCI</td><td>253994~v2.0.1.10.0~germlineWES.R1.FASTQ.gz    </td><td>jeffrey.grover/pdxnet-pdmr-datapool</td><td>253994</td><td>Male  </td><td>Colorectal cancer - NOS       </td><td>hg19</td><td>253994                  </td><td>2_0_1_10_0</td><td>⋯</td><td>NA</td><td>1</td><td>normal_germline</td><td>Illumina HiSeq</td><td>50</td><td>SureSelect Human All Exon V5</td><td>253994</td><td>NA   </td><td>WES   </td><td>5f43cd0be4b0bf4ad141bd5e</td></tr>\n",
       "\t<tr><td>2</td><td>NCI</td><td>174316~266-R~AD7I14~v1.2~WES.R1.FASTQ.gz      </td><td>jeffrey.grover/pdxnet-pdmr-datapool</td><td>174316</td><td>Male  </td><td>Squamous cell carcinoma - skin</td><td>hg19</td><td>174316--266-R--AD7I14   </td><td>1_2       </td><td>⋯</td><td>P1</td><td>1</td><td>PDX            </td><td>Illumina HiSeq</td><td>83</td><td>SureSelect Human All Exon V5</td><td>174316</td><td>266-R</td><td>WES   </td><td>5f43cd0be4b0bf4ad141bd27</td></tr>\n",
       "\t<tr><td>3</td><td>NCI</td><td>345371~062-R~P27PQ6~v1.2~RNASEQ.R2.FASTQ.gz   </td><td>jeffrey.grover/pdxnet-pdmr-datapool</td><td>345371</td><td>Female</td><td>Salivary gland cancer         </td><td>hg19</td><td>345371--062-R--P27PQ6   </td><td>1_2       </td><td>⋯</td><td>P1</td><td>2</td><td>PDX            </td><td>Illumina HiSeq</td><td>65</td><td>TruSeq RNA Access           </td><td>345371</td><td>062-R</td><td>RNASEQ</td><td>5f43cd0be4b0bf4ad141bcde</td></tr>\n",
       "\t<tr><td>4</td><td>NCI</td><td>417821~307-R~TO3~v1.2~WES.R2.FASTQ.gz         </td><td>jeffrey.grover/pdxnet-pdmr-datapool</td><td>417821</td><td>Male  </td><td>Squamous cell lung carcinoma  </td><td>hg19</td><td>417821--307-R--TO3      </td><td>1_2       </td><td>⋯</td><td>P0</td><td>2</td><td>PDX            </td><td>Illumina HiSeq</td><td>67</td><td>SureSelect Human All Exon V5</td><td>417821</td><td>307-R</td><td>WES   </td><td>5f43cd0be4b0bf4ad141bce0</td></tr>\n",
       "\t<tr><td>5</td><td>NCI</td><td>594176~295-R~AL8~v1.2~WES.R2.FASTQ.gz         </td><td>jeffrey.grover/pdxnet-pdmr-datapool</td><td>594176</td><td>Male  </td><td>Osteosarcoma                  </td><td>hg19</td><td>594176--295-R--AL8      </td><td>1_2       </td><td>⋯</td><td>P0</td><td>2</td><td>PDX            </td><td>Illumina HiSeq</td><td>72</td><td>SureSelect Human All Exon V5</td><td>594176</td><td>295-R</td><td>WES   </td><td>5f43cd0be4b0bf4ad141bcdf</td></tr>\n",
       "\t<tr><td>6</td><td>NCI</td><td>283228~195-R~A04VW5UV9~v1.2~RNASEQ.R2.FASTQ.gz</td><td>jeffrey.grover/pdxnet-pdmr-datapool</td><td>283228</td><td>Male  </td><td>Melanoma                      </td><td>hg19</td><td>283228--195-R--A04VW5UV9</td><td>1_2       </td><td>⋯</td><td>P2</td><td>2</td><td>PDX            </td><td>Illumina HiSeq</td><td>48</td><td>TruSeq RNA Access           </td><td>283228</td><td>195-R</td><td>RNASEQ</td><td>5f43cd0be4b0bf4ad141bcd8</td></tr>\n",
       "</tbody>\n",
       "</table>\n"
      ],
      "text/latex": [
       "A tibble: 6 × 22\n",
       "\\begin{tabular}{lllllllllllllllllllll}\n",
       " Index & contributor & name & project & Patient.ID & gender & disease\\_type & Capture.assembly & sample\\_id & PDMR.Version & ⋯ & Passage & paired\\_end & sample\\_type & platform & age\\_at\\_diagnosis & Capture.kit & case\\_id & Specimen.ID & experimental\\_strategy & id\\\\\n",
       " <dbl> & <chr> & <chr> & <chr> & <chr> & <chr> & <chr> & <chr> & <chr> & <chr> & ⋯ & <chr> & <dbl> & <chr> & <chr> & <dbl> & <chr> & <chr> & <chr> & <chr> & <chr>\\\\\n",
       "\\hline\n",
       "\t 1 & NCI & 253994\\textasciitilde{}v2.0.1.10.0\\textasciitilde{}germlineWES.R1.FASTQ.gz     & jeffrey.grover/pdxnet-pdmr-datapool & 253994 & Male   & Colorectal cancer - NOS        & hg19 & 253994                   & 2\\_0\\_1\\_10\\_0 & ⋯ & NA & 1 & normal\\_germline & Illumina HiSeq & 50 & SureSelect Human All Exon V5 & 253994 & NA    & WES    & 5f43cd0be4b0bf4ad141bd5e\\\\\n",
       "\t 2 & NCI & 174316\\textasciitilde{}266-R\\textasciitilde{}AD7I14\\textasciitilde{}v1.2\\textasciitilde{}WES.R1.FASTQ.gz       & jeffrey.grover/pdxnet-pdmr-datapool & 174316 & Male   & Squamous cell carcinoma - skin & hg19 & 174316--266-R--AD7I14    & 1\\_2        & ⋯ & P1 & 1 & PDX             & Illumina HiSeq & 83 & SureSelect Human All Exon V5 & 174316 & 266-R & WES    & 5f43cd0be4b0bf4ad141bd27\\\\\n",
       "\t 3 & NCI & 345371\\textasciitilde{}062-R\\textasciitilde{}P27PQ6\\textasciitilde{}v1.2\\textasciitilde{}RNASEQ.R2.FASTQ.gz    & jeffrey.grover/pdxnet-pdmr-datapool & 345371 & Female & Salivary gland cancer          & hg19 & 345371--062-R--P27PQ6    & 1\\_2        & ⋯ & P1 & 2 & PDX             & Illumina HiSeq & 65 & TruSeq RNA Access            & 345371 & 062-R & RNASEQ & 5f43cd0be4b0bf4ad141bcde\\\\\n",
       "\t 4 & NCI & 417821\\textasciitilde{}307-R\\textasciitilde{}TO3\\textasciitilde{}v1.2\\textasciitilde{}WES.R2.FASTQ.gz          & jeffrey.grover/pdxnet-pdmr-datapool & 417821 & Male   & Squamous cell lung carcinoma   & hg19 & 417821--307-R--TO3       & 1\\_2        & ⋯ & P0 & 2 & PDX             & Illumina HiSeq & 67 & SureSelect Human All Exon V5 & 417821 & 307-R & WES    & 5f43cd0be4b0bf4ad141bce0\\\\\n",
       "\t 5 & NCI & 594176\\textasciitilde{}295-R\\textasciitilde{}AL8\\textasciitilde{}v1.2\\textasciitilde{}WES.R2.FASTQ.gz          & jeffrey.grover/pdxnet-pdmr-datapool & 594176 & Male   & Osteosarcoma                   & hg19 & 594176--295-R--AL8       & 1\\_2        & ⋯ & P0 & 2 & PDX             & Illumina HiSeq & 72 & SureSelect Human All Exon V5 & 594176 & 295-R & WES    & 5f43cd0be4b0bf4ad141bcdf\\\\\n",
       "\t 6 & NCI & 283228\\textasciitilde{}195-R\\textasciitilde{}A04VW5UV9\\textasciitilde{}v1.2\\textasciitilde{}RNASEQ.R2.FASTQ.gz & jeffrey.grover/pdxnet-pdmr-datapool & 283228 & Male   & Melanoma                       & hg19 & 283228--195-R--A04VW5UV9 & 1\\_2        & ⋯ & P2 & 2 & PDX             & Illumina HiSeq & 48 & TruSeq RNA Access            & 283228 & 195-R & RNASEQ & 5f43cd0be4b0bf4ad141bcd8\\\\\n",
       "\\end{tabular}\n"
      ],
      "text/markdown": [
       "\n",
       "A tibble: 6 × 22\n",
       "\n",
       "| Index &lt;dbl&gt; | contributor &lt;chr&gt; | name &lt;chr&gt; | project &lt;chr&gt; | Patient.ID &lt;chr&gt; | gender &lt;chr&gt; | disease_type &lt;chr&gt; | Capture.assembly &lt;chr&gt; | sample_id &lt;chr&gt; | PDMR.Version &lt;chr&gt; | ⋯ ⋯ | Passage &lt;chr&gt; | paired_end &lt;dbl&gt; | sample_type &lt;chr&gt; | platform &lt;chr&gt; | age_at_diagnosis &lt;dbl&gt; | Capture.kit &lt;chr&gt; | case_id &lt;chr&gt; | Specimen.ID &lt;chr&gt; | experimental_strategy &lt;chr&gt; | id &lt;chr&gt; |\n",
       "|---|---|---|---|---|---|---|---|---|---|---|---|---|---|---|---|---|---|---|---|---|\n",
       "| 1 | NCI | 253994~v2.0.1.10.0~germlineWES.R1.FASTQ.gz     | jeffrey.grover/pdxnet-pdmr-datapool | 253994 | Male   | Colorectal cancer - NOS        | hg19 | 253994                   | 2_0_1_10_0 | ⋯ | NA | 1 | normal_germline | Illumina HiSeq | 50 | SureSelect Human All Exon V5 | 253994 | NA    | WES    | 5f43cd0be4b0bf4ad141bd5e |\n",
       "| 2 | NCI | 174316~266-R~AD7I14~v1.2~WES.R1.FASTQ.gz       | jeffrey.grover/pdxnet-pdmr-datapool | 174316 | Male   | Squamous cell carcinoma - skin | hg19 | 174316--266-R--AD7I14    | 1_2        | ⋯ | P1 | 1 | PDX             | Illumina HiSeq | 83 | SureSelect Human All Exon V5 | 174316 | 266-R | WES    | 5f43cd0be4b0bf4ad141bd27 |\n",
       "| 3 | NCI | 345371~062-R~P27PQ6~v1.2~RNASEQ.R2.FASTQ.gz    | jeffrey.grover/pdxnet-pdmr-datapool | 345371 | Female | Salivary gland cancer          | hg19 | 345371--062-R--P27PQ6    | 1_2        | ⋯ | P1 | 2 | PDX             | Illumina HiSeq | 65 | TruSeq RNA Access            | 345371 | 062-R | RNASEQ | 5f43cd0be4b0bf4ad141bcde |\n",
       "| 4 | NCI | 417821~307-R~TO3~v1.2~WES.R2.FASTQ.gz          | jeffrey.grover/pdxnet-pdmr-datapool | 417821 | Male   | Squamous cell lung carcinoma   | hg19 | 417821--307-R--TO3       | 1_2        | ⋯ | P0 | 2 | PDX             | Illumina HiSeq | 67 | SureSelect Human All Exon V5 | 417821 | 307-R | WES    | 5f43cd0be4b0bf4ad141bce0 |\n",
       "| 5 | NCI | 594176~295-R~AL8~v1.2~WES.R2.FASTQ.gz          | jeffrey.grover/pdxnet-pdmr-datapool | 594176 | Male   | Osteosarcoma                   | hg19 | 594176--295-R--AL8       | 1_2        | ⋯ | P0 | 2 | PDX             | Illumina HiSeq | 72 | SureSelect Human All Exon V5 | 594176 | 295-R | WES    | 5f43cd0be4b0bf4ad141bcdf |\n",
       "| 6 | NCI | 283228~195-R~A04VW5UV9~v1.2~RNASEQ.R2.FASTQ.gz | jeffrey.grover/pdxnet-pdmr-datapool | 283228 | Male   | Melanoma                       | hg19 | 283228--195-R--A04VW5UV9 | 1_2        | ⋯ | P2 | 2 | PDX             | Illumina HiSeq | 48 | TruSeq RNA Access            | 283228 | 195-R | RNASEQ | 5f43cd0be4b0bf4ad141bcd8 |\n",
       "\n"
      ],
      "text/plain": [
       "  Index contributor name                                          \n",
       "1 1     NCI         253994~v2.0.1.10.0~germlineWES.R1.FASTQ.gz    \n",
       "2 2     NCI         174316~266-R~AD7I14~v1.2~WES.R1.FASTQ.gz      \n",
       "3 3     NCI         345371~062-R~P27PQ6~v1.2~RNASEQ.R2.FASTQ.gz   \n",
       "4 4     NCI         417821~307-R~TO3~v1.2~WES.R2.FASTQ.gz         \n",
       "5 5     NCI         594176~295-R~AL8~v1.2~WES.R2.FASTQ.gz         \n",
       "6 6     NCI         283228~195-R~A04VW5UV9~v1.2~RNASEQ.R2.FASTQ.gz\n",
       "  project                             Patient.ID gender\n",
       "1 jeffrey.grover/pdxnet-pdmr-datapool 253994     Male  \n",
       "2 jeffrey.grover/pdxnet-pdmr-datapool 174316     Male  \n",
       "3 jeffrey.grover/pdxnet-pdmr-datapool 345371     Female\n",
       "4 jeffrey.grover/pdxnet-pdmr-datapool 417821     Male  \n",
       "5 jeffrey.grover/pdxnet-pdmr-datapool 594176     Male  \n",
       "6 jeffrey.grover/pdxnet-pdmr-datapool 283228     Male  \n",
       "  disease_type                   Capture.assembly sample_id               \n",
       "1 Colorectal cancer - NOS        hg19             253994                  \n",
       "2 Squamous cell carcinoma - skin hg19             174316--266-R--AD7I14   \n",
       "3 Salivary gland cancer          hg19             345371--062-R--P27PQ6   \n",
       "4 Squamous cell lung carcinoma   hg19             417821--307-R--TO3      \n",
       "5 Osteosarcoma                   hg19             594176--295-R--AL8      \n",
       "6 Melanoma                       hg19             283228--195-R--A04VW5UV9\n",
       "  PDMR.Version ⋯ Passage paired_end sample_type     platform      \n",
       "1 2_0_1_10_0   ⋯ NA      1          normal_germline Illumina HiSeq\n",
       "2 1_2          ⋯ P1      1          PDX             Illumina HiSeq\n",
       "3 1_2          ⋯ P1      2          PDX             Illumina HiSeq\n",
       "4 1_2          ⋯ P0      2          PDX             Illumina HiSeq\n",
       "5 1_2          ⋯ P0      2          PDX             Illumina HiSeq\n",
       "6 1_2          ⋯ P2      2          PDX             Illumina HiSeq\n",
       "  age_at_diagnosis Capture.kit                  case_id Specimen.ID\n",
       "1 50               SureSelect Human All Exon V5 253994  NA         \n",
       "2 83               SureSelect Human All Exon V5 174316  266-R      \n",
       "3 65               TruSeq RNA Access            345371  062-R      \n",
       "4 67               SureSelect Human All Exon V5 417821  307-R      \n",
       "5 72               SureSelect Human All Exon V5 594176  295-R      \n",
       "6 48               TruSeq RNA Access            283228  195-R      \n",
       "  experimental_strategy id                      \n",
       "1 WES                   5f43cd0be4b0bf4ad141bd5e\n",
       "2 WES                   5f43cd0be4b0bf4ad141bd27\n",
       "3 RNASEQ                5f43cd0be4b0bf4ad141bcde\n",
       "4 WES                   5f43cd0be4b0bf4ad141bce0\n",
       "5 WES                   5f43cd0be4b0bf4ad141bcdf\n",
       "6 RNASEQ                5f43cd0be4b0bf4ad141bcd8"
      ]
     },
     "metadata": {},
     "output_type": "display_data"
    }
   ],
   "source": [
    "pdmr_files <- read_csv('2022-02-09_pdxnet_portal_pdmr_files.csv')\n",
    "colnames(pdmr_files)[1] <- 'Index'\n",
    "nrow(pdmr_files)\n",
    "colnames(pdmr_files)\n",
    "\n",
    "head(pdmr_files)"
   ]
  },
  {
   "cell_type": "markdown",
   "id": "33b72f75-b8fd-4d6b-a1fd-c43e522dd3e7",
   "metadata": {},
   "source": [
    "### Get information on the missing metadata"
   ]
  },
  {
   "cell_type": "code",
   "execution_count": 5,
   "id": "bf7ac983-c709-4f3b-894a-2e0216d21188",
   "metadata": {},
   "outputs": [
    {
     "data": {
      "text/html": [
       "436"
      ],
      "text/latex": [
       "436"
      ],
      "text/markdown": [
       "436"
      ],
      "text/plain": [
       "[1] 436"
      ]
     },
     "metadata": {},
     "output_type": "display_data"
    }
   ],
   "source": [
    "pdtc_files_missing_gender <- pdtc_files %>% filter(is.na(gender))\n",
    "pdtc_files_missing_gender %>% nrow()"
   ]
  },
  {
   "cell_type": "code",
   "execution_count": 6,
   "id": "a7c54d83-a8cd-4c4b-b10d-8b7fb6e9fd12",
   "metadata": {},
   "outputs": [
    {
     "data": {
      "text/html": [
       "17"
      ],
      "text/latex": [
       "17"
      ],
      "text/markdown": [
       "17"
      ],
      "text/plain": [
       "[1] 17"
      ]
     },
     "metadata": {},
     "output_type": "display_data"
    }
   ],
   "source": [
    "pdtc_files_missing_paired_end <- pdtc_files %>% filter(is.na(paired_end))\n",
    "pdtc_files_missing_paired_end %>% nrow()"
   ]
  },
  {
   "cell_type": "code",
   "execution_count": 7,
   "id": "494c7ff9-54f3-4851-924b-1f9fde790a4b",
   "metadata": {},
   "outputs": [
    {
     "data": {
      "text/html": [
       "821"
      ],
      "text/latex": [
       "821"
      ],
      "text/markdown": [
       "821"
      ],
      "text/plain": [
       "[1] 821"
      ]
     },
     "metadata": {},
     "output_type": "display_data"
    }
   ],
   "source": [
    "pdtc_files_missing_capture_kit <- pdtc_files %>% filter((is.na(capture_kit) | (capture_kit == 'Unknown')))\n",
    "pdtc_files_missing_capture_kit %>% nrow()"
   ]
  },
  {
   "cell_type": "code",
   "execution_count": 8,
   "id": "b2e5ad03-f1be-4bd4-8355-c0fd684bdda3",
   "metadata": {},
   "outputs": [
    {
     "data": {
      "text/html": [
       "2205"
      ],
      "text/latex": [
       "2205"
      ],
      "text/markdown": [
       "2205"
      ],
      "text/plain": [
       "[1] 2205"
      ]
     },
     "metadata": {},
     "output_type": "display_data"
    }
   ],
   "source": [
    "pdtc_files_missing_capture_assembly <- pdtc_files %>% filter(is.na(capture_assembly))\n",
    "pdtc_files_missing_capture_assembly %>% nrow()"
   ]
  },
  {
   "cell_type": "code",
   "execution_count": 9,
   "id": "ba680c8d-a814-47c0-914e-d54c2a746f73",
   "metadata": {},
   "outputs": [
    {
     "data": {
      "text/html": [
       "1345"
      ],
      "text/latex": [
       "1345"
      ],
      "text/markdown": [
       "1345"
      ],
      "text/plain": [
       "[1] 1345"
      ]
     },
     "metadata": {},
     "output_type": "display_data"
    }
   ],
   "source": [
    "pdtc_files_missing_access_level <- pdtc_files %>% filter(is.na(access_level))\n",
    "pdtc_files_missing_access_level %>% nrow()"
   ]
  },
  {
   "cell_type": "code",
   "execution_count": 10,
   "id": "7dd4be3d-0f06-4d93-abab-7a669bacbb62",
   "metadata": {},
   "outputs": [
    {
     "data": {
      "text/html": [
       "2711"
      ],
      "text/latex": [
       "2711"
      ],
      "text/markdown": [
       "2711"
      ],
      "text/plain": [
       "[1] 2711"
      ]
     },
     "metadata": {},
     "output_type": "display_data"
    }
   ],
   "source": [
    "pdtc_files_missing_created_datetime <- pdtc_files %>% filter(is.na(created_datetime))\n",
    "pdtc_files_missing_created_datetime %>% nrow()"
   ]
  },
  {
   "cell_type": "code",
   "execution_count": 11,
   "id": "920f7d8e-348a-4a9f-aa41-bc29fc4537fe",
   "metadata": {},
   "outputs": [
    {
     "data": {
      "text/html": [
       "1345"
      ],
      "text/latex": [
       "1345"
      ],
      "text/markdown": [
       "1345"
      ],
      "text/plain": [
       "[1] 1345"
      ]
     },
     "metadata": {},
     "output_type": "display_data"
    }
   ],
   "source": [
    "pdtc_files_missing_data_category <- pdtc_files %>% filter(is.na(data_category))\n",
    "pdtc_files_missing_data_category %>% nrow()"
   ]
  },
  {
   "cell_type": "code",
   "execution_count": 12,
   "id": "94a032e1-8e35-4edd-995c-7b2aab631538",
   "metadata": {},
   "outputs": [
    {
     "data": {
      "text/html": [
       "1297"
      ],
      "text/latex": [
       "1297"
      ],
      "text/markdown": [
       "1297"
      ],
      "text/plain": [
       "[1] 1297"
      ]
     },
     "metadata": {},
     "output_type": "display_data"
    }
   ],
   "source": [
    "pdtc_files_missing_data_format <- pdtc_files %>% filter(is.na(data_format))\n",
    "pdtc_files_missing_data_format %>% nrow()"
   ]
  },
  {
   "cell_type": "code",
   "execution_count": 13,
   "id": "212caa8d-624e-4029-b4ca-5ee059db6129",
   "metadata": {},
   "outputs": [
    {
     "data": {
      "text/html": [
       "124"
      ],
      "text/latex": [
       "124"
      ],
      "text/markdown": [
       "124"
      ],
      "text/plain": [
       "[1] 124"
      ]
     },
     "metadata": {},
     "output_type": "display_data"
    }
   ],
   "source": [
    "pdtc_files_missing_platform <- pdtc_files %>% filter(is.na(platform))\n",
    "pdtc_files_missing_platform %>% nrow()"
   ]
  },
  {
   "cell_type": "code",
   "execution_count": 14,
   "id": "ec0207be-230e-47f5-8b64-fbbcd5ec01af",
   "metadata": {},
   "outputs": [
    {
     "data": {
      "text/html": [
       "2356"
      ],
      "text/latex": [
       "2356"
      ],
      "text/markdown": [
       "2356"
      ],
      "text/plain": [
       "[1] 2356"
      ]
     },
     "metadata": {},
     "output_type": "display_data"
    }
   ],
   "source": [
    "pdtc_files_missing_ffpe <- pdtc_files %>% filter(is.na(is_ffpe))\n",
    "pdtc_files_missing_ffpe %>% nrow()"
   ]
  },
  {
   "cell_type": "code",
   "execution_count": 15,
   "id": "c26cb8b3-8a7a-4f13-9e7c-891ae609a1a4",
   "metadata": {},
   "outputs": [
    {
     "data": {
      "text/html": [
       "1403"
      ],
      "text/latex": [
       "1403"
      ],
      "text/markdown": [
       "1403"
      ],
      "text/plain": [
       "[1] 1403"
      ]
     },
     "metadata": {},
     "output_type": "display_data"
    }
   ],
   "source": [
    "pdtc_files_missing_file_size <- pdtc_files %>% filter(is.na(file_size))\n",
    "pdtc_files_missing_file_size %>% nrow()"
   ]
  },
  {
   "cell_type": "code",
   "execution_count": 16,
   "id": "2e7f7822-d3b9-445e-afaf-9ae38ab1d268",
   "metadata": {},
   "outputs": [
    {
     "data": {
      "text/html": [
       "1631"
      ],
      "text/latex": [
       "1631"
      ],
      "text/markdown": [
       "1631"
      ],
      "text/plain": [
       "[1] 1631"
      ]
     },
     "metadata": {},
     "output_type": "display_data"
    }
   ],
   "source": [
    "pdtc_files_missing_passage <- pdtc_files %>% filter((is.na(passage) | (passage == '?')))\n",
    "pdtc_files_missing_passage %>% nrow()"
   ]
  },
  {
   "cell_type": "code",
   "execution_count": 17,
   "id": "023c5a8c-c121-4fb7-a53d-adf76de72d82",
   "metadata": {},
   "outputs": [
    {
     "data": {
      "text/html": [
       "515"
      ],
      "text/latex": [
       "515"
      ],
      "text/markdown": [
       "515"
      ],
      "text/plain": [
       "[1] 515"
      ]
     },
     "metadata": {},
     "output_type": "display_data"
    }
   ],
   "source": [
    "pdtc_files_missing_disease_type <- pdtc_files %>% filter((is.na(disease_type) | (disease_type == 'Unknown')))\n",
    "pdtc_files_missing_disease_type %>% nrow()"
   ]
  },
  {
   "cell_type": "code",
   "execution_count": 18,
   "id": "38a9a410-3178-4b67-a1c3-922908f291e5",
   "metadata": {},
   "outputs": [
    {
     "data": {
      "text/html": [
       "515"
      ],
      "text/latex": [
       "515"
      ],
      "text/markdown": [
       "515"
      ],
      "text/plain": [
       "[1] 515"
      ]
     },
     "metadata": {},
     "output_type": "display_data"
    }
   ],
   "source": [
    "pdtc_files_missing_disease_detail <- pdtc_files %>% filter((is.na(disease_detail) | (disease_detail == 'Unknown')))\n",
    "pdtc_files_missing_disease_detail %>% nrow()"
   ]
  },
  {
   "cell_type": "markdown",
   "id": "54fac853-6ca8-4943-9c32-df15c544f252",
   "metadata": {},
   "source": [
    "### Starting with cram files that shouldn't be in there"
   ]
  },
  {
   "cell_type": "code",
   "execution_count": 19,
   "id": "99a07bd5-0f83-4f67-af23-949953c37f3f",
   "metadata": {},
   "outputs": [
    {
     "data": {
      "text/html": [
       "<table class=\"dataframe\">\n",
       "<caption>A spec_tbl_df: 3 × 29</caption>\n",
       "<thead>\n",
       "\t<tr><th scope=col>Index</th><th scope=col>contributor</th><th scope=col>file_name</th><th scope=col>patient_id</th><th scope=col>model_id</th><th scope=col>tumor_id</th><th scope=col>case_id</th><th scope=col>sample_id</th><th scope=col>sample_type</th><th scope=col>experimental_strategy</th><th scope=col>⋯</th><th scope=col>data_format</th><th scope=col>data_type</th><th scope=col>platform</th><th scope=col>is_ffpe</th><th scope=col>file_size</th><th scope=col>passage</th><th scope=col>disease_type</th><th scope=col>comment</th><th scope=col>investigation</th><th scope=col>disease_detail</th></tr>\n",
       "\t<tr><th scope=col>&lt;dbl&gt;</th><th scope=col>&lt;chr&gt;</th><th scope=col>&lt;chr&gt;</th><th scope=col>&lt;chr&gt;</th><th scope=col>&lt;chr&gt;</th><th scope=col>&lt;chr&gt;</th><th scope=col>&lt;chr&gt;</th><th scope=col>&lt;chr&gt;</th><th scope=col>&lt;chr&gt;</th><th scope=col>&lt;chr&gt;</th><th scope=col>⋯</th><th scope=col>&lt;chr&gt;</th><th scope=col>&lt;chr&gt;</th><th scope=col>&lt;chr&gt;</th><th scope=col>&lt;lgl&gt;</th><th scope=col>&lt;dbl&gt;</th><th scope=col>&lt;chr&gt;</th><th scope=col>&lt;chr&gt;</th><th scope=col>&lt;chr&gt;</th><th scope=col>&lt;lgl&gt;</th><th scope=col>&lt;chr&gt;</th></tr>\n",
       "</thead>\n",
       "<tbody>\n",
       "\t<tr><td>1948</td><td>WUSTL</td><td>172845-121-T_SL.exome.cram</td><td>PDMR-172845</td><td>172845-121-T_SL</td><td>121-T</td><td>PDMR-172845</td><td>172845-121-T_SL</td><td>PDX</td><td>WES</td><td>⋯</td><td>cram</td><td>Aligned Reads</td><td>NovaSeq S4</td><td>NA</td><td>1681781885</td><td>P3</td><td>Unknown</td><td>NA</td><td>NA</td><td>Unknown</td></tr>\n",
       "\t<tr><td>1953</td><td>WUSTL</td><td>625472-104-R_SL.exome.cram</td><td>PDMR-625472</td><td>625472-104-R_SL</td><td>104-R</td><td>PDMR-625472</td><td>625472-104-R_SL</td><td>PDX</td><td>WES</td><td>⋯</td><td>cram</td><td>Aligned Reads</td><td>NovaSeq S4</td><td>NA</td><td>1391091034</td><td>P2</td><td>Unknown</td><td>NA</td><td>NA</td><td>Unknown</td></tr>\n",
       "\t<tr><td>1958</td><td>WUSTL</td><td>BL0293-F563_SL.exome.cram </td><td>PDMR-BL0293</td><td>BL0293-F563_SL </td><td>F563 </td><td>PDMR-BL0293</td><td>BL0293-F563_SL </td><td>PDX</td><td>WES</td><td>⋯</td><td>cram</td><td>Aligned Reads</td><td>NovaSeq S4</td><td>NA</td><td>2398860885</td><td>P5</td><td>Unknown</td><td>NA</td><td>NA</td><td>Unknown</td></tr>\n",
       "</tbody>\n",
       "</table>\n"
      ],
      "text/latex": [
       "A spec\\_tbl\\_df: 3 × 29\n",
       "\\begin{tabular}{lllllllllllllllllllll}\n",
       " Index & contributor & file\\_name & patient\\_id & model\\_id & tumor\\_id & case\\_id & sample\\_id & sample\\_type & experimental\\_strategy & ⋯ & data\\_format & data\\_type & platform & is\\_ffpe & file\\_size & passage & disease\\_type & comment & investigation & disease\\_detail\\\\\n",
       " <dbl> & <chr> & <chr> & <chr> & <chr> & <chr> & <chr> & <chr> & <chr> & <chr> & ⋯ & <chr> & <chr> & <chr> & <lgl> & <dbl> & <chr> & <chr> & <chr> & <lgl> & <chr>\\\\\n",
       "\\hline\n",
       "\t 1948 & WUSTL & 172845-121-T\\_SL.exome.cram & PDMR-172845 & 172845-121-T\\_SL & 121-T & PDMR-172845 & 172845-121-T\\_SL & PDX & WES & ⋯ & cram & Aligned Reads & NovaSeq S4 & NA & 1681781885 & P3 & Unknown & NA & NA & Unknown\\\\\n",
       "\t 1953 & WUSTL & 625472-104-R\\_SL.exome.cram & PDMR-625472 & 625472-104-R\\_SL & 104-R & PDMR-625472 & 625472-104-R\\_SL & PDX & WES & ⋯ & cram & Aligned Reads & NovaSeq S4 & NA & 1391091034 & P2 & Unknown & NA & NA & Unknown\\\\\n",
       "\t 1958 & WUSTL & BL0293-F563\\_SL.exome.cram  & PDMR-BL0293 & BL0293-F563\\_SL  & F563  & PDMR-BL0293 & BL0293-F563\\_SL  & PDX & WES & ⋯ & cram & Aligned Reads & NovaSeq S4 & NA & 2398860885 & P5 & Unknown & NA & NA & Unknown\\\\\n",
       "\\end{tabular}\n"
      ],
      "text/markdown": [
       "\n",
       "A spec_tbl_df: 3 × 29\n",
       "\n",
       "| Index &lt;dbl&gt; | contributor &lt;chr&gt; | file_name &lt;chr&gt; | patient_id &lt;chr&gt; | model_id &lt;chr&gt; | tumor_id &lt;chr&gt; | case_id &lt;chr&gt; | sample_id &lt;chr&gt; | sample_type &lt;chr&gt; | experimental_strategy &lt;chr&gt; | ⋯ ⋯ | data_format &lt;chr&gt; | data_type &lt;chr&gt; | platform &lt;chr&gt; | is_ffpe &lt;lgl&gt; | file_size &lt;dbl&gt; | passage &lt;chr&gt; | disease_type &lt;chr&gt; | comment &lt;chr&gt; | investigation &lt;lgl&gt; | disease_detail &lt;chr&gt; |\n",
       "|---|---|---|---|---|---|---|---|---|---|---|---|---|---|---|---|---|---|---|---|---|\n",
       "| 1948 | WUSTL | 172845-121-T_SL.exome.cram | PDMR-172845 | 172845-121-T_SL | 121-T | PDMR-172845 | 172845-121-T_SL | PDX | WES | ⋯ | cram | Aligned Reads | NovaSeq S4 | NA | 1681781885 | P3 | Unknown | NA | NA | Unknown |\n",
       "| 1953 | WUSTL | 625472-104-R_SL.exome.cram | PDMR-625472 | 625472-104-R_SL | 104-R | PDMR-625472 | 625472-104-R_SL | PDX | WES | ⋯ | cram | Aligned Reads | NovaSeq S4 | NA | 1391091034 | P2 | Unknown | NA | NA | Unknown |\n",
       "| 1958 | WUSTL | BL0293-F563_SL.exome.cram  | PDMR-BL0293 | BL0293-F563_SL  | F563  | PDMR-BL0293 | BL0293-F563_SL  | PDX | WES | ⋯ | cram | Aligned Reads | NovaSeq S4 | NA | 2398860885 | P5 | Unknown | NA | NA | Unknown |\n",
       "\n"
      ],
      "text/plain": [
       "  Index contributor file_name                  patient_id  model_id       \n",
       "1 1948  WUSTL       172845-121-T_SL.exome.cram PDMR-172845 172845-121-T_SL\n",
       "2 1953  WUSTL       625472-104-R_SL.exome.cram PDMR-625472 625472-104-R_SL\n",
       "3 1958  WUSTL       BL0293-F563_SL.exome.cram  PDMR-BL0293 BL0293-F563_SL \n",
       "  tumor_id case_id     sample_id       sample_type experimental_strategy ⋯\n",
       "1 121-T    PDMR-172845 172845-121-T_SL PDX         WES                   ⋯\n",
       "2 104-R    PDMR-625472 625472-104-R_SL PDX         WES                   ⋯\n",
       "3 F563     PDMR-BL0293 BL0293-F563_SL  PDX         WES                   ⋯\n",
       "  data_format data_type     platform   is_ffpe file_size  passage disease_type\n",
       "1 cram        Aligned Reads NovaSeq S4 NA      1681781885 P3      Unknown     \n",
       "2 cram        Aligned Reads NovaSeq S4 NA      1391091034 P2      Unknown     \n",
       "3 cram        Aligned Reads NovaSeq S4 NA      2398860885 P5      Unknown     \n",
       "  comment investigation disease_detail\n",
       "1 NA      NA            Unknown       \n",
       "2 NA      NA            Unknown       \n",
       "3 NA      NA            Unknown       "
      ]
     },
     "metadata": {},
     "output_type": "display_data"
    }
   ],
   "source": [
    "# There are some CRAM files in here for no good reason\n",
    "# I thought these had been removed?\n",
    "\n",
    "pdtc_cram_files <- pdtc_files %>% filter(data_format == 'cram')\n",
    "\n",
    "pdtc_cram_files"
   ]
  },
  {
   "cell_type": "markdown",
   "id": "7232ef8e-8f82-4d37-8aaf-c3857dbd6fdd",
   "metadata": {},
   "source": [
    "These should not be in there, and a quick search through the CGC shows that we have these as fastq files. So, we should replace them with the fastq versions."
   ]
  },
  {
   "cell_type": "code",
   "execution_count": 20,
   "id": "1a52e763-ba44-42aa-9e28-ac89daaff1c2",
   "metadata": {},
   "outputs": [
    {
     "name": "stderr",
     "output_type": "stream",
     "text": [
      "\u001b[1mRows: \u001b[22m\u001b[34m6\u001b[39m \u001b[1mColumns: \u001b[22m\u001b[34m64\u001b[39m\n",
      "\n",
      "\u001b[36m──\u001b[39m \u001b[1mColumn specification\u001b[22m \u001b[36m──────────────────────────────────────────────────────────────────────────────────────────────────────────────────────────────────────────────────────────────────────────────────────────────────────────────────────\u001b[39m\n",
      "\u001b[1mDelimiter:\u001b[22m \",\"\n",
      "\u001b[31mchr\u001b[39m (11): id, name, project, sample_id, sample_type, case_id, Generalized_Sa...\n",
      "\u001b[32mdbl\u001b[39m  (2): size, paired_end\n",
      "\u001b[33mlgl\u001b[39m (51): trimmed_read_count, p1_1, Is FFPE, passage, prop_ribosomal_bases, ...\n",
      "\n",
      "\n",
      "\u001b[36mℹ\u001b[39m Use \u001b[30m\u001b[47m\u001b[30m\u001b[47m`spec()`\u001b[47m\u001b[30m\u001b[49m\u001b[39m to retrieve the full column specification for this data.\n",
      "\u001b[36mℹ\u001b[39m Specify the column types or set \u001b[30m\u001b[47m\u001b[30m\u001b[47m`show_col_types = FALSE`\u001b[47m\u001b[30m\u001b[49m\u001b[39m to quiet this message.\n",
      "\n"
     ]
    },
    {
     "data": {
      "text/html": [
       "<table class=\"dataframe\">\n",
       "<caption>A spec_tbl_df: 6 × 64</caption>\n",
       "<thead>\n",
       "\t<tr><th scope=col>id</th><th scope=col>name</th><th scope=col>size</th><th scope=col>project</th><th scope=col>trimmed_read_count</th><th scope=col>p1_1</th><th scope=col>Is FFPE</th><th scope=col>passage</th><th scope=col>sample_id</th><th scope=col>prop_ribosomal_bases</th><th scope=col>⋯</th><th scope=col>dbgap_upload</th><th scope=col>model_id</th><th scope=col>paired_end</th><th scope=col>__inherit__</th><th scope=col>update_manifest</th><th scope=col>species</th><th scope=col>tumor_id</th><th scope=col>investigation</th><th scope=col>prop_20x_cov</th><th scope=col>experimental_strategy</th></tr>\n",
       "\t<tr><th scope=col>&lt;chr&gt;</th><th scope=col>&lt;chr&gt;</th><th scope=col>&lt;dbl&gt;</th><th scope=col>&lt;chr&gt;</th><th scope=col>&lt;lgl&gt;</th><th scope=col>&lt;lgl&gt;</th><th scope=col>&lt;lgl&gt;</th><th scope=col>&lt;lgl&gt;</th><th scope=col>&lt;chr&gt;</th><th scope=col>&lt;lgl&gt;</th><th scope=col>⋯</th><th scope=col>&lt;lgl&gt;</th><th scope=col>&lt;lgl&gt;</th><th scope=col>&lt;dbl&gt;</th><th scope=col>&lt;lgl&gt;</th><th scope=col>&lt;lgl&gt;</th><th scope=col>&lt;lgl&gt;</th><th scope=col>&lt;lgl&gt;</th><th scope=col>&lt;lgl&gt;</th><th scope=col>&lt;lgl&gt;</th><th scope=col>&lt;chr&gt;</th></tr>\n",
       "</thead>\n",
       "<tbody>\n",
       "\t<tr><td>5d891ad1e4b06d0cb4926ad8</td><td>172845-121-T.pe_1.fastq.paired.fq</td><td>16296437319</td><td>pdxnet/pdxnet-datapool</td><td>NA</td><td>NA</td><td>NA</td><td>NA</td><td>172845-121-T_SL</td><td>NA</td><td>⋯</td><td>NA</td><td>NA</td><td>1</td><td>NA</td><td>NA</td><td>NA</td><td>NA</td><td>NA</td><td>NA</td><td>WES</td></tr>\n",
       "\t<tr><td>5d891ad1e4b06d0cb4926ad6</td><td>172845-121-T.pe_2.fastq.paired.fq</td><td>16296437319</td><td>pdxnet/pdxnet-datapool</td><td>NA</td><td>NA</td><td>NA</td><td>NA</td><td>172845-121-T_SL</td><td>NA</td><td>⋯</td><td>NA</td><td>NA</td><td>2</td><td>NA</td><td>NA</td><td>NA</td><td>NA</td><td>NA</td><td>NA</td><td>WES</td></tr>\n",
       "\t<tr><td>5d8911f4e4b065d300c6a152</td><td>625472-104-R.pe_1.fastq.paired.fq</td><td>12612746052</td><td>pdxnet/pdxnet-datapool</td><td>NA</td><td>NA</td><td>NA</td><td>NA</td><td>625472-104-R_SL</td><td>NA</td><td>⋯</td><td>NA</td><td>NA</td><td>1</td><td>NA</td><td>NA</td><td>NA</td><td>NA</td><td>NA</td><td>NA</td><td>WES</td></tr>\n",
       "\t<tr><td>5d8911f4e4b065d300c6a154</td><td>625472-104-R.pe_2.fastq.paired.fq</td><td>12612746052</td><td>pdxnet/pdxnet-datapool</td><td>NA</td><td>NA</td><td>NA</td><td>NA</td><td>625472-104-R_SL</td><td>NA</td><td>⋯</td><td>NA</td><td>NA</td><td>2</td><td>NA</td><td>NA</td><td>NA</td><td>NA</td><td>NA</td><td>NA</td><td>WES</td></tr>\n",
       "\t<tr><td>5d89259ee4b065d300c6e80b</td><td>BL0293-F563.pe_1.fastq.paired.fq </td><td>21889170246</td><td>pdxnet/pdxnet-datapool</td><td>NA</td><td>NA</td><td>NA</td><td>NA</td><td>BL0293-F563_SL </td><td>NA</td><td>⋯</td><td>NA</td><td>NA</td><td>1</td><td>NA</td><td>NA</td><td>NA</td><td>NA</td><td>NA</td><td>NA</td><td>WES</td></tr>\n",
       "\t<tr><td>5d89259ee4b065d300c6e80d</td><td>BL0293-F563.pe_2.fastq.paired.fq </td><td>21889170246</td><td>pdxnet/pdxnet-datapool</td><td>NA</td><td>NA</td><td>NA</td><td>NA</td><td>BL0293-F563_SL </td><td>NA</td><td>⋯</td><td>NA</td><td>NA</td><td>2</td><td>NA</td><td>NA</td><td>NA</td><td>NA</td><td>NA</td><td>NA</td><td>WES</td></tr>\n",
       "</tbody>\n",
       "</table>\n"
      ],
      "text/latex": [
       "A spec\\_tbl\\_df: 6 × 64\n",
       "\\begin{tabular}{lllllllllllllllllllll}\n",
       " id & name & size & project & trimmed\\_read\\_count & p1\\_1 & Is FFPE & passage & sample\\_id & prop\\_ribosomal\\_bases & ⋯ & dbgap\\_upload & model\\_id & paired\\_end & \\_\\_inherit\\_\\_ & update\\_manifest & species & tumor\\_id & investigation & prop\\_20x\\_cov & experimental\\_strategy\\\\\n",
       " <chr> & <chr> & <dbl> & <chr> & <lgl> & <lgl> & <lgl> & <lgl> & <chr> & <lgl> & ⋯ & <lgl> & <lgl> & <dbl> & <lgl> & <lgl> & <lgl> & <lgl> & <lgl> & <lgl> & <chr>\\\\\n",
       "\\hline\n",
       "\t 5d891ad1e4b06d0cb4926ad8 & 172845-121-T.pe\\_1.fastq.paired.fq & 16296437319 & pdxnet/pdxnet-datapool & NA & NA & NA & NA & 172845-121-T\\_SL & NA & ⋯ & NA & NA & 1 & NA & NA & NA & NA & NA & NA & WES\\\\\n",
       "\t 5d891ad1e4b06d0cb4926ad6 & 172845-121-T.pe\\_2.fastq.paired.fq & 16296437319 & pdxnet/pdxnet-datapool & NA & NA & NA & NA & 172845-121-T\\_SL & NA & ⋯ & NA & NA & 2 & NA & NA & NA & NA & NA & NA & WES\\\\\n",
       "\t 5d8911f4e4b065d300c6a152 & 625472-104-R.pe\\_1.fastq.paired.fq & 12612746052 & pdxnet/pdxnet-datapool & NA & NA & NA & NA & 625472-104-R\\_SL & NA & ⋯ & NA & NA & 1 & NA & NA & NA & NA & NA & NA & WES\\\\\n",
       "\t 5d8911f4e4b065d300c6a154 & 625472-104-R.pe\\_2.fastq.paired.fq & 12612746052 & pdxnet/pdxnet-datapool & NA & NA & NA & NA & 625472-104-R\\_SL & NA & ⋯ & NA & NA & 2 & NA & NA & NA & NA & NA & NA & WES\\\\\n",
       "\t 5d89259ee4b065d300c6e80b & BL0293-F563.pe\\_1.fastq.paired.fq  & 21889170246 & pdxnet/pdxnet-datapool & NA & NA & NA & NA & BL0293-F563\\_SL  & NA & ⋯ & NA & NA & 1 & NA & NA & NA & NA & NA & NA & WES\\\\\n",
       "\t 5d89259ee4b065d300c6e80d & BL0293-F563.pe\\_2.fastq.paired.fq  & 21889170246 & pdxnet/pdxnet-datapool & NA & NA & NA & NA & BL0293-F563\\_SL  & NA & ⋯ & NA & NA & 2 & NA & NA & NA & NA & NA & NA & WES\\\\\n",
       "\\end{tabular}\n"
      ],
      "text/markdown": [
       "\n",
       "A spec_tbl_df: 6 × 64\n",
       "\n",
       "| id &lt;chr&gt; | name &lt;chr&gt; | size &lt;dbl&gt; | project &lt;chr&gt; | trimmed_read_count &lt;lgl&gt; | p1_1 &lt;lgl&gt; | Is FFPE &lt;lgl&gt; | passage &lt;lgl&gt; | sample_id &lt;chr&gt; | prop_ribosomal_bases &lt;lgl&gt; | ⋯ ⋯ | dbgap_upload &lt;lgl&gt; | model_id &lt;lgl&gt; | paired_end &lt;dbl&gt; | __inherit__ &lt;lgl&gt; | update_manifest &lt;lgl&gt; | species &lt;lgl&gt; | tumor_id &lt;lgl&gt; | investigation &lt;lgl&gt; | prop_20x_cov &lt;lgl&gt; | experimental_strategy &lt;chr&gt; |\n",
       "|---|---|---|---|---|---|---|---|---|---|---|---|---|---|---|---|---|---|---|---|---|\n",
       "| 5d891ad1e4b06d0cb4926ad8 | 172845-121-T.pe_1.fastq.paired.fq | 16296437319 | pdxnet/pdxnet-datapool | NA | NA | NA | NA | 172845-121-T_SL | NA | ⋯ | NA | NA | 1 | NA | NA | NA | NA | NA | NA | WES |\n",
       "| 5d891ad1e4b06d0cb4926ad6 | 172845-121-T.pe_2.fastq.paired.fq | 16296437319 | pdxnet/pdxnet-datapool | NA | NA | NA | NA | 172845-121-T_SL | NA | ⋯ | NA | NA | 2 | NA | NA | NA | NA | NA | NA | WES |\n",
       "| 5d8911f4e4b065d300c6a152 | 625472-104-R.pe_1.fastq.paired.fq | 12612746052 | pdxnet/pdxnet-datapool | NA | NA | NA | NA | 625472-104-R_SL | NA | ⋯ | NA | NA | 1 | NA | NA | NA | NA | NA | NA | WES |\n",
       "| 5d8911f4e4b065d300c6a154 | 625472-104-R.pe_2.fastq.paired.fq | 12612746052 | pdxnet/pdxnet-datapool | NA | NA | NA | NA | 625472-104-R_SL | NA | ⋯ | NA | NA | 2 | NA | NA | NA | NA | NA | NA | WES |\n",
       "| 5d89259ee4b065d300c6e80b | BL0293-F563.pe_1.fastq.paired.fq  | 21889170246 | pdxnet/pdxnet-datapool | NA | NA | NA | NA | BL0293-F563_SL  | NA | ⋯ | NA | NA | 1 | NA | NA | NA | NA | NA | NA | WES |\n",
       "| 5d89259ee4b065d300c6e80d | BL0293-F563.pe_2.fastq.paired.fq  | 21889170246 | pdxnet/pdxnet-datapool | NA | NA | NA | NA | BL0293-F563_SL  | NA | ⋯ | NA | NA | 2 | NA | NA | NA | NA | NA | NA | WES |\n",
       "\n"
      ],
      "text/plain": [
       "  id                       name                              size       \n",
       "1 5d891ad1e4b06d0cb4926ad8 172845-121-T.pe_1.fastq.paired.fq 16296437319\n",
       "2 5d891ad1e4b06d0cb4926ad6 172845-121-T.pe_2.fastq.paired.fq 16296437319\n",
       "3 5d8911f4e4b065d300c6a152 625472-104-R.pe_1.fastq.paired.fq 12612746052\n",
       "4 5d8911f4e4b065d300c6a154 625472-104-R.pe_2.fastq.paired.fq 12612746052\n",
       "5 5d89259ee4b065d300c6e80b BL0293-F563.pe_1.fastq.paired.fq  21889170246\n",
       "6 5d89259ee4b065d300c6e80d BL0293-F563.pe_2.fastq.paired.fq  21889170246\n",
       "  project                trimmed_read_count p1_1 Is FFPE passage\n",
       "1 pdxnet/pdxnet-datapool NA                 NA   NA      NA     \n",
       "2 pdxnet/pdxnet-datapool NA                 NA   NA      NA     \n",
       "3 pdxnet/pdxnet-datapool NA                 NA   NA      NA     \n",
       "4 pdxnet/pdxnet-datapool NA                 NA   NA      NA     \n",
       "5 pdxnet/pdxnet-datapool NA                 NA   NA      NA     \n",
       "6 pdxnet/pdxnet-datapool NA                 NA   NA      NA     \n",
       "  sample_id       prop_ribosomal_bases ⋯ dbgap_upload model_id paired_end\n",
       "1 172845-121-T_SL NA                   ⋯ NA           NA       1         \n",
       "2 172845-121-T_SL NA                   ⋯ NA           NA       2         \n",
       "3 625472-104-R_SL NA                   ⋯ NA           NA       1         \n",
       "4 625472-104-R_SL NA                   ⋯ NA           NA       2         \n",
       "5 BL0293-F563_SL  NA                   ⋯ NA           NA       1         \n",
       "6 BL0293-F563_SL  NA                   ⋯ NA           NA       2         \n",
       "  __inherit__ update_manifest species tumor_id investigation prop_20x_cov\n",
       "1 NA          NA              NA      NA       NA            NA          \n",
       "2 NA          NA              NA      NA       NA            NA          \n",
       "3 NA          NA              NA      NA       NA            NA          \n",
       "4 NA          NA              NA      NA       NA            NA          \n",
       "5 NA          NA              NA      NA       NA            NA          \n",
       "6 NA          NA              NA      NA       NA            NA          \n",
       "  experimental_strategy\n",
       "1 WES                  \n",
       "2 WES                  \n",
       "3 WES                  \n",
       "4 WES                  \n",
       "5 WES                  \n",
       "6 WES                  "
      ]
     },
     "metadata": {},
     "output_type": "display_data"
    }
   ],
   "source": [
    "# Create a small table to replace these with fastqs by first loading in a small manifest\n",
    "\n",
    "wustl_cram_converted_fastqs <- read_csv('manifest_20220209_155256_wustl_converted_cram_fastq.csv') %>% mutate(name = basename(name))\n",
    "\n",
    "wustl_cram_converted_fastqs"
   ]
  },
  {
   "cell_type": "code",
   "execution_count": 21,
   "id": "aa30f48d-0fdf-4c40-956c-f07c52092f18",
   "metadata": {},
   "outputs": [
    {
     "data": {
      "text/html": [
       "<table class=\"dataframe\">\n",
       "<caption>A tibble: 6 × 29</caption>\n",
       "<thead>\n",
       "\t<tr><th scope=col>Index</th><th scope=col>contributor</th><th scope=col>file_name</th><th scope=col>patient_id</th><th scope=col>model_id</th><th scope=col>tumor_id</th><th scope=col>case_id</th><th scope=col>sample_id</th><th scope=col>sample_type</th><th scope=col>experimental_strategy</th><th scope=col>⋯</th><th scope=col>data_format</th><th scope=col>data_type</th><th scope=col>platform</th><th scope=col>is_ffpe</th><th scope=col>file_size</th><th scope=col>passage</th><th scope=col>disease_type</th><th scope=col>comment</th><th scope=col>investigation</th><th scope=col>disease_detail</th></tr>\n",
       "\t<tr><th scope=col>&lt;dbl&gt;</th><th scope=col>&lt;chr&gt;</th><th scope=col>&lt;chr&gt;</th><th scope=col>&lt;chr&gt;</th><th scope=col>&lt;chr&gt;</th><th scope=col>&lt;chr&gt;</th><th scope=col>&lt;chr&gt;</th><th scope=col>&lt;chr&gt;</th><th scope=col>&lt;chr&gt;</th><th scope=col>&lt;chr&gt;</th><th scope=col>⋯</th><th scope=col>&lt;chr&gt;</th><th scope=col>&lt;chr&gt;</th><th scope=col>&lt;chr&gt;</th><th scope=col>&lt;lgl&gt;</th><th scope=col>&lt;dbl&gt;</th><th scope=col>&lt;chr&gt;</th><th scope=col>&lt;chr&gt;</th><th scope=col>&lt;chr&gt;</th><th scope=col>&lt;lgl&gt;</th><th scope=col>&lt;chr&gt;</th></tr>\n",
       "</thead>\n",
       "<tbody>\n",
       "\t<tr><td>1948</td><td>WUSTL</td><td>172845-121-T_SL.exome.cram</td><td>PDMR-172845</td><td>172845-121-T_SL</td><td>121-T</td><td>PDMR-172845</td><td>172845-121-T_SL</td><td>PDX</td><td>WES</td><td>⋯</td><td>cram</td><td>Aligned Reads</td><td>NovaSeq S4</td><td>NA</td><td>1681781885</td><td>P3</td><td>Unknown</td><td>NA</td><td>NA</td><td>Unknown</td></tr>\n",
       "\t<tr><td>1948</td><td>WUSTL</td><td>172845-121-T_SL.exome.cram</td><td>PDMR-172845</td><td>172845-121-T_SL</td><td>121-T</td><td>PDMR-172845</td><td>172845-121-T_SL</td><td>PDX</td><td>WES</td><td>⋯</td><td>cram</td><td>Aligned Reads</td><td>NovaSeq S4</td><td>NA</td><td>1681781885</td><td>P3</td><td>Unknown</td><td>NA</td><td>NA</td><td>Unknown</td></tr>\n",
       "\t<tr><td>1953</td><td>WUSTL</td><td>625472-104-R_SL.exome.cram</td><td>PDMR-625472</td><td>625472-104-R_SL</td><td>104-R</td><td>PDMR-625472</td><td>625472-104-R_SL</td><td>PDX</td><td>WES</td><td>⋯</td><td>cram</td><td>Aligned Reads</td><td>NovaSeq S4</td><td>NA</td><td>1391091034</td><td>P2</td><td>Unknown</td><td>NA</td><td>NA</td><td>Unknown</td></tr>\n",
       "\t<tr><td>1953</td><td>WUSTL</td><td>625472-104-R_SL.exome.cram</td><td>PDMR-625472</td><td>625472-104-R_SL</td><td>104-R</td><td>PDMR-625472</td><td>625472-104-R_SL</td><td>PDX</td><td>WES</td><td>⋯</td><td>cram</td><td>Aligned Reads</td><td>NovaSeq S4</td><td>NA</td><td>1391091034</td><td>P2</td><td>Unknown</td><td>NA</td><td>NA</td><td>Unknown</td></tr>\n",
       "\t<tr><td>1958</td><td>WUSTL</td><td>BL0293-F563_SL.exome.cram </td><td>PDMR-BL0293</td><td>BL0293-F563_SL </td><td>F563 </td><td>PDMR-BL0293</td><td>BL0293-F563_SL </td><td>PDX</td><td>WES</td><td>⋯</td><td>cram</td><td>Aligned Reads</td><td>NovaSeq S4</td><td>NA</td><td>2398860885</td><td>P5</td><td>Unknown</td><td>NA</td><td>NA</td><td>Unknown</td></tr>\n",
       "\t<tr><td>1958</td><td>WUSTL</td><td>BL0293-F563_SL.exome.cram </td><td>PDMR-BL0293</td><td>BL0293-F563_SL </td><td>F563 </td><td>PDMR-BL0293</td><td>BL0293-F563_SL </td><td>PDX</td><td>WES</td><td>⋯</td><td>cram</td><td>Aligned Reads</td><td>NovaSeq S4</td><td>NA</td><td>2398860885</td><td>P5</td><td>Unknown</td><td>NA</td><td>NA</td><td>Unknown</td></tr>\n",
       "</tbody>\n",
       "</table>\n"
      ],
      "text/latex": [
       "A tibble: 6 × 29\n",
       "\\begin{tabular}{lllllllllllllllllllll}\n",
       " Index & contributor & file\\_name & patient\\_id & model\\_id & tumor\\_id & case\\_id & sample\\_id & sample\\_type & experimental\\_strategy & ⋯ & data\\_format & data\\_type & platform & is\\_ffpe & file\\_size & passage & disease\\_type & comment & investigation & disease\\_detail\\\\\n",
       " <dbl> & <chr> & <chr> & <chr> & <chr> & <chr> & <chr> & <chr> & <chr> & <chr> & ⋯ & <chr> & <chr> & <chr> & <lgl> & <dbl> & <chr> & <chr> & <chr> & <lgl> & <chr>\\\\\n",
       "\\hline\n",
       "\t 1948 & WUSTL & 172845-121-T\\_SL.exome.cram & PDMR-172845 & 172845-121-T\\_SL & 121-T & PDMR-172845 & 172845-121-T\\_SL & PDX & WES & ⋯ & cram & Aligned Reads & NovaSeq S4 & NA & 1681781885 & P3 & Unknown & NA & NA & Unknown\\\\\n",
       "\t 1948 & WUSTL & 172845-121-T\\_SL.exome.cram & PDMR-172845 & 172845-121-T\\_SL & 121-T & PDMR-172845 & 172845-121-T\\_SL & PDX & WES & ⋯ & cram & Aligned Reads & NovaSeq S4 & NA & 1681781885 & P3 & Unknown & NA & NA & Unknown\\\\\n",
       "\t 1953 & WUSTL & 625472-104-R\\_SL.exome.cram & PDMR-625472 & 625472-104-R\\_SL & 104-R & PDMR-625472 & 625472-104-R\\_SL & PDX & WES & ⋯ & cram & Aligned Reads & NovaSeq S4 & NA & 1391091034 & P2 & Unknown & NA & NA & Unknown\\\\\n",
       "\t 1953 & WUSTL & 625472-104-R\\_SL.exome.cram & PDMR-625472 & 625472-104-R\\_SL & 104-R & PDMR-625472 & 625472-104-R\\_SL & PDX & WES & ⋯ & cram & Aligned Reads & NovaSeq S4 & NA & 1391091034 & P2 & Unknown & NA & NA & Unknown\\\\\n",
       "\t 1958 & WUSTL & BL0293-F563\\_SL.exome.cram  & PDMR-BL0293 & BL0293-F563\\_SL  & F563  & PDMR-BL0293 & BL0293-F563\\_SL  & PDX & WES & ⋯ & cram & Aligned Reads & NovaSeq S4 & NA & 2398860885 & P5 & Unknown & NA & NA & Unknown\\\\\n",
       "\t 1958 & WUSTL & BL0293-F563\\_SL.exome.cram  & PDMR-BL0293 & BL0293-F563\\_SL  & F563  & PDMR-BL0293 & BL0293-F563\\_SL  & PDX & WES & ⋯ & cram & Aligned Reads & NovaSeq S4 & NA & 2398860885 & P5 & Unknown & NA & NA & Unknown\\\\\n",
       "\\end{tabular}\n"
      ],
      "text/markdown": [
       "\n",
       "A tibble: 6 × 29\n",
       "\n",
       "| Index &lt;dbl&gt; | contributor &lt;chr&gt; | file_name &lt;chr&gt; | patient_id &lt;chr&gt; | model_id &lt;chr&gt; | tumor_id &lt;chr&gt; | case_id &lt;chr&gt; | sample_id &lt;chr&gt; | sample_type &lt;chr&gt; | experimental_strategy &lt;chr&gt; | ⋯ ⋯ | data_format &lt;chr&gt; | data_type &lt;chr&gt; | platform &lt;chr&gt; | is_ffpe &lt;lgl&gt; | file_size &lt;dbl&gt; | passage &lt;chr&gt; | disease_type &lt;chr&gt; | comment &lt;chr&gt; | investigation &lt;lgl&gt; | disease_detail &lt;chr&gt; |\n",
       "|---|---|---|---|---|---|---|---|---|---|---|---|---|---|---|---|---|---|---|---|---|\n",
       "| 1948 | WUSTL | 172845-121-T_SL.exome.cram | PDMR-172845 | 172845-121-T_SL | 121-T | PDMR-172845 | 172845-121-T_SL | PDX | WES | ⋯ | cram | Aligned Reads | NovaSeq S4 | NA | 1681781885 | P3 | Unknown | NA | NA | Unknown |\n",
       "| 1948 | WUSTL | 172845-121-T_SL.exome.cram | PDMR-172845 | 172845-121-T_SL | 121-T | PDMR-172845 | 172845-121-T_SL | PDX | WES | ⋯ | cram | Aligned Reads | NovaSeq S4 | NA | 1681781885 | P3 | Unknown | NA | NA | Unknown |\n",
       "| 1953 | WUSTL | 625472-104-R_SL.exome.cram | PDMR-625472 | 625472-104-R_SL | 104-R | PDMR-625472 | 625472-104-R_SL | PDX | WES | ⋯ | cram | Aligned Reads | NovaSeq S4 | NA | 1391091034 | P2 | Unknown | NA | NA | Unknown |\n",
       "| 1953 | WUSTL | 625472-104-R_SL.exome.cram | PDMR-625472 | 625472-104-R_SL | 104-R | PDMR-625472 | 625472-104-R_SL | PDX | WES | ⋯ | cram | Aligned Reads | NovaSeq S4 | NA | 1391091034 | P2 | Unknown | NA | NA | Unknown |\n",
       "| 1958 | WUSTL | BL0293-F563_SL.exome.cram  | PDMR-BL0293 | BL0293-F563_SL  | F563  | PDMR-BL0293 | BL0293-F563_SL  | PDX | WES | ⋯ | cram | Aligned Reads | NovaSeq S4 | NA | 2398860885 | P5 | Unknown | NA | NA | Unknown |\n",
       "| 1958 | WUSTL | BL0293-F563_SL.exome.cram  | PDMR-BL0293 | BL0293-F563_SL  | F563  | PDMR-BL0293 | BL0293-F563_SL  | PDX | WES | ⋯ | cram | Aligned Reads | NovaSeq S4 | NA | 2398860885 | P5 | Unknown | NA | NA | Unknown |\n",
       "\n"
      ],
      "text/plain": [
       "  Index contributor file_name                  patient_id  model_id       \n",
       "1 1948  WUSTL       172845-121-T_SL.exome.cram PDMR-172845 172845-121-T_SL\n",
       "2 1948  WUSTL       172845-121-T_SL.exome.cram PDMR-172845 172845-121-T_SL\n",
       "3 1953  WUSTL       625472-104-R_SL.exome.cram PDMR-625472 625472-104-R_SL\n",
       "4 1953  WUSTL       625472-104-R_SL.exome.cram PDMR-625472 625472-104-R_SL\n",
       "5 1958  WUSTL       BL0293-F563_SL.exome.cram  PDMR-BL0293 BL0293-F563_SL \n",
       "6 1958  WUSTL       BL0293-F563_SL.exome.cram  PDMR-BL0293 BL0293-F563_SL \n",
       "  tumor_id case_id     sample_id       sample_type experimental_strategy ⋯\n",
       "1 121-T    PDMR-172845 172845-121-T_SL PDX         WES                   ⋯\n",
       "2 121-T    PDMR-172845 172845-121-T_SL PDX         WES                   ⋯\n",
       "3 104-R    PDMR-625472 625472-104-R_SL PDX         WES                   ⋯\n",
       "4 104-R    PDMR-625472 625472-104-R_SL PDX         WES                   ⋯\n",
       "5 F563     PDMR-BL0293 BL0293-F563_SL  PDX         WES                   ⋯\n",
       "6 F563     PDMR-BL0293 BL0293-F563_SL  PDX         WES                   ⋯\n",
       "  data_format data_type     platform   is_ffpe file_size  passage disease_type\n",
       "1 cram        Aligned Reads NovaSeq S4 NA      1681781885 P3      Unknown     \n",
       "2 cram        Aligned Reads NovaSeq S4 NA      1681781885 P3      Unknown     \n",
       "3 cram        Aligned Reads NovaSeq S4 NA      1391091034 P2      Unknown     \n",
       "4 cram        Aligned Reads NovaSeq S4 NA      1391091034 P2      Unknown     \n",
       "5 cram        Aligned Reads NovaSeq S4 NA      2398860885 P5      Unknown     \n",
       "6 cram        Aligned Reads NovaSeq S4 NA      2398860885 P5      Unknown     \n",
       "  comment investigation disease_detail\n",
       "1 NA      NA            Unknown       \n",
       "2 NA      NA            Unknown       \n",
       "3 NA      NA            Unknown       \n",
       "4 NA      NA            Unknown       \n",
       "5 NA      NA            Unknown       \n",
       "6 NA      NA            Unknown       "
      ]
     },
     "metadata": {},
     "output_type": "display_data"
    }
   ],
   "source": [
    "pdtc_cram_files_converted_fastq <- pdtc_cram_files[c(1, 1, 2, 2, 3, 3), ]\n",
    "\n",
    "pdtc_cram_files_converted_fastq"
   ]
  },
  {
   "cell_type": "code",
   "execution_count": 22,
   "id": "61a71be5-3c79-47a9-9c73-ad938ce2216f",
   "metadata": {},
   "outputs": [
    {
     "data": {
      "text/html": [
       "<table class=\"dataframe\">\n",
       "<caption>A tibble: 6 × 29</caption>\n",
       "<thead>\n",
       "\t<tr><th scope=col>Index</th><th scope=col>contributor</th><th scope=col>file_name</th><th scope=col>patient_id</th><th scope=col>model_id</th><th scope=col>tumor_id</th><th scope=col>case_id</th><th scope=col>sample_id</th><th scope=col>sample_type</th><th scope=col>experimental_strategy</th><th scope=col>⋯</th><th scope=col>data_format</th><th scope=col>data_type</th><th scope=col>platform</th><th scope=col>is_ffpe</th><th scope=col>file_size</th><th scope=col>passage</th><th scope=col>disease_type</th><th scope=col>comment</th><th scope=col>investigation</th><th scope=col>disease_detail</th></tr>\n",
       "\t<tr><th scope=col>&lt;dbl&gt;</th><th scope=col>&lt;chr&gt;</th><th scope=col>&lt;chr&gt;</th><th scope=col>&lt;chr&gt;</th><th scope=col>&lt;chr&gt;</th><th scope=col>&lt;chr&gt;</th><th scope=col>&lt;chr&gt;</th><th scope=col>&lt;chr&gt;</th><th scope=col>&lt;chr&gt;</th><th scope=col>&lt;chr&gt;</th><th scope=col>⋯</th><th scope=col>&lt;chr&gt;</th><th scope=col>&lt;chr&gt;</th><th scope=col>&lt;chr&gt;</th><th scope=col>&lt;lgl&gt;</th><th scope=col>&lt;dbl&gt;</th><th scope=col>&lt;chr&gt;</th><th scope=col>&lt;chr&gt;</th><th scope=col>&lt;chr&gt;</th><th scope=col>&lt;lgl&gt;</th><th scope=col>&lt;chr&gt;</th></tr>\n",
       "</thead>\n",
       "<tbody>\n",
       "\t<tr><td>1948</td><td>WUSTL</td><td>172845-121-T.pe_1.fastq.paired.fq</td><td>PDMR-172845</td><td>172845-121-T_SL</td><td>121-T</td><td>PDMR-172845</td><td>172845-121-T_SL</td><td>PDX</td><td>WES</td><td>⋯</td><td>fastq</td><td>Raw Reads</td><td>NovaSeq S4</td><td>NA</td><td>16296437319</td><td>P3</td><td>Unknown</td><td>NA</td><td>NA</td><td>Unknown</td></tr>\n",
       "\t<tr><td>1948</td><td>WUSTL</td><td>172845-121-T.pe_2.fastq.paired.fq</td><td>PDMR-172845</td><td>172845-121-T_SL</td><td>121-T</td><td>PDMR-172845</td><td>172845-121-T_SL</td><td>PDX</td><td>WES</td><td>⋯</td><td>fastq</td><td>Raw Reads</td><td>NovaSeq S4</td><td>NA</td><td>16296437319</td><td>P3</td><td>Unknown</td><td>NA</td><td>NA</td><td>Unknown</td></tr>\n",
       "\t<tr><td>1953</td><td>WUSTL</td><td>625472-104-R.pe_1.fastq.paired.fq</td><td>PDMR-625472</td><td>625472-104-R_SL</td><td>104-R</td><td>PDMR-625472</td><td>625472-104-R_SL</td><td>PDX</td><td>WES</td><td>⋯</td><td>fastq</td><td>Raw Reads</td><td>NovaSeq S4</td><td>NA</td><td>12612746052</td><td>P2</td><td>Unknown</td><td>NA</td><td>NA</td><td>Unknown</td></tr>\n",
       "\t<tr><td>1953</td><td>WUSTL</td><td>625472-104-R.pe_2.fastq.paired.fq</td><td>PDMR-625472</td><td>625472-104-R_SL</td><td>104-R</td><td>PDMR-625472</td><td>625472-104-R_SL</td><td>PDX</td><td>WES</td><td>⋯</td><td>fastq</td><td>Raw Reads</td><td>NovaSeq S4</td><td>NA</td><td>12612746052</td><td>P2</td><td>Unknown</td><td>NA</td><td>NA</td><td>Unknown</td></tr>\n",
       "\t<tr><td>1958</td><td>WUSTL</td><td>BL0293-F563.pe_1.fastq.paired.fq </td><td>PDMR-BL0293</td><td>BL0293-F563_SL </td><td>F563 </td><td>PDMR-BL0293</td><td>BL0293-F563_SL </td><td>PDX</td><td>WES</td><td>⋯</td><td>fastq</td><td>Raw Reads</td><td>NovaSeq S4</td><td>NA</td><td>21889170246</td><td>P5</td><td>Unknown</td><td>NA</td><td>NA</td><td>Unknown</td></tr>\n",
       "\t<tr><td>1958</td><td>WUSTL</td><td>BL0293-F563.pe_2.fastq.paired.fq </td><td>PDMR-BL0293</td><td>BL0293-F563_SL </td><td>F563 </td><td>PDMR-BL0293</td><td>BL0293-F563_SL </td><td>PDX</td><td>WES</td><td>⋯</td><td>fastq</td><td>Raw Reads</td><td>NovaSeq S4</td><td>NA</td><td>21889170246</td><td>P5</td><td>Unknown</td><td>NA</td><td>NA</td><td>Unknown</td></tr>\n",
       "</tbody>\n",
       "</table>\n"
      ],
      "text/latex": [
       "A tibble: 6 × 29\n",
       "\\begin{tabular}{lllllllllllllllllllll}\n",
       " Index & contributor & file\\_name & patient\\_id & model\\_id & tumor\\_id & case\\_id & sample\\_id & sample\\_type & experimental\\_strategy & ⋯ & data\\_format & data\\_type & platform & is\\_ffpe & file\\_size & passage & disease\\_type & comment & investigation & disease\\_detail\\\\\n",
       " <dbl> & <chr> & <chr> & <chr> & <chr> & <chr> & <chr> & <chr> & <chr> & <chr> & ⋯ & <chr> & <chr> & <chr> & <lgl> & <dbl> & <chr> & <chr> & <chr> & <lgl> & <chr>\\\\\n",
       "\\hline\n",
       "\t 1948 & WUSTL & 172845-121-T.pe\\_1.fastq.paired.fq & PDMR-172845 & 172845-121-T\\_SL & 121-T & PDMR-172845 & 172845-121-T\\_SL & PDX & WES & ⋯ & fastq & Raw Reads & NovaSeq S4 & NA & 16296437319 & P3 & Unknown & NA & NA & Unknown\\\\\n",
       "\t 1948 & WUSTL & 172845-121-T.pe\\_2.fastq.paired.fq & PDMR-172845 & 172845-121-T\\_SL & 121-T & PDMR-172845 & 172845-121-T\\_SL & PDX & WES & ⋯ & fastq & Raw Reads & NovaSeq S4 & NA & 16296437319 & P3 & Unknown & NA & NA & Unknown\\\\\n",
       "\t 1953 & WUSTL & 625472-104-R.pe\\_1.fastq.paired.fq & PDMR-625472 & 625472-104-R\\_SL & 104-R & PDMR-625472 & 625472-104-R\\_SL & PDX & WES & ⋯ & fastq & Raw Reads & NovaSeq S4 & NA & 12612746052 & P2 & Unknown & NA & NA & Unknown\\\\\n",
       "\t 1953 & WUSTL & 625472-104-R.pe\\_2.fastq.paired.fq & PDMR-625472 & 625472-104-R\\_SL & 104-R & PDMR-625472 & 625472-104-R\\_SL & PDX & WES & ⋯ & fastq & Raw Reads & NovaSeq S4 & NA & 12612746052 & P2 & Unknown & NA & NA & Unknown\\\\\n",
       "\t 1958 & WUSTL & BL0293-F563.pe\\_1.fastq.paired.fq  & PDMR-BL0293 & BL0293-F563\\_SL  & F563  & PDMR-BL0293 & BL0293-F563\\_SL  & PDX & WES & ⋯ & fastq & Raw Reads & NovaSeq S4 & NA & 21889170246 & P5 & Unknown & NA & NA & Unknown\\\\\n",
       "\t 1958 & WUSTL & BL0293-F563.pe\\_2.fastq.paired.fq  & PDMR-BL0293 & BL0293-F563\\_SL  & F563  & PDMR-BL0293 & BL0293-F563\\_SL  & PDX & WES & ⋯ & fastq & Raw Reads & NovaSeq S4 & NA & 21889170246 & P5 & Unknown & NA & NA & Unknown\\\\\n",
       "\\end{tabular}\n"
      ],
      "text/markdown": [
       "\n",
       "A tibble: 6 × 29\n",
       "\n",
       "| Index &lt;dbl&gt; | contributor &lt;chr&gt; | file_name &lt;chr&gt; | patient_id &lt;chr&gt; | model_id &lt;chr&gt; | tumor_id &lt;chr&gt; | case_id &lt;chr&gt; | sample_id &lt;chr&gt; | sample_type &lt;chr&gt; | experimental_strategy &lt;chr&gt; | ⋯ ⋯ | data_format &lt;chr&gt; | data_type &lt;chr&gt; | platform &lt;chr&gt; | is_ffpe &lt;lgl&gt; | file_size &lt;dbl&gt; | passage &lt;chr&gt; | disease_type &lt;chr&gt; | comment &lt;chr&gt; | investigation &lt;lgl&gt; | disease_detail &lt;chr&gt; |\n",
       "|---|---|---|---|---|---|---|---|---|---|---|---|---|---|---|---|---|---|---|---|---|\n",
       "| 1948 | WUSTL | 172845-121-T.pe_1.fastq.paired.fq | PDMR-172845 | 172845-121-T_SL | 121-T | PDMR-172845 | 172845-121-T_SL | PDX | WES | ⋯ | fastq | Raw Reads | NovaSeq S4 | NA | 16296437319 | P3 | Unknown | NA | NA | Unknown |\n",
       "| 1948 | WUSTL | 172845-121-T.pe_2.fastq.paired.fq | PDMR-172845 | 172845-121-T_SL | 121-T | PDMR-172845 | 172845-121-T_SL | PDX | WES | ⋯ | fastq | Raw Reads | NovaSeq S4 | NA | 16296437319 | P3 | Unknown | NA | NA | Unknown |\n",
       "| 1953 | WUSTL | 625472-104-R.pe_1.fastq.paired.fq | PDMR-625472 | 625472-104-R_SL | 104-R | PDMR-625472 | 625472-104-R_SL | PDX | WES | ⋯ | fastq | Raw Reads | NovaSeq S4 | NA | 12612746052 | P2 | Unknown | NA | NA | Unknown |\n",
       "| 1953 | WUSTL | 625472-104-R.pe_2.fastq.paired.fq | PDMR-625472 | 625472-104-R_SL | 104-R | PDMR-625472 | 625472-104-R_SL | PDX | WES | ⋯ | fastq | Raw Reads | NovaSeq S4 | NA | 12612746052 | P2 | Unknown | NA | NA | Unknown |\n",
       "| 1958 | WUSTL | BL0293-F563.pe_1.fastq.paired.fq  | PDMR-BL0293 | BL0293-F563_SL  | F563  | PDMR-BL0293 | BL0293-F563_SL  | PDX | WES | ⋯ | fastq | Raw Reads | NovaSeq S4 | NA | 21889170246 | P5 | Unknown | NA | NA | Unknown |\n",
       "| 1958 | WUSTL | BL0293-F563.pe_2.fastq.paired.fq  | PDMR-BL0293 | BL0293-F563_SL  | F563  | PDMR-BL0293 | BL0293-F563_SL  | PDX | WES | ⋯ | fastq | Raw Reads | NovaSeq S4 | NA | 21889170246 | P5 | Unknown | NA | NA | Unknown |\n",
       "\n"
      ],
      "text/plain": [
       "  Index contributor file_name                         patient_id \n",
       "1 1948  WUSTL       172845-121-T.pe_1.fastq.paired.fq PDMR-172845\n",
       "2 1948  WUSTL       172845-121-T.pe_2.fastq.paired.fq PDMR-172845\n",
       "3 1953  WUSTL       625472-104-R.pe_1.fastq.paired.fq PDMR-625472\n",
       "4 1953  WUSTL       625472-104-R.pe_2.fastq.paired.fq PDMR-625472\n",
       "5 1958  WUSTL       BL0293-F563.pe_1.fastq.paired.fq  PDMR-BL0293\n",
       "6 1958  WUSTL       BL0293-F563.pe_2.fastq.paired.fq  PDMR-BL0293\n",
       "  model_id        tumor_id case_id     sample_id       sample_type\n",
       "1 172845-121-T_SL 121-T    PDMR-172845 172845-121-T_SL PDX        \n",
       "2 172845-121-T_SL 121-T    PDMR-172845 172845-121-T_SL PDX        \n",
       "3 625472-104-R_SL 104-R    PDMR-625472 625472-104-R_SL PDX        \n",
       "4 625472-104-R_SL 104-R    PDMR-625472 625472-104-R_SL PDX        \n",
       "5 BL0293-F563_SL  F563     PDMR-BL0293 BL0293-F563_SL  PDX        \n",
       "6 BL0293-F563_SL  F563     PDMR-BL0293 BL0293-F563_SL  PDX        \n",
       "  experimental_strategy ⋯ data_format data_type platform   is_ffpe file_size  \n",
       "1 WES                   ⋯ fastq       Raw Reads NovaSeq S4 NA      16296437319\n",
       "2 WES                   ⋯ fastq       Raw Reads NovaSeq S4 NA      16296437319\n",
       "3 WES                   ⋯ fastq       Raw Reads NovaSeq S4 NA      12612746052\n",
       "4 WES                   ⋯ fastq       Raw Reads NovaSeq S4 NA      12612746052\n",
       "5 WES                   ⋯ fastq       Raw Reads NovaSeq S4 NA      21889170246\n",
       "6 WES                   ⋯ fastq       Raw Reads NovaSeq S4 NA      21889170246\n",
       "  passage disease_type comment investigation disease_detail\n",
       "1 P3      Unknown      NA      NA            Unknown       \n",
       "2 P3      Unknown      NA      NA            Unknown       \n",
       "3 P2      Unknown      NA      NA            Unknown       \n",
       "4 P2      Unknown      NA      NA            Unknown       \n",
       "5 P5      Unknown      NA      NA            Unknown       \n",
       "6 P5      Unknown      NA      NA            Unknown       "
      ]
     },
     "metadata": {},
     "output_type": "display_data"
    }
   ],
   "source": [
    "# Replace with the fastq files\n",
    "\n",
    "pdtc_cram_files_converted_fastq$file_name <- wustl_cram_converted_fastqs$name\n",
    "pdtc_cram_files_converted_fastq$file_size <- wustl_cram_converted_fastqs$size\n",
    "\n",
    "pdtc_cram_files_converted_fastq$data_category <- 'Raw Sequencing Data'\n",
    "pdtc_cram_files_converted_fastq$data_format <- 'fastq'\n",
    "pdtc_cram_files_converted_fastq$data_type <- 'Raw Reads'\n",
    "\n",
    "pdtc_cram_files_converted_fastq$paired_end <- c(1, 2, 1, 2, 1, 2)\n",
    "\n",
    "pdtc_cram_files_converted_fastq"
   ]
  },
  {
   "cell_type": "code",
   "execution_count": 23,
   "id": "b3a58978-3162-4e74-b4a9-7e6da45ae955",
   "metadata": {},
   "outputs": [],
   "source": [
    "# Export\n",
    "\n",
    "pdtc_cram_files_converted_fastq %>% write_csv('2022-02-09_wustl_cram_fastq_converted_for_portal.csv')"
   ]
  },
  {
   "cell_type": "code",
   "execution_count": 24,
   "id": "befebd05-bdf8-4008-a9d0-1cc6187d7654",
   "metadata": {},
   "outputs": [
    {
     "data": {
      "text/html": [
       "2825"
      ],
      "text/latex": [
       "2825"
      ],
      "text/markdown": [
       "2825"
      ],
      "text/plain": [
       "[1] 2825"
      ]
     },
     "metadata": {},
     "output_type": "display_data"
    },
    {
     "data": {
      "text/html": [
       "<table class=\"dataframe\">\n",
       "<caption>A tibble: 6 × 29</caption>\n",
       "<thead>\n",
       "\t<tr><th scope=col>Index</th><th scope=col>contributor</th><th scope=col>file_name</th><th scope=col>patient_id</th><th scope=col>model_id</th><th scope=col>tumor_id</th><th scope=col>case_id</th><th scope=col>sample_id</th><th scope=col>sample_type</th><th scope=col>experimental_strategy</th><th scope=col>⋯</th><th scope=col>data_format</th><th scope=col>data_type</th><th scope=col>platform</th><th scope=col>is_ffpe</th><th scope=col>file_size</th><th scope=col>passage</th><th scope=col>disease_type</th><th scope=col>comment</th><th scope=col>investigation</th><th scope=col>disease_detail</th></tr>\n",
       "\t<tr><th scope=col>&lt;dbl&gt;</th><th scope=col>&lt;chr&gt;</th><th scope=col>&lt;chr&gt;</th><th scope=col>&lt;chr&gt;</th><th scope=col>&lt;chr&gt;</th><th scope=col>&lt;chr&gt;</th><th scope=col>&lt;chr&gt;</th><th scope=col>&lt;chr&gt;</th><th scope=col>&lt;chr&gt;</th><th scope=col>&lt;chr&gt;</th><th scope=col>⋯</th><th scope=col>&lt;chr&gt;</th><th scope=col>&lt;chr&gt;</th><th scope=col>&lt;chr&gt;</th><th scope=col>&lt;lgl&gt;</th><th scope=col>&lt;dbl&gt;</th><th scope=col>&lt;chr&gt;</th><th scope=col>&lt;chr&gt;</th><th scope=col>&lt;chr&gt;</th><th scope=col>&lt;lgl&gt;</th><th scope=col>&lt;chr&gt;</th></tr>\n",
       "</thead>\n",
       "<tbody>\n",
       "\t<tr><td>1</td><td>BCM</td><td>LZML_37246_NoIndex_L00X_R1_001.fastq.gz</td><td>24452</td><td>BCM-0002</td><td>2011012-2  </td><td>NA</td><td>BCM-0002</td><td>PDX</td><td>RNA-Seq</td><td>⋯</td><td>FASTQ.GZ</td><td>Raw Reads</td><td>Illumina</td><td>FALSE</td><td>20656964441</td><td>NA</td><td>Breast</td><td>NA</td><td>NA</td><td>Invasive breast carcinoma</td></tr>\n",
       "\t<tr><td>2</td><td>BCM</td><td>LZML_37246_NoIndex_L00X_R2_001.fastq.gz</td><td>24452</td><td>BCM-0002</td><td>2011012-2  </td><td>NA</td><td>BCM-0002</td><td>PDX</td><td>RNA-Seq</td><td>⋯</td><td>FASTQ.GZ</td><td>Raw Reads</td><td>Illumina</td><td>FALSE</td><td>21093643386</td><td>NA</td><td>Breast</td><td>NA</td><td>NA</td><td>Invasive breast carcinoma</td></tr>\n",
       "\t<tr><td>3</td><td>BCM</td><td>ML6065_GATCAGCG_L00X_R1_001.fastq.gz   </td><td>2219 </td><td>BCM-0046</td><td>2011012-46 </td><td>NA</td><td>BCM-0046</td><td>PDX</td><td>RNA-Seq</td><td>⋯</td><td>FASTQ.GZ</td><td>Raw Reads</td><td>Illumina</td><td>FALSE</td><td>22027304876</td><td>NA</td><td>Breast</td><td>NA</td><td>NA</td><td>Invasive breast carcinoma</td></tr>\n",
       "\t<tr><td>4</td><td>BCM</td><td>ML6065_GATCAGCG_L00X_R2_001.fastq.gz   </td><td>2219 </td><td>BCM-0046</td><td>2011012-46 </td><td>NA</td><td>BCM-0046</td><td>PDX</td><td>RNA-Seq</td><td>⋯</td><td>FASTQ.GZ</td><td>Raw Reads</td><td>Illumina</td><td>FALSE</td><td>22027304876</td><td>NA</td><td>Breast</td><td>NA</td><td>NA</td><td>Invasive breast carcinoma</td></tr>\n",
       "\t<tr><td>5</td><td>BCM</td><td>ML6061_CAGATCTG_L00X_R1_001.fastq.gz   </td><td>24561</td><td>BCM-0104</td><td>2011012-104</td><td>NA</td><td>BCM-0104</td><td>PDX</td><td>RNA-Seq</td><td>⋯</td><td>FASTQ.GZ</td><td>Raw Reads</td><td>Illumina</td><td>FALSE</td><td>17927987899</td><td>NA</td><td>Breast</td><td>NA</td><td>NA</td><td>Invasive breast carcinoma</td></tr>\n",
       "\t<tr><td>6</td><td>BCM</td><td>ML6061_CAGATCTG_L00X_R2_001.fastq.gz   </td><td>24561</td><td>BCM-0104</td><td>2011012-104</td><td>NA</td><td>BCM-0104</td><td>PDX</td><td>RNA-Seq</td><td>⋯</td><td>FASTQ.GZ</td><td>Raw Reads</td><td>Illumina</td><td>FALSE</td><td>18002109303</td><td>NA</td><td>Breast</td><td>NA</td><td>NA</td><td>Invasive breast carcinoma</td></tr>\n",
       "</tbody>\n",
       "</table>\n"
      ],
      "text/latex": [
       "A tibble: 6 × 29\n",
       "\\begin{tabular}{lllllllllllllllllllll}\n",
       " Index & contributor & file\\_name & patient\\_id & model\\_id & tumor\\_id & case\\_id & sample\\_id & sample\\_type & experimental\\_strategy & ⋯ & data\\_format & data\\_type & platform & is\\_ffpe & file\\_size & passage & disease\\_type & comment & investigation & disease\\_detail\\\\\n",
       " <dbl> & <chr> & <chr> & <chr> & <chr> & <chr> & <chr> & <chr> & <chr> & <chr> & ⋯ & <chr> & <chr> & <chr> & <lgl> & <dbl> & <chr> & <chr> & <chr> & <lgl> & <chr>\\\\\n",
       "\\hline\n",
       "\t 1 & BCM & LZML\\_37246\\_NoIndex\\_L00X\\_R1\\_001.fastq.gz & 24452 & BCM-0002 & 2011012-2   & NA & BCM-0002 & PDX & RNA-Seq & ⋯ & FASTQ.GZ & Raw Reads & Illumina & FALSE & 20656964441 & NA & Breast & NA & NA & Invasive breast carcinoma\\\\\n",
       "\t 2 & BCM & LZML\\_37246\\_NoIndex\\_L00X\\_R2\\_001.fastq.gz & 24452 & BCM-0002 & 2011012-2   & NA & BCM-0002 & PDX & RNA-Seq & ⋯ & FASTQ.GZ & Raw Reads & Illumina & FALSE & 21093643386 & NA & Breast & NA & NA & Invasive breast carcinoma\\\\\n",
       "\t 3 & BCM & ML6065\\_GATCAGCG\\_L00X\\_R1\\_001.fastq.gz    & 2219  & BCM-0046 & 2011012-46  & NA & BCM-0046 & PDX & RNA-Seq & ⋯ & FASTQ.GZ & Raw Reads & Illumina & FALSE & 22027304876 & NA & Breast & NA & NA & Invasive breast carcinoma\\\\\n",
       "\t 4 & BCM & ML6065\\_GATCAGCG\\_L00X\\_R2\\_001.fastq.gz    & 2219  & BCM-0046 & 2011012-46  & NA & BCM-0046 & PDX & RNA-Seq & ⋯ & FASTQ.GZ & Raw Reads & Illumina & FALSE & 22027304876 & NA & Breast & NA & NA & Invasive breast carcinoma\\\\\n",
       "\t 5 & BCM & ML6061\\_CAGATCTG\\_L00X\\_R1\\_001.fastq.gz    & 24561 & BCM-0104 & 2011012-104 & NA & BCM-0104 & PDX & RNA-Seq & ⋯ & FASTQ.GZ & Raw Reads & Illumina & FALSE & 17927987899 & NA & Breast & NA & NA & Invasive breast carcinoma\\\\\n",
       "\t 6 & BCM & ML6061\\_CAGATCTG\\_L00X\\_R2\\_001.fastq.gz    & 24561 & BCM-0104 & 2011012-104 & NA & BCM-0104 & PDX & RNA-Seq & ⋯ & FASTQ.GZ & Raw Reads & Illumina & FALSE & 18002109303 & NA & Breast & NA & NA & Invasive breast carcinoma\\\\\n",
       "\\end{tabular}\n"
      ],
      "text/markdown": [
       "\n",
       "A tibble: 6 × 29\n",
       "\n",
       "| Index &lt;dbl&gt; | contributor &lt;chr&gt; | file_name &lt;chr&gt; | patient_id &lt;chr&gt; | model_id &lt;chr&gt; | tumor_id &lt;chr&gt; | case_id &lt;chr&gt; | sample_id &lt;chr&gt; | sample_type &lt;chr&gt; | experimental_strategy &lt;chr&gt; | ⋯ ⋯ | data_format &lt;chr&gt; | data_type &lt;chr&gt; | platform &lt;chr&gt; | is_ffpe &lt;lgl&gt; | file_size &lt;dbl&gt; | passage &lt;chr&gt; | disease_type &lt;chr&gt; | comment &lt;chr&gt; | investigation &lt;lgl&gt; | disease_detail &lt;chr&gt; |\n",
       "|---|---|---|---|---|---|---|---|---|---|---|---|---|---|---|---|---|---|---|---|---|\n",
       "| 1 | BCM | LZML_37246_NoIndex_L00X_R1_001.fastq.gz | 24452 | BCM-0002 | 2011012-2   | NA | BCM-0002 | PDX | RNA-Seq | ⋯ | FASTQ.GZ | Raw Reads | Illumina | FALSE | 20656964441 | NA | Breast | NA | NA | Invasive breast carcinoma |\n",
       "| 2 | BCM | LZML_37246_NoIndex_L00X_R2_001.fastq.gz | 24452 | BCM-0002 | 2011012-2   | NA | BCM-0002 | PDX | RNA-Seq | ⋯ | FASTQ.GZ | Raw Reads | Illumina | FALSE | 21093643386 | NA | Breast | NA | NA | Invasive breast carcinoma |\n",
       "| 3 | BCM | ML6065_GATCAGCG_L00X_R1_001.fastq.gz    | 2219  | BCM-0046 | 2011012-46  | NA | BCM-0046 | PDX | RNA-Seq | ⋯ | FASTQ.GZ | Raw Reads | Illumina | FALSE | 22027304876 | NA | Breast | NA | NA | Invasive breast carcinoma |\n",
       "| 4 | BCM | ML6065_GATCAGCG_L00X_R2_001.fastq.gz    | 2219  | BCM-0046 | 2011012-46  | NA | BCM-0046 | PDX | RNA-Seq | ⋯ | FASTQ.GZ | Raw Reads | Illumina | FALSE | 22027304876 | NA | Breast | NA | NA | Invasive breast carcinoma |\n",
       "| 5 | BCM | ML6061_CAGATCTG_L00X_R1_001.fastq.gz    | 24561 | BCM-0104 | 2011012-104 | NA | BCM-0104 | PDX | RNA-Seq | ⋯ | FASTQ.GZ | Raw Reads | Illumina | FALSE | 17927987899 | NA | Breast | NA | NA | Invasive breast carcinoma |\n",
       "| 6 | BCM | ML6061_CAGATCTG_L00X_R2_001.fastq.gz    | 24561 | BCM-0104 | 2011012-104 | NA | BCM-0104 | PDX | RNA-Seq | ⋯ | FASTQ.GZ | Raw Reads | Illumina | FALSE | 18002109303 | NA | Breast | NA | NA | Invasive breast carcinoma |\n",
       "\n"
      ],
      "text/plain": [
       "  Index contributor file_name                               patient_id model_id\n",
       "1 1     BCM         LZML_37246_NoIndex_L00X_R1_001.fastq.gz 24452      BCM-0002\n",
       "2 2     BCM         LZML_37246_NoIndex_L00X_R2_001.fastq.gz 24452      BCM-0002\n",
       "3 3     BCM         ML6065_GATCAGCG_L00X_R1_001.fastq.gz    2219       BCM-0046\n",
       "4 4     BCM         ML6065_GATCAGCG_L00X_R2_001.fastq.gz    2219       BCM-0046\n",
       "5 5     BCM         ML6061_CAGATCTG_L00X_R1_001.fastq.gz    24561      BCM-0104\n",
       "6 6     BCM         ML6061_CAGATCTG_L00X_R2_001.fastq.gz    24561      BCM-0104\n",
       "  tumor_id    case_id sample_id sample_type experimental_strategy ⋯ data_format\n",
       "1 2011012-2   NA      BCM-0002  PDX         RNA-Seq               ⋯ FASTQ.GZ   \n",
       "2 2011012-2   NA      BCM-0002  PDX         RNA-Seq               ⋯ FASTQ.GZ   \n",
       "3 2011012-46  NA      BCM-0046  PDX         RNA-Seq               ⋯ FASTQ.GZ   \n",
       "4 2011012-46  NA      BCM-0046  PDX         RNA-Seq               ⋯ FASTQ.GZ   \n",
       "5 2011012-104 NA      BCM-0104  PDX         RNA-Seq               ⋯ FASTQ.GZ   \n",
       "6 2011012-104 NA      BCM-0104  PDX         RNA-Seq               ⋯ FASTQ.GZ   \n",
       "  data_type platform is_ffpe file_size   passage disease_type comment\n",
       "1 Raw Reads Illumina FALSE   20656964441 NA      Breast       NA     \n",
       "2 Raw Reads Illumina FALSE   21093643386 NA      Breast       NA     \n",
       "3 Raw Reads Illumina FALSE   22027304876 NA      Breast       NA     \n",
       "4 Raw Reads Illumina FALSE   22027304876 NA      Breast       NA     \n",
       "5 Raw Reads Illumina FALSE   17927987899 NA      Breast       NA     \n",
       "6 Raw Reads Illumina FALSE   18002109303 NA      Breast       NA     \n",
       "  investigation disease_detail           \n",
       "1 NA            Invasive breast carcinoma\n",
       "2 NA            Invasive breast carcinoma\n",
       "3 NA            Invasive breast carcinoma\n",
       "4 NA            Invasive breast carcinoma\n",
       "5 NA            Invasive breast carcinoma\n",
       "6 NA            Invasive breast carcinoma"
      ]
     },
     "metadata": {},
     "output_type": "display_data"
    }
   ],
   "source": [
    "# Put these converted cram files back in\n",
    "\n",
    "edited_pdtc_files <- pdtc_files %>% filter((data_format != 'cram') | is.na(data_format))\n",
    "\n",
    "edited_pdtc_files <- bind_rows(edited_pdtc_files, pdtc_cram_files_converted_fastq) %>% arrange('index')\n",
    "\n",
    "edited_pdtc_files %>% nrow()\n",
    "head(edited_pdtc_files)"
   ]
  },
  {
   "cell_type": "markdown",
   "id": "092d03ee-8999-4d05-ac6f-5187b071ef68",
   "metadata": {},
   "source": [
    "### Remove non-concatenated reads\n",
    "Replace with concatenated versions."
   ]
  },
  {
   "cell_type": "code",
   "execution_count": 25,
   "id": "c1870496-cc25-412b-b884-8fc1da7a78c5",
   "metadata": {},
   "outputs": [
    {
     "data": {
      "text/html": [
       "683"
      ],
      "text/latex": [
       "683"
      ],
      "text/markdown": [
       "683"
      ],
      "text/plain": [
       "[1] 683"
      ]
     },
     "metadata": {},
     "output_type": "display_data"
    },
    {
     "data": {
      "text/html": [
       "<table class=\"dataframe\">\n",
       "<caption>A tibble: 6 × 28</caption>\n",
       "<thead>\n",
       "\t<tr><th scope=col>contributor</th><th scope=col>file_name</th><th scope=col>patient_id</th><th scope=col>model_id</th><th scope=col>tumor_id</th><th scope=col>case_id</th><th scope=col>sample_id</th><th scope=col>sample_type</th><th scope=col>experimental_strategy</th><th scope=col>gender</th><th scope=col>⋯</th><th scope=col>data_format</th><th scope=col>data_type</th><th scope=col>platform</th><th scope=col>is_ffpe</th><th scope=col>file_size</th><th scope=col>passage</th><th scope=col>disease_type</th><th scope=col>comment</th><th scope=col>investigation</th><th scope=col>disease_detail</th></tr>\n",
       "\t<tr><th scope=col>&lt;chr&gt;</th><th scope=col>&lt;chr&gt;</th><th scope=col>&lt;chr&gt;</th><th scope=col>&lt;lgl&gt;</th><th scope=col>&lt;lgl&gt;</th><th scope=col>&lt;chr&gt;</th><th scope=col>&lt;chr&gt;</th><th scope=col>&lt;chr&gt;</th><th scope=col>&lt;chr&gt;</th><th scope=col>&lt;chr&gt;</th><th scope=col>⋯</th><th scope=col>&lt;lgl&gt;</th><th scope=col>&lt;lgl&gt;</th><th scope=col>&lt;chr&gt;</th><th scope=col>&lt;lgl&gt;</th><th scope=col>&lt;lgl&gt;</th><th scope=col>&lt;chr&gt;</th><th scope=col>&lt;chr&gt;</th><th scope=col>&lt;lgl&gt;</th><th scope=col>&lt;lgl&gt;</th><th scope=col>&lt;chr&gt;</th></tr>\n",
       "</thead>\n",
       "<tbody>\n",
       "\t<tr><td>HCI</td><td>lane1-index03-TTAGGC-0908263-X_TTAGGC_L001_R1_001.fastq.gz</td><td>HCI007</td><td>NA</td><td>NA</td><td>HCI007</td><td>0908263-X</td><td>PDX</td><td>WES</td><td>Female</td><td>⋯</td><td>NA</td><td>NA</td><td>Illumina HiSeq</td><td>NA</td><td>NA</td><td>?</td><td>Breast</td><td>NA</td><td>NA</td><td>Breast Pleural Effusion</td></tr>\n",
       "\t<tr><td>HCI</td><td>lane1-index03-TTAGGC-0908263-X_TTAGGC_L001_R1_002.fastq.gz</td><td>HCI007</td><td>NA</td><td>NA</td><td>HCI007</td><td>0908263-X</td><td>PDX</td><td>WES</td><td>Female</td><td>⋯</td><td>NA</td><td>NA</td><td>Illumina HiSeq</td><td>NA</td><td>NA</td><td>?</td><td>Breast</td><td>NA</td><td>NA</td><td>Breast Pleural Effusion</td></tr>\n",
       "\t<tr><td>HCI</td><td>lane1-index03-TTAGGC-0908263-X_TTAGGC_L001_R1_003.fastq.gz</td><td>HCI007</td><td>NA</td><td>NA</td><td>HCI007</td><td>0908263-X</td><td>PDX</td><td>WES</td><td>Female</td><td>⋯</td><td>NA</td><td>NA</td><td>Illumina HiSeq</td><td>NA</td><td>NA</td><td>?</td><td>Breast</td><td>NA</td><td>NA</td><td>Breast Pleural Effusion</td></tr>\n",
       "\t<tr><td>HCI</td><td>lane1-index03-TTAGGC-0908263-X_TTAGGC_L001_R1_004.fastq.gz</td><td>HCI007</td><td>NA</td><td>NA</td><td>HCI007</td><td>0908263-X</td><td>PDX</td><td>WES</td><td>Female</td><td>⋯</td><td>NA</td><td>NA</td><td>Illumina HiSeq</td><td>NA</td><td>NA</td><td>?</td><td>Breast</td><td>NA</td><td>NA</td><td>Breast Pleural Effusion</td></tr>\n",
       "\t<tr><td>HCI</td><td>lane1-index03-TTAGGC-0908263-X_TTAGGC_L001_R1_005.fastq.gz</td><td>HCI007</td><td>NA</td><td>NA</td><td>HCI007</td><td>0908263-X</td><td>PDX</td><td>WES</td><td>Female</td><td>⋯</td><td>NA</td><td>NA</td><td>Illumina HiSeq</td><td>NA</td><td>NA</td><td>?</td><td>Breast</td><td>NA</td><td>NA</td><td>Breast Pleural Effusion</td></tr>\n",
       "\t<tr><td>HCI</td><td>lane1-index03-TTAGGC-0908263-X_TTAGGC_L001_R1_006.fastq.gz</td><td>HCI007</td><td>NA</td><td>NA</td><td>HCI007</td><td>0908263-X</td><td>PDX</td><td>WES</td><td>Female</td><td>⋯</td><td>NA</td><td>NA</td><td>Illumina HiSeq</td><td>NA</td><td>NA</td><td>?</td><td>Breast</td><td>NA</td><td>NA</td><td>Breast Pleural Effusion</td></tr>\n",
       "</tbody>\n",
       "</table>\n"
      ],
      "text/latex": [
       "A tibble: 6 × 28\n",
       "\\begin{tabular}{lllllllllllllllllllll}\n",
       " contributor & file\\_name & patient\\_id & model\\_id & tumor\\_id & case\\_id & sample\\_id & sample\\_type & experimental\\_strategy & gender & ⋯ & data\\_format & data\\_type & platform & is\\_ffpe & file\\_size & passage & disease\\_type & comment & investigation & disease\\_detail\\\\\n",
       " <chr> & <chr> & <chr> & <lgl> & <lgl> & <chr> & <chr> & <chr> & <chr> & <chr> & ⋯ & <lgl> & <lgl> & <chr> & <lgl> & <lgl> & <chr> & <chr> & <lgl> & <lgl> & <chr>\\\\\n",
       "\\hline\n",
       "\t HCI & lane1-index03-TTAGGC-0908263-X\\_TTAGGC\\_L001\\_R1\\_001.fastq.gz & HCI007 & NA & NA & HCI007 & 0908263-X & PDX & WES & Female & ⋯ & NA & NA & Illumina HiSeq & NA & NA & ? & Breast & NA & NA & Breast Pleural Effusion\\\\\n",
       "\t HCI & lane1-index03-TTAGGC-0908263-X\\_TTAGGC\\_L001\\_R1\\_002.fastq.gz & HCI007 & NA & NA & HCI007 & 0908263-X & PDX & WES & Female & ⋯ & NA & NA & Illumina HiSeq & NA & NA & ? & Breast & NA & NA & Breast Pleural Effusion\\\\\n",
       "\t HCI & lane1-index03-TTAGGC-0908263-X\\_TTAGGC\\_L001\\_R1\\_003.fastq.gz & HCI007 & NA & NA & HCI007 & 0908263-X & PDX & WES & Female & ⋯ & NA & NA & Illumina HiSeq & NA & NA & ? & Breast & NA & NA & Breast Pleural Effusion\\\\\n",
       "\t HCI & lane1-index03-TTAGGC-0908263-X\\_TTAGGC\\_L001\\_R1\\_004.fastq.gz & HCI007 & NA & NA & HCI007 & 0908263-X & PDX & WES & Female & ⋯ & NA & NA & Illumina HiSeq & NA & NA & ? & Breast & NA & NA & Breast Pleural Effusion\\\\\n",
       "\t HCI & lane1-index03-TTAGGC-0908263-X\\_TTAGGC\\_L001\\_R1\\_005.fastq.gz & HCI007 & NA & NA & HCI007 & 0908263-X & PDX & WES & Female & ⋯ & NA & NA & Illumina HiSeq & NA & NA & ? & Breast & NA & NA & Breast Pleural Effusion\\\\\n",
       "\t HCI & lane1-index03-TTAGGC-0908263-X\\_TTAGGC\\_L001\\_R1\\_006.fastq.gz & HCI007 & NA & NA & HCI007 & 0908263-X & PDX & WES & Female & ⋯ & NA & NA & Illumina HiSeq & NA & NA & ? & Breast & NA & NA & Breast Pleural Effusion\\\\\n",
       "\\end{tabular}\n"
      ],
      "text/markdown": [
       "\n",
       "A tibble: 6 × 28\n",
       "\n",
       "| contributor &lt;chr&gt; | file_name &lt;chr&gt; | patient_id &lt;chr&gt; | model_id &lt;lgl&gt; | tumor_id &lt;lgl&gt; | case_id &lt;chr&gt; | sample_id &lt;chr&gt; | sample_type &lt;chr&gt; | experimental_strategy &lt;chr&gt; | gender &lt;chr&gt; | ⋯ ⋯ | data_format &lt;lgl&gt; | data_type &lt;lgl&gt; | platform &lt;chr&gt; | is_ffpe &lt;lgl&gt; | file_size &lt;lgl&gt; | passage &lt;chr&gt; | disease_type &lt;chr&gt; | comment &lt;lgl&gt; | investigation &lt;lgl&gt; | disease_detail &lt;chr&gt; |\n",
       "|---|---|---|---|---|---|---|---|---|---|---|---|---|---|---|---|---|---|---|---|---|\n",
       "| HCI | lane1-index03-TTAGGC-0908263-X_TTAGGC_L001_R1_001.fastq.gz | HCI007 | NA | NA | HCI007 | 0908263-X | PDX | WES | Female | ⋯ | NA | NA | Illumina HiSeq | NA | NA | ? | Breast | NA | NA | Breast Pleural Effusion |\n",
       "| HCI | lane1-index03-TTAGGC-0908263-X_TTAGGC_L001_R1_002.fastq.gz | HCI007 | NA | NA | HCI007 | 0908263-X | PDX | WES | Female | ⋯ | NA | NA | Illumina HiSeq | NA | NA | ? | Breast | NA | NA | Breast Pleural Effusion |\n",
       "| HCI | lane1-index03-TTAGGC-0908263-X_TTAGGC_L001_R1_003.fastq.gz | HCI007 | NA | NA | HCI007 | 0908263-X | PDX | WES | Female | ⋯ | NA | NA | Illumina HiSeq | NA | NA | ? | Breast | NA | NA | Breast Pleural Effusion |\n",
       "| HCI | lane1-index03-TTAGGC-0908263-X_TTAGGC_L001_R1_004.fastq.gz | HCI007 | NA | NA | HCI007 | 0908263-X | PDX | WES | Female | ⋯ | NA | NA | Illumina HiSeq | NA | NA | ? | Breast | NA | NA | Breast Pleural Effusion |\n",
       "| HCI | lane1-index03-TTAGGC-0908263-X_TTAGGC_L001_R1_005.fastq.gz | HCI007 | NA | NA | HCI007 | 0908263-X | PDX | WES | Female | ⋯ | NA | NA | Illumina HiSeq | NA | NA | ? | Breast | NA | NA | Breast Pleural Effusion |\n",
       "| HCI | lane1-index03-TTAGGC-0908263-X_TTAGGC_L001_R1_006.fastq.gz | HCI007 | NA | NA | HCI007 | 0908263-X | PDX | WES | Female | ⋯ | NA | NA | Illumina HiSeq | NA | NA | ? | Breast | NA | NA | Breast Pleural Effusion |\n",
       "\n"
      ],
      "text/plain": [
       "  contributor file_name                                                 \n",
       "1 HCI         lane1-index03-TTAGGC-0908263-X_TTAGGC_L001_R1_001.fastq.gz\n",
       "2 HCI         lane1-index03-TTAGGC-0908263-X_TTAGGC_L001_R1_002.fastq.gz\n",
       "3 HCI         lane1-index03-TTAGGC-0908263-X_TTAGGC_L001_R1_003.fastq.gz\n",
       "4 HCI         lane1-index03-TTAGGC-0908263-X_TTAGGC_L001_R1_004.fastq.gz\n",
       "5 HCI         lane1-index03-TTAGGC-0908263-X_TTAGGC_L001_R1_005.fastq.gz\n",
       "6 HCI         lane1-index03-TTAGGC-0908263-X_TTAGGC_L001_R1_006.fastq.gz\n",
       "  patient_id model_id tumor_id case_id sample_id sample_type\n",
       "1 HCI007     NA       NA       HCI007  0908263-X PDX        \n",
       "2 HCI007     NA       NA       HCI007  0908263-X PDX        \n",
       "3 HCI007     NA       NA       HCI007  0908263-X PDX        \n",
       "4 HCI007     NA       NA       HCI007  0908263-X PDX        \n",
       "5 HCI007     NA       NA       HCI007  0908263-X PDX        \n",
       "6 HCI007     NA       NA       HCI007  0908263-X PDX        \n",
       "  experimental_strategy gender ⋯ data_format data_type platform       is_ffpe\n",
       "1 WES                   Female ⋯ NA          NA        Illumina HiSeq NA     \n",
       "2 WES                   Female ⋯ NA          NA        Illumina HiSeq NA     \n",
       "3 WES                   Female ⋯ NA          NA        Illumina HiSeq NA     \n",
       "4 WES                   Female ⋯ NA          NA        Illumina HiSeq NA     \n",
       "5 WES                   Female ⋯ NA          NA        Illumina HiSeq NA     \n",
       "6 WES                   Female ⋯ NA          NA        Illumina HiSeq NA     \n",
       "  file_size passage disease_type comment investigation disease_detail         \n",
       "1 NA        ?       Breast       NA      NA            Breast Pleural Effusion\n",
       "2 NA        ?       Breast       NA      NA            Breast Pleural Effusion\n",
       "3 NA        ?       Breast       NA      NA            Breast Pleural Effusion\n",
       "4 NA        ?       Breast       NA      NA            Breast Pleural Effusion\n",
       "5 NA        ?       Breast       NA      NA            Breast Pleural Effusion\n",
       "6 NA        ?       Breast       NA      NA            Breast Pleural Effusion"
      ]
     },
     "metadata": {},
     "output_type": "display_data"
    }
   ],
   "source": [
    "# Read in the non-concatenated data\n",
    "\n",
    "non_concat_lanes <- read_excel('Individual_Lane_Files_for_Removal.xlsx')\n",
    "\n",
    "nrow(non_concat_lanes)\n",
    "head(non_concat_lanes)"
   ]
  },
  {
   "cell_type": "markdown",
   "id": "ed7bd2d2-79ae-41c6-9b95-a64a183a8987",
   "metadata": {},
   "source": [
    "These are all from HCI. And I definitely helped Matt put the right ones in the dbGaP submission."
   ]
  },
  {
   "cell_type": "code",
   "execution_count": 26,
   "id": "b6dfb992-b419-4beb-a9de-a04f080c95f4",
   "metadata": {},
   "outputs": [
    {
     "data": {
      "text/html": [
       "<style>\n",
       ".list-inline {list-style: none; margin:0; padding: 0}\n",
       ".list-inline>li {display: inline-block}\n",
       ".list-inline>li:not(:last-child)::after {content: \"\\00b7\"; padding: 0 .5ex}\n",
       "</style>\n",
       "<ol class=list-inline><li>'0908263-X'</li><li>'1007649-T'</li><li>'1007649-X'</li><li>'0900570-X'</li><li>'0903293-T'</li><li>'1007649-B'</li><li>'0900642-T'</li><li>'0900642-X'</li><li>'0903211-T'</li><li>'0903211-X'</li><li>'0903211-B'</li><li>'0704112-T'</li><li>'0907163-T'</li><li>'0704112-X'</li><li>'0900570-T'</li><li>'0900570-B'</li><li>'0903293-X'</li><li>'0907163-X'</li><li>'0907177-T'</li><li>'1007496-T'</li><li>'1007496-B'</li><li>'0908263-T'</li><li>'0908104-T'</li><li>'1007496-X'</li></ol>\n"
      ],
      "text/latex": [
       "\\begin{enumerate*}\n",
       "\\item '0908263-X'\n",
       "\\item '1007649-T'\n",
       "\\item '1007649-X'\n",
       "\\item '0900570-X'\n",
       "\\item '0903293-T'\n",
       "\\item '1007649-B'\n",
       "\\item '0900642-T'\n",
       "\\item '0900642-X'\n",
       "\\item '0903211-T'\n",
       "\\item '0903211-X'\n",
       "\\item '0903211-B'\n",
       "\\item '0704112-T'\n",
       "\\item '0907163-T'\n",
       "\\item '0704112-X'\n",
       "\\item '0900570-T'\n",
       "\\item '0900570-B'\n",
       "\\item '0903293-X'\n",
       "\\item '0907163-X'\n",
       "\\item '0907177-T'\n",
       "\\item '1007496-T'\n",
       "\\item '1007496-B'\n",
       "\\item '0908263-T'\n",
       "\\item '0908104-T'\n",
       "\\item '1007496-X'\n",
       "\\end{enumerate*}\n"
      ],
      "text/markdown": [
       "1. '0908263-X'\n",
       "2. '1007649-T'\n",
       "3. '1007649-X'\n",
       "4. '0900570-X'\n",
       "5. '0903293-T'\n",
       "6. '1007649-B'\n",
       "7. '0900642-T'\n",
       "8. '0900642-X'\n",
       "9. '0903211-T'\n",
       "10. '0903211-X'\n",
       "11. '0903211-B'\n",
       "12. '0704112-T'\n",
       "13. '0907163-T'\n",
       "14. '0704112-X'\n",
       "15. '0900570-T'\n",
       "16. '0900570-B'\n",
       "17. '0903293-X'\n",
       "18. '0907163-X'\n",
       "19. '0907177-T'\n",
       "20. '1007496-T'\n",
       "21. '1007496-B'\n",
       "22. '0908263-T'\n",
       "23. '0908104-T'\n",
       "24. '1007496-X'\n",
       "\n",
       "\n"
      ],
      "text/plain": [
       " [1] \"0908263-X\" \"1007649-T\" \"1007649-X\" \"0900570-X\" \"0903293-T\" \"1007649-B\"\n",
       " [7] \"0900642-T\" \"0900642-X\" \"0903211-T\" \"0903211-X\" \"0903211-B\" \"0704112-T\"\n",
       "[13] \"0907163-T\" \"0704112-X\" \"0900570-T\" \"0900570-B\" \"0903293-X\" \"0907163-X\"\n",
       "[19] \"0907177-T\" \"1007496-T\" \"1007496-B\" \"0908263-T\" \"0908104-T\" \"1007496-X\""
      ]
     },
     "metadata": {},
     "output_type": "display_data"
    }
   ],
   "source": [
    "# How many unique sample_ids are there?\n",
    "\n",
    "non_concat_lanes$sample_id %>% unique()"
   ]
  },
  {
   "cell_type": "code",
   "execution_count": 27,
   "id": "269ab8b3-1c03-4c0c-bb54-5d6443d0b862",
   "metadata": {},
   "outputs": [
    {
     "name": "stderr",
     "output_type": "stream",
     "text": [
      "\u001b[1mRows: \u001b[22m\u001b[34m48\u001b[39m \u001b[1mColumns: \u001b[22m\u001b[34m64\u001b[39m\n",
      "\n",
      "\u001b[36m──\u001b[39m \u001b[1mColumn specification\u001b[22m \u001b[36m──────────────────────────────────────────────────────────────────────────────────────────────────────────────────────────────────────────────────────────────────────────────────────────────────────────────────────\u001b[39m\n",
      "\u001b[1mDelimiter:\u001b[22m \",\"\n",
      "\u001b[31mchr\u001b[39m (17): id, name, project, sample_id, sample_type, RestrictiveIRB, case_id...\n",
      "\u001b[32mdbl\u001b[39m  (2): size, paired_end\n",
      "\u001b[33mlgl\u001b[39m (45): trimmed_read_count, p1_1, Is FFPE, passage, prop_ribosomal_bases, ...\n",
      "\n",
      "\n",
      "\u001b[36mℹ\u001b[39m Use \u001b[30m\u001b[47m\u001b[30m\u001b[47m`spec()`\u001b[47m\u001b[30m\u001b[49m\u001b[39m to retrieve the full column specification for this data.\n",
      "\u001b[36mℹ\u001b[39m Specify the column types or set \u001b[30m\u001b[47m\u001b[30m\u001b[47m`show_col_types = FALSE`\u001b[47m\u001b[30m\u001b[49m\u001b[39m to quiet this message.\n",
      "\n"
     ]
    },
    {
     "data": {
      "text/html": [
       "48"
      ],
      "text/latex": [
       "48"
      ],
      "text/markdown": [
       "48"
      ],
      "text/plain": [
       "[1] 48"
      ]
     },
     "metadata": {},
     "output_type": "display_data"
    },
    {
     "data": {
      "text/html": [
       "<table class=\"dataframe\">\n",
       "<caption>A tibble: 6 × 64</caption>\n",
       "<thead>\n",
       "\t<tr><th scope=col>id</th><th scope=col>name</th><th scope=col>size</th><th scope=col>project</th><th scope=col>trimmed_read_count</th><th scope=col>p1_1</th><th scope=col>Is FFPE</th><th scope=col>passage</th><th scope=col>sample_id</th><th scope=col>prop_ribosomal_bases</th><th scope=col>⋯</th><th scope=col>dbgap_upload</th><th scope=col>model_id</th><th scope=col>paired_end</th><th scope=col>__inherit__</th><th scope=col>update_manifest</th><th scope=col>species</th><th scope=col>tumor_id</th><th scope=col>investigation</th><th scope=col>prop_20x_cov</th><th scope=col>experimental_strategy</th></tr>\n",
       "\t<tr><th scope=col>&lt;chr&gt;</th><th scope=col>&lt;chr&gt;</th><th scope=col>&lt;dbl&gt;</th><th scope=col>&lt;chr&gt;</th><th scope=col>&lt;lgl&gt;</th><th scope=col>&lt;lgl&gt;</th><th scope=col>&lt;lgl&gt;</th><th scope=col>&lt;lgl&gt;</th><th scope=col>&lt;chr&gt;</th><th scope=col>&lt;lgl&gt;</th><th scope=col>⋯</th><th scope=col>&lt;chr&gt;</th><th scope=col>&lt;lgl&gt;</th><th scope=col>&lt;dbl&gt;</th><th scope=col>&lt;lgl&gt;</th><th scope=col>&lt;lgl&gt;</th><th scope=col>&lt;lgl&gt;</th><th scope=col>&lt;lgl&gt;</th><th scope=col>&lt;lgl&gt;</th><th scope=col>&lt;lgl&gt;</th><th scope=col>&lt;chr&gt;</th></tr>\n",
       "</thead>\n",
       "<tbody>\n",
       "\t<tr><td>5d5ffcfce4b011b5291791a8</td><td>0908263-X_HCI-007_PDXtumor_R1.fastq.gz     </td><td>3992597315</td><td>pdxnet/pdxnet-datapool</td><td>NA</td><td>NA</td><td>NA</td><td>NA</td><td>0908263-X</td><td>NA</td><td>⋯</td><td>NO</td><td>NA</td><td>1</td><td>NA</td><td>NA</td><td>NA</td><td>NA</td><td>NA</td><td>NA</td><td>WES</td></tr>\n",
       "\t<tr><td>5d5ffcfce4b011b5291791ea</td><td>0908263-X_HCI-007_PDXtumor_R2.fastq.gz     </td><td>3809574763</td><td>pdxnet/pdxnet-datapool</td><td>NA</td><td>NA</td><td>NA</td><td>NA</td><td>0908263-X</td><td>NA</td><td>⋯</td><td>NO</td><td>NA</td><td>2</td><td>NA</td><td>NA</td><td>NA</td><td>NA</td><td>NA</td><td>NA</td><td>WES</td></tr>\n",
       "\t<tr><td>5d5ffcfce4b011b52917902b</td><td>1007649-T_HCI-008_Patient_tumor_R1.fastq.gz</td><td>4687766228</td><td>pdxnet/pdxnet-datapool</td><td>NA</td><td>NA</td><td>NA</td><td>NA</td><td>1007649-T</td><td>NA</td><td>⋯</td><td>NO</td><td>NA</td><td>1</td><td>NA</td><td>NA</td><td>NA</td><td>NA</td><td>NA</td><td>NA</td><td>WES</td></tr>\n",
       "\t<tr><td>5d5ffcfce4b011b529179187</td><td>1007649-T_HCI-008_Patient_tumor_R2.fastq.gz</td><td>4442360214</td><td>pdxnet/pdxnet-datapool</td><td>NA</td><td>NA</td><td>NA</td><td>NA</td><td>1007649-T</td><td>NA</td><td>⋯</td><td>NO</td><td>NA</td><td>2</td><td>NA</td><td>NA</td><td>NA</td><td>NA</td><td>NA</td><td>NA</td><td>WES</td></tr>\n",
       "\t<tr><td>5d5ffcfce4b011b5291791dd</td><td>1007649-X_HCI-008_PDXtumor_R1.fastq.gz     </td><td>3846953257</td><td>pdxnet/pdxnet-datapool</td><td>NA</td><td>NA</td><td>NA</td><td>NA</td><td>1007649-X</td><td>NA</td><td>⋯</td><td>NO</td><td>NA</td><td>1</td><td>NA</td><td>NA</td><td>NA</td><td>NA</td><td>NA</td><td>NA</td><td>WES</td></tr>\n",
       "\t<tr><td>5d5ffcfce4b011b5291791e4</td><td>1007649-X_HCI-008_PDXtumor_R2.fastq.gz     </td><td>3638143772</td><td>pdxnet/pdxnet-datapool</td><td>NA</td><td>NA</td><td>NA</td><td>NA</td><td>1007649-X</td><td>NA</td><td>⋯</td><td>NO</td><td>NA</td><td>2</td><td>NA</td><td>NA</td><td>NA</td><td>NA</td><td>NA</td><td>NA</td><td>WES</td></tr>\n",
       "</tbody>\n",
       "</table>\n"
      ],
      "text/latex": [
       "A tibble: 6 × 64\n",
       "\\begin{tabular}{lllllllllllllllllllll}\n",
       " id & name & size & project & trimmed\\_read\\_count & p1\\_1 & Is FFPE & passage & sample\\_id & prop\\_ribosomal\\_bases & ⋯ & dbgap\\_upload & model\\_id & paired\\_end & \\_\\_inherit\\_\\_ & update\\_manifest & species & tumor\\_id & investigation & prop\\_20x\\_cov & experimental\\_strategy\\\\\n",
       " <chr> & <chr> & <dbl> & <chr> & <lgl> & <lgl> & <lgl> & <lgl> & <chr> & <lgl> & ⋯ & <chr> & <lgl> & <dbl> & <lgl> & <lgl> & <lgl> & <lgl> & <lgl> & <lgl> & <chr>\\\\\n",
       "\\hline\n",
       "\t 5d5ffcfce4b011b5291791a8 & 0908263-X\\_HCI-007\\_PDXtumor\\_R1.fastq.gz      & 3992597315 & pdxnet/pdxnet-datapool & NA & NA & NA & NA & 0908263-X & NA & ⋯ & NO & NA & 1 & NA & NA & NA & NA & NA & NA & WES\\\\\n",
       "\t 5d5ffcfce4b011b5291791ea & 0908263-X\\_HCI-007\\_PDXtumor\\_R2.fastq.gz      & 3809574763 & pdxnet/pdxnet-datapool & NA & NA & NA & NA & 0908263-X & NA & ⋯ & NO & NA & 2 & NA & NA & NA & NA & NA & NA & WES\\\\\n",
       "\t 5d5ffcfce4b011b52917902b & 1007649-T\\_HCI-008\\_Patient\\_tumor\\_R1.fastq.gz & 4687766228 & pdxnet/pdxnet-datapool & NA & NA & NA & NA & 1007649-T & NA & ⋯ & NO & NA & 1 & NA & NA & NA & NA & NA & NA & WES\\\\\n",
       "\t 5d5ffcfce4b011b529179187 & 1007649-T\\_HCI-008\\_Patient\\_tumor\\_R2.fastq.gz & 4442360214 & pdxnet/pdxnet-datapool & NA & NA & NA & NA & 1007649-T & NA & ⋯ & NO & NA & 2 & NA & NA & NA & NA & NA & NA & WES\\\\\n",
       "\t 5d5ffcfce4b011b5291791dd & 1007649-X\\_HCI-008\\_PDXtumor\\_R1.fastq.gz      & 3846953257 & pdxnet/pdxnet-datapool & NA & NA & NA & NA & 1007649-X & NA & ⋯ & NO & NA & 1 & NA & NA & NA & NA & NA & NA & WES\\\\\n",
       "\t 5d5ffcfce4b011b5291791e4 & 1007649-X\\_HCI-008\\_PDXtumor\\_R2.fastq.gz      & 3638143772 & pdxnet/pdxnet-datapool & NA & NA & NA & NA & 1007649-X & NA & ⋯ & NO & NA & 2 & NA & NA & NA & NA & NA & NA & WES\\\\\n",
       "\\end{tabular}\n"
      ],
      "text/markdown": [
       "\n",
       "A tibble: 6 × 64\n",
       "\n",
       "| id &lt;chr&gt; | name &lt;chr&gt; | size &lt;dbl&gt; | project &lt;chr&gt; | trimmed_read_count &lt;lgl&gt; | p1_1 &lt;lgl&gt; | Is FFPE &lt;lgl&gt; | passage &lt;lgl&gt; | sample_id &lt;chr&gt; | prop_ribosomal_bases &lt;lgl&gt; | ⋯ ⋯ | dbgap_upload &lt;chr&gt; | model_id &lt;lgl&gt; | paired_end &lt;dbl&gt; | __inherit__ &lt;lgl&gt; | update_manifest &lt;lgl&gt; | species &lt;lgl&gt; | tumor_id &lt;lgl&gt; | investigation &lt;lgl&gt; | prop_20x_cov &lt;lgl&gt; | experimental_strategy &lt;chr&gt; |\n",
       "|---|---|---|---|---|---|---|---|---|---|---|---|---|---|---|---|---|---|---|---|---|\n",
       "| 5d5ffcfce4b011b5291791a8 | 0908263-X_HCI-007_PDXtumor_R1.fastq.gz      | 3992597315 | pdxnet/pdxnet-datapool | NA | NA | NA | NA | 0908263-X | NA | ⋯ | NO | NA | 1 | NA | NA | NA | NA | NA | NA | WES |\n",
       "| 5d5ffcfce4b011b5291791ea | 0908263-X_HCI-007_PDXtumor_R2.fastq.gz      | 3809574763 | pdxnet/pdxnet-datapool | NA | NA | NA | NA | 0908263-X | NA | ⋯ | NO | NA | 2 | NA | NA | NA | NA | NA | NA | WES |\n",
       "| 5d5ffcfce4b011b52917902b | 1007649-T_HCI-008_Patient_tumor_R1.fastq.gz | 4687766228 | pdxnet/pdxnet-datapool | NA | NA | NA | NA | 1007649-T | NA | ⋯ | NO | NA | 1 | NA | NA | NA | NA | NA | NA | WES |\n",
       "| 5d5ffcfce4b011b529179187 | 1007649-T_HCI-008_Patient_tumor_R2.fastq.gz | 4442360214 | pdxnet/pdxnet-datapool | NA | NA | NA | NA | 1007649-T | NA | ⋯ | NO | NA | 2 | NA | NA | NA | NA | NA | NA | WES |\n",
       "| 5d5ffcfce4b011b5291791dd | 1007649-X_HCI-008_PDXtumor_R1.fastq.gz      | 3846953257 | pdxnet/pdxnet-datapool | NA | NA | NA | NA | 1007649-X | NA | ⋯ | NO | NA | 1 | NA | NA | NA | NA | NA | NA | WES |\n",
       "| 5d5ffcfce4b011b5291791e4 | 1007649-X_HCI-008_PDXtumor_R2.fastq.gz      | 3638143772 | pdxnet/pdxnet-datapool | NA | NA | NA | NA | 1007649-X | NA | ⋯ | NO | NA | 2 | NA | NA | NA | NA | NA | NA | WES |\n",
       "\n"
      ],
      "text/plain": [
       "  id                       name                                       \n",
       "1 5d5ffcfce4b011b5291791a8 0908263-X_HCI-007_PDXtumor_R1.fastq.gz     \n",
       "2 5d5ffcfce4b011b5291791ea 0908263-X_HCI-007_PDXtumor_R2.fastq.gz     \n",
       "3 5d5ffcfce4b011b52917902b 1007649-T_HCI-008_Patient_tumor_R1.fastq.gz\n",
       "4 5d5ffcfce4b011b529179187 1007649-T_HCI-008_Patient_tumor_R2.fastq.gz\n",
       "5 5d5ffcfce4b011b5291791dd 1007649-X_HCI-008_PDXtumor_R1.fastq.gz     \n",
       "6 5d5ffcfce4b011b5291791e4 1007649-X_HCI-008_PDXtumor_R2.fastq.gz     \n",
       "  size       project                trimmed_read_count p1_1 Is FFPE passage\n",
       "1 3992597315 pdxnet/pdxnet-datapool NA                 NA   NA      NA     \n",
       "2 3809574763 pdxnet/pdxnet-datapool NA                 NA   NA      NA     \n",
       "3 4687766228 pdxnet/pdxnet-datapool NA                 NA   NA      NA     \n",
       "4 4442360214 pdxnet/pdxnet-datapool NA                 NA   NA      NA     \n",
       "5 3846953257 pdxnet/pdxnet-datapool NA                 NA   NA      NA     \n",
       "6 3638143772 pdxnet/pdxnet-datapool NA                 NA   NA      NA     \n",
       "  sample_id prop_ribosomal_bases ⋯ dbgap_upload model_id paired_end __inherit__\n",
       "1 0908263-X NA                   ⋯ NO           NA       1          NA         \n",
       "2 0908263-X NA                   ⋯ NO           NA       2          NA         \n",
       "3 1007649-T NA                   ⋯ NO           NA       1          NA         \n",
       "4 1007649-T NA                   ⋯ NO           NA       2          NA         \n",
       "5 1007649-X NA                   ⋯ NO           NA       1          NA         \n",
       "6 1007649-X NA                   ⋯ NO           NA       2          NA         \n",
       "  update_manifest species tumor_id investigation prop_20x_cov\n",
       "1 NA              NA      NA       NA            NA          \n",
       "2 NA              NA      NA       NA            NA          \n",
       "3 NA              NA      NA       NA            NA          \n",
       "4 NA              NA      NA       NA            NA          \n",
       "5 NA              NA      NA       NA            NA          \n",
       "6 NA              NA      NA       NA            NA          \n",
       "  experimental_strategy\n",
       "1 WES                  \n",
       "2 WES                  \n",
       "3 WES                  \n",
       "4 WES                  \n",
       "5 WES                  \n",
       "6 WES                  "
      ]
     },
     "metadata": {},
     "output_type": "display_data"
    }
   ],
   "source": [
    "# Load in the manifest of the concatenated versions\n",
    "\n",
    "hci_concat_fastqs <- read_csv('manifest_20220209_165026_hci_concatenated_fastqs.csv') %>% mutate(name = basename(name))\n",
    "\n",
    "nrow(hci_concat_fastqs)\n",
    "head(hci_concat_fastqs)"
   ]
  },
  {
   "cell_type": "code",
   "execution_count": 28,
   "id": "3c850f87-8b95-49de-89bb-825b7b97cf65",
   "metadata": {},
   "outputs": [
    {
     "data": {
      "text/html": [
       "48"
      ],
      "text/latex": [
       "48"
      ],
      "text/markdown": [
       "48"
      ],
      "text/plain": [
       "[1] 48"
      ]
     },
     "metadata": {},
     "output_type": "display_data"
    },
    {
     "data": {
      "text/html": [
       "<table class=\"dataframe\">\n",
       "<caption>A tibble: 6 × 28</caption>\n",
       "<thead>\n",
       "\t<tr><th scope=col>contributor</th><th scope=col>file_name</th><th scope=col>patient_id</th><th scope=col>model_id</th><th scope=col>tumor_id</th><th scope=col>case_id</th><th scope=col>sample_id</th><th scope=col>sample_type</th><th scope=col>experimental_strategy</th><th scope=col>gender</th><th scope=col>⋯</th><th scope=col>data_format</th><th scope=col>data_type</th><th scope=col>platform</th><th scope=col>is_ffpe</th><th scope=col>file_size</th><th scope=col>passage</th><th scope=col>disease_type</th><th scope=col>comment</th><th scope=col>investigation</th><th scope=col>disease_detail</th></tr>\n",
       "\t<tr><th scope=col>&lt;chr&gt;</th><th scope=col>&lt;chr&gt;</th><th scope=col>&lt;chr&gt;</th><th scope=col>&lt;lgl&gt;</th><th scope=col>&lt;lgl&gt;</th><th scope=col>&lt;chr&gt;</th><th scope=col>&lt;chr&gt;</th><th scope=col>&lt;chr&gt;</th><th scope=col>&lt;chr&gt;</th><th scope=col>&lt;chr&gt;</th><th scope=col>⋯</th><th scope=col>&lt;lgl&gt;</th><th scope=col>&lt;lgl&gt;</th><th scope=col>&lt;chr&gt;</th><th scope=col>&lt;lgl&gt;</th><th scope=col>&lt;lgl&gt;</th><th scope=col>&lt;chr&gt;</th><th scope=col>&lt;chr&gt;</th><th scope=col>&lt;lgl&gt;</th><th scope=col>&lt;lgl&gt;</th><th scope=col>&lt;chr&gt;</th></tr>\n",
       "</thead>\n",
       "<tbody>\n",
       "\t<tr><td>HCI</td><td>lane1-index03-TTAGGC-0908263-X_TTAGGC_L001_R1_001.fastq.gz</td><td>HCI007</td><td>NA</td><td>NA</td><td>HCI007</td><td>0908263-X</td><td>PDX  </td><td>WES</td><td>Female</td><td>⋯</td><td>NA</td><td>NA</td><td>Illumina HiSeq</td><td>NA</td><td>NA</td><td>? </td><td>Breast</td><td>NA</td><td>NA</td><td>Breast Pleural Effusion</td></tr>\n",
       "\t<tr><td>HCI</td><td>lane1-index03-TTAGGC-0908263-X_TTAGGC_L001_R1_001.fastq.gz</td><td>HCI007</td><td>NA</td><td>NA</td><td>HCI007</td><td>0908263-X</td><td>PDX  </td><td>WES</td><td>Female</td><td>⋯</td><td>NA</td><td>NA</td><td>Illumina HiSeq</td><td>NA</td><td>NA</td><td>? </td><td>Breast</td><td>NA</td><td>NA</td><td>Breast Pleural Effusion</td></tr>\n",
       "\t<tr><td>HCI</td><td>lane1-index04-TGACCA-1007649-T_TGACCA_L001_R1_001.fastq.gz</td><td>HCI008</td><td>NA</td><td>NA</td><td>HCI008</td><td>1007649-T</td><td>Tumor</td><td>WES</td><td>Female</td><td>⋯</td><td>NA</td><td>NA</td><td>Illumina HiSeq</td><td>NA</td><td>NA</td><td>NA</td><td>Breast</td><td>NA</td><td>NA</td><td>Breast Pleural Effusion</td></tr>\n",
       "\t<tr><td>HCI</td><td>lane1-index04-TGACCA-1007649-T_TGACCA_L001_R1_001.fastq.gz</td><td>HCI008</td><td>NA</td><td>NA</td><td>HCI008</td><td>1007649-T</td><td>Tumor</td><td>WES</td><td>Female</td><td>⋯</td><td>NA</td><td>NA</td><td>Illumina HiSeq</td><td>NA</td><td>NA</td><td>NA</td><td>Breast</td><td>NA</td><td>NA</td><td>Breast Pleural Effusion</td></tr>\n",
       "\t<tr><td>HCI</td><td>lane1-index05-ACAGTG-1007649-X_ACAGTG_L001_R1_001.fastq.gz</td><td>HCI008</td><td>NA</td><td>NA</td><td>HCI008</td><td>1007649-X</td><td>PDX  </td><td>WES</td><td>Female</td><td>⋯</td><td>NA</td><td>NA</td><td>Illumina HiSeq</td><td>NA</td><td>NA</td><td>? </td><td>Breast</td><td>NA</td><td>NA</td><td>Breast Pleural Effusion</td></tr>\n",
       "\t<tr><td>HCI</td><td>lane1-index05-ACAGTG-1007649-X_ACAGTG_L001_R1_001.fastq.gz</td><td>HCI008</td><td>NA</td><td>NA</td><td>HCI008</td><td>1007649-X</td><td>PDX  </td><td>WES</td><td>Female</td><td>⋯</td><td>NA</td><td>NA</td><td>Illumina HiSeq</td><td>NA</td><td>NA</td><td>? </td><td>Breast</td><td>NA</td><td>NA</td><td>Breast Pleural Effusion</td></tr>\n",
       "</tbody>\n",
       "</table>\n"
      ],
      "text/latex": [
       "A tibble: 6 × 28\n",
       "\\begin{tabular}{lllllllllllllllllllll}\n",
       " contributor & file\\_name & patient\\_id & model\\_id & tumor\\_id & case\\_id & sample\\_id & sample\\_type & experimental\\_strategy & gender & ⋯ & data\\_format & data\\_type & platform & is\\_ffpe & file\\_size & passage & disease\\_type & comment & investigation & disease\\_detail\\\\\n",
       " <chr> & <chr> & <chr> & <lgl> & <lgl> & <chr> & <chr> & <chr> & <chr> & <chr> & ⋯ & <lgl> & <lgl> & <chr> & <lgl> & <lgl> & <chr> & <chr> & <lgl> & <lgl> & <chr>\\\\\n",
       "\\hline\n",
       "\t HCI & lane1-index03-TTAGGC-0908263-X\\_TTAGGC\\_L001\\_R1\\_001.fastq.gz & HCI007 & NA & NA & HCI007 & 0908263-X & PDX   & WES & Female & ⋯ & NA & NA & Illumina HiSeq & NA & NA & ?  & Breast & NA & NA & Breast Pleural Effusion\\\\\n",
       "\t HCI & lane1-index03-TTAGGC-0908263-X\\_TTAGGC\\_L001\\_R1\\_001.fastq.gz & HCI007 & NA & NA & HCI007 & 0908263-X & PDX   & WES & Female & ⋯ & NA & NA & Illumina HiSeq & NA & NA & ?  & Breast & NA & NA & Breast Pleural Effusion\\\\\n",
       "\t HCI & lane1-index04-TGACCA-1007649-T\\_TGACCA\\_L001\\_R1\\_001.fastq.gz & HCI008 & NA & NA & HCI008 & 1007649-T & Tumor & WES & Female & ⋯ & NA & NA & Illumina HiSeq & NA & NA & NA & Breast & NA & NA & Breast Pleural Effusion\\\\\n",
       "\t HCI & lane1-index04-TGACCA-1007649-T\\_TGACCA\\_L001\\_R1\\_001.fastq.gz & HCI008 & NA & NA & HCI008 & 1007649-T & Tumor & WES & Female & ⋯ & NA & NA & Illumina HiSeq & NA & NA & NA & Breast & NA & NA & Breast Pleural Effusion\\\\\n",
       "\t HCI & lane1-index05-ACAGTG-1007649-X\\_ACAGTG\\_L001\\_R1\\_001.fastq.gz & HCI008 & NA & NA & HCI008 & 1007649-X & PDX   & WES & Female & ⋯ & NA & NA & Illumina HiSeq & NA & NA & ?  & Breast & NA & NA & Breast Pleural Effusion\\\\\n",
       "\t HCI & lane1-index05-ACAGTG-1007649-X\\_ACAGTG\\_L001\\_R1\\_001.fastq.gz & HCI008 & NA & NA & HCI008 & 1007649-X & PDX   & WES & Female & ⋯ & NA & NA & Illumina HiSeq & NA & NA & ?  & Breast & NA & NA & Breast Pleural Effusion\\\\\n",
       "\\end{tabular}\n"
      ],
      "text/markdown": [
       "\n",
       "A tibble: 6 × 28\n",
       "\n",
       "| contributor &lt;chr&gt; | file_name &lt;chr&gt; | patient_id &lt;chr&gt; | model_id &lt;lgl&gt; | tumor_id &lt;lgl&gt; | case_id &lt;chr&gt; | sample_id &lt;chr&gt; | sample_type &lt;chr&gt; | experimental_strategy &lt;chr&gt; | gender &lt;chr&gt; | ⋯ ⋯ | data_format &lt;lgl&gt; | data_type &lt;lgl&gt; | platform &lt;chr&gt; | is_ffpe &lt;lgl&gt; | file_size &lt;lgl&gt; | passage &lt;chr&gt; | disease_type &lt;chr&gt; | comment &lt;lgl&gt; | investigation &lt;lgl&gt; | disease_detail &lt;chr&gt; |\n",
       "|---|---|---|---|---|---|---|---|---|---|---|---|---|---|---|---|---|---|---|---|---|\n",
       "| HCI | lane1-index03-TTAGGC-0908263-X_TTAGGC_L001_R1_001.fastq.gz | HCI007 | NA | NA | HCI007 | 0908263-X | PDX   | WES | Female | ⋯ | NA | NA | Illumina HiSeq | NA | NA | ?  | Breast | NA | NA | Breast Pleural Effusion |\n",
       "| HCI | lane1-index03-TTAGGC-0908263-X_TTAGGC_L001_R1_001.fastq.gz | HCI007 | NA | NA | HCI007 | 0908263-X | PDX   | WES | Female | ⋯ | NA | NA | Illumina HiSeq | NA | NA | ?  | Breast | NA | NA | Breast Pleural Effusion |\n",
       "| HCI | lane1-index04-TGACCA-1007649-T_TGACCA_L001_R1_001.fastq.gz | HCI008 | NA | NA | HCI008 | 1007649-T | Tumor | WES | Female | ⋯ | NA | NA | Illumina HiSeq | NA | NA | NA | Breast | NA | NA | Breast Pleural Effusion |\n",
       "| HCI | lane1-index04-TGACCA-1007649-T_TGACCA_L001_R1_001.fastq.gz | HCI008 | NA | NA | HCI008 | 1007649-T | Tumor | WES | Female | ⋯ | NA | NA | Illumina HiSeq | NA | NA | NA | Breast | NA | NA | Breast Pleural Effusion |\n",
       "| HCI | lane1-index05-ACAGTG-1007649-X_ACAGTG_L001_R1_001.fastq.gz | HCI008 | NA | NA | HCI008 | 1007649-X | PDX   | WES | Female | ⋯ | NA | NA | Illumina HiSeq | NA | NA | ?  | Breast | NA | NA | Breast Pleural Effusion |\n",
       "| HCI | lane1-index05-ACAGTG-1007649-X_ACAGTG_L001_R1_001.fastq.gz | HCI008 | NA | NA | HCI008 | 1007649-X | PDX   | WES | Female | ⋯ | NA | NA | Illumina HiSeq | NA | NA | ?  | Breast | NA | NA | Breast Pleural Effusion |\n",
       "\n"
      ],
      "text/plain": [
       "  contributor file_name                                                 \n",
       "1 HCI         lane1-index03-TTAGGC-0908263-X_TTAGGC_L001_R1_001.fastq.gz\n",
       "2 HCI         lane1-index03-TTAGGC-0908263-X_TTAGGC_L001_R1_001.fastq.gz\n",
       "3 HCI         lane1-index04-TGACCA-1007649-T_TGACCA_L001_R1_001.fastq.gz\n",
       "4 HCI         lane1-index04-TGACCA-1007649-T_TGACCA_L001_R1_001.fastq.gz\n",
       "5 HCI         lane1-index05-ACAGTG-1007649-X_ACAGTG_L001_R1_001.fastq.gz\n",
       "6 HCI         lane1-index05-ACAGTG-1007649-X_ACAGTG_L001_R1_001.fastq.gz\n",
       "  patient_id model_id tumor_id case_id sample_id sample_type\n",
       "1 HCI007     NA       NA       HCI007  0908263-X PDX        \n",
       "2 HCI007     NA       NA       HCI007  0908263-X PDX        \n",
       "3 HCI008     NA       NA       HCI008  1007649-T Tumor      \n",
       "4 HCI008     NA       NA       HCI008  1007649-T Tumor      \n",
       "5 HCI008     NA       NA       HCI008  1007649-X PDX        \n",
       "6 HCI008     NA       NA       HCI008  1007649-X PDX        \n",
       "  experimental_strategy gender ⋯ data_format data_type platform       is_ffpe\n",
       "1 WES                   Female ⋯ NA          NA        Illumina HiSeq NA     \n",
       "2 WES                   Female ⋯ NA          NA        Illumina HiSeq NA     \n",
       "3 WES                   Female ⋯ NA          NA        Illumina HiSeq NA     \n",
       "4 WES                   Female ⋯ NA          NA        Illumina HiSeq NA     \n",
       "5 WES                   Female ⋯ NA          NA        Illumina HiSeq NA     \n",
       "6 WES                   Female ⋯ NA          NA        Illumina HiSeq NA     \n",
       "  file_size passage disease_type comment investigation disease_detail         \n",
       "1 NA        ?       Breast       NA      NA            Breast Pleural Effusion\n",
       "2 NA        ?       Breast       NA      NA            Breast Pleural Effusion\n",
       "3 NA        NA      Breast       NA      NA            Breast Pleural Effusion\n",
       "4 NA        NA      Breast       NA      NA            Breast Pleural Effusion\n",
       "5 NA        ?       Breast       NA      NA            Breast Pleural Effusion\n",
       "6 NA        ?       Breast       NA      NA            Breast Pleural Effusion"
      ]
     },
     "metadata": {},
     "output_type": "display_data"
    }
   ],
   "source": [
    "# Create a table of the rest of the metadata that exists for the non-concat fastqs\n",
    "\n",
    "edited_hci_concat_lanes <- non_concat_lanes[c(1, 1, 25, 25, 53, 53, 75, 75, 117, 117, 157, 157, 183, 183, 209, 209, 233, 233, 253, 253, 273, 273, 295, 295, 327, 327, 351, 351, 381, 381,\n",
    "                                              413, 413, 439, 439, 469, 469, 503, 503, 533, 533, 563, 563, 580, 580, 616, 616, 654, 654), ]\n",
    "\n",
    "nrow(edited_hci_concat_lanes)\n",
    "head(edited_hci_concat_lanes)"
   ]
  },
  {
   "cell_type": "code",
   "execution_count": 29,
   "id": "f538eec2-4fb7-45f9-bce1-65bbd59c2dd1",
   "metadata": {},
   "outputs": [
    {
     "name": "stderr",
     "output_type": "stream",
     "text": [
      "Joining, by = \"file_name\"\n",
      "\n"
     ]
    },
    {
     "data": {
      "text/html": [
       "48"
      ],
      "text/latex": [
       "48"
      ],
      "text/markdown": [
       "48"
      ],
      "text/plain": [
       "[1] 48"
      ]
     },
     "metadata": {},
     "output_type": "display_data"
    },
    {
     "data": {
      "text/html": [
       "<table class=\"dataframe\">\n",
       "<caption>A tibble: 6 × 29</caption>\n",
       "<thead>\n",
       "\t<tr><th scope=col>Index</th><th scope=col>contributor</th><th scope=col>file_name</th><th scope=col>patient_id</th><th scope=col>model_id</th><th scope=col>tumor_id</th><th scope=col>case_id</th><th scope=col>sample_id</th><th scope=col>sample_type</th><th scope=col>experimental_strategy</th><th scope=col>⋯</th><th scope=col>data_format</th><th scope=col>data_type</th><th scope=col>platform</th><th scope=col>is_ffpe</th><th scope=col>file_size</th><th scope=col>passage</th><th scope=col>disease_type</th><th scope=col>comment</th><th scope=col>investigation</th><th scope=col>disease_detail</th></tr>\n",
       "\t<tr><th scope=col>&lt;dbl&gt;</th><th scope=col>&lt;chr&gt;</th><th scope=col>&lt;chr&gt;</th><th scope=col>&lt;chr&gt;</th><th scope=col>&lt;lgl&gt;</th><th scope=col>&lt;lgl&gt;</th><th scope=col>&lt;chr&gt;</th><th scope=col>&lt;chr&gt;</th><th scope=col>&lt;chr&gt;</th><th scope=col>&lt;chr&gt;</th><th scope=col>⋯</th><th scope=col>&lt;lgl&gt;</th><th scope=col>&lt;lgl&gt;</th><th scope=col>&lt;chr&gt;</th><th scope=col>&lt;lgl&gt;</th><th scope=col>&lt;lgl&gt;</th><th scope=col>&lt;chr&gt;</th><th scope=col>&lt;chr&gt;</th><th scope=col>&lt;lgl&gt;</th><th scope=col>&lt;lgl&gt;</th><th scope=col>&lt;chr&gt;</th></tr>\n",
       "</thead>\n",
       "<tbody>\n",
       "\t<tr><td>519</td><td>HCI</td><td>lane1-index03-TTAGGC-0908263-X_TTAGGC_L001_R1_001.fastq.gz</td><td>HCI007</td><td>NA</td><td>NA</td><td>HCI007</td><td>0908263-X</td><td>PDX  </td><td>WES</td><td>⋯</td><td>NA</td><td>NA</td><td>Illumina HiSeq</td><td>NA</td><td>NA</td><td>? </td><td>Breast</td><td>NA</td><td>NA</td><td>Breast Pleural Effusion</td></tr>\n",
       "\t<tr><td>519</td><td>HCI</td><td>lane1-index03-TTAGGC-0908263-X_TTAGGC_L001_R1_001.fastq.gz</td><td>HCI007</td><td>NA</td><td>NA</td><td>HCI007</td><td>0908263-X</td><td>PDX  </td><td>WES</td><td>⋯</td><td>NA</td><td>NA</td><td>Illumina HiSeq</td><td>NA</td><td>NA</td><td>? </td><td>Breast</td><td>NA</td><td>NA</td><td>Breast Pleural Effusion</td></tr>\n",
       "\t<tr><td>933</td><td>HCI</td><td>lane1-index04-TGACCA-1007649-T_TGACCA_L001_R1_001.fastq.gz</td><td>HCI008</td><td>NA</td><td>NA</td><td>HCI008</td><td>1007649-T</td><td>Tumor</td><td>WES</td><td>⋯</td><td>NA</td><td>NA</td><td>Illumina HiSeq</td><td>NA</td><td>NA</td><td>NA</td><td>Breast</td><td>NA</td><td>NA</td><td>Breast Pleural Effusion</td></tr>\n",
       "\t<tr><td>933</td><td>HCI</td><td>lane1-index04-TGACCA-1007649-T_TGACCA_L001_R1_001.fastq.gz</td><td>HCI008</td><td>NA</td><td>NA</td><td>HCI008</td><td>1007649-T</td><td>Tumor</td><td>WES</td><td>⋯</td><td>NA</td><td>NA</td><td>Illumina HiSeq</td><td>NA</td><td>NA</td><td>NA</td><td>Breast</td><td>NA</td><td>NA</td><td>Breast Pleural Effusion</td></tr>\n",
       "\t<tr><td>547</td><td>HCI</td><td>lane1-index05-ACAGTG-1007649-X_ACAGTG_L001_R1_001.fastq.gz</td><td>HCI008</td><td>NA</td><td>NA</td><td>HCI008</td><td>1007649-X</td><td>PDX  </td><td>WES</td><td>⋯</td><td>NA</td><td>NA</td><td>Illumina HiSeq</td><td>NA</td><td>NA</td><td>? </td><td>Breast</td><td>NA</td><td>NA</td><td>Breast Pleural Effusion</td></tr>\n",
       "\t<tr><td>547</td><td>HCI</td><td>lane1-index05-ACAGTG-1007649-X_ACAGTG_L001_R1_001.fastq.gz</td><td>HCI008</td><td>NA</td><td>NA</td><td>HCI008</td><td>1007649-X</td><td>PDX  </td><td>WES</td><td>⋯</td><td>NA</td><td>NA</td><td>Illumina HiSeq</td><td>NA</td><td>NA</td><td>? </td><td>Breast</td><td>NA</td><td>NA</td><td>Breast Pleural Effusion</td></tr>\n",
       "</tbody>\n",
       "</table>\n"
      ],
      "text/latex": [
       "A tibble: 6 × 29\n",
       "\\begin{tabular}{lllllllllllllllllllll}\n",
       " Index & contributor & file\\_name & patient\\_id & model\\_id & tumor\\_id & case\\_id & sample\\_id & sample\\_type & experimental\\_strategy & ⋯ & data\\_format & data\\_type & platform & is\\_ffpe & file\\_size & passage & disease\\_type & comment & investigation & disease\\_detail\\\\\n",
       " <dbl> & <chr> & <chr> & <chr> & <lgl> & <lgl> & <chr> & <chr> & <chr> & <chr> & ⋯ & <lgl> & <lgl> & <chr> & <lgl> & <lgl> & <chr> & <chr> & <lgl> & <lgl> & <chr>\\\\\n",
       "\\hline\n",
       "\t 519 & HCI & lane1-index03-TTAGGC-0908263-X\\_TTAGGC\\_L001\\_R1\\_001.fastq.gz & HCI007 & NA & NA & HCI007 & 0908263-X & PDX   & WES & ⋯ & NA & NA & Illumina HiSeq & NA & NA & ?  & Breast & NA & NA & Breast Pleural Effusion\\\\\n",
       "\t 519 & HCI & lane1-index03-TTAGGC-0908263-X\\_TTAGGC\\_L001\\_R1\\_001.fastq.gz & HCI007 & NA & NA & HCI007 & 0908263-X & PDX   & WES & ⋯ & NA & NA & Illumina HiSeq & NA & NA & ?  & Breast & NA & NA & Breast Pleural Effusion\\\\\n",
       "\t 933 & HCI & lane1-index04-TGACCA-1007649-T\\_TGACCA\\_L001\\_R1\\_001.fastq.gz & HCI008 & NA & NA & HCI008 & 1007649-T & Tumor & WES & ⋯ & NA & NA & Illumina HiSeq & NA & NA & NA & Breast & NA & NA & Breast Pleural Effusion\\\\\n",
       "\t 933 & HCI & lane1-index04-TGACCA-1007649-T\\_TGACCA\\_L001\\_R1\\_001.fastq.gz & HCI008 & NA & NA & HCI008 & 1007649-T & Tumor & WES & ⋯ & NA & NA & Illumina HiSeq & NA & NA & NA & Breast & NA & NA & Breast Pleural Effusion\\\\\n",
       "\t 547 & HCI & lane1-index05-ACAGTG-1007649-X\\_ACAGTG\\_L001\\_R1\\_001.fastq.gz & HCI008 & NA & NA & HCI008 & 1007649-X & PDX   & WES & ⋯ & NA & NA & Illumina HiSeq & NA & NA & ?  & Breast & NA & NA & Breast Pleural Effusion\\\\\n",
       "\t 547 & HCI & lane1-index05-ACAGTG-1007649-X\\_ACAGTG\\_L001\\_R1\\_001.fastq.gz & HCI008 & NA & NA & HCI008 & 1007649-X & PDX   & WES & ⋯ & NA & NA & Illumina HiSeq & NA & NA & ?  & Breast & NA & NA & Breast Pleural Effusion\\\\\n",
       "\\end{tabular}\n"
      ],
      "text/markdown": [
       "\n",
       "A tibble: 6 × 29\n",
       "\n",
       "| Index &lt;dbl&gt; | contributor &lt;chr&gt; | file_name &lt;chr&gt; | patient_id &lt;chr&gt; | model_id &lt;lgl&gt; | tumor_id &lt;lgl&gt; | case_id &lt;chr&gt; | sample_id &lt;chr&gt; | sample_type &lt;chr&gt; | experimental_strategy &lt;chr&gt; | ⋯ ⋯ | data_format &lt;lgl&gt; | data_type &lt;lgl&gt; | platform &lt;chr&gt; | is_ffpe &lt;lgl&gt; | file_size &lt;lgl&gt; | passage &lt;chr&gt; | disease_type &lt;chr&gt; | comment &lt;lgl&gt; | investigation &lt;lgl&gt; | disease_detail &lt;chr&gt; |\n",
       "|---|---|---|---|---|---|---|---|---|---|---|---|---|---|---|---|---|---|---|---|---|\n",
       "| 519 | HCI | lane1-index03-TTAGGC-0908263-X_TTAGGC_L001_R1_001.fastq.gz | HCI007 | NA | NA | HCI007 | 0908263-X | PDX   | WES | ⋯ | NA | NA | Illumina HiSeq | NA | NA | ?  | Breast | NA | NA | Breast Pleural Effusion |\n",
       "| 519 | HCI | lane1-index03-TTAGGC-0908263-X_TTAGGC_L001_R1_001.fastq.gz | HCI007 | NA | NA | HCI007 | 0908263-X | PDX   | WES | ⋯ | NA | NA | Illumina HiSeq | NA | NA | ?  | Breast | NA | NA | Breast Pleural Effusion |\n",
       "| 933 | HCI | lane1-index04-TGACCA-1007649-T_TGACCA_L001_R1_001.fastq.gz | HCI008 | NA | NA | HCI008 | 1007649-T | Tumor | WES | ⋯ | NA | NA | Illumina HiSeq | NA | NA | NA | Breast | NA | NA | Breast Pleural Effusion |\n",
       "| 933 | HCI | lane1-index04-TGACCA-1007649-T_TGACCA_L001_R1_001.fastq.gz | HCI008 | NA | NA | HCI008 | 1007649-T | Tumor | WES | ⋯ | NA | NA | Illumina HiSeq | NA | NA | NA | Breast | NA | NA | Breast Pleural Effusion |\n",
       "| 547 | HCI | lane1-index05-ACAGTG-1007649-X_ACAGTG_L001_R1_001.fastq.gz | HCI008 | NA | NA | HCI008 | 1007649-X | PDX   | WES | ⋯ | NA | NA | Illumina HiSeq | NA | NA | ?  | Breast | NA | NA | Breast Pleural Effusion |\n",
       "| 547 | HCI | lane1-index05-ACAGTG-1007649-X_ACAGTG_L001_R1_001.fastq.gz | HCI008 | NA | NA | HCI008 | 1007649-X | PDX   | WES | ⋯ | NA | NA | Illumina HiSeq | NA | NA | ?  | Breast | NA | NA | Breast Pleural Effusion |\n",
       "\n"
      ],
      "text/plain": [
       "  Index contributor file_name                                                 \n",
       "1 519   HCI         lane1-index03-TTAGGC-0908263-X_TTAGGC_L001_R1_001.fastq.gz\n",
       "2 519   HCI         lane1-index03-TTAGGC-0908263-X_TTAGGC_L001_R1_001.fastq.gz\n",
       "3 933   HCI         lane1-index04-TGACCA-1007649-T_TGACCA_L001_R1_001.fastq.gz\n",
       "4 933   HCI         lane1-index04-TGACCA-1007649-T_TGACCA_L001_R1_001.fastq.gz\n",
       "5 547   HCI         lane1-index05-ACAGTG-1007649-X_ACAGTG_L001_R1_001.fastq.gz\n",
       "6 547   HCI         lane1-index05-ACAGTG-1007649-X_ACAGTG_L001_R1_001.fastq.gz\n",
       "  patient_id model_id tumor_id case_id sample_id sample_type\n",
       "1 HCI007     NA       NA       HCI007  0908263-X PDX        \n",
       "2 HCI007     NA       NA       HCI007  0908263-X PDX        \n",
       "3 HCI008     NA       NA       HCI008  1007649-T Tumor      \n",
       "4 HCI008     NA       NA       HCI008  1007649-T Tumor      \n",
       "5 HCI008     NA       NA       HCI008  1007649-X PDX        \n",
       "6 HCI008     NA       NA       HCI008  1007649-X PDX        \n",
       "  experimental_strategy ⋯ data_format data_type platform       is_ffpe\n",
       "1 WES                   ⋯ NA          NA        Illumina HiSeq NA     \n",
       "2 WES                   ⋯ NA          NA        Illumina HiSeq NA     \n",
       "3 WES                   ⋯ NA          NA        Illumina HiSeq NA     \n",
       "4 WES                   ⋯ NA          NA        Illumina HiSeq NA     \n",
       "5 WES                   ⋯ NA          NA        Illumina HiSeq NA     \n",
       "6 WES                   ⋯ NA          NA        Illumina HiSeq NA     \n",
       "  file_size passage disease_type comment investigation disease_detail         \n",
       "1 NA        ?       Breast       NA      NA            Breast Pleural Effusion\n",
       "2 NA        ?       Breast       NA      NA            Breast Pleural Effusion\n",
       "3 NA        NA      Breast       NA      NA            Breast Pleural Effusion\n",
       "4 NA        NA      Breast       NA      NA            Breast Pleural Effusion\n",
       "5 NA        ?       Breast       NA      NA            Breast Pleural Effusion\n",
       "6 NA        ?       Breast       NA      NA            Breast Pleural Effusion"
      ]
     },
     "metadata": {},
     "output_type": "display_data"
    }
   ],
   "source": [
    "# Also need the index column\n",
    "\n",
    "edited_hci_concat_lanes <- edited_hci_concat_lanes %>% left_join(select(pdtc_files, Index, file_name)) %>% select(Index, contributor:disease_detail)\n",
    "\n",
    "nrow(edited_hci_concat_lanes)\n",
    "head(edited_hci_concat_lanes)"
   ]
  },
  {
   "cell_type": "code",
   "execution_count": 30,
   "id": "c7fb0bee-d262-4dc5-b182-dfb57d4269ae",
   "metadata": {},
   "outputs": [
    {
     "data": {
      "text/html": [
       "TRUE"
      ],
      "text/latex": [
       "TRUE"
      ],
      "text/markdown": [
       "TRUE"
      ],
      "text/plain": [
       "[1] TRUE"
      ]
     },
     "metadata": {},
     "output_type": "display_data"
    }
   ],
   "source": [
    "# Double check that they're all in the same order\n",
    "\n",
    "all(hci_concat_fastqs$sample_id == edited_hci_concat_lanes$sample_id)"
   ]
  },
  {
   "cell_type": "code",
   "execution_count": 31,
   "id": "d5f6718d-df6a-4ea4-b548-fc55ab24130d",
   "metadata": {},
   "outputs": [
    {
     "data": {
      "text/html": [
       "48"
      ],
      "text/latex": [
       "48"
      ],
      "text/markdown": [
       "48"
      ],
      "text/plain": [
       "[1] 48"
      ]
     },
     "metadata": {},
     "output_type": "display_data"
    },
    {
     "data": {
      "text/html": [
       "<table class=\"dataframe\">\n",
       "<caption>A tibble: 6 × 29</caption>\n",
       "<thead>\n",
       "\t<tr><th scope=col>Index</th><th scope=col>contributor</th><th scope=col>file_name</th><th scope=col>patient_id</th><th scope=col>model_id</th><th scope=col>tumor_id</th><th scope=col>case_id</th><th scope=col>sample_id</th><th scope=col>sample_type</th><th scope=col>experimental_strategy</th><th scope=col>⋯</th><th scope=col>data_format</th><th scope=col>data_type</th><th scope=col>platform</th><th scope=col>is_ffpe</th><th scope=col>file_size</th><th scope=col>passage</th><th scope=col>disease_type</th><th scope=col>comment</th><th scope=col>investigation</th><th scope=col>disease_detail</th></tr>\n",
       "\t<tr><th scope=col>&lt;dbl&gt;</th><th scope=col>&lt;chr&gt;</th><th scope=col>&lt;chr&gt;</th><th scope=col>&lt;chr&gt;</th><th scope=col>&lt;lgl&gt;</th><th scope=col>&lt;lgl&gt;</th><th scope=col>&lt;chr&gt;</th><th scope=col>&lt;chr&gt;</th><th scope=col>&lt;chr&gt;</th><th scope=col>&lt;chr&gt;</th><th scope=col>⋯</th><th scope=col>&lt;chr&gt;</th><th scope=col>&lt;chr&gt;</th><th scope=col>&lt;chr&gt;</th><th scope=col>&lt;lgl&gt;</th><th scope=col>&lt;dbl&gt;</th><th scope=col>&lt;chr&gt;</th><th scope=col>&lt;chr&gt;</th><th scope=col>&lt;lgl&gt;</th><th scope=col>&lt;lgl&gt;</th><th scope=col>&lt;chr&gt;</th></tr>\n",
       "</thead>\n",
       "<tbody>\n",
       "\t<tr><td>519</td><td>HCI</td><td>0908263-X_HCI-007_PDXtumor_R1.fastq.gz     </td><td>HCI007</td><td>NA</td><td>NA</td><td>HCI007</td><td>0908263-X</td><td>PDX  </td><td>WES</td><td>⋯</td><td>fastq.gz</td><td>Raw Reads</td><td>Illumina HiSeq</td><td>NA</td><td>3992597315</td><td>? </td><td>Breast</td><td>NA</td><td>NA</td><td>Breast Pleural Effusion</td></tr>\n",
       "\t<tr><td>519</td><td>HCI</td><td>0908263-X_HCI-007_PDXtumor_R2.fastq.gz     </td><td>HCI007</td><td>NA</td><td>NA</td><td>HCI007</td><td>0908263-X</td><td>PDX  </td><td>WES</td><td>⋯</td><td>fastq.gz</td><td>Raw Reads</td><td>Illumina HiSeq</td><td>NA</td><td>3809574763</td><td>? </td><td>Breast</td><td>NA</td><td>NA</td><td>Breast Pleural Effusion</td></tr>\n",
       "\t<tr><td>933</td><td>HCI</td><td>1007649-T_HCI-008_Patient_tumor_R1.fastq.gz</td><td>HCI008</td><td>NA</td><td>NA</td><td>HCI008</td><td>1007649-T</td><td>Tumor</td><td>WES</td><td>⋯</td><td>fastq.gz</td><td>Raw Reads</td><td>Illumina HiSeq</td><td>NA</td><td>4687766228</td><td>NA</td><td>Breast</td><td>NA</td><td>NA</td><td>Breast Pleural Effusion</td></tr>\n",
       "\t<tr><td>933</td><td>HCI</td><td>1007649-T_HCI-008_Patient_tumor_R2.fastq.gz</td><td>HCI008</td><td>NA</td><td>NA</td><td>HCI008</td><td>1007649-T</td><td>Tumor</td><td>WES</td><td>⋯</td><td>fastq.gz</td><td>Raw Reads</td><td>Illumina HiSeq</td><td>NA</td><td>4442360214</td><td>NA</td><td>Breast</td><td>NA</td><td>NA</td><td>Breast Pleural Effusion</td></tr>\n",
       "\t<tr><td>547</td><td>HCI</td><td>1007649-X_HCI-008_PDXtumor_R1.fastq.gz     </td><td>HCI008</td><td>NA</td><td>NA</td><td>HCI008</td><td>1007649-X</td><td>PDX  </td><td>WES</td><td>⋯</td><td>fastq.gz</td><td>Raw Reads</td><td>Illumina HiSeq</td><td>NA</td><td>3846953257</td><td>? </td><td>Breast</td><td>NA</td><td>NA</td><td>Breast Pleural Effusion</td></tr>\n",
       "\t<tr><td>547</td><td>HCI</td><td>1007649-X_HCI-008_PDXtumor_R2.fastq.gz     </td><td>HCI008</td><td>NA</td><td>NA</td><td>HCI008</td><td>1007649-X</td><td>PDX  </td><td>WES</td><td>⋯</td><td>fastq.gz</td><td>Raw Reads</td><td>Illumina HiSeq</td><td>NA</td><td>3638143772</td><td>? </td><td>Breast</td><td>NA</td><td>NA</td><td>Breast Pleural Effusion</td></tr>\n",
       "</tbody>\n",
       "</table>\n"
      ],
      "text/latex": [
       "A tibble: 6 × 29\n",
       "\\begin{tabular}{lllllllllllllllllllll}\n",
       " Index & contributor & file\\_name & patient\\_id & model\\_id & tumor\\_id & case\\_id & sample\\_id & sample\\_type & experimental\\_strategy & ⋯ & data\\_format & data\\_type & platform & is\\_ffpe & file\\_size & passage & disease\\_type & comment & investigation & disease\\_detail\\\\\n",
       " <dbl> & <chr> & <chr> & <chr> & <lgl> & <lgl> & <chr> & <chr> & <chr> & <chr> & ⋯ & <chr> & <chr> & <chr> & <lgl> & <dbl> & <chr> & <chr> & <lgl> & <lgl> & <chr>\\\\\n",
       "\\hline\n",
       "\t 519 & HCI & 0908263-X\\_HCI-007\\_PDXtumor\\_R1.fastq.gz      & HCI007 & NA & NA & HCI007 & 0908263-X & PDX   & WES & ⋯ & fastq.gz & Raw Reads & Illumina HiSeq & NA & 3992597315 & ?  & Breast & NA & NA & Breast Pleural Effusion\\\\\n",
       "\t 519 & HCI & 0908263-X\\_HCI-007\\_PDXtumor\\_R2.fastq.gz      & HCI007 & NA & NA & HCI007 & 0908263-X & PDX   & WES & ⋯ & fastq.gz & Raw Reads & Illumina HiSeq & NA & 3809574763 & ?  & Breast & NA & NA & Breast Pleural Effusion\\\\\n",
       "\t 933 & HCI & 1007649-T\\_HCI-008\\_Patient\\_tumor\\_R1.fastq.gz & HCI008 & NA & NA & HCI008 & 1007649-T & Tumor & WES & ⋯ & fastq.gz & Raw Reads & Illumina HiSeq & NA & 4687766228 & NA & Breast & NA & NA & Breast Pleural Effusion\\\\\n",
       "\t 933 & HCI & 1007649-T\\_HCI-008\\_Patient\\_tumor\\_R2.fastq.gz & HCI008 & NA & NA & HCI008 & 1007649-T & Tumor & WES & ⋯ & fastq.gz & Raw Reads & Illumina HiSeq & NA & 4442360214 & NA & Breast & NA & NA & Breast Pleural Effusion\\\\\n",
       "\t 547 & HCI & 1007649-X\\_HCI-008\\_PDXtumor\\_R1.fastq.gz      & HCI008 & NA & NA & HCI008 & 1007649-X & PDX   & WES & ⋯ & fastq.gz & Raw Reads & Illumina HiSeq & NA & 3846953257 & ?  & Breast & NA & NA & Breast Pleural Effusion\\\\\n",
       "\t 547 & HCI & 1007649-X\\_HCI-008\\_PDXtumor\\_R2.fastq.gz      & HCI008 & NA & NA & HCI008 & 1007649-X & PDX   & WES & ⋯ & fastq.gz & Raw Reads & Illumina HiSeq & NA & 3638143772 & ?  & Breast & NA & NA & Breast Pleural Effusion\\\\\n",
       "\\end{tabular}\n"
      ],
      "text/markdown": [
       "\n",
       "A tibble: 6 × 29\n",
       "\n",
       "| Index &lt;dbl&gt; | contributor &lt;chr&gt; | file_name &lt;chr&gt; | patient_id &lt;chr&gt; | model_id &lt;lgl&gt; | tumor_id &lt;lgl&gt; | case_id &lt;chr&gt; | sample_id &lt;chr&gt; | sample_type &lt;chr&gt; | experimental_strategy &lt;chr&gt; | ⋯ ⋯ | data_format &lt;chr&gt; | data_type &lt;chr&gt; | platform &lt;chr&gt; | is_ffpe &lt;lgl&gt; | file_size &lt;dbl&gt; | passage &lt;chr&gt; | disease_type &lt;chr&gt; | comment &lt;lgl&gt; | investigation &lt;lgl&gt; | disease_detail &lt;chr&gt; |\n",
       "|---|---|---|---|---|---|---|---|---|---|---|---|---|---|---|---|---|---|---|---|---|\n",
       "| 519 | HCI | 0908263-X_HCI-007_PDXtumor_R1.fastq.gz      | HCI007 | NA | NA | HCI007 | 0908263-X | PDX   | WES | ⋯ | fastq.gz | Raw Reads | Illumina HiSeq | NA | 3992597315 | ?  | Breast | NA | NA | Breast Pleural Effusion |\n",
       "| 519 | HCI | 0908263-X_HCI-007_PDXtumor_R2.fastq.gz      | HCI007 | NA | NA | HCI007 | 0908263-X | PDX   | WES | ⋯ | fastq.gz | Raw Reads | Illumina HiSeq | NA | 3809574763 | ?  | Breast | NA | NA | Breast Pleural Effusion |\n",
       "| 933 | HCI | 1007649-T_HCI-008_Patient_tumor_R1.fastq.gz | HCI008 | NA | NA | HCI008 | 1007649-T | Tumor | WES | ⋯ | fastq.gz | Raw Reads | Illumina HiSeq | NA | 4687766228 | NA | Breast | NA | NA | Breast Pleural Effusion |\n",
       "| 933 | HCI | 1007649-T_HCI-008_Patient_tumor_R2.fastq.gz | HCI008 | NA | NA | HCI008 | 1007649-T | Tumor | WES | ⋯ | fastq.gz | Raw Reads | Illumina HiSeq | NA | 4442360214 | NA | Breast | NA | NA | Breast Pleural Effusion |\n",
       "| 547 | HCI | 1007649-X_HCI-008_PDXtumor_R1.fastq.gz      | HCI008 | NA | NA | HCI008 | 1007649-X | PDX   | WES | ⋯ | fastq.gz | Raw Reads | Illumina HiSeq | NA | 3846953257 | ?  | Breast | NA | NA | Breast Pleural Effusion |\n",
       "| 547 | HCI | 1007649-X_HCI-008_PDXtumor_R2.fastq.gz      | HCI008 | NA | NA | HCI008 | 1007649-X | PDX   | WES | ⋯ | fastq.gz | Raw Reads | Illumina HiSeq | NA | 3638143772 | ?  | Breast | NA | NA | Breast Pleural Effusion |\n",
       "\n"
      ],
      "text/plain": [
       "  Index contributor file_name                                   patient_id\n",
       "1 519   HCI         0908263-X_HCI-007_PDXtumor_R1.fastq.gz      HCI007    \n",
       "2 519   HCI         0908263-X_HCI-007_PDXtumor_R2.fastq.gz      HCI007    \n",
       "3 933   HCI         1007649-T_HCI-008_Patient_tumor_R1.fastq.gz HCI008    \n",
       "4 933   HCI         1007649-T_HCI-008_Patient_tumor_R2.fastq.gz HCI008    \n",
       "5 547   HCI         1007649-X_HCI-008_PDXtumor_R1.fastq.gz      HCI008    \n",
       "6 547   HCI         1007649-X_HCI-008_PDXtumor_R2.fastq.gz      HCI008    \n",
       "  model_id tumor_id case_id sample_id sample_type experimental_strategy ⋯\n",
       "1 NA       NA       HCI007  0908263-X PDX         WES                   ⋯\n",
       "2 NA       NA       HCI007  0908263-X PDX         WES                   ⋯\n",
       "3 NA       NA       HCI008  1007649-T Tumor       WES                   ⋯\n",
       "4 NA       NA       HCI008  1007649-T Tumor       WES                   ⋯\n",
       "5 NA       NA       HCI008  1007649-X PDX         WES                   ⋯\n",
       "6 NA       NA       HCI008  1007649-X PDX         WES                   ⋯\n",
       "  data_format data_type platform       is_ffpe file_size  passage disease_type\n",
       "1 fastq.gz    Raw Reads Illumina HiSeq NA      3992597315 ?       Breast      \n",
       "2 fastq.gz    Raw Reads Illumina HiSeq NA      3809574763 ?       Breast      \n",
       "3 fastq.gz    Raw Reads Illumina HiSeq NA      4687766228 NA      Breast      \n",
       "4 fastq.gz    Raw Reads Illumina HiSeq NA      4442360214 NA      Breast      \n",
       "5 fastq.gz    Raw Reads Illumina HiSeq NA      3846953257 ?       Breast      \n",
       "6 fastq.gz    Raw Reads Illumina HiSeq NA      3638143772 ?       Breast      \n",
       "  comment investigation disease_detail         \n",
       "1 NA      NA            Breast Pleural Effusion\n",
       "2 NA      NA            Breast Pleural Effusion\n",
       "3 NA      NA            Breast Pleural Effusion\n",
       "4 NA      NA            Breast Pleural Effusion\n",
       "5 NA      NA            Breast Pleural Effusion\n",
       "6 NA      NA            Breast Pleural Effusion"
      ]
     },
     "metadata": {},
     "output_type": "display_data"
    }
   ],
   "source": [
    "# Merge\n",
    "\n",
    "edited_hci_concat_lanes$file_name <- hci_concat_fastqs$name\n",
    "edited_hci_concat_lanes$file_size <- hci_concat_fastqs$size\n",
    "\n",
    "edited_hci_concat_lanes$data_category <- 'Raw Sequencing Data'\n",
    "edited_hci_concat_lanes$data_format <- 'fastq.gz'\n",
    "edited_hci_concat_lanes$data_type <- 'Raw Reads'\n",
    "\n",
    "nrow(edited_hci_concat_lanes)\n",
    "head(edited_hci_concat_lanes)"
   ]
  },
  {
   "cell_type": "code",
   "execution_count": 32,
   "id": "6945231d-33d1-4b2e-a4b8-90d3eb304fb2",
   "metadata": {},
   "outputs": [],
   "source": [
    "# Export\n",
    "\n",
    "edited_hci_concat_lanes %>% write_csv('2022-02-09_hci_concat_lanes_for_portal.csv')"
   ]
  },
  {
   "cell_type": "code",
   "execution_count": 33,
   "id": "15d3adb9-799f-4461-8720-ccc08507587e",
   "metadata": {},
   "outputs": [
    {
     "data": {
      "text/html": [
       "2142"
      ],
      "text/latex": [
       "2142"
      ],
      "text/markdown": [
       "2142"
      ],
      "text/plain": [
       "[1] 2142"
      ]
     },
     "metadata": {},
     "output_type": "display_data"
    }
   ],
   "source": [
    "# Add them back into the full dataset\n",
    "\n",
    "# First remove the existing ones\n",
    "\n",
    "edited_pdtc_files <- edited_pdtc_files %>% filter(!(file_name %in% non_concat_lanes$file_name))\n",
    "edited_pdtc_files %>% nrow()"
   ]
  },
  {
   "cell_type": "code",
   "execution_count": 34,
   "id": "19da4ac2-f49a-4613-a250-327ed83ef72d",
   "metadata": {},
   "outputs": [
    {
     "data": {
      "text/html": [
       "2825"
      ],
      "text/latex": [
       "2825"
      ],
      "text/markdown": [
       "2825"
      ],
      "text/plain": [
       "[1] 2825"
      ]
     },
     "metadata": {},
     "output_type": "display_data"
    }
   ],
   "source": [
    "# This number of rows, plus the number of ones which needed removal should add up to 2825\n",
    "# Which was the orginal amount of rows\n",
    "\n",
    "2142 + 683"
   ]
  },
  {
   "cell_type": "code",
   "execution_count": 35,
   "id": "a1d64a0d-0222-486a-b1de-6a54c4edc647",
   "metadata": {},
   "outputs": [
    {
     "data": {
      "text/html": [
       "2190"
      ],
      "text/latex": [
       "2190"
      ],
      "text/markdown": [
       "2190"
      ],
      "text/plain": [
       "[1] 2190"
      ]
     },
     "metadata": {},
     "output_type": "display_data"
    },
    {
     "data": {
      "text/html": [
       "<table class=\"dataframe\">\n",
       "<caption>A tibble: 6 × 29</caption>\n",
       "<thead>\n",
       "\t<tr><th scope=col>Index</th><th scope=col>contributor</th><th scope=col>file_name</th><th scope=col>patient_id</th><th scope=col>model_id</th><th scope=col>tumor_id</th><th scope=col>case_id</th><th scope=col>sample_id</th><th scope=col>sample_type</th><th scope=col>experimental_strategy</th><th scope=col>⋯</th><th scope=col>data_format</th><th scope=col>data_type</th><th scope=col>platform</th><th scope=col>is_ffpe</th><th scope=col>file_size</th><th scope=col>passage</th><th scope=col>disease_type</th><th scope=col>comment</th><th scope=col>investigation</th><th scope=col>disease_detail</th></tr>\n",
       "\t<tr><th scope=col>&lt;dbl&gt;</th><th scope=col>&lt;chr&gt;</th><th scope=col>&lt;chr&gt;</th><th scope=col>&lt;chr&gt;</th><th scope=col>&lt;chr&gt;</th><th scope=col>&lt;chr&gt;</th><th scope=col>&lt;chr&gt;</th><th scope=col>&lt;chr&gt;</th><th scope=col>&lt;chr&gt;</th><th scope=col>&lt;chr&gt;</th><th scope=col>⋯</th><th scope=col>&lt;chr&gt;</th><th scope=col>&lt;chr&gt;</th><th scope=col>&lt;chr&gt;</th><th scope=col>&lt;lgl&gt;</th><th scope=col>&lt;dbl&gt;</th><th scope=col>&lt;chr&gt;</th><th scope=col>&lt;chr&gt;</th><th scope=col>&lt;chr&gt;</th><th scope=col>&lt;lgl&gt;</th><th scope=col>&lt;chr&gt;</th></tr>\n",
       "</thead>\n",
       "<tbody>\n",
       "\t<tr><td>1</td><td>BCM</td><td>LZML_37246_NoIndex_L00X_R1_001.fastq.gz</td><td>24452</td><td>BCM-0002</td><td>2011012-2  </td><td>NA</td><td>BCM-0002</td><td>PDX</td><td>RNA-Seq</td><td>⋯</td><td>FASTQ.GZ</td><td>Raw Reads</td><td>Illumina</td><td>FALSE</td><td>20656964441</td><td>NA</td><td>Breast</td><td>NA</td><td>NA</td><td>Invasive breast carcinoma</td></tr>\n",
       "\t<tr><td>2</td><td>BCM</td><td>LZML_37246_NoIndex_L00X_R2_001.fastq.gz</td><td>24452</td><td>BCM-0002</td><td>2011012-2  </td><td>NA</td><td>BCM-0002</td><td>PDX</td><td>RNA-Seq</td><td>⋯</td><td>FASTQ.GZ</td><td>Raw Reads</td><td>Illumina</td><td>FALSE</td><td>21093643386</td><td>NA</td><td>Breast</td><td>NA</td><td>NA</td><td>Invasive breast carcinoma</td></tr>\n",
       "\t<tr><td>3</td><td>BCM</td><td>ML6065_GATCAGCG_L00X_R1_001.fastq.gz   </td><td>2219 </td><td>BCM-0046</td><td>2011012-46 </td><td>NA</td><td>BCM-0046</td><td>PDX</td><td>RNA-Seq</td><td>⋯</td><td>FASTQ.GZ</td><td>Raw Reads</td><td>Illumina</td><td>FALSE</td><td>22027304876</td><td>NA</td><td>Breast</td><td>NA</td><td>NA</td><td>Invasive breast carcinoma</td></tr>\n",
       "\t<tr><td>4</td><td>BCM</td><td>ML6065_GATCAGCG_L00X_R2_001.fastq.gz   </td><td>2219 </td><td>BCM-0046</td><td>2011012-46 </td><td>NA</td><td>BCM-0046</td><td>PDX</td><td>RNA-Seq</td><td>⋯</td><td>FASTQ.GZ</td><td>Raw Reads</td><td>Illumina</td><td>FALSE</td><td>22027304876</td><td>NA</td><td>Breast</td><td>NA</td><td>NA</td><td>Invasive breast carcinoma</td></tr>\n",
       "\t<tr><td>5</td><td>BCM</td><td>ML6061_CAGATCTG_L00X_R1_001.fastq.gz   </td><td>24561</td><td>BCM-0104</td><td>2011012-104</td><td>NA</td><td>BCM-0104</td><td>PDX</td><td>RNA-Seq</td><td>⋯</td><td>FASTQ.GZ</td><td>Raw Reads</td><td>Illumina</td><td>FALSE</td><td>17927987899</td><td>NA</td><td>Breast</td><td>NA</td><td>NA</td><td>Invasive breast carcinoma</td></tr>\n",
       "\t<tr><td>6</td><td>BCM</td><td>ML6061_CAGATCTG_L00X_R2_001.fastq.gz   </td><td>24561</td><td>BCM-0104</td><td>2011012-104</td><td>NA</td><td>BCM-0104</td><td>PDX</td><td>RNA-Seq</td><td>⋯</td><td>FASTQ.GZ</td><td>Raw Reads</td><td>Illumina</td><td>FALSE</td><td>18002109303</td><td>NA</td><td>Breast</td><td>NA</td><td>NA</td><td>Invasive breast carcinoma</td></tr>\n",
       "</tbody>\n",
       "</table>\n"
      ],
      "text/latex": [
       "A tibble: 6 × 29\n",
       "\\begin{tabular}{lllllllllllllllllllll}\n",
       " Index & contributor & file\\_name & patient\\_id & model\\_id & tumor\\_id & case\\_id & sample\\_id & sample\\_type & experimental\\_strategy & ⋯ & data\\_format & data\\_type & platform & is\\_ffpe & file\\_size & passage & disease\\_type & comment & investigation & disease\\_detail\\\\\n",
       " <dbl> & <chr> & <chr> & <chr> & <chr> & <chr> & <chr> & <chr> & <chr> & <chr> & ⋯ & <chr> & <chr> & <chr> & <lgl> & <dbl> & <chr> & <chr> & <chr> & <lgl> & <chr>\\\\\n",
       "\\hline\n",
       "\t 1 & BCM & LZML\\_37246\\_NoIndex\\_L00X\\_R1\\_001.fastq.gz & 24452 & BCM-0002 & 2011012-2   & NA & BCM-0002 & PDX & RNA-Seq & ⋯ & FASTQ.GZ & Raw Reads & Illumina & FALSE & 20656964441 & NA & Breast & NA & NA & Invasive breast carcinoma\\\\\n",
       "\t 2 & BCM & LZML\\_37246\\_NoIndex\\_L00X\\_R2\\_001.fastq.gz & 24452 & BCM-0002 & 2011012-2   & NA & BCM-0002 & PDX & RNA-Seq & ⋯ & FASTQ.GZ & Raw Reads & Illumina & FALSE & 21093643386 & NA & Breast & NA & NA & Invasive breast carcinoma\\\\\n",
       "\t 3 & BCM & ML6065\\_GATCAGCG\\_L00X\\_R1\\_001.fastq.gz    & 2219  & BCM-0046 & 2011012-46  & NA & BCM-0046 & PDX & RNA-Seq & ⋯ & FASTQ.GZ & Raw Reads & Illumina & FALSE & 22027304876 & NA & Breast & NA & NA & Invasive breast carcinoma\\\\\n",
       "\t 4 & BCM & ML6065\\_GATCAGCG\\_L00X\\_R2\\_001.fastq.gz    & 2219  & BCM-0046 & 2011012-46  & NA & BCM-0046 & PDX & RNA-Seq & ⋯ & FASTQ.GZ & Raw Reads & Illumina & FALSE & 22027304876 & NA & Breast & NA & NA & Invasive breast carcinoma\\\\\n",
       "\t 5 & BCM & ML6061\\_CAGATCTG\\_L00X\\_R1\\_001.fastq.gz    & 24561 & BCM-0104 & 2011012-104 & NA & BCM-0104 & PDX & RNA-Seq & ⋯ & FASTQ.GZ & Raw Reads & Illumina & FALSE & 17927987899 & NA & Breast & NA & NA & Invasive breast carcinoma\\\\\n",
       "\t 6 & BCM & ML6061\\_CAGATCTG\\_L00X\\_R2\\_001.fastq.gz    & 24561 & BCM-0104 & 2011012-104 & NA & BCM-0104 & PDX & RNA-Seq & ⋯ & FASTQ.GZ & Raw Reads & Illumina & FALSE & 18002109303 & NA & Breast & NA & NA & Invasive breast carcinoma\\\\\n",
       "\\end{tabular}\n"
      ],
      "text/markdown": [
       "\n",
       "A tibble: 6 × 29\n",
       "\n",
       "| Index &lt;dbl&gt; | contributor &lt;chr&gt; | file_name &lt;chr&gt; | patient_id &lt;chr&gt; | model_id &lt;chr&gt; | tumor_id &lt;chr&gt; | case_id &lt;chr&gt; | sample_id &lt;chr&gt; | sample_type &lt;chr&gt; | experimental_strategy &lt;chr&gt; | ⋯ ⋯ | data_format &lt;chr&gt; | data_type &lt;chr&gt; | platform &lt;chr&gt; | is_ffpe &lt;lgl&gt; | file_size &lt;dbl&gt; | passage &lt;chr&gt; | disease_type &lt;chr&gt; | comment &lt;chr&gt; | investigation &lt;lgl&gt; | disease_detail &lt;chr&gt; |\n",
       "|---|---|---|---|---|---|---|---|---|---|---|---|---|---|---|---|---|---|---|---|---|\n",
       "| 1 | BCM | LZML_37246_NoIndex_L00X_R1_001.fastq.gz | 24452 | BCM-0002 | 2011012-2   | NA | BCM-0002 | PDX | RNA-Seq | ⋯ | FASTQ.GZ | Raw Reads | Illumina | FALSE | 20656964441 | NA | Breast | NA | NA | Invasive breast carcinoma |\n",
       "| 2 | BCM | LZML_37246_NoIndex_L00X_R2_001.fastq.gz | 24452 | BCM-0002 | 2011012-2   | NA | BCM-0002 | PDX | RNA-Seq | ⋯ | FASTQ.GZ | Raw Reads | Illumina | FALSE | 21093643386 | NA | Breast | NA | NA | Invasive breast carcinoma |\n",
       "| 3 | BCM | ML6065_GATCAGCG_L00X_R1_001.fastq.gz    | 2219  | BCM-0046 | 2011012-46  | NA | BCM-0046 | PDX | RNA-Seq | ⋯ | FASTQ.GZ | Raw Reads | Illumina | FALSE | 22027304876 | NA | Breast | NA | NA | Invasive breast carcinoma |\n",
       "| 4 | BCM | ML6065_GATCAGCG_L00X_R2_001.fastq.gz    | 2219  | BCM-0046 | 2011012-46  | NA | BCM-0046 | PDX | RNA-Seq | ⋯ | FASTQ.GZ | Raw Reads | Illumina | FALSE | 22027304876 | NA | Breast | NA | NA | Invasive breast carcinoma |\n",
       "| 5 | BCM | ML6061_CAGATCTG_L00X_R1_001.fastq.gz    | 24561 | BCM-0104 | 2011012-104 | NA | BCM-0104 | PDX | RNA-Seq | ⋯ | FASTQ.GZ | Raw Reads | Illumina | FALSE | 17927987899 | NA | Breast | NA | NA | Invasive breast carcinoma |\n",
       "| 6 | BCM | ML6061_CAGATCTG_L00X_R2_001.fastq.gz    | 24561 | BCM-0104 | 2011012-104 | NA | BCM-0104 | PDX | RNA-Seq | ⋯ | FASTQ.GZ | Raw Reads | Illumina | FALSE | 18002109303 | NA | Breast | NA | NA | Invasive breast carcinoma |\n",
       "\n"
      ],
      "text/plain": [
       "  Index contributor file_name                               patient_id model_id\n",
       "1 1     BCM         LZML_37246_NoIndex_L00X_R1_001.fastq.gz 24452      BCM-0002\n",
       "2 2     BCM         LZML_37246_NoIndex_L00X_R2_001.fastq.gz 24452      BCM-0002\n",
       "3 3     BCM         ML6065_GATCAGCG_L00X_R1_001.fastq.gz    2219       BCM-0046\n",
       "4 4     BCM         ML6065_GATCAGCG_L00X_R2_001.fastq.gz    2219       BCM-0046\n",
       "5 5     BCM         ML6061_CAGATCTG_L00X_R1_001.fastq.gz    24561      BCM-0104\n",
       "6 6     BCM         ML6061_CAGATCTG_L00X_R2_001.fastq.gz    24561      BCM-0104\n",
       "  tumor_id    case_id sample_id sample_type experimental_strategy ⋯ data_format\n",
       "1 2011012-2   NA      BCM-0002  PDX         RNA-Seq               ⋯ FASTQ.GZ   \n",
       "2 2011012-2   NA      BCM-0002  PDX         RNA-Seq               ⋯ FASTQ.GZ   \n",
       "3 2011012-46  NA      BCM-0046  PDX         RNA-Seq               ⋯ FASTQ.GZ   \n",
       "4 2011012-46  NA      BCM-0046  PDX         RNA-Seq               ⋯ FASTQ.GZ   \n",
       "5 2011012-104 NA      BCM-0104  PDX         RNA-Seq               ⋯ FASTQ.GZ   \n",
       "6 2011012-104 NA      BCM-0104  PDX         RNA-Seq               ⋯ FASTQ.GZ   \n",
       "  data_type platform is_ffpe file_size   passage disease_type comment\n",
       "1 Raw Reads Illumina FALSE   20656964441 NA      Breast       NA     \n",
       "2 Raw Reads Illumina FALSE   21093643386 NA      Breast       NA     \n",
       "3 Raw Reads Illumina FALSE   22027304876 NA      Breast       NA     \n",
       "4 Raw Reads Illumina FALSE   22027304876 NA      Breast       NA     \n",
       "5 Raw Reads Illumina FALSE   17927987899 NA      Breast       NA     \n",
       "6 Raw Reads Illumina FALSE   18002109303 NA      Breast       NA     \n",
       "  investigation disease_detail           \n",
       "1 NA            Invasive breast carcinoma\n",
       "2 NA            Invasive breast carcinoma\n",
       "3 NA            Invasive breast carcinoma\n",
       "4 NA            Invasive breast carcinoma\n",
       "5 NA            Invasive breast carcinoma\n",
       "6 NA            Invasive breast carcinoma"
      ]
     },
     "metadata": {},
     "output_type": "display_data"
    }
   ],
   "source": [
    "# Put these in and rearrange the rows based on the index\n",
    "\n",
    "edited_pdtc_files <- bind_rows(edited_pdtc_files, edited_hci_concat_lanes) %>% arrange('index')\n",
    "\n",
    "edited_pdtc_files %>% nrow()\n",
    "head(edited_pdtc_files)"
   ]
  },
  {
   "cell_type": "code",
   "execution_count": 36,
   "id": "9b4234fa-56d0-420c-a128-9a6beeb1e54d",
   "metadata": {},
   "outputs": [
    {
     "data": {
      "text/html": [
       "2190"
      ],
      "text/latex": [
       "2190"
      ],
      "text/markdown": [
       "2190"
      ],
      "text/plain": [
       "[1] 2190"
      ]
     },
     "metadata": {},
     "output_type": "display_data"
    }
   ],
   "source": [
    "# That number of rows should be 2142 + 48\n",
    "\n",
    "2142 + 48"
   ]
  },
  {
   "cell_type": "markdown",
   "id": "b67750c1-e8fd-4b63-b229-86e4de8fe24a",
   "metadata": {},
   "source": [
    "### Export so far"
   ]
  },
  {
   "cell_type": "code",
   "execution_count": 37,
   "id": "eac36dd8-64dc-4852-8cab-987d6a5e40f3",
   "metadata": {},
   "outputs": [],
   "source": [
    "edited_pdtc_files %>% write_csv('2022-02-09_pdxnet_portal_pdtc_files_removed_cram_nonconcat_lanes.csv')"
   ]
  },
  {
   "cell_type": "markdown",
   "id": "69fb2955-ee72-4aad-bd23-16f484ffca89",
   "metadata": {},
   "source": [
    "### Separate the PDTCs into different sheets\n",
    "They all have their own quirks for how they've recorded things. Also, easier to fix each individually and recombine."
   ]
  },
  {
   "cell_type": "code",
   "execution_count": 38,
   "id": "e1e982d2-7048-4506-82ae-08633c3c707a",
   "metadata": {},
   "outputs": [
    {
     "data": {
      "text/html": [
       "<ol>\n",
       "\t<li><table class=\"dataframe\">\n",
       "<caption>A tibble: 1 × 29</caption>\n",
       "<thead>\n",
       "\t<tr><th scope=col>Index</th><th scope=col>contributor</th><th scope=col>file_name</th><th scope=col>patient_id</th><th scope=col>model_id</th><th scope=col>tumor_id</th><th scope=col>case_id</th><th scope=col>sample_id</th><th scope=col>sample_type</th><th scope=col>experimental_strategy</th><th scope=col>⋯</th><th scope=col>data_format</th><th scope=col>data_type</th><th scope=col>platform</th><th scope=col>is_ffpe</th><th scope=col>file_size</th><th scope=col>passage</th><th scope=col>disease_type</th><th scope=col>comment</th><th scope=col>investigation</th><th scope=col>disease_detail</th></tr>\n",
       "\t<tr><th scope=col>&lt;dbl&gt;</th><th scope=col>&lt;chr&gt;</th><th scope=col>&lt;chr&gt;</th><th scope=col>&lt;chr&gt;</th><th scope=col>&lt;chr&gt;</th><th scope=col>&lt;chr&gt;</th><th scope=col>&lt;chr&gt;</th><th scope=col>&lt;chr&gt;</th><th scope=col>&lt;chr&gt;</th><th scope=col>&lt;chr&gt;</th><th scope=col>⋯</th><th scope=col>&lt;chr&gt;</th><th scope=col>&lt;chr&gt;</th><th scope=col>&lt;chr&gt;</th><th scope=col>&lt;lgl&gt;</th><th scope=col>&lt;dbl&gt;</th><th scope=col>&lt;chr&gt;</th><th scope=col>&lt;chr&gt;</th><th scope=col>&lt;chr&gt;</th><th scope=col>&lt;lgl&gt;</th><th scope=col>&lt;chr&gt;</th></tr>\n",
       "</thead>\n",
       "<tbody>\n",
       "\t<tr><td>1</td><td>BCM</td><td>LZML_37246_NoIndex_L00X_R1_001.fastq.gz</td><td>24452</td><td>BCM-0002</td><td>2011012-2</td><td>NA</td><td>BCM-0002</td><td>PDX</td><td>RNA-Seq</td><td>⋯</td><td>FASTQ.GZ</td><td>Raw Reads</td><td>Illumina</td><td>FALSE</td><td>20656964441</td><td>NA</td><td>Breast</td><td>NA</td><td>NA</td><td>Invasive breast carcinoma</td></tr>\n",
       "</tbody>\n",
       "</table>\n",
       "</li>\n",
       "\t<li><table class=\"dataframe\">\n",
       "<caption>A tibble: 1 × 29</caption>\n",
       "<thead>\n",
       "\t<tr><th scope=col>Index</th><th scope=col>contributor</th><th scope=col>file_name</th><th scope=col>patient_id</th><th scope=col>model_id</th><th scope=col>tumor_id</th><th scope=col>case_id</th><th scope=col>sample_id</th><th scope=col>sample_type</th><th scope=col>experimental_strategy</th><th scope=col>⋯</th><th scope=col>data_format</th><th scope=col>data_type</th><th scope=col>platform</th><th scope=col>is_ffpe</th><th scope=col>file_size</th><th scope=col>passage</th><th scope=col>disease_type</th><th scope=col>comment</th><th scope=col>investigation</th><th scope=col>disease_detail</th></tr>\n",
       "\t<tr><th scope=col>&lt;dbl&gt;</th><th scope=col>&lt;chr&gt;</th><th scope=col>&lt;chr&gt;</th><th scope=col>&lt;chr&gt;</th><th scope=col>&lt;chr&gt;</th><th scope=col>&lt;chr&gt;</th><th scope=col>&lt;chr&gt;</th><th scope=col>&lt;chr&gt;</th><th scope=col>&lt;chr&gt;</th><th scope=col>&lt;chr&gt;</th><th scope=col>⋯</th><th scope=col>&lt;chr&gt;</th><th scope=col>&lt;chr&gt;</th><th scope=col>&lt;chr&gt;</th><th scope=col>&lt;lgl&gt;</th><th scope=col>&lt;dbl&gt;</th><th scope=col>&lt;chr&gt;</th><th scope=col>&lt;chr&gt;</th><th scope=col>&lt;chr&gt;</th><th scope=col>&lt;lgl&gt;</th><th scope=col>&lt;chr&gt;</th></tr>\n",
       "</thead>\n",
       "<tbody>\n",
       "\t<tr><td>209</td><td>HCI</td><td>14990X12_HCI001_patientnormal_1.txt.gz</td><td>HCI001</td><td>NA</td><td>NA</td><td>HCI001</td><td>14990X12</td><td>Normal</td><td>WES</td><td>⋯</td><td>NA</td><td>NA</td><td>Illumina HiSeq</td><td>NA</td><td>NA</td><td>NA</td><td>Breast</td><td>NA</td><td>NA</td><td>Breast Poorly Differentiated</td></tr>\n",
       "</tbody>\n",
       "</table>\n",
       "</li>\n",
       "\t<li><table class=\"dataframe\">\n",
       "<caption>A tibble: 1 × 29</caption>\n",
       "<thead>\n",
       "\t<tr><th scope=col>Index</th><th scope=col>contributor</th><th scope=col>file_name</th><th scope=col>patient_id</th><th scope=col>model_id</th><th scope=col>tumor_id</th><th scope=col>case_id</th><th scope=col>sample_id</th><th scope=col>sample_type</th><th scope=col>experimental_strategy</th><th scope=col>⋯</th><th scope=col>data_format</th><th scope=col>data_type</th><th scope=col>platform</th><th scope=col>is_ffpe</th><th scope=col>file_size</th><th scope=col>passage</th><th scope=col>disease_type</th><th scope=col>comment</th><th scope=col>investigation</th><th scope=col>disease_detail</th></tr>\n",
       "\t<tr><th scope=col>&lt;dbl&gt;</th><th scope=col>&lt;chr&gt;</th><th scope=col>&lt;chr&gt;</th><th scope=col>&lt;chr&gt;</th><th scope=col>&lt;chr&gt;</th><th scope=col>&lt;chr&gt;</th><th scope=col>&lt;chr&gt;</th><th scope=col>&lt;chr&gt;</th><th scope=col>&lt;chr&gt;</th><th scope=col>&lt;chr&gt;</th><th scope=col>⋯</th><th scope=col>&lt;chr&gt;</th><th scope=col>&lt;chr&gt;</th><th scope=col>&lt;chr&gt;</th><th scope=col>&lt;lgl&gt;</th><th scope=col>&lt;dbl&gt;</th><th scope=col>&lt;chr&gt;</th><th scope=col>&lt;chr&gt;</th><th scope=col>&lt;chr&gt;</th><th scope=col>&lt;lgl&gt;</th><th scope=col>&lt;chr&gt;</th></tr>\n",
       "</thead>\n",
       "<tbody>\n",
       "\t<tr><td>1100</td><td>MDACC</td><td>BFang-LungPDX-MS11DNA-TC211W.R1.fastq.gz</td><td>TC211</td><td>NA</td><td>NA</td><td>TC211</td><td>TC211W</td><td>Normal</td><td>WES</td><td>⋯</td><td>NA</td><td>NA</td><td>Illumina Hiseq</td><td>NA</td><td>NA</td><td>NA</td><td>Blood</td><td>NA</td><td>NA</td><td>Blood</td></tr>\n",
       "</tbody>\n",
       "</table>\n",
       "</li>\n",
       "\t<li><table class=\"dataframe\">\n",
       "<caption>A tibble: 1 × 29</caption>\n",
       "<thead>\n",
       "\t<tr><th scope=col>Index</th><th scope=col>contributor</th><th scope=col>file_name</th><th scope=col>patient_id</th><th scope=col>model_id</th><th scope=col>tumor_id</th><th scope=col>case_id</th><th scope=col>sample_id</th><th scope=col>sample_type</th><th scope=col>experimental_strategy</th><th scope=col>⋯</th><th scope=col>data_format</th><th scope=col>data_type</th><th scope=col>platform</th><th scope=col>is_ffpe</th><th scope=col>file_size</th><th scope=col>passage</th><th scope=col>disease_type</th><th scope=col>comment</th><th scope=col>investigation</th><th scope=col>disease_detail</th></tr>\n",
       "\t<tr><th scope=col>&lt;dbl&gt;</th><th scope=col>&lt;chr&gt;</th><th scope=col>&lt;chr&gt;</th><th scope=col>&lt;chr&gt;</th><th scope=col>&lt;chr&gt;</th><th scope=col>&lt;chr&gt;</th><th scope=col>&lt;chr&gt;</th><th scope=col>&lt;chr&gt;</th><th scope=col>&lt;chr&gt;</th><th scope=col>&lt;chr&gt;</th><th scope=col>⋯</th><th scope=col>&lt;chr&gt;</th><th scope=col>&lt;chr&gt;</th><th scope=col>&lt;chr&gt;</th><th scope=col>&lt;lgl&gt;</th><th scope=col>&lt;dbl&gt;</th><th scope=col>&lt;chr&gt;</th><th scope=col>&lt;chr&gt;</th><th scope=col>&lt;chr&gt;</th><th scope=col>&lt;lgl&gt;</th><th scope=col>&lt;chr&gt;</th></tr>\n",
       "</thead>\n",
       "<tbody>\n",
       "\t<tr><td>1518</td><td>UC Davis</td><td>BL0269F404_P0_GES10_166_ATCACG_L004_R1_ALL.fastq</td><td>BL0269F</td><td>BL0269F</td><td>BL0269F</td><td>BL0269F</td><td>BL0269F</td><td>Tumor</td><td>RNA-Seq</td><td>⋯</td><td>fastq</td><td>raw data</td><td>Illumina</td><td>NA</td><td>NA</td><td>P0</td><td>Bladder</td><td>NA</td><td>NA</td><td>bladder urothelial carcinoma</td></tr>\n",
       "</tbody>\n",
       "</table>\n",
       "</li>\n",
       "\t<li><table class=\"dataframe\">\n",
       "<caption>A tibble: 1 × 29</caption>\n",
       "<thead>\n",
       "\t<tr><th scope=col>Index</th><th scope=col>contributor</th><th scope=col>file_name</th><th scope=col>patient_id</th><th scope=col>model_id</th><th scope=col>tumor_id</th><th scope=col>case_id</th><th scope=col>sample_id</th><th scope=col>sample_type</th><th scope=col>experimental_strategy</th><th scope=col>⋯</th><th scope=col>data_format</th><th scope=col>data_type</th><th scope=col>platform</th><th scope=col>is_ffpe</th><th scope=col>file_size</th><th scope=col>passage</th><th scope=col>disease_type</th><th scope=col>comment</th><th scope=col>investigation</th><th scope=col>disease_detail</th></tr>\n",
       "\t<tr><th scope=col>&lt;dbl&gt;</th><th scope=col>&lt;chr&gt;</th><th scope=col>&lt;chr&gt;</th><th scope=col>&lt;chr&gt;</th><th scope=col>&lt;chr&gt;</th><th scope=col>&lt;chr&gt;</th><th scope=col>&lt;chr&gt;</th><th scope=col>&lt;chr&gt;</th><th scope=col>&lt;chr&gt;</th><th scope=col>&lt;chr&gt;</th><th scope=col>⋯</th><th scope=col>&lt;chr&gt;</th><th scope=col>&lt;chr&gt;</th><th scope=col>&lt;chr&gt;</th><th scope=col>&lt;lgl&gt;</th><th scope=col>&lt;dbl&gt;</th><th scope=col>&lt;chr&gt;</th><th scope=col>&lt;chr&gt;</th><th scope=col>&lt;chr&gt;</th><th scope=col>&lt;lgl&gt;</th><th scope=col>&lt;chr&gt;</th></tr>\n",
       "</thead>\n",
       "<tbody>\n",
       "\t<tr><td>1566</td><td>WISTAR</td><td>wm3907n_R1.fastq.gz</td><td>WM3907</td><td>wm3907n</td><td>NA</td><td>NA</td><td>wm3907n</td><td>Tumor</td><td>WES</td><td>⋯</td><td>fastq.gz</td><td>Raw Reads</td><td>Illumina</td><td>FALSE</td><td>5439234</td><td>Tumor</td><td>Unknown</td><td>NA</td><td>NA</td><td>Unknown</td></tr>\n",
       "</tbody>\n",
       "</table>\n",
       "</li>\n",
       "\t<li><table class=\"dataframe\">\n",
       "<caption>A tibble: 1 × 29</caption>\n",
       "<thead>\n",
       "\t<tr><th scope=col>Index</th><th scope=col>contributor</th><th scope=col>file_name</th><th scope=col>patient_id</th><th scope=col>model_id</th><th scope=col>tumor_id</th><th scope=col>case_id</th><th scope=col>sample_id</th><th scope=col>sample_type</th><th scope=col>experimental_strategy</th><th scope=col>⋯</th><th scope=col>data_format</th><th scope=col>data_type</th><th scope=col>platform</th><th scope=col>is_ffpe</th><th scope=col>file_size</th><th scope=col>passage</th><th scope=col>disease_type</th><th scope=col>comment</th><th scope=col>investigation</th><th scope=col>disease_detail</th></tr>\n",
       "\t<tr><th scope=col>&lt;dbl&gt;</th><th scope=col>&lt;chr&gt;</th><th scope=col>&lt;chr&gt;</th><th scope=col>&lt;chr&gt;</th><th scope=col>&lt;chr&gt;</th><th scope=col>&lt;chr&gt;</th><th scope=col>&lt;chr&gt;</th><th scope=col>&lt;chr&gt;</th><th scope=col>&lt;chr&gt;</th><th scope=col>&lt;chr&gt;</th><th scope=col>⋯</th><th scope=col>&lt;chr&gt;</th><th scope=col>&lt;chr&gt;</th><th scope=col>&lt;chr&gt;</th><th scope=col>&lt;lgl&gt;</th><th scope=col>&lt;dbl&gt;</th><th scope=col>&lt;chr&gt;</th><th scope=col>&lt;chr&gt;</th><th scope=col>&lt;chr&gt;</th><th scope=col>&lt;lgl&gt;</th><th scope=col>&lt;chr&gt;</th></tr>\n",
       "</thead>\n",
       "<tbody>\n",
       "\t<tr><td>1949</td><td>WUSTL</td><td>172845-121-T.r1.fastq.gz</td><td>PDMR-172845</td><td>172845-121-T_SL</td><td>121-T</td><td>PDMR-172845</td><td>172845-121-T_SL</td><td>PDX</td><td>RNA-Seq</td><td>⋯</td><td>fastq.gz</td><td>Raw Reads</td><td>NovaSeq S4</td><td>NA</td><td>4348811841</td><td>P3</td><td>Unknown</td><td>NA</td><td>NA</td><td>Unknown</td></tr>\n",
       "</tbody>\n",
       "</table>\n",
       "</li>\n",
       "</ol>\n"
      ],
      "text/latex": [
       "\\begin{enumerate}\n",
       "\\item A tibble: 1 × 29\n",
       "\\begin{tabular}{lllllllllllllllllllll}\n",
       " Index & contributor & file\\_name & patient\\_id & model\\_id & tumor\\_id & case\\_id & sample\\_id & sample\\_type & experimental\\_strategy & ⋯ & data\\_format & data\\_type & platform & is\\_ffpe & file\\_size & passage & disease\\_type & comment & investigation & disease\\_detail\\\\\n",
       " <dbl> & <chr> & <chr> & <chr> & <chr> & <chr> & <chr> & <chr> & <chr> & <chr> & ⋯ & <chr> & <chr> & <chr> & <lgl> & <dbl> & <chr> & <chr> & <chr> & <lgl> & <chr>\\\\\n",
       "\\hline\n",
       "\t 1 & BCM & LZML\\_37246\\_NoIndex\\_L00X\\_R1\\_001.fastq.gz & 24452 & BCM-0002 & 2011012-2 & NA & BCM-0002 & PDX & RNA-Seq & ⋯ & FASTQ.GZ & Raw Reads & Illumina & FALSE & 20656964441 & NA & Breast & NA & NA & Invasive breast carcinoma\\\\\n",
       "\\end{tabular}\n",
       "\n",
       "\\item A tibble: 1 × 29\n",
       "\\begin{tabular}{lllllllllllllllllllll}\n",
       " Index & contributor & file\\_name & patient\\_id & model\\_id & tumor\\_id & case\\_id & sample\\_id & sample\\_type & experimental\\_strategy & ⋯ & data\\_format & data\\_type & platform & is\\_ffpe & file\\_size & passage & disease\\_type & comment & investigation & disease\\_detail\\\\\n",
       " <dbl> & <chr> & <chr> & <chr> & <chr> & <chr> & <chr> & <chr> & <chr> & <chr> & ⋯ & <chr> & <chr> & <chr> & <lgl> & <dbl> & <chr> & <chr> & <chr> & <lgl> & <chr>\\\\\n",
       "\\hline\n",
       "\t 209 & HCI & 14990X12\\_HCI001\\_patientnormal\\_1.txt.gz & HCI001 & NA & NA & HCI001 & 14990X12 & Normal & WES & ⋯ & NA & NA & Illumina HiSeq & NA & NA & NA & Breast & NA & NA & Breast Poorly Differentiated\\\\\n",
       "\\end{tabular}\n",
       "\n",
       "\\item A tibble: 1 × 29\n",
       "\\begin{tabular}{lllllllllllllllllllll}\n",
       " Index & contributor & file\\_name & patient\\_id & model\\_id & tumor\\_id & case\\_id & sample\\_id & sample\\_type & experimental\\_strategy & ⋯ & data\\_format & data\\_type & platform & is\\_ffpe & file\\_size & passage & disease\\_type & comment & investigation & disease\\_detail\\\\\n",
       " <dbl> & <chr> & <chr> & <chr> & <chr> & <chr> & <chr> & <chr> & <chr> & <chr> & ⋯ & <chr> & <chr> & <chr> & <lgl> & <dbl> & <chr> & <chr> & <chr> & <lgl> & <chr>\\\\\n",
       "\\hline\n",
       "\t 1100 & MDACC & BFang-LungPDX-MS11DNA-TC211W.R1.fastq.gz & TC211 & NA & NA & TC211 & TC211W & Normal & WES & ⋯ & NA & NA & Illumina Hiseq & NA & NA & NA & Blood & NA & NA & Blood\\\\\n",
       "\\end{tabular}\n",
       "\n",
       "\\item A tibble: 1 × 29\n",
       "\\begin{tabular}{lllllllllllllllllllll}\n",
       " Index & contributor & file\\_name & patient\\_id & model\\_id & tumor\\_id & case\\_id & sample\\_id & sample\\_type & experimental\\_strategy & ⋯ & data\\_format & data\\_type & platform & is\\_ffpe & file\\_size & passage & disease\\_type & comment & investigation & disease\\_detail\\\\\n",
       " <dbl> & <chr> & <chr> & <chr> & <chr> & <chr> & <chr> & <chr> & <chr> & <chr> & ⋯ & <chr> & <chr> & <chr> & <lgl> & <dbl> & <chr> & <chr> & <chr> & <lgl> & <chr>\\\\\n",
       "\\hline\n",
       "\t 1518 & UC Davis & BL0269F404\\_P0\\_GES10\\_166\\_ATCACG\\_L004\\_R1\\_ALL.fastq & BL0269F & BL0269F & BL0269F & BL0269F & BL0269F & Tumor & RNA-Seq & ⋯ & fastq & raw data & Illumina & NA & NA & P0 & Bladder & NA & NA & bladder urothelial carcinoma\\\\\n",
       "\\end{tabular}\n",
       "\n",
       "\\item A tibble: 1 × 29\n",
       "\\begin{tabular}{lllllllllllllllllllll}\n",
       " Index & contributor & file\\_name & patient\\_id & model\\_id & tumor\\_id & case\\_id & sample\\_id & sample\\_type & experimental\\_strategy & ⋯ & data\\_format & data\\_type & platform & is\\_ffpe & file\\_size & passage & disease\\_type & comment & investigation & disease\\_detail\\\\\n",
       " <dbl> & <chr> & <chr> & <chr> & <chr> & <chr> & <chr> & <chr> & <chr> & <chr> & ⋯ & <chr> & <chr> & <chr> & <lgl> & <dbl> & <chr> & <chr> & <chr> & <lgl> & <chr>\\\\\n",
       "\\hline\n",
       "\t 1566 & WISTAR & wm3907n\\_R1.fastq.gz & WM3907 & wm3907n & NA & NA & wm3907n & Tumor & WES & ⋯ & fastq.gz & Raw Reads & Illumina & FALSE & 5439234 & Tumor & Unknown & NA & NA & Unknown\\\\\n",
       "\\end{tabular}\n",
       "\n",
       "\\item A tibble: 1 × 29\n",
       "\\begin{tabular}{lllllllllllllllllllll}\n",
       " Index & contributor & file\\_name & patient\\_id & model\\_id & tumor\\_id & case\\_id & sample\\_id & sample\\_type & experimental\\_strategy & ⋯ & data\\_format & data\\_type & platform & is\\_ffpe & file\\_size & passage & disease\\_type & comment & investigation & disease\\_detail\\\\\n",
       " <dbl> & <chr> & <chr> & <chr> & <chr> & <chr> & <chr> & <chr> & <chr> & <chr> & ⋯ & <chr> & <chr> & <chr> & <lgl> & <dbl> & <chr> & <chr> & <chr> & <lgl> & <chr>\\\\\n",
       "\\hline\n",
       "\t 1949 & WUSTL & 172845-121-T.r1.fastq.gz & PDMR-172845 & 172845-121-T\\_SL & 121-T & PDMR-172845 & 172845-121-T\\_SL & PDX & RNA-Seq & ⋯ & fastq.gz & Raw Reads & NovaSeq S4 & NA & 4348811841 & P3 & Unknown & NA & NA & Unknown\\\\\n",
       "\\end{tabular}\n",
       "\n",
       "\\end{enumerate}\n"
      ],
      "text/markdown": [
       "1. \n",
       "A tibble: 1 × 29\n",
       "\n",
       "| Index &lt;dbl&gt; | contributor &lt;chr&gt; | file_name &lt;chr&gt; | patient_id &lt;chr&gt; | model_id &lt;chr&gt; | tumor_id &lt;chr&gt; | case_id &lt;chr&gt; | sample_id &lt;chr&gt; | sample_type &lt;chr&gt; | experimental_strategy &lt;chr&gt; | ⋯ ⋯ | data_format &lt;chr&gt; | data_type &lt;chr&gt; | platform &lt;chr&gt; | is_ffpe &lt;lgl&gt; | file_size &lt;dbl&gt; | passage &lt;chr&gt; | disease_type &lt;chr&gt; | comment &lt;chr&gt; | investigation &lt;lgl&gt; | disease_detail &lt;chr&gt; |\n",
       "|---|---|---|---|---|---|---|---|---|---|---|---|---|---|---|---|---|---|---|---|---|\n",
       "| 1 | BCM | LZML_37246_NoIndex_L00X_R1_001.fastq.gz | 24452 | BCM-0002 | 2011012-2 | NA | BCM-0002 | PDX | RNA-Seq | ⋯ | FASTQ.GZ | Raw Reads | Illumina | FALSE | 20656964441 | NA | Breast | NA | NA | Invasive breast carcinoma |\n",
       "\n",
       "\n",
       "2. \n",
       "A tibble: 1 × 29\n",
       "\n",
       "| Index &lt;dbl&gt; | contributor &lt;chr&gt; | file_name &lt;chr&gt; | patient_id &lt;chr&gt; | model_id &lt;chr&gt; | tumor_id &lt;chr&gt; | case_id &lt;chr&gt; | sample_id &lt;chr&gt; | sample_type &lt;chr&gt; | experimental_strategy &lt;chr&gt; | ⋯ ⋯ | data_format &lt;chr&gt; | data_type &lt;chr&gt; | platform &lt;chr&gt; | is_ffpe &lt;lgl&gt; | file_size &lt;dbl&gt; | passage &lt;chr&gt; | disease_type &lt;chr&gt; | comment &lt;chr&gt; | investigation &lt;lgl&gt; | disease_detail &lt;chr&gt; |\n",
       "|---|---|---|---|---|---|---|---|---|---|---|---|---|---|---|---|---|---|---|---|---|\n",
       "| 209 | HCI | 14990X12_HCI001_patientnormal_1.txt.gz | HCI001 | NA | NA | HCI001 | 14990X12 | Normal | WES | ⋯ | NA | NA | Illumina HiSeq | NA | NA | NA | Breast | NA | NA | Breast Poorly Differentiated |\n",
       "\n",
       "\n",
       "3. \n",
       "A tibble: 1 × 29\n",
       "\n",
       "| Index &lt;dbl&gt; | contributor &lt;chr&gt; | file_name &lt;chr&gt; | patient_id &lt;chr&gt; | model_id &lt;chr&gt; | tumor_id &lt;chr&gt; | case_id &lt;chr&gt; | sample_id &lt;chr&gt; | sample_type &lt;chr&gt; | experimental_strategy &lt;chr&gt; | ⋯ ⋯ | data_format &lt;chr&gt; | data_type &lt;chr&gt; | platform &lt;chr&gt; | is_ffpe &lt;lgl&gt; | file_size &lt;dbl&gt; | passage &lt;chr&gt; | disease_type &lt;chr&gt; | comment &lt;chr&gt; | investigation &lt;lgl&gt; | disease_detail &lt;chr&gt; |\n",
       "|---|---|---|---|---|---|---|---|---|---|---|---|---|---|---|---|---|---|---|---|---|\n",
       "| 1100 | MDACC | BFang-LungPDX-MS11DNA-TC211W.R1.fastq.gz | TC211 | NA | NA | TC211 | TC211W | Normal | WES | ⋯ | NA | NA | Illumina Hiseq | NA | NA | NA | Blood | NA | NA | Blood |\n",
       "\n",
       "\n",
       "4. \n",
       "A tibble: 1 × 29\n",
       "\n",
       "| Index &lt;dbl&gt; | contributor &lt;chr&gt; | file_name &lt;chr&gt; | patient_id &lt;chr&gt; | model_id &lt;chr&gt; | tumor_id &lt;chr&gt; | case_id &lt;chr&gt; | sample_id &lt;chr&gt; | sample_type &lt;chr&gt; | experimental_strategy &lt;chr&gt; | ⋯ ⋯ | data_format &lt;chr&gt; | data_type &lt;chr&gt; | platform &lt;chr&gt; | is_ffpe &lt;lgl&gt; | file_size &lt;dbl&gt; | passage &lt;chr&gt; | disease_type &lt;chr&gt; | comment &lt;chr&gt; | investigation &lt;lgl&gt; | disease_detail &lt;chr&gt; |\n",
       "|---|---|---|---|---|---|---|---|---|---|---|---|---|---|---|---|---|---|---|---|---|\n",
       "| 1518 | UC Davis | BL0269F404_P0_GES10_166_ATCACG_L004_R1_ALL.fastq | BL0269F | BL0269F | BL0269F | BL0269F | BL0269F | Tumor | RNA-Seq | ⋯ | fastq | raw data | Illumina | NA | NA | P0 | Bladder | NA | NA | bladder urothelial carcinoma |\n",
       "\n",
       "\n",
       "5. \n",
       "A tibble: 1 × 29\n",
       "\n",
       "| Index &lt;dbl&gt; | contributor &lt;chr&gt; | file_name &lt;chr&gt; | patient_id &lt;chr&gt; | model_id &lt;chr&gt; | tumor_id &lt;chr&gt; | case_id &lt;chr&gt; | sample_id &lt;chr&gt; | sample_type &lt;chr&gt; | experimental_strategy &lt;chr&gt; | ⋯ ⋯ | data_format &lt;chr&gt; | data_type &lt;chr&gt; | platform &lt;chr&gt; | is_ffpe &lt;lgl&gt; | file_size &lt;dbl&gt; | passage &lt;chr&gt; | disease_type &lt;chr&gt; | comment &lt;chr&gt; | investigation &lt;lgl&gt; | disease_detail &lt;chr&gt; |\n",
       "|---|---|---|---|---|---|---|---|---|---|---|---|---|---|---|---|---|---|---|---|---|\n",
       "| 1566 | WISTAR | wm3907n_R1.fastq.gz | WM3907 | wm3907n | NA | NA | wm3907n | Tumor | WES | ⋯ | fastq.gz | Raw Reads | Illumina | FALSE | 5439234 | Tumor | Unknown | NA | NA | Unknown |\n",
       "\n",
       "\n",
       "6. \n",
       "A tibble: 1 × 29\n",
       "\n",
       "| Index &lt;dbl&gt; | contributor &lt;chr&gt; | file_name &lt;chr&gt; | patient_id &lt;chr&gt; | model_id &lt;chr&gt; | tumor_id &lt;chr&gt; | case_id &lt;chr&gt; | sample_id &lt;chr&gt; | sample_type &lt;chr&gt; | experimental_strategy &lt;chr&gt; | ⋯ ⋯ | data_format &lt;chr&gt; | data_type &lt;chr&gt; | platform &lt;chr&gt; | is_ffpe &lt;lgl&gt; | file_size &lt;dbl&gt; | passage &lt;chr&gt; | disease_type &lt;chr&gt; | comment &lt;chr&gt; | investigation &lt;lgl&gt; | disease_detail &lt;chr&gt; |\n",
       "|---|---|---|---|---|---|---|---|---|---|---|---|---|---|---|---|---|---|---|---|---|\n",
       "| 1949 | WUSTL | 172845-121-T.r1.fastq.gz | PDMR-172845 | 172845-121-T_SL | 121-T | PDMR-172845 | 172845-121-T_SL | PDX | RNA-Seq | ⋯ | fastq.gz | Raw Reads | NovaSeq S4 | NA | 4348811841 | P3 | Unknown | NA | NA | Unknown |\n",
       "\n",
       "\n",
       "\n",
       "\n"
      ],
      "text/plain": [
       "[[1]]\n",
       "\u001b[90m# A tibble: 1 × 29\u001b[39m\n",
       "  Index contributor file_name     patient_id model_id tumor_id case_id sample_id\n",
       "  \u001b[3m\u001b[90m<dbl>\u001b[39m\u001b[23m \u001b[3m\u001b[90m<chr>\u001b[39m\u001b[23m       \u001b[3m\u001b[90m<chr>\u001b[39m\u001b[23m         \u001b[3m\u001b[90m<chr>\u001b[39m\u001b[23m      \u001b[3m\u001b[90m<chr>\u001b[39m\u001b[23m    \u001b[3m\u001b[90m<chr>\u001b[39m\u001b[23m    \u001b[3m\u001b[90m<chr>\u001b[39m\u001b[23m   \u001b[3m\u001b[90m<chr>\u001b[39m\u001b[23m    \n",
       "\u001b[90m1\u001b[39m     1 BCM         LZML_37246_N… 24452      BCM-0002 2011012… \u001b[31mNA\u001b[39m      BCM-0002 \n",
       "\u001b[90m# … with 21 more variables: sample_type <chr>, experimental_strategy <chr>,\u001b[39m\n",
       "\u001b[90m#   gender <chr>, paired_end <dbl>, capture_kit <chr>, capture_assembly <chr>,\u001b[39m\n",
       "\u001b[90m#   availability <chr>, public <chr>, access_level <chr>,\u001b[39m\n",
       "\u001b[90m#   created_datetime <dbl>, data_category <chr>, data_format <chr>,\u001b[39m\n",
       "\u001b[90m#   data_type <chr>, platform <chr>, is_ffpe <lgl>, file_size <dbl>,\u001b[39m\n",
       "\u001b[90m#   passage <chr>, disease_type <chr>, comment <chr>, investigation <lgl>,\u001b[39m\n",
       "\u001b[90m#   disease_detail <chr>\u001b[39m\n",
       "\n",
       "[[2]]\n",
       "\u001b[90m# A tibble: 1 × 29\u001b[39m\n",
       "  Index contributor file_name     patient_id model_id tumor_id case_id sample_id\n",
       "  \u001b[3m\u001b[90m<dbl>\u001b[39m\u001b[23m \u001b[3m\u001b[90m<chr>\u001b[39m\u001b[23m       \u001b[3m\u001b[90m<chr>\u001b[39m\u001b[23m         \u001b[3m\u001b[90m<chr>\u001b[39m\u001b[23m      \u001b[3m\u001b[90m<chr>\u001b[39m\u001b[23m    \u001b[3m\u001b[90m<chr>\u001b[39m\u001b[23m    \u001b[3m\u001b[90m<chr>\u001b[39m\u001b[23m   \u001b[3m\u001b[90m<chr>\u001b[39m\u001b[23m    \n",
       "\u001b[90m1\u001b[39m   209 HCI         14990X12_HCI… HCI001     \u001b[31mNA\u001b[39m       \u001b[31mNA\u001b[39m       HCI001  14990X12 \n",
       "\u001b[90m# … with 21 more variables: sample_type <chr>, experimental_strategy <chr>,\u001b[39m\n",
       "\u001b[90m#   gender <chr>, paired_end <dbl>, capture_kit <chr>, capture_assembly <chr>,\u001b[39m\n",
       "\u001b[90m#   availability <chr>, public <chr>, access_level <chr>,\u001b[39m\n",
       "\u001b[90m#   created_datetime <dbl>, data_category <chr>, data_format <chr>,\u001b[39m\n",
       "\u001b[90m#   data_type <chr>, platform <chr>, is_ffpe <lgl>, file_size <dbl>,\u001b[39m\n",
       "\u001b[90m#   passage <chr>, disease_type <chr>, comment <chr>, investigation <lgl>,\u001b[39m\n",
       "\u001b[90m#   disease_detail <chr>\u001b[39m\n",
       "\n",
       "[[3]]\n",
       "\u001b[90m# A tibble: 1 × 29\u001b[39m\n",
       "  Index contributor file_name     patient_id model_id tumor_id case_id sample_id\n",
       "  \u001b[3m\u001b[90m<dbl>\u001b[39m\u001b[23m \u001b[3m\u001b[90m<chr>\u001b[39m\u001b[23m       \u001b[3m\u001b[90m<chr>\u001b[39m\u001b[23m         \u001b[3m\u001b[90m<chr>\u001b[39m\u001b[23m      \u001b[3m\u001b[90m<chr>\u001b[39m\u001b[23m    \u001b[3m\u001b[90m<chr>\u001b[39m\u001b[23m    \u001b[3m\u001b[90m<chr>\u001b[39m\u001b[23m   \u001b[3m\u001b[90m<chr>\u001b[39m\u001b[23m    \n",
       "\u001b[90m1\u001b[39m  \u001b[4m1\u001b[24m100 MDACC       BFang-LungPD… TC211      \u001b[31mNA\u001b[39m       \u001b[31mNA\u001b[39m       TC211   TC211W   \n",
       "\u001b[90m# … with 21 more variables: sample_type <chr>, experimental_strategy <chr>,\u001b[39m\n",
       "\u001b[90m#   gender <chr>, paired_end <dbl>, capture_kit <chr>, capture_assembly <chr>,\u001b[39m\n",
       "\u001b[90m#   availability <chr>, public <chr>, access_level <chr>,\u001b[39m\n",
       "\u001b[90m#   created_datetime <dbl>, data_category <chr>, data_format <chr>,\u001b[39m\n",
       "\u001b[90m#   data_type <chr>, platform <chr>, is_ffpe <lgl>, file_size <dbl>,\u001b[39m\n",
       "\u001b[90m#   passage <chr>, disease_type <chr>, comment <chr>, investigation <lgl>,\u001b[39m\n",
       "\u001b[90m#   disease_detail <chr>\u001b[39m\n",
       "\n",
       "[[4]]\n",
       "\u001b[90m# A tibble: 1 × 29\u001b[39m\n",
       "  Index contributor file_name     patient_id model_id tumor_id case_id sample_id\n",
       "  \u001b[3m\u001b[90m<dbl>\u001b[39m\u001b[23m \u001b[3m\u001b[90m<chr>\u001b[39m\u001b[23m       \u001b[3m\u001b[90m<chr>\u001b[39m\u001b[23m         \u001b[3m\u001b[90m<chr>\u001b[39m\u001b[23m      \u001b[3m\u001b[90m<chr>\u001b[39m\u001b[23m    \u001b[3m\u001b[90m<chr>\u001b[39m\u001b[23m    \u001b[3m\u001b[90m<chr>\u001b[39m\u001b[23m   \u001b[3m\u001b[90m<chr>\u001b[39m\u001b[23m    \n",
       "\u001b[90m1\u001b[39m  \u001b[4m1\u001b[24m518 UC Davis    BL0269F404_P… BL0269F    BL0269F  BL0269F  BL0269F BL0269F  \n",
       "\u001b[90m# … with 21 more variables: sample_type <chr>, experimental_strategy <chr>,\u001b[39m\n",
       "\u001b[90m#   gender <chr>, paired_end <dbl>, capture_kit <chr>, capture_assembly <chr>,\u001b[39m\n",
       "\u001b[90m#   availability <chr>, public <chr>, access_level <chr>,\u001b[39m\n",
       "\u001b[90m#   created_datetime <dbl>, data_category <chr>, data_format <chr>,\u001b[39m\n",
       "\u001b[90m#   data_type <chr>, platform <chr>, is_ffpe <lgl>, file_size <dbl>,\u001b[39m\n",
       "\u001b[90m#   passage <chr>, disease_type <chr>, comment <chr>, investigation <lgl>,\u001b[39m\n",
       "\u001b[90m#   disease_detail <chr>\u001b[39m\n",
       "\n",
       "[[5]]\n",
       "\u001b[90m# A tibble: 1 × 29\u001b[39m\n",
       "  Index contributor file_name     patient_id model_id tumor_id case_id sample_id\n",
       "  \u001b[3m\u001b[90m<dbl>\u001b[39m\u001b[23m \u001b[3m\u001b[90m<chr>\u001b[39m\u001b[23m       \u001b[3m\u001b[90m<chr>\u001b[39m\u001b[23m         \u001b[3m\u001b[90m<chr>\u001b[39m\u001b[23m      \u001b[3m\u001b[90m<chr>\u001b[39m\u001b[23m    \u001b[3m\u001b[90m<chr>\u001b[39m\u001b[23m    \u001b[3m\u001b[90m<chr>\u001b[39m\u001b[23m   \u001b[3m\u001b[90m<chr>\u001b[39m\u001b[23m    \n",
       "\u001b[90m1\u001b[39m  \u001b[4m1\u001b[24m566 WISTAR      wm3907n_R1.f… WM3907     wm3907n  \u001b[31mNA\u001b[39m       \u001b[31mNA\u001b[39m      wm3907n  \n",
       "\u001b[90m# … with 21 more variables: sample_type <chr>, experimental_strategy <chr>,\u001b[39m\n",
       "\u001b[90m#   gender <chr>, paired_end <dbl>, capture_kit <chr>, capture_assembly <chr>,\u001b[39m\n",
       "\u001b[90m#   availability <chr>, public <chr>, access_level <chr>,\u001b[39m\n",
       "\u001b[90m#   created_datetime <dbl>, data_category <chr>, data_format <chr>,\u001b[39m\n",
       "\u001b[90m#   data_type <chr>, platform <chr>, is_ffpe <lgl>, file_size <dbl>,\u001b[39m\n",
       "\u001b[90m#   passage <chr>, disease_type <chr>, comment <chr>, investigation <lgl>,\u001b[39m\n",
       "\u001b[90m#   disease_detail <chr>\u001b[39m\n",
       "\n",
       "[[6]]\n",
       "\u001b[90m# A tibble: 1 × 29\u001b[39m\n",
       "  Index contributor file_name   patient_id  model_id  tumor_id case_id sample_id\n",
       "  \u001b[3m\u001b[90m<dbl>\u001b[39m\u001b[23m \u001b[3m\u001b[90m<chr>\u001b[39m\u001b[23m       \u001b[3m\u001b[90m<chr>\u001b[39m\u001b[23m       \u001b[3m\u001b[90m<chr>\u001b[39m\u001b[23m       \u001b[3m\u001b[90m<chr>\u001b[39m\u001b[23m     \u001b[3m\u001b[90m<chr>\u001b[39m\u001b[23m    \u001b[3m\u001b[90m<chr>\u001b[39m\u001b[23m   \u001b[3m\u001b[90m<chr>\u001b[39m\u001b[23m    \n",
       "\u001b[90m1\u001b[39m  \u001b[4m1\u001b[24m949 WUSTL       172845-121… PDMR-172845 172845-1… 121-T    PDMR-1… 172845-1…\n",
       "\u001b[90m# … with 21 more variables: sample_type <chr>, experimental_strategy <chr>,\u001b[39m\n",
       "\u001b[90m#   gender <chr>, paired_end <dbl>, capture_kit <chr>, capture_assembly <chr>,\u001b[39m\n",
       "\u001b[90m#   availability <chr>, public <chr>, access_level <chr>,\u001b[39m\n",
       "\u001b[90m#   created_datetime <dbl>, data_category <chr>, data_format <chr>,\u001b[39m\n",
       "\u001b[90m#   data_type <chr>, platform <chr>, is_ffpe <lgl>, file_size <dbl>,\u001b[39m\n",
       "\u001b[90m#   passage <chr>, disease_type <chr>, comment <chr>, investigation <lgl>,\u001b[39m\n",
       "\u001b[90m#   disease_detail <chr>\u001b[39m\n"
      ]
     },
     "metadata": {},
     "output_type": "display_data"
    }
   ],
   "source": [
    "edited_pdtc_files_by_contributor <- edited_pdtc_files %>% group_split(contributor)\n",
    "\n",
    "edited_pdtc_files_by_contributor %>% map(head, 1)"
   ]
  },
  {
   "cell_type": "code",
   "execution_count": 39,
   "id": "466ab1d0-76f4-4c9b-b9e7-477e39c3d8f5",
   "metadata": {},
   "outputs": [
    {
     "data": {
      "text/html": [
       "<dl>\n",
       "\t<dt>$BCM</dt>\n",
       "\t\t<dd><table class=\"dataframe\">\n",
       "<caption>A tibble: 5 × 29</caption>\n",
       "<thead>\n",
       "\t<tr><th scope=col>Index</th><th scope=col>contributor</th><th scope=col>file_name</th><th scope=col>patient_id</th><th scope=col>model_id</th><th scope=col>tumor_id</th><th scope=col>case_id</th><th scope=col>sample_id</th><th scope=col>sample_type</th><th scope=col>experimental_strategy</th><th scope=col>⋯</th><th scope=col>data_format</th><th scope=col>data_type</th><th scope=col>platform</th><th scope=col>is_ffpe</th><th scope=col>file_size</th><th scope=col>passage</th><th scope=col>disease_type</th><th scope=col>comment</th><th scope=col>investigation</th><th scope=col>disease_detail</th></tr>\n",
       "\t<tr><th scope=col>&lt;dbl&gt;</th><th scope=col>&lt;chr&gt;</th><th scope=col>&lt;chr&gt;</th><th scope=col>&lt;chr&gt;</th><th scope=col>&lt;chr&gt;</th><th scope=col>&lt;chr&gt;</th><th scope=col>&lt;chr&gt;</th><th scope=col>&lt;chr&gt;</th><th scope=col>&lt;chr&gt;</th><th scope=col>&lt;chr&gt;</th><th scope=col>⋯</th><th scope=col>&lt;chr&gt;</th><th scope=col>&lt;chr&gt;</th><th scope=col>&lt;chr&gt;</th><th scope=col>&lt;lgl&gt;</th><th scope=col>&lt;dbl&gt;</th><th scope=col>&lt;chr&gt;</th><th scope=col>&lt;chr&gt;</th><th scope=col>&lt;chr&gt;</th><th scope=col>&lt;lgl&gt;</th><th scope=col>&lt;chr&gt;</th></tr>\n",
       "</thead>\n",
       "<tbody>\n",
       "\t<tr><td>1</td><td>BCM</td><td>LZML_37246_NoIndex_L00X_R1_001.fastq.gz</td><td>24452</td><td>BCM-0002</td><td>2011012-2  </td><td>NA</td><td>BCM-0002</td><td>PDX</td><td>RNA-Seq</td><td>⋯</td><td>FASTQ.GZ</td><td>Raw Reads</td><td>Illumina</td><td>FALSE</td><td>20656964441</td><td>NA</td><td>Breast</td><td>NA</td><td>NA</td><td>Invasive breast carcinoma</td></tr>\n",
       "\t<tr><td>2</td><td>BCM</td><td>LZML_37246_NoIndex_L00X_R2_001.fastq.gz</td><td>24452</td><td>BCM-0002</td><td>2011012-2  </td><td>NA</td><td>BCM-0002</td><td>PDX</td><td>RNA-Seq</td><td>⋯</td><td>FASTQ.GZ</td><td>Raw Reads</td><td>Illumina</td><td>FALSE</td><td>21093643386</td><td>NA</td><td>Breast</td><td>NA</td><td>NA</td><td>Invasive breast carcinoma</td></tr>\n",
       "\t<tr><td>3</td><td>BCM</td><td>ML6065_GATCAGCG_L00X_R1_001.fastq.gz   </td><td>2219 </td><td>BCM-0046</td><td>2011012-46 </td><td>NA</td><td>BCM-0046</td><td>PDX</td><td>RNA-Seq</td><td>⋯</td><td>FASTQ.GZ</td><td>Raw Reads</td><td>Illumina</td><td>FALSE</td><td>22027304876</td><td>NA</td><td>Breast</td><td>NA</td><td>NA</td><td>Invasive breast carcinoma</td></tr>\n",
       "\t<tr><td>4</td><td>BCM</td><td>ML6065_GATCAGCG_L00X_R2_001.fastq.gz   </td><td>2219 </td><td>BCM-0046</td><td>2011012-46 </td><td>NA</td><td>BCM-0046</td><td>PDX</td><td>RNA-Seq</td><td>⋯</td><td>FASTQ.GZ</td><td>Raw Reads</td><td>Illumina</td><td>FALSE</td><td>22027304876</td><td>NA</td><td>Breast</td><td>NA</td><td>NA</td><td>Invasive breast carcinoma</td></tr>\n",
       "\t<tr><td>5</td><td>BCM</td><td>ML6061_CAGATCTG_L00X_R1_001.fastq.gz   </td><td>24561</td><td>BCM-0104</td><td>2011012-104</td><td>NA</td><td>BCM-0104</td><td>PDX</td><td>RNA-Seq</td><td>⋯</td><td>FASTQ.GZ</td><td>Raw Reads</td><td>Illumina</td><td>FALSE</td><td>17927987899</td><td>NA</td><td>Breast</td><td>NA</td><td>NA</td><td>Invasive breast carcinoma</td></tr>\n",
       "</tbody>\n",
       "</table>\n",
       "</dd>\n",
       "\t<dt>$HCI</dt>\n",
       "\t\t<dd><table class=\"dataframe\">\n",
       "<caption>A tibble: 5 × 29</caption>\n",
       "<thead>\n",
       "\t<tr><th scope=col>Index</th><th scope=col>contributor</th><th scope=col>file_name</th><th scope=col>patient_id</th><th scope=col>model_id</th><th scope=col>tumor_id</th><th scope=col>case_id</th><th scope=col>sample_id</th><th scope=col>sample_type</th><th scope=col>experimental_strategy</th><th scope=col>⋯</th><th scope=col>data_format</th><th scope=col>data_type</th><th scope=col>platform</th><th scope=col>is_ffpe</th><th scope=col>file_size</th><th scope=col>passage</th><th scope=col>disease_type</th><th scope=col>comment</th><th scope=col>investigation</th><th scope=col>disease_detail</th></tr>\n",
       "\t<tr><th scope=col>&lt;dbl&gt;</th><th scope=col>&lt;chr&gt;</th><th scope=col>&lt;chr&gt;</th><th scope=col>&lt;chr&gt;</th><th scope=col>&lt;chr&gt;</th><th scope=col>&lt;chr&gt;</th><th scope=col>&lt;chr&gt;</th><th scope=col>&lt;chr&gt;</th><th scope=col>&lt;chr&gt;</th><th scope=col>&lt;chr&gt;</th><th scope=col>⋯</th><th scope=col>&lt;chr&gt;</th><th scope=col>&lt;chr&gt;</th><th scope=col>&lt;chr&gt;</th><th scope=col>&lt;lgl&gt;</th><th scope=col>&lt;dbl&gt;</th><th scope=col>&lt;chr&gt;</th><th scope=col>&lt;chr&gt;</th><th scope=col>&lt;chr&gt;</th><th scope=col>&lt;lgl&gt;</th><th scope=col>&lt;chr&gt;</th></tr>\n",
       "</thead>\n",
       "<tbody>\n",
       "\t<tr><td>209</td><td>HCI</td><td>14990X12_HCI001_patientnormal_1.txt.gz      </td><td>HCI001</td><td>NA</td><td>NA</td><td>HCI001</td><td>14990X12 </td><td>Normal</td><td>WES</td><td>⋯</td><td>NA</td><td>NA</td><td>Illumina HiSeq</td><td>NA</td><td>NA</td><td>NA</td><td>Breast</td><td>NA</td><td>NA</td><td>Breast Poorly Differentiated    </td></tr>\n",
       "\t<tr><td>210</td><td>HCI</td><td>14990X12_HCI001_patientnormal_2.txt.gz      </td><td>HCI001</td><td>NA</td><td>NA</td><td>HCI001</td><td>14990X12 </td><td>Normal</td><td>WES</td><td>⋯</td><td>NA</td><td>NA</td><td>Illumina HiSeq</td><td>NA</td><td>NA</td><td>NA</td><td>Breast</td><td>NA</td><td>NA</td><td>Breast Poorly Differentiated    </td></tr>\n",
       "\t<tr><td>211</td><td>HCI</td><td>0900570-B_HCI-002_Patient_normal_R1.fastq.gz</td><td>HCI002</td><td>NA</td><td>NA</td><td>HCI002</td><td>0900570-B</td><td>Normal</td><td>WES</td><td>⋯</td><td>NA</td><td>NA</td><td>Illumina HiSeq</td><td>NA</td><td>NA</td><td>NA</td><td>Breast</td><td>NA</td><td>NA</td><td>Breast Poorly Differentiated    </td></tr>\n",
       "\t<tr><td>212</td><td>HCI</td><td>0900570-B_HCI-002_Patient_normal_R2.fastq.gz</td><td>HCI002</td><td>NA</td><td>NA</td><td>HCI002</td><td>0900570-B</td><td>Normal</td><td>WES</td><td>⋯</td><td>NA</td><td>NA</td><td>Illumina HiSeq</td><td>NA</td><td>NA</td><td>NA</td><td>Breast</td><td>NA</td><td>NA</td><td>Breast Poorly Differentiated    </td></tr>\n",
       "\t<tr><td>239</td><td>HCI</td><td>14990X4_HCI004_patientnormalGU_1.txt.gz     </td><td>HCI004</td><td>NA</td><td>NA</td><td>HCI004</td><td>14990X4  </td><td>Normal</td><td>WES</td><td>⋯</td><td>NA</td><td>NA</td><td>Illumina HiSeq</td><td>NA</td><td>NA</td><td>NA</td><td>Breast</td><td>NA</td><td>NA</td><td>Breast Invasive Ductal Carcinoma</td></tr>\n",
       "</tbody>\n",
       "</table>\n",
       "</dd>\n",
       "\t<dt>$MDACC</dt>\n",
       "\t\t<dd><table class=\"dataframe\">\n",
       "<caption>A tibble: 5 × 29</caption>\n",
       "<thead>\n",
       "\t<tr><th scope=col>Index</th><th scope=col>contributor</th><th scope=col>file_name</th><th scope=col>patient_id</th><th scope=col>model_id</th><th scope=col>tumor_id</th><th scope=col>case_id</th><th scope=col>sample_id</th><th scope=col>sample_type</th><th scope=col>experimental_strategy</th><th scope=col>⋯</th><th scope=col>data_format</th><th scope=col>data_type</th><th scope=col>platform</th><th scope=col>is_ffpe</th><th scope=col>file_size</th><th scope=col>passage</th><th scope=col>disease_type</th><th scope=col>comment</th><th scope=col>investigation</th><th scope=col>disease_detail</th></tr>\n",
       "\t<tr><th scope=col>&lt;dbl&gt;</th><th scope=col>&lt;chr&gt;</th><th scope=col>&lt;chr&gt;</th><th scope=col>&lt;chr&gt;</th><th scope=col>&lt;chr&gt;</th><th scope=col>&lt;chr&gt;</th><th scope=col>&lt;chr&gt;</th><th scope=col>&lt;chr&gt;</th><th scope=col>&lt;chr&gt;</th><th scope=col>&lt;chr&gt;</th><th scope=col>⋯</th><th scope=col>&lt;chr&gt;</th><th scope=col>&lt;chr&gt;</th><th scope=col>&lt;chr&gt;</th><th scope=col>&lt;lgl&gt;</th><th scope=col>&lt;dbl&gt;</th><th scope=col>&lt;chr&gt;</th><th scope=col>&lt;chr&gt;</th><th scope=col>&lt;chr&gt;</th><th scope=col>&lt;lgl&gt;</th><th scope=col>&lt;chr&gt;</th></tr>\n",
       "</thead>\n",
       "<tbody>\n",
       "\t<tr><td>1100</td><td>MDACC</td><td>BFang-LungPDX-MS11DNA-TC211W.R1.fastq.gz</td><td>TC211</td><td>NA</td><td>NA</td><td>TC211</td><td>TC211W</td><td>Normal</td><td>WES</td><td>⋯</td><td>NA</td><td>NA</td><td>Illumina Hiseq</td><td>NA</td><td>NA</td><td>NA</td><td>Blood</td><td>NA</td><td>NA</td><td>Blood</td></tr>\n",
       "\t<tr><td>1101</td><td>MDACC</td><td>BFang-LungPDX-MS11DNA-TC211W.R2.fastq.gz</td><td>TC211</td><td>NA</td><td>NA</td><td>TC211</td><td>TC211W</td><td>Normal</td><td>WES</td><td>⋯</td><td>NA</td><td>NA</td><td>Illumina Hiseq</td><td>NA</td><td>NA</td><td>NA</td><td>Blood</td><td>NA</td><td>NA</td><td>Blood</td></tr>\n",
       "\t<tr><td>1102</td><td>MDACC</td><td>BFang-LungPDX-MS11DNA-TC219W.R1.fastq.gz</td><td>TC219</td><td>NA</td><td>NA</td><td>TC219</td><td>TC219W</td><td>Normal</td><td>WES</td><td>⋯</td><td>NA</td><td>NA</td><td>Illumina Hiseq</td><td>NA</td><td>NA</td><td>NA</td><td>Blood</td><td>NA</td><td>NA</td><td>Blood</td></tr>\n",
       "\t<tr><td>1103</td><td>MDACC</td><td>BFang-LungPDX-MS11DNA-TC219W.R2.fastq.gz</td><td>TC219</td><td>NA</td><td>NA</td><td>TC219</td><td>TC219W</td><td>Normal</td><td>WES</td><td>⋯</td><td>NA</td><td>NA</td><td>Illumina Hiseq</td><td>NA</td><td>NA</td><td>NA</td><td>Blood</td><td>NA</td><td>NA</td><td>Blood</td></tr>\n",
       "\t<tr><td>1104</td><td>MDACC</td><td>BFang-LungPDX-MS11DNA-TC223W.R1.fastq.gz</td><td>TC223</td><td>NA</td><td>NA</td><td>TC223</td><td>TC223W</td><td>Normal</td><td>WES</td><td>⋯</td><td>NA</td><td>NA</td><td>Illumina Hiseq</td><td>NA</td><td>NA</td><td>NA</td><td>Blood</td><td>NA</td><td>NA</td><td>Blood</td></tr>\n",
       "</tbody>\n",
       "</table>\n",
       "</dd>\n",
       "\t<dt>$`UC Davis`</dt>\n",
       "\t\t<dd><table class=\"dataframe\">\n",
       "<caption>A tibble: 5 × 29</caption>\n",
       "<thead>\n",
       "\t<tr><th scope=col>Index</th><th scope=col>contributor</th><th scope=col>file_name</th><th scope=col>patient_id</th><th scope=col>model_id</th><th scope=col>tumor_id</th><th scope=col>case_id</th><th scope=col>sample_id</th><th scope=col>sample_type</th><th scope=col>experimental_strategy</th><th scope=col>⋯</th><th scope=col>data_format</th><th scope=col>data_type</th><th scope=col>platform</th><th scope=col>is_ffpe</th><th scope=col>file_size</th><th scope=col>passage</th><th scope=col>disease_type</th><th scope=col>comment</th><th scope=col>investigation</th><th scope=col>disease_detail</th></tr>\n",
       "\t<tr><th scope=col>&lt;dbl&gt;</th><th scope=col>&lt;chr&gt;</th><th scope=col>&lt;chr&gt;</th><th scope=col>&lt;chr&gt;</th><th scope=col>&lt;chr&gt;</th><th scope=col>&lt;chr&gt;</th><th scope=col>&lt;chr&gt;</th><th scope=col>&lt;chr&gt;</th><th scope=col>&lt;chr&gt;</th><th scope=col>&lt;chr&gt;</th><th scope=col>⋯</th><th scope=col>&lt;chr&gt;</th><th scope=col>&lt;chr&gt;</th><th scope=col>&lt;chr&gt;</th><th scope=col>&lt;lgl&gt;</th><th scope=col>&lt;dbl&gt;</th><th scope=col>&lt;chr&gt;</th><th scope=col>&lt;chr&gt;</th><th scope=col>&lt;chr&gt;</th><th scope=col>&lt;lgl&gt;</th><th scope=col>&lt;chr&gt;</th></tr>\n",
       "</thead>\n",
       "<tbody>\n",
       "\t<tr><td>1518</td><td>UC Davis</td><td>BL0269F404_P0_GES10_166_ATCACG_L004_R1_ALL.fastq   </td><td>BL0269F</td><td>BL0269F</td><td>BL0269F</td><td>BL0269F</td><td>BL0269F</td><td>Tumor</td><td>RNA-Seq</td><td>⋯</td><td>fastq</td><td>raw data</td><td>Illumina</td><td>NA</td><td>NA</td><td>P0</td><td>Bladder</td><td>NA</td><td>NA</td><td>bladder urothelial carcinoma</td></tr>\n",
       "\t<tr><td>1519</td><td>UC Davis</td><td>BL0269F404_P0_GES10_166_ATCACG_L004_R2_ALL.fastq   </td><td>BL0269F</td><td>BL0269F</td><td>BL0269F</td><td>BL0269F</td><td>BL0269F</td><td>Tumor</td><td>RNA-Seq</td><td>⋯</td><td>fastq</td><td>raw data</td><td>Illumina</td><td>NA</td><td>NA</td><td>P0</td><td>Bladder</td><td>NA</td><td>NA</td><td>bladder urothelial carcinoma</td></tr>\n",
       "\t<tr><td>1520</td><td>UC Davis</td><td>BL0269F404_P0_GES10_166_ATCACG_L005_R1_ALL.fastq   </td><td>BL0269F</td><td>BL0269F</td><td>BL0269F</td><td>BL0269F</td><td>BL0269F</td><td>Tumor</td><td>RNA-Seq</td><td>⋯</td><td>fastq</td><td>raw data</td><td>Illumina</td><td>NA</td><td>NA</td><td>P0</td><td>Bladder</td><td>NA</td><td>NA</td><td>bladder urothelial carcinoma</td></tr>\n",
       "\t<tr><td>1521</td><td>UC Davis</td><td>BL0269F404_P0_GES10_166_ATCACG_L005_R2_ALL.fastq   </td><td>BL0269F</td><td>BL0269F</td><td>BL0269F</td><td>BL0269F</td><td>BL0269F</td><td>Tumor</td><td>RNA-Seq</td><td>⋯</td><td>fastq</td><td>raw data</td><td>Illumina</td><td>NA</td><td>NA</td><td>P0</td><td>Bladder</td><td>NA</td><td>NA</td><td>bladder urothelial carcinoma</td></tr>\n",
       "\t<tr><td>1522</td><td>UC Davis</td><td>BL0269F404P0_ATCACG_AC1FCKACXX_L003_001.R1.fastq.gz</td><td>BL0269F</td><td>BL0269F</td><td>BL0269F</td><td>BL0269F</td><td>BL0269F</td><td>Tumor</td><td>WES    </td><td>⋯</td><td>fastq</td><td>raw data</td><td>Illumina</td><td>NA</td><td>NA</td><td>P0</td><td>Bladder</td><td>NA</td><td>NA</td><td>bladder urothelial carcinoma</td></tr>\n",
       "</tbody>\n",
       "</table>\n",
       "</dd>\n",
       "\t<dt>$WISTAR</dt>\n",
       "\t\t<dd><table class=\"dataframe\">\n",
       "<caption>A tibble: 5 × 29</caption>\n",
       "<thead>\n",
       "\t<tr><th scope=col>Index</th><th scope=col>contributor</th><th scope=col>file_name</th><th scope=col>patient_id</th><th scope=col>model_id</th><th scope=col>tumor_id</th><th scope=col>case_id</th><th scope=col>sample_id</th><th scope=col>sample_type</th><th scope=col>experimental_strategy</th><th scope=col>⋯</th><th scope=col>data_format</th><th scope=col>data_type</th><th scope=col>platform</th><th scope=col>is_ffpe</th><th scope=col>file_size</th><th scope=col>passage</th><th scope=col>disease_type</th><th scope=col>comment</th><th scope=col>investigation</th><th scope=col>disease_detail</th></tr>\n",
       "\t<tr><th scope=col>&lt;dbl&gt;</th><th scope=col>&lt;chr&gt;</th><th scope=col>&lt;chr&gt;</th><th scope=col>&lt;chr&gt;</th><th scope=col>&lt;chr&gt;</th><th scope=col>&lt;chr&gt;</th><th scope=col>&lt;chr&gt;</th><th scope=col>&lt;chr&gt;</th><th scope=col>&lt;chr&gt;</th><th scope=col>&lt;chr&gt;</th><th scope=col>⋯</th><th scope=col>&lt;chr&gt;</th><th scope=col>&lt;chr&gt;</th><th scope=col>&lt;chr&gt;</th><th scope=col>&lt;lgl&gt;</th><th scope=col>&lt;dbl&gt;</th><th scope=col>&lt;chr&gt;</th><th scope=col>&lt;chr&gt;</th><th scope=col>&lt;chr&gt;</th><th scope=col>&lt;lgl&gt;</th><th scope=col>&lt;chr&gt;</th></tr>\n",
       "</thead>\n",
       "<tbody>\n",
       "\t<tr><td>1566</td><td>WISTAR</td><td>wm3907n_R1.fastq.gz</td><td>WM3907</td><td>wm3907n</td><td>NA</td><td>NA</td><td>wm3907n</td><td>Tumor</td><td>WES</td><td>⋯</td><td>fastq.gz</td><td>Raw Reads</td><td>Illumina</td><td>FALSE</td><td>5439234</td><td>Tumor</td><td>Unknown</td><td>NA</td><td>NA</td><td>Unknown</td></tr>\n",
       "\t<tr><td>1567</td><td>WISTAR</td><td>wm3907n_R2.fastq.gz</td><td>WM3907</td><td>wm3907n</td><td>NA</td><td>NA</td><td>wm3907n</td><td>Tumor</td><td>WES</td><td>⋯</td><td>fastq.gz</td><td>Raw Reads</td><td>Illumina</td><td>FALSE</td><td>6415082</td><td>Tumor</td><td>Unknown</td><td>NA</td><td>NA</td><td>Unknown</td></tr>\n",
       "\t<tr><td>1568</td><td>WISTAR</td><td>wm3922n_R1.fastq.gz</td><td>WM3922</td><td>wm3922n</td><td>NA</td><td>NA</td><td>wm3922n</td><td>Tumor</td><td>WES</td><td>⋯</td><td>fastq.gz</td><td>Raw Reads</td><td>Illumina</td><td>FALSE</td><td>3024602</td><td>Tumor</td><td>Unknown</td><td>NA</td><td>NA</td><td>Unknown</td></tr>\n",
       "\t<tr><td>1569</td><td>WISTAR</td><td>wm3922n_R2.fastq.gz</td><td>WM3922</td><td>wm3922n</td><td>NA</td><td>NA</td><td>wm3922n</td><td>Tumor</td><td>WES</td><td>⋯</td><td>fastq.gz</td><td>Raw Reads</td><td>Illumina</td><td>FALSE</td><td>3671122</td><td>Tumor</td><td>Unknown</td><td>NA</td><td>NA</td><td>Unknown</td></tr>\n",
       "\t<tr><td>1570</td><td>WISTAR</td><td>wm3926n_R1.fastq.gz</td><td>WM3926</td><td>wm3926n</td><td>NA</td><td>NA</td><td>wm3926n</td><td>Tumor</td><td>WES</td><td>⋯</td><td>fastq.gz</td><td>Raw Reads</td><td>Illumina</td><td>FALSE</td><td>3679890</td><td>Tumor</td><td>Unknown</td><td>NA</td><td>NA</td><td>Unknown</td></tr>\n",
       "</tbody>\n",
       "</table>\n",
       "</dd>\n",
       "\t<dt>$WUSTL</dt>\n",
       "\t\t<dd><table class=\"dataframe\">\n",
       "<caption>A tibble: 5 × 29</caption>\n",
       "<thead>\n",
       "\t<tr><th scope=col>Index</th><th scope=col>contributor</th><th scope=col>file_name</th><th scope=col>patient_id</th><th scope=col>model_id</th><th scope=col>tumor_id</th><th scope=col>case_id</th><th scope=col>sample_id</th><th scope=col>sample_type</th><th scope=col>experimental_strategy</th><th scope=col>⋯</th><th scope=col>data_format</th><th scope=col>data_type</th><th scope=col>platform</th><th scope=col>is_ffpe</th><th scope=col>file_size</th><th scope=col>passage</th><th scope=col>disease_type</th><th scope=col>comment</th><th scope=col>investigation</th><th scope=col>disease_detail</th></tr>\n",
       "\t<tr><th scope=col>&lt;dbl&gt;</th><th scope=col>&lt;chr&gt;</th><th scope=col>&lt;chr&gt;</th><th scope=col>&lt;chr&gt;</th><th scope=col>&lt;chr&gt;</th><th scope=col>&lt;chr&gt;</th><th scope=col>&lt;chr&gt;</th><th scope=col>&lt;chr&gt;</th><th scope=col>&lt;chr&gt;</th><th scope=col>&lt;chr&gt;</th><th scope=col>⋯</th><th scope=col>&lt;chr&gt;</th><th scope=col>&lt;chr&gt;</th><th scope=col>&lt;chr&gt;</th><th scope=col>&lt;lgl&gt;</th><th scope=col>&lt;dbl&gt;</th><th scope=col>&lt;chr&gt;</th><th scope=col>&lt;chr&gt;</th><th scope=col>&lt;chr&gt;</th><th scope=col>&lt;lgl&gt;</th><th scope=col>&lt;chr&gt;</th></tr>\n",
       "</thead>\n",
       "<tbody>\n",
       "\t<tr><td>1949</td><td>WUSTL</td><td>172845-121-T.r1.fastq.gz           </td><td>PDMR-172845</td><td>172845-121-T_SL</td><td>121-T</td><td>PDMR-172845</td><td>172845-121-T_SL</td><td>PDX</td><td>RNA-Seq</td><td>⋯</td><td>fastq.gz</td><td>Raw Reads</td><td>NovaSeq S4</td><td>NA</td><td>4348811841</td><td>P3</td><td>Unknown</td><td>NA</td><td>NA</td><td>Unknown</td></tr>\n",
       "\t<tr><td>1950</td><td>WUSTL</td><td>172845-121-T.r2.fastq.gz           </td><td>PDMR-172845</td><td>172845-121-T_SL</td><td>121-T</td><td>PDMR-172845</td><td>172845-121-T_SL</td><td>PDX</td><td>RNA-Seq</td><td>⋯</td><td>fastq.gz</td><td>Raw Reads</td><td>NovaSeq S4</td><td>NA</td><td>4209751331</td><td>P3</td><td>Unknown</td><td>NA</td><td>NA</td><td>Unknown</td></tr>\n",
       "\t<tr><td>1951</td><td>WUSTL</td><td>172845-121-T.singletons.r1.fastq.gz</td><td>PDMR-172845</td><td>172845-121-T_SL</td><td>121-T</td><td>PDMR-172845</td><td>172845-121-T_SL</td><td>PDX</td><td>RNA-Seq</td><td>⋯</td><td>fastq.gz</td><td>Raw Reads</td><td>NovaSeq S4</td><td>NA</td><td>  40247394</td><td>P3</td><td>Unknown</td><td>NA</td><td>NA</td><td>Unknown</td></tr>\n",
       "\t<tr><td>1952</td><td>WUSTL</td><td>172845-121-T.singletons.r2.fastq.gz</td><td>PDMR-172845</td><td>172845-121-T_SL</td><td>121-T</td><td>PDMR-172845</td><td>172845-121-T_SL</td><td>PDX</td><td>RNA-Seq</td><td>⋯</td><td>fastq.gz</td><td>Raw Reads</td><td>NovaSeq S4</td><td>NA</td><td>  93138489</td><td>P3</td><td>Unknown</td><td>NA</td><td>NA</td><td>Unknown</td></tr>\n",
       "\t<tr><td>1954</td><td>WUSTL</td><td>625472-104-R.r1.fastq.gz           </td><td>PDMR-625472</td><td>625472-104-R_SL</td><td>104-R</td><td>PDMR-625472</td><td>625472-104-R_SL</td><td>PDX</td><td>RNA-Seq</td><td>⋯</td><td>fastq.gz</td><td>Raw Reads</td><td>NovaSeq S4</td><td>NA</td><td>3184453176</td><td>P2</td><td>Unknown</td><td>NA</td><td>NA</td><td>Unknown</td></tr>\n",
       "</tbody>\n",
       "</table>\n",
       "</dd>\n",
       "</dl>\n"
      ],
      "text/latex": [
       "\\begin{description}\n",
       "\\item[\\$BCM] A tibble: 5 × 29\n",
       "\\begin{tabular}{lllllllllllllllllllll}\n",
       " Index & contributor & file\\_name & patient\\_id & model\\_id & tumor\\_id & case\\_id & sample\\_id & sample\\_type & experimental\\_strategy & ⋯ & data\\_format & data\\_type & platform & is\\_ffpe & file\\_size & passage & disease\\_type & comment & investigation & disease\\_detail\\\\\n",
       " <dbl> & <chr> & <chr> & <chr> & <chr> & <chr> & <chr> & <chr> & <chr> & <chr> & ⋯ & <chr> & <chr> & <chr> & <lgl> & <dbl> & <chr> & <chr> & <chr> & <lgl> & <chr>\\\\\n",
       "\\hline\n",
       "\t 1 & BCM & LZML\\_37246\\_NoIndex\\_L00X\\_R1\\_001.fastq.gz & 24452 & BCM-0002 & 2011012-2   & NA & BCM-0002 & PDX & RNA-Seq & ⋯ & FASTQ.GZ & Raw Reads & Illumina & FALSE & 20656964441 & NA & Breast & NA & NA & Invasive breast carcinoma\\\\\n",
       "\t 2 & BCM & LZML\\_37246\\_NoIndex\\_L00X\\_R2\\_001.fastq.gz & 24452 & BCM-0002 & 2011012-2   & NA & BCM-0002 & PDX & RNA-Seq & ⋯ & FASTQ.GZ & Raw Reads & Illumina & FALSE & 21093643386 & NA & Breast & NA & NA & Invasive breast carcinoma\\\\\n",
       "\t 3 & BCM & ML6065\\_GATCAGCG\\_L00X\\_R1\\_001.fastq.gz    & 2219  & BCM-0046 & 2011012-46  & NA & BCM-0046 & PDX & RNA-Seq & ⋯ & FASTQ.GZ & Raw Reads & Illumina & FALSE & 22027304876 & NA & Breast & NA & NA & Invasive breast carcinoma\\\\\n",
       "\t 4 & BCM & ML6065\\_GATCAGCG\\_L00X\\_R2\\_001.fastq.gz    & 2219  & BCM-0046 & 2011012-46  & NA & BCM-0046 & PDX & RNA-Seq & ⋯ & FASTQ.GZ & Raw Reads & Illumina & FALSE & 22027304876 & NA & Breast & NA & NA & Invasive breast carcinoma\\\\\n",
       "\t 5 & BCM & ML6061\\_CAGATCTG\\_L00X\\_R1\\_001.fastq.gz    & 24561 & BCM-0104 & 2011012-104 & NA & BCM-0104 & PDX & RNA-Seq & ⋯ & FASTQ.GZ & Raw Reads & Illumina & FALSE & 17927987899 & NA & Breast & NA & NA & Invasive breast carcinoma\\\\\n",
       "\\end{tabular}\n",
       "\n",
       "\\item[\\$HCI] A tibble: 5 × 29\n",
       "\\begin{tabular}{lllllllllllllllllllll}\n",
       " Index & contributor & file\\_name & patient\\_id & model\\_id & tumor\\_id & case\\_id & sample\\_id & sample\\_type & experimental\\_strategy & ⋯ & data\\_format & data\\_type & platform & is\\_ffpe & file\\_size & passage & disease\\_type & comment & investigation & disease\\_detail\\\\\n",
       " <dbl> & <chr> & <chr> & <chr> & <chr> & <chr> & <chr> & <chr> & <chr> & <chr> & ⋯ & <chr> & <chr> & <chr> & <lgl> & <dbl> & <chr> & <chr> & <chr> & <lgl> & <chr>\\\\\n",
       "\\hline\n",
       "\t 209 & HCI & 14990X12\\_HCI001\\_patientnormal\\_1.txt.gz       & HCI001 & NA & NA & HCI001 & 14990X12  & Normal & WES & ⋯ & NA & NA & Illumina HiSeq & NA & NA & NA & Breast & NA & NA & Breast Poorly Differentiated    \\\\\n",
       "\t 210 & HCI & 14990X12\\_HCI001\\_patientnormal\\_2.txt.gz       & HCI001 & NA & NA & HCI001 & 14990X12  & Normal & WES & ⋯ & NA & NA & Illumina HiSeq & NA & NA & NA & Breast & NA & NA & Breast Poorly Differentiated    \\\\\n",
       "\t 211 & HCI & 0900570-B\\_HCI-002\\_Patient\\_normal\\_R1.fastq.gz & HCI002 & NA & NA & HCI002 & 0900570-B & Normal & WES & ⋯ & NA & NA & Illumina HiSeq & NA & NA & NA & Breast & NA & NA & Breast Poorly Differentiated    \\\\\n",
       "\t 212 & HCI & 0900570-B\\_HCI-002\\_Patient\\_normal\\_R2.fastq.gz & HCI002 & NA & NA & HCI002 & 0900570-B & Normal & WES & ⋯ & NA & NA & Illumina HiSeq & NA & NA & NA & Breast & NA & NA & Breast Poorly Differentiated    \\\\\n",
       "\t 239 & HCI & 14990X4\\_HCI004\\_patientnormalGU\\_1.txt.gz      & HCI004 & NA & NA & HCI004 & 14990X4   & Normal & WES & ⋯ & NA & NA & Illumina HiSeq & NA & NA & NA & Breast & NA & NA & Breast Invasive Ductal Carcinoma\\\\\n",
       "\\end{tabular}\n",
       "\n",
       "\\item[\\$MDACC] A tibble: 5 × 29\n",
       "\\begin{tabular}{lllllllllllllllllllll}\n",
       " Index & contributor & file\\_name & patient\\_id & model\\_id & tumor\\_id & case\\_id & sample\\_id & sample\\_type & experimental\\_strategy & ⋯ & data\\_format & data\\_type & platform & is\\_ffpe & file\\_size & passage & disease\\_type & comment & investigation & disease\\_detail\\\\\n",
       " <dbl> & <chr> & <chr> & <chr> & <chr> & <chr> & <chr> & <chr> & <chr> & <chr> & ⋯ & <chr> & <chr> & <chr> & <lgl> & <dbl> & <chr> & <chr> & <chr> & <lgl> & <chr>\\\\\n",
       "\\hline\n",
       "\t 1100 & MDACC & BFang-LungPDX-MS11DNA-TC211W.R1.fastq.gz & TC211 & NA & NA & TC211 & TC211W & Normal & WES & ⋯ & NA & NA & Illumina Hiseq & NA & NA & NA & Blood & NA & NA & Blood\\\\\n",
       "\t 1101 & MDACC & BFang-LungPDX-MS11DNA-TC211W.R2.fastq.gz & TC211 & NA & NA & TC211 & TC211W & Normal & WES & ⋯ & NA & NA & Illumina Hiseq & NA & NA & NA & Blood & NA & NA & Blood\\\\\n",
       "\t 1102 & MDACC & BFang-LungPDX-MS11DNA-TC219W.R1.fastq.gz & TC219 & NA & NA & TC219 & TC219W & Normal & WES & ⋯ & NA & NA & Illumina Hiseq & NA & NA & NA & Blood & NA & NA & Blood\\\\\n",
       "\t 1103 & MDACC & BFang-LungPDX-MS11DNA-TC219W.R2.fastq.gz & TC219 & NA & NA & TC219 & TC219W & Normal & WES & ⋯ & NA & NA & Illumina Hiseq & NA & NA & NA & Blood & NA & NA & Blood\\\\\n",
       "\t 1104 & MDACC & BFang-LungPDX-MS11DNA-TC223W.R1.fastq.gz & TC223 & NA & NA & TC223 & TC223W & Normal & WES & ⋯ & NA & NA & Illumina Hiseq & NA & NA & NA & Blood & NA & NA & Blood\\\\\n",
       "\\end{tabular}\n",
       "\n",
       "\\item[\\$`UC Davis`] A tibble: 5 × 29\n",
       "\\begin{tabular}{lllllllllllllllllllll}\n",
       " Index & contributor & file\\_name & patient\\_id & model\\_id & tumor\\_id & case\\_id & sample\\_id & sample\\_type & experimental\\_strategy & ⋯ & data\\_format & data\\_type & platform & is\\_ffpe & file\\_size & passage & disease\\_type & comment & investigation & disease\\_detail\\\\\n",
       " <dbl> & <chr> & <chr> & <chr> & <chr> & <chr> & <chr> & <chr> & <chr> & <chr> & ⋯ & <chr> & <chr> & <chr> & <lgl> & <dbl> & <chr> & <chr> & <chr> & <lgl> & <chr>\\\\\n",
       "\\hline\n",
       "\t 1518 & UC Davis & BL0269F404\\_P0\\_GES10\\_166\\_ATCACG\\_L004\\_R1\\_ALL.fastq    & BL0269F & BL0269F & BL0269F & BL0269F & BL0269F & Tumor & RNA-Seq & ⋯ & fastq & raw data & Illumina & NA & NA & P0 & Bladder & NA & NA & bladder urothelial carcinoma\\\\\n",
       "\t 1519 & UC Davis & BL0269F404\\_P0\\_GES10\\_166\\_ATCACG\\_L004\\_R2\\_ALL.fastq    & BL0269F & BL0269F & BL0269F & BL0269F & BL0269F & Tumor & RNA-Seq & ⋯ & fastq & raw data & Illumina & NA & NA & P0 & Bladder & NA & NA & bladder urothelial carcinoma\\\\\n",
       "\t 1520 & UC Davis & BL0269F404\\_P0\\_GES10\\_166\\_ATCACG\\_L005\\_R1\\_ALL.fastq    & BL0269F & BL0269F & BL0269F & BL0269F & BL0269F & Tumor & RNA-Seq & ⋯ & fastq & raw data & Illumina & NA & NA & P0 & Bladder & NA & NA & bladder urothelial carcinoma\\\\\n",
       "\t 1521 & UC Davis & BL0269F404\\_P0\\_GES10\\_166\\_ATCACG\\_L005\\_R2\\_ALL.fastq    & BL0269F & BL0269F & BL0269F & BL0269F & BL0269F & Tumor & RNA-Seq & ⋯ & fastq & raw data & Illumina & NA & NA & P0 & Bladder & NA & NA & bladder urothelial carcinoma\\\\\n",
       "\t 1522 & UC Davis & BL0269F404P0\\_ATCACG\\_AC1FCKACXX\\_L003\\_001.R1.fastq.gz & BL0269F & BL0269F & BL0269F & BL0269F & BL0269F & Tumor & WES     & ⋯ & fastq & raw data & Illumina & NA & NA & P0 & Bladder & NA & NA & bladder urothelial carcinoma\\\\\n",
       "\\end{tabular}\n",
       "\n",
       "\\item[\\$WISTAR] A tibble: 5 × 29\n",
       "\\begin{tabular}{lllllllllllllllllllll}\n",
       " Index & contributor & file\\_name & patient\\_id & model\\_id & tumor\\_id & case\\_id & sample\\_id & sample\\_type & experimental\\_strategy & ⋯ & data\\_format & data\\_type & platform & is\\_ffpe & file\\_size & passage & disease\\_type & comment & investigation & disease\\_detail\\\\\n",
       " <dbl> & <chr> & <chr> & <chr> & <chr> & <chr> & <chr> & <chr> & <chr> & <chr> & ⋯ & <chr> & <chr> & <chr> & <lgl> & <dbl> & <chr> & <chr> & <chr> & <lgl> & <chr>\\\\\n",
       "\\hline\n",
       "\t 1566 & WISTAR & wm3907n\\_R1.fastq.gz & WM3907 & wm3907n & NA & NA & wm3907n & Tumor & WES & ⋯ & fastq.gz & Raw Reads & Illumina & FALSE & 5439234 & Tumor & Unknown & NA & NA & Unknown\\\\\n",
       "\t 1567 & WISTAR & wm3907n\\_R2.fastq.gz & WM3907 & wm3907n & NA & NA & wm3907n & Tumor & WES & ⋯ & fastq.gz & Raw Reads & Illumina & FALSE & 6415082 & Tumor & Unknown & NA & NA & Unknown\\\\\n",
       "\t 1568 & WISTAR & wm3922n\\_R1.fastq.gz & WM3922 & wm3922n & NA & NA & wm3922n & Tumor & WES & ⋯ & fastq.gz & Raw Reads & Illumina & FALSE & 3024602 & Tumor & Unknown & NA & NA & Unknown\\\\\n",
       "\t 1569 & WISTAR & wm3922n\\_R2.fastq.gz & WM3922 & wm3922n & NA & NA & wm3922n & Tumor & WES & ⋯ & fastq.gz & Raw Reads & Illumina & FALSE & 3671122 & Tumor & Unknown & NA & NA & Unknown\\\\\n",
       "\t 1570 & WISTAR & wm3926n\\_R1.fastq.gz & WM3926 & wm3926n & NA & NA & wm3926n & Tumor & WES & ⋯ & fastq.gz & Raw Reads & Illumina & FALSE & 3679890 & Tumor & Unknown & NA & NA & Unknown\\\\\n",
       "\\end{tabular}\n",
       "\n",
       "\\item[\\$WUSTL] A tibble: 5 × 29\n",
       "\\begin{tabular}{lllllllllllllllllllll}\n",
       " Index & contributor & file\\_name & patient\\_id & model\\_id & tumor\\_id & case\\_id & sample\\_id & sample\\_type & experimental\\_strategy & ⋯ & data\\_format & data\\_type & platform & is\\_ffpe & file\\_size & passage & disease\\_type & comment & investigation & disease\\_detail\\\\\n",
       " <dbl> & <chr> & <chr> & <chr> & <chr> & <chr> & <chr> & <chr> & <chr> & <chr> & ⋯ & <chr> & <chr> & <chr> & <lgl> & <dbl> & <chr> & <chr> & <chr> & <lgl> & <chr>\\\\\n",
       "\\hline\n",
       "\t 1949 & WUSTL & 172845-121-T.r1.fastq.gz            & PDMR-172845 & 172845-121-T\\_SL & 121-T & PDMR-172845 & 172845-121-T\\_SL & PDX & RNA-Seq & ⋯ & fastq.gz & Raw Reads & NovaSeq S4 & NA & 4348811841 & P3 & Unknown & NA & NA & Unknown\\\\\n",
       "\t 1950 & WUSTL & 172845-121-T.r2.fastq.gz            & PDMR-172845 & 172845-121-T\\_SL & 121-T & PDMR-172845 & 172845-121-T\\_SL & PDX & RNA-Seq & ⋯ & fastq.gz & Raw Reads & NovaSeq S4 & NA & 4209751331 & P3 & Unknown & NA & NA & Unknown\\\\\n",
       "\t 1951 & WUSTL & 172845-121-T.singletons.r1.fastq.gz & PDMR-172845 & 172845-121-T\\_SL & 121-T & PDMR-172845 & 172845-121-T\\_SL & PDX & RNA-Seq & ⋯ & fastq.gz & Raw Reads & NovaSeq S4 & NA &   40247394 & P3 & Unknown & NA & NA & Unknown\\\\\n",
       "\t 1952 & WUSTL & 172845-121-T.singletons.r2.fastq.gz & PDMR-172845 & 172845-121-T\\_SL & 121-T & PDMR-172845 & 172845-121-T\\_SL & PDX & RNA-Seq & ⋯ & fastq.gz & Raw Reads & NovaSeq S4 & NA &   93138489 & P3 & Unknown & NA & NA & Unknown\\\\\n",
       "\t 1954 & WUSTL & 625472-104-R.r1.fastq.gz            & PDMR-625472 & 625472-104-R\\_SL & 104-R & PDMR-625472 & 625472-104-R\\_SL & PDX & RNA-Seq & ⋯ & fastq.gz & Raw Reads & NovaSeq S4 & NA & 3184453176 & P2 & Unknown & NA & NA & Unknown\\\\\n",
       "\\end{tabular}\n",
       "\n",
       "\\end{description}\n"
      ],
      "text/markdown": [
       "$BCM\n",
       ":   \n",
       "A tibble: 5 × 29\n",
       "\n",
       "| Index &lt;dbl&gt; | contributor &lt;chr&gt; | file_name &lt;chr&gt; | patient_id &lt;chr&gt; | model_id &lt;chr&gt; | tumor_id &lt;chr&gt; | case_id &lt;chr&gt; | sample_id &lt;chr&gt; | sample_type &lt;chr&gt; | experimental_strategy &lt;chr&gt; | ⋯ ⋯ | data_format &lt;chr&gt; | data_type &lt;chr&gt; | platform &lt;chr&gt; | is_ffpe &lt;lgl&gt; | file_size &lt;dbl&gt; | passage &lt;chr&gt; | disease_type &lt;chr&gt; | comment &lt;chr&gt; | investigation &lt;lgl&gt; | disease_detail &lt;chr&gt; |\n",
       "|---|---|---|---|---|---|---|---|---|---|---|---|---|---|---|---|---|---|---|---|---|\n",
       "| 1 | BCM | LZML_37246_NoIndex_L00X_R1_001.fastq.gz | 24452 | BCM-0002 | 2011012-2   | NA | BCM-0002 | PDX | RNA-Seq | ⋯ | FASTQ.GZ | Raw Reads | Illumina | FALSE | 20656964441 | NA | Breast | NA | NA | Invasive breast carcinoma |\n",
       "| 2 | BCM | LZML_37246_NoIndex_L00X_R2_001.fastq.gz | 24452 | BCM-0002 | 2011012-2   | NA | BCM-0002 | PDX | RNA-Seq | ⋯ | FASTQ.GZ | Raw Reads | Illumina | FALSE | 21093643386 | NA | Breast | NA | NA | Invasive breast carcinoma |\n",
       "| 3 | BCM | ML6065_GATCAGCG_L00X_R1_001.fastq.gz    | 2219  | BCM-0046 | 2011012-46  | NA | BCM-0046 | PDX | RNA-Seq | ⋯ | FASTQ.GZ | Raw Reads | Illumina | FALSE | 22027304876 | NA | Breast | NA | NA | Invasive breast carcinoma |\n",
       "| 4 | BCM | ML6065_GATCAGCG_L00X_R2_001.fastq.gz    | 2219  | BCM-0046 | 2011012-46  | NA | BCM-0046 | PDX | RNA-Seq | ⋯ | FASTQ.GZ | Raw Reads | Illumina | FALSE | 22027304876 | NA | Breast | NA | NA | Invasive breast carcinoma |\n",
       "| 5 | BCM | ML6061_CAGATCTG_L00X_R1_001.fastq.gz    | 24561 | BCM-0104 | 2011012-104 | NA | BCM-0104 | PDX | RNA-Seq | ⋯ | FASTQ.GZ | Raw Reads | Illumina | FALSE | 17927987899 | NA | Breast | NA | NA | Invasive breast carcinoma |\n",
       "\n",
       "\n",
       "$HCI\n",
       ":   \n",
       "A tibble: 5 × 29\n",
       "\n",
       "| Index &lt;dbl&gt; | contributor &lt;chr&gt; | file_name &lt;chr&gt; | patient_id &lt;chr&gt; | model_id &lt;chr&gt; | tumor_id &lt;chr&gt; | case_id &lt;chr&gt; | sample_id &lt;chr&gt; | sample_type &lt;chr&gt; | experimental_strategy &lt;chr&gt; | ⋯ ⋯ | data_format &lt;chr&gt; | data_type &lt;chr&gt; | platform &lt;chr&gt; | is_ffpe &lt;lgl&gt; | file_size &lt;dbl&gt; | passage &lt;chr&gt; | disease_type &lt;chr&gt; | comment &lt;chr&gt; | investigation &lt;lgl&gt; | disease_detail &lt;chr&gt; |\n",
       "|---|---|---|---|---|---|---|---|---|---|---|---|---|---|---|---|---|---|---|---|---|\n",
       "| 209 | HCI | 14990X12_HCI001_patientnormal_1.txt.gz       | HCI001 | NA | NA | HCI001 | 14990X12  | Normal | WES | ⋯ | NA | NA | Illumina HiSeq | NA | NA | NA | Breast | NA | NA | Breast Poorly Differentiated     |\n",
       "| 210 | HCI | 14990X12_HCI001_patientnormal_2.txt.gz       | HCI001 | NA | NA | HCI001 | 14990X12  | Normal | WES | ⋯ | NA | NA | Illumina HiSeq | NA | NA | NA | Breast | NA | NA | Breast Poorly Differentiated     |\n",
       "| 211 | HCI | 0900570-B_HCI-002_Patient_normal_R1.fastq.gz | HCI002 | NA | NA | HCI002 | 0900570-B | Normal | WES | ⋯ | NA | NA | Illumina HiSeq | NA | NA | NA | Breast | NA | NA | Breast Poorly Differentiated     |\n",
       "| 212 | HCI | 0900570-B_HCI-002_Patient_normal_R2.fastq.gz | HCI002 | NA | NA | HCI002 | 0900570-B | Normal | WES | ⋯ | NA | NA | Illumina HiSeq | NA | NA | NA | Breast | NA | NA | Breast Poorly Differentiated     |\n",
       "| 239 | HCI | 14990X4_HCI004_patientnormalGU_1.txt.gz      | HCI004 | NA | NA | HCI004 | 14990X4   | Normal | WES | ⋯ | NA | NA | Illumina HiSeq | NA | NA | NA | Breast | NA | NA | Breast Invasive Ductal Carcinoma |\n",
       "\n",
       "\n",
       "$MDACC\n",
       ":   \n",
       "A tibble: 5 × 29\n",
       "\n",
       "| Index &lt;dbl&gt; | contributor &lt;chr&gt; | file_name &lt;chr&gt; | patient_id &lt;chr&gt; | model_id &lt;chr&gt; | tumor_id &lt;chr&gt; | case_id &lt;chr&gt; | sample_id &lt;chr&gt; | sample_type &lt;chr&gt; | experimental_strategy &lt;chr&gt; | ⋯ ⋯ | data_format &lt;chr&gt; | data_type &lt;chr&gt; | platform &lt;chr&gt; | is_ffpe &lt;lgl&gt; | file_size &lt;dbl&gt; | passage &lt;chr&gt; | disease_type &lt;chr&gt; | comment &lt;chr&gt; | investigation &lt;lgl&gt; | disease_detail &lt;chr&gt; |\n",
       "|---|---|---|---|---|---|---|---|---|---|---|---|---|---|---|---|---|---|---|---|---|\n",
       "| 1100 | MDACC | BFang-LungPDX-MS11DNA-TC211W.R1.fastq.gz | TC211 | NA | NA | TC211 | TC211W | Normal | WES | ⋯ | NA | NA | Illumina Hiseq | NA | NA | NA | Blood | NA | NA | Blood |\n",
       "| 1101 | MDACC | BFang-LungPDX-MS11DNA-TC211W.R2.fastq.gz | TC211 | NA | NA | TC211 | TC211W | Normal | WES | ⋯ | NA | NA | Illumina Hiseq | NA | NA | NA | Blood | NA | NA | Blood |\n",
       "| 1102 | MDACC | BFang-LungPDX-MS11DNA-TC219W.R1.fastq.gz | TC219 | NA | NA | TC219 | TC219W | Normal | WES | ⋯ | NA | NA | Illumina Hiseq | NA | NA | NA | Blood | NA | NA | Blood |\n",
       "| 1103 | MDACC | BFang-LungPDX-MS11DNA-TC219W.R2.fastq.gz | TC219 | NA | NA | TC219 | TC219W | Normal | WES | ⋯ | NA | NA | Illumina Hiseq | NA | NA | NA | Blood | NA | NA | Blood |\n",
       "| 1104 | MDACC | BFang-LungPDX-MS11DNA-TC223W.R1.fastq.gz | TC223 | NA | NA | TC223 | TC223W | Normal | WES | ⋯ | NA | NA | Illumina Hiseq | NA | NA | NA | Blood | NA | NA | Blood |\n",
       "\n",
       "\n",
       "$`UC Davis`\n",
       ":   \n",
       "A tibble: 5 × 29\n",
       "\n",
       "| Index &lt;dbl&gt; | contributor &lt;chr&gt; | file_name &lt;chr&gt; | patient_id &lt;chr&gt; | model_id &lt;chr&gt; | tumor_id &lt;chr&gt; | case_id &lt;chr&gt; | sample_id &lt;chr&gt; | sample_type &lt;chr&gt; | experimental_strategy &lt;chr&gt; | ⋯ ⋯ | data_format &lt;chr&gt; | data_type &lt;chr&gt; | platform &lt;chr&gt; | is_ffpe &lt;lgl&gt; | file_size &lt;dbl&gt; | passage &lt;chr&gt; | disease_type &lt;chr&gt; | comment &lt;chr&gt; | investigation &lt;lgl&gt; | disease_detail &lt;chr&gt; |\n",
       "|---|---|---|---|---|---|---|---|---|---|---|---|---|---|---|---|---|---|---|---|---|\n",
       "| 1518 | UC Davis | BL0269F404_P0_GES10_166_ATCACG_L004_R1_ALL.fastq    | BL0269F | BL0269F | BL0269F | BL0269F | BL0269F | Tumor | RNA-Seq | ⋯ | fastq | raw data | Illumina | NA | NA | P0 | Bladder | NA | NA | bladder urothelial carcinoma |\n",
       "| 1519 | UC Davis | BL0269F404_P0_GES10_166_ATCACG_L004_R2_ALL.fastq    | BL0269F | BL0269F | BL0269F | BL0269F | BL0269F | Tumor | RNA-Seq | ⋯ | fastq | raw data | Illumina | NA | NA | P0 | Bladder | NA | NA | bladder urothelial carcinoma |\n",
       "| 1520 | UC Davis | BL0269F404_P0_GES10_166_ATCACG_L005_R1_ALL.fastq    | BL0269F | BL0269F | BL0269F | BL0269F | BL0269F | Tumor | RNA-Seq | ⋯ | fastq | raw data | Illumina | NA | NA | P0 | Bladder | NA | NA | bladder urothelial carcinoma |\n",
       "| 1521 | UC Davis | BL0269F404_P0_GES10_166_ATCACG_L005_R2_ALL.fastq    | BL0269F | BL0269F | BL0269F | BL0269F | BL0269F | Tumor | RNA-Seq | ⋯ | fastq | raw data | Illumina | NA | NA | P0 | Bladder | NA | NA | bladder urothelial carcinoma |\n",
       "| 1522 | UC Davis | BL0269F404P0_ATCACG_AC1FCKACXX_L003_001.R1.fastq.gz | BL0269F | BL0269F | BL0269F | BL0269F | BL0269F | Tumor | WES     | ⋯ | fastq | raw data | Illumina | NA | NA | P0 | Bladder | NA | NA | bladder urothelial carcinoma |\n",
       "\n",
       "\n",
       "$WISTAR\n",
       ":   \n",
       "A tibble: 5 × 29\n",
       "\n",
       "| Index &lt;dbl&gt; | contributor &lt;chr&gt; | file_name &lt;chr&gt; | patient_id &lt;chr&gt; | model_id &lt;chr&gt; | tumor_id &lt;chr&gt; | case_id &lt;chr&gt; | sample_id &lt;chr&gt; | sample_type &lt;chr&gt; | experimental_strategy &lt;chr&gt; | ⋯ ⋯ | data_format &lt;chr&gt; | data_type &lt;chr&gt; | platform &lt;chr&gt; | is_ffpe &lt;lgl&gt; | file_size &lt;dbl&gt; | passage &lt;chr&gt; | disease_type &lt;chr&gt; | comment &lt;chr&gt; | investigation &lt;lgl&gt; | disease_detail &lt;chr&gt; |\n",
       "|---|---|---|---|---|---|---|---|---|---|---|---|---|---|---|---|---|---|---|---|---|\n",
       "| 1566 | WISTAR | wm3907n_R1.fastq.gz | WM3907 | wm3907n | NA | NA | wm3907n | Tumor | WES | ⋯ | fastq.gz | Raw Reads | Illumina | FALSE | 5439234 | Tumor | Unknown | NA | NA | Unknown |\n",
       "| 1567 | WISTAR | wm3907n_R2.fastq.gz | WM3907 | wm3907n | NA | NA | wm3907n | Tumor | WES | ⋯ | fastq.gz | Raw Reads | Illumina | FALSE | 6415082 | Tumor | Unknown | NA | NA | Unknown |\n",
       "| 1568 | WISTAR | wm3922n_R1.fastq.gz | WM3922 | wm3922n | NA | NA | wm3922n | Tumor | WES | ⋯ | fastq.gz | Raw Reads | Illumina | FALSE | 3024602 | Tumor | Unknown | NA | NA | Unknown |\n",
       "| 1569 | WISTAR | wm3922n_R2.fastq.gz | WM3922 | wm3922n | NA | NA | wm3922n | Tumor | WES | ⋯ | fastq.gz | Raw Reads | Illumina | FALSE | 3671122 | Tumor | Unknown | NA | NA | Unknown |\n",
       "| 1570 | WISTAR | wm3926n_R1.fastq.gz | WM3926 | wm3926n | NA | NA | wm3926n | Tumor | WES | ⋯ | fastq.gz | Raw Reads | Illumina | FALSE | 3679890 | Tumor | Unknown | NA | NA | Unknown |\n",
       "\n",
       "\n",
       "$WUSTL\n",
       ":   \n",
       "A tibble: 5 × 29\n",
       "\n",
       "| Index &lt;dbl&gt; | contributor &lt;chr&gt; | file_name &lt;chr&gt; | patient_id &lt;chr&gt; | model_id &lt;chr&gt; | tumor_id &lt;chr&gt; | case_id &lt;chr&gt; | sample_id &lt;chr&gt; | sample_type &lt;chr&gt; | experimental_strategy &lt;chr&gt; | ⋯ ⋯ | data_format &lt;chr&gt; | data_type &lt;chr&gt; | platform &lt;chr&gt; | is_ffpe &lt;lgl&gt; | file_size &lt;dbl&gt; | passage &lt;chr&gt; | disease_type &lt;chr&gt; | comment &lt;chr&gt; | investigation &lt;lgl&gt; | disease_detail &lt;chr&gt; |\n",
       "|---|---|---|---|---|---|---|---|---|---|---|---|---|---|---|---|---|---|---|---|---|\n",
       "| 1949 | WUSTL | 172845-121-T.r1.fastq.gz            | PDMR-172845 | 172845-121-T_SL | 121-T | PDMR-172845 | 172845-121-T_SL | PDX | RNA-Seq | ⋯ | fastq.gz | Raw Reads | NovaSeq S4 | NA | 4348811841 | P3 | Unknown | NA | NA | Unknown |\n",
       "| 1950 | WUSTL | 172845-121-T.r2.fastq.gz            | PDMR-172845 | 172845-121-T_SL | 121-T | PDMR-172845 | 172845-121-T_SL | PDX | RNA-Seq | ⋯ | fastq.gz | Raw Reads | NovaSeq S4 | NA | 4209751331 | P3 | Unknown | NA | NA | Unknown |\n",
       "| 1951 | WUSTL | 172845-121-T.singletons.r1.fastq.gz | PDMR-172845 | 172845-121-T_SL | 121-T | PDMR-172845 | 172845-121-T_SL | PDX | RNA-Seq | ⋯ | fastq.gz | Raw Reads | NovaSeq S4 | NA |   40247394 | P3 | Unknown | NA | NA | Unknown |\n",
       "| 1952 | WUSTL | 172845-121-T.singletons.r2.fastq.gz | PDMR-172845 | 172845-121-T_SL | 121-T | PDMR-172845 | 172845-121-T_SL | PDX | RNA-Seq | ⋯ | fastq.gz | Raw Reads | NovaSeq S4 | NA |   93138489 | P3 | Unknown | NA | NA | Unknown |\n",
       "| 1954 | WUSTL | 625472-104-R.r1.fastq.gz            | PDMR-625472 | 625472-104-R_SL | 104-R | PDMR-625472 | 625472-104-R_SL | PDX | RNA-Seq | ⋯ | fastq.gz | Raw Reads | NovaSeq S4 | NA | 3184453176 | P2 | Unknown | NA | NA | Unknown |\n",
       "\n",
       "\n",
       "\n",
       "\n"
      ],
      "text/plain": [
       "$BCM\n",
       "\u001b[90m# A tibble: 5 × 29\u001b[39m\n",
       "  Index contributor file_name     patient_id model_id tumor_id case_id sample_id\n",
       "  \u001b[3m\u001b[90m<dbl>\u001b[39m\u001b[23m \u001b[3m\u001b[90m<chr>\u001b[39m\u001b[23m       \u001b[3m\u001b[90m<chr>\u001b[39m\u001b[23m         \u001b[3m\u001b[90m<chr>\u001b[39m\u001b[23m      \u001b[3m\u001b[90m<chr>\u001b[39m\u001b[23m    \u001b[3m\u001b[90m<chr>\u001b[39m\u001b[23m    \u001b[3m\u001b[90m<chr>\u001b[39m\u001b[23m   \u001b[3m\u001b[90m<chr>\u001b[39m\u001b[23m    \n",
       "\u001b[90m1\u001b[39m     1 BCM         LZML_37246_N… 24452      BCM-0002 2011012… \u001b[31mNA\u001b[39m      BCM-0002 \n",
       "\u001b[90m2\u001b[39m     2 BCM         LZML_37246_N… 24452      BCM-0002 2011012… \u001b[31mNA\u001b[39m      BCM-0002 \n",
       "\u001b[90m3\u001b[39m     3 BCM         ML6065_GATCA… 2219       BCM-0046 2011012… \u001b[31mNA\u001b[39m      BCM-0046 \n",
       "\u001b[90m4\u001b[39m     4 BCM         ML6065_GATCA… 2219       BCM-0046 2011012… \u001b[31mNA\u001b[39m      BCM-0046 \n",
       "\u001b[90m5\u001b[39m     5 BCM         ML6061_CAGAT… 24561      BCM-0104 2011012… \u001b[31mNA\u001b[39m      BCM-0104 \n",
       "\u001b[90m# … with 21 more variables: sample_type <chr>, experimental_strategy <chr>,\u001b[39m\n",
       "\u001b[90m#   gender <chr>, paired_end <dbl>, capture_kit <chr>, capture_assembly <chr>,\u001b[39m\n",
       "\u001b[90m#   availability <chr>, public <chr>, access_level <chr>,\u001b[39m\n",
       "\u001b[90m#   created_datetime <dbl>, data_category <chr>, data_format <chr>,\u001b[39m\n",
       "\u001b[90m#   data_type <chr>, platform <chr>, is_ffpe <lgl>, file_size <dbl>,\u001b[39m\n",
       "\u001b[90m#   passage <chr>, disease_type <chr>, comment <chr>, investigation <lgl>,\u001b[39m\n",
       "\u001b[90m#   disease_detail <chr>\u001b[39m\n",
       "\n",
       "$HCI\n",
       "\u001b[90m# A tibble: 5 × 29\u001b[39m\n",
       "  Index contributor file_name     patient_id model_id tumor_id case_id sample_id\n",
       "  \u001b[3m\u001b[90m<dbl>\u001b[39m\u001b[23m \u001b[3m\u001b[90m<chr>\u001b[39m\u001b[23m       \u001b[3m\u001b[90m<chr>\u001b[39m\u001b[23m         \u001b[3m\u001b[90m<chr>\u001b[39m\u001b[23m      \u001b[3m\u001b[90m<chr>\u001b[39m\u001b[23m    \u001b[3m\u001b[90m<chr>\u001b[39m\u001b[23m    \u001b[3m\u001b[90m<chr>\u001b[39m\u001b[23m   \u001b[3m\u001b[90m<chr>\u001b[39m\u001b[23m    \n",
       "\u001b[90m1\u001b[39m   209 HCI         14990X12_HCI… HCI001     \u001b[31mNA\u001b[39m       \u001b[31mNA\u001b[39m       HCI001  14990X12 \n",
       "\u001b[90m2\u001b[39m   210 HCI         14990X12_HCI… HCI001     \u001b[31mNA\u001b[39m       \u001b[31mNA\u001b[39m       HCI001  14990X12 \n",
       "\u001b[90m3\u001b[39m   211 HCI         0900570-B_HC… HCI002     \u001b[31mNA\u001b[39m       \u001b[31mNA\u001b[39m       HCI002  0900570-B\n",
       "\u001b[90m4\u001b[39m   212 HCI         0900570-B_HC… HCI002     \u001b[31mNA\u001b[39m       \u001b[31mNA\u001b[39m       HCI002  0900570-B\n",
       "\u001b[90m5\u001b[39m   239 HCI         14990X4_HCI0… HCI004     \u001b[31mNA\u001b[39m       \u001b[31mNA\u001b[39m       HCI004  14990X4  \n",
       "\u001b[90m# … with 21 more variables: sample_type <chr>, experimental_strategy <chr>,\u001b[39m\n",
       "\u001b[90m#   gender <chr>, paired_end <dbl>, capture_kit <chr>, capture_assembly <chr>,\u001b[39m\n",
       "\u001b[90m#   availability <chr>, public <chr>, access_level <chr>,\u001b[39m\n",
       "\u001b[90m#   created_datetime <dbl>, data_category <chr>, data_format <chr>,\u001b[39m\n",
       "\u001b[90m#   data_type <chr>, platform <chr>, is_ffpe <lgl>, file_size <dbl>,\u001b[39m\n",
       "\u001b[90m#   passage <chr>, disease_type <chr>, comment <chr>, investigation <lgl>,\u001b[39m\n",
       "\u001b[90m#   disease_detail <chr>\u001b[39m\n",
       "\n",
       "$MDACC\n",
       "\u001b[90m# A tibble: 5 × 29\u001b[39m\n",
       "  Index contributor file_name     patient_id model_id tumor_id case_id sample_id\n",
       "  \u001b[3m\u001b[90m<dbl>\u001b[39m\u001b[23m \u001b[3m\u001b[90m<chr>\u001b[39m\u001b[23m       \u001b[3m\u001b[90m<chr>\u001b[39m\u001b[23m         \u001b[3m\u001b[90m<chr>\u001b[39m\u001b[23m      \u001b[3m\u001b[90m<chr>\u001b[39m\u001b[23m    \u001b[3m\u001b[90m<chr>\u001b[39m\u001b[23m    \u001b[3m\u001b[90m<chr>\u001b[39m\u001b[23m   \u001b[3m\u001b[90m<chr>\u001b[39m\u001b[23m    \n",
       "\u001b[90m1\u001b[39m  \u001b[4m1\u001b[24m100 MDACC       BFang-LungPD… TC211      \u001b[31mNA\u001b[39m       \u001b[31mNA\u001b[39m       TC211   TC211W   \n",
       "\u001b[90m2\u001b[39m  \u001b[4m1\u001b[24m101 MDACC       BFang-LungPD… TC211      \u001b[31mNA\u001b[39m       \u001b[31mNA\u001b[39m       TC211   TC211W   \n",
       "\u001b[90m3\u001b[39m  \u001b[4m1\u001b[24m102 MDACC       BFang-LungPD… TC219      \u001b[31mNA\u001b[39m       \u001b[31mNA\u001b[39m       TC219   TC219W   \n",
       "\u001b[90m4\u001b[39m  \u001b[4m1\u001b[24m103 MDACC       BFang-LungPD… TC219      \u001b[31mNA\u001b[39m       \u001b[31mNA\u001b[39m       TC219   TC219W   \n",
       "\u001b[90m5\u001b[39m  \u001b[4m1\u001b[24m104 MDACC       BFang-LungPD… TC223      \u001b[31mNA\u001b[39m       \u001b[31mNA\u001b[39m       TC223   TC223W   \n",
       "\u001b[90m# … with 21 more variables: sample_type <chr>, experimental_strategy <chr>,\u001b[39m\n",
       "\u001b[90m#   gender <chr>, paired_end <dbl>, capture_kit <chr>, capture_assembly <chr>,\u001b[39m\n",
       "\u001b[90m#   availability <chr>, public <chr>, access_level <chr>,\u001b[39m\n",
       "\u001b[90m#   created_datetime <dbl>, data_category <chr>, data_format <chr>,\u001b[39m\n",
       "\u001b[90m#   data_type <chr>, platform <chr>, is_ffpe <lgl>, file_size <dbl>,\u001b[39m\n",
       "\u001b[90m#   passage <chr>, disease_type <chr>, comment <chr>, investigation <lgl>,\u001b[39m\n",
       "\u001b[90m#   disease_detail <chr>\u001b[39m\n",
       "\n",
       "$`UC Davis`\n",
       "\u001b[90m# A tibble: 5 × 29\u001b[39m\n",
       "  Index contributor file_name     patient_id model_id tumor_id case_id sample_id\n",
       "  \u001b[3m\u001b[90m<dbl>\u001b[39m\u001b[23m \u001b[3m\u001b[90m<chr>\u001b[39m\u001b[23m       \u001b[3m\u001b[90m<chr>\u001b[39m\u001b[23m         \u001b[3m\u001b[90m<chr>\u001b[39m\u001b[23m      \u001b[3m\u001b[90m<chr>\u001b[39m\u001b[23m    \u001b[3m\u001b[90m<chr>\u001b[39m\u001b[23m    \u001b[3m\u001b[90m<chr>\u001b[39m\u001b[23m   \u001b[3m\u001b[90m<chr>\u001b[39m\u001b[23m    \n",
       "\u001b[90m1\u001b[39m  \u001b[4m1\u001b[24m518 UC Davis    BL0269F404_P… BL0269F    BL0269F  BL0269F  BL0269F BL0269F  \n",
       "\u001b[90m2\u001b[39m  \u001b[4m1\u001b[24m519 UC Davis    BL0269F404_P… BL0269F    BL0269F  BL0269F  BL0269F BL0269F  \n",
       "\u001b[90m3\u001b[39m  \u001b[4m1\u001b[24m520 UC Davis    BL0269F404_P… BL0269F    BL0269F  BL0269F  BL0269F BL0269F  \n",
       "\u001b[90m4\u001b[39m  \u001b[4m1\u001b[24m521 UC Davis    BL0269F404_P… BL0269F    BL0269F  BL0269F  BL0269F BL0269F  \n",
       "\u001b[90m5\u001b[39m  \u001b[4m1\u001b[24m522 UC Davis    BL0269F404P0… BL0269F    BL0269F  BL0269F  BL0269F BL0269F  \n",
       "\u001b[90m# … with 21 more variables: sample_type <chr>, experimental_strategy <chr>,\u001b[39m\n",
       "\u001b[90m#   gender <chr>, paired_end <dbl>, capture_kit <chr>, capture_assembly <chr>,\u001b[39m\n",
       "\u001b[90m#   availability <chr>, public <chr>, access_level <chr>,\u001b[39m\n",
       "\u001b[90m#   created_datetime <dbl>, data_category <chr>, data_format <chr>,\u001b[39m\n",
       "\u001b[90m#   data_type <chr>, platform <chr>, is_ffpe <lgl>, file_size <dbl>,\u001b[39m\n",
       "\u001b[90m#   passage <chr>, disease_type <chr>, comment <chr>, investigation <lgl>,\u001b[39m\n",
       "\u001b[90m#   disease_detail <chr>\u001b[39m\n",
       "\n",
       "$WISTAR\n",
       "\u001b[90m# A tibble: 5 × 29\u001b[39m\n",
       "  Index contributor file_name     patient_id model_id tumor_id case_id sample_id\n",
       "  \u001b[3m\u001b[90m<dbl>\u001b[39m\u001b[23m \u001b[3m\u001b[90m<chr>\u001b[39m\u001b[23m       \u001b[3m\u001b[90m<chr>\u001b[39m\u001b[23m         \u001b[3m\u001b[90m<chr>\u001b[39m\u001b[23m      \u001b[3m\u001b[90m<chr>\u001b[39m\u001b[23m    \u001b[3m\u001b[90m<chr>\u001b[39m\u001b[23m    \u001b[3m\u001b[90m<chr>\u001b[39m\u001b[23m   \u001b[3m\u001b[90m<chr>\u001b[39m\u001b[23m    \n",
       "\u001b[90m1\u001b[39m  \u001b[4m1\u001b[24m566 WISTAR      wm3907n_R1.f… WM3907     wm3907n  \u001b[31mNA\u001b[39m       \u001b[31mNA\u001b[39m      wm3907n  \n",
       "\u001b[90m2\u001b[39m  \u001b[4m1\u001b[24m567 WISTAR      wm3907n_R2.f… WM3907     wm3907n  \u001b[31mNA\u001b[39m       \u001b[31mNA\u001b[39m      wm3907n  \n",
       "\u001b[90m3\u001b[39m  \u001b[4m1\u001b[24m568 WISTAR      wm3922n_R1.f… WM3922     wm3922n  \u001b[31mNA\u001b[39m       \u001b[31mNA\u001b[39m      wm3922n  \n",
       "\u001b[90m4\u001b[39m  \u001b[4m1\u001b[24m569 WISTAR      wm3922n_R2.f… WM3922     wm3922n  \u001b[31mNA\u001b[39m       \u001b[31mNA\u001b[39m      wm3922n  \n",
       "\u001b[90m5\u001b[39m  \u001b[4m1\u001b[24m570 WISTAR      wm3926n_R1.f… WM3926     wm3926n  \u001b[31mNA\u001b[39m       \u001b[31mNA\u001b[39m      wm3926n  \n",
       "\u001b[90m# … with 21 more variables: sample_type <chr>, experimental_strategy <chr>,\u001b[39m\n",
       "\u001b[90m#   gender <chr>, paired_end <dbl>, capture_kit <chr>, capture_assembly <chr>,\u001b[39m\n",
       "\u001b[90m#   availability <chr>, public <chr>, access_level <chr>,\u001b[39m\n",
       "\u001b[90m#   created_datetime <dbl>, data_category <chr>, data_format <chr>,\u001b[39m\n",
       "\u001b[90m#   data_type <chr>, platform <chr>, is_ffpe <lgl>, file_size <dbl>,\u001b[39m\n",
       "\u001b[90m#   passage <chr>, disease_type <chr>, comment <chr>, investigation <lgl>,\u001b[39m\n",
       "\u001b[90m#   disease_detail <chr>\u001b[39m\n",
       "\n",
       "$WUSTL\n",
       "\u001b[90m# A tibble: 5 × 29\u001b[39m\n",
       "  Index contributor file_name    patient_id  model_id tumor_id case_id sample_id\n",
       "  \u001b[3m\u001b[90m<dbl>\u001b[39m\u001b[23m \u001b[3m\u001b[90m<chr>\u001b[39m\u001b[23m       \u001b[3m\u001b[90m<chr>\u001b[39m\u001b[23m        \u001b[3m\u001b[90m<chr>\u001b[39m\u001b[23m       \u001b[3m\u001b[90m<chr>\u001b[39m\u001b[23m    \u001b[3m\u001b[90m<chr>\u001b[39m\u001b[23m    \u001b[3m\u001b[90m<chr>\u001b[39m\u001b[23m   \u001b[3m\u001b[90m<chr>\u001b[39m\u001b[23m    \n",
       "\u001b[90m1\u001b[39m  \u001b[4m1\u001b[24m949 WUSTL       172845-121-… PDMR-172845 172845-… 121-T    PDMR-1… 172845-1…\n",
       "\u001b[90m2\u001b[39m  \u001b[4m1\u001b[24m950 WUSTL       172845-121-… PDMR-172845 172845-… 121-T    PDMR-1… 172845-1…\n",
       "\u001b[90m3\u001b[39m  \u001b[4m1\u001b[24m951 WUSTL       172845-121-… PDMR-172845 172845-… 121-T    PDMR-1… 172845-1…\n",
       "\u001b[90m4\u001b[39m  \u001b[4m1\u001b[24m952 WUSTL       172845-121-… PDMR-172845 172845-… 121-T    PDMR-1… 172845-1…\n",
       "\u001b[90m5\u001b[39m  \u001b[4m1\u001b[24m954 WUSTL       625472-104-… PDMR-625472 625472-… 104-R    PDMR-6… 625472-1…\n",
       "\u001b[90m# … with 21 more variables: sample_type <chr>, experimental_strategy <chr>,\u001b[39m\n",
       "\u001b[90m#   gender <chr>, paired_end <dbl>, capture_kit <chr>, capture_assembly <chr>,\u001b[39m\n",
       "\u001b[90m#   availability <chr>, public <chr>, access_level <chr>,\u001b[39m\n",
       "\u001b[90m#   created_datetime <dbl>, data_category <chr>, data_format <chr>,\u001b[39m\n",
       "\u001b[90m#   data_type <chr>, platform <chr>, is_ffpe <lgl>, file_size <dbl>,\u001b[39m\n",
       "\u001b[90m#   passage <chr>, disease_type <chr>, comment <chr>, investigation <lgl>,\u001b[39m\n",
       "\u001b[90m#   disease_detail <chr>\u001b[39m\n"
      ]
     },
     "metadata": {},
     "output_type": "display_data"
    }
   ],
   "source": [
    "# Name the dataframes\n",
    "\n",
    "names(edited_pdtc_files_by_contributor) <- c('BCM', 'HCI', 'MDACC', 'UC Davis', 'WISTAR', 'WUSTL')\n",
    "\n",
    "edited_pdtc_files_by_contributor %>% map(head, 5)"
   ]
  },
  {
   "cell_type": "code",
   "execution_count": 40,
   "id": "756f804f-5b67-4593-8cb0-36e4a7d1d9f2",
   "metadata": {},
   "outputs": [],
   "source": [
    "# Export these as-is so I can take a look at them more easily\n",
    "\n",
    "for (i in seq_along(edited_pdtc_files_by_contributor)) {\n",
    "    write_csv(edited_pdtc_files_by_contributor[[i]], str_c('2022-02-10_', names(edited_pdtc_files_by_contributor)[[i]], '_files_pre_edit.csv'))\n",
    "    }"
   ]
  },
  {
   "cell_type": "markdown",
   "id": "fc1485b9-f14e-49bc-8c04-9956ceeae7fb",
   "metadata": {},
   "source": [
    "### Do some reformatting to the models list"
   ]
  },
  {
   "cell_type": "code",
   "execution_count": 41,
   "id": "886beab2-d239-43d6-a18f-09dd0fe4af3c",
   "metadata": {
    "tags": []
   },
   "outputs": [
    {
     "data": {
      "text/html": [
       "334"
      ],
      "text/latex": [
       "334"
      ],
      "text/markdown": [
       "334"
      ],
      "text/plain": [
       "[1] 334"
      ]
     },
     "metadata": {},
     "output_type": "display_data"
    },
    {
     "data": {
      "text/html": [
       "<table class=\"dataframe\">\n",
       "<caption>A tibble: 6 × 22</caption>\n",
       "<thead>\n",
       "\t<tr><th scope=col>Index</th><th scope=col>PDXSource</th><th scope=col>Contributor</th><th scope=col>ContributorPDX.ID</th><th scope=col>PDMR.Patient.ID</th><th scope=col>Gender</th><th scope=col>CTEP.SDCCode</th><th scope=col>CTEP.SDCDescription</th><th scope=col>DiagnosisSubtype</th><th scope=col>Disease.BodyLocation</th><th scope=col>⋯</th><th scope=col>Has.KnownMetastaticDisease</th><th scope=col>Grade.StageInformation</th><th scope=col>PatientNotes</th><th scope=col>Molecular.andIHC.Data</th><th scope=col>Has.Smoked100.Cigarettes</th><th scope=col>Race</th><th scope=col>Ethnicity</th><th scope=col>AdditionalMedicalHistory</th><th scope=col>Submission</th><th scope=col>ContributorPDX.ID_edit</th></tr>\n",
       "\t<tr><th scope=col>&lt;dbl&gt;</th><th scope=col>&lt;chr&gt;</th><th scope=col>&lt;chr&gt;</th><th scope=col>&lt;chr&gt;</th><th scope=col>&lt;chr&gt;</th><th scope=col>&lt;chr&gt;</th><th scope=col>&lt;dbl&gt;</th><th scope=col>&lt;chr&gt;</th><th scope=col>&lt;chr&gt;</th><th scope=col>&lt;chr&gt;</th><th scope=col>⋯</th><th scope=col>&lt;chr&gt;</th><th scope=col>&lt;chr&gt;</th><th scope=col>&lt;chr&gt;</th><th scope=col>&lt;chr&gt;</th><th scope=col>&lt;chr&gt;</th><th scope=col>&lt;chr&gt;</th><th scope=col>&lt;chr&gt;</th><th scope=col>&lt;chr&gt;</th><th scope=col>&lt;dttm&gt;</th><th scope=col>&lt;chr&gt;</th></tr>\n",
       "</thead>\n",
       "<tbody>\n",
       "\t<tr><td>1</td><td>PDXNet Consortium Members</td><td>MDACC</td><td>B8174</td><td>K42829</td><td>Female</td><td>10009951</td><td>Adenocarcinoma - colon</td><td><span style=white-space:pre-wrap>adenocarcinoma of sigmoid colon                                   </span></td><td>Digestive/Gastrointestinal</td><td>⋯</td><td><span style=white-space:pre-wrap>Yes         </span></td><td><span style=white-space:pre-wrap>Stage             </span></td><td>Tumor Grade/Stage: Stage IV Location of known metastases: Pelvis, omentum, Chest wall (left), Lymph node (left axillary)</td><td><span style=white-space:pre-wrap>APC c.4037C&gt;G p.S1346*; FBXW7 c.832C&gt;T p.R278*; KRAS c.38G&gt;A p.G13D; TP53 c.427G&gt;A p.V143M                              </span></td><td>No </td><td><span style=white-space:pre-wrap>White       </span></td><td>Not Hispanic or Latino</td><td><span style=white-space:pre-wrap>-                                                                                                                     </span></td><td>2021-09-02</td><td>B8174</td></tr>\n",
       "\t<tr><td>2</td><td>PDXNet Consortium Members</td><td>MDACC</td><td>B8175</td><td>K30337</td><td>Female</td><td>10009951</td><td>Adenocarcinoma - colon</td><td>adenocarcinoma                                                    </td><td>Digestive/Gastrointestinal</td><td>⋯</td><td>Yes         </td><td>Stage             </td><td>Tumor Grade/Stage: Stage IV, poorly differentiated Location of known metastases: Peritoneum, Liver                      </td><td>KRAS/NRAS WT,BRAF mutated, MSI Stable                                                                                   </td><td>No </td><td>White       </td><td>Hispanic or Latino    </td><td>Family h/o: 2nd degree relative, Uterine cancer                                                                       </td><td>2018-12-19</td><td>B8175</td></tr>\n",
       "\t<tr><td>3</td><td>PDXNet Consortium Members</td><td>MDACC</td><td>B8176</td><td>K45526</td><td>Female</td><td>10009951</td><td>Adenocarcinoma - colon</td><td>Lynch syndrome; mucinous and signet ring cell adenocarcinoma      </td><td>Digestive/Gastrointestinal</td><td>⋯</td><td>Not Reported</td><td>TNM (Pathological)</td><td>Tumor Grade/Stage:  pT1bpN0pM0, poorly differentiated Location of known metastases: Liver, Abdomen                      </td><td>Germline heterozygous MSH2 c388_389del variant (deleterious) Lynch syndrome, MSI-high; KRAS-G12D; Loss of MSH2 and MSH6;</td><td>Yes</td><td>White       </td><td>Hispanic or Latino    </td><td>Family History: 1st degree relative, GI cancer involving esophagus, liver, bile duct, stomach, pancreas, colon, rectum</td><td>2018-12-19</td><td>B8176</td></tr>\n",
       "\t<tr><td>4</td><td>PDXNet Consortium Members</td><td>MDACC</td><td>B8182</td><td>K75566</td><td>Female</td><td>10009951</td><td>Adenocarcinoma - colon</td><td>poorly differentiated mucinous and signet ring cell adenocarcinoma</td><td>Digestive/Gastrointestinal</td><td>⋯</td><td>Yes         </td><td>Stage, TNM        </td><td>Tumor Grade/Stage: Stage III T4N2M0 Location of known metastases: Liver                                                 </td><td>-                                                                                                                       </td><td>No </td><td>White       </td><td>Hispanic or Latino    </td><td>-                                                                                                                     </td><td>2021-09-02</td><td>B8182</td></tr>\n",
       "\t<tr><td>5</td><td>PDXNet Consortium Members</td><td>MDACC</td><td>B8183</td><td>K83548</td><td>Male  </td><td>10009951</td><td>Adenocarcinoma - colon</td><td>adenocarcinoma                                                    </td><td>Digestive/Gastrointestinal</td><td>⋯</td><td>Yes         </td><td>Stage             </td><td>Tumor Grade/Stage: Stage IV, moderately differentiated  Location of known metastases:  Liver, Duodenum, Pelvis          </td><td>MSI-Stable; BRAF mutant; KRAS wild type                                                                                 </td><td>Yes</td><td>Not Provided</td><td>Not Provided          </td><td>-                                                                                                                     </td><td>2018-12-19</td><td>B8183</td></tr>\n",
       "\t<tr><td>6</td><td>PDXNet Consortium Members</td><td>MDACC</td><td>B8207</td><td>K49395</td><td>Male  </td><td>10009951</td><td>Adenocarcinoma - colon</td><td>Sigmoid                                                           </td><td>Digestive/Gastrointestinal</td><td>⋯</td><td>Yes         </td><td>Stage, TNM        </td><td>Tumor Grade/Stage: Stage IVB, TxNxM1b, Moderately differentiated  Location of known metastases: Liver, Lung             </td><td>Mutations present in: MDM4, NOTCH1, RB1, TP53, APC                                                                      </td><td>Yes</td><td>White       </td><td>Not Hispanic or Latino</td><td>No family history of cancer                                                                                           </td><td>2021-09-02</td><td>B8207</td></tr>\n",
       "</tbody>\n",
       "</table>\n"
      ],
      "text/latex": [
       "A tibble: 6 × 22\n",
       "\\begin{tabular}{lllllllllllllllllllll}\n",
       " Index & PDXSource & Contributor & ContributorPDX.ID & PDMR.Patient.ID & Gender & CTEP.SDCCode & CTEP.SDCDescription & DiagnosisSubtype & Disease.BodyLocation & ⋯ & Has.KnownMetastaticDisease & Grade.StageInformation & PatientNotes & Molecular.andIHC.Data & Has.Smoked100.Cigarettes & Race & Ethnicity & AdditionalMedicalHistory & Submission & ContributorPDX.ID\\_edit\\\\\n",
       " <dbl> & <chr> & <chr> & <chr> & <chr> & <chr> & <dbl> & <chr> & <chr> & <chr> & ⋯ & <chr> & <chr> & <chr> & <chr> & <chr> & <chr> & <chr> & <chr> & <dttm> & <chr>\\\\\n",
       "\\hline\n",
       "\t 1 & PDXNet Consortium Members & MDACC & B8174 & K42829 & Female & 10009951 & Adenocarcinoma - colon & adenocarcinoma of sigmoid colon                                    & Digestive/Gastrointestinal & ⋯ & Yes          & Stage              & Tumor Grade/Stage: Stage IV Location of known metastases: Pelvis, omentum, Chest wall (left), Lymph node (left axillary) & APC c.4037C>G p.S1346*; FBXW7 c.832C>T p.R278*; KRAS c.38G>A p.G13D; TP53 c.427G>A p.V143M                               & No  & White        & Not Hispanic or Latino & -                                                                                                                      & 2021-09-02 & B8174\\\\\n",
       "\t 2 & PDXNet Consortium Members & MDACC & B8175 & K30337 & Female & 10009951 & Adenocarcinoma - colon & adenocarcinoma                                                     & Digestive/Gastrointestinal & ⋯ & Yes          & Stage              & Tumor Grade/Stage: Stage IV, poorly differentiated Location of known metastases: Peritoneum, Liver                       & KRAS/NRAS WT,BRAF mutated, MSI Stable                                                                                    & No  & White        & Hispanic or Latino     & Family h/o: 2nd degree relative, Uterine cancer                                                                        & 2018-12-19 & B8175\\\\\n",
       "\t 3 & PDXNet Consortium Members & MDACC & B8176 & K45526 & Female & 10009951 & Adenocarcinoma - colon & Lynch syndrome; mucinous and signet ring cell adenocarcinoma       & Digestive/Gastrointestinal & ⋯ & Not Reported & TNM (Pathological) & Tumor Grade/Stage:  pT1bpN0pM0, poorly differentiated Location of known metastases: Liver, Abdomen                       & Germline heterozygous MSH2 c388\\_389del variant (deleterious) Lynch syndrome, MSI-high; KRAS-G12D; Loss of MSH2 and MSH6; & Yes & White        & Hispanic or Latino     & Family History: 1st degree relative, GI cancer involving esophagus, liver, bile duct, stomach, pancreas, colon, rectum & 2018-12-19 & B8176\\\\\n",
       "\t 4 & PDXNet Consortium Members & MDACC & B8182 & K75566 & Female & 10009951 & Adenocarcinoma - colon & poorly differentiated mucinous and signet ring cell adenocarcinoma & Digestive/Gastrointestinal & ⋯ & Yes          & Stage, TNM         & Tumor Grade/Stage: Stage III T4N2M0 Location of known metastases: Liver                                                  & -                                                                                                                        & No  & White        & Hispanic or Latino     & -                                                                                                                      & 2021-09-02 & B8182\\\\\n",
       "\t 5 & PDXNet Consortium Members & MDACC & B8183 & K83548 & Male   & 10009951 & Adenocarcinoma - colon & adenocarcinoma                                                     & Digestive/Gastrointestinal & ⋯ & Yes          & Stage              & Tumor Grade/Stage: Stage IV, moderately differentiated  Location of known metastases:  Liver, Duodenum, Pelvis           & MSI-Stable; BRAF mutant; KRAS wild type                                                                                  & Yes & Not Provided & Not Provided           & -                                                                                                                      & 2018-12-19 & B8183\\\\\n",
       "\t 6 & PDXNet Consortium Members & MDACC & B8207 & K49395 & Male   & 10009951 & Adenocarcinoma - colon & Sigmoid                                                            & Digestive/Gastrointestinal & ⋯ & Yes          & Stage, TNM         & Tumor Grade/Stage: Stage IVB, TxNxM1b, Moderately differentiated  Location of known metastases: Liver, Lung              & Mutations present in: MDM4, NOTCH1, RB1, TP53, APC                                                                       & Yes & White        & Not Hispanic or Latino & No family history of cancer                                                                                            & 2021-09-02 & B8207\\\\\n",
       "\\end{tabular}\n"
      ],
      "text/markdown": [
       "\n",
       "A tibble: 6 × 22\n",
       "\n",
       "| Index &lt;dbl&gt; | PDXSource &lt;chr&gt; | Contributor &lt;chr&gt; | ContributorPDX.ID &lt;chr&gt; | PDMR.Patient.ID &lt;chr&gt; | Gender &lt;chr&gt; | CTEP.SDCCode &lt;dbl&gt; | CTEP.SDCDescription &lt;chr&gt; | DiagnosisSubtype &lt;chr&gt; | Disease.BodyLocation &lt;chr&gt; | ⋯ ⋯ | Has.KnownMetastaticDisease &lt;chr&gt; | Grade.StageInformation &lt;chr&gt; | PatientNotes &lt;chr&gt; | Molecular.andIHC.Data &lt;chr&gt; | Has.Smoked100.Cigarettes &lt;chr&gt; | Race &lt;chr&gt; | Ethnicity &lt;chr&gt; | AdditionalMedicalHistory &lt;chr&gt; | Submission &lt;dttm&gt; | ContributorPDX.ID_edit &lt;chr&gt; |\n",
       "|---|---|---|---|---|---|---|---|---|---|---|---|---|---|---|---|---|---|---|---|---|\n",
       "| 1 | PDXNet Consortium Members | MDACC | B8174 | K42829 | Female | 10009951 | Adenocarcinoma - colon | adenocarcinoma of sigmoid colon                                    | Digestive/Gastrointestinal | ⋯ | Yes          | Stage              | Tumor Grade/Stage: Stage IV Location of known metastases: Pelvis, omentum, Chest wall (left), Lymph node (left axillary) | APC c.4037C&gt;G p.S1346*; FBXW7 c.832C&gt;T p.R278*; KRAS c.38G&gt;A p.G13D; TP53 c.427G&gt;A p.V143M                               | No  | White        | Not Hispanic or Latino | -                                                                                                                      | 2021-09-02 | B8174 |\n",
       "| 2 | PDXNet Consortium Members | MDACC | B8175 | K30337 | Female | 10009951 | Adenocarcinoma - colon | adenocarcinoma                                                     | Digestive/Gastrointestinal | ⋯ | Yes          | Stage              | Tumor Grade/Stage: Stage IV, poorly differentiated Location of known metastases: Peritoneum, Liver                       | KRAS/NRAS WT,BRAF mutated, MSI Stable                                                                                    | No  | White        | Hispanic or Latino     | Family h/o: 2nd degree relative, Uterine cancer                                                                        | 2018-12-19 | B8175 |\n",
       "| 3 | PDXNet Consortium Members | MDACC | B8176 | K45526 | Female | 10009951 | Adenocarcinoma - colon | Lynch syndrome; mucinous and signet ring cell adenocarcinoma       | Digestive/Gastrointestinal | ⋯ | Not Reported | TNM (Pathological) | Tumor Grade/Stage:  pT1bpN0pM0, poorly differentiated Location of known metastases: Liver, Abdomen                       | Germline heterozygous MSH2 c388_389del variant (deleterious) Lynch syndrome, MSI-high; KRAS-G12D; Loss of MSH2 and MSH6; | Yes | White        | Hispanic or Latino     | Family History: 1st degree relative, GI cancer involving esophagus, liver, bile duct, stomach, pancreas, colon, rectum | 2018-12-19 | B8176 |\n",
       "| 4 | PDXNet Consortium Members | MDACC | B8182 | K75566 | Female | 10009951 | Adenocarcinoma - colon | poorly differentiated mucinous and signet ring cell adenocarcinoma | Digestive/Gastrointestinal | ⋯ | Yes          | Stage, TNM         | Tumor Grade/Stage: Stage III T4N2M0 Location of known metastases: Liver                                                  | -                                                                                                                        | No  | White        | Hispanic or Latino     | -                                                                                                                      | 2021-09-02 | B8182 |\n",
       "| 5 | PDXNet Consortium Members | MDACC | B8183 | K83548 | Male   | 10009951 | Adenocarcinoma - colon | adenocarcinoma                                                     | Digestive/Gastrointestinal | ⋯ | Yes          | Stage              | Tumor Grade/Stage: Stage IV, moderately differentiated  Location of known metastases:  Liver, Duodenum, Pelvis           | MSI-Stable; BRAF mutant; KRAS wild type                                                                                  | Yes | Not Provided | Not Provided           | -                                                                                                                      | 2018-12-19 | B8183 |\n",
       "| 6 | PDXNet Consortium Members | MDACC | B8207 | K49395 | Male   | 10009951 | Adenocarcinoma - colon | Sigmoid                                                            | Digestive/Gastrointestinal | ⋯ | Yes          | Stage, TNM         | Tumor Grade/Stage: Stage IVB, TxNxM1b, Moderately differentiated  Location of known metastases: Liver, Lung              | Mutations present in: MDM4, NOTCH1, RB1, TP53, APC                                                                       | Yes | White        | Not Hispanic or Latino | No family history of cancer                                                                                            | 2021-09-02 | B8207 |\n",
       "\n"
      ],
      "text/plain": [
       "  Index PDXSource                 Contributor ContributorPDX.ID PDMR.Patient.ID\n",
       "1 1     PDXNet Consortium Members MDACC       B8174             K42829         \n",
       "2 2     PDXNet Consortium Members MDACC       B8175             K30337         \n",
       "3 3     PDXNet Consortium Members MDACC       B8176             K45526         \n",
       "4 4     PDXNet Consortium Members MDACC       B8182             K75566         \n",
       "5 5     PDXNet Consortium Members MDACC       B8183             K83548         \n",
       "6 6     PDXNet Consortium Members MDACC       B8207             K49395         \n",
       "  Gender CTEP.SDCCode CTEP.SDCDescription   \n",
       "1 Female 10009951     Adenocarcinoma - colon\n",
       "2 Female 10009951     Adenocarcinoma - colon\n",
       "3 Female 10009951     Adenocarcinoma - colon\n",
       "4 Female 10009951     Adenocarcinoma - colon\n",
       "5 Male   10009951     Adenocarcinoma - colon\n",
       "6 Male   10009951     Adenocarcinoma - colon\n",
       "  DiagnosisSubtype                                                  \n",
       "1 adenocarcinoma of sigmoid colon                                   \n",
       "2 adenocarcinoma                                                    \n",
       "3 Lynch syndrome; mucinous and signet ring cell adenocarcinoma      \n",
       "4 poorly differentiated mucinous and signet ring cell adenocarcinoma\n",
       "5 adenocarcinoma                                                    \n",
       "6 Sigmoid                                                           \n",
       "  Disease.BodyLocation       ⋯ Has.KnownMetastaticDisease\n",
       "1 Digestive/Gastrointestinal ⋯ Yes                       \n",
       "2 Digestive/Gastrointestinal ⋯ Yes                       \n",
       "3 Digestive/Gastrointestinal ⋯ Not Reported              \n",
       "4 Digestive/Gastrointestinal ⋯ Yes                       \n",
       "5 Digestive/Gastrointestinal ⋯ Yes                       \n",
       "6 Digestive/Gastrointestinal ⋯ Yes                       \n",
       "  Grade.StageInformation\n",
       "1 Stage                 \n",
       "2 Stage                 \n",
       "3 TNM (Pathological)    \n",
       "4 Stage, TNM            \n",
       "5 Stage                 \n",
       "6 Stage, TNM            \n",
       "  PatientNotes                                                                                                            \n",
       "1 Tumor Grade/Stage: Stage IV Location of known metastases: Pelvis, omentum, Chest wall (left), Lymph node (left axillary)\n",
       "2 Tumor Grade/Stage: Stage IV, poorly differentiated Location of known metastases: Peritoneum, Liver                      \n",
       "3 Tumor Grade/Stage:  pT1bpN0pM0, poorly differentiated Location of known metastases: Liver, Abdomen                      \n",
       "4 Tumor Grade/Stage: Stage III T4N2M0 Location of known metastases: Liver                                                 \n",
       "5 Tumor Grade/Stage: Stage IV, moderately differentiated  Location of known metastases:  Liver, Duodenum, Pelvis          \n",
       "6 Tumor Grade/Stage: Stage IVB, TxNxM1b, Moderately differentiated  Location of known metastases: Liver, Lung             \n",
       "  Molecular.andIHC.Data                                                                                                   \n",
       "1 APC c.4037C>G p.S1346*; FBXW7 c.832C>T p.R278*; KRAS c.38G>A p.G13D; TP53 c.427G>A p.V143M                              \n",
       "2 KRAS/NRAS WT,BRAF mutated, MSI Stable                                                                                   \n",
       "3 Germline heterozygous MSH2 c388_389del variant (deleterious) Lynch syndrome, MSI-high; KRAS-G12D; Loss of MSH2 and MSH6;\n",
       "4 -                                                                                                                       \n",
       "5 MSI-Stable; BRAF mutant; KRAS wild type                                                                                 \n",
       "6 Mutations present in: MDM4, NOTCH1, RB1, TP53, APC                                                                      \n",
       "  Has.Smoked100.Cigarettes Race         Ethnicity             \n",
       "1 No                       White        Not Hispanic or Latino\n",
       "2 No                       White        Hispanic or Latino    \n",
       "3 Yes                      White        Hispanic or Latino    \n",
       "4 No                       White        Hispanic or Latino    \n",
       "5 Yes                      Not Provided Not Provided          \n",
       "6 Yes                      White        Not Hispanic or Latino\n",
       "  AdditionalMedicalHistory                                                                                              \n",
       "1 -                                                                                                                     \n",
       "2 Family h/o: 2nd degree relative, Uterine cancer                                                                       \n",
       "3 Family History: 1st degree relative, GI cancer involving esophagus, liver, bile duct, stomach, pancreas, colon, rectum\n",
       "4 -                                                                                                                     \n",
       "5 -                                                                                                                     \n",
       "6 No family history of cancer                                                                                           \n",
       "  Submission ContributorPDX.ID_edit\n",
       "1 2021-09-02 B8174                 \n",
       "2 2018-12-19 B8175                 \n",
       "3 2018-12-19 B8176                 \n",
       "4 2021-09-02 B8182                 \n",
       "5 2018-12-19 B8183                 \n",
       "6 2021-09-02 B8207                 "
      ]
     },
     "metadata": {},
     "output_type": "display_data"
    },
    {
     "data": {
      "text/html": [
       "<style>\n",
       ".list-inline {list-style: none; margin:0; padding: 0}\n",
       ".list-inline>li {display: inline-block}\n",
       ".list-inline>li:not(:last-child)::after {content: \"\\00b7\"; padding: 0 .5ex}\n",
       "</style>\n",
       "<ol class=list-inline><li>'Index'</li><li>'PDXSource'</li><li>'Contributor'</li><li>'ContributorPDX.ID'</li><li>'PDMR.Patient.ID'</li><li>'Gender'</li><li>'CTEP.SDCCode'</li><li>'CTEP.SDCDescription'</li><li>'DiagnosisSubtype'</li><li>'Disease.BodyLocation'</li><li>'Age.atDiagnosis'</li><li>'Date.ofDiagnosis'</li><li>'Has.KnownMetastaticDisease'</li><li>'Grade.StageInformation'</li><li>'PatientNotes'</li><li>'Molecular.andIHC.Data'</li><li>'Has.Smoked100.Cigarettes'</li><li>'Race'</li><li>'Ethnicity'</li><li>'AdditionalMedicalHistory'</li><li>'Submission'</li><li>'ContributorPDX.ID_edit'</li></ol>\n"
      ],
      "text/latex": [
       "\\begin{enumerate*}\n",
       "\\item 'Index'\n",
       "\\item 'PDXSource'\n",
       "\\item 'Contributor'\n",
       "\\item 'ContributorPDX.ID'\n",
       "\\item 'PDMR.Patient.ID'\n",
       "\\item 'Gender'\n",
       "\\item 'CTEP.SDCCode'\n",
       "\\item 'CTEP.SDCDescription'\n",
       "\\item 'DiagnosisSubtype'\n",
       "\\item 'Disease.BodyLocation'\n",
       "\\item 'Age.atDiagnosis'\n",
       "\\item 'Date.ofDiagnosis'\n",
       "\\item 'Has.KnownMetastaticDisease'\n",
       "\\item 'Grade.StageInformation'\n",
       "\\item 'PatientNotes'\n",
       "\\item 'Molecular.andIHC.Data'\n",
       "\\item 'Has.Smoked100.Cigarettes'\n",
       "\\item 'Race'\n",
       "\\item 'Ethnicity'\n",
       "\\item 'AdditionalMedicalHistory'\n",
       "\\item 'Submission'\n",
       "\\item 'ContributorPDX.ID\\_edit'\n",
       "\\end{enumerate*}\n"
      ],
      "text/markdown": [
       "1. 'Index'\n",
       "2. 'PDXSource'\n",
       "3. 'Contributor'\n",
       "4. 'ContributorPDX.ID'\n",
       "5. 'PDMR.Patient.ID'\n",
       "6. 'Gender'\n",
       "7. 'CTEP.SDCCode'\n",
       "8. 'CTEP.SDCDescription'\n",
       "9. 'DiagnosisSubtype'\n",
       "10. 'Disease.BodyLocation'\n",
       "11. 'Age.atDiagnosis'\n",
       "12. 'Date.ofDiagnosis'\n",
       "13. 'Has.KnownMetastaticDisease'\n",
       "14. 'Grade.StageInformation'\n",
       "15. 'PatientNotes'\n",
       "16. 'Molecular.andIHC.Data'\n",
       "17. 'Has.Smoked100.Cigarettes'\n",
       "18. 'Race'\n",
       "19. 'Ethnicity'\n",
       "20. 'AdditionalMedicalHistory'\n",
       "21. 'Submission'\n",
       "22. 'ContributorPDX.ID_edit'\n",
       "\n",
       "\n"
      ],
      "text/plain": [
       " [1] \"Index\"                      \"PDXSource\"                 \n",
       " [3] \"Contributor\"                \"ContributorPDX.ID\"         \n",
       " [5] \"PDMR.Patient.ID\"            \"Gender\"                    \n",
       " [7] \"CTEP.SDCCode\"               \"CTEP.SDCDescription\"       \n",
       " [9] \"DiagnosisSubtype\"           \"Disease.BodyLocation\"      \n",
       "[11] \"Age.atDiagnosis\"            \"Date.ofDiagnosis\"          \n",
       "[13] \"Has.KnownMetastaticDisease\" \"Grade.StageInformation\"    \n",
       "[15] \"PatientNotes\"               \"Molecular.andIHC.Data\"     \n",
       "[17] \"Has.Smoked100.Cigarettes\"   \"Race\"                      \n",
       "[19] \"Ethnicity\"                  \"AdditionalMedicalHistory\"  \n",
       "[21] \"Submission\"                 \"ContributorPDX.ID_edit\"    "
      ]
     },
     "metadata": {},
     "output_type": "display_data"
    }
   ],
   "source": [
    "# The model IDs have extra crap in the IDs that don't match for BCM some model IDs have a space and some stuff in parenthesis\n",
    "# This can be removed to match based on model ID\n",
    "\n",
    "pdtc_models_cleaned <- pdtc_models %>% mutate(ContributorPDX.ID_edit = str_replace(ContributorPDX.ID, '\\\\s.*$', ''))\n",
    "\n",
    "nrow(pdtc_models_cleaned)\n",
    "head(pdtc_models_cleaned)\n",
    "colnames(pdtc_models_cleaned)"
   ]
  },
  {
   "cell_type": "markdown",
   "id": "af426912-dab0-4305-aec3-51bb6e91ba1a",
   "metadata": {},
   "source": [
    "### Work on BCM's first"
   ]
  },
  {
   "cell_type": "code",
   "execution_count": 42,
   "id": "656d9ef1-0eb2-446d-b2a6-75907e459549",
   "metadata": {},
   "outputs": [
    {
     "data": {
      "text/html": [
       "208"
      ],
      "text/latex": [
       "208"
      ],
      "text/markdown": [
       "208"
      ],
      "text/plain": [
       "[1] 208"
      ]
     },
     "metadata": {},
     "output_type": "display_data"
    },
    {
     "data": {
      "text/html": [
       "<table class=\"dataframe\">\n",
       "<caption>A tibble: 6 × 29</caption>\n",
       "<thead>\n",
       "\t<tr><th scope=col>Index</th><th scope=col>contributor</th><th scope=col>file_name</th><th scope=col>patient_id</th><th scope=col>model_id</th><th scope=col>tumor_id</th><th scope=col>case_id</th><th scope=col>sample_id</th><th scope=col>sample_type</th><th scope=col>experimental_strategy</th><th scope=col>⋯</th><th scope=col>data_format</th><th scope=col>data_type</th><th scope=col>platform</th><th scope=col>is_ffpe</th><th scope=col>file_size</th><th scope=col>passage</th><th scope=col>disease_type</th><th scope=col>comment</th><th scope=col>investigation</th><th scope=col>disease_detail</th></tr>\n",
       "\t<tr><th scope=col>&lt;dbl&gt;</th><th scope=col>&lt;chr&gt;</th><th scope=col>&lt;chr&gt;</th><th scope=col>&lt;chr&gt;</th><th scope=col>&lt;chr&gt;</th><th scope=col>&lt;chr&gt;</th><th scope=col>&lt;chr&gt;</th><th scope=col>&lt;chr&gt;</th><th scope=col>&lt;chr&gt;</th><th scope=col>&lt;chr&gt;</th><th scope=col>⋯</th><th scope=col>&lt;chr&gt;</th><th scope=col>&lt;chr&gt;</th><th scope=col>&lt;chr&gt;</th><th scope=col>&lt;lgl&gt;</th><th scope=col>&lt;dbl&gt;</th><th scope=col>&lt;chr&gt;</th><th scope=col>&lt;chr&gt;</th><th scope=col>&lt;chr&gt;</th><th scope=col>&lt;lgl&gt;</th><th scope=col>&lt;chr&gt;</th></tr>\n",
       "</thead>\n",
       "<tbody>\n",
       "\t<tr><td>1</td><td>BCM</td><td>LZML_37246_NoIndex_L00X_R1_001.fastq.gz</td><td>24452</td><td>BCM-0002</td><td>2011012-2  </td><td>NA</td><td>BCM-0002</td><td>PDX</td><td>RNA-Seq</td><td>⋯</td><td>FASTQ.GZ</td><td>Raw Reads</td><td>Illumina</td><td>FALSE</td><td>20656964441</td><td>NA</td><td>Breast</td><td>NA</td><td>NA</td><td>Invasive breast carcinoma</td></tr>\n",
       "\t<tr><td>2</td><td>BCM</td><td>LZML_37246_NoIndex_L00X_R2_001.fastq.gz</td><td>24452</td><td>BCM-0002</td><td>2011012-2  </td><td>NA</td><td>BCM-0002</td><td>PDX</td><td>RNA-Seq</td><td>⋯</td><td>FASTQ.GZ</td><td>Raw Reads</td><td>Illumina</td><td>FALSE</td><td>21093643386</td><td>NA</td><td>Breast</td><td>NA</td><td>NA</td><td>Invasive breast carcinoma</td></tr>\n",
       "\t<tr><td>3</td><td>BCM</td><td>ML6065_GATCAGCG_L00X_R1_001.fastq.gz   </td><td>2219 </td><td>BCM-0046</td><td>2011012-46 </td><td>NA</td><td>BCM-0046</td><td>PDX</td><td>RNA-Seq</td><td>⋯</td><td>FASTQ.GZ</td><td>Raw Reads</td><td>Illumina</td><td>FALSE</td><td>22027304876</td><td>NA</td><td>Breast</td><td>NA</td><td>NA</td><td>Invasive breast carcinoma</td></tr>\n",
       "\t<tr><td>4</td><td>BCM</td><td>ML6065_GATCAGCG_L00X_R2_001.fastq.gz   </td><td>2219 </td><td>BCM-0046</td><td>2011012-46 </td><td>NA</td><td>BCM-0046</td><td>PDX</td><td>RNA-Seq</td><td>⋯</td><td>FASTQ.GZ</td><td>Raw Reads</td><td>Illumina</td><td>FALSE</td><td>22027304876</td><td>NA</td><td>Breast</td><td>NA</td><td>NA</td><td>Invasive breast carcinoma</td></tr>\n",
       "\t<tr><td>5</td><td>BCM</td><td>ML6061_CAGATCTG_L00X_R1_001.fastq.gz   </td><td>24561</td><td>BCM-0104</td><td>2011012-104</td><td>NA</td><td>BCM-0104</td><td>PDX</td><td>RNA-Seq</td><td>⋯</td><td>FASTQ.GZ</td><td>Raw Reads</td><td>Illumina</td><td>FALSE</td><td>17927987899</td><td>NA</td><td>Breast</td><td>NA</td><td>NA</td><td>Invasive breast carcinoma</td></tr>\n",
       "\t<tr><td>6</td><td>BCM</td><td>ML6061_CAGATCTG_L00X_R2_001.fastq.gz   </td><td>24561</td><td>BCM-0104</td><td>2011012-104</td><td>NA</td><td>BCM-0104</td><td>PDX</td><td>RNA-Seq</td><td>⋯</td><td>FASTQ.GZ</td><td>Raw Reads</td><td>Illumina</td><td>FALSE</td><td>18002109303</td><td>NA</td><td>Breast</td><td>NA</td><td>NA</td><td>Invasive breast carcinoma</td></tr>\n",
       "</tbody>\n",
       "</table>\n"
      ],
      "text/latex": [
       "A tibble: 6 × 29\n",
       "\\begin{tabular}{lllllllllllllllllllll}\n",
       " Index & contributor & file\\_name & patient\\_id & model\\_id & tumor\\_id & case\\_id & sample\\_id & sample\\_type & experimental\\_strategy & ⋯ & data\\_format & data\\_type & platform & is\\_ffpe & file\\_size & passage & disease\\_type & comment & investigation & disease\\_detail\\\\\n",
       " <dbl> & <chr> & <chr> & <chr> & <chr> & <chr> & <chr> & <chr> & <chr> & <chr> & ⋯ & <chr> & <chr> & <chr> & <lgl> & <dbl> & <chr> & <chr> & <chr> & <lgl> & <chr>\\\\\n",
       "\\hline\n",
       "\t 1 & BCM & LZML\\_37246\\_NoIndex\\_L00X\\_R1\\_001.fastq.gz & 24452 & BCM-0002 & 2011012-2   & NA & BCM-0002 & PDX & RNA-Seq & ⋯ & FASTQ.GZ & Raw Reads & Illumina & FALSE & 20656964441 & NA & Breast & NA & NA & Invasive breast carcinoma\\\\\n",
       "\t 2 & BCM & LZML\\_37246\\_NoIndex\\_L00X\\_R2\\_001.fastq.gz & 24452 & BCM-0002 & 2011012-2   & NA & BCM-0002 & PDX & RNA-Seq & ⋯ & FASTQ.GZ & Raw Reads & Illumina & FALSE & 21093643386 & NA & Breast & NA & NA & Invasive breast carcinoma\\\\\n",
       "\t 3 & BCM & ML6065\\_GATCAGCG\\_L00X\\_R1\\_001.fastq.gz    & 2219  & BCM-0046 & 2011012-46  & NA & BCM-0046 & PDX & RNA-Seq & ⋯ & FASTQ.GZ & Raw Reads & Illumina & FALSE & 22027304876 & NA & Breast & NA & NA & Invasive breast carcinoma\\\\\n",
       "\t 4 & BCM & ML6065\\_GATCAGCG\\_L00X\\_R2\\_001.fastq.gz    & 2219  & BCM-0046 & 2011012-46  & NA & BCM-0046 & PDX & RNA-Seq & ⋯ & FASTQ.GZ & Raw Reads & Illumina & FALSE & 22027304876 & NA & Breast & NA & NA & Invasive breast carcinoma\\\\\n",
       "\t 5 & BCM & ML6061\\_CAGATCTG\\_L00X\\_R1\\_001.fastq.gz    & 24561 & BCM-0104 & 2011012-104 & NA & BCM-0104 & PDX & RNA-Seq & ⋯ & FASTQ.GZ & Raw Reads & Illumina & FALSE & 17927987899 & NA & Breast & NA & NA & Invasive breast carcinoma\\\\\n",
       "\t 6 & BCM & ML6061\\_CAGATCTG\\_L00X\\_R2\\_001.fastq.gz    & 24561 & BCM-0104 & 2011012-104 & NA & BCM-0104 & PDX & RNA-Seq & ⋯ & FASTQ.GZ & Raw Reads & Illumina & FALSE & 18002109303 & NA & Breast & NA & NA & Invasive breast carcinoma\\\\\n",
       "\\end{tabular}\n"
      ],
      "text/markdown": [
       "\n",
       "A tibble: 6 × 29\n",
       "\n",
       "| Index &lt;dbl&gt; | contributor &lt;chr&gt; | file_name &lt;chr&gt; | patient_id &lt;chr&gt; | model_id &lt;chr&gt; | tumor_id &lt;chr&gt; | case_id &lt;chr&gt; | sample_id &lt;chr&gt; | sample_type &lt;chr&gt; | experimental_strategy &lt;chr&gt; | ⋯ ⋯ | data_format &lt;chr&gt; | data_type &lt;chr&gt; | platform &lt;chr&gt; | is_ffpe &lt;lgl&gt; | file_size &lt;dbl&gt; | passage &lt;chr&gt; | disease_type &lt;chr&gt; | comment &lt;chr&gt; | investigation &lt;lgl&gt; | disease_detail &lt;chr&gt; |\n",
       "|---|---|---|---|---|---|---|---|---|---|---|---|---|---|---|---|---|---|---|---|---|\n",
       "| 1 | BCM | LZML_37246_NoIndex_L00X_R1_001.fastq.gz | 24452 | BCM-0002 | 2011012-2   | NA | BCM-0002 | PDX | RNA-Seq | ⋯ | FASTQ.GZ | Raw Reads | Illumina | FALSE | 20656964441 | NA | Breast | NA | NA | Invasive breast carcinoma |\n",
       "| 2 | BCM | LZML_37246_NoIndex_L00X_R2_001.fastq.gz | 24452 | BCM-0002 | 2011012-2   | NA | BCM-0002 | PDX | RNA-Seq | ⋯ | FASTQ.GZ | Raw Reads | Illumina | FALSE | 21093643386 | NA | Breast | NA | NA | Invasive breast carcinoma |\n",
       "| 3 | BCM | ML6065_GATCAGCG_L00X_R1_001.fastq.gz    | 2219  | BCM-0046 | 2011012-46  | NA | BCM-0046 | PDX | RNA-Seq | ⋯ | FASTQ.GZ | Raw Reads | Illumina | FALSE | 22027304876 | NA | Breast | NA | NA | Invasive breast carcinoma |\n",
       "| 4 | BCM | ML6065_GATCAGCG_L00X_R2_001.fastq.gz    | 2219  | BCM-0046 | 2011012-46  | NA | BCM-0046 | PDX | RNA-Seq | ⋯ | FASTQ.GZ | Raw Reads | Illumina | FALSE | 22027304876 | NA | Breast | NA | NA | Invasive breast carcinoma |\n",
       "| 5 | BCM | ML6061_CAGATCTG_L00X_R1_001.fastq.gz    | 24561 | BCM-0104 | 2011012-104 | NA | BCM-0104 | PDX | RNA-Seq | ⋯ | FASTQ.GZ | Raw Reads | Illumina | FALSE | 17927987899 | NA | Breast | NA | NA | Invasive breast carcinoma |\n",
       "| 6 | BCM | ML6061_CAGATCTG_L00X_R2_001.fastq.gz    | 24561 | BCM-0104 | 2011012-104 | NA | BCM-0104 | PDX | RNA-Seq | ⋯ | FASTQ.GZ | Raw Reads | Illumina | FALSE | 18002109303 | NA | Breast | NA | NA | Invasive breast carcinoma |\n",
       "\n"
      ],
      "text/plain": [
       "  Index contributor file_name                               patient_id model_id\n",
       "1 1     BCM         LZML_37246_NoIndex_L00X_R1_001.fastq.gz 24452      BCM-0002\n",
       "2 2     BCM         LZML_37246_NoIndex_L00X_R2_001.fastq.gz 24452      BCM-0002\n",
       "3 3     BCM         ML6065_GATCAGCG_L00X_R1_001.fastq.gz    2219       BCM-0046\n",
       "4 4     BCM         ML6065_GATCAGCG_L00X_R2_001.fastq.gz    2219       BCM-0046\n",
       "5 5     BCM         ML6061_CAGATCTG_L00X_R1_001.fastq.gz    24561      BCM-0104\n",
       "6 6     BCM         ML6061_CAGATCTG_L00X_R2_001.fastq.gz    24561      BCM-0104\n",
       "  tumor_id    case_id sample_id sample_type experimental_strategy ⋯ data_format\n",
       "1 2011012-2   NA      BCM-0002  PDX         RNA-Seq               ⋯ FASTQ.GZ   \n",
       "2 2011012-2   NA      BCM-0002  PDX         RNA-Seq               ⋯ FASTQ.GZ   \n",
       "3 2011012-46  NA      BCM-0046  PDX         RNA-Seq               ⋯ FASTQ.GZ   \n",
       "4 2011012-46  NA      BCM-0046  PDX         RNA-Seq               ⋯ FASTQ.GZ   \n",
       "5 2011012-104 NA      BCM-0104  PDX         RNA-Seq               ⋯ FASTQ.GZ   \n",
       "6 2011012-104 NA      BCM-0104  PDX         RNA-Seq               ⋯ FASTQ.GZ   \n",
       "  data_type platform is_ffpe file_size   passage disease_type comment\n",
       "1 Raw Reads Illumina FALSE   20656964441 NA      Breast       NA     \n",
       "2 Raw Reads Illumina FALSE   21093643386 NA      Breast       NA     \n",
       "3 Raw Reads Illumina FALSE   22027304876 NA      Breast       NA     \n",
       "4 Raw Reads Illumina FALSE   22027304876 NA      Breast       NA     \n",
       "5 Raw Reads Illumina FALSE   17927987899 NA      Breast       NA     \n",
       "6 Raw Reads Illumina FALSE   18002109303 NA      Breast       NA     \n",
       "  investigation disease_detail           \n",
       "1 NA            Invasive breast carcinoma\n",
       "2 NA            Invasive breast carcinoma\n",
       "3 NA            Invasive breast carcinoma\n",
       "4 NA            Invasive breast carcinoma\n",
       "5 NA            Invasive breast carcinoma\n",
       "6 NA            Invasive breast carcinoma"
      ]
     },
     "metadata": {},
     "output_type": "display_data"
    },
    {
     "data": {
      "text/html": [
       "<style>\n",
       ".list-inline {list-style: none; margin:0; padding: 0}\n",
       ".list-inline>li {display: inline-block}\n",
       ".list-inline>li:not(:last-child)::after {content: \"\\00b7\"; padding: 0 .5ex}\n",
       "</style>\n",
       "<ol class=list-inline><li>'Index'</li><li>'contributor'</li><li>'file_name'</li><li>'patient_id'</li><li>'model_id'</li><li>'tumor_id'</li><li>'case_id'</li><li>'sample_id'</li><li>'sample_type'</li><li>'experimental_strategy'</li><li>'gender'</li><li>'paired_end'</li><li>'capture_kit'</li><li>'capture_assembly'</li><li>'availability'</li><li>'public'</li><li>'access_level'</li><li>'created_datetime'</li><li>'data_category'</li><li>'data_format'</li><li>'data_type'</li><li>'platform'</li><li>'is_ffpe'</li><li>'file_size'</li><li>'passage'</li><li>'disease_type'</li><li>'comment'</li><li>'investigation'</li><li>'disease_detail'</li></ol>\n"
      ],
      "text/latex": [
       "\\begin{enumerate*}\n",
       "\\item 'Index'\n",
       "\\item 'contributor'\n",
       "\\item 'file\\_name'\n",
       "\\item 'patient\\_id'\n",
       "\\item 'model\\_id'\n",
       "\\item 'tumor\\_id'\n",
       "\\item 'case\\_id'\n",
       "\\item 'sample\\_id'\n",
       "\\item 'sample\\_type'\n",
       "\\item 'experimental\\_strategy'\n",
       "\\item 'gender'\n",
       "\\item 'paired\\_end'\n",
       "\\item 'capture\\_kit'\n",
       "\\item 'capture\\_assembly'\n",
       "\\item 'availability'\n",
       "\\item 'public'\n",
       "\\item 'access\\_level'\n",
       "\\item 'created\\_datetime'\n",
       "\\item 'data\\_category'\n",
       "\\item 'data\\_format'\n",
       "\\item 'data\\_type'\n",
       "\\item 'platform'\n",
       "\\item 'is\\_ffpe'\n",
       "\\item 'file\\_size'\n",
       "\\item 'passage'\n",
       "\\item 'disease\\_type'\n",
       "\\item 'comment'\n",
       "\\item 'investigation'\n",
       "\\item 'disease\\_detail'\n",
       "\\end{enumerate*}\n"
      ],
      "text/markdown": [
       "1. 'Index'\n",
       "2. 'contributor'\n",
       "3. 'file_name'\n",
       "4. 'patient_id'\n",
       "5. 'model_id'\n",
       "6. 'tumor_id'\n",
       "7. 'case_id'\n",
       "8. 'sample_id'\n",
       "9. 'sample_type'\n",
       "10. 'experimental_strategy'\n",
       "11. 'gender'\n",
       "12. 'paired_end'\n",
       "13. 'capture_kit'\n",
       "14. 'capture_assembly'\n",
       "15. 'availability'\n",
       "16. 'public'\n",
       "17. 'access_level'\n",
       "18. 'created_datetime'\n",
       "19. 'data_category'\n",
       "20. 'data_format'\n",
       "21. 'data_type'\n",
       "22. 'platform'\n",
       "23. 'is_ffpe'\n",
       "24. 'file_size'\n",
       "25. 'passage'\n",
       "26. 'disease_type'\n",
       "27. 'comment'\n",
       "28. 'investigation'\n",
       "29. 'disease_detail'\n",
       "\n",
       "\n"
      ],
      "text/plain": [
       " [1] \"Index\"                 \"contributor\"           \"file_name\"            \n",
       " [4] \"patient_id\"            \"model_id\"              \"tumor_id\"             \n",
       " [7] \"case_id\"               \"sample_id\"             \"sample_type\"          \n",
       "[10] \"experimental_strategy\" \"gender\"                \"paired_end\"           \n",
       "[13] \"capture_kit\"           \"capture_assembly\"      \"availability\"         \n",
       "[16] \"public\"                \"access_level\"          \"created_datetime\"     \n",
       "[19] \"data_category\"         \"data_format\"           \"data_type\"            \n",
       "[22] \"platform\"              \"is_ffpe\"               \"file_size\"            \n",
       "[25] \"passage\"               \"disease_type\"          \"comment\"              \n",
       "[28] \"investigation\"         \"disease_detail\"       "
      ]
     },
     "metadata": {},
     "output_type": "display_data"
    }
   ],
   "source": [
    "edited_pdtc_files_by_contributor[['BCM']] %>% nrow()\n",
    "edited_pdtc_files_by_contributor[['BCM']] %>% head()\n",
    "colnames(edited_pdtc_files_by_contributor[['BCM']])"
   ]
  },
  {
   "cell_type": "code",
   "execution_count": 43,
   "id": "9a1aa5cb-bbf3-4678-a9dd-de575b0bcba9",
   "metadata": {},
   "outputs": [
    {
     "data": {
      "text/html": [
       "<table class=\"dataframe\">\n",
       "<caption>A data.frame: 29 × 1</caption>\n",
       "<thead>\n",
       "\t<tr><th></th><th scope=col>.</th></tr>\n",
       "\t<tr><th></th><th scope=col>&lt;dbl&gt;</th></tr>\n",
       "</thead>\n",
       "<tbody>\n",
       "\t<tr><th scope=row>Index</th><td>  0</td></tr>\n",
       "\t<tr><th scope=row>contributor</th><td>  0</td></tr>\n",
       "\t<tr><th scope=row>file_name</th><td>  0</td></tr>\n",
       "\t<tr><th scope=row>patient_id</th><td>  2</td></tr>\n",
       "\t<tr><th scope=row>model_id</th><td>  0</td></tr>\n",
       "\t<tr><th scope=row>tumor_id</th><td> 16</td></tr>\n",
       "\t<tr><th scope=row>case_id</th><td>208</td></tr>\n",
       "\t<tr><th scope=row>sample_id</th><td>  0</td></tr>\n",
       "\t<tr><th scope=row>sample_type</th><td>  0</td></tr>\n",
       "\t<tr><th scope=row>experimental_strategy</th><td>  0</td></tr>\n",
       "\t<tr><th scope=row>gender</th><td> 42</td></tr>\n",
       "\t<tr><th scope=row>paired_end</th><td>  0</td></tr>\n",
       "\t<tr><th scope=row>capture_kit</th><td>124</td></tr>\n",
       "\t<tr><th scope=row>capture_assembly</th><td>208</td></tr>\n",
       "\t<tr><th scope=row>availability</th><td>  0</td></tr>\n",
       "\t<tr><th scope=row>public</th><td>  0</td></tr>\n",
       "\t<tr><th scope=row>access_level</th><td>  0</td></tr>\n",
       "\t<tr><th scope=row>created_datetime</th><td>124</td></tr>\n",
       "\t<tr><th scope=row>data_category</th><td>  0</td></tr>\n",
       "\t<tr><th scope=row>data_format</th><td>  0</td></tr>\n",
       "\t<tr><th scope=row>data_type</th><td>  0</td></tr>\n",
       "\t<tr><th scope=row>platform</th><td>124</td></tr>\n",
       "\t<tr><th scope=row>is_ffpe</th><td>124</td></tr>\n",
       "\t<tr><th scope=row>file_size</th><td> 46</td></tr>\n",
       "\t<tr><th scope=row>passage</th><td>208</td></tr>\n",
       "\t<tr><th scope=row>disease_type</th><td> 98</td></tr>\n",
       "\t<tr><th scope=row>comment</th><td>208</td></tr>\n",
       "\t<tr><th scope=row>investigation</th><td>208</td></tr>\n",
       "\t<tr><th scope=row>disease_detail</th><td> 98</td></tr>\n",
       "</tbody>\n",
       "</table>\n"
      ],
      "text/latex": [
       "A data.frame: 29 × 1\n",
       "\\begin{tabular}{r|l}\n",
       "  & .\\\\\n",
       "  & <dbl>\\\\\n",
       "\\hline\n",
       "\tIndex &   0\\\\\n",
       "\tcontributor &   0\\\\\n",
       "\tfile\\_name &   0\\\\\n",
       "\tpatient\\_id &   2\\\\\n",
       "\tmodel\\_id &   0\\\\\n",
       "\ttumor\\_id &  16\\\\\n",
       "\tcase\\_id & 208\\\\\n",
       "\tsample\\_id &   0\\\\\n",
       "\tsample\\_type &   0\\\\\n",
       "\texperimental\\_strategy &   0\\\\\n",
       "\tgender &  42\\\\\n",
       "\tpaired\\_end &   0\\\\\n",
       "\tcapture\\_kit & 124\\\\\n",
       "\tcapture\\_assembly & 208\\\\\n",
       "\tavailability &   0\\\\\n",
       "\tpublic &   0\\\\\n",
       "\taccess\\_level &   0\\\\\n",
       "\tcreated\\_datetime & 124\\\\\n",
       "\tdata\\_category &   0\\\\\n",
       "\tdata\\_format &   0\\\\\n",
       "\tdata\\_type &   0\\\\\n",
       "\tplatform & 124\\\\\n",
       "\tis\\_ffpe & 124\\\\\n",
       "\tfile\\_size &  46\\\\\n",
       "\tpassage & 208\\\\\n",
       "\tdisease\\_type &  98\\\\\n",
       "\tcomment & 208\\\\\n",
       "\tinvestigation & 208\\\\\n",
       "\tdisease\\_detail &  98\\\\\n",
       "\\end{tabular}\n"
      ],
      "text/markdown": [
       "\n",
       "A data.frame: 29 × 1\n",
       "\n",
       "| <!--/--> | . &lt;dbl&gt; |\n",
       "|---|---|\n",
       "| Index |   0 |\n",
       "| contributor |   0 |\n",
       "| file_name |   0 |\n",
       "| patient_id |   2 |\n",
       "| model_id |   0 |\n",
       "| tumor_id |  16 |\n",
       "| case_id | 208 |\n",
       "| sample_id |   0 |\n",
       "| sample_type |   0 |\n",
       "| experimental_strategy |   0 |\n",
       "| gender |  42 |\n",
       "| paired_end |   0 |\n",
       "| capture_kit | 124 |\n",
       "| capture_assembly | 208 |\n",
       "| availability |   0 |\n",
       "| public |   0 |\n",
       "| access_level |   0 |\n",
       "| created_datetime | 124 |\n",
       "| data_category |   0 |\n",
       "| data_format |   0 |\n",
       "| data_type |   0 |\n",
       "| platform | 124 |\n",
       "| is_ffpe | 124 |\n",
       "| file_size |  46 |\n",
       "| passage | 208 |\n",
       "| disease_type |  98 |\n",
       "| comment | 208 |\n",
       "| investigation | 208 |\n",
       "| disease_detail |  98 |\n",
       "\n"
      ],
      "text/plain": [
       "                      .  \n",
       "Index                   0\n",
       "contributor             0\n",
       "file_name               0\n",
       "patient_id              2\n",
       "model_id                0\n",
       "tumor_id               16\n",
       "case_id               208\n",
       "sample_id               0\n",
       "sample_type             0\n",
       "experimental_strategy   0\n",
       "gender                 42\n",
       "paired_end              0\n",
       "capture_kit           124\n",
       "capture_assembly      208\n",
       "availability            0\n",
       "public                  0\n",
       "access_level            0\n",
       "created_datetime      124\n",
       "data_category           0\n",
       "data_format             0\n",
       "data_type               0\n",
       "platform              124\n",
       "is_ffpe               124\n",
       "file_size              46\n",
       "passage               208\n",
       "disease_type           98\n",
       "comment               208\n",
       "investigation         208\n",
       "disease_detail         98"
      ]
     },
     "metadata": {},
     "output_type": "display_data"
    }
   ],
   "source": [
    "# How many NAs are there for the most important columns?\n",
    "\n",
    "colSums((is.na(edited_pdtc_files_by_contributor[['BCM']]) | (edited_pdtc_files_by_contributor[['BCM']] == 'Unknown'))) %>% as.data.frame()"
   ]
  },
  {
   "cell_type": "markdown",
   "id": "e01d6e46-701f-4ff3-a045-4b9c07c2cdeb",
   "metadata": {},
   "source": [
    "Notes on the columns:\n",
    "- patient_id: Can't be filled from the models\n",
    "- tumor_id: Can't be filled from the models\n",
    "- case_id: Unused by BCM\n",
    "- gender: Can be filled from Model based on model ID\n",
    "- capture_kit: Unknown from the this metadata - All BCM samples on the CGC used AgilentSureSelect_V6 or WES and the RNAseq kits are unknown (not capture kits, but some centers put their RNAseq kits in here)\n",
    "- capture_assembly: unused by BCM\n",
    "- platform: no other place to fill it out, but all should be Illumina\n",
    "- is_ffpe: unfillable with other sheets\n",
    "- file_size: easily filled with the CGC metadata, but can do this at the end for all centers\n",
    "- passage: unfillable with other metadata\n",
    "- disease_type: fillable with models\n",
    "- disease_detail: fillable with models"
   ]
  },
  {
   "cell_type": "code",
   "execution_count": 44,
   "id": "7df3bb4c-9b84-47db-b982-9842f1fc6e0b",
   "metadata": {},
   "outputs": [
    {
     "data": {
      "text/html": [
       "<table class=\"dataframe\">\n",
       "<caption>A tibble: 6 × 32</caption>\n",
       "<thead>\n",
       "\t<tr><th scope=col>Index</th><th scope=col>contributor</th><th scope=col>file_name</th><th scope=col>patient_id</th><th scope=col>model_id</th><th scope=col>tumor_id</th><th scope=col>case_id</th><th scope=col>sample_id</th><th scope=col>sample_type</th><th scope=col>experimental_strategy</th><th scope=col>⋯</th><th scope=col>is_ffpe</th><th scope=col>file_size</th><th scope=col>passage</th><th scope=col>disease_type</th><th scope=col>comment</th><th scope=col>investigation</th><th scope=col>disease_detail</th><th scope=col>Gender</th><th scope=col>CTEP.SDCDescription</th><th scope=col>Disease.BodyLocation</th></tr>\n",
       "\t<tr><th scope=col>&lt;dbl&gt;</th><th scope=col>&lt;chr&gt;</th><th scope=col>&lt;chr&gt;</th><th scope=col>&lt;chr&gt;</th><th scope=col>&lt;chr&gt;</th><th scope=col>&lt;chr&gt;</th><th scope=col>&lt;chr&gt;</th><th scope=col>&lt;chr&gt;</th><th scope=col>&lt;chr&gt;</th><th scope=col>&lt;chr&gt;</th><th scope=col>⋯</th><th scope=col>&lt;lgl&gt;</th><th scope=col>&lt;dbl&gt;</th><th scope=col>&lt;chr&gt;</th><th scope=col>&lt;chr&gt;</th><th scope=col>&lt;chr&gt;</th><th scope=col>&lt;lgl&gt;</th><th scope=col>&lt;chr&gt;</th><th scope=col>&lt;chr&gt;</th><th scope=col>&lt;chr&gt;</th><th scope=col>&lt;chr&gt;</th></tr>\n",
       "</thead>\n",
       "<tbody>\n",
       "\t<tr><td>1</td><td>BCM</td><td>LZML_37246_NoIndex_L00X_R1_001.fastq.gz</td><td>24452</td><td>BCM-0002</td><td>2011012-2  </td><td>NA</td><td>BCM-0002</td><td>PDX</td><td>RNA-Seq</td><td>⋯</td><td>FALSE</td><td>20656964441</td><td>NA</td><td>Breast</td><td>NA</td><td>NA</td><td>Invasive breast carcinoma</td><td>Female</td><td>Invasive breast carcinoma</td><td>Breast</td></tr>\n",
       "\t<tr><td>2</td><td>BCM</td><td>LZML_37246_NoIndex_L00X_R2_001.fastq.gz</td><td>24452</td><td>BCM-0002</td><td>2011012-2  </td><td>NA</td><td>BCM-0002</td><td>PDX</td><td>RNA-Seq</td><td>⋯</td><td>FALSE</td><td>21093643386</td><td>NA</td><td>Breast</td><td>NA</td><td>NA</td><td>Invasive breast carcinoma</td><td>Female</td><td>Invasive breast carcinoma</td><td>Breast</td></tr>\n",
       "\t<tr><td>3</td><td>BCM</td><td>ML6065_GATCAGCG_L00X_R1_001.fastq.gz   </td><td>2219 </td><td>BCM-0046</td><td>2011012-46 </td><td>NA</td><td>BCM-0046</td><td>PDX</td><td>RNA-Seq</td><td>⋯</td><td>FALSE</td><td>22027304876</td><td>NA</td><td>Breast</td><td>NA</td><td>NA</td><td>Invasive breast carcinoma</td><td>Female</td><td>Invasive breast carcinoma</td><td>Breast</td></tr>\n",
       "\t<tr><td>4</td><td>BCM</td><td>ML6065_GATCAGCG_L00X_R2_001.fastq.gz   </td><td>2219 </td><td>BCM-0046</td><td>2011012-46 </td><td>NA</td><td>BCM-0046</td><td>PDX</td><td>RNA-Seq</td><td>⋯</td><td>FALSE</td><td>22027304876</td><td>NA</td><td>Breast</td><td>NA</td><td>NA</td><td>Invasive breast carcinoma</td><td>Female</td><td>Invasive breast carcinoma</td><td>Breast</td></tr>\n",
       "\t<tr><td>5</td><td>BCM</td><td>ML6061_CAGATCTG_L00X_R1_001.fastq.gz   </td><td>24561</td><td>BCM-0104</td><td>2011012-104</td><td>NA</td><td>BCM-0104</td><td>PDX</td><td>RNA-Seq</td><td>⋯</td><td>FALSE</td><td>17927987899</td><td>NA</td><td>Breast</td><td>NA</td><td>NA</td><td>Invasive breast carcinoma</td><td>Female</td><td>Invasive breast carcinoma</td><td>Breast</td></tr>\n",
       "\t<tr><td>6</td><td>BCM</td><td>ML6061_CAGATCTG_L00X_R2_001.fastq.gz   </td><td>24561</td><td>BCM-0104</td><td>2011012-104</td><td>NA</td><td>BCM-0104</td><td>PDX</td><td>RNA-Seq</td><td>⋯</td><td>FALSE</td><td>18002109303</td><td>NA</td><td>Breast</td><td>NA</td><td>NA</td><td>Invasive breast carcinoma</td><td>Female</td><td>Invasive breast carcinoma</td><td>Breast</td></tr>\n",
       "</tbody>\n",
       "</table>\n"
      ],
      "text/latex": [
       "A tibble: 6 × 32\n",
       "\\begin{tabular}{lllllllllllllllllllll}\n",
       " Index & contributor & file\\_name & patient\\_id & model\\_id & tumor\\_id & case\\_id & sample\\_id & sample\\_type & experimental\\_strategy & ⋯ & is\\_ffpe & file\\_size & passage & disease\\_type & comment & investigation & disease\\_detail & Gender & CTEP.SDCDescription & Disease.BodyLocation\\\\\n",
       " <dbl> & <chr> & <chr> & <chr> & <chr> & <chr> & <chr> & <chr> & <chr> & <chr> & ⋯ & <lgl> & <dbl> & <chr> & <chr> & <chr> & <lgl> & <chr> & <chr> & <chr> & <chr>\\\\\n",
       "\\hline\n",
       "\t 1 & BCM & LZML\\_37246\\_NoIndex\\_L00X\\_R1\\_001.fastq.gz & 24452 & BCM-0002 & 2011012-2   & NA & BCM-0002 & PDX & RNA-Seq & ⋯ & FALSE & 20656964441 & NA & Breast & NA & NA & Invasive breast carcinoma & Female & Invasive breast carcinoma & Breast\\\\\n",
       "\t 2 & BCM & LZML\\_37246\\_NoIndex\\_L00X\\_R2\\_001.fastq.gz & 24452 & BCM-0002 & 2011012-2   & NA & BCM-0002 & PDX & RNA-Seq & ⋯ & FALSE & 21093643386 & NA & Breast & NA & NA & Invasive breast carcinoma & Female & Invasive breast carcinoma & Breast\\\\\n",
       "\t 3 & BCM & ML6065\\_GATCAGCG\\_L00X\\_R1\\_001.fastq.gz    & 2219  & BCM-0046 & 2011012-46  & NA & BCM-0046 & PDX & RNA-Seq & ⋯ & FALSE & 22027304876 & NA & Breast & NA & NA & Invasive breast carcinoma & Female & Invasive breast carcinoma & Breast\\\\\n",
       "\t 4 & BCM & ML6065\\_GATCAGCG\\_L00X\\_R2\\_001.fastq.gz    & 2219  & BCM-0046 & 2011012-46  & NA & BCM-0046 & PDX & RNA-Seq & ⋯ & FALSE & 22027304876 & NA & Breast & NA & NA & Invasive breast carcinoma & Female & Invasive breast carcinoma & Breast\\\\\n",
       "\t 5 & BCM & ML6061\\_CAGATCTG\\_L00X\\_R1\\_001.fastq.gz    & 24561 & BCM-0104 & 2011012-104 & NA & BCM-0104 & PDX & RNA-Seq & ⋯ & FALSE & 17927987899 & NA & Breast & NA & NA & Invasive breast carcinoma & Female & Invasive breast carcinoma & Breast\\\\\n",
       "\t 6 & BCM & ML6061\\_CAGATCTG\\_L00X\\_R2\\_001.fastq.gz    & 24561 & BCM-0104 & 2011012-104 & NA & BCM-0104 & PDX & RNA-Seq & ⋯ & FALSE & 18002109303 & NA & Breast & NA & NA & Invasive breast carcinoma & Female & Invasive breast carcinoma & Breast\\\\\n",
       "\\end{tabular}\n"
      ],
      "text/markdown": [
       "\n",
       "A tibble: 6 × 32\n",
       "\n",
       "| Index &lt;dbl&gt; | contributor &lt;chr&gt; | file_name &lt;chr&gt; | patient_id &lt;chr&gt; | model_id &lt;chr&gt; | tumor_id &lt;chr&gt; | case_id &lt;chr&gt; | sample_id &lt;chr&gt; | sample_type &lt;chr&gt; | experimental_strategy &lt;chr&gt; | ⋯ ⋯ | is_ffpe &lt;lgl&gt; | file_size &lt;dbl&gt; | passage &lt;chr&gt; | disease_type &lt;chr&gt; | comment &lt;chr&gt; | investigation &lt;lgl&gt; | disease_detail &lt;chr&gt; | Gender &lt;chr&gt; | CTEP.SDCDescription &lt;chr&gt; | Disease.BodyLocation &lt;chr&gt; |\n",
       "|---|---|---|---|---|---|---|---|---|---|---|---|---|---|---|---|---|---|---|---|---|\n",
       "| 1 | BCM | LZML_37246_NoIndex_L00X_R1_001.fastq.gz | 24452 | BCM-0002 | 2011012-2   | NA | BCM-0002 | PDX | RNA-Seq | ⋯ | FALSE | 20656964441 | NA | Breast | NA | NA | Invasive breast carcinoma | Female | Invasive breast carcinoma | Breast |\n",
       "| 2 | BCM | LZML_37246_NoIndex_L00X_R2_001.fastq.gz | 24452 | BCM-0002 | 2011012-2   | NA | BCM-0002 | PDX | RNA-Seq | ⋯ | FALSE | 21093643386 | NA | Breast | NA | NA | Invasive breast carcinoma | Female | Invasive breast carcinoma | Breast |\n",
       "| 3 | BCM | ML6065_GATCAGCG_L00X_R1_001.fastq.gz    | 2219  | BCM-0046 | 2011012-46  | NA | BCM-0046 | PDX | RNA-Seq | ⋯ | FALSE | 22027304876 | NA | Breast | NA | NA | Invasive breast carcinoma | Female | Invasive breast carcinoma | Breast |\n",
       "| 4 | BCM | ML6065_GATCAGCG_L00X_R2_001.fastq.gz    | 2219  | BCM-0046 | 2011012-46  | NA | BCM-0046 | PDX | RNA-Seq | ⋯ | FALSE | 22027304876 | NA | Breast | NA | NA | Invasive breast carcinoma | Female | Invasive breast carcinoma | Breast |\n",
       "| 5 | BCM | ML6061_CAGATCTG_L00X_R1_001.fastq.gz    | 24561 | BCM-0104 | 2011012-104 | NA | BCM-0104 | PDX | RNA-Seq | ⋯ | FALSE | 17927987899 | NA | Breast | NA | NA | Invasive breast carcinoma | Female | Invasive breast carcinoma | Breast |\n",
       "| 6 | BCM | ML6061_CAGATCTG_L00X_R2_001.fastq.gz    | 24561 | BCM-0104 | 2011012-104 | NA | BCM-0104 | PDX | RNA-Seq | ⋯ | FALSE | 18002109303 | NA | Breast | NA | NA | Invasive breast carcinoma | Female | Invasive breast carcinoma | Breast |\n",
       "\n"
      ],
      "text/plain": [
       "  Index contributor file_name                               patient_id model_id\n",
       "1 1     BCM         LZML_37246_NoIndex_L00X_R1_001.fastq.gz 24452      BCM-0002\n",
       "2 2     BCM         LZML_37246_NoIndex_L00X_R2_001.fastq.gz 24452      BCM-0002\n",
       "3 3     BCM         ML6065_GATCAGCG_L00X_R1_001.fastq.gz    2219       BCM-0046\n",
       "4 4     BCM         ML6065_GATCAGCG_L00X_R2_001.fastq.gz    2219       BCM-0046\n",
       "5 5     BCM         ML6061_CAGATCTG_L00X_R1_001.fastq.gz    24561      BCM-0104\n",
       "6 6     BCM         ML6061_CAGATCTG_L00X_R2_001.fastq.gz    24561      BCM-0104\n",
       "  tumor_id    case_id sample_id sample_type experimental_strategy ⋯ is_ffpe\n",
       "1 2011012-2   NA      BCM-0002  PDX         RNA-Seq               ⋯ FALSE  \n",
       "2 2011012-2   NA      BCM-0002  PDX         RNA-Seq               ⋯ FALSE  \n",
       "3 2011012-46  NA      BCM-0046  PDX         RNA-Seq               ⋯ FALSE  \n",
       "4 2011012-46  NA      BCM-0046  PDX         RNA-Seq               ⋯ FALSE  \n",
       "5 2011012-104 NA      BCM-0104  PDX         RNA-Seq               ⋯ FALSE  \n",
       "6 2011012-104 NA      BCM-0104  PDX         RNA-Seq               ⋯ FALSE  \n",
       "  file_size   passage disease_type comment investigation\n",
       "1 20656964441 NA      Breast       NA      NA           \n",
       "2 21093643386 NA      Breast       NA      NA           \n",
       "3 22027304876 NA      Breast       NA      NA           \n",
       "4 22027304876 NA      Breast       NA      NA           \n",
       "5 17927987899 NA      Breast       NA      NA           \n",
       "6 18002109303 NA      Breast       NA      NA           \n",
       "  disease_detail            Gender CTEP.SDCDescription      \n",
       "1 Invasive breast carcinoma Female Invasive breast carcinoma\n",
       "2 Invasive breast carcinoma Female Invasive breast carcinoma\n",
       "3 Invasive breast carcinoma Female Invasive breast carcinoma\n",
       "4 Invasive breast carcinoma Female Invasive breast carcinoma\n",
       "5 Invasive breast carcinoma Female Invasive breast carcinoma\n",
       "6 Invasive breast carcinoma Female Invasive breast carcinoma\n",
       "  Disease.BodyLocation\n",
       "1 Breast              \n",
       "2 Breast              \n",
       "3 Breast              \n",
       "4 Breast              \n",
       "5 Breast              \n",
       "6 Breast              "
      ]
     },
     "metadata": {},
     "output_type": "display_data"
    }
   ],
   "source": [
    "# Merge BCM with the models\n",
    "\n",
    "edited_bcm_files <- edited_pdtc_files_by_contributor[['BCM']] %>%\n",
    "    left_join(select(pdtc_models_cleaned, ContributorPDX.ID_edit, Gender, CTEP.SDCDescription, Disease.BodyLocation),\n",
    "              by = c('model_id' = 'ContributorPDX.ID_edit')\n",
    "              )\n",
    "\n",
    "edited_bcm_files %>% head()"
   ]
  },
  {
   "cell_type": "code",
   "execution_count": 45,
   "id": "5f14928d-ef66-4021-9d28-328e197151ec",
   "metadata": {},
   "outputs": [
    {
     "data": {
      "text/html": [
       "<table class=\"dataframe\">\n",
       "<caption>A tibble: 6 × 29</caption>\n",
       "<thead>\n",
       "\t<tr><th scope=col>Index</th><th scope=col>contributor</th><th scope=col>file_name</th><th scope=col>patient_id</th><th scope=col>model_id</th><th scope=col>tumor_id</th><th scope=col>case_id</th><th scope=col>sample_id</th><th scope=col>sample_type</th><th scope=col>experimental_strategy</th><th scope=col>⋯</th><th scope=col>data_format</th><th scope=col>data_type</th><th scope=col>platform</th><th scope=col>is_ffpe</th><th scope=col>file_size</th><th scope=col>passage</th><th scope=col>disease_type</th><th scope=col>comment</th><th scope=col>investigation</th><th scope=col>disease_detail</th></tr>\n",
       "\t<tr><th scope=col>&lt;dbl&gt;</th><th scope=col>&lt;chr&gt;</th><th scope=col>&lt;chr&gt;</th><th scope=col>&lt;chr&gt;</th><th scope=col>&lt;chr&gt;</th><th scope=col>&lt;chr&gt;</th><th scope=col>&lt;chr&gt;</th><th scope=col>&lt;chr&gt;</th><th scope=col>&lt;chr&gt;</th><th scope=col>&lt;chr&gt;</th><th scope=col>⋯</th><th scope=col>&lt;chr&gt;</th><th scope=col>&lt;chr&gt;</th><th scope=col>&lt;chr&gt;</th><th scope=col>&lt;lgl&gt;</th><th scope=col>&lt;dbl&gt;</th><th scope=col>&lt;chr&gt;</th><th scope=col>&lt;chr&gt;</th><th scope=col>&lt;chr&gt;</th><th scope=col>&lt;lgl&gt;</th><th scope=col>&lt;chr&gt;</th></tr>\n",
       "</thead>\n",
       "<tbody>\n",
       "\t<tr><td>1</td><td>BCM</td><td>LZML_37246_NoIndex_L00X_R1_001.fastq.gz</td><td>24452</td><td>BCM-0002</td><td>2011012-2  </td><td>NA</td><td>BCM-0002</td><td>PDX</td><td>RNA-Seq</td><td>⋯</td><td>FASTQ.GZ</td><td>Raw Reads</td><td>Illumina</td><td>FALSE</td><td>20656964441</td><td>NA</td><td>Breast</td><td>NA</td><td>NA</td><td>Invasive breast carcinoma</td></tr>\n",
       "\t<tr><td>2</td><td>BCM</td><td>LZML_37246_NoIndex_L00X_R2_001.fastq.gz</td><td>24452</td><td>BCM-0002</td><td>2011012-2  </td><td>NA</td><td>BCM-0002</td><td>PDX</td><td>RNA-Seq</td><td>⋯</td><td>FASTQ.GZ</td><td>Raw Reads</td><td>Illumina</td><td>FALSE</td><td>21093643386</td><td>NA</td><td>Breast</td><td>NA</td><td>NA</td><td>Invasive breast carcinoma</td></tr>\n",
       "\t<tr><td>3</td><td>BCM</td><td>ML6065_GATCAGCG_L00X_R1_001.fastq.gz   </td><td>2219 </td><td>BCM-0046</td><td>2011012-46 </td><td>NA</td><td>BCM-0046</td><td>PDX</td><td>RNA-Seq</td><td>⋯</td><td>FASTQ.GZ</td><td>Raw Reads</td><td>Illumina</td><td>FALSE</td><td>22027304876</td><td>NA</td><td>Breast</td><td>NA</td><td>NA</td><td>Invasive breast carcinoma</td></tr>\n",
       "\t<tr><td>4</td><td>BCM</td><td>ML6065_GATCAGCG_L00X_R2_001.fastq.gz   </td><td>2219 </td><td>BCM-0046</td><td>2011012-46 </td><td>NA</td><td>BCM-0046</td><td>PDX</td><td>RNA-Seq</td><td>⋯</td><td>FASTQ.GZ</td><td>Raw Reads</td><td>Illumina</td><td>FALSE</td><td>22027304876</td><td>NA</td><td>Breast</td><td>NA</td><td>NA</td><td>Invasive breast carcinoma</td></tr>\n",
       "\t<tr><td>5</td><td>BCM</td><td>ML6061_CAGATCTG_L00X_R1_001.fastq.gz   </td><td>24561</td><td>BCM-0104</td><td>2011012-104</td><td>NA</td><td>BCM-0104</td><td>PDX</td><td>RNA-Seq</td><td>⋯</td><td>FASTQ.GZ</td><td>Raw Reads</td><td>Illumina</td><td>FALSE</td><td>17927987899</td><td>NA</td><td>Breast</td><td>NA</td><td>NA</td><td>Invasive breast carcinoma</td></tr>\n",
       "\t<tr><td>6</td><td>BCM</td><td>ML6061_CAGATCTG_L00X_R2_001.fastq.gz   </td><td>24561</td><td>BCM-0104</td><td>2011012-104</td><td>NA</td><td>BCM-0104</td><td>PDX</td><td>RNA-Seq</td><td>⋯</td><td>FASTQ.GZ</td><td>Raw Reads</td><td>Illumina</td><td>FALSE</td><td>18002109303</td><td>NA</td><td>Breast</td><td>NA</td><td>NA</td><td>Invasive breast carcinoma</td></tr>\n",
       "</tbody>\n",
       "</table>\n"
      ],
      "text/latex": [
       "A tibble: 6 × 29\n",
       "\\begin{tabular}{lllllllllllllllllllll}\n",
       " Index & contributor & file\\_name & patient\\_id & model\\_id & tumor\\_id & case\\_id & sample\\_id & sample\\_type & experimental\\_strategy & ⋯ & data\\_format & data\\_type & platform & is\\_ffpe & file\\_size & passage & disease\\_type & comment & investigation & disease\\_detail\\\\\n",
       " <dbl> & <chr> & <chr> & <chr> & <chr> & <chr> & <chr> & <chr> & <chr> & <chr> & ⋯ & <chr> & <chr> & <chr> & <lgl> & <dbl> & <chr> & <chr> & <chr> & <lgl> & <chr>\\\\\n",
       "\\hline\n",
       "\t 1 & BCM & LZML\\_37246\\_NoIndex\\_L00X\\_R1\\_001.fastq.gz & 24452 & BCM-0002 & 2011012-2   & NA & BCM-0002 & PDX & RNA-Seq & ⋯ & FASTQ.GZ & Raw Reads & Illumina & FALSE & 20656964441 & NA & Breast & NA & NA & Invasive breast carcinoma\\\\\n",
       "\t 2 & BCM & LZML\\_37246\\_NoIndex\\_L00X\\_R2\\_001.fastq.gz & 24452 & BCM-0002 & 2011012-2   & NA & BCM-0002 & PDX & RNA-Seq & ⋯ & FASTQ.GZ & Raw Reads & Illumina & FALSE & 21093643386 & NA & Breast & NA & NA & Invasive breast carcinoma\\\\\n",
       "\t 3 & BCM & ML6065\\_GATCAGCG\\_L00X\\_R1\\_001.fastq.gz    & 2219  & BCM-0046 & 2011012-46  & NA & BCM-0046 & PDX & RNA-Seq & ⋯ & FASTQ.GZ & Raw Reads & Illumina & FALSE & 22027304876 & NA & Breast & NA & NA & Invasive breast carcinoma\\\\\n",
       "\t 4 & BCM & ML6065\\_GATCAGCG\\_L00X\\_R2\\_001.fastq.gz    & 2219  & BCM-0046 & 2011012-46  & NA & BCM-0046 & PDX & RNA-Seq & ⋯ & FASTQ.GZ & Raw Reads & Illumina & FALSE & 22027304876 & NA & Breast & NA & NA & Invasive breast carcinoma\\\\\n",
       "\t 5 & BCM & ML6061\\_CAGATCTG\\_L00X\\_R1\\_001.fastq.gz    & 24561 & BCM-0104 & 2011012-104 & NA & BCM-0104 & PDX & RNA-Seq & ⋯ & FASTQ.GZ & Raw Reads & Illumina & FALSE & 17927987899 & NA & Breast & NA & NA & Invasive breast carcinoma\\\\\n",
       "\t 6 & BCM & ML6061\\_CAGATCTG\\_L00X\\_R2\\_001.fastq.gz    & 24561 & BCM-0104 & 2011012-104 & NA & BCM-0104 & PDX & RNA-Seq & ⋯ & FASTQ.GZ & Raw Reads & Illumina & FALSE & 18002109303 & NA & Breast & NA & NA & Invasive breast carcinoma\\\\\n",
       "\\end{tabular}\n"
      ],
      "text/markdown": [
       "\n",
       "A tibble: 6 × 29\n",
       "\n",
       "| Index &lt;dbl&gt; | contributor &lt;chr&gt; | file_name &lt;chr&gt; | patient_id &lt;chr&gt; | model_id &lt;chr&gt; | tumor_id &lt;chr&gt; | case_id &lt;chr&gt; | sample_id &lt;chr&gt; | sample_type &lt;chr&gt; | experimental_strategy &lt;chr&gt; | ⋯ ⋯ | data_format &lt;chr&gt; | data_type &lt;chr&gt; | platform &lt;chr&gt; | is_ffpe &lt;lgl&gt; | file_size &lt;dbl&gt; | passage &lt;chr&gt; | disease_type &lt;chr&gt; | comment &lt;chr&gt; | investigation &lt;lgl&gt; | disease_detail &lt;chr&gt; |\n",
       "|---|---|---|---|---|---|---|---|---|---|---|---|---|---|---|---|---|---|---|---|---|\n",
       "| 1 | BCM | LZML_37246_NoIndex_L00X_R1_001.fastq.gz | 24452 | BCM-0002 | 2011012-2   | NA | BCM-0002 | PDX | RNA-Seq | ⋯ | FASTQ.GZ | Raw Reads | Illumina | FALSE | 20656964441 | NA | Breast | NA | NA | Invasive breast carcinoma |\n",
       "| 2 | BCM | LZML_37246_NoIndex_L00X_R2_001.fastq.gz | 24452 | BCM-0002 | 2011012-2   | NA | BCM-0002 | PDX | RNA-Seq | ⋯ | FASTQ.GZ | Raw Reads | Illumina | FALSE | 21093643386 | NA | Breast | NA | NA | Invasive breast carcinoma |\n",
       "| 3 | BCM | ML6065_GATCAGCG_L00X_R1_001.fastq.gz    | 2219  | BCM-0046 | 2011012-46  | NA | BCM-0046 | PDX | RNA-Seq | ⋯ | FASTQ.GZ | Raw Reads | Illumina | FALSE | 22027304876 | NA | Breast | NA | NA | Invasive breast carcinoma |\n",
       "| 4 | BCM | ML6065_GATCAGCG_L00X_R2_001.fastq.gz    | 2219  | BCM-0046 | 2011012-46  | NA | BCM-0046 | PDX | RNA-Seq | ⋯ | FASTQ.GZ | Raw Reads | Illumina | FALSE | 22027304876 | NA | Breast | NA | NA | Invasive breast carcinoma |\n",
       "| 5 | BCM | ML6061_CAGATCTG_L00X_R1_001.fastq.gz    | 24561 | BCM-0104 | 2011012-104 | NA | BCM-0104 | PDX | RNA-Seq | ⋯ | FASTQ.GZ | Raw Reads | Illumina | FALSE | 17927987899 | NA | Breast | NA | NA | Invasive breast carcinoma |\n",
       "| 6 | BCM | ML6061_CAGATCTG_L00X_R2_001.fastq.gz    | 24561 | BCM-0104 | 2011012-104 | NA | BCM-0104 | PDX | RNA-Seq | ⋯ | FASTQ.GZ | Raw Reads | Illumina | FALSE | 18002109303 | NA | Breast | NA | NA | Invasive breast carcinoma |\n",
       "\n"
      ],
      "text/plain": [
       "  Index contributor file_name                               patient_id model_id\n",
       "1 1     BCM         LZML_37246_NoIndex_L00X_R1_001.fastq.gz 24452      BCM-0002\n",
       "2 2     BCM         LZML_37246_NoIndex_L00X_R2_001.fastq.gz 24452      BCM-0002\n",
       "3 3     BCM         ML6065_GATCAGCG_L00X_R1_001.fastq.gz    2219       BCM-0046\n",
       "4 4     BCM         ML6065_GATCAGCG_L00X_R2_001.fastq.gz    2219       BCM-0046\n",
       "5 5     BCM         ML6061_CAGATCTG_L00X_R1_001.fastq.gz    24561      BCM-0104\n",
       "6 6     BCM         ML6061_CAGATCTG_L00X_R2_001.fastq.gz    24561      BCM-0104\n",
       "  tumor_id    case_id sample_id sample_type experimental_strategy ⋯ data_format\n",
       "1 2011012-2   NA      BCM-0002  PDX         RNA-Seq               ⋯ FASTQ.GZ   \n",
       "2 2011012-2   NA      BCM-0002  PDX         RNA-Seq               ⋯ FASTQ.GZ   \n",
       "3 2011012-46  NA      BCM-0046  PDX         RNA-Seq               ⋯ FASTQ.GZ   \n",
       "4 2011012-46  NA      BCM-0046  PDX         RNA-Seq               ⋯ FASTQ.GZ   \n",
       "5 2011012-104 NA      BCM-0104  PDX         RNA-Seq               ⋯ FASTQ.GZ   \n",
       "6 2011012-104 NA      BCM-0104  PDX         RNA-Seq               ⋯ FASTQ.GZ   \n",
       "  data_type platform is_ffpe file_size   passage disease_type comment\n",
       "1 Raw Reads Illumina FALSE   20656964441 NA      Breast       NA     \n",
       "2 Raw Reads Illumina FALSE   21093643386 NA      Breast       NA     \n",
       "3 Raw Reads Illumina FALSE   22027304876 NA      Breast       NA     \n",
       "4 Raw Reads Illumina FALSE   22027304876 NA      Breast       NA     \n",
       "5 Raw Reads Illumina FALSE   17927987899 NA      Breast       NA     \n",
       "6 Raw Reads Illumina FALSE   18002109303 NA      Breast       NA     \n",
       "  investigation disease_detail           \n",
       "1 NA            Invasive breast carcinoma\n",
       "2 NA            Invasive breast carcinoma\n",
       "3 NA            Invasive breast carcinoma\n",
       "4 NA            Invasive breast carcinoma\n",
       "5 NA            Invasive breast carcinoma\n",
       "6 NA            Invasive breast carcinoma"
      ]
     },
     "metadata": {},
     "output_type": "display_data"
    }
   ],
   "source": [
    "# Replace the disease detail if the models info exists\n",
    "# Fill in gender\n",
    "# Set the capture kit\n",
    "\n",
    "edited_bcm_files <- edited_bcm_files %>% mutate(\n",
    "    disease_detail = ifelse(!is.na(CTEP.SDCDescription), CTEP.SDCDescription, disease_detail),\n",
    "    disease_type = ifelse(!is.na(Disease.BodyLocation), Disease.BodyLocation, disease_type),\n",
    "    gender = ifelse(!is.na(Gender), Gender, gender),\n",
    "    capture_kit = ifelse(experimental_strategy == 'WES', 'SureSelect Human All Exon V6', capture_kit),\n",
    "    platform = 'Illumina',\n",
    "    ) %>%\n",
    "    select(-Gender, -CTEP.SDCDescription, -Disease.BodyLocation)\n",
    "\n",
    "head(edited_bcm_files)"
   ]
  },
  {
   "cell_type": "code",
   "execution_count": 46,
   "id": "8275eaa6-40ee-4fd3-afb3-b283a0c73158",
   "metadata": {},
   "outputs": [],
   "source": [
    "# data format to lowercase for consistency\n",
    "\n",
    "edited_bcm_files <- edited_bcm_files %>%\n",
    "    mutate(data_format = tolower(data_format))"
   ]
  },
  {
   "cell_type": "code",
   "execution_count": 47,
   "id": "de3be4aa-d3cd-4840-adb3-f9afd855284a",
   "metadata": {},
   "outputs": [
    {
     "data": {
      "text/html": [
       "<table class=\"dataframe\">\n",
       "<caption>A data.frame: 29 × 1</caption>\n",
       "<thead>\n",
       "\t<tr><th></th><th scope=col>.</th></tr>\n",
       "\t<tr><th></th><th scope=col>&lt;dbl&gt;</th></tr>\n",
       "</thead>\n",
       "<tbody>\n",
       "\t<tr><th scope=row>Index</th><td>  0</td></tr>\n",
       "\t<tr><th scope=row>contributor</th><td>  0</td></tr>\n",
       "\t<tr><th scope=row>file_name</th><td>  0</td></tr>\n",
       "\t<tr><th scope=row>patient_id</th><td>  2</td></tr>\n",
       "\t<tr><th scope=row>model_id</th><td>  0</td></tr>\n",
       "\t<tr><th scope=row>tumor_id</th><td> 16</td></tr>\n",
       "\t<tr><th scope=row>case_id</th><td>208</td></tr>\n",
       "\t<tr><th scope=row>sample_id</th><td>  0</td></tr>\n",
       "\t<tr><th scope=row>sample_type</th><td>  0</td></tr>\n",
       "\t<tr><th scope=row>experimental_strategy</th><td>  0</td></tr>\n",
       "\t<tr><th scope=row>gender</th><td> 20</td></tr>\n",
       "\t<tr><th scope=row>paired_end</th><td>  0</td></tr>\n",
       "\t<tr><th scope=row>capture_kit</th><td> 26</td></tr>\n",
       "\t<tr><th scope=row>capture_assembly</th><td>208</td></tr>\n",
       "\t<tr><th scope=row>availability</th><td>  0</td></tr>\n",
       "\t<tr><th scope=row>public</th><td>  0</td></tr>\n",
       "\t<tr><th scope=row>access_level</th><td>  0</td></tr>\n",
       "\t<tr><th scope=row>created_datetime</th><td>124</td></tr>\n",
       "\t<tr><th scope=row>data_category</th><td>  0</td></tr>\n",
       "\t<tr><th scope=row>data_format</th><td>  0</td></tr>\n",
       "\t<tr><th scope=row>data_type</th><td>  0</td></tr>\n",
       "\t<tr><th scope=row>platform</th><td>  0</td></tr>\n",
       "\t<tr><th scope=row>is_ffpe</th><td>124</td></tr>\n",
       "\t<tr><th scope=row>file_size</th><td> 46</td></tr>\n",
       "\t<tr><th scope=row>passage</th><td>208</td></tr>\n",
       "\t<tr><th scope=row>disease_type</th><td> 48</td></tr>\n",
       "\t<tr><th scope=row>comment</th><td>208</td></tr>\n",
       "\t<tr><th scope=row>investigation</th><td>208</td></tr>\n",
       "\t<tr><th scope=row>disease_detail</th><td> 48</td></tr>\n",
       "</tbody>\n",
       "</table>\n"
      ],
      "text/latex": [
       "A data.frame: 29 × 1\n",
       "\\begin{tabular}{r|l}\n",
       "  & .\\\\\n",
       "  & <dbl>\\\\\n",
       "\\hline\n",
       "\tIndex &   0\\\\\n",
       "\tcontributor &   0\\\\\n",
       "\tfile\\_name &   0\\\\\n",
       "\tpatient\\_id &   2\\\\\n",
       "\tmodel\\_id &   0\\\\\n",
       "\ttumor\\_id &  16\\\\\n",
       "\tcase\\_id & 208\\\\\n",
       "\tsample\\_id &   0\\\\\n",
       "\tsample\\_type &   0\\\\\n",
       "\texperimental\\_strategy &   0\\\\\n",
       "\tgender &  20\\\\\n",
       "\tpaired\\_end &   0\\\\\n",
       "\tcapture\\_kit &  26\\\\\n",
       "\tcapture\\_assembly & 208\\\\\n",
       "\tavailability &   0\\\\\n",
       "\tpublic &   0\\\\\n",
       "\taccess\\_level &   0\\\\\n",
       "\tcreated\\_datetime & 124\\\\\n",
       "\tdata\\_category &   0\\\\\n",
       "\tdata\\_format &   0\\\\\n",
       "\tdata\\_type &   0\\\\\n",
       "\tplatform &   0\\\\\n",
       "\tis\\_ffpe & 124\\\\\n",
       "\tfile\\_size &  46\\\\\n",
       "\tpassage & 208\\\\\n",
       "\tdisease\\_type &  48\\\\\n",
       "\tcomment & 208\\\\\n",
       "\tinvestigation & 208\\\\\n",
       "\tdisease\\_detail &  48\\\\\n",
       "\\end{tabular}\n"
      ],
      "text/markdown": [
       "\n",
       "A data.frame: 29 × 1\n",
       "\n",
       "| <!--/--> | . &lt;dbl&gt; |\n",
       "|---|---|\n",
       "| Index |   0 |\n",
       "| contributor |   0 |\n",
       "| file_name |   0 |\n",
       "| patient_id |   2 |\n",
       "| model_id |   0 |\n",
       "| tumor_id |  16 |\n",
       "| case_id | 208 |\n",
       "| sample_id |   0 |\n",
       "| sample_type |   0 |\n",
       "| experimental_strategy |   0 |\n",
       "| gender |  20 |\n",
       "| paired_end |   0 |\n",
       "| capture_kit |  26 |\n",
       "| capture_assembly | 208 |\n",
       "| availability |   0 |\n",
       "| public |   0 |\n",
       "| access_level |   0 |\n",
       "| created_datetime | 124 |\n",
       "| data_category |   0 |\n",
       "| data_format |   0 |\n",
       "| data_type |   0 |\n",
       "| platform |   0 |\n",
       "| is_ffpe | 124 |\n",
       "| file_size |  46 |\n",
       "| passage | 208 |\n",
       "| disease_type |  48 |\n",
       "| comment | 208 |\n",
       "| investigation | 208 |\n",
       "| disease_detail |  48 |\n",
       "\n"
      ],
      "text/plain": [
       "                      .  \n",
       "Index                   0\n",
       "contributor             0\n",
       "file_name               0\n",
       "patient_id              2\n",
       "model_id                0\n",
       "tumor_id               16\n",
       "case_id               208\n",
       "sample_id               0\n",
       "sample_type             0\n",
       "experimental_strategy   0\n",
       "gender                 20\n",
       "paired_end              0\n",
       "capture_kit            26\n",
       "capture_assembly      208\n",
       "availability            0\n",
       "public                  0\n",
       "access_level            0\n",
       "created_datetime      124\n",
       "data_category           0\n",
       "data_format             0\n",
       "data_type               0\n",
       "platform                0\n",
       "is_ffpe               124\n",
       "file_size              46\n",
       "passage               208\n",
       "disease_type           48\n",
       "comment               208\n",
       "investigation         208\n",
       "disease_detail         48"
      ]
     },
     "metadata": {},
     "output_type": "display_data"
    }
   ],
   "source": [
    "# How'd we do fixing these?\n",
    "\n",
    "colSums((is.na(edited_bcm_files) | (edited_bcm_files == 'Unknown'))) %>% as.data.frame()"
   ]
  },
  {
   "cell_type": "code",
   "execution_count": 48,
   "id": "14b6aec6-9ebb-4597-8679-5b72a5390ced",
   "metadata": {},
   "outputs": [],
   "source": [
    "# Export BCM only\n",
    "\n",
    "write_csv(edited_bcm_files, '2022-02-11_BCM_files_edited.csv')"
   ]
  },
  {
   "cell_type": "markdown",
   "id": "fd1a1468-74ea-48a0-a392-af01496f1948",
   "metadata": {},
   "source": [
    "### Work on HCI's"
   ]
  },
  {
   "cell_type": "code",
   "execution_count": 49,
   "id": "175c9275-8e5d-4d16-bea0-d2bb6fba49a3",
   "metadata": {},
   "outputs": [
    {
     "data": {
      "text/html": [
       "256"
      ],
      "text/latex": [
       "256"
      ],
      "text/markdown": [
       "256"
      ],
      "text/plain": [
       "[1] 256"
      ]
     },
     "metadata": {},
     "output_type": "display_data"
    },
    {
     "data": {
      "text/html": [
       "<table class=\"dataframe\">\n",
       "<caption>A tibble: 6 × 29</caption>\n",
       "<thead>\n",
       "\t<tr><th scope=col>Index</th><th scope=col>contributor</th><th scope=col>file_name</th><th scope=col>patient_id</th><th scope=col>model_id</th><th scope=col>tumor_id</th><th scope=col>case_id</th><th scope=col>sample_id</th><th scope=col>sample_type</th><th scope=col>experimental_strategy</th><th scope=col>⋯</th><th scope=col>data_format</th><th scope=col>data_type</th><th scope=col>platform</th><th scope=col>is_ffpe</th><th scope=col>file_size</th><th scope=col>passage</th><th scope=col>disease_type</th><th scope=col>comment</th><th scope=col>investigation</th><th scope=col>disease_detail</th></tr>\n",
       "\t<tr><th scope=col>&lt;dbl&gt;</th><th scope=col>&lt;chr&gt;</th><th scope=col>&lt;chr&gt;</th><th scope=col>&lt;chr&gt;</th><th scope=col>&lt;chr&gt;</th><th scope=col>&lt;chr&gt;</th><th scope=col>&lt;chr&gt;</th><th scope=col>&lt;chr&gt;</th><th scope=col>&lt;chr&gt;</th><th scope=col>&lt;chr&gt;</th><th scope=col>⋯</th><th scope=col>&lt;chr&gt;</th><th scope=col>&lt;chr&gt;</th><th scope=col>&lt;chr&gt;</th><th scope=col>&lt;lgl&gt;</th><th scope=col>&lt;dbl&gt;</th><th scope=col>&lt;chr&gt;</th><th scope=col>&lt;chr&gt;</th><th scope=col>&lt;chr&gt;</th><th scope=col>&lt;lgl&gt;</th><th scope=col>&lt;chr&gt;</th></tr>\n",
       "</thead>\n",
       "<tbody>\n",
       "\t<tr><td>209</td><td>HCI</td><td>14990X12_HCI001_patientnormal_1.txt.gz      </td><td>HCI001</td><td>NA</td><td>NA</td><td>HCI001</td><td>14990X12 </td><td>Normal</td><td>WES</td><td>⋯</td><td>NA</td><td>NA</td><td>Illumina HiSeq</td><td>NA</td><td>NA</td><td>NA</td><td>Breast</td><td>NA</td><td>NA</td><td>Breast Poorly Differentiated    </td></tr>\n",
       "\t<tr><td>210</td><td>HCI</td><td>14990X12_HCI001_patientnormal_2.txt.gz      </td><td>HCI001</td><td>NA</td><td>NA</td><td>HCI001</td><td>14990X12 </td><td>Normal</td><td>WES</td><td>⋯</td><td>NA</td><td>NA</td><td>Illumina HiSeq</td><td>NA</td><td>NA</td><td>NA</td><td>Breast</td><td>NA</td><td>NA</td><td>Breast Poorly Differentiated    </td></tr>\n",
       "\t<tr><td>211</td><td>HCI</td><td>0900570-B_HCI-002_Patient_normal_R1.fastq.gz</td><td>HCI002</td><td>NA</td><td>NA</td><td>HCI002</td><td>0900570-B</td><td>Normal</td><td>WES</td><td>⋯</td><td>NA</td><td>NA</td><td>Illumina HiSeq</td><td>NA</td><td>NA</td><td>NA</td><td>Breast</td><td>NA</td><td>NA</td><td>Breast Poorly Differentiated    </td></tr>\n",
       "\t<tr><td>212</td><td>HCI</td><td>0900570-B_HCI-002_Patient_normal_R2.fastq.gz</td><td>HCI002</td><td>NA</td><td>NA</td><td>HCI002</td><td>0900570-B</td><td>Normal</td><td>WES</td><td>⋯</td><td>NA</td><td>NA</td><td>Illumina HiSeq</td><td>NA</td><td>NA</td><td>NA</td><td>Breast</td><td>NA</td><td>NA</td><td>Breast Poorly Differentiated    </td></tr>\n",
       "\t<tr><td>239</td><td>HCI</td><td>14990X4_HCI004_patientnormalGU_1.txt.gz     </td><td>HCI004</td><td>NA</td><td>NA</td><td>HCI004</td><td>14990X4  </td><td>Normal</td><td>WES</td><td>⋯</td><td>NA</td><td>NA</td><td>Illumina HiSeq</td><td>NA</td><td>NA</td><td>NA</td><td>Breast</td><td>NA</td><td>NA</td><td>Breast Invasive Ductal Carcinoma</td></tr>\n",
       "\t<tr><td>240</td><td>HCI</td><td>14990X4_HCI004_patientnormalGU_2.txt.gz     </td><td>HCI004</td><td>NA</td><td>NA</td><td>HCI004</td><td>14990X4  </td><td>Normal</td><td>WES</td><td>⋯</td><td>NA</td><td>NA</td><td>Illumina HiSeq</td><td>NA</td><td>NA</td><td>NA</td><td>Breast</td><td>NA</td><td>NA</td><td>Breast Invasive Ductal Carcinoma</td></tr>\n",
       "</tbody>\n",
       "</table>\n"
      ],
      "text/latex": [
       "A tibble: 6 × 29\n",
       "\\begin{tabular}{lllllllllllllllllllll}\n",
       " Index & contributor & file\\_name & patient\\_id & model\\_id & tumor\\_id & case\\_id & sample\\_id & sample\\_type & experimental\\_strategy & ⋯ & data\\_format & data\\_type & platform & is\\_ffpe & file\\_size & passage & disease\\_type & comment & investigation & disease\\_detail\\\\\n",
       " <dbl> & <chr> & <chr> & <chr> & <chr> & <chr> & <chr> & <chr> & <chr> & <chr> & ⋯ & <chr> & <chr> & <chr> & <lgl> & <dbl> & <chr> & <chr> & <chr> & <lgl> & <chr>\\\\\n",
       "\\hline\n",
       "\t 209 & HCI & 14990X12\\_HCI001\\_patientnormal\\_1.txt.gz       & HCI001 & NA & NA & HCI001 & 14990X12  & Normal & WES & ⋯ & NA & NA & Illumina HiSeq & NA & NA & NA & Breast & NA & NA & Breast Poorly Differentiated    \\\\\n",
       "\t 210 & HCI & 14990X12\\_HCI001\\_patientnormal\\_2.txt.gz       & HCI001 & NA & NA & HCI001 & 14990X12  & Normal & WES & ⋯ & NA & NA & Illumina HiSeq & NA & NA & NA & Breast & NA & NA & Breast Poorly Differentiated    \\\\\n",
       "\t 211 & HCI & 0900570-B\\_HCI-002\\_Patient\\_normal\\_R1.fastq.gz & HCI002 & NA & NA & HCI002 & 0900570-B & Normal & WES & ⋯ & NA & NA & Illumina HiSeq & NA & NA & NA & Breast & NA & NA & Breast Poorly Differentiated    \\\\\n",
       "\t 212 & HCI & 0900570-B\\_HCI-002\\_Patient\\_normal\\_R2.fastq.gz & HCI002 & NA & NA & HCI002 & 0900570-B & Normal & WES & ⋯ & NA & NA & Illumina HiSeq & NA & NA & NA & Breast & NA & NA & Breast Poorly Differentiated    \\\\\n",
       "\t 239 & HCI & 14990X4\\_HCI004\\_patientnormalGU\\_1.txt.gz      & HCI004 & NA & NA & HCI004 & 14990X4   & Normal & WES & ⋯ & NA & NA & Illumina HiSeq & NA & NA & NA & Breast & NA & NA & Breast Invasive Ductal Carcinoma\\\\\n",
       "\t 240 & HCI & 14990X4\\_HCI004\\_patientnormalGU\\_2.txt.gz      & HCI004 & NA & NA & HCI004 & 14990X4   & Normal & WES & ⋯ & NA & NA & Illumina HiSeq & NA & NA & NA & Breast & NA & NA & Breast Invasive Ductal Carcinoma\\\\\n",
       "\\end{tabular}\n"
      ],
      "text/markdown": [
       "\n",
       "A tibble: 6 × 29\n",
       "\n",
       "| Index &lt;dbl&gt; | contributor &lt;chr&gt; | file_name &lt;chr&gt; | patient_id &lt;chr&gt; | model_id &lt;chr&gt; | tumor_id &lt;chr&gt; | case_id &lt;chr&gt; | sample_id &lt;chr&gt; | sample_type &lt;chr&gt; | experimental_strategy &lt;chr&gt; | ⋯ ⋯ | data_format &lt;chr&gt; | data_type &lt;chr&gt; | platform &lt;chr&gt; | is_ffpe &lt;lgl&gt; | file_size &lt;dbl&gt; | passage &lt;chr&gt; | disease_type &lt;chr&gt; | comment &lt;chr&gt; | investigation &lt;lgl&gt; | disease_detail &lt;chr&gt; |\n",
       "|---|---|---|---|---|---|---|---|---|---|---|---|---|---|---|---|---|---|---|---|---|\n",
       "| 209 | HCI | 14990X12_HCI001_patientnormal_1.txt.gz       | HCI001 | NA | NA | HCI001 | 14990X12  | Normal | WES | ⋯ | NA | NA | Illumina HiSeq | NA | NA | NA | Breast | NA | NA | Breast Poorly Differentiated     |\n",
       "| 210 | HCI | 14990X12_HCI001_patientnormal_2.txt.gz       | HCI001 | NA | NA | HCI001 | 14990X12  | Normal | WES | ⋯ | NA | NA | Illumina HiSeq | NA | NA | NA | Breast | NA | NA | Breast Poorly Differentiated     |\n",
       "| 211 | HCI | 0900570-B_HCI-002_Patient_normal_R1.fastq.gz | HCI002 | NA | NA | HCI002 | 0900570-B | Normal | WES | ⋯ | NA | NA | Illumina HiSeq | NA | NA | NA | Breast | NA | NA | Breast Poorly Differentiated     |\n",
       "| 212 | HCI | 0900570-B_HCI-002_Patient_normal_R2.fastq.gz | HCI002 | NA | NA | HCI002 | 0900570-B | Normal | WES | ⋯ | NA | NA | Illumina HiSeq | NA | NA | NA | Breast | NA | NA | Breast Poorly Differentiated     |\n",
       "| 239 | HCI | 14990X4_HCI004_patientnormalGU_1.txt.gz      | HCI004 | NA | NA | HCI004 | 14990X4   | Normal | WES | ⋯ | NA | NA | Illumina HiSeq | NA | NA | NA | Breast | NA | NA | Breast Invasive Ductal Carcinoma |\n",
       "| 240 | HCI | 14990X4_HCI004_patientnormalGU_2.txt.gz      | HCI004 | NA | NA | HCI004 | 14990X4   | Normal | WES | ⋯ | NA | NA | Illumina HiSeq | NA | NA | NA | Breast | NA | NA | Breast Invasive Ductal Carcinoma |\n",
       "\n"
      ],
      "text/plain": [
       "  Index contributor file_name                                    patient_id\n",
       "1 209   HCI         14990X12_HCI001_patientnormal_1.txt.gz       HCI001    \n",
       "2 210   HCI         14990X12_HCI001_patientnormal_2.txt.gz       HCI001    \n",
       "3 211   HCI         0900570-B_HCI-002_Patient_normal_R1.fastq.gz HCI002    \n",
       "4 212   HCI         0900570-B_HCI-002_Patient_normal_R2.fastq.gz HCI002    \n",
       "5 239   HCI         14990X4_HCI004_patientnormalGU_1.txt.gz      HCI004    \n",
       "6 240   HCI         14990X4_HCI004_patientnormalGU_2.txt.gz      HCI004    \n",
       "  model_id tumor_id case_id sample_id sample_type experimental_strategy ⋯\n",
       "1 NA       NA       HCI001  14990X12  Normal      WES                   ⋯\n",
       "2 NA       NA       HCI001  14990X12  Normal      WES                   ⋯\n",
       "3 NA       NA       HCI002  0900570-B Normal      WES                   ⋯\n",
       "4 NA       NA       HCI002  0900570-B Normal      WES                   ⋯\n",
       "5 NA       NA       HCI004  14990X4   Normal      WES                   ⋯\n",
       "6 NA       NA       HCI004  14990X4   Normal      WES                   ⋯\n",
       "  data_format data_type platform       is_ffpe file_size passage disease_type\n",
       "1 NA          NA        Illumina HiSeq NA      NA        NA      Breast      \n",
       "2 NA          NA        Illumina HiSeq NA      NA        NA      Breast      \n",
       "3 NA          NA        Illumina HiSeq NA      NA        NA      Breast      \n",
       "4 NA          NA        Illumina HiSeq NA      NA        NA      Breast      \n",
       "5 NA          NA        Illumina HiSeq NA      NA        NA      Breast      \n",
       "6 NA          NA        Illumina HiSeq NA      NA        NA      Breast      \n",
       "  comment investigation disease_detail                  \n",
       "1 NA      NA            Breast Poorly Differentiated    \n",
       "2 NA      NA            Breast Poorly Differentiated    \n",
       "3 NA      NA            Breast Poorly Differentiated    \n",
       "4 NA      NA            Breast Poorly Differentiated    \n",
       "5 NA      NA            Breast Invasive Ductal Carcinoma\n",
       "6 NA      NA            Breast Invasive Ductal Carcinoma"
      ]
     },
     "metadata": {},
     "output_type": "display_data"
    },
    {
     "data": {
      "text/html": [
       "<style>\n",
       ".list-inline {list-style: none; margin:0; padding: 0}\n",
       ".list-inline>li {display: inline-block}\n",
       ".list-inline>li:not(:last-child)::after {content: \"\\00b7\"; padding: 0 .5ex}\n",
       "</style>\n",
       "<ol class=list-inline><li>'Index'</li><li>'contributor'</li><li>'file_name'</li><li>'patient_id'</li><li>'model_id'</li><li>'tumor_id'</li><li>'case_id'</li><li>'sample_id'</li><li>'sample_type'</li><li>'experimental_strategy'</li><li>'gender'</li><li>'paired_end'</li><li>'capture_kit'</li><li>'capture_assembly'</li><li>'availability'</li><li>'public'</li><li>'access_level'</li><li>'created_datetime'</li><li>'data_category'</li><li>'data_format'</li><li>'data_type'</li><li>'platform'</li><li>'is_ffpe'</li><li>'file_size'</li><li>'passage'</li><li>'disease_type'</li><li>'comment'</li><li>'investigation'</li><li>'disease_detail'</li></ol>\n"
      ],
      "text/latex": [
       "\\begin{enumerate*}\n",
       "\\item 'Index'\n",
       "\\item 'contributor'\n",
       "\\item 'file\\_name'\n",
       "\\item 'patient\\_id'\n",
       "\\item 'model\\_id'\n",
       "\\item 'tumor\\_id'\n",
       "\\item 'case\\_id'\n",
       "\\item 'sample\\_id'\n",
       "\\item 'sample\\_type'\n",
       "\\item 'experimental\\_strategy'\n",
       "\\item 'gender'\n",
       "\\item 'paired\\_end'\n",
       "\\item 'capture\\_kit'\n",
       "\\item 'capture\\_assembly'\n",
       "\\item 'availability'\n",
       "\\item 'public'\n",
       "\\item 'access\\_level'\n",
       "\\item 'created\\_datetime'\n",
       "\\item 'data\\_category'\n",
       "\\item 'data\\_format'\n",
       "\\item 'data\\_type'\n",
       "\\item 'platform'\n",
       "\\item 'is\\_ffpe'\n",
       "\\item 'file\\_size'\n",
       "\\item 'passage'\n",
       "\\item 'disease\\_type'\n",
       "\\item 'comment'\n",
       "\\item 'investigation'\n",
       "\\item 'disease\\_detail'\n",
       "\\end{enumerate*}\n"
      ],
      "text/markdown": [
       "1. 'Index'\n",
       "2. 'contributor'\n",
       "3. 'file_name'\n",
       "4. 'patient_id'\n",
       "5. 'model_id'\n",
       "6. 'tumor_id'\n",
       "7. 'case_id'\n",
       "8. 'sample_id'\n",
       "9. 'sample_type'\n",
       "10. 'experimental_strategy'\n",
       "11. 'gender'\n",
       "12. 'paired_end'\n",
       "13. 'capture_kit'\n",
       "14. 'capture_assembly'\n",
       "15. 'availability'\n",
       "16. 'public'\n",
       "17. 'access_level'\n",
       "18. 'created_datetime'\n",
       "19. 'data_category'\n",
       "20. 'data_format'\n",
       "21. 'data_type'\n",
       "22. 'platform'\n",
       "23. 'is_ffpe'\n",
       "24. 'file_size'\n",
       "25. 'passage'\n",
       "26. 'disease_type'\n",
       "27. 'comment'\n",
       "28. 'investigation'\n",
       "29. 'disease_detail'\n",
       "\n",
       "\n"
      ],
      "text/plain": [
       " [1] \"Index\"                 \"contributor\"           \"file_name\"            \n",
       " [4] \"patient_id\"            \"model_id\"              \"tumor_id\"             \n",
       " [7] \"case_id\"               \"sample_id\"             \"sample_type\"          \n",
       "[10] \"experimental_strategy\" \"gender\"                \"paired_end\"           \n",
       "[13] \"capture_kit\"           \"capture_assembly\"      \"availability\"         \n",
       "[16] \"public\"                \"access_level\"          \"created_datetime\"     \n",
       "[19] \"data_category\"         \"data_format\"           \"data_type\"            \n",
       "[22] \"platform\"              \"is_ffpe\"               \"file_size\"            \n",
       "[25] \"passage\"               \"disease_type\"          \"comment\"              \n",
       "[28] \"investigation\"         \"disease_detail\"       "
      ]
     },
     "metadata": {},
     "output_type": "display_data"
    }
   ],
   "source": [
    "edited_pdtc_files_by_contributor[['HCI']] %>% nrow()\n",
    "edited_pdtc_files_by_contributor[['HCI']] %>% head()\n",
    "colnames(edited_pdtc_files_by_contributor[['HCI']])"
   ]
  },
  {
   "cell_type": "code",
   "execution_count": 50,
   "id": "c35139f1-ce7c-4565-89b6-59bdc0d1da56",
   "metadata": {},
   "outputs": [
    {
     "data": {
      "text/html": [
       "<table class=\"dataframe\">\n",
       "<caption>A data.frame: 29 × 1</caption>\n",
       "<thead>\n",
       "\t<tr><th></th><th scope=col>.</th></tr>\n",
       "\t<tr><th></th><th scope=col>&lt;dbl&gt;</th></tr>\n",
       "</thead>\n",
       "<tbody>\n",
       "\t<tr><th scope=row>Index</th><td>  0</td></tr>\n",
       "\t<tr><th scope=row>contributor</th><td>  0</td></tr>\n",
       "\t<tr><th scope=row>file_name</th><td>  0</td></tr>\n",
       "\t<tr><th scope=row>patient_id</th><td>  0</td></tr>\n",
       "\t<tr><th scope=row>model_id</th><td>256</td></tr>\n",
       "\t<tr><th scope=row>tumor_id</th><td>256</td></tr>\n",
       "\t<tr><th scope=row>case_id</th><td>  0</td></tr>\n",
       "\t<tr><th scope=row>sample_id</th><td>  0</td></tr>\n",
       "\t<tr><th scope=row>sample_type</th><td>  0</td></tr>\n",
       "\t<tr><th scope=row>experimental_strategy</th><td>  0</td></tr>\n",
       "\t<tr><th scope=row>gender</th><td>  0</td></tr>\n",
       "\t<tr><th scope=row>paired_end</th><td>  8</td></tr>\n",
       "\t<tr><th scope=row>capture_kit</th><td> 62</td></tr>\n",
       "\t<tr><th scope=row>capture_assembly</th><td> 48</td></tr>\n",
       "\t<tr><th scope=row>availability</th><td>  0</td></tr>\n",
       "\t<tr><th scope=row>public</th><td>  0</td></tr>\n",
       "\t<tr><th scope=row>access_level</th><td>256</td></tr>\n",
       "\t<tr><th scope=row>created_datetime</th><td>256</td></tr>\n",
       "\t<tr><th scope=row>data_category</th><td>208</td></tr>\n",
       "\t<tr><th scope=row>data_format</th><td>208</td></tr>\n",
       "\t<tr><th scope=row>data_type</th><td>208</td></tr>\n",
       "\t<tr><th scope=row>platform</th><td>  0</td></tr>\n",
       "\t<tr><th scope=row>is_ffpe</th><td>256</td></tr>\n",
       "\t<tr><th scope=row>file_size</th><td>208</td></tr>\n",
       "\t<tr><th scope=row>passage</th><td>144</td></tr>\n",
       "\t<tr><th scope=row>disease_type</th><td>  8</td></tr>\n",
       "\t<tr><th scope=row>comment</th><td>224</td></tr>\n",
       "\t<tr><th scope=row>investigation</th><td>256</td></tr>\n",
       "\t<tr><th scope=row>disease_detail</th><td>  8</td></tr>\n",
       "</tbody>\n",
       "</table>\n"
      ],
      "text/latex": [
       "A data.frame: 29 × 1\n",
       "\\begin{tabular}{r|l}\n",
       "  & .\\\\\n",
       "  & <dbl>\\\\\n",
       "\\hline\n",
       "\tIndex &   0\\\\\n",
       "\tcontributor &   0\\\\\n",
       "\tfile\\_name &   0\\\\\n",
       "\tpatient\\_id &   0\\\\\n",
       "\tmodel\\_id & 256\\\\\n",
       "\ttumor\\_id & 256\\\\\n",
       "\tcase\\_id &   0\\\\\n",
       "\tsample\\_id &   0\\\\\n",
       "\tsample\\_type &   0\\\\\n",
       "\texperimental\\_strategy &   0\\\\\n",
       "\tgender &   0\\\\\n",
       "\tpaired\\_end &   8\\\\\n",
       "\tcapture\\_kit &  62\\\\\n",
       "\tcapture\\_assembly &  48\\\\\n",
       "\tavailability &   0\\\\\n",
       "\tpublic &   0\\\\\n",
       "\taccess\\_level & 256\\\\\n",
       "\tcreated\\_datetime & 256\\\\\n",
       "\tdata\\_category & 208\\\\\n",
       "\tdata\\_format & 208\\\\\n",
       "\tdata\\_type & 208\\\\\n",
       "\tplatform &   0\\\\\n",
       "\tis\\_ffpe & 256\\\\\n",
       "\tfile\\_size & 208\\\\\n",
       "\tpassage & 144\\\\\n",
       "\tdisease\\_type &   8\\\\\n",
       "\tcomment & 224\\\\\n",
       "\tinvestigation & 256\\\\\n",
       "\tdisease\\_detail &   8\\\\\n",
       "\\end{tabular}\n"
      ],
      "text/markdown": [
       "\n",
       "A data.frame: 29 × 1\n",
       "\n",
       "| <!--/--> | . &lt;dbl&gt; |\n",
       "|---|---|\n",
       "| Index |   0 |\n",
       "| contributor |   0 |\n",
       "| file_name |   0 |\n",
       "| patient_id |   0 |\n",
       "| model_id | 256 |\n",
       "| tumor_id | 256 |\n",
       "| case_id |   0 |\n",
       "| sample_id |   0 |\n",
       "| sample_type |   0 |\n",
       "| experimental_strategy |   0 |\n",
       "| gender |   0 |\n",
       "| paired_end |   8 |\n",
       "| capture_kit |  62 |\n",
       "| capture_assembly |  48 |\n",
       "| availability |   0 |\n",
       "| public |   0 |\n",
       "| access_level | 256 |\n",
       "| created_datetime | 256 |\n",
       "| data_category | 208 |\n",
       "| data_format | 208 |\n",
       "| data_type | 208 |\n",
       "| platform |   0 |\n",
       "| is_ffpe | 256 |\n",
       "| file_size | 208 |\n",
       "| passage | 144 |\n",
       "| disease_type |   8 |\n",
       "| comment | 224 |\n",
       "| investigation | 256 |\n",
       "| disease_detail |   8 |\n",
       "\n"
      ],
      "text/plain": [
       "                      .  \n",
       "Index                   0\n",
       "contributor             0\n",
       "file_name               0\n",
       "patient_id              0\n",
       "model_id              256\n",
       "tumor_id              256\n",
       "case_id                 0\n",
       "sample_id               0\n",
       "sample_type             0\n",
       "experimental_strategy   0\n",
       "gender                  0\n",
       "paired_end              8\n",
       "capture_kit            62\n",
       "capture_assembly       48\n",
       "availability            0\n",
       "public                  0\n",
       "access_level          256\n",
       "created_datetime      256\n",
       "data_category         208\n",
       "data_format           208\n",
       "data_type             208\n",
       "platform                0\n",
       "is_ffpe               256\n",
       "file_size             208\n",
       "passage               144\n",
       "disease_type            8\n",
       "comment               224\n",
       "investigation         256\n",
       "disease_detail          8"
      ]
     },
     "metadata": {},
     "output_type": "display_data"
    }
   ],
   "source": [
    "# How many NAs are there for the most important columns?\n",
    "\n",
    "colSums((is.na(edited_pdtc_files_by_contributor[['HCI']]) | (edited_pdtc_files_by_contributor[['HCI']] == 'Unknown') | (edited_pdtc_files_by_contributor[['HCI']] == '?'))) %>% as.data.frame()"
   ]
  },
  {
   "cell_type": "markdown",
   "id": "d728e055-3c57-4cb8-8662-ccb36212bd04",
   "metadata": {},
   "source": [
    "Notes on the columns:\n",
    "- model_id: HCI uses patient ID and case ID as the model identifier\n",
    "- tumor_id: unused by HCI\n",
    "- paired_end: All of the NAs have either \"file1\" or \"file2\" which is going to represent their paired end status\n",
    "- capture_kit: Can't fill from any other metadata\n",
    "- capture_assembly: Can't fill from any other metadata\n",
    "- is_ffpe: not collected by HCI\n",
    "- file_size: easily filled with the CGC metadata, but can do this at the end for all centers\n",
    "- passage: Should be NA for normals, Unknown for PDX without metadata, unfillable with other sheets\n",
    "- disease_type: Missing ones are HCI017 and TOW18S, neither of which are present in any of our model information or any of the dbGaP submission forms\n",
    "- disease_detail: Same as above"
   ]
  },
  {
   "cell_type": "code",
   "execution_count": 51,
   "id": "8b493792-0edb-4392-b44a-6e99a6c212c0",
   "metadata": {},
   "outputs": [],
   "source": [
    "# Start cleaning HCI\n",
    "\n",
    "edited_hci_files <- edited_pdtc_files_by_contributor[['HCI']] %>% mutate(\n",
    "    paired_end = ifelse(str_detect(file_name, 'file1'), 1, ifelse(str_detect(file_name, 'file2'), 2, paired_end)),\n",
    "    passage = ifelse(sample_type == 'Normal', NA, passage)\n",
    "    )"
   ]
  },
  {
   "cell_type": "code",
   "execution_count": 52,
   "id": "a8f0fe2b-034f-429c-ad3c-3710a19f891b",
   "metadata": {},
   "outputs": [
    {
     "data": {
      "text/html": [
       "<table class=\"dataframe\">\n",
       "<caption>A tibble: 6 × 29</caption>\n",
       "<thead>\n",
       "\t<tr><th scope=col>Index</th><th scope=col>contributor</th><th scope=col>file_name</th><th scope=col>patient_id</th><th scope=col>model_id</th><th scope=col>tumor_id</th><th scope=col>case_id</th><th scope=col>sample_id</th><th scope=col>sample_type</th><th scope=col>experimental_strategy</th><th scope=col>⋯</th><th scope=col>data_format</th><th scope=col>data_type</th><th scope=col>platform</th><th scope=col>is_ffpe</th><th scope=col>file_size</th><th scope=col>passage</th><th scope=col>disease_type</th><th scope=col>comment</th><th scope=col>investigation</th><th scope=col>disease_detail</th></tr>\n",
       "\t<tr><th scope=col>&lt;dbl&gt;</th><th scope=col>&lt;chr&gt;</th><th scope=col>&lt;chr&gt;</th><th scope=col>&lt;chr&gt;</th><th scope=col>&lt;chr&gt;</th><th scope=col>&lt;chr&gt;</th><th scope=col>&lt;chr&gt;</th><th scope=col>&lt;chr&gt;</th><th scope=col>&lt;chr&gt;</th><th scope=col>&lt;chr&gt;</th><th scope=col>⋯</th><th scope=col>&lt;chr&gt;</th><th scope=col>&lt;chr&gt;</th><th scope=col>&lt;chr&gt;</th><th scope=col>&lt;lgl&gt;</th><th scope=col>&lt;dbl&gt;</th><th scope=col>&lt;chr&gt;</th><th scope=col>&lt;chr&gt;</th><th scope=col>&lt;chr&gt;</th><th scope=col>&lt;lgl&gt;</th><th scope=col>&lt;chr&gt;</th></tr>\n",
       "</thead>\n",
       "<tbody>\n",
       "\t<tr><td>209</td><td>HCI</td><td>14990X12_HCI001_patientnormal_1.txt.gz      </td><td>HCI001</td><td>NA</td><td>NA</td><td>HCI001</td><td>14990X12 </td><td>Normal</td><td>WES</td><td>⋯</td><td>NA</td><td>NA</td><td>Illumina HiSeq</td><td>NA</td><td>NA</td><td>NA</td><td>Breast</td><td>NA</td><td>NA</td><td>Breast Poorly Differentiated    </td></tr>\n",
       "\t<tr><td>210</td><td>HCI</td><td>14990X12_HCI001_patientnormal_2.txt.gz      </td><td>HCI001</td><td>NA</td><td>NA</td><td>HCI001</td><td>14990X12 </td><td>Normal</td><td>WES</td><td>⋯</td><td>NA</td><td>NA</td><td>Illumina HiSeq</td><td>NA</td><td>NA</td><td>NA</td><td>Breast</td><td>NA</td><td>NA</td><td>Breast Poorly Differentiated    </td></tr>\n",
       "\t<tr><td>211</td><td>HCI</td><td>0900570-B_HCI-002_Patient_normal_R1.fastq.gz</td><td>HCI002</td><td>NA</td><td>NA</td><td>HCI002</td><td>0900570-B</td><td>Normal</td><td>WES</td><td>⋯</td><td>NA</td><td>NA</td><td>Illumina HiSeq</td><td>NA</td><td>NA</td><td>NA</td><td>Breast</td><td>NA</td><td>NA</td><td>Breast Poorly Differentiated    </td></tr>\n",
       "\t<tr><td>212</td><td>HCI</td><td>0900570-B_HCI-002_Patient_normal_R2.fastq.gz</td><td>HCI002</td><td>NA</td><td>NA</td><td>HCI002</td><td>0900570-B</td><td>Normal</td><td>WES</td><td>⋯</td><td>NA</td><td>NA</td><td>Illumina HiSeq</td><td>NA</td><td>NA</td><td>NA</td><td>Breast</td><td>NA</td><td>NA</td><td>Breast Poorly Differentiated    </td></tr>\n",
       "\t<tr><td>239</td><td>HCI</td><td>14990X4_HCI004_patientnormalGU_1.txt.gz     </td><td>HCI004</td><td>NA</td><td>NA</td><td>HCI004</td><td>14990X4  </td><td>Normal</td><td>WES</td><td>⋯</td><td>NA</td><td>NA</td><td>Illumina HiSeq</td><td>NA</td><td>NA</td><td>NA</td><td>Breast</td><td>NA</td><td>NA</td><td>Breast Invasive Ductal Carcinoma</td></tr>\n",
       "\t<tr><td>240</td><td>HCI</td><td>14990X4_HCI004_patientnormalGU_2.txt.gz     </td><td>HCI004</td><td>NA</td><td>NA</td><td>HCI004</td><td>14990X4  </td><td>Normal</td><td>WES</td><td>⋯</td><td>NA</td><td>NA</td><td>Illumina HiSeq</td><td>NA</td><td>NA</td><td>NA</td><td>Breast</td><td>NA</td><td>NA</td><td>Breast Invasive Ductal Carcinoma</td></tr>\n",
       "</tbody>\n",
       "</table>\n"
      ],
      "text/latex": [
       "A tibble: 6 × 29\n",
       "\\begin{tabular}{lllllllllllllllllllll}\n",
       " Index & contributor & file\\_name & patient\\_id & model\\_id & tumor\\_id & case\\_id & sample\\_id & sample\\_type & experimental\\_strategy & ⋯ & data\\_format & data\\_type & platform & is\\_ffpe & file\\_size & passage & disease\\_type & comment & investigation & disease\\_detail\\\\\n",
       " <dbl> & <chr> & <chr> & <chr> & <chr> & <chr> & <chr> & <chr> & <chr> & <chr> & ⋯ & <chr> & <chr> & <chr> & <lgl> & <dbl> & <chr> & <chr> & <chr> & <lgl> & <chr>\\\\\n",
       "\\hline\n",
       "\t 209 & HCI & 14990X12\\_HCI001\\_patientnormal\\_1.txt.gz       & HCI001 & NA & NA & HCI001 & 14990X12  & Normal & WES & ⋯ & NA & NA & Illumina HiSeq & NA & NA & NA & Breast & NA & NA & Breast Poorly Differentiated    \\\\\n",
       "\t 210 & HCI & 14990X12\\_HCI001\\_patientnormal\\_2.txt.gz       & HCI001 & NA & NA & HCI001 & 14990X12  & Normal & WES & ⋯ & NA & NA & Illumina HiSeq & NA & NA & NA & Breast & NA & NA & Breast Poorly Differentiated    \\\\\n",
       "\t 211 & HCI & 0900570-B\\_HCI-002\\_Patient\\_normal\\_R1.fastq.gz & HCI002 & NA & NA & HCI002 & 0900570-B & Normal & WES & ⋯ & NA & NA & Illumina HiSeq & NA & NA & NA & Breast & NA & NA & Breast Poorly Differentiated    \\\\\n",
       "\t 212 & HCI & 0900570-B\\_HCI-002\\_Patient\\_normal\\_R2.fastq.gz & HCI002 & NA & NA & HCI002 & 0900570-B & Normal & WES & ⋯ & NA & NA & Illumina HiSeq & NA & NA & NA & Breast & NA & NA & Breast Poorly Differentiated    \\\\\n",
       "\t 239 & HCI & 14990X4\\_HCI004\\_patientnormalGU\\_1.txt.gz      & HCI004 & NA & NA & HCI004 & 14990X4   & Normal & WES & ⋯ & NA & NA & Illumina HiSeq & NA & NA & NA & Breast & NA & NA & Breast Invasive Ductal Carcinoma\\\\\n",
       "\t 240 & HCI & 14990X4\\_HCI004\\_patientnormalGU\\_2.txt.gz      & HCI004 & NA & NA & HCI004 & 14990X4   & Normal & WES & ⋯ & NA & NA & Illumina HiSeq & NA & NA & NA & Breast & NA & NA & Breast Invasive Ductal Carcinoma\\\\\n",
       "\\end{tabular}\n"
      ],
      "text/markdown": [
       "\n",
       "A tibble: 6 × 29\n",
       "\n",
       "| Index &lt;dbl&gt; | contributor &lt;chr&gt; | file_name &lt;chr&gt; | patient_id &lt;chr&gt; | model_id &lt;chr&gt; | tumor_id &lt;chr&gt; | case_id &lt;chr&gt; | sample_id &lt;chr&gt; | sample_type &lt;chr&gt; | experimental_strategy &lt;chr&gt; | ⋯ ⋯ | data_format &lt;chr&gt; | data_type &lt;chr&gt; | platform &lt;chr&gt; | is_ffpe &lt;lgl&gt; | file_size &lt;dbl&gt; | passage &lt;chr&gt; | disease_type &lt;chr&gt; | comment &lt;chr&gt; | investigation &lt;lgl&gt; | disease_detail &lt;chr&gt; |\n",
       "|---|---|---|---|---|---|---|---|---|---|---|---|---|---|---|---|---|---|---|---|---|\n",
       "| 209 | HCI | 14990X12_HCI001_patientnormal_1.txt.gz       | HCI001 | NA | NA | HCI001 | 14990X12  | Normal | WES | ⋯ | NA | NA | Illumina HiSeq | NA | NA | NA | Breast | NA | NA | Breast Poorly Differentiated     |\n",
       "| 210 | HCI | 14990X12_HCI001_patientnormal_2.txt.gz       | HCI001 | NA | NA | HCI001 | 14990X12  | Normal | WES | ⋯ | NA | NA | Illumina HiSeq | NA | NA | NA | Breast | NA | NA | Breast Poorly Differentiated     |\n",
       "| 211 | HCI | 0900570-B_HCI-002_Patient_normal_R1.fastq.gz | HCI002 | NA | NA | HCI002 | 0900570-B | Normal | WES | ⋯ | NA | NA | Illumina HiSeq | NA | NA | NA | Breast | NA | NA | Breast Poorly Differentiated     |\n",
       "| 212 | HCI | 0900570-B_HCI-002_Patient_normal_R2.fastq.gz | HCI002 | NA | NA | HCI002 | 0900570-B | Normal | WES | ⋯ | NA | NA | Illumina HiSeq | NA | NA | NA | Breast | NA | NA | Breast Poorly Differentiated     |\n",
       "| 239 | HCI | 14990X4_HCI004_patientnormalGU_1.txt.gz      | HCI004 | NA | NA | HCI004 | 14990X4   | Normal | WES | ⋯ | NA | NA | Illumina HiSeq | NA | NA | NA | Breast | NA | NA | Breast Invasive Ductal Carcinoma |\n",
       "| 240 | HCI | 14990X4_HCI004_patientnormalGU_2.txt.gz      | HCI004 | NA | NA | HCI004 | 14990X4   | Normal | WES | ⋯ | NA | NA | Illumina HiSeq | NA | NA | NA | Breast | NA | NA | Breast Invasive Ductal Carcinoma |\n",
       "\n"
      ],
      "text/plain": [
       "  Index contributor file_name                                    patient_id\n",
       "1 209   HCI         14990X12_HCI001_patientnormal_1.txt.gz       HCI001    \n",
       "2 210   HCI         14990X12_HCI001_patientnormal_2.txt.gz       HCI001    \n",
       "3 211   HCI         0900570-B_HCI-002_Patient_normal_R1.fastq.gz HCI002    \n",
       "4 212   HCI         0900570-B_HCI-002_Patient_normal_R2.fastq.gz HCI002    \n",
       "5 239   HCI         14990X4_HCI004_patientnormalGU_1.txt.gz      HCI004    \n",
       "6 240   HCI         14990X4_HCI004_patientnormalGU_2.txt.gz      HCI004    \n",
       "  model_id tumor_id case_id sample_id sample_type experimental_strategy ⋯\n",
       "1 NA       NA       HCI001  14990X12  Normal      WES                   ⋯\n",
       "2 NA       NA       HCI001  14990X12  Normal      WES                   ⋯\n",
       "3 NA       NA       HCI002  0900570-B Normal      WES                   ⋯\n",
       "4 NA       NA       HCI002  0900570-B Normal      WES                   ⋯\n",
       "5 NA       NA       HCI004  14990X4   Normal      WES                   ⋯\n",
       "6 NA       NA       HCI004  14990X4   Normal      WES                   ⋯\n",
       "  data_format data_type platform       is_ffpe file_size passage disease_type\n",
       "1 NA          NA        Illumina HiSeq NA      NA        NA      Breast      \n",
       "2 NA          NA        Illumina HiSeq NA      NA        NA      Breast      \n",
       "3 NA          NA        Illumina HiSeq NA      NA        NA      Breast      \n",
       "4 NA          NA        Illumina HiSeq NA      NA        NA      Breast      \n",
       "5 NA          NA        Illumina HiSeq NA      NA        NA      Breast      \n",
       "6 NA          NA        Illumina HiSeq NA      NA        NA      Breast      \n",
       "  comment investigation disease_detail                  \n",
       "1 NA      NA            Breast Poorly Differentiated    \n",
       "2 NA      NA            Breast Poorly Differentiated    \n",
       "3 NA      NA            Breast Poorly Differentiated    \n",
       "4 NA      NA            Breast Poorly Differentiated    \n",
       "5 NA      NA            Breast Invasive Ductal Carcinoma\n",
       "6 NA      NA            Breast Invasive Ductal Carcinoma"
      ]
     },
     "metadata": {},
     "output_type": "display_data"
    }
   ],
   "source": [
    "# Continue fixing passage\n",
    "\n",
    "edited_hci_files <- edited_hci_files %>% mutate(\n",
    "    passage = ifelse(passage == '?', 'Unknown', passage)\n",
    ")\n",
    "\n",
    "head(edited_hci_files)"
   ]
  },
  {
   "cell_type": "markdown",
   "id": "214aac75-1b21-40fe-8788-ef960d00043e",
   "metadata": {},
   "source": [
    "I think that's about all that can be done, but HCI is one of the better ones with the least missing disease information."
   ]
  },
  {
   "cell_type": "code",
   "execution_count": 53,
   "id": "bbcf7a0a-f5a6-4b1b-8505-19bcdc572b5e",
   "metadata": {},
   "outputs": [
    {
     "data": {
      "text/html": [
       "246"
      ],
      "text/latex": [
       "246"
      ],
      "text/markdown": [
       "246"
      ],
      "text/plain": [
       "[1] 246"
      ]
     },
     "metadata": {},
     "output_type": "display_data"
    },
    {
     "data": {
      "text/html": [
       "<table class=\"dataframe\">\n",
       "<caption>A tibble: 6 × 29</caption>\n",
       "<thead>\n",
       "\t<tr><th scope=col>Index</th><th scope=col>contributor</th><th scope=col>file_name</th><th scope=col>patient_id</th><th scope=col>model_id</th><th scope=col>tumor_id</th><th scope=col>case_id</th><th scope=col>sample_id</th><th scope=col>sample_type</th><th scope=col>experimental_strategy</th><th scope=col>⋯</th><th scope=col>data_format</th><th scope=col>data_type</th><th scope=col>platform</th><th scope=col>is_ffpe</th><th scope=col>file_size</th><th scope=col>passage</th><th scope=col>disease_type</th><th scope=col>comment</th><th scope=col>investigation</th><th scope=col>disease_detail</th></tr>\n",
       "\t<tr><th scope=col>&lt;dbl&gt;</th><th scope=col>&lt;chr&gt;</th><th scope=col>&lt;chr&gt;</th><th scope=col>&lt;chr&gt;</th><th scope=col>&lt;chr&gt;</th><th scope=col>&lt;chr&gt;</th><th scope=col>&lt;chr&gt;</th><th scope=col>&lt;chr&gt;</th><th scope=col>&lt;chr&gt;</th><th scope=col>&lt;chr&gt;</th><th scope=col>⋯</th><th scope=col>&lt;chr&gt;</th><th scope=col>&lt;chr&gt;</th><th scope=col>&lt;chr&gt;</th><th scope=col>&lt;lgl&gt;</th><th scope=col>&lt;dbl&gt;</th><th scope=col>&lt;chr&gt;</th><th scope=col>&lt;chr&gt;</th><th scope=col>&lt;chr&gt;</th><th scope=col>&lt;lgl&gt;</th><th scope=col>&lt;chr&gt;</th></tr>\n",
       "</thead>\n",
       "<tbody>\n",
       "\t<tr><td>209</td><td>HCI</td><td>14990X12_HCI001_patientnormal_1.txt.gz      </td><td>HCI001</td><td>NA</td><td>NA</td><td>HCI001</td><td>14990X12 </td><td>Normal</td><td>WES</td><td>⋯</td><td>fastq.gz</td><td>Raw Reads</td><td>Illumina HiSeq</td><td>NA</td><td>NA</td><td>NA</td><td>Breast</td><td>NA</td><td>NA</td><td>Breast Poorly Differentiated    </td></tr>\n",
       "\t<tr><td>210</td><td>HCI</td><td>14990X12_HCI001_patientnormal_2.txt.gz      </td><td>HCI001</td><td>NA</td><td>NA</td><td>HCI001</td><td>14990X12 </td><td>Normal</td><td>WES</td><td>⋯</td><td>fastq.gz</td><td>Raw Reads</td><td>Illumina HiSeq</td><td>NA</td><td>NA</td><td>NA</td><td>Breast</td><td>NA</td><td>NA</td><td>Breast Poorly Differentiated    </td></tr>\n",
       "\t<tr><td>211</td><td>HCI</td><td>0900570-B_HCI-002_Patient_normal_R1.fastq.gz</td><td>HCI002</td><td>NA</td><td>NA</td><td>HCI002</td><td>0900570-B</td><td>Normal</td><td>WES</td><td>⋯</td><td>fastq.gz</td><td>Raw Reads</td><td>Illumina HiSeq</td><td>NA</td><td>NA</td><td>NA</td><td>Breast</td><td>NA</td><td>NA</td><td>Breast Poorly Differentiated    </td></tr>\n",
       "\t<tr><td>212</td><td>HCI</td><td>0900570-B_HCI-002_Patient_normal_R2.fastq.gz</td><td>HCI002</td><td>NA</td><td>NA</td><td>HCI002</td><td>0900570-B</td><td>Normal</td><td>WES</td><td>⋯</td><td>fastq.gz</td><td>Raw Reads</td><td>Illumina HiSeq</td><td>NA</td><td>NA</td><td>NA</td><td>Breast</td><td>NA</td><td>NA</td><td>Breast Poorly Differentiated    </td></tr>\n",
       "\t<tr><td>239</td><td>HCI</td><td>14990X4_HCI004_patientnormalGU_1.txt.gz     </td><td>HCI004</td><td>NA</td><td>NA</td><td>HCI004</td><td>14990X4  </td><td>Normal</td><td>WES</td><td>⋯</td><td>fastq.gz</td><td>Raw Reads</td><td>Illumina HiSeq</td><td>NA</td><td>NA</td><td>NA</td><td>Breast</td><td>NA</td><td>NA</td><td>Breast Invasive Ductal Carcinoma</td></tr>\n",
       "\t<tr><td>240</td><td>HCI</td><td>14990X4_HCI004_patientnormalGU_2.txt.gz     </td><td>HCI004</td><td>NA</td><td>NA</td><td>HCI004</td><td>14990X4  </td><td>Normal</td><td>WES</td><td>⋯</td><td>fastq.gz</td><td>Raw Reads</td><td>Illumina HiSeq</td><td>NA</td><td>NA</td><td>NA</td><td>Breast</td><td>NA</td><td>NA</td><td>Breast Invasive Ductal Carcinoma</td></tr>\n",
       "</tbody>\n",
       "</table>\n"
      ],
      "text/latex": [
       "A tibble: 6 × 29\n",
       "\\begin{tabular}{lllllllllllllllllllll}\n",
       " Index & contributor & file\\_name & patient\\_id & model\\_id & tumor\\_id & case\\_id & sample\\_id & sample\\_type & experimental\\_strategy & ⋯ & data\\_format & data\\_type & platform & is\\_ffpe & file\\_size & passage & disease\\_type & comment & investigation & disease\\_detail\\\\\n",
       " <dbl> & <chr> & <chr> & <chr> & <chr> & <chr> & <chr> & <chr> & <chr> & <chr> & ⋯ & <chr> & <chr> & <chr> & <lgl> & <dbl> & <chr> & <chr> & <chr> & <lgl> & <chr>\\\\\n",
       "\\hline\n",
       "\t 209 & HCI & 14990X12\\_HCI001\\_patientnormal\\_1.txt.gz       & HCI001 & NA & NA & HCI001 & 14990X12  & Normal & WES & ⋯ & fastq.gz & Raw Reads & Illumina HiSeq & NA & NA & NA & Breast & NA & NA & Breast Poorly Differentiated    \\\\\n",
       "\t 210 & HCI & 14990X12\\_HCI001\\_patientnormal\\_2.txt.gz       & HCI001 & NA & NA & HCI001 & 14990X12  & Normal & WES & ⋯ & fastq.gz & Raw Reads & Illumina HiSeq & NA & NA & NA & Breast & NA & NA & Breast Poorly Differentiated    \\\\\n",
       "\t 211 & HCI & 0900570-B\\_HCI-002\\_Patient\\_normal\\_R1.fastq.gz & HCI002 & NA & NA & HCI002 & 0900570-B & Normal & WES & ⋯ & fastq.gz & Raw Reads & Illumina HiSeq & NA & NA & NA & Breast & NA & NA & Breast Poorly Differentiated    \\\\\n",
       "\t 212 & HCI & 0900570-B\\_HCI-002\\_Patient\\_normal\\_R2.fastq.gz & HCI002 & NA & NA & HCI002 & 0900570-B & Normal & WES & ⋯ & fastq.gz & Raw Reads & Illumina HiSeq & NA & NA & NA & Breast & NA & NA & Breast Poorly Differentiated    \\\\\n",
       "\t 239 & HCI & 14990X4\\_HCI004\\_patientnormalGU\\_1.txt.gz      & HCI004 & NA & NA & HCI004 & 14990X4   & Normal & WES & ⋯ & fastq.gz & Raw Reads & Illumina HiSeq & NA & NA & NA & Breast & NA & NA & Breast Invasive Ductal Carcinoma\\\\\n",
       "\t 240 & HCI & 14990X4\\_HCI004\\_patientnormalGU\\_2.txt.gz      & HCI004 & NA & NA & HCI004 & 14990X4   & Normal & WES & ⋯ & fastq.gz & Raw Reads & Illumina HiSeq & NA & NA & NA & Breast & NA & NA & Breast Invasive Ductal Carcinoma\\\\\n",
       "\\end{tabular}\n"
      ],
      "text/markdown": [
       "\n",
       "A tibble: 6 × 29\n",
       "\n",
       "| Index &lt;dbl&gt; | contributor &lt;chr&gt; | file_name &lt;chr&gt; | patient_id &lt;chr&gt; | model_id &lt;chr&gt; | tumor_id &lt;chr&gt; | case_id &lt;chr&gt; | sample_id &lt;chr&gt; | sample_type &lt;chr&gt; | experimental_strategy &lt;chr&gt; | ⋯ ⋯ | data_format &lt;chr&gt; | data_type &lt;chr&gt; | platform &lt;chr&gt; | is_ffpe &lt;lgl&gt; | file_size &lt;dbl&gt; | passage &lt;chr&gt; | disease_type &lt;chr&gt; | comment &lt;chr&gt; | investigation &lt;lgl&gt; | disease_detail &lt;chr&gt; |\n",
       "|---|---|---|---|---|---|---|---|---|---|---|---|---|---|---|---|---|---|---|---|---|\n",
       "| 209 | HCI | 14990X12_HCI001_patientnormal_1.txt.gz       | HCI001 | NA | NA | HCI001 | 14990X12  | Normal | WES | ⋯ | fastq.gz | Raw Reads | Illumina HiSeq | NA | NA | NA | Breast | NA | NA | Breast Poorly Differentiated     |\n",
       "| 210 | HCI | 14990X12_HCI001_patientnormal_2.txt.gz       | HCI001 | NA | NA | HCI001 | 14990X12  | Normal | WES | ⋯ | fastq.gz | Raw Reads | Illumina HiSeq | NA | NA | NA | Breast | NA | NA | Breast Poorly Differentiated     |\n",
       "| 211 | HCI | 0900570-B_HCI-002_Patient_normal_R1.fastq.gz | HCI002 | NA | NA | HCI002 | 0900570-B | Normal | WES | ⋯ | fastq.gz | Raw Reads | Illumina HiSeq | NA | NA | NA | Breast | NA | NA | Breast Poorly Differentiated     |\n",
       "| 212 | HCI | 0900570-B_HCI-002_Patient_normal_R2.fastq.gz | HCI002 | NA | NA | HCI002 | 0900570-B | Normal | WES | ⋯ | fastq.gz | Raw Reads | Illumina HiSeq | NA | NA | NA | Breast | NA | NA | Breast Poorly Differentiated     |\n",
       "| 239 | HCI | 14990X4_HCI004_patientnormalGU_1.txt.gz      | HCI004 | NA | NA | HCI004 | 14990X4   | Normal | WES | ⋯ | fastq.gz | Raw Reads | Illumina HiSeq | NA | NA | NA | Breast | NA | NA | Breast Invasive Ductal Carcinoma |\n",
       "| 240 | HCI | 14990X4_HCI004_patientnormalGU_2.txt.gz      | HCI004 | NA | NA | HCI004 | 14990X4   | Normal | WES | ⋯ | fastq.gz | Raw Reads | Illumina HiSeq | NA | NA | NA | Breast | NA | NA | Breast Invasive Ductal Carcinoma |\n",
       "\n"
      ],
      "text/plain": [
       "  Index contributor file_name                                    patient_id\n",
       "1 209   HCI         14990X12_HCI001_patientnormal_1.txt.gz       HCI001    \n",
       "2 210   HCI         14990X12_HCI001_patientnormal_2.txt.gz       HCI001    \n",
       "3 211   HCI         0900570-B_HCI-002_Patient_normal_R1.fastq.gz HCI002    \n",
       "4 212   HCI         0900570-B_HCI-002_Patient_normal_R2.fastq.gz HCI002    \n",
       "5 239   HCI         14990X4_HCI004_patientnormalGU_1.txt.gz      HCI004    \n",
       "6 240   HCI         14990X4_HCI004_patientnormalGU_2.txt.gz      HCI004    \n",
       "  model_id tumor_id case_id sample_id sample_type experimental_strategy ⋯\n",
       "1 NA       NA       HCI001  14990X12  Normal      WES                   ⋯\n",
       "2 NA       NA       HCI001  14990X12  Normal      WES                   ⋯\n",
       "3 NA       NA       HCI002  0900570-B Normal      WES                   ⋯\n",
       "4 NA       NA       HCI002  0900570-B Normal      WES                   ⋯\n",
       "5 NA       NA       HCI004  14990X4   Normal      WES                   ⋯\n",
       "6 NA       NA       HCI004  14990X4   Normal      WES                   ⋯\n",
       "  data_format data_type platform       is_ffpe file_size passage disease_type\n",
       "1 fastq.gz    Raw Reads Illumina HiSeq NA      NA        NA      Breast      \n",
       "2 fastq.gz    Raw Reads Illumina HiSeq NA      NA        NA      Breast      \n",
       "3 fastq.gz    Raw Reads Illumina HiSeq NA      NA        NA      Breast      \n",
       "4 fastq.gz    Raw Reads Illumina HiSeq NA      NA        NA      Breast      \n",
       "5 fastq.gz    Raw Reads Illumina HiSeq NA      NA        NA      Breast      \n",
       "6 fastq.gz    Raw Reads Illumina HiSeq NA      NA        NA      Breast      \n",
       "  comment investigation disease_detail                  \n",
       "1 NA      NA            Breast Poorly Differentiated    \n",
       "2 NA      NA            Breast Poorly Differentiated    \n",
       "3 NA      NA            Breast Poorly Differentiated    \n",
       "4 NA      NA            Breast Poorly Differentiated    \n",
       "5 NA      NA            Breast Invasive Ductal Carcinoma\n",
       "6 NA      NA            Breast Invasive Ductal Carcinoma"
      ]
     },
     "metadata": {},
     "output_type": "display_data"
    }
   ],
   "source": [
    "# Add the data_category, data_format, and data_type\n",
    "# Remove files that are not fastq.gz or txt.gz, because there are a few in the middle here\n",
    "\n",
    "edited_hci_files <- edited_hci_files %>% mutate(\n",
    "    data_category = 'Raw Sequencing Data',\n",
    "    data_format = 'fastq.gz',\n",
    "    data_type = 'Raw Reads'\n",
    "    ) %>% filter((endsWith(edited_hci_files$file_name, 'gz')))\n",
    "\n",
    "nrow(edited_hci_files)\n",
    "head(edited_hci_files)"
   ]
  },
  {
   "cell_type": "code",
   "execution_count": 54,
   "id": "7028606e-0f9c-4bda-9b1b-dc0c95bc0d81",
   "metadata": {},
   "outputs": [],
   "source": [
    "# Export HCI only\n",
    "\n",
    "write_csv(edited_bcm_files, '2022-02-14_HCI_files_edited.csv')"
   ]
  },
  {
   "cell_type": "markdown",
   "id": "a2ab1b87-2a1f-4a62-ab6f-9341d2db1290",
   "metadata": {
    "tags": []
   },
   "source": [
    "### Clean MDACC\n",
    "These are pretty comprehensive."
   ]
  },
  {
   "cell_type": "code",
   "execution_count": 55,
   "id": "2f3a7cfc-9be4-41c5-bfb2-e39818cbd0d3",
   "metadata": {},
   "outputs": [
    {
     "data": {
      "text/html": [
       "418"
      ],
      "text/latex": [
       "418"
      ],
      "text/markdown": [
       "418"
      ],
      "text/plain": [
       "[1] 418"
      ]
     },
     "metadata": {},
     "output_type": "display_data"
    },
    {
     "data": {
      "text/html": [
       "<table class=\"dataframe\">\n",
       "<caption>A tibble: 6 × 29</caption>\n",
       "<thead>\n",
       "\t<tr><th scope=col>Index</th><th scope=col>contributor</th><th scope=col>file_name</th><th scope=col>patient_id</th><th scope=col>model_id</th><th scope=col>tumor_id</th><th scope=col>case_id</th><th scope=col>sample_id</th><th scope=col>sample_type</th><th scope=col>experimental_strategy</th><th scope=col>⋯</th><th scope=col>data_format</th><th scope=col>data_type</th><th scope=col>platform</th><th scope=col>is_ffpe</th><th scope=col>file_size</th><th scope=col>passage</th><th scope=col>disease_type</th><th scope=col>comment</th><th scope=col>investigation</th><th scope=col>disease_detail</th></tr>\n",
       "\t<tr><th scope=col>&lt;dbl&gt;</th><th scope=col>&lt;chr&gt;</th><th scope=col>&lt;chr&gt;</th><th scope=col>&lt;chr&gt;</th><th scope=col>&lt;chr&gt;</th><th scope=col>&lt;chr&gt;</th><th scope=col>&lt;chr&gt;</th><th scope=col>&lt;chr&gt;</th><th scope=col>&lt;chr&gt;</th><th scope=col>&lt;chr&gt;</th><th scope=col>⋯</th><th scope=col>&lt;chr&gt;</th><th scope=col>&lt;chr&gt;</th><th scope=col>&lt;chr&gt;</th><th scope=col>&lt;lgl&gt;</th><th scope=col>&lt;dbl&gt;</th><th scope=col>&lt;chr&gt;</th><th scope=col>&lt;chr&gt;</th><th scope=col>&lt;chr&gt;</th><th scope=col>&lt;lgl&gt;</th><th scope=col>&lt;chr&gt;</th></tr>\n",
       "</thead>\n",
       "<tbody>\n",
       "\t<tr><td>1100</td><td>MDACC</td><td>BFang-LungPDX-MS11DNA-TC211W.R1.fastq.gz</td><td>TC211</td><td>NA</td><td>NA</td><td>TC211</td><td>TC211W</td><td>Normal</td><td>WES</td><td>⋯</td><td>NA</td><td>NA</td><td>Illumina Hiseq</td><td>NA</td><td>NA</td><td>NA</td><td>Blood</td><td>NA</td><td>NA</td><td>Blood</td></tr>\n",
       "\t<tr><td>1101</td><td>MDACC</td><td>BFang-LungPDX-MS11DNA-TC211W.R2.fastq.gz</td><td>TC211</td><td>NA</td><td>NA</td><td>TC211</td><td>TC211W</td><td>Normal</td><td>WES</td><td>⋯</td><td>NA</td><td>NA</td><td>Illumina Hiseq</td><td>NA</td><td>NA</td><td>NA</td><td>Blood</td><td>NA</td><td>NA</td><td>Blood</td></tr>\n",
       "\t<tr><td>1102</td><td>MDACC</td><td>BFang-LungPDX-MS11DNA-TC219W.R1.fastq.gz</td><td>TC219</td><td>NA</td><td>NA</td><td>TC219</td><td>TC219W</td><td>Normal</td><td>WES</td><td>⋯</td><td>NA</td><td>NA</td><td>Illumina Hiseq</td><td>NA</td><td>NA</td><td>NA</td><td>Blood</td><td>NA</td><td>NA</td><td>Blood</td></tr>\n",
       "\t<tr><td>1103</td><td>MDACC</td><td>BFang-LungPDX-MS11DNA-TC219W.R2.fastq.gz</td><td>TC219</td><td>NA</td><td>NA</td><td>TC219</td><td>TC219W</td><td>Normal</td><td>WES</td><td>⋯</td><td>NA</td><td>NA</td><td>Illumina Hiseq</td><td>NA</td><td>NA</td><td>NA</td><td>Blood</td><td>NA</td><td>NA</td><td>Blood</td></tr>\n",
       "\t<tr><td>1104</td><td>MDACC</td><td>BFang-LungPDX-MS11DNA-TC223W.R1.fastq.gz</td><td>TC223</td><td>NA</td><td>NA</td><td>TC223</td><td>TC223W</td><td>Normal</td><td>WES</td><td>⋯</td><td>NA</td><td>NA</td><td>Illumina Hiseq</td><td>NA</td><td>NA</td><td>NA</td><td>Blood</td><td>NA</td><td>NA</td><td>Blood</td></tr>\n",
       "\t<tr><td>1105</td><td>MDACC</td><td>BFang-LungPDX-MS11DNA-TC223W.R2.fastq.gz</td><td>TC223</td><td>NA</td><td>NA</td><td>TC223</td><td>TC223W</td><td>Normal</td><td>WES</td><td>⋯</td><td>NA</td><td>NA</td><td>Illumina Hiseq</td><td>NA</td><td>NA</td><td>NA</td><td>Blood</td><td>NA</td><td>NA</td><td>Blood</td></tr>\n",
       "</tbody>\n",
       "</table>\n"
      ],
      "text/latex": [
       "A tibble: 6 × 29\n",
       "\\begin{tabular}{lllllllllllllllllllll}\n",
       " Index & contributor & file\\_name & patient\\_id & model\\_id & tumor\\_id & case\\_id & sample\\_id & sample\\_type & experimental\\_strategy & ⋯ & data\\_format & data\\_type & platform & is\\_ffpe & file\\_size & passage & disease\\_type & comment & investigation & disease\\_detail\\\\\n",
       " <dbl> & <chr> & <chr> & <chr> & <chr> & <chr> & <chr> & <chr> & <chr> & <chr> & ⋯ & <chr> & <chr> & <chr> & <lgl> & <dbl> & <chr> & <chr> & <chr> & <lgl> & <chr>\\\\\n",
       "\\hline\n",
       "\t 1100 & MDACC & BFang-LungPDX-MS11DNA-TC211W.R1.fastq.gz & TC211 & NA & NA & TC211 & TC211W & Normal & WES & ⋯ & NA & NA & Illumina Hiseq & NA & NA & NA & Blood & NA & NA & Blood\\\\\n",
       "\t 1101 & MDACC & BFang-LungPDX-MS11DNA-TC211W.R2.fastq.gz & TC211 & NA & NA & TC211 & TC211W & Normal & WES & ⋯ & NA & NA & Illumina Hiseq & NA & NA & NA & Blood & NA & NA & Blood\\\\\n",
       "\t 1102 & MDACC & BFang-LungPDX-MS11DNA-TC219W.R1.fastq.gz & TC219 & NA & NA & TC219 & TC219W & Normal & WES & ⋯ & NA & NA & Illumina Hiseq & NA & NA & NA & Blood & NA & NA & Blood\\\\\n",
       "\t 1103 & MDACC & BFang-LungPDX-MS11DNA-TC219W.R2.fastq.gz & TC219 & NA & NA & TC219 & TC219W & Normal & WES & ⋯ & NA & NA & Illumina Hiseq & NA & NA & NA & Blood & NA & NA & Blood\\\\\n",
       "\t 1104 & MDACC & BFang-LungPDX-MS11DNA-TC223W.R1.fastq.gz & TC223 & NA & NA & TC223 & TC223W & Normal & WES & ⋯ & NA & NA & Illumina Hiseq & NA & NA & NA & Blood & NA & NA & Blood\\\\\n",
       "\t 1105 & MDACC & BFang-LungPDX-MS11DNA-TC223W.R2.fastq.gz & TC223 & NA & NA & TC223 & TC223W & Normal & WES & ⋯ & NA & NA & Illumina Hiseq & NA & NA & NA & Blood & NA & NA & Blood\\\\\n",
       "\\end{tabular}\n"
      ],
      "text/markdown": [
       "\n",
       "A tibble: 6 × 29\n",
       "\n",
       "| Index &lt;dbl&gt; | contributor &lt;chr&gt; | file_name &lt;chr&gt; | patient_id &lt;chr&gt; | model_id &lt;chr&gt; | tumor_id &lt;chr&gt; | case_id &lt;chr&gt; | sample_id &lt;chr&gt; | sample_type &lt;chr&gt; | experimental_strategy &lt;chr&gt; | ⋯ ⋯ | data_format &lt;chr&gt; | data_type &lt;chr&gt; | platform &lt;chr&gt; | is_ffpe &lt;lgl&gt; | file_size &lt;dbl&gt; | passage &lt;chr&gt; | disease_type &lt;chr&gt; | comment &lt;chr&gt; | investigation &lt;lgl&gt; | disease_detail &lt;chr&gt; |\n",
       "|---|---|---|---|---|---|---|---|---|---|---|---|---|---|---|---|---|---|---|---|---|\n",
       "| 1100 | MDACC | BFang-LungPDX-MS11DNA-TC211W.R1.fastq.gz | TC211 | NA | NA | TC211 | TC211W | Normal | WES | ⋯ | NA | NA | Illumina Hiseq | NA | NA | NA | Blood | NA | NA | Blood |\n",
       "| 1101 | MDACC | BFang-LungPDX-MS11DNA-TC211W.R2.fastq.gz | TC211 | NA | NA | TC211 | TC211W | Normal | WES | ⋯ | NA | NA | Illumina Hiseq | NA | NA | NA | Blood | NA | NA | Blood |\n",
       "| 1102 | MDACC | BFang-LungPDX-MS11DNA-TC219W.R1.fastq.gz | TC219 | NA | NA | TC219 | TC219W | Normal | WES | ⋯ | NA | NA | Illumina Hiseq | NA | NA | NA | Blood | NA | NA | Blood |\n",
       "| 1103 | MDACC | BFang-LungPDX-MS11DNA-TC219W.R2.fastq.gz | TC219 | NA | NA | TC219 | TC219W | Normal | WES | ⋯ | NA | NA | Illumina Hiseq | NA | NA | NA | Blood | NA | NA | Blood |\n",
       "| 1104 | MDACC | BFang-LungPDX-MS11DNA-TC223W.R1.fastq.gz | TC223 | NA | NA | TC223 | TC223W | Normal | WES | ⋯ | NA | NA | Illumina Hiseq | NA | NA | NA | Blood | NA | NA | Blood |\n",
       "| 1105 | MDACC | BFang-LungPDX-MS11DNA-TC223W.R2.fastq.gz | TC223 | NA | NA | TC223 | TC223W | Normal | WES | ⋯ | NA | NA | Illumina Hiseq | NA | NA | NA | Blood | NA | NA | Blood |\n",
       "\n"
      ],
      "text/plain": [
       "  Index contributor file_name                                patient_id\n",
       "1 1100  MDACC       BFang-LungPDX-MS11DNA-TC211W.R1.fastq.gz TC211     \n",
       "2 1101  MDACC       BFang-LungPDX-MS11DNA-TC211W.R2.fastq.gz TC211     \n",
       "3 1102  MDACC       BFang-LungPDX-MS11DNA-TC219W.R1.fastq.gz TC219     \n",
       "4 1103  MDACC       BFang-LungPDX-MS11DNA-TC219W.R2.fastq.gz TC219     \n",
       "5 1104  MDACC       BFang-LungPDX-MS11DNA-TC223W.R1.fastq.gz TC223     \n",
       "6 1105  MDACC       BFang-LungPDX-MS11DNA-TC223W.R2.fastq.gz TC223     \n",
       "  model_id tumor_id case_id sample_id sample_type experimental_strategy ⋯\n",
       "1 NA       NA       TC211   TC211W    Normal      WES                   ⋯\n",
       "2 NA       NA       TC211   TC211W    Normal      WES                   ⋯\n",
       "3 NA       NA       TC219   TC219W    Normal      WES                   ⋯\n",
       "4 NA       NA       TC219   TC219W    Normal      WES                   ⋯\n",
       "5 NA       NA       TC223   TC223W    Normal      WES                   ⋯\n",
       "6 NA       NA       TC223   TC223W    Normal      WES                   ⋯\n",
       "  data_format data_type platform       is_ffpe file_size passage disease_type\n",
       "1 NA          NA        Illumina Hiseq NA      NA        NA      Blood       \n",
       "2 NA          NA        Illumina Hiseq NA      NA        NA      Blood       \n",
       "3 NA          NA        Illumina Hiseq NA      NA        NA      Blood       \n",
       "4 NA          NA        Illumina Hiseq NA      NA        NA      Blood       \n",
       "5 NA          NA        Illumina Hiseq NA      NA        NA      Blood       \n",
       "6 NA          NA        Illumina Hiseq NA      NA        NA      Blood       \n",
       "  comment investigation disease_detail\n",
       "1 NA      NA            Blood         \n",
       "2 NA      NA            Blood         \n",
       "3 NA      NA            Blood         \n",
       "4 NA      NA            Blood         \n",
       "5 NA      NA            Blood         \n",
       "6 NA      NA            Blood         "
      ]
     },
     "metadata": {},
     "output_type": "display_data"
    },
    {
     "data": {
      "text/html": [
       "<style>\n",
       ".list-inline {list-style: none; margin:0; padding: 0}\n",
       ".list-inline>li {display: inline-block}\n",
       ".list-inline>li:not(:last-child)::after {content: \"\\00b7\"; padding: 0 .5ex}\n",
       "</style>\n",
       "<ol class=list-inline><li>'Index'</li><li>'contributor'</li><li>'file_name'</li><li>'patient_id'</li><li>'model_id'</li><li>'tumor_id'</li><li>'case_id'</li><li>'sample_id'</li><li>'sample_type'</li><li>'experimental_strategy'</li><li>'gender'</li><li>'paired_end'</li><li>'capture_kit'</li><li>'capture_assembly'</li><li>'availability'</li><li>'public'</li><li>'access_level'</li><li>'created_datetime'</li><li>'data_category'</li><li>'data_format'</li><li>'data_type'</li><li>'platform'</li><li>'is_ffpe'</li><li>'file_size'</li><li>'passage'</li><li>'disease_type'</li><li>'comment'</li><li>'investigation'</li><li>'disease_detail'</li></ol>\n"
      ],
      "text/latex": [
       "\\begin{enumerate*}\n",
       "\\item 'Index'\n",
       "\\item 'contributor'\n",
       "\\item 'file\\_name'\n",
       "\\item 'patient\\_id'\n",
       "\\item 'model\\_id'\n",
       "\\item 'tumor\\_id'\n",
       "\\item 'case\\_id'\n",
       "\\item 'sample\\_id'\n",
       "\\item 'sample\\_type'\n",
       "\\item 'experimental\\_strategy'\n",
       "\\item 'gender'\n",
       "\\item 'paired\\_end'\n",
       "\\item 'capture\\_kit'\n",
       "\\item 'capture\\_assembly'\n",
       "\\item 'availability'\n",
       "\\item 'public'\n",
       "\\item 'access\\_level'\n",
       "\\item 'created\\_datetime'\n",
       "\\item 'data\\_category'\n",
       "\\item 'data\\_format'\n",
       "\\item 'data\\_type'\n",
       "\\item 'platform'\n",
       "\\item 'is\\_ffpe'\n",
       "\\item 'file\\_size'\n",
       "\\item 'passage'\n",
       "\\item 'disease\\_type'\n",
       "\\item 'comment'\n",
       "\\item 'investigation'\n",
       "\\item 'disease\\_detail'\n",
       "\\end{enumerate*}\n"
      ],
      "text/markdown": [
       "1. 'Index'\n",
       "2. 'contributor'\n",
       "3. 'file_name'\n",
       "4. 'patient_id'\n",
       "5. 'model_id'\n",
       "6. 'tumor_id'\n",
       "7. 'case_id'\n",
       "8. 'sample_id'\n",
       "9. 'sample_type'\n",
       "10. 'experimental_strategy'\n",
       "11. 'gender'\n",
       "12. 'paired_end'\n",
       "13. 'capture_kit'\n",
       "14. 'capture_assembly'\n",
       "15. 'availability'\n",
       "16. 'public'\n",
       "17. 'access_level'\n",
       "18. 'created_datetime'\n",
       "19. 'data_category'\n",
       "20. 'data_format'\n",
       "21. 'data_type'\n",
       "22. 'platform'\n",
       "23. 'is_ffpe'\n",
       "24. 'file_size'\n",
       "25. 'passage'\n",
       "26. 'disease_type'\n",
       "27. 'comment'\n",
       "28. 'investigation'\n",
       "29. 'disease_detail'\n",
       "\n",
       "\n"
      ],
      "text/plain": [
       " [1] \"Index\"                 \"contributor\"           \"file_name\"            \n",
       " [4] \"patient_id\"            \"model_id\"              \"tumor_id\"             \n",
       " [7] \"case_id\"               \"sample_id\"             \"sample_type\"          \n",
       "[10] \"experimental_strategy\" \"gender\"                \"paired_end\"           \n",
       "[13] \"capture_kit\"           \"capture_assembly\"      \"availability\"         \n",
       "[16] \"public\"                \"access_level\"          \"created_datetime\"     \n",
       "[19] \"data_category\"         \"data_format\"           \"data_type\"            \n",
       "[22] \"platform\"              \"is_ffpe\"               \"file_size\"            \n",
       "[25] \"passage\"               \"disease_type\"          \"comment\"              \n",
       "[28] \"investigation\"         \"disease_detail\"       "
      ]
     },
     "metadata": {},
     "output_type": "display_data"
    }
   ],
   "source": [
    "edited_pdtc_files_by_contributor[['MDACC']] %>% nrow()\n",
    "edited_pdtc_files_by_contributor[['MDACC']] %>% head()\n",
    "colnames(edited_pdtc_files_by_contributor[['MDACC']])"
   ]
  },
  {
   "cell_type": "code",
   "execution_count": 56,
   "id": "dc6520b4-4938-4fc7-940f-93a25d29234d",
   "metadata": {},
   "outputs": [
    {
     "data": {
      "text/html": [
       "<table class=\"dataframe\">\n",
       "<caption>A data.frame: 29 × 1</caption>\n",
       "<thead>\n",
       "\t<tr><th></th><th scope=col>.</th></tr>\n",
       "\t<tr><th></th><th scope=col>&lt;dbl&gt;</th></tr>\n",
       "</thead>\n",
       "<tbody>\n",
       "\t<tr><th scope=row>Index</th><td>  0</td></tr>\n",
       "\t<tr><th scope=row>contributor</th><td>  0</td></tr>\n",
       "\t<tr><th scope=row>file_name</th><td>  0</td></tr>\n",
       "\t<tr><th scope=row>patient_id</th><td> 12</td></tr>\n",
       "\t<tr><th scope=row>model_id</th><td>264</td></tr>\n",
       "\t<tr><th scope=row>tumor_id</th><td>418</td></tr>\n",
       "\t<tr><th scope=row>case_id</th><td> 12</td></tr>\n",
       "\t<tr><th scope=row>sample_id</th><td>  0</td></tr>\n",
       "\t<tr><th scope=row>sample_type</th><td>  0</td></tr>\n",
       "\t<tr><th scope=row>experimental_strategy</th><td>  0</td></tr>\n",
       "\t<tr><th scope=row>gender</th><td> 12</td></tr>\n",
       "\t<tr><th scope=row>paired_end</th><td>  0</td></tr>\n",
       "\t<tr><th scope=row>capture_kit</th><td>  0</td></tr>\n",
       "\t<tr><th scope=row>capture_assembly</th><td> 12</td></tr>\n",
       "\t<tr><th scope=row>availability</th><td>  0</td></tr>\n",
       "\t<tr><th scope=row>public</th><td>  0</td></tr>\n",
       "\t<tr><th scope=row>access_level</th><td>406</td></tr>\n",
       "\t<tr><th scope=row>created_datetime</th><td>418</td></tr>\n",
       "\t<tr><th scope=row>data_category</th><td>406</td></tr>\n",
       "\t<tr><th scope=row>data_format</th><td>406</td></tr>\n",
       "\t<tr><th scope=row>data_type</th><td>406</td></tr>\n",
       "\t<tr><th scope=row>platform</th><td>  0</td></tr>\n",
       "\t<tr><th scope=row>is_ffpe</th><td>418</td></tr>\n",
       "\t<tr><th scope=row>file_size</th><td>418</td></tr>\n",
       "\t<tr><th scope=row>passage</th><td>272</td></tr>\n",
       "\t<tr><th scope=row>disease_type</th><td> 12</td></tr>\n",
       "\t<tr><th scope=row>comment</th><td>404</td></tr>\n",
       "\t<tr><th scope=row>investigation</th><td>418</td></tr>\n",
       "\t<tr><th scope=row>disease_detail</th><td> 12</td></tr>\n",
       "</tbody>\n",
       "</table>\n"
      ],
      "text/latex": [
       "A data.frame: 29 × 1\n",
       "\\begin{tabular}{r|l}\n",
       "  & .\\\\\n",
       "  & <dbl>\\\\\n",
       "\\hline\n",
       "\tIndex &   0\\\\\n",
       "\tcontributor &   0\\\\\n",
       "\tfile\\_name &   0\\\\\n",
       "\tpatient\\_id &  12\\\\\n",
       "\tmodel\\_id & 264\\\\\n",
       "\ttumor\\_id & 418\\\\\n",
       "\tcase\\_id &  12\\\\\n",
       "\tsample\\_id &   0\\\\\n",
       "\tsample\\_type &   0\\\\\n",
       "\texperimental\\_strategy &   0\\\\\n",
       "\tgender &  12\\\\\n",
       "\tpaired\\_end &   0\\\\\n",
       "\tcapture\\_kit &   0\\\\\n",
       "\tcapture\\_assembly &  12\\\\\n",
       "\tavailability &   0\\\\\n",
       "\tpublic &   0\\\\\n",
       "\taccess\\_level & 406\\\\\n",
       "\tcreated\\_datetime & 418\\\\\n",
       "\tdata\\_category & 406\\\\\n",
       "\tdata\\_format & 406\\\\\n",
       "\tdata\\_type & 406\\\\\n",
       "\tplatform &   0\\\\\n",
       "\tis\\_ffpe & 418\\\\\n",
       "\tfile\\_size & 418\\\\\n",
       "\tpassage & 272\\\\\n",
       "\tdisease\\_type &  12\\\\\n",
       "\tcomment & 404\\\\\n",
       "\tinvestigation & 418\\\\\n",
       "\tdisease\\_detail &  12\\\\\n",
       "\\end{tabular}\n"
      ],
      "text/markdown": [
       "\n",
       "A data.frame: 29 × 1\n",
       "\n",
       "| <!--/--> | . &lt;dbl&gt; |\n",
       "|---|---|\n",
       "| Index |   0 |\n",
       "| contributor |   0 |\n",
       "| file_name |   0 |\n",
       "| patient_id |  12 |\n",
       "| model_id | 264 |\n",
       "| tumor_id | 418 |\n",
       "| case_id |  12 |\n",
       "| sample_id |   0 |\n",
       "| sample_type |   0 |\n",
       "| experimental_strategy |   0 |\n",
       "| gender |  12 |\n",
       "| paired_end |   0 |\n",
       "| capture_kit |   0 |\n",
       "| capture_assembly |  12 |\n",
       "| availability |   0 |\n",
       "| public |   0 |\n",
       "| access_level | 406 |\n",
       "| created_datetime | 418 |\n",
       "| data_category | 406 |\n",
       "| data_format | 406 |\n",
       "| data_type | 406 |\n",
       "| platform |   0 |\n",
       "| is_ffpe | 418 |\n",
       "| file_size | 418 |\n",
       "| passage | 272 |\n",
       "| disease_type |  12 |\n",
       "| comment | 404 |\n",
       "| investigation | 418 |\n",
       "| disease_detail |  12 |\n",
       "\n"
      ],
      "text/plain": [
       "                      .  \n",
       "Index                   0\n",
       "contributor             0\n",
       "file_name               0\n",
       "patient_id             12\n",
       "model_id              264\n",
       "tumor_id              418\n",
       "case_id                12\n",
       "sample_id               0\n",
       "sample_type             0\n",
       "experimental_strategy   0\n",
       "gender                 12\n",
       "paired_end              0\n",
       "capture_kit             0\n",
       "capture_assembly       12\n",
       "availability            0\n",
       "public                  0\n",
       "access_level          406\n",
       "created_datetime      418\n",
       "data_category         406\n",
       "data_format           406\n",
       "data_type             406\n",
       "platform                0\n",
       "is_ffpe               418\n",
       "file_size             418\n",
       "passage               272\n",
       "disease_type           12\n",
       "comment               404\n",
       "investigation         418\n",
       "disease_detail         12"
      ]
     },
     "metadata": {},
     "output_type": "display_data"
    }
   ],
   "source": [
    "# How many NAs are there for the most important columns?\n",
    "\n",
    "colSums((is.na(edited_pdtc_files_by_contributor[['MDACC']]) | (edited_pdtc_files_by_contributor[['MDACC']] == 'Unknown') | (edited_pdtc_files_by_contributor[['MDACC']] == '?'))) %>% as.data.frame()"
   ]
  },
  {
   "cell_type": "code",
   "execution_count": 57,
   "id": "3492d885-4a99-4366-8f6e-fe8dbd2f0d6a",
   "metadata": {},
   "outputs": [
    {
     "data": {
      "text/html": [
       "FALSE"
      ],
      "text/latex": [
       "FALSE"
      ],
      "text/markdown": [
       "FALSE"
      ],
      "text/plain": [
       "[1] FALSE"
      ]
     },
     "metadata": {},
     "output_type": "display_data"
    }
   ],
   "source": [
    "# How many of patient_id\tmodel_id\ttumor_id\tcase_id are in the models information?\n",
    "\n",
    "any(c(edited_pdtc_files_by_contributor[['MDACC']]$patient_id, edited_pdtc_files_by_contributor[['MDACC']]$model_id, edited_pdtc_files_by_contributor[['MDACC']]$tumor_id, edited_pdtc_files_by_contributor[['MDACC']]$case_id) %in% pdtc_models_cleaned$ContributorPDX.ID)"
   ]
  },
  {
   "cell_type": "markdown",
   "id": "545c660f-63dc-4600-905a-ddf3e0e9f9f6",
   "metadata": {},
   "source": [
    "None of these are present in the models information.\n",
    "\n",
    "All I can do here is fill in some general things like the data_category, data_format, and data_type."
   ]
  },
  {
   "cell_type": "code",
   "execution_count": 58,
   "id": "47fd613e-9046-47d4-a905-5528198b2544",
   "metadata": {},
   "outputs": [
    {
     "data": {
      "text/html": [
       "418"
      ],
      "text/latex": [
       "418"
      ],
      "text/markdown": [
       "418"
      ],
      "text/plain": [
       "[1] 418"
      ]
     },
     "metadata": {},
     "output_type": "display_data"
    },
    {
     "data": {
      "text/html": [
       "<table class=\"dataframe\">\n",
       "<caption>A tibble: 6 × 29</caption>\n",
       "<thead>\n",
       "\t<tr><th scope=col>Index</th><th scope=col>contributor</th><th scope=col>file_name</th><th scope=col>patient_id</th><th scope=col>model_id</th><th scope=col>tumor_id</th><th scope=col>case_id</th><th scope=col>sample_id</th><th scope=col>sample_type</th><th scope=col>experimental_strategy</th><th scope=col>⋯</th><th scope=col>data_format</th><th scope=col>data_type</th><th scope=col>platform</th><th scope=col>is_ffpe</th><th scope=col>file_size</th><th scope=col>passage</th><th scope=col>disease_type</th><th scope=col>comment</th><th scope=col>investigation</th><th scope=col>disease_detail</th></tr>\n",
       "\t<tr><th scope=col>&lt;dbl&gt;</th><th scope=col>&lt;chr&gt;</th><th scope=col>&lt;chr&gt;</th><th scope=col>&lt;chr&gt;</th><th scope=col>&lt;chr&gt;</th><th scope=col>&lt;chr&gt;</th><th scope=col>&lt;chr&gt;</th><th scope=col>&lt;chr&gt;</th><th scope=col>&lt;chr&gt;</th><th scope=col>&lt;chr&gt;</th><th scope=col>⋯</th><th scope=col>&lt;chr&gt;</th><th scope=col>&lt;chr&gt;</th><th scope=col>&lt;chr&gt;</th><th scope=col>&lt;lgl&gt;</th><th scope=col>&lt;dbl&gt;</th><th scope=col>&lt;chr&gt;</th><th scope=col>&lt;chr&gt;</th><th scope=col>&lt;chr&gt;</th><th scope=col>&lt;lgl&gt;</th><th scope=col>&lt;chr&gt;</th></tr>\n",
       "</thead>\n",
       "<tbody>\n",
       "\t<tr><td>1100</td><td>MDACC</td><td>BFang-LungPDX-MS11DNA-TC211W.R1.fastq.gz</td><td>TC211</td><td>NA</td><td>NA</td><td>TC211</td><td>TC211W</td><td>Normal</td><td>WES</td><td>⋯</td><td>fastq.gz</td><td>Raw Reads</td><td>Illumina Hiseq</td><td>NA</td><td>NA</td><td>NA</td><td>Blood</td><td>NA</td><td>NA</td><td>Blood</td></tr>\n",
       "\t<tr><td>1101</td><td>MDACC</td><td>BFang-LungPDX-MS11DNA-TC211W.R2.fastq.gz</td><td>TC211</td><td>NA</td><td>NA</td><td>TC211</td><td>TC211W</td><td>Normal</td><td>WES</td><td>⋯</td><td>fastq.gz</td><td>Raw Reads</td><td>Illumina Hiseq</td><td>NA</td><td>NA</td><td>NA</td><td>Blood</td><td>NA</td><td>NA</td><td>Blood</td></tr>\n",
       "\t<tr><td>1102</td><td>MDACC</td><td>BFang-LungPDX-MS11DNA-TC219W.R1.fastq.gz</td><td>TC219</td><td>NA</td><td>NA</td><td>TC219</td><td>TC219W</td><td>Normal</td><td>WES</td><td>⋯</td><td>fastq.gz</td><td>Raw Reads</td><td>Illumina Hiseq</td><td>NA</td><td>NA</td><td>NA</td><td>Blood</td><td>NA</td><td>NA</td><td>Blood</td></tr>\n",
       "\t<tr><td>1103</td><td>MDACC</td><td>BFang-LungPDX-MS11DNA-TC219W.R2.fastq.gz</td><td>TC219</td><td>NA</td><td>NA</td><td>TC219</td><td>TC219W</td><td>Normal</td><td>WES</td><td>⋯</td><td>fastq.gz</td><td>Raw Reads</td><td>Illumina Hiseq</td><td>NA</td><td>NA</td><td>NA</td><td>Blood</td><td>NA</td><td>NA</td><td>Blood</td></tr>\n",
       "\t<tr><td>1104</td><td>MDACC</td><td>BFang-LungPDX-MS11DNA-TC223W.R1.fastq.gz</td><td>TC223</td><td>NA</td><td>NA</td><td>TC223</td><td>TC223W</td><td>Normal</td><td>WES</td><td>⋯</td><td>fastq.gz</td><td>Raw Reads</td><td>Illumina Hiseq</td><td>NA</td><td>NA</td><td>NA</td><td>Blood</td><td>NA</td><td>NA</td><td>Blood</td></tr>\n",
       "\t<tr><td>1105</td><td>MDACC</td><td>BFang-LungPDX-MS11DNA-TC223W.R2.fastq.gz</td><td>TC223</td><td>NA</td><td>NA</td><td>TC223</td><td>TC223W</td><td>Normal</td><td>WES</td><td>⋯</td><td>fastq.gz</td><td>Raw Reads</td><td>Illumina Hiseq</td><td>NA</td><td>NA</td><td>NA</td><td>Blood</td><td>NA</td><td>NA</td><td>Blood</td></tr>\n",
       "</tbody>\n",
       "</table>\n"
      ],
      "text/latex": [
       "A tibble: 6 × 29\n",
       "\\begin{tabular}{lllllllllllllllllllll}\n",
       " Index & contributor & file\\_name & patient\\_id & model\\_id & tumor\\_id & case\\_id & sample\\_id & sample\\_type & experimental\\_strategy & ⋯ & data\\_format & data\\_type & platform & is\\_ffpe & file\\_size & passage & disease\\_type & comment & investigation & disease\\_detail\\\\\n",
       " <dbl> & <chr> & <chr> & <chr> & <chr> & <chr> & <chr> & <chr> & <chr> & <chr> & ⋯ & <chr> & <chr> & <chr> & <lgl> & <dbl> & <chr> & <chr> & <chr> & <lgl> & <chr>\\\\\n",
       "\\hline\n",
       "\t 1100 & MDACC & BFang-LungPDX-MS11DNA-TC211W.R1.fastq.gz & TC211 & NA & NA & TC211 & TC211W & Normal & WES & ⋯ & fastq.gz & Raw Reads & Illumina Hiseq & NA & NA & NA & Blood & NA & NA & Blood\\\\\n",
       "\t 1101 & MDACC & BFang-LungPDX-MS11DNA-TC211W.R2.fastq.gz & TC211 & NA & NA & TC211 & TC211W & Normal & WES & ⋯ & fastq.gz & Raw Reads & Illumina Hiseq & NA & NA & NA & Blood & NA & NA & Blood\\\\\n",
       "\t 1102 & MDACC & BFang-LungPDX-MS11DNA-TC219W.R1.fastq.gz & TC219 & NA & NA & TC219 & TC219W & Normal & WES & ⋯ & fastq.gz & Raw Reads & Illumina Hiseq & NA & NA & NA & Blood & NA & NA & Blood\\\\\n",
       "\t 1103 & MDACC & BFang-LungPDX-MS11DNA-TC219W.R2.fastq.gz & TC219 & NA & NA & TC219 & TC219W & Normal & WES & ⋯ & fastq.gz & Raw Reads & Illumina Hiseq & NA & NA & NA & Blood & NA & NA & Blood\\\\\n",
       "\t 1104 & MDACC & BFang-LungPDX-MS11DNA-TC223W.R1.fastq.gz & TC223 & NA & NA & TC223 & TC223W & Normal & WES & ⋯ & fastq.gz & Raw Reads & Illumina Hiseq & NA & NA & NA & Blood & NA & NA & Blood\\\\\n",
       "\t 1105 & MDACC & BFang-LungPDX-MS11DNA-TC223W.R2.fastq.gz & TC223 & NA & NA & TC223 & TC223W & Normal & WES & ⋯ & fastq.gz & Raw Reads & Illumina Hiseq & NA & NA & NA & Blood & NA & NA & Blood\\\\\n",
       "\\end{tabular}\n"
      ],
      "text/markdown": [
       "\n",
       "A tibble: 6 × 29\n",
       "\n",
       "| Index &lt;dbl&gt; | contributor &lt;chr&gt; | file_name &lt;chr&gt; | patient_id &lt;chr&gt; | model_id &lt;chr&gt; | tumor_id &lt;chr&gt; | case_id &lt;chr&gt; | sample_id &lt;chr&gt; | sample_type &lt;chr&gt; | experimental_strategy &lt;chr&gt; | ⋯ ⋯ | data_format &lt;chr&gt; | data_type &lt;chr&gt; | platform &lt;chr&gt; | is_ffpe &lt;lgl&gt; | file_size &lt;dbl&gt; | passage &lt;chr&gt; | disease_type &lt;chr&gt; | comment &lt;chr&gt; | investigation &lt;lgl&gt; | disease_detail &lt;chr&gt; |\n",
       "|---|---|---|---|---|---|---|---|---|---|---|---|---|---|---|---|---|---|---|---|---|\n",
       "| 1100 | MDACC | BFang-LungPDX-MS11DNA-TC211W.R1.fastq.gz | TC211 | NA | NA | TC211 | TC211W | Normal | WES | ⋯ | fastq.gz | Raw Reads | Illumina Hiseq | NA | NA | NA | Blood | NA | NA | Blood |\n",
       "| 1101 | MDACC | BFang-LungPDX-MS11DNA-TC211W.R2.fastq.gz | TC211 | NA | NA | TC211 | TC211W | Normal | WES | ⋯ | fastq.gz | Raw Reads | Illumina Hiseq | NA | NA | NA | Blood | NA | NA | Blood |\n",
       "| 1102 | MDACC | BFang-LungPDX-MS11DNA-TC219W.R1.fastq.gz | TC219 | NA | NA | TC219 | TC219W | Normal | WES | ⋯ | fastq.gz | Raw Reads | Illumina Hiseq | NA | NA | NA | Blood | NA | NA | Blood |\n",
       "| 1103 | MDACC | BFang-LungPDX-MS11DNA-TC219W.R2.fastq.gz | TC219 | NA | NA | TC219 | TC219W | Normal | WES | ⋯ | fastq.gz | Raw Reads | Illumina Hiseq | NA | NA | NA | Blood | NA | NA | Blood |\n",
       "| 1104 | MDACC | BFang-LungPDX-MS11DNA-TC223W.R1.fastq.gz | TC223 | NA | NA | TC223 | TC223W | Normal | WES | ⋯ | fastq.gz | Raw Reads | Illumina Hiseq | NA | NA | NA | Blood | NA | NA | Blood |\n",
       "| 1105 | MDACC | BFang-LungPDX-MS11DNA-TC223W.R2.fastq.gz | TC223 | NA | NA | TC223 | TC223W | Normal | WES | ⋯ | fastq.gz | Raw Reads | Illumina Hiseq | NA | NA | NA | Blood | NA | NA | Blood |\n",
       "\n"
      ],
      "text/plain": [
       "  Index contributor file_name                                patient_id\n",
       "1 1100  MDACC       BFang-LungPDX-MS11DNA-TC211W.R1.fastq.gz TC211     \n",
       "2 1101  MDACC       BFang-LungPDX-MS11DNA-TC211W.R2.fastq.gz TC211     \n",
       "3 1102  MDACC       BFang-LungPDX-MS11DNA-TC219W.R1.fastq.gz TC219     \n",
       "4 1103  MDACC       BFang-LungPDX-MS11DNA-TC219W.R2.fastq.gz TC219     \n",
       "5 1104  MDACC       BFang-LungPDX-MS11DNA-TC223W.R1.fastq.gz TC223     \n",
       "6 1105  MDACC       BFang-LungPDX-MS11DNA-TC223W.R2.fastq.gz TC223     \n",
       "  model_id tumor_id case_id sample_id sample_type experimental_strategy ⋯\n",
       "1 NA       NA       TC211   TC211W    Normal      WES                   ⋯\n",
       "2 NA       NA       TC211   TC211W    Normal      WES                   ⋯\n",
       "3 NA       NA       TC219   TC219W    Normal      WES                   ⋯\n",
       "4 NA       NA       TC219   TC219W    Normal      WES                   ⋯\n",
       "5 NA       NA       TC223   TC223W    Normal      WES                   ⋯\n",
       "6 NA       NA       TC223   TC223W    Normal      WES                   ⋯\n",
       "  data_format data_type platform       is_ffpe file_size passage disease_type\n",
       "1 fastq.gz    Raw Reads Illumina Hiseq NA      NA        NA      Blood       \n",
       "2 fastq.gz    Raw Reads Illumina Hiseq NA      NA        NA      Blood       \n",
       "3 fastq.gz    Raw Reads Illumina Hiseq NA      NA        NA      Blood       \n",
       "4 fastq.gz    Raw Reads Illumina Hiseq NA      NA        NA      Blood       \n",
       "5 fastq.gz    Raw Reads Illumina Hiseq NA      NA        NA      Blood       \n",
       "6 fastq.gz    Raw Reads Illumina Hiseq NA      NA        NA      Blood       \n",
       "  comment investigation disease_detail\n",
       "1 NA      NA            Blood         \n",
       "2 NA      NA            Blood         \n",
       "3 NA      NA            Blood         \n",
       "4 NA      NA            Blood         \n",
       "5 NA      NA            Blood         \n",
       "6 NA      NA            Blood         "
      ]
     },
     "metadata": {},
     "output_type": "display_data"
    }
   ],
   "source": [
    "# Add some of the missing metadata in\n",
    "\n",
    "edited_mdacc_files <- edited_pdtc_files_by_contributor[['MDACC']] %>%\n",
    "    mutate(data_category = 'Raw Sequencing Data',\n",
    "           data_format = 'fastq.gz',\n",
    "           data_type = 'Raw Reads'\n",
    "           )\n",
    "\n",
    "nrow(edited_mdacc_files)\n",
    "head(edited_mdacc_files)"
   ]
  },
  {
   "cell_type": "code",
   "execution_count": 59,
   "id": "86b05c8e-7490-4b92-9d83-8af23190629c",
   "metadata": {},
   "outputs": [],
   "source": [
    "# Export MDACC only\n",
    "\n",
    "write_csv(edited_mdacc_files, '2022-02-14_MDACC_files_edited.csv')"
   ]
  },
  {
   "cell_type": "markdown",
   "id": "1b6dfb4e-2c1f-408f-8e2b-9b018b6a3f90",
   "metadata": {
    "tags": []
   },
   "source": [
    "### Work on UC Davis"
   ]
  },
  {
   "cell_type": "code",
   "execution_count": 60,
   "id": "c527368a-95ab-40a0-ab65-eede4c39d013",
   "metadata": {},
   "outputs": [
    {
     "data": {
      "text/html": [
       "48"
      ],
      "text/latex": [
       "48"
      ],
      "text/markdown": [
       "48"
      ],
      "text/plain": [
       "[1] 48"
      ]
     },
     "metadata": {},
     "output_type": "display_data"
    },
    {
     "data": {
      "text/html": [
       "<table class=\"dataframe\">\n",
       "<caption>A tibble: 6 × 29</caption>\n",
       "<thead>\n",
       "\t<tr><th scope=col>Index</th><th scope=col>contributor</th><th scope=col>file_name</th><th scope=col>patient_id</th><th scope=col>model_id</th><th scope=col>tumor_id</th><th scope=col>case_id</th><th scope=col>sample_id</th><th scope=col>sample_type</th><th scope=col>experimental_strategy</th><th scope=col>⋯</th><th scope=col>data_format</th><th scope=col>data_type</th><th scope=col>platform</th><th scope=col>is_ffpe</th><th scope=col>file_size</th><th scope=col>passage</th><th scope=col>disease_type</th><th scope=col>comment</th><th scope=col>investigation</th><th scope=col>disease_detail</th></tr>\n",
       "\t<tr><th scope=col>&lt;dbl&gt;</th><th scope=col>&lt;chr&gt;</th><th scope=col>&lt;chr&gt;</th><th scope=col>&lt;chr&gt;</th><th scope=col>&lt;chr&gt;</th><th scope=col>&lt;chr&gt;</th><th scope=col>&lt;chr&gt;</th><th scope=col>&lt;chr&gt;</th><th scope=col>&lt;chr&gt;</th><th scope=col>&lt;chr&gt;</th><th scope=col>⋯</th><th scope=col>&lt;chr&gt;</th><th scope=col>&lt;chr&gt;</th><th scope=col>&lt;chr&gt;</th><th scope=col>&lt;lgl&gt;</th><th scope=col>&lt;dbl&gt;</th><th scope=col>&lt;chr&gt;</th><th scope=col>&lt;chr&gt;</th><th scope=col>&lt;chr&gt;</th><th scope=col>&lt;lgl&gt;</th><th scope=col>&lt;chr&gt;</th></tr>\n",
       "</thead>\n",
       "<tbody>\n",
       "\t<tr><td>1518</td><td>UC Davis</td><td>BL0269F404_P0_GES10_166_ATCACG_L004_R1_ALL.fastq   </td><td>BL0269F</td><td>BL0269F</td><td>BL0269F</td><td>BL0269F</td><td>BL0269F</td><td>Tumor</td><td>RNA-Seq</td><td>⋯</td><td>fastq</td><td>raw data</td><td>Illumina</td><td>NA</td><td>NA</td><td>P0</td><td>Bladder</td><td>NA</td><td>NA</td><td>bladder urothelial carcinoma</td></tr>\n",
       "\t<tr><td>1519</td><td>UC Davis</td><td>BL0269F404_P0_GES10_166_ATCACG_L004_R2_ALL.fastq   </td><td>BL0269F</td><td>BL0269F</td><td>BL0269F</td><td>BL0269F</td><td>BL0269F</td><td>Tumor</td><td>RNA-Seq</td><td>⋯</td><td>fastq</td><td>raw data</td><td>Illumina</td><td>NA</td><td>NA</td><td>P0</td><td>Bladder</td><td>NA</td><td>NA</td><td>bladder urothelial carcinoma</td></tr>\n",
       "\t<tr><td>1520</td><td>UC Davis</td><td>BL0269F404_P0_GES10_166_ATCACG_L005_R1_ALL.fastq   </td><td>BL0269F</td><td>BL0269F</td><td>BL0269F</td><td>BL0269F</td><td>BL0269F</td><td>Tumor</td><td>RNA-Seq</td><td>⋯</td><td>fastq</td><td>raw data</td><td>Illumina</td><td>NA</td><td>NA</td><td>P0</td><td>Bladder</td><td>NA</td><td>NA</td><td>bladder urothelial carcinoma</td></tr>\n",
       "\t<tr><td>1521</td><td>UC Davis</td><td>BL0269F404_P0_GES10_166_ATCACG_L005_R2_ALL.fastq   </td><td>BL0269F</td><td>BL0269F</td><td>BL0269F</td><td>BL0269F</td><td>BL0269F</td><td>Tumor</td><td>RNA-Seq</td><td>⋯</td><td>fastq</td><td>raw data</td><td>Illumina</td><td>NA</td><td>NA</td><td>P0</td><td>Bladder</td><td>NA</td><td>NA</td><td>bladder urothelial carcinoma</td></tr>\n",
       "\t<tr><td>1522</td><td>UC Davis</td><td>BL0269F404P0_ATCACG_AC1FCKACXX_L003_001.R1.fastq.gz</td><td>BL0269F</td><td>BL0269F</td><td>BL0269F</td><td>BL0269F</td><td>BL0269F</td><td>Tumor</td><td>WES    </td><td>⋯</td><td>fastq</td><td>raw data</td><td>Illumina</td><td>NA</td><td>NA</td><td>P0</td><td>Bladder</td><td>NA</td><td>NA</td><td>bladder urothelial carcinoma</td></tr>\n",
       "\t<tr><td>1523</td><td>UC Davis</td><td>BL0269F404P0_ATCACG_AC1FCKACXX_L003_001.R2.fastq.gz</td><td>BL0269F</td><td>BL0269F</td><td>BL0269F</td><td>BL0269F</td><td>BL0269F</td><td>Tumor</td><td>WES    </td><td>⋯</td><td>fastq</td><td>raw data</td><td>Illumina</td><td>NA</td><td>NA</td><td>P0</td><td>Bladder</td><td>NA</td><td>NA</td><td>bladder urothelial carcinoma</td></tr>\n",
       "</tbody>\n",
       "</table>\n"
      ],
      "text/latex": [
       "A tibble: 6 × 29\n",
       "\\begin{tabular}{lllllllllllllllllllll}\n",
       " Index & contributor & file\\_name & patient\\_id & model\\_id & tumor\\_id & case\\_id & sample\\_id & sample\\_type & experimental\\_strategy & ⋯ & data\\_format & data\\_type & platform & is\\_ffpe & file\\_size & passage & disease\\_type & comment & investigation & disease\\_detail\\\\\n",
       " <dbl> & <chr> & <chr> & <chr> & <chr> & <chr> & <chr> & <chr> & <chr> & <chr> & ⋯ & <chr> & <chr> & <chr> & <lgl> & <dbl> & <chr> & <chr> & <chr> & <lgl> & <chr>\\\\\n",
       "\\hline\n",
       "\t 1518 & UC Davis & BL0269F404\\_P0\\_GES10\\_166\\_ATCACG\\_L004\\_R1\\_ALL.fastq    & BL0269F & BL0269F & BL0269F & BL0269F & BL0269F & Tumor & RNA-Seq & ⋯ & fastq & raw data & Illumina & NA & NA & P0 & Bladder & NA & NA & bladder urothelial carcinoma\\\\\n",
       "\t 1519 & UC Davis & BL0269F404\\_P0\\_GES10\\_166\\_ATCACG\\_L004\\_R2\\_ALL.fastq    & BL0269F & BL0269F & BL0269F & BL0269F & BL0269F & Tumor & RNA-Seq & ⋯ & fastq & raw data & Illumina & NA & NA & P0 & Bladder & NA & NA & bladder urothelial carcinoma\\\\\n",
       "\t 1520 & UC Davis & BL0269F404\\_P0\\_GES10\\_166\\_ATCACG\\_L005\\_R1\\_ALL.fastq    & BL0269F & BL0269F & BL0269F & BL0269F & BL0269F & Tumor & RNA-Seq & ⋯ & fastq & raw data & Illumina & NA & NA & P0 & Bladder & NA & NA & bladder urothelial carcinoma\\\\\n",
       "\t 1521 & UC Davis & BL0269F404\\_P0\\_GES10\\_166\\_ATCACG\\_L005\\_R2\\_ALL.fastq    & BL0269F & BL0269F & BL0269F & BL0269F & BL0269F & Tumor & RNA-Seq & ⋯ & fastq & raw data & Illumina & NA & NA & P0 & Bladder & NA & NA & bladder urothelial carcinoma\\\\\n",
       "\t 1522 & UC Davis & BL0269F404P0\\_ATCACG\\_AC1FCKACXX\\_L003\\_001.R1.fastq.gz & BL0269F & BL0269F & BL0269F & BL0269F & BL0269F & Tumor & WES     & ⋯ & fastq & raw data & Illumina & NA & NA & P0 & Bladder & NA & NA & bladder urothelial carcinoma\\\\\n",
       "\t 1523 & UC Davis & BL0269F404P0\\_ATCACG\\_AC1FCKACXX\\_L003\\_001.R2.fastq.gz & BL0269F & BL0269F & BL0269F & BL0269F & BL0269F & Tumor & WES     & ⋯ & fastq & raw data & Illumina & NA & NA & P0 & Bladder & NA & NA & bladder urothelial carcinoma\\\\\n",
       "\\end{tabular}\n"
      ],
      "text/markdown": [
       "\n",
       "A tibble: 6 × 29\n",
       "\n",
       "| Index &lt;dbl&gt; | contributor &lt;chr&gt; | file_name &lt;chr&gt; | patient_id &lt;chr&gt; | model_id &lt;chr&gt; | tumor_id &lt;chr&gt; | case_id &lt;chr&gt; | sample_id &lt;chr&gt; | sample_type &lt;chr&gt; | experimental_strategy &lt;chr&gt; | ⋯ ⋯ | data_format &lt;chr&gt; | data_type &lt;chr&gt; | platform &lt;chr&gt; | is_ffpe &lt;lgl&gt; | file_size &lt;dbl&gt; | passage &lt;chr&gt; | disease_type &lt;chr&gt; | comment &lt;chr&gt; | investigation &lt;lgl&gt; | disease_detail &lt;chr&gt; |\n",
       "|---|---|---|---|---|---|---|---|---|---|---|---|---|---|---|---|---|---|---|---|---|\n",
       "| 1518 | UC Davis | BL0269F404_P0_GES10_166_ATCACG_L004_R1_ALL.fastq    | BL0269F | BL0269F | BL0269F | BL0269F | BL0269F | Tumor | RNA-Seq | ⋯ | fastq | raw data | Illumina | NA | NA | P0 | Bladder | NA | NA | bladder urothelial carcinoma |\n",
       "| 1519 | UC Davis | BL0269F404_P0_GES10_166_ATCACG_L004_R2_ALL.fastq    | BL0269F | BL0269F | BL0269F | BL0269F | BL0269F | Tumor | RNA-Seq | ⋯ | fastq | raw data | Illumina | NA | NA | P0 | Bladder | NA | NA | bladder urothelial carcinoma |\n",
       "| 1520 | UC Davis | BL0269F404_P0_GES10_166_ATCACG_L005_R1_ALL.fastq    | BL0269F | BL0269F | BL0269F | BL0269F | BL0269F | Tumor | RNA-Seq | ⋯ | fastq | raw data | Illumina | NA | NA | P0 | Bladder | NA | NA | bladder urothelial carcinoma |\n",
       "| 1521 | UC Davis | BL0269F404_P0_GES10_166_ATCACG_L005_R2_ALL.fastq    | BL0269F | BL0269F | BL0269F | BL0269F | BL0269F | Tumor | RNA-Seq | ⋯ | fastq | raw data | Illumina | NA | NA | P0 | Bladder | NA | NA | bladder urothelial carcinoma |\n",
       "| 1522 | UC Davis | BL0269F404P0_ATCACG_AC1FCKACXX_L003_001.R1.fastq.gz | BL0269F | BL0269F | BL0269F | BL0269F | BL0269F | Tumor | WES     | ⋯ | fastq | raw data | Illumina | NA | NA | P0 | Bladder | NA | NA | bladder urothelial carcinoma |\n",
       "| 1523 | UC Davis | BL0269F404P0_ATCACG_AC1FCKACXX_L003_001.R2.fastq.gz | BL0269F | BL0269F | BL0269F | BL0269F | BL0269F | Tumor | WES     | ⋯ | fastq | raw data | Illumina | NA | NA | P0 | Bladder | NA | NA | bladder urothelial carcinoma |\n",
       "\n"
      ],
      "text/plain": [
       "  Index contributor file_name                                          \n",
       "1 1518  UC Davis    BL0269F404_P0_GES10_166_ATCACG_L004_R1_ALL.fastq   \n",
       "2 1519  UC Davis    BL0269F404_P0_GES10_166_ATCACG_L004_R2_ALL.fastq   \n",
       "3 1520  UC Davis    BL0269F404_P0_GES10_166_ATCACG_L005_R1_ALL.fastq   \n",
       "4 1521  UC Davis    BL0269F404_P0_GES10_166_ATCACG_L005_R2_ALL.fastq   \n",
       "5 1522  UC Davis    BL0269F404P0_ATCACG_AC1FCKACXX_L003_001.R1.fastq.gz\n",
       "6 1523  UC Davis    BL0269F404P0_ATCACG_AC1FCKACXX_L003_001.R2.fastq.gz\n",
       "  patient_id model_id tumor_id case_id sample_id sample_type\n",
       "1 BL0269F    BL0269F  BL0269F  BL0269F BL0269F   Tumor      \n",
       "2 BL0269F    BL0269F  BL0269F  BL0269F BL0269F   Tumor      \n",
       "3 BL0269F    BL0269F  BL0269F  BL0269F BL0269F   Tumor      \n",
       "4 BL0269F    BL0269F  BL0269F  BL0269F BL0269F   Tumor      \n",
       "5 BL0269F    BL0269F  BL0269F  BL0269F BL0269F   Tumor      \n",
       "6 BL0269F    BL0269F  BL0269F  BL0269F BL0269F   Tumor      \n",
       "  experimental_strategy ⋯ data_format data_type platform is_ffpe file_size\n",
       "1 RNA-Seq               ⋯ fastq       raw data  Illumina NA      NA       \n",
       "2 RNA-Seq               ⋯ fastq       raw data  Illumina NA      NA       \n",
       "3 RNA-Seq               ⋯ fastq       raw data  Illumina NA      NA       \n",
       "4 RNA-Seq               ⋯ fastq       raw data  Illumina NA      NA       \n",
       "5 WES                   ⋯ fastq       raw data  Illumina NA      NA       \n",
       "6 WES                   ⋯ fastq       raw data  Illumina NA      NA       \n",
       "  passage disease_type comment investigation disease_detail              \n",
       "1 P0      Bladder      NA      NA            bladder urothelial carcinoma\n",
       "2 P0      Bladder      NA      NA            bladder urothelial carcinoma\n",
       "3 P0      Bladder      NA      NA            bladder urothelial carcinoma\n",
       "4 P0      Bladder      NA      NA            bladder urothelial carcinoma\n",
       "5 P0      Bladder      NA      NA            bladder urothelial carcinoma\n",
       "6 P0      Bladder      NA      NA            bladder urothelial carcinoma"
      ]
     },
     "metadata": {},
     "output_type": "display_data"
    },
    {
     "data": {
      "text/html": [
       "<style>\n",
       ".list-inline {list-style: none; margin:0; padding: 0}\n",
       ".list-inline>li {display: inline-block}\n",
       ".list-inline>li:not(:last-child)::after {content: \"\\00b7\"; padding: 0 .5ex}\n",
       "</style>\n",
       "<ol class=list-inline><li>'Index'</li><li>'contributor'</li><li>'file_name'</li><li>'patient_id'</li><li>'model_id'</li><li>'tumor_id'</li><li>'case_id'</li><li>'sample_id'</li><li>'sample_type'</li><li>'experimental_strategy'</li><li>'gender'</li><li>'paired_end'</li><li>'capture_kit'</li><li>'capture_assembly'</li><li>'availability'</li><li>'public'</li><li>'access_level'</li><li>'created_datetime'</li><li>'data_category'</li><li>'data_format'</li><li>'data_type'</li><li>'platform'</li><li>'is_ffpe'</li><li>'file_size'</li><li>'passage'</li><li>'disease_type'</li><li>'comment'</li><li>'investigation'</li><li>'disease_detail'</li></ol>\n"
      ],
      "text/latex": [
       "\\begin{enumerate*}\n",
       "\\item 'Index'\n",
       "\\item 'contributor'\n",
       "\\item 'file\\_name'\n",
       "\\item 'patient\\_id'\n",
       "\\item 'model\\_id'\n",
       "\\item 'tumor\\_id'\n",
       "\\item 'case\\_id'\n",
       "\\item 'sample\\_id'\n",
       "\\item 'sample\\_type'\n",
       "\\item 'experimental\\_strategy'\n",
       "\\item 'gender'\n",
       "\\item 'paired\\_end'\n",
       "\\item 'capture\\_kit'\n",
       "\\item 'capture\\_assembly'\n",
       "\\item 'availability'\n",
       "\\item 'public'\n",
       "\\item 'access\\_level'\n",
       "\\item 'created\\_datetime'\n",
       "\\item 'data\\_category'\n",
       "\\item 'data\\_format'\n",
       "\\item 'data\\_type'\n",
       "\\item 'platform'\n",
       "\\item 'is\\_ffpe'\n",
       "\\item 'file\\_size'\n",
       "\\item 'passage'\n",
       "\\item 'disease\\_type'\n",
       "\\item 'comment'\n",
       "\\item 'investigation'\n",
       "\\item 'disease\\_detail'\n",
       "\\end{enumerate*}\n"
      ],
      "text/markdown": [
       "1. 'Index'\n",
       "2. 'contributor'\n",
       "3. 'file_name'\n",
       "4. 'patient_id'\n",
       "5. 'model_id'\n",
       "6. 'tumor_id'\n",
       "7. 'case_id'\n",
       "8. 'sample_id'\n",
       "9. 'sample_type'\n",
       "10. 'experimental_strategy'\n",
       "11. 'gender'\n",
       "12. 'paired_end'\n",
       "13. 'capture_kit'\n",
       "14. 'capture_assembly'\n",
       "15. 'availability'\n",
       "16. 'public'\n",
       "17. 'access_level'\n",
       "18. 'created_datetime'\n",
       "19. 'data_category'\n",
       "20. 'data_format'\n",
       "21. 'data_type'\n",
       "22. 'platform'\n",
       "23. 'is_ffpe'\n",
       "24. 'file_size'\n",
       "25. 'passage'\n",
       "26. 'disease_type'\n",
       "27. 'comment'\n",
       "28. 'investigation'\n",
       "29. 'disease_detail'\n",
       "\n",
       "\n"
      ],
      "text/plain": [
       " [1] \"Index\"                 \"contributor\"           \"file_name\"            \n",
       " [4] \"patient_id\"            \"model_id\"              \"tumor_id\"             \n",
       " [7] \"case_id\"               \"sample_id\"             \"sample_type\"          \n",
       "[10] \"experimental_strategy\" \"gender\"                \"paired_end\"           \n",
       "[13] \"capture_kit\"           \"capture_assembly\"      \"availability\"         \n",
       "[16] \"public\"                \"access_level\"          \"created_datetime\"     \n",
       "[19] \"data_category\"         \"data_format\"           \"data_type\"            \n",
       "[22] \"platform\"              \"is_ffpe\"               \"file_size\"            \n",
       "[25] \"passage\"               \"disease_type\"          \"comment\"              \n",
       "[28] \"investigation\"         \"disease_detail\"       "
      ]
     },
     "metadata": {},
     "output_type": "display_data"
    }
   ],
   "source": [
    "edited_pdtc_files_by_contributor[['UC Davis']] %>% nrow()\n",
    "edited_pdtc_files_by_contributor[['UC Davis']] %>% head()\n",
    "colnames(edited_pdtc_files_by_contributor[['UC Davis']])"
   ]
  },
  {
   "cell_type": "markdown",
   "id": "01c8c5f4-c510-4d04-9294-33e5f91aff73",
   "metadata": {},
   "source": [
    "From visual inspection I know that these don't need much cleaning, but there are some things we can make more consistent."
   ]
  },
  {
   "cell_type": "code",
   "execution_count": 61,
   "id": "3c320465-522c-4d79-a0a8-55d18b39cced",
   "metadata": {},
   "outputs": [
    {
     "data": {
      "text/html": [
       "48"
      ],
      "text/latex": [
       "48"
      ],
      "text/markdown": [
       "48"
      ],
      "text/plain": [
       "[1] 48"
      ]
     },
     "metadata": {},
     "output_type": "display_data"
    },
    {
     "data": {
      "text/html": [
       "<table class=\"dataframe\">\n",
       "<caption>A tibble: 6 × 29</caption>\n",
       "<thead>\n",
       "\t<tr><th scope=col>Index</th><th scope=col>contributor</th><th scope=col>file_name</th><th scope=col>patient_id</th><th scope=col>model_id</th><th scope=col>tumor_id</th><th scope=col>case_id</th><th scope=col>sample_id</th><th scope=col>sample_type</th><th scope=col>experimental_strategy</th><th scope=col>⋯</th><th scope=col>data_format</th><th scope=col>data_type</th><th scope=col>platform</th><th scope=col>is_ffpe</th><th scope=col>file_size</th><th scope=col>passage</th><th scope=col>disease_type</th><th scope=col>comment</th><th scope=col>investigation</th><th scope=col>disease_detail</th></tr>\n",
       "\t<tr><th scope=col>&lt;dbl&gt;</th><th scope=col>&lt;chr&gt;</th><th scope=col>&lt;chr&gt;</th><th scope=col>&lt;chr&gt;</th><th scope=col>&lt;chr&gt;</th><th scope=col>&lt;chr&gt;</th><th scope=col>&lt;chr&gt;</th><th scope=col>&lt;chr&gt;</th><th scope=col>&lt;chr&gt;</th><th scope=col>&lt;chr&gt;</th><th scope=col>⋯</th><th scope=col>&lt;chr&gt;</th><th scope=col>&lt;chr&gt;</th><th scope=col>&lt;chr&gt;</th><th scope=col>&lt;lgl&gt;</th><th scope=col>&lt;dbl&gt;</th><th scope=col>&lt;chr&gt;</th><th scope=col>&lt;chr&gt;</th><th scope=col>&lt;chr&gt;</th><th scope=col>&lt;lgl&gt;</th><th scope=col>&lt;chr&gt;</th></tr>\n",
       "</thead>\n",
       "<tbody>\n",
       "\t<tr><td>1518</td><td>UC Davis</td><td>BL0269F404_P0_GES10_166_ATCACG_L004_R1_ALL.fastq   </td><td>BL0269F</td><td>BL0269F</td><td>BL0269F</td><td>BL0269F</td><td>BL0269F</td><td>Tumor</td><td>RNA-Seq</td><td>⋯</td><td>fastq   </td><td>Raw Reads</td><td>Illumina</td><td>NA</td><td>NA</td><td>P0</td><td>Bladder</td><td>NA</td><td>NA</td><td>bladder urothelial carcinoma</td></tr>\n",
       "\t<tr><td>1519</td><td>UC Davis</td><td>BL0269F404_P0_GES10_166_ATCACG_L004_R2_ALL.fastq   </td><td>BL0269F</td><td>BL0269F</td><td>BL0269F</td><td>BL0269F</td><td>BL0269F</td><td>Tumor</td><td>RNA-Seq</td><td>⋯</td><td>fastq   </td><td>Raw Reads</td><td>Illumina</td><td>NA</td><td>NA</td><td>P0</td><td>Bladder</td><td>NA</td><td>NA</td><td>bladder urothelial carcinoma</td></tr>\n",
       "\t<tr><td>1520</td><td>UC Davis</td><td>BL0269F404_P0_GES10_166_ATCACG_L005_R1_ALL.fastq   </td><td>BL0269F</td><td>BL0269F</td><td>BL0269F</td><td>BL0269F</td><td>BL0269F</td><td>Tumor</td><td>RNA-Seq</td><td>⋯</td><td>fastq   </td><td>Raw Reads</td><td>Illumina</td><td>NA</td><td>NA</td><td>P0</td><td>Bladder</td><td>NA</td><td>NA</td><td>bladder urothelial carcinoma</td></tr>\n",
       "\t<tr><td>1521</td><td>UC Davis</td><td>BL0269F404_P0_GES10_166_ATCACG_L005_R2_ALL.fastq   </td><td>BL0269F</td><td>BL0269F</td><td>BL0269F</td><td>BL0269F</td><td>BL0269F</td><td>Tumor</td><td>RNA-Seq</td><td>⋯</td><td>fastq   </td><td>Raw Reads</td><td>Illumina</td><td>NA</td><td>NA</td><td>P0</td><td>Bladder</td><td>NA</td><td>NA</td><td>bladder urothelial carcinoma</td></tr>\n",
       "\t<tr><td>1522</td><td>UC Davis</td><td>BL0269F404P0_ATCACG_AC1FCKACXX_L003_001.R1.fastq.gz</td><td>BL0269F</td><td>BL0269F</td><td>BL0269F</td><td>BL0269F</td><td>BL0269F</td><td>Tumor</td><td>WES    </td><td>⋯</td><td>fastq.gz</td><td>Raw Reads</td><td>Illumina</td><td>NA</td><td>NA</td><td>P0</td><td>Bladder</td><td>NA</td><td>NA</td><td>bladder urothelial carcinoma</td></tr>\n",
       "\t<tr><td>1523</td><td>UC Davis</td><td>BL0269F404P0_ATCACG_AC1FCKACXX_L003_001.R2.fastq.gz</td><td>BL0269F</td><td>BL0269F</td><td>BL0269F</td><td>BL0269F</td><td>BL0269F</td><td>Tumor</td><td>WES    </td><td>⋯</td><td>fastq.gz</td><td>Raw Reads</td><td>Illumina</td><td>NA</td><td>NA</td><td>P0</td><td>Bladder</td><td>NA</td><td>NA</td><td>bladder urothelial carcinoma</td></tr>\n",
       "</tbody>\n",
       "</table>\n"
      ],
      "text/latex": [
       "A tibble: 6 × 29\n",
       "\\begin{tabular}{lllllllllllllllllllll}\n",
       " Index & contributor & file\\_name & patient\\_id & model\\_id & tumor\\_id & case\\_id & sample\\_id & sample\\_type & experimental\\_strategy & ⋯ & data\\_format & data\\_type & platform & is\\_ffpe & file\\_size & passage & disease\\_type & comment & investigation & disease\\_detail\\\\\n",
       " <dbl> & <chr> & <chr> & <chr> & <chr> & <chr> & <chr> & <chr> & <chr> & <chr> & ⋯ & <chr> & <chr> & <chr> & <lgl> & <dbl> & <chr> & <chr> & <chr> & <lgl> & <chr>\\\\\n",
       "\\hline\n",
       "\t 1518 & UC Davis & BL0269F404\\_P0\\_GES10\\_166\\_ATCACG\\_L004\\_R1\\_ALL.fastq    & BL0269F & BL0269F & BL0269F & BL0269F & BL0269F & Tumor & RNA-Seq & ⋯ & fastq    & Raw Reads & Illumina & NA & NA & P0 & Bladder & NA & NA & bladder urothelial carcinoma\\\\\n",
       "\t 1519 & UC Davis & BL0269F404\\_P0\\_GES10\\_166\\_ATCACG\\_L004\\_R2\\_ALL.fastq    & BL0269F & BL0269F & BL0269F & BL0269F & BL0269F & Tumor & RNA-Seq & ⋯ & fastq    & Raw Reads & Illumina & NA & NA & P0 & Bladder & NA & NA & bladder urothelial carcinoma\\\\\n",
       "\t 1520 & UC Davis & BL0269F404\\_P0\\_GES10\\_166\\_ATCACG\\_L005\\_R1\\_ALL.fastq    & BL0269F & BL0269F & BL0269F & BL0269F & BL0269F & Tumor & RNA-Seq & ⋯ & fastq    & Raw Reads & Illumina & NA & NA & P0 & Bladder & NA & NA & bladder urothelial carcinoma\\\\\n",
       "\t 1521 & UC Davis & BL0269F404\\_P0\\_GES10\\_166\\_ATCACG\\_L005\\_R2\\_ALL.fastq    & BL0269F & BL0269F & BL0269F & BL0269F & BL0269F & Tumor & RNA-Seq & ⋯ & fastq    & Raw Reads & Illumina & NA & NA & P0 & Bladder & NA & NA & bladder urothelial carcinoma\\\\\n",
       "\t 1522 & UC Davis & BL0269F404P0\\_ATCACG\\_AC1FCKACXX\\_L003\\_001.R1.fastq.gz & BL0269F & BL0269F & BL0269F & BL0269F & BL0269F & Tumor & WES     & ⋯ & fastq.gz & Raw Reads & Illumina & NA & NA & P0 & Bladder & NA & NA & bladder urothelial carcinoma\\\\\n",
       "\t 1523 & UC Davis & BL0269F404P0\\_ATCACG\\_AC1FCKACXX\\_L003\\_001.R2.fastq.gz & BL0269F & BL0269F & BL0269F & BL0269F & BL0269F & Tumor & WES     & ⋯ & fastq.gz & Raw Reads & Illumina & NA & NA & P0 & Bladder & NA & NA & bladder urothelial carcinoma\\\\\n",
       "\\end{tabular}\n"
      ],
      "text/markdown": [
       "\n",
       "A tibble: 6 × 29\n",
       "\n",
       "| Index &lt;dbl&gt; | contributor &lt;chr&gt; | file_name &lt;chr&gt; | patient_id &lt;chr&gt; | model_id &lt;chr&gt; | tumor_id &lt;chr&gt; | case_id &lt;chr&gt; | sample_id &lt;chr&gt; | sample_type &lt;chr&gt; | experimental_strategy &lt;chr&gt; | ⋯ ⋯ | data_format &lt;chr&gt; | data_type &lt;chr&gt; | platform &lt;chr&gt; | is_ffpe &lt;lgl&gt; | file_size &lt;dbl&gt; | passage &lt;chr&gt; | disease_type &lt;chr&gt; | comment &lt;chr&gt; | investigation &lt;lgl&gt; | disease_detail &lt;chr&gt; |\n",
       "|---|---|---|---|---|---|---|---|---|---|---|---|---|---|---|---|---|---|---|---|---|\n",
       "| 1518 | UC Davis | BL0269F404_P0_GES10_166_ATCACG_L004_R1_ALL.fastq    | BL0269F | BL0269F | BL0269F | BL0269F | BL0269F | Tumor | RNA-Seq | ⋯ | fastq    | Raw Reads | Illumina | NA | NA | P0 | Bladder | NA | NA | bladder urothelial carcinoma |\n",
       "| 1519 | UC Davis | BL0269F404_P0_GES10_166_ATCACG_L004_R2_ALL.fastq    | BL0269F | BL0269F | BL0269F | BL0269F | BL0269F | Tumor | RNA-Seq | ⋯ | fastq    | Raw Reads | Illumina | NA | NA | P0 | Bladder | NA | NA | bladder urothelial carcinoma |\n",
       "| 1520 | UC Davis | BL0269F404_P0_GES10_166_ATCACG_L005_R1_ALL.fastq    | BL0269F | BL0269F | BL0269F | BL0269F | BL0269F | Tumor | RNA-Seq | ⋯ | fastq    | Raw Reads | Illumina | NA | NA | P0 | Bladder | NA | NA | bladder urothelial carcinoma |\n",
       "| 1521 | UC Davis | BL0269F404_P0_GES10_166_ATCACG_L005_R2_ALL.fastq    | BL0269F | BL0269F | BL0269F | BL0269F | BL0269F | Tumor | RNA-Seq | ⋯ | fastq    | Raw Reads | Illumina | NA | NA | P0 | Bladder | NA | NA | bladder urothelial carcinoma |\n",
       "| 1522 | UC Davis | BL0269F404P0_ATCACG_AC1FCKACXX_L003_001.R1.fastq.gz | BL0269F | BL0269F | BL0269F | BL0269F | BL0269F | Tumor | WES     | ⋯ | fastq.gz | Raw Reads | Illumina | NA | NA | P0 | Bladder | NA | NA | bladder urothelial carcinoma |\n",
       "| 1523 | UC Davis | BL0269F404P0_ATCACG_AC1FCKACXX_L003_001.R2.fastq.gz | BL0269F | BL0269F | BL0269F | BL0269F | BL0269F | Tumor | WES     | ⋯ | fastq.gz | Raw Reads | Illumina | NA | NA | P0 | Bladder | NA | NA | bladder urothelial carcinoma |\n",
       "\n"
      ],
      "text/plain": [
       "  Index contributor file_name                                          \n",
       "1 1518  UC Davis    BL0269F404_P0_GES10_166_ATCACG_L004_R1_ALL.fastq   \n",
       "2 1519  UC Davis    BL0269F404_P0_GES10_166_ATCACG_L004_R2_ALL.fastq   \n",
       "3 1520  UC Davis    BL0269F404_P0_GES10_166_ATCACG_L005_R1_ALL.fastq   \n",
       "4 1521  UC Davis    BL0269F404_P0_GES10_166_ATCACG_L005_R2_ALL.fastq   \n",
       "5 1522  UC Davis    BL0269F404P0_ATCACG_AC1FCKACXX_L003_001.R1.fastq.gz\n",
       "6 1523  UC Davis    BL0269F404P0_ATCACG_AC1FCKACXX_L003_001.R2.fastq.gz\n",
       "  patient_id model_id tumor_id case_id sample_id sample_type\n",
       "1 BL0269F    BL0269F  BL0269F  BL0269F BL0269F   Tumor      \n",
       "2 BL0269F    BL0269F  BL0269F  BL0269F BL0269F   Tumor      \n",
       "3 BL0269F    BL0269F  BL0269F  BL0269F BL0269F   Tumor      \n",
       "4 BL0269F    BL0269F  BL0269F  BL0269F BL0269F   Tumor      \n",
       "5 BL0269F    BL0269F  BL0269F  BL0269F BL0269F   Tumor      \n",
       "6 BL0269F    BL0269F  BL0269F  BL0269F BL0269F   Tumor      \n",
       "  experimental_strategy ⋯ data_format data_type platform is_ffpe file_size\n",
       "1 RNA-Seq               ⋯ fastq       Raw Reads Illumina NA      NA       \n",
       "2 RNA-Seq               ⋯ fastq       Raw Reads Illumina NA      NA       \n",
       "3 RNA-Seq               ⋯ fastq       Raw Reads Illumina NA      NA       \n",
       "4 RNA-Seq               ⋯ fastq       Raw Reads Illumina NA      NA       \n",
       "5 WES                   ⋯ fastq.gz    Raw Reads Illumina NA      NA       \n",
       "6 WES                   ⋯ fastq.gz    Raw Reads Illumina NA      NA       \n",
       "  passage disease_type comment investigation disease_detail              \n",
       "1 P0      Bladder      NA      NA            bladder urothelial carcinoma\n",
       "2 P0      Bladder      NA      NA            bladder urothelial carcinoma\n",
       "3 P0      Bladder      NA      NA            bladder urothelial carcinoma\n",
       "4 P0      Bladder      NA      NA            bladder urothelial carcinoma\n",
       "5 P0      Bladder      NA      NA            bladder urothelial carcinoma\n",
       "6 P0      Bladder      NA      NA            bladder urothelial carcinoma"
      ]
     },
     "metadata": {},
     "output_type": "display_data"
    }
   ],
   "source": [
    "# Add some of the missing metadata in\n",
    "\n",
    "edited_ucd_files <- edited_pdtc_files_by_contributor[['UC Davis']] %>%\n",
    "    mutate(data_category = 'Raw Sequencing Data',\n",
    "           data_format = ifelse(endsWith(file_name, 'gz'), 'fastq.gz', 'fastq'),\n",
    "           data_type = 'Raw Reads'\n",
    "           )\n",
    "\n",
    "nrow(edited_ucd_files)\n",
    "head(edited_ucd_files)"
   ]
  },
  {
   "cell_type": "code",
   "execution_count": 62,
   "id": "31db86fb-3298-46dc-bf90-5aeb7091ed0e",
   "metadata": {},
   "outputs": [],
   "source": [
    "# Export UCD only\n",
    "\n",
    "write_csv(edited_ucd_files, '2022-02-14_UCDavis_files_edited.csv')"
   ]
  },
  {
   "cell_type": "markdown",
   "id": "2a94722a-cd7f-44fc-b9ea-0d2e47abb9e6",
   "metadata": {
    "tags": []
   },
   "source": [
    "### Work on WISTAR"
   ]
  },
  {
   "cell_type": "code",
   "execution_count": 63,
   "id": "8197aaf3-63d3-453a-a139-5a5c455052d3",
   "metadata": {},
   "outputs": [
    {
     "data": {
      "text/html": [
       "382"
      ],
      "text/latex": [
       "382"
      ],
      "text/markdown": [
       "382"
      ],
      "text/plain": [
       "[1] 382"
      ]
     },
     "metadata": {},
     "output_type": "display_data"
    },
    {
     "data": {
      "text/html": [
       "<table class=\"dataframe\">\n",
       "<caption>A tibble: 6 × 29</caption>\n",
       "<thead>\n",
       "\t<tr><th scope=col>Index</th><th scope=col>contributor</th><th scope=col>file_name</th><th scope=col>patient_id</th><th scope=col>model_id</th><th scope=col>tumor_id</th><th scope=col>case_id</th><th scope=col>sample_id</th><th scope=col>sample_type</th><th scope=col>experimental_strategy</th><th scope=col>⋯</th><th scope=col>data_format</th><th scope=col>data_type</th><th scope=col>platform</th><th scope=col>is_ffpe</th><th scope=col>file_size</th><th scope=col>passage</th><th scope=col>disease_type</th><th scope=col>comment</th><th scope=col>investigation</th><th scope=col>disease_detail</th></tr>\n",
       "\t<tr><th scope=col>&lt;dbl&gt;</th><th scope=col>&lt;chr&gt;</th><th scope=col>&lt;chr&gt;</th><th scope=col>&lt;chr&gt;</th><th scope=col>&lt;chr&gt;</th><th scope=col>&lt;chr&gt;</th><th scope=col>&lt;chr&gt;</th><th scope=col>&lt;chr&gt;</th><th scope=col>&lt;chr&gt;</th><th scope=col>&lt;chr&gt;</th><th scope=col>⋯</th><th scope=col>&lt;chr&gt;</th><th scope=col>&lt;chr&gt;</th><th scope=col>&lt;chr&gt;</th><th scope=col>&lt;lgl&gt;</th><th scope=col>&lt;dbl&gt;</th><th scope=col>&lt;chr&gt;</th><th scope=col>&lt;chr&gt;</th><th scope=col>&lt;chr&gt;</th><th scope=col>&lt;lgl&gt;</th><th scope=col>&lt;chr&gt;</th></tr>\n",
       "</thead>\n",
       "<tbody>\n",
       "\t<tr><td>1566</td><td>WISTAR</td><td>wm3907n_R1.fastq.gz</td><td>WM3907</td><td>wm3907n</td><td>NA</td><td>NA</td><td>wm3907n</td><td>Tumor</td><td>WES</td><td>⋯</td><td>fastq.gz</td><td>Raw Reads</td><td>Illumina</td><td>FALSE</td><td>5439234</td><td>Tumor</td><td>Unknown</td><td>NA</td><td>NA</td><td>Unknown</td></tr>\n",
       "\t<tr><td>1567</td><td>WISTAR</td><td>wm3907n_R2.fastq.gz</td><td>WM3907</td><td>wm3907n</td><td>NA</td><td>NA</td><td>wm3907n</td><td>Tumor</td><td>WES</td><td>⋯</td><td>fastq.gz</td><td>Raw Reads</td><td>Illumina</td><td>FALSE</td><td>6415082</td><td>Tumor</td><td>Unknown</td><td>NA</td><td>NA</td><td>Unknown</td></tr>\n",
       "\t<tr><td>1568</td><td>WISTAR</td><td>wm3922n_R1.fastq.gz</td><td>WM3922</td><td>wm3922n</td><td>NA</td><td>NA</td><td>wm3922n</td><td>Tumor</td><td>WES</td><td>⋯</td><td>fastq.gz</td><td>Raw Reads</td><td>Illumina</td><td>FALSE</td><td>3024602</td><td>Tumor</td><td>Unknown</td><td>NA</td><td>NA</td><td>Unknown</td></tr>\n",
       "\t<tr><td>1569</td><td>WISTAR</td><td>wm3922n_R2.fastq.gz</td><td>WM3922</td><td>wm3922n</td><td>NA</td><td>NA</td><td>wm3922n</td><td>Tumor</td><td>WES</td><td>⋯</td><td>fastq.gz</td><td>Raw Reads</td><td>Illumina</td><td>FALSE</td><td>3671122</td><td>Tumor</td><td>Unknown</td><td>NA</td><td>NA</td><td>Unknown</td></tr>\n",
       "\t<tr><td>1570</td><td>WISTAR</td><td>wm3926n_R1.fastq.gz</td><td>WM3926</td><td>wm3926n</td><td>NA</td><td>NA</td><td>wm3926n</td><td>Tumor</td><td>WES</td><td>⋯</td><td>fastq.gz</td><td>Raw Reads</td><td>Illumina</td><td>FALSE</td><td>3679890</td><td>Tumor</td><td>Unknown</td><td>NA</td><td>NA</td><td>Unknown</td></tr>\n",
       "\t<tr><td>1571</td><td>WISTAR</td><td>wm3926n_R2.fastq.gz</td><td>WM3926</td><td>wm3926n</td><td>NA</td><td>NA</td><td>wm3926n</td><td>Tumor</td><td>WES</td><td>⋯</td><td>fastq.gz</td><td>Raw Reads</td><td>Illumina</td><td>FALSE</td><td>4094170</td><td>Tumor</td><td>Unknown</td><td>NA</td><td>NA</td><td>Unknown</td></tr>\n",
       "</tbody>\n",
       "</table>\n"
      ],
      "text/latex": [
       "A tibble: 6 × 29\n",
       "\\begin{tabular}{lllllllllllllllllllll}\n",
       " Index & contributor & file\\_name & patient\\_id & model\\_id & tumor\\_id & case\\_id & sample\\_id & sample\\_type & experimental\\_strategy & ⋯ & data\\_format & data\\_type & platform & is\\_ffpe & file\\_size & passage & disease\\_type & comment & investigation & disease\\_detail\\\\\n",
       " <dbl> & <chr> & <chr> & <chr> & <chr> & <chr> & <chr> & <chr> & <chr> & <chr> & ⋯ & <chr> & <chr> & <chr> & <lgl> & <dbl> & <chr> & <chr> & <chr> & <lgl> & <chr>\\\\\n",
       "\\hline\n",
       "\t 1566 & WISTAR & wm3907n\\_R1.fastq.gz & WM3907 & wm3907n & NA & NA & wm3907n & Tumor & WES & ⋯ & fastq.gz & Raw Reads & Illumina & FALSE & 5439234 & Tumor & Unknown & NA & NA & Unknown\\\\\n",
       "\t 1567 & WISTAR & wm3907n\\_R2.fastq.gz & WM3907 & wm3907n & NA & NA & wm3907n & Tumor & WES & ⋯ & fastq.gz & Raw Reads & Illumina & FALSE & 6415082 & Tumor & Unknown & NA & NA & Unknown\\\\\n",
       "\t 1568 & WISTAR & wm3922n\\_R1.fastq.gz & WM3922 & wm3922n & NA & NA & wm3922n & Tumor & WES & ⋯ & fastq.gz & Raw Reads & Illumina & FALSE & 3024602 & Tumor & Unknown & NA & NA & Unknown\\\\\n",
       "\t 1569 & WISTAR & wm3922n\\_R2.fastq.gz & WM3922 & wm3922n & NA & NA & wm3922n & Tumor & WES & ⋯ & fastq.gz & Raw Reads & Illumina & FALSE & 3671122 & Tumor & Unknown & NA & NA & Unknown\\\\\n",
       "\t 1570 & WISTAR & wm3926n\\_R1.fastq.gz & WM3926 & wm3926n & NA & NA & wm3926n & Tumor & WES & ⋯ & fastq.gz & Raw Reads & Illumina & FALSE & 3679890 & Tumor & Unknown & NA & NA & Unknown\\\\\n",
       "\t 1571 & WISTAR & wm3926n\\_R2.fastq.gz & WM3926 & wm3926n & NA & NA & wm3926n & Tumor & WES & ⋯ & fastq.gz & Raw Reads & Illumina & FALSE & 4094170 & Tumor & Unknown & NA & NA & Unknown\\\\\n",
       "\\end{tabular}\n"
      ],
      "text/markdown": [
       "\n",
       "A tibble: 6 × 29\n",
       "\n",
       "| Index &lt;dbl&gt; | contributor &lt;chr&gt; | file_name &lt;chr&gt; | patient_id &lt;chr&gt; | model_id &lt;chr&gt; | tumor_id &lt;chr&gt; | case_id &lt;chr&gt; | sample_id &lt;chr&gt; | sample_type &lt;chr&gt; | experimental_strategy &lt;chr&gt; | ⋯ ⋯ | data_format &lt;chr&gt; | data_type &lt;chr&gt; | platform &lt;chr&gt; | is_ffpe &lt;lgl&gt; | file_size &lt;dbl&gt; | passage &lt;chr&gt; | disease_type &lt;chr&gt; | comment &lt;chr&gt; | investigation &lt;lgl&gt; | disease_detail &lt;chr&gt; |\n",
       "|---|---|---|---|---|---|---|---|---|---|---|---|---|---|---|---|---|---|---|---|---|\n",
       "| 1566 | WISTAR | wm3907n_R1.fastq.gz | WM3907 | wm3907n | NA | NA | wm3907n | Tumor | WES | ⋯ | fastq.gz | Raw Reads | Illumina | FALSE | 5439234 | Tumor | Unknown | NA | NA | Unknown |\n",
       "| 1567 | WISTAR | wm3907n_R2.fastq.gz | WM3907 | wm3907n | NA | NA | wm3907n | Tumor | WES | ⋯ | fastq.gz | Raw Reads | Illumina | FALSE | 6415082 | Tumor | Unknown | NA | NA | Unknown |\n",
       "| 1568 | WISTAR | wm3922n_R1.fastq.gz | WM3922 | wm3922n | NA | NA | wm3922n | Tumor | WES | ⋯ | fastq.gz | Raw Reads | Illumina | FALSE | 3024602 | Tumor | Unknown | NA | NA | Unknown |\n",
       "| 1569 | WISTAR | wm3922n_R2.fastq.gz | WM3922 | wm3922n | NA | NA | wm3922n | Tumor | WES | ⋯ | fastq.gz | Raw Reads | Illumina | FALSE | 3671122 | Tumor | Unknown | NA | NA | Unknown |\n",
       "| 1570 | WISTAR | wm3926n_R1.fastq.gz | WM3926 | wm3926n | NA | NA | wm3926n | Tumor | WES | ⋯ | fastq.gz | Raw Reads | Illumina | FALSE | 3679890 | Tumor | Unknown | NA | NA | Unknown |\n",
       "| 1571 | WISTAR | wm3926n_R2.fastq.gz | WM3926 | wm3926n | NA | NA | wm3926n | Tumor | WES | ⋯ | fastq.gz | Raw Reads | Illumina | FALSE | 4094170 | Tumor | Unknown | NA | NA | Unknown |\n",
       "\n"
      ],
      "text/plain": [
       "  Index contributor file_name           patient_id model_id tumor_id case_id\n",
       "1 1566  WISTAR      wm3907n_R1.fastq.gz WM3907     wm3907n  NA       NA     \n",
       "2 1567  WISTAR      wm3907n_R2.fastq.gz WM3907     wm3907n  NA       NA     \n",
       "3 1568  WISTAR      wm3922n_R1.fastq.gz WM3922     wm3922n  NA       NA     \n",
       "4 1569  WISTAR      wm3922n_R2.fastq.gz WM3922     wm3922n  NA       NA     \n",
       "5 1570  WISTAR      wm3926n_R1.fastq.gz WM3926     wm3926n  NA       NA     \n",
       "6 1571  WISTAR      wm3926n_R2.fastq.gz WM3926     wm3926n  NA       NA     \n",
       "  sample_id sample_type experimental_strategy ⋯ data_format data_type platform\n",
       "1 wm3907n   Tumor       WES                   ⋯ fastq.gz    Raw Reads Illumina\n",
       "2 wm3907n   Tumor       WES                   ⋯ fastq.gz    Raw Reads Illumina\n",
       "3 wm3922n   Tumor       WES                   ⋯ fastq.gz    Raw Reads Illumina\n",
       "4 wm3922n   Tumor       WES                   ⋯ fastq.gz    Raw Reads Illumina\n",
       "5 wm3926n   Tumor       WES                   ⋯ fastq.gz    Raw Reads Illumina\n",
       "6 wm3926n   Tumor       WES                   ⋯ fastq.gz    Raw Reads Illumina\n",
       "  is_ffpe file_size passage disease_type comment investigation disease_detail\n",
       "1 FALSE   5439234   Tumor   Unknown      NA      NA            Unknown       \n",
       "2 FALSE   6415082   Tumor   Unknown      NA      NA            Unknown       \n",
       "3 FALSE   3024602   Tumor   Unknown      NA      NA            Unknown       \n",
       "4 FALSE   3671122   Tumor   Unknown      NA      NA            Unknown       \n",
       "5 FALSE   3679890   Tumor   Unknown      NA      NA            Unknown       \n",
       "6 FALSE   4094170   Tumor   Unknown      NA      NA            Unknown       "
      ]
     },
     "metadata": {},
     "output_type": "display_data"
    },
    {
     "data": {
      "text/html": [
       "<style>\n",
       ".list-inline {list-style: none; margin:0; padding: 0}\n",
       ".list-inline>li {display: inline-block}\n",
       ".list-inline>li:not(:last-child)::after {content: \"\\00b7\"; padding: 0 .5ex}\n",
       "</style>\n",
       "<ol class=list-inline><li>'Index'</li><li>'contributor'</li><li>'file_name'</li><li>'patient_id'</li><li>'model_id'</li><li>'tumor_id'</li><li>'case_id'</li><li>'sample_id'</li><li>'sample_type'</li><li>'experimental_strategy'</li><li>'gender'</li><li>'paired_end'</li><li>'capture_kit'</li><li>'capture_assembly'</li><li>'availability'</li><li>'public'</li><li>'access_level'</li><li>'created_datetime'</li><li>'data_category'</li><li>'data_format'</li><li>'data_type'</li><li>'platform'</li><li>'is_ffpe'</li><li>'file_size'</li><li>'passage'</li><li>'disease_type'</li><li>'comment'</li><li>'investigation'</li><li>'disease_detail'</li></ol>\n"
      ],
      "text/latex": [
       "\\begin{enumerate*}\n",
       "\\item 'Index'\n",
       "\\item 'contributor'\n",
       "\\item 'file\\_name'\n",
       "\\item 'patient\\_id'\n",
       "\\item 'model\\_id'\n",
       "\\item 'tumor\\_id'\n",
       "\\item 'case\\_id'\n",
       "\\item 'sample\\_id'\n",
       "\\item 'sample\\_type'\n",
       "\\item 'experimental\\_strategy'\n",
       "\\item 'gender'\n",
       "\\item 'paired\\_end'\n",
       "\\item 'capture\\_kit'\n",
       "\\item 'capture\\_assembly'\n",
       "\\item 'availability'\n",
       "\\item 'public'\n",
       "\\item 'access\\_level'\n",
       "\\item 'created\\_datetime'\n",
       "\\item 'data\\_category'\n",
       "\\item 'data\\_format'\n",
       "\\item 'data\\_type'\n",
       "\\item 'platform'\n",
       "\\item 'is\\_ffpe'\n",
       "\\item 'file\\_size'\n",
       "\\item 'passage'\n",
       "\\item 'disease\\_type'\n",
       "\\item 'comment'\n",
       "\\item 'investigation'\n",
       "\\item 'disease\\_detail'\n",
       "\\end{enumerate*}\n"
      ],
      "text/markdown": [
       "1. 'Index'\n",
       "2. 'contributor'\n",
       "3. 'file_name'\n",
       "4. 'patient_id'\n",
       "5. 'model_id'\n",
       "6. 'tumor_id'\n",
       "7. 'case_id'\n",
       "8. 'sample_id'\n",
       "9. 'sample_type'\n",
       "10. 'experimental_strategy'\n",
       "11. 'gender'\n",
       "12. 'paired_end'\n",
       "13. 'capture_kit'\n",
       "14. 'capture_assembly'\n",
       "15. 'availability'\n",
       "16. 'public'\n",
       "17. 'access_level'\n",
       "18. 'created_datetime'\n",
       "19. 'data_category'\n",
       "20. 'data_format'\n",
       "21. 'data_type'\n",
       "22. 'platform'\n",
       "23. 'is_ffpe'\n",
       "24. 'file_size'\n",
       "25. 'passage'\n",
       "26. 'disease_type'\n",
       "27. 'comment'\n",
       "28. 'investigation'\n",
       "29. 'disease_detail'\n",
       "\n",
       "\n"
      ],
      "text/plain": [
       " [1] \"Index\"                 \"contributor\"           \"file_name\"            \n",
       " [4] \"patient_id\"            \"model_id\"              \"tumor_id\"             \n",
       " [7] \"case_id\"               \"sample_id\"             \"sample_type\"          \n",
       "[10] \"experimental_strategy\" \"gender\"                \"paired_end\"           \n",
       "[13] \"capture_kit\"           \"capture_assembly\"      \"availability\"         \n",
       "[16] \"public\"                \"access_level\"          \"created_datetime\"     \n",
       "[19] \"data_category\"         \"data_format\"           \"data_type\"            \n",
       "[22] \"platform\"              \"is_ffpe\"               \"file_size\"            \n",
       "[25] \"passage\"               \"disease_type\"          \"comment\"              \n",
       "[28] \"investigation\"         \"disease_detail\"       "
      ]
     },
     "metadata": {},
     "output_type": "display_data"
    }
   ],
   "source": [
    "edited_pdtc_files_by_contributor[['WISTAR']] %>% nrow()\n",
    "edited_pdtc_files_by_contributor[['WISTAR']] %>% head()\n",
    "colnames(edited_pdtc_files_by_contributor[['WISTAR']])"
   ]
  },
  {
   "cell_type": "code",
   "execution_count": 64,
   "id": "ec08c892-4b96-41c9-956b-e39f9881438c",
   "metadata": {},
   "outputs": [
    {
     "data": {
      "text/html": [
       "<table class=\"dataframe\">\n",
       "<caption>A data.frame: 29 × 1</caption>\n",
       "<thead>\n",
       "\t<tr><th></th><th scope=col>.</th></tr>\n",
       "\t<tr><th></th><th scope=col>&lt;dbl&gt;</th></tr>\n",
       "</thead>\n",
       "<tbody>\n",
       "\t<tr><th scope=row>Index</th><td>  0</td></tr>\n",
       "\t<tr><th scope=row>contributor</th><td>  0</td></tr>\n",
       "\t<tr><th scope=row>file_name</th><td>  0</td></tr>\n",
       "\t<tr><th scope=row>patient_id</th><td> 12</td></tr>\n",
       "\t<tr><th scope=row>model_id</th><td>  0</td></tr>\n",
       "\t<tr><th scope=row>tumor_id</th><td>382</td></tr>\n",
       "\t<tr><th scope=row>case_id</th><td>382</td></tr>\n",
       "\t<tr><th scope=row>sample_id</th><td>  0</td></tr>\n",
       "\t<tr><th scope=row>sample_type</th><td>  0</td></tr>\n",
       "\t<tr><th scope=row>experimental_strategy</th><td>  0</td></tr>\n",
       "\t<tr><th scope=row>gender</th><td>382</td></tr>\n",
       "\t<tr><th scope=row>paired_end</th><td>  0</td></tr>\n",
       "\t<tr><th scope=row>capture_kit</th><td>  0</td></tr>\n",
       "\t<tr><th scope=row>capture_assembly</th><td>382</td></tr>\n",
       "\t<tr><th scope=row>availability</th><td>  0</td></tr>\n",
       "\t<tr><th scope=row>public</th><td>  0</td></tr>\n",
       "\t<tr><th scope=row>access_level</th><td>  0</td></tr>\n",
       "\t<tr><th scope=row>created_datetime</th><td>370</td></tr>\n",
       "\t<tr><th scope=row>data_category</th><td>  0</td></tr>\n",
       "\t<tr><th scope=row>data_format</th><td>  0</td></tr>\n",
       "\t<tr><th scope=row>data_type</th><td>  0</td></tr>\n",
       "\t<tr><th scope=row>platform</th><td>  0</td></tr>\n",
       "\t<tr><th scope=row>is_ffpe</th><td>  0</td></tr>\n",
       "\t<tr><th scope=row>file_size</th><td>  0</td></tr>\n",
       "\t<tr><th scope=row>passage</th><td> 12</td></tr>\n",
       "\t<tr><th scope=row>disease_type</th><td>382</td></tr>\n",
       "\t<tr><th scope=row>comment</th><td>382</td></tr>\n",
       "\t<tr><th scope=row>investigation</th><td>382</td></tr>\n",
       "\t<tr><th scope=row>disease_detail</th><td>382</td></tr>\n",
       "</tbody>\n",
       "</table>\n"
      ],
      "text/latex": [
       "A data.frame: 29 × 1\n",
       "\\begin{tabular}{r|l}\n",
       "  & .\\\\\n",
       "  & <dbl>\\\\\n",
       "\\hline\n",
       "\tIndex &   0\\\\\n",
       "\tcontributor &   0\\\\\n",
       "\tfile\\_name &   0\\\\\n",
       "\tpatient\\_id &  12\\\\\n",
       "\tmodel\\_id &   0\\\\\n",
       "\ttumor\\_id & 382\\\\\n",
       "\tcase\\_id & 382\\\\\n",
       "\tsample\\_id &   0\\\\\n",
       "\tsample\\_type &   0\\\\\n",
       "\texperimental\\_strategy &   0\\\\\n",
       "\tgender & 382\\\\\n",
       "\tpaired\\_end &   0\\\\\n",
       "\tcapture\\_kit &   0\\\\\n",
       "\tcapture\\_assembly & 382\\\\\n",
       "\tavailability &   0\\\\\n",
       "\tpublic &   0\\\\\n",
       "\taccess\\_level &   0\\\\\n",
       "\tcreated\\_datetime & 370\\\\\n",
       "\tdata\\_category &   0\\\\\n",
       "\tdata\\_format &   0\\\\\n",
       "\tdata\\_type &   0\\\\\n",
       "\tplatform &   0\\\\\n",
       "\tis\\_ffpe &   0\\\\\n",
       "\tfile\\_size &   0\\\\\n",
       "\tpassage &  12\\\\\n",
       "\tdisease\\_type & 382\\\\\n",
       "\tcomment & 382\\\\\n",
       "\tinvestigation & 382\\\\\n",
       "\tdisease\\_detail & 382\\\\\n",
       "\\end{tabular}\n"
      ],
      "text/markdown": [
       "\n",
       "A data.frame: 29 × 1\n",
       "\n",
       "| <!--/--> | . &lt;dbl&gt; |\n",
       "|---|---|\n",
       "| Index |   0 |\n",
       "| contributor |   0 |\n",
       "| file_name |   0 |\n",
       "| patient_id |  12 |\n",
       "| model_id |   0 |\n",
       "| tumor_id | 382 |\n",
       "| case_id | 382 |\n",
       "| sample_id |   0 |\n",
       "| sample_type |   0 |\n",
       "| experimental_strategy |   0 |\n",
       "| gender | 382 |\n",
       "| paired_end |   0 |\n",
       "| capture_kit |   0 |\n",
       "| capture_assembly | 382 |\n",
       "| availability |   0 |\n",
       "| public |   0 |\n",
       "| access_level |   0 |\n",
       "| created_datetime | 370 |\n",
       "| data_category |   0 |\n",
       "| data_format |   0 |\n",
       "| data_type |   0 |\n",
       "| platform |   0 |\n",
       "| is_ffpe |   0 |\n",
       "| file_size |   0 |\n",
       "| passage |  12 |\n",
       "| disease_type | 382 |\n",
       "| comment | 382 |\n",
       "| investigation | 382 |\n",
       "| disease_detail | 382 |\n",
       "\n"
      ],
      "text/plain": [
       "                      .  \n",
       "Index                   0\n",
       "contributor             0\n",
       "file_name               0\n",
       "patient_id             12\n",
       "model_id                0\n",
       "tumor_id              382\n",
       "case_id               382\n",
       "sample_id               0\n",
       "sample_type             0\n",
       "experimental_strategy   0\n",
       "gender                382\n",
       "paired_end              0\n",
       "capture_kit             0\n",
       "capture_assembly      382\n",
       "availability            0\n",
       "public                  0\n",
       "access_level            0\n",
       "created_datetime      370\n",
       "data_category           0\n",
       "data_format             0\n",
       "data_type               0\n",
       "platform                0\n",
       "is_ffpe                 0\n",
       "file_size               0\n",
       "passage                12\n",
       "disease_type          382\n",
       "comment               382\n",
       "investigation         382\n",
       "disease_detail        382"
      ]
     },
     "metadata": {},
     "output_type": "display_data"
    }
   ],
   "source": [
    "# How many NAs are there for the most important columns?\n",
    "\n",
    "colSums((is.na(edited_pdtc_files_by_contributor[['WISTAR']]) | (edited_pdtc_files_by_contributor[['WISTAR']] == 'Unknown') | (edited_pdtc_files_by_contributor[['WISTAR']] == '?'))) %>% as.data.frame()"
   ]
  },
  {
   "cell_type": "markdown",
   "id": "45f797ea-7fba-4287-8c76-74f0e399649d",
   "metadata": {},
   "source": [
    "One thing we can fix very easily, is that all of these are Melanoma models according to the metadata sheet that I've gotten for dbGaP/CDS. The missing patient IDs I looked for in the model metadata, but none of those 12 are in there."
   ]
  },
  {
   "cell_type": "code",
   "execution_count": 65,
   "id": "df548426-bc64-4c8b-a67b-6d3b3d88b49b",
   "metadata": {},
   "outputs": [
    {
     "data": {
      "text/html": [
       "<table class=\"dataframe\">\n",
       "<caption>A tibble: 6 × 6</caption>\n",
       "<thead>\n",
       "\t<tr><th scope=col>SUBJECT_ID</th><th scope=col>CONSENT</th><th scope=col>SEX</th><th scope=col>AGE</th><th scope=col>DISEASE_DESCRIPTION</th><th scope=col>DISEASE_CODE</th></tr>\n",
       "\t<tr><th scope=col>&lt;chr&gt;</th><th scope=col>&lt;dbl&gt;</th><th scope=col>&lt;chr&gt;</th><th scope=col>&lt;chr&gt;</th><th scope=col>&lt;chr&gt;</th><th scope=col>&lt;dbl&gt;</th></tr>\n",
       "</thead>\n",
       "<tbody>\n",
       "\t<tr><td>WM3907</td><td>1</td><td>2</td><td>62</td><td>Melanoma</td><td>10053571</td></tr>\n",
       "\t<tr><td>WM3922</td><td>1</td><td>1</td><td>57</td><td>Melanoma</td><td>10053571</td></tr>\n",
       "\t<tr><td>WM3926</td><td>1</td><td>1</td><td>47</td><td>Melanoma</td><td>10053571</td></tr>\n",
       "\t<tr><td>WM3934</td><td>1</td><td>2</td><td>75</td><td>Melanoma</td><td>10053571</td></tr>\n",
       "\t<tr><td>WM3936</td><td>1</td><td>2</td><td>70</td><td>Melanoma</td><td>10053571</td></tr>\n",
       "\t<tr><td>WM3939</td><td>1</td><td>1</td><td>54</td><td>Melanoma</td><td>10053571</td></tr>\n",
       "</tbody>\n",
       "</table>\n"
      ],
      "text/latex": [
       "A tibble: 6 × 6\n",
       "\\begin{tabular}{llllll}\n",
       " SUBJECT\\_ID & CONSENT & SEX & AGE & DISEASE\\_DESCRIPTION & DISEASE\\_CODE\\\\\n",
       " <chr> & <dbl> & <chr> & <chr> & <chr> & <dbl>\\\\\n",
       "\\hline\n",
       "\t WM3907 & 1 & 2 & 62 & Melanoma & 10053571\\\\\n",
       "\t WM3922 & 1 & 1 & 57 & Melanoma & 10053571\\\\\n",
       "\t WM3926 & 1 & 1 & 47 & Melanoma & 10053571\\\\\n",
       "\t WM3934 & 1 & 2 & 75 & Melanoma & 10053571\\\\\n",
       "\t WM3936 & 1 & 2 & 70 & Melanoma & 10053571\\\\\n",
       "\t WM3939 & 1 & 1 & 54 & Melanoma & 10053571\\\\\n",
       "\\end{tabular}\n"
      ],
      "text/markdown": [
       "\n",
       "A tibble: 6 × 6\n",
       "\n",
       "| SUBJECT_ID &lt;chr&gt; | CONSENT &lt;dbl&gt; | SEX &lt;chr&gt; | AGE &lt;chr&gt; | DISEASE_DESCRIPTION &lt;chr&gt; | DISEASE_CODE &lt;dbl&gt; |\n",
       "|---|---|---|---|---|---|\n",
       "| WM3907 | 1 | 2 | 62 | Melanoma | 10053571 |\n",
       "| WM3922 | 1 | 1 | 57 | Melanoma | 10053571 |\n",
       "| WM3926 | 1 | 1 | 47 | Melanoma | 10053571 |\n",
       "| WM3934 | 1 | 2 | 75 | Melanoma | 10053571 |\n",
       "| WM3936 | 1 | 2 | 70 | Melanoma | 10053571 |\n",
       "| WM3939 | 1 | 1 | 54 | Melanoma | 10053571 |\n",
       "\n"
      ],
      "text/plain": [
       "  SUBJECT_ID CONSENT SEX AGE DISEASE_DESCRIPTION DISEASE_CODE\n",
       "1 WM3907     1       2   62  Melanoma            10053571    \n",
       "2 WM3922     1       1   57  Melanoma            10053571    \n",
       "3 WM3926     1       1   47  Melanoma            10053571    \n",
       "4 WM3934     1       2   75  Melanoma            10053571    \n",
       "5 WM3936     1       2   70  Melanoma            10053571    \n",
       "6 WM3939     1       1   54  Melanoma            10053571    "
      ]
     },
     "metadata": {},
     "output_type": "display_data"
    }
   ],
   "source": [
    "# Load i nthe subject phenotype info from the dbGaP submission to fill over to this\n",
    "\n",
    "wistar_subject_phenotypes <- read_excel('wistar_subjectphenotype_DS_v2.xlsx')\n",
    "\n",
    "head(wistar_subject_phenotypes)"
   ]
  },
  {
   "cell_type": "code",
   "execution_count": 66,
   "id": "a34a797f-2dd2-49b1-9acf-58eff496b93b",
   "metadata": {},
   "outputs": [
    {
     "data": {
      "text/plain": [
       ".\n",
       "FALSE  TRUE \n",
       "    1    46 "
      ]
     },
     "metadata": {},
     "output_type": "display_data"
    }
   ],
   "source": [
    "# Are all these subject Ids found in the portal metadata?\n",
    "\n",
    "(edited_pdtc_files_by_contributor[['WISTAR']]$patient_id %>% unique()) %in% wistar_subject_phenotypes$SUBJECT_ID %>% table()"
   ]
  },
  {
   "cell_type": "markdown",
   "id": "4b99679f-7855-4975-92bf-1dad06bb3f89",
   "metadata": {},
   "source": [
    "All but one of them are in there. So, what's that one?"
   ]
  },
  {
   "cell_type": "code",
   "execution_count": 67,
   "id": "1abe781f-5da4-4aa0-9084-edddbfa9a91c",
   "metadata": {},
   "outputs": [
    {
     "data": {
      "text/html": [
       "<table class=\"dataframe\">\n",
       "<caption>A tibble: 12 × 29</caption>\n",
       "<thead>\n",
       "\t<tr><th scope=col>Index</th><th scope=col>contributor</th><th scope=col>file_name</th><th scope=col>patient_id</th><th scope=col>model_id</th><th scope=col>tumor_id</th><th scope=col>case_id</th><th scope=col>sample_id</th><th scope=col>sample_type</th><th scope=col>experimental_strategy</th><th scope=col>⋯</th><th scope=col>data_format</th><th scope=col>data_type</th><th scope=col>platform</th><th scope=col>is_ffpe</th><th scope=col>file_size</th><th scope=col>passage</th><th scope=col>disease_type</th><th scope=col>comment</th><th scope=col>investigation</th><th scope=col>disease_detail</th></tr>\n",
       "\t<tr><th scope=col>&lt;dbl&gt;</th><th scope=col>&lt;chr&gt;</th><th scope=col>&lt;chr&gt;</th><th scope=col>&lt;chr&gt;</th><th scope=col>&lt;chr&gt;</th><th scope=col>&lt;chr&gt;</th><th scope=col>&lt;chr&gt;</th><th scope=col>&lt;chr&gt;</th><th scope=col>&lt;chr&gt;</th><th scope=col>&lt;chr&gt;</th><th scope=col>⋯</th><th scope=col>&lt;chr&gt;</th><th scope=col>&lt;chr&gt;</th><th scope=col>&lt;chr&gt;</th><th scope=col>&lt;lgl&gt;</th><th scope=col>&lt;dbl&gt;</th><th scope=col>&lt;chr&gt;</th><th scope=col>&lt;chr&gt;</th><th scope=col>&lt;chr&gt;</th><th scope=col>&lt;lgl&gt;</th><th scope=col>&lt;chr&gt;</th></tr>\n",
       "</thead>\n",
       "<tbody>\n",
       "\t<tr><td>1642</td><td>WISTAR</td><td>1-AM-0245_S1_R1.fastq.gz</td><td>NA</td><td>AM0245</td><td>NA</td><td>NA</td><td>AM0245</td><td>PDX</td><td>WES    </td><td>⋯</td><td>fastq.gz</td><td>Raw Reads</td><td>Illumina</td><td>FALSE</td><td> 6576631217</td><td>NA</td><td>Unknown</td><td>NA</td><td>NA</td><td>Unknown</td></tr>\n",
       "\t<tr><td>1643</td><td>WISTAR</td><td>1-AM-0245_S1_R2.fastq.gz</td><td>NA</td><td>AM0245</td><td>NA</td><td>NA</td><td>AM0245</td><td>PDX</td><td>WES    </td><td>⋯</td><td>fastq.gz</td><td>Raw Reads</td><td>Illumina</td><td>FALSE</td><td> 6604368891</td><td>NA</td><td>Unknown</td><td>NA</td><td>NA</td><td>Unknown</td></tr>\n",
       "\t<tr><td>1644</td><td>WISTAR</td><td>2-CK-2021_S2_R1.fastq.gz</td><td>NA</td><td>CK2021</td><td>NA</td><td>NA</td><td>CK2021</td><td>PDX</td><td>WES    </td><td>⋯</td><td>fastq.gz</td><td>Raw Reads</td><td>Illumina</td><td>FALSE</td><td> 5896023384</td><td>NA</td><td>Unknown</td><td>NA</td><td>NA</td><td>Unknown</td></tr>\n",
       "\t<tr><td>1645</td><td>WISTAR</td><td>2-CK-2021_S2_R2.fastq.gz</td><td>NA</td><td>CK2021</td><td>NA</td><td>NA</td><td>CK2021</td><td>PDX</td><td>WES    </td><td>⋯</td><td>fastq.gz</td><td>Raw Reads</td><td>Illumina</td><td>FALSE</td><td> 5968313484</td><td>NA</td><td>Unknown</td><td>NA</td><td>NA</td><td>Unknown</td></tr>\n",
       "\t<tr><td>1646</td><td>WISTAR</td><td>3-CK-0643_S3_R1.fastq.gz</td><td>NA</td><td>CK0643</td><td>NA</td><td>NA</td><td>CK0643</td><td>PDX</td><td>WES    </td><td>⋯</td><td>fastq.gz</td><td>Raw Reads</td><td>Illumina</td><td>FALSE</td><td>12696484380</td><td>NA</td><td>Unknown</td><td>NA</td><td>NA</td><td>Unknown</td></tr>\n",
       "\t<tr><td>1647</td><td>WISTAR</td><td>3-CK-0643_S3_R2.fastq.gz</td><td>NA</td><td>CK0643</td><td>NA</td><td>NA</td><td>CK0643</td><td>PDX</td><td>WES    </td><td>⋯</td><td>fastq.gz</td><td>Raw Reads</td><td>Illumina</td><td>FALSE</td><td>12831443167</td><td>NA</td><td>Unknown</td><td>NA</td><td>NA</td><td>Unknown</td></tr>\n",
       "\t<tr><td>1648</td><td>WISTAR</td><td>1-AM0245_S1_1.fastq     </td><td>NA</td><td>AM0245</td><td>NA</td><td>NA</td><td>AM0245</td><td>PDX</td><td>RNA-Seq</td><td>⋯</td><td>fastq   </td><td>Raw Reads</td><td>Illumina</td><td>FALSE</td><td>10954394853</td><td>NA</td><td>Unknown</td><td>NA</td><td>NA</td><td>Unknown</td></tr>\n",
       "\t<tr><td>1649</td><td>WISTAR</td><td>1-AM0245_S1_2.fastq     </td><td>NA</td><td>AM0245</td><td>NA</td><td>NA</td><td>AM0245</td><td>PDX</td><td>RNA-Seq</td><td>⋯</td><td>fastq   </td><td>Raw Reads</td><td>Illumina</td><td>FALSE</td><td>10954834357</td><td>NA</td><td>Unknown</td><td>NA</td><td>NA</td><td>Unknown</td></tr>\n",
       "\t<tr><td>1650</td><td>WISTAR</td><td>2-CK2021_S2_1.fastq     </td><td>NA</td><td>CK2021</td><td>NA</td><td>NA</td><td>CK2021</td><td>PDX</td><td>RNA-Seq</td><td>⋯</td><td>fastq   </td><td>Raw Reads</td><td>Illumina</td><td>FALSE</td><td>11295504826</td><td>NA</td><td>Unknown</td><td>NA</td><td>NA</td><td>Unknown</td></tr>\n",
       "\t<tr><td>1651</td><td>WISTAR</td><td>2-CK2021_S2_2.fastq     </td><td>NA</td><td>CK2021</td><td>NA</td><td>NA</td><td>CK2021</td><td>PDX</td><td>RNA-Seq</td><td>⋯</td><td>fastq   </td><td>Raw Reads</td><td>Illumina</td><td>FALSE</td><td>11295091028</td><td>NA</td><td>Unknown</td><td>NA</td><td>NA</td><td>Unknown</td></tr>\n",
       "\t<tr><td>1652</td><td>WISTAR</td><td>3-CK0643_S3_1.fastq     </td><td>NA</td><td>CK0643</td><td>NA</td><td>NA</td><td>CK0643</td><td>PDX</td><td>RNA-Seq</td><td>⋯</td><td>fastq   </td><td>Raw Reads</td><td>Illumina</td><td>FALSE</td><td>10832783162</td><td>NA</td><td>Unknown</td><td>NA</td><td>NA</td><td>Unknown</td></tr>\n",
       "\t<tr><td>1653</td><td>WISTAR</td><td>3-CK0643_S3_2.fastq     </td><td>NA</td><td>CK0643</td><td>NA</td><td>NA</td><td>CK0643</td><td>PDX</td><td>RNA-Seq</td><td>⋯</td><td>fastq   </td><td>Raw Reads</td><td>Illumina</td><td>FALSE</td><td>10834131332</td><td>NA</td><td>Unknown</td><td>NA</td><td>NA</td><td>Unknown</td></tr>\n",
       "</tbody>\n",
       "</table>\n"
      ],
      "text/latex": [
       "A tibble: 12 × 29\n",
       "\\begin{tabular}{lllllllllllllllllllll}\n",
       " Index & contributor & file\\_name & patient\\_id & model\\_id & tumor\\_id & case\\_id & sample\\_id & sample\\_type & experimental\\_strategy & ⋯ & data\\_format & data\\_type & platform & is\\_ffpe & file\\_size & passage & disease\\_type & comment & investigation & disease\\_detail\\\\\n",
       " <dbl> & <chr> & <chr> & <chr> & <chr> & <chr> & <chr> & <chr> & <chr> & <chr> & ⋯ & <chr> & <chr> & <chr> & <lgl> & <dbl> & <chr> & <chr> & <chr> & <lgl> & <chr>\\\\\n",
       "\\hline\n",
       "\t 1642 & WISTAR & 1-AM-0245\\_S1\\_R1.fastq.gz & NA & AM0245 & NA & NA & AM0245 & PDX & WES     & ⋯ & fastq.gz & Raw Reads & Illumina & FALSE &  6576631217 & NA & Unknown & NA & NA & Unknown\\\\\n",
       "\t 1643 & WISTAR & 1-AM-0245\\_S1\\_R2.fastq.gz & NA & AM0245 & NA & NA & AM0245 & PDX & WES     & ⋯ & fastq.gz & Raw Reads & Illumina & FALSE &  6604368891 & NA & Unknown & NA & NA & Unknown\\\\\n",
       "\t 1644 & WISTAR & 2-CK-2021\\_S2\\_R1.fastq.gz & NA & CK2021 & NA & NA & CK2021 & PDX & WES     & ⋯ & fastq.gz & Raw Reads & Illumina & FALSE &  5896023384 & NA & Unknown & NA & NA & Unknown\\\\\n",
       "\t 1645 & WISTAR & 2-CK-2021\\_S2\\_R2.fastq.gz & NA & CK2021 & NA & NA & CK2021 & PDX & WES     & ⋯ & fastq.gz & Raw Reads & Illumina & FALSE &  5968313484 & NA & Unknown & NA & NA & Unknown\\\\\n",
       "\t 1646 & WISTAR & 3-CK-0643\\_S3\\_R1.fastq.gz & NA & CK0643 & NA & NA & CK0643 & PDX & WES     & ⋯ & fastq.gz & Raw Reads & Illumina & FALSE & 12696484380 & NA & Unknown & NA & NA & Unknown\\\\\n",
       "\t 1647 & WISTAR & 3-CK-0643\\_S3\\_R2.fastq.gz & NA & CK0643 & NA & NA & CK0643 & PDX & WES     & ⋯ & fastq.gz & Raw Reads & Illumina & FALSE & 12831443167 & NA & Unknown & NA & NA & Unknown\\\\\n",
       "\t 1648 & WISTAR & 1-AM0245\\_S1\\_1.fastq      & NA & AM0245 & NA & NA & AM0245 & PDX & RNA-Seq & ⋯ & fastq    & Raw Reads & Illumina & FALSE & 10954394853 & NA & Unknown & NA & NA & Unknown\\\\\n",
       "\t 1649 & WISTAR & 1-AM0245\\_S1\\_2.fastq      & NA & AM0245 & NA & NA & AM0245 & PDX & RNA-Seq & ⋯ & fastq    & Raw Reads & Illumina & FALSE & 10954834357 & NA & Unknown & NA & NA & Unknown\\\\\n",
       "\t 1650 & WISTAR & 2-CK2021\\_S2\\_1.fastq      & NA & CK2021 & NA & NA & CK2021 & PDX & RNA-Seq & ⋯ & fastq    & Raw Reads & Illumina & FALSE & 11295504826 & NA & Unknown & NA & NA & Unknown\\\\\n",
       "\t 1651 & WISTAR & 2-CK2021\\_S2\\_2.fastq      & NA & CK2021 & NA & NA & CK2021 & PDX & RNA-Seq & ⋯ & fastq    & Raw Reads & Illumina & FALSE & 11295091028 & NA & Unknown & NA & NA & Unknown\\\\\n",
       "\t 1652 & WISTAR & 3-CK0643\\_S3\\_1.fastq      & NA & CK0643 & NA & NA & CK0643 & PDX & RNA-Seq & ⋯ & fastq    & Raw Reads & Illumina & FALSE & 10832783162 & NA & Unknown & NA & NA & Unknown\\\\\n",
       "\t 1653 & WISTAR & 3-CK0643\\_S3\\_2.fastq      & NA & CK0643 & NA & NA & CK0643 & PDX & RNA-Seq & ⋯ & fastq    & Raw Reads & Illumina & FALSE & 10834131332 & NA & Unknown & NA & NA & Unknown\\\\\n",
       "\\end{tabular}\n"
      ],
      "text/markdown": [
       "\n",
       "A tibble: 12 × 29\n",
       "\n",
       "| Index &lt;dbl&gt; | contributor &lt;chr&gt; | file_name &lt;chr&gt; | patient_id &lt;chr&gt; | model_id &lt;chr&gt; | tumor_id &lt;chr&gt; | case_id &lt;chr&gt; | sample_id &lt;chr&gt; | sample_type &lt;chr&gt; | experimental_strategy &lt;chr&gt; | ⋯ ⋯ | data_format &lt;chr&gt; | data_type &lt;chr&gt; | platform &lt;chr&gt; | is_ffpe &lt;lgl&gt; | file_size &lt;dbl&gt; | passage &lt;chr&gt; | disease_type &lt;chr&gt; | comment &lt;chr&gt; | investigation &lt;lgl&gt; | disease_detail &lt;chr&gt; |\n",
       "|---|---|---|---|---|---|---|---|---|---|---|---|---|---|---|---|---|---|---|---|---|\n",
       "| 1642 | WISTAR | 1-AM-0245_S1_R1.fastq.gz | NA | AM0245 | NA | NA | AM0245 | PDX | WES     | ⋯ | fastq.gz | Raw Reads | Illumina | FALSE |  6576631217 | NA | Unknown | NA | NA | Unknown |\n",
       "| 1643 | WISTAR | 1-AM-0245_S1_R2.fastq.gz | NA | AM0245 | NA | NA | AM0245 | PDX | WES     | ⋯ | fastq.gz | Raw Reads | Illumina | FALSE |  6604368891 | NA | Unknown | NA | NA | Unknown |\n",
       "| 1644 | WISTAR | 2-CK-2021_S2_R1.fastq.gz | NA | CK2021 | NA | NA | CK2021 | PDX | WES     | ⋯ | fastq.gz | Raw Reads | Illumina | FALSE |  5896023384 | NA | Unknown | NA | NA | Unknown |\n",
       "| 1645 | WISTAR | 2-CK-2021_S2_R2.fastq.gz | NA | CK2021 | NA | NA | CK2021 | PDX | WES     | ⋯ | fastq.gz | Raw Reads | Illumina | FALSE |  5968313484 | NA | Unknown | NA | NA | Unknown |\n",
       "| 1646 | WISTAR | 3-CK-0643_S3_R1.fastq.gz | NA | CK0643 | NA | NA | CK0643 | PDX | WES     | ⋯ | fastq.gz | Raw Reads | Illumina | FALSE | 12696484380 | NA | Unknown | NA | NA | Unknown |\n",
       "| 1647 | WISTAR | 3-CK-0643_S3_R2.fastq.gz | NA | CK0643 | NA | NA | CK0643 | PDX | WES     | ⋯ | fastq.gz | Raw Reads | Illumina | FALSE | 12831443167 | NA | Unknown | NA | NA | Unknown |\n",
       "| 1648 | WISTAR | 1-AM0245_S1_1.fastq      | NA | AM0245 | NA | NA | AM0245 | PDX | RNA-Seq | ⋯ | fastq    | Raw Reads | Illumina | FALSE | 10954394853 | NA | Unknown | NA | NA | Unknown |\n",
       "| 1649 | WISTAR | 1-AM0245_S1_2.fastq      | NA | AM0245 | NA | NA | AM0245 | PDX | RNA-Seq | ⋯ | fastq    | Raw Reads | Illumina | FALSE | 10954834357 | NA | Unknown | NA | NA | Unknown |\n",
       "| 1650 | WISTAR | 2-CK2021_S2_1.fastq      | NA | CK2021 | NA | NA | CK2021 | PDX | RNA-Seq | ⋯ | fastq    | Raw Reads | Illumina | FALSE | 11295504826 | NA | Unknown | NA | NA | Unknown |\n",
       "| 1651 | WISTAR | 2-CK2021_S2_2.fastq      | NA | CK2021 | NA | NA | CK2021 | PDX | RNA-Seq | ⋯ | fastq    | Raw Reads | Illumina | FALSE | 11295091028 | NA | Unknown | NA | NA | Unknown |\n",
       "| 1652 | WISTAR | 3-CK0643_S3_1.fastq      | NA | CK0643 | NA | NA | CK0643 | PDX | RNA-Seq | ⋯ | fastq    | Raw Reads | Illumina | FALSE | 10832783162 | NA | Unknown | NA | NA | Unknown |\n",
       "| 1653 | WISTAR | 3-CK0643_S3_2.fastq      | NA | CK0643 | NA | NA | CK0643 | PDX | RNA-Seq | ⋯ | fastq    | Raw Reads | Illumina | FALSE | 10834131332 | NA | Unknown | NA | NA | Unknown |\n",
       "\n"
      ],
      "text/plain": [
       "   Index contributor file_name                patient_id model_id tumor_id\n",
       "1  1642  WISTAR      1-AM-0245_S1_R1.fastq.gz NA         AM0245   NA      \n",
       "2  1643  WISTAR      1-AM-0245_S1_R2.fastq.gz NA         AM0245   NA      \n",
       "3  1644  WISTAR      2-CK-2021_S2_R1.fastq.gz NA         CK2021   NA      \n",
       "4  1645  WISTAR      2-CK-2021_S2_R2.fastq.gz NA         CK2021   NA      \n",
       "5  1646  WISTAR      3-CK-0643_S3_R1.fastq.gz NA         CK0643   NA      \n",
       "6  1647  WISTAR      3-CK-0643_S3_R2.fastq.gz NA         CK0643   NA      \n",
       "7  1648  WISTAR      1-AM0245_S1_1.fastq      NA         AM0245   NA      \n",
       "8  1649  WISTAR      1-AM0245_S1_2.fastq      NA         AM0245   NA      \n",
       "9  1650  WISTAR      2-CK2021_S2_1.fastq      NA         CK2021   NA      \n",
       "10 1651  WISTAR      2-CK2021_S2_2.fastq      NA         CK2021   NA      \n",
       "11 1652  WISTAR      3-CK0643_S3_1.fastq      NA         CK0643   NA      \n",
       "12 1653  WISTAR      3-CK0643_S3_2.fastq      NA         CK0643   NA      \n",
       "   case_id sample_id sample_type experimental_strategy ⋯ data_format data_type\n",
       "1  NA      AM0245    PDX         WES                   ⋯ fastq.gz    Raw Reads\n",
       "2  NA      AM0245    PDX         WES                   ⋯ fastq.gz    Raw Reads\n",
       "3  NA      CK2021    PDX         WES                   ⋯ fastq.gz    Raw Reads\n",
       "4  NA      CK2021    PDX         WES                   ⋯ fastq.gz    Raw Reads\n",
       "5  NA      CK0643    PDX         WES                   ⋯ fastq.gz    Raw Reads\n",
       "6  NA      CK0643    PDX         WES                   ⋯ fastq.gz    Raw Reads\n",
       "7  NA      AM0245    PDX         RNA-Seq               ⋯ fastq       Raw Reads\n",
       "8  NA      AM0245    PDX         RNA-Seq               ⋯ fastq       Raw Reads\n",
       "9  NA      CK2021    PDX         RNA-Seq               ⋯ fastq       Raw Reads\n",
       "10 NA      CK2021    PDX         RNA-Seq               ⋯ fastq       Raw Reads\n",
       "11 NA      CK0643    PDX         RNA-Seq               ⋯ fastq       Raw Reads\n",
       "12 NA      CK0643    PDX         RNA-Seq               ⋯ fastq       Raw Reads\n",
       "   platform is_ffpe file_size   passage disease_type comment investigation\n",
       "1  Illumina FALSE    6576631217 NA      Unknown      NA      NA           \n",
       "2  Illumina FALSE    6604368891 NA      Unknown      NA      NA           \n",
       "3  Illumina FALSE    5896023384 NA      Unknown      NA      NA           \n",
       "4  Illumina FALSE    5968313484 NA      Unknown      NA      NA           \n",
       "5  Illumina FALSE   12696484380 NA      Unknown      NA      NA           \n",
       "6  Illumina FALSE   12831443167 NA      Unknown      NA      NA           \n",
       "7  Illumina FALSE   10954394853 NA      Unknown      NA      NA           \n",
       "8  Illumina FALSE   10954834357 NA      Unknown      NA      NA           \n",
       "9  Illumina FALSE   11295504826 NA      Unknown      NA      NA           \n",
       "10 Illumina FALSE   11295091028 NA      Unknown      NA      NA           \n",
       "11 Illumina FALSE   10832783162 NA      Unknown      NA      NA           \n",
       "12 Illumina FALSE   10834131332 NA      Unknown      NA      NA           \n",
       "   disease_detail\n",
       "1  Unknown       \n",
       "2  Unknown       \n",
       "3  Unknown       \n",
       "4  Unknown       \n",
       "5  Unknown       \n",
       "6  Unknown       \n",
       "7  Unknown       \n",
       "8  Unknown       \n",
       "9  Unknown       \n",
       "10 Unknown       \n",
       "11 Unknown       \n",
       "12 Unknown       "
      ]
     },
     "metadata": {},
     "output_type": "display_data"
    }
   ],
   "source": [
    "edited_pdtc_files_by_contributor[['WISTAR']] %>% filter(!(patient_id %in% wistar_subject_phenotypes$SUBJECT_ID))"
   ]
  },
  {
   "cell_type": "markdown",
   "id": "b82e51e2-49a3-478c-9a7e-4a250a04f77f",
   "metadata": {},
   "source": [
    "Looks like these are all the ones which are from the files that have no patient ID. No hope of filling those."
   ]
  },
  {
   "cell_type": "code",
   "execution_count": 68,
   "id": "1d367c5d-adb7-410a-96dd-290d70f5c384",
   "metadata": {},
   "outputs": [],
   "source": [
    "# Start with the easy stuff\n",
    "\n",
    "edited_wistar_files <- edited_pdtc_files_by_contributor[['WISTAR']] %>%\n",
    "    mutate(data_category = 'Raw Sequencing Data',\n",
    "           data_format = ifelse(endsWith(file_name, 'gz'), 'fastq.gz', 'fastq'),\n",
    "           data_type = 'Raw Reads'\n",
    "           )"
   ]
  },
  {
   "cell_type": "code",
   "execution_count": 69,
   "id": "30a3caea-9e12-4ff6-86b7-2f52e8cc35b4",
   "metadata": {},
   "outputs": [
    {
     "data": {
      "text/html": [
       "382"
      ],
      "text/latex": [
       "382"
      ],
      "text/markdown": [
       "382"
      ],
      "text/plain": [
       "[1] 382"
      ]
     },
     "metadata": {},
     "output_type": "display_data"
    },
    {
     "data": {
      "text/html": [
       "<table class=\"dataframe\">\n",
       "<caption>A tibble: 6 × 29</caption>\n",
       "<thead>\n",
       "\t<tr><th scope=col>Index</th><th scope=col>contributor</th><th scope=col>file_name</th><th scope=col>patient_id</th><th scope=col>model_id</th><th scope=col>tumor_id</th><th scope=col>case_id</th><th scope=col>sample_id</th><th scope=col>sample_type</th><th scope=col>experimental_strategy</th><th scope=col>⋯</th><th scope=col>data_format</th><th scope=col>data_type</th><th scope=col>platform</th><th scope=col>is_ffpe</th><th scope=col>file_size</th><th scope=col>passage</th><th scope=col>disease_type</th><th scope=col>comment</th><th scope=col>investigation</th><th scope=col>disease_detail</th></tr>\n",
       "\t<tr><th scope=col>&lt;dbl&gt;</th><th scope=col>&lt;chr&gt;</th><th scope=col>&lt;chr&gt;</th><th scope=col>&lt;chr&gt;</th><th scope=col>&lt;chr&gt;</th><th scope=col>&lt;chr&gt;</th><th scope=col>&lt;chr&gt;</th><th scope=col>&lt;chr&gt;</th><th scope=col>&lt;chr&gt;</th><th scope=col>&lt;chr&gt;</th><th scope=col>⋯</th><th scope=col>&lt;chr&gt;</th><th scope=col>&lt;chr&gt;</th><th scope=col>&lt;chr&gt;</th><th scope=col>&lt;lgl&gt;</th><th scope=col>&lt;dbl&gt;</th><th scope=col>&lt;chr&gt;</th><th scope=col>&lt;chr&gt;</th><th scope=col>&lt;chr&gt;</th><th scope=col>&lt;lgl&gt;</th><th scope=col>&lt;chr&gt;</th></tr>\n",
       "</thead>\n",
       "<tbody>\n",
       "\t<tr><td>1566</td><td>WISTAR</td><td>wm3907n_R1.fastq.gz</td><td>WM3907</td><td>wm3907n</td><td>NA</td><td>NA</td><td>wm3907n</td><td>Tumor</td><td>WES</td><td>⋯</td><td>fastq.gz</td><td>Raw Reads</td><td>Illumina</td><td>FALSE</td><td>5439234</td><td>NA</td><td>Skin</td><td>NA</td><td>NA</td><td>Melanoma</td></tr>\n",
       "\t<tr><td>1567</td><td>WISTAR</td><td>wm3907n_R2.fastq.gz</td><td>WM3907</td><td>wm3907n</td><td>NA</td><td>NA</td><td>wm3907n</td><td>Tumor</td><td>WES</td><td>⋯</td><td>fastq.gz</td><td>Raw Reads</td><td>Illumina</td><td>FALSE</td><td>6415082</td><td>NA</td><td>Skin</td><td>NA</td><td>NA</td><td>Melanoma</td></tr>\n",
       "\t<tr><td>1568</td><td>WISTAR</td><td>wm3922n_R1.fastq.gz</td><td>WM3922</td><td>wm3922n</td><td>NA</td><td>NA</td><td>wm3922n</td><td>Tumor</td><td>WES</td><td>⋯</td><td>fastq.gz</td><td>Raw Reads</td><td>Illumina</td><td>FALSE</td><td>3024602</td><td>NA</td><td>Skin</td><td>NA</td><td>NA</td><td>Melanoma</td></tr>\n",
       "\t<tr><td>1569</td><td>WISTAR</td><td>wm3922n_R2.fastq.gz</td><td>WM3922</td><td>wm3922n</td><td>NA</td><td>NA</td><td>wm3922n</td><td>Tumor</td><td>WES</td><td>⋯</td><td>fastq.gz</td><td>Raw Reads</td><td>Illumina</td><td>FALSE</td><td>3671122</td><td>NA</td><td>Skin</td><td>NA</td><td>NA</td><td>Melanoma</td></tr>\n",
       "\t<tr><td>1570</td><td>WISTAR</td><td>wm3926n_R1.fastq.gz</td><td>WM3926</td><td>wm3926n</td><td>NA</td><td>NA</td><td>wm3926n</td><td>Tumor</td><td>WES</td><td>⋯</td><td>fastq.gz</td><td>Raw Reads</td><td>Illumina</td><td>FALSE</td><td>3679890</td><td>NA</td><td>Skin</td><td>NA</td><td>NA</td><td>Melanoma</td></tr>\n",
       "\t<tr><td>1571</td><td>WISTAR</td><td>wm3926n_R2.fastq.gz</td><td>WM3926</td><td>wm3926n</td><td>NA</td><td>NA</td><td>wm3926n</td><td>Tumor</td><td>WES</td><td>⋯</td><td>fastq.gz</td><td>Raw Reads</td><td>Illumina</td><td>FALSE</td><td>4094170</td><td>NA</td><td>Skin</td><td>NA</td><td>NA</td><td>Melanoma</td></tr>\n",
       "</tbody>\n",
       "</table>\n"
      ],
      "text/latex": [
       "A tibble: 6 × 29\n",
       "\\begin{tabular}{lllllllllllllllllllll}\n",
       " Index & contributor & file\\_name & patient\\_id & model\\_id & tumor\\_id & case\\_id & sample\\_id & sample\\_type & experimental\\_strategy & ⋯ & data\\_format & data\\_type & platform & is\\_ffpe & file\\_size & passage & disease\\_type & comment & investigation & disease\\_detail\\\\\n",
       " <dbl> & <chr> & <chr> & <chr> & <chr> & <chr> & <chr> & <chr> & <chr> & <chr> & ⋯ & <chr> & <chr> & <chr> & <lgl> & <dbl> & <chr> & <chr> & <chr> & <lgl> & <chr>\\\\\n",
       "\\hline\n",
       "\t 1566 & WISTAR & wm3907n\\_R1.fastq.gz & WM3907 & wm3907n & NA & NA & wm3907n & Tumor & WES & ⋯ & fastq.gz & Raw Reads & Illumina & FALSE & 5439234 & NA & Skin & NA & NA & Melanoma\\\\\n",
       "\t 1567 & WISTAR & wm3907n\\_R2.fastq.gz & WM3907 & wm3907n & NA & NA & wm3907n & Tumor & WES & ⋯ & fastq.gz & Raw Reads & Illumina & FALSE & 6415082 & NA & Skin & NA & NA & Melanoma\\\\\n",
       "\t 1568 & WISTAR & wm3922n\\_R1.fastq.gz & WM3922 & wm3922n & NA & NA & wm3922n & Tumor & WES & ⋯ & fastq.gz & Raw Reads & Illumina & FALSE & 3024602 & NA & Skin & NA & NA & Melanoma\\\\\n",
       "\t 1569 & WISTAR & wm3922n\\_R2.fastq.gz & WM3922 & wm3922n & NA & NA & wm3922n & Tumor & WES & ⋯ & fastq.gz & Raw Reads & Illumina & FALSE & 3671122 & NA & Skin & NA & NA & Melanoma\\\\\n",
       "\t 1570 & WISTAR & wm3926n\\_R1.fastq.gz & WM3926 & wm3926n & NA & NA & wm3926n & Tumor & WES & ⋯ & fastq.gz & Raw Reads & Illumina & FALSE & 3679890 & NA & Skin & NA & NA & Melanoma\\\\\n",
       "\t 1571 & WISTAR & wm3926n\\_R2.fastq.gz & WM3926 & wm3926n & NA & NA & wm3926n & Tumor & WES & ⋯ & fastq.gz & Raw Reads & Illumina & FALSE & 4094170 & NA & Skin & NA & NA & Melanoma\\\\\n",
       "\\end{tabular}\n"
      ],
      "text/markdown": [
       "\n",
       "A tibble: 6 × 29\n",
       "\n",
       "| Index &lt;dbl&gt; | contributor &lt;chr&gt; | file_name &lt;chr&gt; | patient_id &lt;chr&gt; | model_id &lt;chr&gt; | tumor_id &lt;chr&gt; | case_id &lt;chr&gt; | sample_id &lt;chr&gt; | sample_type &lt;chr&gt; | experimental_strategy &lt;chr&gt; | ⋯ ⋯ | data_format &lt;chr&gt; | data_type &lt;chr&gt; | platform &lt;chr&gt; | is_ffpe &lt;lgl&gt; | file_size &lt;dbl&gt; | passage &lt;chr&gt; | disease_type &lt;chr&gt; | comment &lt;chr&gt; | investigation &lt;lgl&gt; | disease_detail &lt;chr&gt; |\n",
       "|---|---|---|---|---|---|---|---|---|---|---|---|---|---|---|---|---|---|---|---|---|\n",
       "| 1566 | WISTAR | wm3907n_R1.fastq.gz | WM3907 | wm3907n | NA | NA | wm3907n | Tumor | WES | ⋯ | fastq.gz | Raw Reads | Illumina | FALSE | 5439234 | NA | Skin | NA | NA | Melanoma |\n",
       "| 1567 | WISTAR | wm3907n_R2.fastq.gz | WM3907 | wm3907n | NA | NA | wm3907n | Tumor | WES | ⋯ | fastq.gz | Raw Reads | Illumina | FALSE | 6415082 | NA | Skin | NA | NA | Melanoma |\n",
       "| 1568 | WISTAR | wm3922n_R1.fastq.gz | WM3922 | wm3922n | NA | NA | wm3922n | Tumor | WES | ⋯ | fastq.gz | Raw Reads | Illumina | FALSE | 3024602 | NA | Skin | NA | NA | Melanoma |\n",
       "| 1569 | WISTAR | wm3922n_R2.fastq.gz | WM3922 | wm3922n | NA | NA | wm3922n | Tumor | WES | ⋯ | fastq.gz | Raw Reads | Illumina | FALSE | 3671122 | NA | Skin | NA | NA | Melanoma |\n",
       "| 1570 | WISTAR | wm3926n_R1.fastq.gz | WM3926 | wm3926n | NA | NA | wm3926n | Tumor | WES | ⋯ | fastq.gz | Raw Reads | Illumina | FALSE | 3679890 | NA | Skin | NA | NA | Melanoma |\n",
       "| 1571 | WISTAR | wm3926n_R2.fastq.gz | WM3926 | wm3926n | NA | NA | wm3926n | Tumor | WES | ⋯ | fastq.gz | Raw Reads | Illumina | FALSE | 4094170 | NA | Skin | NA | NA | Melanoma |\n",
       "\n"
      ],
      "text/plain": [
       "  Index contributor file_name           patient_id model_id tumor_id case_id\n",
       "1 1566  WISTAR      wm3907n_R1.fastq.gz WM3907     wm3907n  NA       NA     \n",
       "2 1567  WISTAR      wm3907n_R2.fastq.gz WM3907     wm3907n  NA       NA     \n",
       "3 1568  WISTAR      wm3922n_R1.fastq.gz WM3922     wm3922n  NA       NA     \n",
       "4 1569  WISTAR      wm3922n_R2.fastq.gz WM3922     wm3922n  NA       NA     \n",
       "5 1570  WISTAR      wm3926n_R1.fastq.gz WM3926     wm3926n  NA       NA     \n",
       "6 1571  WISTAR      wm3926n_R2.fastq.gz WM3926     wm3926n  NA       NA     \n",
       "  sample_id sample_type experimental_strategy ⋯ data_format data_type platform\n",
       "1 wm3907n   Tumor       WES                   ⋯ fastq.gz    Raw Reads Illumina\n",
       "2 wm3907n   Tumor       WES                   ⋯ fastq.gz    Raw Reads Illumina\n",
       "3 wm3922n   Tumor       WES                   ⋯ fastq.gz    Raw Reads Illumina\n",
       "4 wm3922n   Tumor       WES                   ⋯ fastq.gz    Raw Reads Illumina\n",
       "5 wm3926n   Tumor       WES                   ⋯ fastq.gz    Raw Reads Illumina\n",
       "6 wm3926n   Tumor       WES                   ⋯ fastq.gz    Raw Reads Illumina\n",
       "  is_ffpe file_size passage disease_type comment investigation disease_detail\n",
       "1 FALSE   5439234   NA      Skin         NA      NA            Melanoma      \n",
       "2 FALSE   6415082   NA      Skin         NA      NA            Melanoma      \n",
       "3 FALSE   3024602   NA      Skin         NA      NA            Melanoma      \n",
       "4 FALSE   3671122   NA      Skin         NA      NA            Melanoma      \n",
       "5 FALSE   3679890   NA      Skin         NA      NA            Melanoma      \n",
       "6 FALSE   4094170   NA      Skin         NA      NA            Melanoma      "
      ]
     },
     "metadata": {},
     "output_type": "display_data"
    }
   ],
   "source": [
    "# Fill in the disease info for all the others, and make the rest of the fields more consistent\n",
    "\n",
    "edited_wistar_files <- edited_wistar_files %>% left_join(select(wistar_subject_phenotypes, SUBJECT_ID, SEX, DISEASE_DESCRIPTION), by = c('patient_id' = 'SUBJECT_ID')) %>%\n",
    "    mutate(gender = str_replace(str_replace(str_replace(SEX, 'UNK', 'Unknown'), '1', 'Male'), '2', 'Female'),\n",
    "           disease_detail = ifelse(!is.na(DISEASE_DESCRIPTION), DISEASE_DESCRIPTION, 'Unknown'),\n",
    "           passage = ifelse(((passage == 'Tumor') | (passage == 'tumor')), NA, passage)) %>%\n",
    "    mutate(disease_type = ifelse(disease_detail == 'Unknown', 'Unknown', 'Skin')) %>%\n",
    "    select(-SEX, -DISEASE_DESCRIPTION) \n",
    "\n",
    "nrow(edited_wistar_files)\n",
    "head(edited_wistar_files)"
   ]
  },
  {
   "cell_type": "code",
   "execution_count": 70,
   "id": "8198080a-9c8a-42b8-ab78-33516c9bf158",
   "metadata": {},
   "outputs": [],
   "source": [
    "# One more small detail, turn NAs in gender into Unknown\n",
    "\n",
    "edited_wistar_files <- edited_wistar_files %>% mutate(gender = ifelse(is.na(gender), 'Unknown', gender))"
   ]
  },
  {
   "cell_type": "code",
   "execution_count": 71,
   "id": "92fe75b2-3585-4ca2-832e-eb317dca5a68",
   "metadata": {},
   "outputs": [],
   "source": [
    "# Export wistar only\n",
    "\n",
    "write_csv(edited_wistar_files, '2022-02-14_Wistar_files_edited.csv')"
   ]
  },
  {
   "cell_type": "markdown",
   "id": "4dfdd212-d9f3-4fd3-a8e5-d399e48b8e79",
   "metadata": {
    "tags": []
   },
   "source": [
    "### Last is WUSTL"
   ]
  },
  {
   "cell_type": "code",
   "execution_count": 72,
   "id": "4360d5e7-b1b6-4c85-a486-ba8e18a8be84",
   "metadata": {},
   "outputs": [
    {
     "data": {
      "text/html": [
       "878"
      ],
      "text/latex": [
       "878"
      ],
      "text/markdown": [
       "878"
      ],
      "text/plain": [
       "[1] 878"
      ]
     },
     "metadata": {},
     "output_type": "display_data"
    },
    {
     "data": {
      "text/html": [
       "<table class=\"dataframe\">\n",
       "<caption>A tibble: 6 × 29</caption>\n",
       "<thead>\n",
       "\t<tr><th scope=col>Index</th><th scope=col>contributor</th><th scope=col>file_name</th><th scope=col>patient_id</th><th scope=col>model_id</th><th scope=col>tumor_id</th><th scope=col>case_id</th><th scope=col>sample_id</th><th scope=col>sample_type</th><th scope=col>experimental_strategy</th><th scope=col>⋯</th><th scope=col>data_format</th><th scope=col>data_type</th><th scope=col>platform</th><th scope=col>is_ffpe</th><th scope=col>file_size</th><th scope=col>passage</th><th scope=col>disease_type</th><th scope=col>comment</th><th scope=col>investigation</th><th scope=col>disease_detail</th></tr>\n",
       "\t<tr><th scope=col>&lt;dbl&gt;</th><th scope=col>&lt;chr&gt;</th><th scope=col>&lt;chr&gt;</th><th scope=col>&lt;chr&gt;</th><th scope=col>&lt;chr&gt;</th><th scope=col>&lt;chr&gt;</th><th scope=col>&lt;chr&gt;</th><th scope=col>&lt;chr&gt;</th><th scope=col>&lt;chr&gt;</th><th scope=col>&lt;chr&gt;</th><th scope=col>⋯</th><th scope=col>&lt;chr&gt;</th><th scope=col>&lt;chr&gt;</th><th scope=col>&lt;chr&gt;</th><th scope=col>&lt;lgl&gt;</th><th scope=col>&lt;dbl&gt;</th><th scope=col>&lt;chr&gt;</th><th scope=col>&lt;chr&gt;</th><th scope=col>&lt;chr&gt;</th><th scope=col>&lt;lgl&gt;</th><th scope=col>&lt;chr&gt;</th></tr>\n",
       "</thead>\n",
       "<tbody>\n",
       "\t<tr><td>1949</td><td>WUSTL</td><td>172845-121-T.r1.fastq.gz           </td><td>PDMR-172845</td><td>172845-121-T_SL</td><td>121-T</td><td>PDMR-172845</td><td>172845-121-T_SL</td><td>PDX</td><td>RNA-Seq</td><td>⋯</td><td>fastq.gz</td><td>Raw Reads</td><td>NovaSeq S4</td><td>NA</td><td>4348811841</td><td>P3</td><td>Unknown</td><td>NA</td><td>NA</td><td>Unknown</td></tr>\n",
       "\t<tr><td>1950</td><td>WUSTL</td><td>172845-121-T.r2.fastq.gz           </td><td>PDMR-172845</td><td>172845-121-T_SL</td><td>121-T</td><td>PDMR-172845</td><td>172845-121-T_SL</td><td>PDX</td><td>RNA-Seq</td><td>⋯</td><td>fastq.gz</td><td>Raw Reads</td><td>NovaSeq S4</td><td>NA</td><td>4209751331</td><td>P3</td><td>Unknown</td><td>NA</td><td>NA</td><td>Unknown</td></tr>\n",
       "\t<tr><td>1951</td><td>WUSTL</td><td>172845-121-T.singletons.r1.fastq.gz</td><td>PDMR-172845</td><td>172845-121-T_SL</td><td>121-T</td><td>PDMR-172845</td><td>172845-121-T_SL</td><td>PDX</td><td>RNA-Seq</td><td>⋯</td><td>fastq.gz</td><td>Raw Reads</td><td>NovaSeq S4</td><td>NA</td><td>  40247394</td><td>P3</td><td>Unknown</td><td>NA</td><td>NA</td><td>Unknown</td></tr>\n",
       "\t<tr><td>1952</td><td>WUSTL</td><td>172845-121-T.singletons.r2.fastq.gz</td><td>PDMR-172845</td><td>172845-121-T_SL</td><td>121-T</td><td>PDMR-172845</td><td>172845-121-T_SL</td><td>PDX</td><td>RNA-Seq</td><td>⋯</td><td>fastq.gz</td><td>Raw Reads</td><td>NovaSeq S4</td><td>NA</td><td>  93138489</td><td>P3</td><td>Unknown</td><td>NA</td><td>NA</td><td>Unknown</td></tr>\n",
       "\t<tr><td>1954</td><td>WUSTL</td><td>625472-104-R.r1.fastq.gz           </td><td>PDMR-625472</td><td>625472-104-R_SL</td><td>104-R</td><td>PDMR-625472</td><td>625472-104-R_SL</td><td>PDX</td><td>RNA-Seq</td><td>⋯</td><td>fastq.gz</td><td>Raw Reads</td><td>NovaSeq S4</td><td>NA</td><td>3184453176</td><td>P2</td><td>Unknown</td><td>NA</td><td>NA</td><td>Unknown</td></tr>\n",
       "\t<tr><td>1955</td><td>WUSTL</td><td>625472-104-R.r2.fastq.gz           </td><td>PDMR-625472</td><td>625472-104-R_SL</td><td>104-R</td><td>PDMR-625472</td><td>625472-104-R_SL</td><td>PDX</td><td>RNA-Seq</td><td>⋯</td><td>fastq.gz</td><td>Raw Reads</td><td>NovaSeq S4</td><td>NA</td><td>3105288235</td><td>P2</td><td>Unknown</td><td>NA</td><td>NA</td><td>Unknown</td></tr>\n",
       "</tbody>\n",
       "</table>\n"
      ],
      "text/latex": [
       "A tibble: 6 × 29\n",
       "\\begin{tabular}{lllllllllllllllllllll}\n",
       " Index & contributor & file\\_name & patient\\_id & model\\_id & tumor\\_id & case\\_id & sample\\_id & sample\\_type & experimental\\_strategy & ⋯ & data\\_format & data\\_type & platform & is\\_ffpe & file\\_size & passage & disease\\_type & comment & investigation & disease\\_detail\\\\\n",
       " <dbl> & <chr> & <chr> & <chr> & <chr> & <chr> & <chr> & <chr> & <chr> & <chr> & ⋯ & <chr> & <chr> & <chr> & <lgl> & <dbl> & <chr> & <chr> & <chr> & <lgl> & <chr>\\\\\n",
       "\\hline\n",
       "\t 1949 & WUSTL & 172845-121-T.r1.fastq.gz            & PDMR-172845 & 172845-121-T\\_SL & 121-T & PDMR-172845 & 172845-121-T\\_SL & PDX & RNA-Seq & ⋯ & fastq.gz & Raw Reads & NovaSeq S4 & NA & 4348811841 & P3 & Unknown & NA & NA & Unknown\\\\\n",
       "\t 1950 & WUSTL & 172845-121-T.r2.fastq.gz            & PDMR-172845 & 172845-121-T\\_SL & 121-T & PDMR-172845 & 172845-121-T\\_SL & PDX & RNA-Seq & ⋯ & fastq.gz & Raw Reads & NovaSeq S4 & NA & 4209751331 & P3 & Unknown & NA & NA & Unknown\\\\\n",
       "\t 1951 & WUSTL & 172845-121-T.singletons.r1.fastq.gz & PDMR-172845 & 172845-121-T\\_SL & 121-T & PDMR-172845 & 172845-121-T\\_SL & PDX & RNA-Seq & ⋯ & fastq.gz & Raw Reads & NovaSeq S4 & NA &   40247394 & P3 & Unknown & NA & NA & Unknown\\\\\n",
       "\t 1952 & WUSTL & 172845-121-T.singletons.r2.fastq.gz & PDMR-172845 & 172845-121-T\\_SL & 121-T & PDMR-172845 & 172845-121-T\\_SL & PDX & RNA-Seq & ⋯ & fastq.gz & Raw Reads & NovaSeq S4 & NA &   93138489 & P3 & Unknown & NA & NA & Unknown\\\\\n",
       "\t 1954 & WUSTL & 625472-104-R.r1.fastq.gz            & PDMR-625472 & 625472-104-R\\_SL & 104-R & PDMR-625472 & 625472-104-R\\_SL & PDX & RNA-Seq & ⋯ & fastq.gz & Raw Reads & NovaSeq S4 & NA & 3184453176 & P2 & Unknown & NA & NA & Unknown\\\\\n",
       "\t 1955 & WUSTL & 625472-104-R.r2.fastq.gz            & PDMR-625472 & 625472-104-R\\_SL & 104-R & PDMR-625472 & 625472-104-R\\_SL & PDX & RNA-Seq & ⋯ & fastq.gz & Raw Reads & NovaSeq S4 & NA & 3105288235 & P2 & Unknown & NA & NA & Unknown\\\\\n",
       "\\end{tabular}\n"
      ],
      "text/markdown": [
       "\n",
       "A tibble: 6 × 29\n",
       "\n",
       "| Index &lt;dbl&gt; | contributor &lt;chr&gt; | file_name &lt;chr&gt; | patient_id &lt;chr&gt; | model_id &lt;chr&gt; | tumor_id &lt;chr&gt; | case_id &lt;chr&gt; | sample_id &lt;chr&gt; | sample_type &lt;chr&gt; | experimental_strategy &lt;chr&gt; | ⋯ ⋯ | data_format &lt;chr&gt; | data_type &lt;chr&gt; | platform &lt;chr&gt; | is_ffpe &lt;lgl&gt; | file_size &lt;dbl&gt; | passage &lt;chr&gt; | disease_type &lt;chr&gt; | comment &lt;chr&gt; | investigation &lt;lgl&gt; | disease_detail &lt;chr&gt; |\n",
       "|---|---|---|---|---|---|---|---|---|---|---|---|---|---|---|---|---|---|---|---|---|\n",
       "| 1949 | WUSTL | 172845-121-T.r1.fastq.gz            | PDMR-172845 | 172845-121-T_SL | 121-T | PDMR-172845 | 172845-121-T_SL | PDX | RNA-Seq | ⋯ | fastq.gz | Raw Reads | NovaSeq S4 | NA | 4348811841 | P3 | Unknown | NA | NA | Unknown |\n",
       "| 1950 | WUSTL | 172845-121-T.r2.fastq.gz            | PDMR-172845 | 172845-121-T_SL | 121-T | PDMR-172845 | 172845-121-T_SL | PDX | RNA-Seq | ⋯ | fastq.gz | Raw Reads | NovaSeq S4 | NA | 4209751331 | P3 | Unknown | NA | NA | Unknown |\n",
       "| 1951 | WUSTL | 172845-121-T.singletons.r1.fastq.gz | PDMR-172845 | 172845-121-T_SL | 121-T | PDMR-172845 | 172845-121-T_SL | PDX | RNA-Seq | ⋯ | fastq.gz | Raw Reads | NovaSeq S4 | NA |   40247394 | P3 | Unknown | NA | NA | Unknown |\n",
       "| 1952 | WUSTL | 172845-121-T.singletons.r2.fastq.gz | PDMR-172845 | 172845-121-T_SL | 121-T | PDMR-172845 | 172845-121-T_SL | PDX | RNA-Seq | ⋯ | fastq.gz | Raw Reads | NovaSeq S4 | NA |   93138489 | P3 | Unknown | NA | NA | Unknown |\n",
       "| 1954 | WUSTL | 625472-104-R.r1.fastq.gz            | PDMR-625472 | 625472-104-R_SL | 104-R | PDMR-625472 | 625472-104-R_SL | PDX | RNA-Seq | ⋯ | fastq.gz | Raw Reads | NovaSeq S4 | NA | 3184453176 | P2 | Unknown | NA | NA | Unknown |\n",
       "| 1955 | WUSTL | 625472-104-R.r2.fastq.gz            | PDMR-625472 | 625472-104-R_SL | 104-R | PDMR-625472 | 625472-104-R_SL | PDX | RNA-Seq | ⋯ | fastq.gz | Raw Reads | NovaSeq S4 | NA | 3105288235 | P2 | Unknown | NA | NA | Unknown |\n",
       "\n"
      ],
      "text/plain": [
       "  Index contributor file_name                           patient_id \n",
       "1 1949  WUSTL       172845-121-T.r1.fastq.gz            PDMR-172845\n",
       "2 1950  WUSTL       172845-121-T.r2.fastq.gz            PDMR-172845\n",
       "3 1951  WUSTL       172845-121-T.singletons.r1.fastq.gz PDMR-172845\n",
       "4 1952  WUSTL       172845-121-T.singletons.r2.fastq.gz PDMR-172845\n",
       "5 1954  WUSTL       625472-104-R.r1.fastq.gz            PDMR-625472\n",
       "6 1955  WUSTL       625472-104-R.r2.fastq.gz            PDMR-625472\n",
       "  model_id        tumor_id case_id     sample_id       sample_type\n",
       "1 172845-121-T_SL 121-T    PDMR-172845 172845-121-T_SL PDX        \n",
       "2 172845-121-T_SL 121-T    PDMR-172845 172845-121-T_SL PDX        \n",
       "3 172845-121-T_SL 121-T    PDMR-172845 172845-121-T_SL PDX        \n",
       "4 172845-121-T_SL 121-T    PDMR-172845 172845-121-T_SL PDX        \n",
       "5 625472-104-R_SL 104-R    PDMR-625472 625472-104-R_SL PDX        \n",
       "6 625472-104-R_SL 104-R    PDMR-625472 625472-104-R_SL PDX        \n",
       "  experimental_strategy ⋯ data_format data_type platform   is_ffpe file_size \n",
       "1 RNA-Seq               ⋯ fastq.gz    Raw Reads NovaSeq S4 NA      4348811841\n",
       "2 RNA-Seq               ⋯ fastq.gz    Raw Reads NovaSeq S4 NA      4209751331\n",
       "3 RNA-Seq               ⋯ fastq.gz    Raw Reads NovaSeq S4 NA        40247394\n",
       "4 RNA-Seq               ⋯ fastq.gz    Raw Reads NovaSeq S4 NA        93138489\n",
       "5 RNA-Seq               ⋯ fastq.gz    Raw Reads NovaSeq S4 NA      3184453176\n",
       "6 RNA-Seq               ⋯ fastq.gz    Raw Reads NovaSeq S4 NA      3105288235\n",
       "  passage disease_type comment investigation disease_detail\n",
       "1 P3      Unknown      NA      NA            Unknown       \n",
       "2 P3      Unknown      NA      NA            Unknown       \n",
       "3 P3      Unknown      NA      NA            Unknown       \n",
       "4 P3      Unknown      NA      NA            Unknown       \n",
       "5 P2      Unknown      NA      NA            Unknown       \n",
       "6 P2      Unknown      NA      NA            Unknown       "
      ]
     },
     "metadata": {},
     "output_type": "display_data"
    },
    {
     "data": {
      "text/html": [
       "<style>\n",
       ".list-inline {list-style: none; margin:0; padding: 0}\n",
       ".list-inline>li {display: inline-block}\n",
       ".list-inline>li:not(:last-child)::after {content: \"\\00b7\"; padding: 0 .5ex}\n",
       "</style>\n",
       "<ol class=list-inline><li>'Index'</li><li>'contributor'</li><li>'file_name'</li><li>'patient_id'</li><li>'model_id'</li><li>'tumor_id'</li><li>'case_id'</li><li>'sample_id'</li><li>'sample_type'</li><li>'experimental_strategy'</li><li>'gender'</li><li>'paired_end'</li><li>'capture_kit'</li><li>'capture_assembly'</li><li>'availability'</li><li>'public'</li><li>'access_level'</li><li>'created_datetime'</li><li>'data_category'</li><li>'data_format'</li><li>'data_type'</li><li>'platform'</li><li>'is_ffpe'</li><li>'file_size'</li><li>'passage'</li><li>'disease_type'</li><li>'comment'</li><li>'investigation'</li><li>'disease_detail'</li></ol>\n"
      ],
      "text/latex": [
       "\\begin{enumerate*}\n",
       "\\item 'Index'\n",
       "\\item 'contributor'\n",
       "\\item 'file\\_name'\n",
       "\\item 'patient\\_id'\n",
       "\\item 'model\\_id'\n",
       "\\item 'tumor\\_id'\n",
       "\\item 'case\\_id'\n",
       "\\item 'sample\\_id'\n",
       "\\item 'sample\\_type'\n",
       "\\item 'experimental\\_strategy'\n",
       "\\item 'gender'\n",
       "\\item 'paired\\_end'\n",
       "\\item 'capture\\_kit'\n",
       "\\item 'capture\\_assembly'\n",
       "\\item 'availability'\n",
       "\\item 'public'\n",
       "\\item 'access\\_level'\n",
       "\\item 'created\\_datetime'\n",
       "\\item 'data\\_category'\n",
       "\\item 'data\\_format'\n",
       "\\item 'data\\_type'\n",
       "\\item 'platform'\n",
       "\\item 'is\\_ffpe'\n",
       "\\item 'file\\_size'\n",
       "\\item 'passage'\n",
       "\\item 'disease\\_type'\n",
       "\\item 'comment'\n",
       "\\item 'investigation'\n",
       "\\item 'disease\\_detail'\n",
       "\\end{enumerate*}\n"
      ],
      "text/markdown": [
       "1. 'Index'\n",
       "2. 'contributor'\n",
       "3. 'file_name'\n",
       "4. 'patient_id'\n",
       "5. 'model_id'\n",
       "6. 'tumor_id'\n",
       "7. 'case_id'\n",
       "8. 'sample_id'\n",
       "9. 'sample_type'\n",
       "10. 'experimental_strategy'\n",
       "11. 'gender'\n",
       "12. 'paired_end'\n",
       "13. 'capture_kit'\n",
       "14. 'capture_assembly'\n",
       "15. 'availability'\n",
       "16. 'public'\n",
       "17. 'access_level'\n",
       "18. 'created_datetime'\n",
       "19. 'data_category'\n",
       "20. 'data_format'\n",
       "21. 'data_type'\n",
       "22. 'platform'\n",
       "23. 'is_ffpe'\n",
       "24. 'file_size'\n",
       "25. 'passage'\n",
       "26. 'disease_type'\n",
       "27. 'comment'\n",
       "28. 'investigation'\n",
       "29. 'disease_detail'\n",
       "\n",
       "\n"
      ],
      "text/plain": [
       " [1] \"Index\"                 \"contributor\"           \"file_name\"            \n",
       " [4] \"patient_id\"            \"model_id\"              \"tumor_id\"             \n",
       " [7] \"case_id\"               \"sample_id\"             \"sample_type\"          \n",
       "[10] \"experimental_strategy\" \"gender\"                \"paired_end\"           \n",
       "[13] \"capture_kit\"           \"capture_assembly\"      \"availability\"         \n",
       "[16] \"public\"                \"access_level\"          \"created_datetime\"     \n",
       "[19] \"data_category\"         \"data_format\"           \"data_type\"            \n",
       "[22] \"platform\"              \"is_ffpe\"               \"file_size\"            \n",
       "[25] \"passage\"               \"disease_type\"          \"comment\"              \n",
       "[28] \"investigation\"         \"disease_detail\"       "
      ]
     },
     "metadata": {},
     "output_type": "display_data"
    }
   ],
   "source": [
    "edited_pdtc_files_by_contributor[['WUSTL']] %>% nrow()\n",
    "edited_pdtc_files_by_contributor[['WUSTL']] %>% head()\n",
    "colnames(edited_pdtc_files_by_contributor[['WUSTL']])"
   ]
  },
  {
   "cell_type": "code",
   "execution_count": 73,
   "id": "23a1d55f-6329-4380-955f-260fe781c3bf",
   "metadata": {},
   "outputs": [
    {
     "data": {
      "text/html": [
       "<table class=\"dataframe\">\n",
       "<caption>A data.frame: 29 × 1</caption>\n",
       "<thead>\n",
       "\t<tr><th></th><th scope=col>.</th></tr>\n",
       "\t<tr><th></th><th scope=col>&lt;dbl&gt;</th></tr>\n",
       "</thead>\n",
       "<tbody>\n",
       "\t<tr><th scope=row>Index</th><td>  0</td></tr>\n",
       "\t<tr><th scope=row>contributor</th><td>  0</td></tr>\n",
       "\t<tr><th scope=row>file_name</th><td>  0</td></tr>\n",
       "\t<tr><th scope=row>patient_id</th><td>  0</td></tr>\n",
       "\t<tr><th scope=row>model_id</th><td>360</td></tr>\n",
       "\t<tr><th scope=row>tumor_id</th><td>360</td></tr>\n",
       "\t<tr><th scope=row>case_id</th><td>  0</td></tr>\n",
       "\t<tr><th scope=row>sample_id</th><td>  0</td></tr>\n",
       "\t<tr><th scope=row>sample_type</th><td>  0</td></tr>\n",
       "\t<tr><th scope=row>experimental_strategy</th><td>  0</td></tr>\n",
       "\t<tr><th scope=row>gender</th><td>  0</td></tr>\n",
       "\t<tr><th scope=row>paired_end</th><td>  6</td></tr>\n",
       "\t<tr><th scope=row>capture_kit</th><td>  0</td></tr>\n",
       "\t<tr><th scope=row>capture_assembly</th><td>872</td></tr>\n",
       "\t<tr><th scope=row>availability</th><td>  0</td></tr>\n",
       "\t<tr><th scope=row>public</th><td>  0</td></tr>\n",
       "\t<tr><th scope=row>access_level</th><td>  0</td></tr>\n",
       "\t<tr><th scope=row>created_datetime</th><td>860</td></tr>\n",
       "\t<tr><th scope=row>data_category</th><td>  0</td></tr>\n",
       "\t<tr><th scope=row>data_format</th><td>  0</td></tr>\n",
       "\t<tr><th scope=row>data_type</th><td>  0</td></tr>\n",
       "\t<tr><th scope=row>platform</th><td>  0</td></tr>\n",
       "\t<tr><th scope=row>is_ffpe</th><td>878</td></tr>\n",
       "\t<tr><th scope=row>file_size</th><td>  0</td></tr>\n",
       "\t<tr><th scope=row>passage</th><td>360</td></tr>\n",
       "\t<tr><th scope=row>disease_type</th><td> 18</td></tr>\n",
       "\t<tr><th scope=row>comment</th><td>878</td></tr>\n",
       "\t<tr><th scope=row>investigation</th><td>878</td></tr>\n",
       "\t<tr><th scope=row>disease_detail</th><td> 18</td></tr>\n",
       "</tbody>\n",
       "</table>\n"
      ],
      "text/latex": [
       "A data.frame: 29 × 1\n",
       "\\begin{tabular}{r|l}\n",
       "  & .\\\\\n",
       "  & <dbl>\\\\\n",
       "\\hline\n",
       "\tIndex &   0\\\\\n",
       "\tcontributor &   0\\\\\n",
       "\tfile\\_name &   0\\\\\n",
       "\tpatient\\_id &   0\\\\\n",
       "\tmodel\\_id & 360\\\\\n",
       "\ttumor\\_id & 360\\\\\n",
       "\tcase\\_id &   0\\\\\n",
       "\tsample\\_id &   0\\\\\n",
       "\tsample\\_type &   0\\\\\n",
       "\texperimental\\_strategy &   0\\\\\n",
       "\tgender &   0\\\\\n",
       "\tpaired\\_end &   6\\\\\n",
       "\tcapture\\_kit &   0\\\\\n",
       "\tcapture\\_assembly & 872\\\\\n",
       "\tavailability &   0\\\\\n",
       "\tpublic &   0\\\\\n",
       "\taccess\\_level &   0\\\\\n",
       "\tcreated\\_datetime & 860\\\\\n",
       "\tdata\\_category &   0\\\\\n",
       "\tdata\\_format &   0\\\\\n",
       "\tdata\\_type &   0\\\\\n",
       "\tplatform &   0\\\\\n",
       "\tis\\_ffpe & 878\\\\\n",
       "\tfile\\_size &   0\\\\\n",
       "\tpassage & 360\\\\\n",
       "\tdisease\\_type &  18\\\\\n",
       "\tcomment & 878\\\\\n",
       "\tinvestigation & 878\\\\\n",
       "\tdisease\\_detail &  18\\\\\n",
       "\\end{tabular}\n"
      ],
      "text/markdown": [
       "\n",
       "A data.frame: 29 × 1\n",
       "\n",
       "| <!--/--> | . &lt;dbl&gt; |\n",
       "|---|---|\n",
       "| Index |   0 |\n",
       "| contributor |   0 |\n",
       "| file_name |   0 |\n",
       "| patient_id |   0 |\n",
       "| model_id | 360 |\n",
       "| tumor_id | 360 |\n",
       "| case_id |   0 |\n",
       "| sample_id |   0 |\n",
       "| sample_type |   0 |\n",
       "| experimental_strategy |   0 |\n",
       "| gender |   0 |\n",
       "| paired_end |   6 |\n",
       "| capture_kit |   0 |\n",
       "| capture_assembly | 872 |\n",
       "| availability |   0 |\n",
       "| public |   0 |\n",
       "| access_level |   0 |\n",
       "| created_datetime | 860 |\n",
       "| data_category |   0 |\n",
       "| data_format |   0 |\n",
       "| data_type |   0 |\n",
       "| platform |   0 |\n",
       "| is_ffpe | 878 |\n",
       "| file_size |   0 |\n",
       "| passage | 360 |\n",
       "| disease_type |  18 |\n",
       "| comment | 878 |\n",
       "| investigation | 878 |\n",
       "| disease_detail |  18 |\n",
       "\n"
      ],
      "text/plain": [
       "                      .  \n",
       "Index                   0\n",
       "contributor             0\n",
       "file_name               0\n",
       "patient_id              0\n",
       "model_id              360\n",
       "tumor_id              360\n",
       "case_id                 0\n",
       "sample_id               0\n",
       "sample_type             0\n",
       "experimental_strategy   0\n",
       "gender                  0\n",
       "paired_end              6\n",
       "capture_kit             0\n",
       "capture_assembly      872\n",
       "availability            0\n",
       "public                  0\n",
       "access_level            0\n",
       "created_datetime      860\n",
       "data_category           0\n",
       "data_format             0\n",
       "data_type               0\n",
       "platform                0\n",
       "is_ffpe               878\n",
       "file_size               0\n",
       "passage               360\n",
       "disease_type           18\n",
       "comment               878\n",
       "investigation         878\n",
       "disease_detail         18"
      ]
     },
     "metadata": {},
     "output_type": "display_data"
    }
   ],
   "source": [
    "# How many NAs are there for the most important columns?\n",
    "\n",
    "colSums((is.na(edited_pdtc_files_by_contributor[['WUSTL']]) | (edited_pdtc_files_by_contributor[['WUSTL']] == 'Unknown') | (edited_pdtc_files_by_contributor[['WUSTL']] == '?'))) %>% as.data.frame()"
   ]
  },
  {
   "cell_type": "markdown",
   "id": "94809d30-c61f-4d8c-960c-b069547a8f2a",
   "metadata": {},
   "source": [
    "Some of these that are missing disease information are included in the PDMR patient info."
   ]
  },
  {
   "cell_type": "code",
   "execution_count": 74,
   "id": "fe619cc9-9362-434c-8c8a-e7d7334b9a1c",
   "metadata": {},
   "outputs": [
    {
     "name": "stderr",
     "output_type": "stream",
     "text": [
      "\u001b[1mRows: \u001b[22m\u001b[34m840\u001b[39m \u001b[1mColumns: \u001b[22m\u001b[34m7\u001b[39m\n",
      "\n",
      "\u001b[36m──\u001b[39m \u001b[1mColumn specification\u001b[22m \u001b[36m──────────────────────────────────────────────────────────────────────────────────────────────────────────────────────────────────────────────────────────────────────────────────────────────────────────────────────\u001b[39m\n",
      "\u001b[1mDelimiter:\u001b[22m \",\"\n",
      "\u001b[31mchr\u001b[39m (6): Patient ID, Gender, CTEP SDCDescription, DiagnosisSubtype, Disease ...\n",
      "\u001b[32mdbl\u001b[39m (1): View\n",
      "\n",
      "\n",
      "\u001b[36mℹ\u001b[39m Use \u001b[30m\u001b[47m\u001b[30m\u001b[47m`spec()`\u001b[47m\u001b[30m\u001b[49m\u001b[39m to retrieve the full column specification for this data.\n",
      "\u001b[36mℹ\u001b[39m Specify the column types or set \u001b[30m\u001b[47m\u001b[30m\u001b[47m`show_col_types = FALSE`\u001b[47m\u001b[30m\u001b[49m\u001b[39m to quiet this message.\n",
      "\n"
     ]
    },
    {
     "data": {
      "text/html": [
       "840"
      ],
      "text/latex": [
       "840"
      ],
      "text/markdown": [
       "840"
      ],
      "text/plain": [
       "[1] 840"
      ]
     },
     "metadata": {},
     "output_type": "display_data"
    },
    {
     "data": {
      "text/html": [
       "<table class=\"dataframe\">\n",
       "<caption>A tibble: 6 × 7</caption>\n",
       "<thead>\n",
       "\t<tr><th scope=col>View</th><th scope=col>Patient ID</th><th scope=col>Gender</th><th scope=col>CTEP SDCDescription</th><th scope=col>DiagnosisSubtype</th><th scope=col>Disease BodyLocation</th><th scope=col>STR ProfileAvail</th></tr>\n",
       "\t<tr><th scope=col>&lt;dbl&gt;</th><th scope=col>&lt;chr&gt;</th><th scope=col>&lt;chr&gt;</th><th scope=col>&lt;chr&gt;</th><th scope=col>&lt;chr&gt;</th><th scope=col>&lt;chr&gt;</th><th scope=col>&lt;chr&gt;</th></tr>\n",
       "</thead>\n",
       "<tbody>\n",
       "\t<tr><td>2915</td><td>112475</td><td>Female</td><td>Ovarian epithelial cancer      </td><td>Papillary Serous Cystadenocarcinoma                    </td><td>Gynecologic               </td><td>Yes</td></tr>\n",
       "\t<tr><td> 890</td><td>112718</td><td>Female</td><td>Lung adenocarcinoma            </td><td>-                                                      </td><td>Respiratory/Thoracic      </td><td>Yes</td></tr>\n",
       "\t<tr><td>3359</td><td>112975</td><td>Male  </td><td>Urothelial/bladder cancer, NOS </td><td>Invasive, high grade Papillary carcinoma of the bladder</td><td>Genitourinary             </td><td>Yes</td></tr>\n",
       "\t<tr><td>5273</td><td>113646</td><td>Female</td><td>Invasive breast carcinoma      </td><td>Ductal                                                 </td><td>Breast                    </td><td>Yes</td></tr>\n",
       "\t<tr><td>2215</td><td>114348</td><td>Male  </td><td>Adenocarcinoma - rectum        </td><td>-                                                      </td><td>Digestive/Gastrointestinal</td><td>Yes</td></tr>\n",
       "\t<tr><td>1280</td><td>114434</td><td>Male  </td><td>Non-Rhabdo. soft tissue sarcoma</td><td>Spindle cell, solitary fibrous tumor                   </td><td>Musculoskeletal           </td><td>Yes</td></tr>\n",
       "</tbody>\n",
       "</table>\n"
      ],
      "text/latex": [
       "A tibble: 6 × 7\n",
       "\\begin{tabular}{lllllll}\n",
       " View & Patient ID & Gender & CTEP SDCDescription & DiagnosisSubtype & Disease BodyLocation & STR ProfileAvail\\\\\n",
       " <dbl> & <chr> & <chr> & <chr> & <chr> & <chr> & <chr>\\\\\n",
       "\\hline\n",
       "\t 2915 & 112475 & Female & Ovarian epithelial cancer       & Papillary Serous Cystadenocarcinoma                     & Gynecologic                & Yes\\\\\n",
       "\t  890 & 112718 & Female & Lung adenocarcinoma             & -                                                       & Respiratory/Thoracic       & Yes\\\\\n",
       "\t 3359 & 112975 & Male   & Urothelial/bladder cancer, NOS  & Invasive, high grade Papillary carcinoma of the bladder & Genitourinary              & Yes\\\\\n",
       "\t 5273 & 113646 & Female & Invasive breast carcinoma       & Ductal                                                  & Breast                     & Yes\\\\\n",
       "\t 2215 & 114348 & Male   & Adenocarcinoma - rectum         & -                                                       & Digestive/Gastrointestinal & Yes\\\\\n",
       "\t 1280 & 114434 & Male   & Non-Rhabdo. soft tissue sarcoma & Spindle cell, solitary fibrous tumor                    & Musculoskeletal            & Yes\\\\\n",
       "\\end{tabular}\n"
      ],
      "text/markdown": [
       "\n",
       "A tibble: 6 × 7\n",
       "\n",
       "| View &lt;dbl&gt; | Patient ID &lt;chr&gt; | Gender &lt;chr&gt; | CTEP SDCDescription &lt;chr&gt; | DiagnosisSubtype &lt;chr&gt; | Disease BodyLocation &lt;chr&gt; | STR ProfileAvail &lt;chr&gt; |\n",
       "|---|---|---|---|---|---|---|\n",
       "| 2915 | 112475 | Female | Ovarian epithelial cancer       | Papillary Serous Cystadenocarcinoma                     | Gynecologic                | Yes |\n",
       "|  890 | 112718 | Female | Lung adenocarcinoma             | -                                                       | Respiratory/Thoracic       | Yes |\n",
       "| 3359 | 112975 | Male   | Urothelial/bladder cancer, NOS  | Invasive, high grade Papillary carcinoma of the bladder | Genitourinary              | Yes |\n",
       "| 5273 | 113646 | Female | Invasive breast carcinoma       | Ductal                                                  | Breast                     | Yes |\n",
       "| 2215 | 114348 | Male   | Adenocarcinoma - rectum         | -                                                       | Digestive/Gastrointestinal | Yes |\n",
       "| 1280 | 114434 | Male   | Non-Rhabdo. soft tissue sarcoma | Spindle cell, solitary fibrous tumor                    | Musculoskeletal            | Yes |\n",
       "\n"
      ],
      "text/plain": [
       "  View Patient ID Gender CTEP SDCDescription            \n",
       "1 2915 112475     Female Ovarian epithelial cancer      \n",
       "2  890 112718     Female Lung adenocarcinoma            \n",
       "3 3359 112975     Male   Urothelial/bladder cancer, NOS \n",
       "4 5273 113646     Female Invasive breast carcinoma      \n",
       "5 2215 114348     Male   Adenocarcinoma - rectum        \n",
       "6 1280 114434     Male   Non-Rhabdo. soft tissue sarcoma\n",
       "  DiagnosisSubtype                                       \n",
       "1 Papillary Serous Cystadenocarcinoma                    \n",
       "2 -                                                      \n",
       "3 Invasive, high grade Papillary carcinoma of the bladder\n",
       "4 Ductal                                                 \n",
       "5 -                                                      \n",
       "6 Spindle cell, solitary fibrous tumor                   \n",
       "  Disease BodyLocation       STR ProfileAvail\n",
       "1 Gynecologic                Yes             \n",
       "2 Respiratory/Thoracic       Yes             \n",
       "3 Genitourinary              Yes             \n",
       "4 Breast                     Yes             \n",
       "5 Digestive/Gastrointestinal Yes             \n",
       "6 Musculoskeletal            Yes             "
      ]
     },
     "metadata": {},
     "output_type": "display_data"
    }
   ],
   "source": [
    "# Read in the PDMR patient info\n",
    "\n",
    "pdmr_patient_info <- read_csv('pdmr_patientinformation.csv')\n",
    "\n",
    "nrow(pdmr_patient_info)\n",
    "head(pdmr_patient_info)"
   ]
  },
  {
   "cell_type": "code",
   "execution_count": 75,
   "id": "bb5bad7a-b2ac-48a6-915c-a34e721ad486",
   "metadata": {},
   "outputs": [
    {
     "data": {
      "text/html": [
       "878"
      ],
      "text/latex": [
       "878"
      ],
      "text/markdown": [
       "878"
      ],
      "text/plain": [
       "[1] 878"
      ]
     },
     "metadata": {},
     "output_type": "display_data"
    },
    {
     "data": {
      "text/html": [
       "<table class=\"dataframe\">\n",
       "<caption>A tibble: 6 × 30</caption>\n",
       "<thead>\n",
       "\t<tr><th scope=col>Index</th><th scope=col>contributor</th><th scope=col>file_name</th><th scope=col>patient_id</th><th scope=col>model_id</th><th scope=col>tumor_id</th><th scope=col>case_id</th><th scope=col>sample_id</th><th scope=col>sample_type</th><th scope=col>experimental_strategy</th><th scope=col>⋯</th><th scope=col>data_type</th><th scope=col>platform</th><th scope=col>is_ffpe</th><th scope=col>file_size</th><th scope=col>passage</th><th scope=col>disease_type</th><th scope=col>comment</th><th scope=col>investigation</th><th scope=col>disease_detail</th><th scope=col>pdmr_patient</th></tr>\n",
       "\t<tr><th scope=col>&lt;dbl&gt;</th><th scope=col>&lt;chr&gt;</th><th scope=col>&lt;chr&gt;</th><th scope=col>&lt;chr&gt;</th><th scope=col>&lt;chr&gt;</th><th scope=col>&lt;chr&gt;</th><th scope=col>&lt;chr&gt;</th><th scope=col>&lt;chr&gt;</th><th scope=col>&lt;chr&gt;</th><th scope=col>&lt;chr&gt;</th><th scope=col>⋯</th><th scope=col>&lt;chr&gt;</th><th scope=col>&lt;chr&gt;</th><th scope=col>&lt;lgl&gt;</th><th scope=col>&lt;dbl&gt;</th><th scope=col>&lt;chr&gt;</th><th scope=col>&lt;chr&gt;</th><th scope=col>&lt;chr&gt;</th><th scope=col>&lt;lgl&gt;</th><th scope=col>&lt;chr&gt;</th><th scope=col>&lt;chr&gt;</th></tr>\n",
       "</thead>\n",
       "<tbody>\n",
       "\t<tr><td>1949</td><td>WUSTL</td><td>172845-121-T.r1.fastq.gz           </td><td>PDMR-172845</td><td>172845-121-T_SL</td><td>121-T</td><td>PDMR-172845</td><td>172845-121-T_SL</td><td>PDX</td><td>RNA-Seq</td><td>⋯</td><td>Raw Reads</td><td>NovaSeq S4</td><td>NA</td><td>4348811841</td><td>P3</td><td>Unknown</td><td>NA</td><td>NA</td><td>Unknown</td><td>172845</td></tr>\n",
       "\t<tr><td>1950</td><td>WUSTL</td><td>172845-121-T.r2.fastq.gz           </td><td>PDMR-172845</td><td>172845-121-T_SL</td><td>121-T</td><td>PDMR-172845</td><td>172845-121-T_SL</td><td>PDX</td><td>RNA-Seq</td><td>⋯</td><td>Raw Reads</td><td>NovaSeq S4</td><td>NA</td><td>4209751331</td><td>P3</td><td>Unknown</td><td>NA</td><td>NA</td><td>Unknown</td><td>172845</td></tr>\n",
       "\t<tr><td>1951</td><td>WUSTL</td><td>172845-121-T.singletons.r1.fastq.gz</td><td>PDMR-172845</td><td>172845-121-T_SL</td><td>121-T</td><td>PDMR-172845</td><td>172845-121-T_SL</td><td>PDX</td><td>RNA-Seq</td><td>⋯</td><td>Raw Reads</td><td>NovaSeq S4</td><td>NA</td><td>  40247394</td><td>P3</td><td>Unknown</td><td>NA</td><td>NA</td><td>Unknown</td><td>172845</td></tr>\n",
       "\t<tr><td>1952</td><td>WUSTL</td><td>172845-121-T.singletons.r2.fastq.gz</td><td>PDMR-172845</td><td>172845-121-T_SL</td><td>121-T</td><td>PDMR-172845</td><td>172845-121-T_SL</td><td>PDX</td><td>RNA-Seq</td><td>⋯</td><td>Raw Reads</td><td>NovaSeq S4</td><td>NA</td><td>  93138489</td><td>P3</td><td>Unknown</td><td>NA</td><td>NA</td><td>Unknown</td><td>172845</td></tr>\n",
       "\t<tr><td>1954</td><td>WUSTL</td><td>625472-104-R.r1.fastq.gz           </td><td>PDMR-625472</td><td>625472-104-R_SL</td><td>104-R</td><td>PDMR-625472</td><td>625472-104-R_SL</td><td>PDX</td><td>RNA-Seq</td><td>⋯</td><td>Raw Reads</td><td>NovaSeq S4</td><td>NA</td><td>3184453176</td><td>P2</td><td>Unknown</td><td>NA</td><td>NA</td><td>Unknown</td><td>625472</td></tr>\n",
       "\t<tr><td>1955</td><td>WUSTL</td><td>625472-104-R.r2.fastq.gz           </td><td>PDMR-625472</td><td>625472-104-R_SL</td><td>104-R</td><td>PDMR-625472</td><td>625472-104-R_SL</td><td>PDX</td><td>RNA-Seq</td><td>⋯</td><td>Raw Reads</td><td>NovaSeq S4</td><td>NA</td><td>3105288235</td><td>P2</td><td>Unknown</td><td>NA</td><td>NA</td><td>Unknown</td><td>625472</td></tr>\n",
       "</tbody>\n",
       "</table>\n"
      ],
      "text/latex": [
       "A tibble: 6 × 30\n",
       "\\begin{tabular}{lllllllllllllllllllll}\n",
       " Index & contributor & file\\_name & patient\\_id & model\\_id & tumor\\_id & case\\_id & sample\\_id & sample\\_type & experimental\\_strategy & ⋯ & data\\_type & platform & is\\_ffpe & file\\_size & passage & disease\\_type & comment & investigation & disease\\_detail & pdmr\\_patient\\\\\n",
       " <dbl> & <chr> & <chr> & <chr> & <chr> & <chr> & <chr> & <chr> & <chr> & <chr> & ⋯ & <chr> & <chr> & <lgl> & <dbl> & <chr> & <chr> & <chr> & <lgl> & <chr> & <chr>\\\\\n",
       "\\hline\n",
       "\t 1949 & WUSTL & 172845-121-T.r1.fastq.gz            & PDMR-172845 & 172845-121-T\\_SL & 121-T & PDMR-172845 & 172845-121-T\\_SL & PDX & RNA-Seq & ⋯ & Raw Reads & NovaSeq S4 & NA & 4348811841 & P3 & Unknown & NA & NA & Unknown & 172845\\\\\n",
       "\t 1950 & WUSTL & 172845-121-T.r2.fastq.gz            & PDMR-172845 & 172845-121-T\\_SL & 121-T & PDMR-172845 & 172845-121-T\\_SL & PDX & RNA-Seq & ⋯ & Raw Reads & NovaSeq S4 & NA & 4209751331 & P3 & Unknown & NA & NA & Unknown & 172845\\\\\n",
       "\t 1951 & WUSTL & 172845-121-T.singletons.r1.fastq.gz & PDMR-172845 & 172845-121-T\\_SL & 121-T & PDMR-172845 & 172845-121-T\\_SL & PDX & RNA-Seq & ⋯ & Raw Reads & NovaSeq S4 & NA &   40247394 & P3 & Unknown & NA & NA & Unknown & 172845\\\\\n",
       "\t 1952 & WUSTL & 172845-121-T.singletons.r2.fastq.gz & PDMR-172845 & 172845-121-T\\_SL & 121-T & PDMR-172845 & 172845-121-T\\_SL & PDX & RNA-Seq & ⋯ & Raw Reads & NovaSeq S4 & NA &   93138489 & P3 & Unknown & NA & NA & Unknown & 172845\\\\\n",
       "\t 1954 & WUSTL & 625472-104-R.r1.fastq.gz            & PDMR-625472 & 625472-104-R\\_SL & 104-R & PDMR-625472 & 625472-104-R\\_SL & PDX & RNA-Seq & ⋯ & Raw Reads & NovaSeq S4 & NA & 3184453176 & P2 & Unknown & NA & NA & Unknown & 625472\\\\\n",
       "\t 1955 & WUSTL & 625472-104-R.r2.fastq.gz            & PDMR-625472 & 625472-104-R\\_SL & 104-R & PDMR-625472 & 625472-104-R\\_SL & PDX & RNA-Seq & ⋯ & Raw Reads & NovaSeq S4 & NA & 3105288235 & P2 & Unknown & NA & NA & Unknown & 625472\\\\\n",
       "\\end{tabular}\n"
      ],
      "text/markdown": [
       "\n",
       "A tibble: 6 × 30\n",
       "\n",
       "| Index &lt;dbl&gt; | contributor &lt;chr&gt; | file_name &lt;chr&gt; | patient_id &lt;chr&gt; | model_id &lt;chr&gt; | tumor_id &lt;chr&gt; | case_id &lt;chr&gt; | sample_id &lt;chr&gt; | sample_type &lt;chr&gt; | experimental_strategy &lt;chr&gt; | ⋯ ⋯ | data_type &lt;chr&gt; | platform &lt;chr&gt; | is_ffpe &lt;lgl&gt; | file_size &lt;dbl&gt; | passage &lt;chr&gt; | disease_type &lt;chr&gt; | comment &lt;chr&gt; | investigation &lt;lgl&gt; | disease_detail &lt;chr&gt; | pdmr_patient &lt;chr&gt; |\n",
       "|---|---|---|---|---|---|---|---|---|---|---|---|---|---|---|---|---|---|---|---|---|\n",
       "| 1949 | WUSTL | 172845-121-T.r1.fastq.gz            | PDMR-172845 | 172845-121-T_SL | 121-T | PDMR-172845 | 172845-121-T_SL | PDX | RNA-Seq | ⋯ | Raw Reads | NovaSeq S4 | NA | 4348811841 | P3 | Unknown | NA | NA | Unknown | 172845 |\n",
       "| 1950 | WUSTL | 172845-121-T.r2.fastq.gz            | PDMR-172845 | 172845-121-T_SL | 121-T | PDMR-172845 | 172845-121-T_SL | PDX | RNA-Seq | ⋯ | Raw Reads | NovaSeq S4 | NA | 4209751331 | P3 | Unknown | NA | NA | Unknown | 172845 |\n",
       "| 1951 | WUSTL | 172845-121-T.singletons.r1.fastq.gz | PDMR-172845 | 172845-121-T_SL | 121-T | PDMR-172845 | 172845-121-T_SL | PDX | RNA-Seq | ⋯ | Raw Reads | NovaSeq S4 | NA |   40247394 | P3 | Unknown | NA | NA | Unknown | 172845 |\n",
       "| 1952 | WUSTL | 172845-121-T.singletons.r2.fastq.gz | PDMR-172845 | 172845-121-T_SL | 121-T | PDMR-172845 | 172845-121-T_SL | PDX | RNA-Seq | ⋯ | Raw Reads | NovaSeq S4 | NA |   93138489 | P3 | Unknown | NA | NA | Unknown | 172845 |\n",
       "| 1954 | WUSTL | 625472-104-R.r1.fastq.gz            | PDMR-625472 | 625472-104-R_SL | 104-R | PDMR-625472 | 625472-104-R_SL | PDX | RNA-Seq | ⋯ | Raw Reads | NovaSeq S4 | NA | 3184453176 | P2 | Unknown | NA | NA | Unknown | 625472 |\n",
       "| 1955 | WUSTL | 625472-104-R.r2.fastq.gz            | PDMR-625472 | 625472-104-R_SL | 104-R | PDMR-625472 | 625472-104-R_SL | PDX | RNA-Seq | ⋯ | Raw Reads | NovaSeq S4 | NA | 3105288235 | P2 | Unknown | NA | NA | Unknown | 625472 |\n",
       "\n"
      ],
      "text/plain": [
       "  Index contributor file_name                           patient_id \n",
       "1 1949  WUSTL       172845-121-T.r1.fastq.gz            PDMR-172845\n",
       "2 1950  WUSTL       172845-121-T.r2.fastq.gz            PDMR-172845\n",
       "3 1951  WUSTL       172845-121-T.singletons.r1.fastq.gz PDMR-172845\n",
       "4 1952  WUSTL       172845-121-T.singletons.r2.fastq.gz PDMR-172845\n",
       "5 1954  WUSTL       625472-104-R.r1.fastq.gz            PDMR-625472\n",
       "6 1955  WUSTL       625472-104-R.r2.fastq.gz            PDMR-625472\n",
       "  model_id        tumor_id case_id     sample_id       sample_type\n",
       "1 172845-121-T_SL 121-T    PDMR-172845 172845-121-T_SL PDX        \n",
       "2 172845-121-T_SL 121-T    PDMR-172845 172845-121-T_SL PDX        \n",
       "3 172845-121-T_SL 121-T    PDMR-172845 172845-121-T_SL PDX        \n",
       "4 172845-121-T_SL 121-T    PDMR-172845 172845-121-T_SL PDX        \n",
       "5 625472-104-R_SL 104-R    PDMR-625472 625472-104-R_SL PDX        \n",
       "6 625472-104-R_SL 104-R    PDMR-625472 625472-104-R_SL PDX        \n",
       "  experimental_strategy ⋯ data_type platform   is_ffpe file_size  passage\n",
       "1 RNA-Seq               ⋯ Raw Reads NovaSeq S4 NA      4348811841 P3     \n",
       "2 RNA-Seq               ⋯ Raw Reads NovaSeq S4 NA      4209751331 P3     \n",
       "3 RNA-Seq               ⋯ Raw Reads NovaSeq S4 NA        40247394 P3     \n",
       "4 RNA-Seq               ⋯ Raw Reads NovaSeq S4 NA        93138489 P3     \n",
       "5 RNA-Seq               ⋯ Raw Reads NovaSeq S4 NA      3184453176 P2     \n",
       "6 RNA-Seq               ⋯ Raw Reads NovaSeq S4 NA      3105288235 P2     \n",
       "  disease_type comment investigation disease_detail pdmr_patient\n",
       "1 Unknown      NA      NA            Unknown        172845      \n",
       "2 Unknown      NA      NA            Unknown        172845      \n",
       "3 Unknown      NA      NA            Unknown        172845      \n",
       "4 Unknown      NA      NA            Unknown        172845      \n",
       "5 Unknown      NA      NA            Unknown        625472      \n",
       "6 Unknown      NA      NA            Unknown        625472      "
      ]
     },
     "metadata": {},
     "output_type": "display_data"
    }
   ],
   "source": [
    "# Reformat the wustl data so it can be merged with this patient info to fill those ones in\n",
    "\n",
    "edited_wustl_files <- edited_pdtc_files_by_contributor[['WUSTL']] %>% mutate(pdmr_patient = ifelse(startsWith(patient_id, 'PDMR'), str_replace(patient_id, 'PDMR-', ''), NA))\n",
    "\n",
    "nrow(edited_wustl_files)\n",
    "head(edited_wustl_files)"
   ]
  },
  {
   "cell_type": "code",
   "execution_count": 76,
   "id": "63c54247-4ce2-4260-beff-7b3922e2b9b1",
   "metadata": {},
   "outputs": [
    {
     "data": {
      "text/html": [
       "878"
      ],
      "text/latex": [
       "878"
      ],
      "text/markdown": [
       "878"
      ],
      "text/plain": [
       "[1] 878"
      ]
     },
     "metadata": {},
     "output_type": "display_data"
    },
    {
     "data": {
      "text/html": [
       "<table class=\"dataframe\">\n",
       "<caption>A tibble: 6 × 33</caption>\n",
       "<thead>\n",
       "\t<tr><th scope=col>Index</th><th scope=col>contributor</th><th scope=col>file_name</th><th scope=col>patient_id</th><th scope=col>model_id</th><th scope=col>tumor_id</th><th scope=col>case_id</th><th scope=col>sample_id</th><th scope=col>sample_type</th><th scope=col>experimental_strategy</th><th scope=col>⋯</th><th scope=col>file_size</th><th scope=col>passage</th><th scope=col>disease_type</th><th scope=col>comment</th><th scope=col>investigation</th><th scope=col>disease_detail</th><th scope=col>pdmr_patient</th><th scope=col>CTEP SDCDescription</th><th scope=col>DiagnosisSubtype</th><th scope=col>Disease BodyLocation</th></tr>\n",
       "\t<tr><th scope=col>&lt;dbl&gt;</th><th scope=col>&lt;chr&gt;</th><th scope=col>&lt;chr&gt;</th><th scope=col>&lt;chr&gt;</th><th scope=col>&lt;chr&gt;</th><th scope=col>&lt;chr&gt;</th><th scope=col>&lt;chr&gt;</th><th scope=col>&lt;chr&gt;</th><th scope=col>&lt;chr&gt;</th><th scope=col>&lt;chr&gt;</th><th scope=col>⋯</th><th scope=col>&lt;dbl&gt;</th><th scope=col>&lt;chr&gt;</th><th scope=col>&lt;chr&gt;</th><th scope=col>&lt;chr&gt;</th><th scope=col>&lt;lgl&gt;</th><th scope=col>&lt;chr&gt;</th><th scope=col>&lt;chr&gt;</th><th scope=col>&lt;chr&gt;</th><th scope=col>&lt;chr&gt;</th><th scope=col>&lt;chr&gt;</th></tr>\n",
       "</thead>\n",
       "<tbody>\n",
       "\t<tr><td>1949</td><td>WUSTL</td><td>172845-121-T.r1.fastq.gz           </td><td>PDMR-172845</td><td>172845-121-T_SL</td><td>121-T</td><td>PDMR-172845</td><td>172845-121-T_SL</td><td>PDX</td><td>RNA-Seq</td><td>⋯</td><td>4348811841</td><td>P3</td><td>Unknown</td><td>NA</td><td>NA</td><td>Unknown</td><td>172845</td><td>Adenocarcinoma - colon</td><td>-</td><td>Digestive/Gastrointestinal</td></tr>\n",
       "\t<tr><td>1950</td><td>WUSTL</td><td>172845-121-T.r2.fastq.gz           </td><td>PDMR-172845</td><td>172845-121-T_SL</td><td>121-T</td><td>PDMR-172845</td><td>172845-121-T_SL</td><td>PDX</td><td>RNA-Seq</td><td>⋯</td><td>4209751331</td><td>P3</td><td>Unknown</td><td>NA</td><td>NA</td><td>Unknown</td><td>172845</td><td>Adenocarcinoma - colon</td><td>-</td><td>Digestive/Gastrointestinal</td></tr>\n",
       "\t<tr><td>1951</td><td>WUSTL</td><td>172845-121-T.singletons.r1.fastq.gz</td><td>PDMR-172845</td><td>172845-121-T_SL</td><td>121-T</td><td>PDMR-172845</td><td>172845-121-T_SL</td><td>PDX</td><td>RNA-Seq</td><td>⋯</td><td>  40247394</td><td>P3</td><td>Unknown</td><td>NA</td><td>NA</td><td>Unknown</td><td>172845</td><td>Adenocarcinoma - colon</td><td>-</td><td>Digestive/Gastrointestinal</td></tr>\n",
       "\t<tr><td>1952</td><td>WUSTL</td><td>172845-121-T.singletons.r2.fastq.gz</td><td>PDMR-172845</td><td>172845-121-T_SL</td><td>121-T</td><td>PDMR-172845</td><td>172845-121-T_SL</td><td>PDX</td><td>RNA-Seq</td><td>⋯</td><td>  93138489</td><td>P3</td><td>Unknown</td><td>NA</td><td>NA</td><td>Unknown</td><td>172845</td><td>Adenocarcinoma - colon</td><td>-</td><td>Digestive/Gastrointestinal</td></tr>\n",
       "\t<tr><td>1954</td><td>WUSTL</td><td>625472-104-R.r1.fastq.gz           </td><td>PDMR-625472</td><td>625472-104-R_SL</td><td>104-R</td><td>PDMR-625472</td><td>625472-104-R_SL</td><td>PDX</td><td>RNA-Seq</td><td>⋯</td><td>3184453176</td><td>P2</td><td>Unknown</td><td>NA</td><td>NA</td><td>Unknown</td><td>625472</td><td>Adenocarcinoma - colon</td><td>-</td><td>Digestive/Gastrointestinal</td></tr>\n",
       "\t<tr><td>1955</td><td>WUSTL</td><td>625472-104-R.r2.fastq.gz           </td><td>PDMR-625472</td><td>625472-104-R_SL</td><td>104-R</td><td>PDMR-625472</td><td>625472-104-R_SL</td><td>PDX</td><td>RNA-Seq</td><td>⋯</td><td>3105288235</td><td>P2</td><td>Unknown</td><td>NA</td><td>NA</td><td>Unknown</td><td>625472</td><td>Adenocarcinoma - colon</td><td>-</td><td>Digestive/Gastrointestinal</td></tr>\n",
       "</tbody>\n",
       "</table>\n"
      ],
      "text/latex": [
       "A tibble: 6 × 33\n",
       "\\begin{tabular}{lllllllllllllllllllll}\n",
       " Index & contributor & file\\_name & patient\\_id & model\\_id & tumor\\_id & case\\_id & sample\\_id & sample\\_type & experimental\\_strategy & ⋯ & file\\_size & passage & disease\\_type & comment & investigation & disease\\_detail & pdmr\\_patient & CTEP SDCDescription & DiagnosisSubtype & Disease BodyLocation\\\\\n",
       " <dbl> & <chr> & <chr> & <chr> & <chr> & <chr> & <chr> & <chr> & <chr> & <chr> & ⋯ & <dbl> & <chr> & <chr> & <chr> & <lgl> & <chr> & <chr> & <chr> & <chr> & <chr>\\\\\n",
       "\\hline\n",
       "\t 1949 & WUSTL & 172845-121-T.r1.fastq.gz            & PDMR-172845 & 172845-121-T\\_SL & 121-T & PDMR-172845 & 172845-121-T\\_SL & PDX & RNA-Seq & ⋯ & 4348811841 & P3 & Unknown & NA & NA & Unknown & 172845 & Adenocarcinoma - colon & - & Digestive/Gastrointestinal\\\\\n",
       "\t 1950 & WUSTL & 172845-121-T.r2.fastq.gz            & PDMR-172845 & 172845-121-T\\_SL & 121-T & PDMR-172845 & 172845-121-T\\_SL & PDX & RNA-Seq & ⋯ & 4209751331 & P3 & Unknown & NA & NA & Unknown & 172845 & Adenocarcinoma - colon & - & Digestive/Gastrointestinal\\\\\n",
       "\t 1951 & WUSTL & 172845-121-T.singletons.r1.fastq.gz & PDMR-172845 & 172845-121-T\\_SL & 121-T & PDMR-172845 & 172845-121-T\\_SL & PDX & RNA-Seq & ⋯ &   40247394 & P3 & Unknown & NA & NA & Unknown & 172845 & Adenocarcinoma - colon & - & Digestive/Gastrointestinal\\\\\n",
       "\t 1952 & WUSTL & 172845-121-T.singletons.r2.fastq.gz & PDMR-172845 & 172845-121-T\\_SL & 121-T & PDMR-172845 & 172845-121-T\\_SL & PDX & RNA-Seq & ⋯ &   93138489 & P3 & Unknown & NA & NA & Unknown & 172845 & Adenocarcinoma - colon & - & Digestive/Gastrointestinal\\\\\n",
       "\t 1954 & WUSTL & 625472-104-R.r1.fastq.gz            & PDMR-625472 & 625472-104-R\\_SL & 104-R & PDMR-625472 & 625472-104-R\\_SL & PDX & RNA-Seq & ⋯ & 3184453176 & P2 & Unknown & NA & NA & Unknown & 625472 & Adenocarcinoma - colon & - & Digestive/Gastrointestinal\\\\\n",
       "\t 1955 & WUSTL & 625472-104-R.r2.fastq.gz            & PDMR-625472 & 625472-104-R\\_SL & 104-R & PDMR-625472 & 625472-104-R\\_SL & PDX & RNA-Seq & ⋯ & 3105288235 & P2 & Unknown & NA & NA & Unknown & 625472 & Adenocarcinoma - colon & - & Digestive/Gastrointestinal\\\\\n",
       "\\end{tabular}\n"
      ],
      "text/markdown": [
       "\n",
       "A tibble: 6 × 33\n",
       "\n",
       "| Index &lt;dbl&gt; | contributor &lt;chr&gt; | file_name &lt;chr&gt; | patient_id &lt;chr&gt; | model_id &lt;chr&gt; | tumor_id &lt;chr&gt; | case_id &lt;chr&gt; | sample_id &lt;chr&gt; | sample_type &lt;chr&gt; | experimental_strategy &lt;chr&gt; | ⋯ ⋯ | file_size &lt;dbl&gt; | passage &lt;chr&gt; | disease_type &lt;chr&gt; | comment &lt;chr&gt; | investigation &lt;lgl&gt; | disease_detail &lt;chr&gt; | pdmr_patient &lt;chr&gt; | CTEP SDCDescription &lt;chr&gt; | DiagnosisSubtype &lt;chr&gt; | Disease BodyLocation &lt;chr&gt; |\n",
       "|---|---|---|---|---|---|---|---|---|---|---|---|---|---|---|---|---|---|---|---|---|\n",
       "| 1949 | WUSTL | 172845-121-T.r1.fastq.gz            | PDMR-172845 | 172845-121-T_SL | 121-T | PDMR-172845 | 172845-121-T_SL | PDX | RNA-Seq | ⋯ | 4348811841 | P3 | Unknown | NA | NA | Unknown | 172845 | Adenocarcinoma - colon | - | Digestive/Gastrointestinal |\n",
       "| 1950 | WUSTL | 172845-121-T.r2.fastq.gz            | PDMR-172845 | 172845-121-T_SL | 121-T | PDMR-172845 | 172845-121-T_SL | PDX | RNA-Seq | ⋯ | 4209751331 | P3 | Unknown | NA | NA | Unknown | 172845 | Adenocarcinoma - colon | - | Digestive/Gastrointestinal |\n",
       "| 1951 | WUSTL | 172845-121-T.singletons.r1.fastq.gz | PDMR-172845 | 172845-121-T_SL | 121-T | PDMR-172845 | 172845-121-T_SL | PDX | RNA-Seq | ⋯ |   40247394 | P3 | Unknown | NA | NA | Unknown | 172845 | Adenocarcinoma - colon | - | Digestive/Gastrointestinal |\n",
       "| 1952 | WUSTL | 172845-121-T.singletons.r2.fastq.gz | PDMR-172845 | 172845-121-T_SL | 121-T | PDMR-172845 | 172845-121-T_SL | PDX | RNA-Seq | ⋯ |   93138489 | P3 | Unknown | NA | NA | Unknown | 172845 | Adenocarcinoma - colon | - | Digestive/Gastrointestinal |\n",
       "| 1954 | WUSTL | 625472-104-R.r1.fastq.gz            | PDMR-625472 | 625472-104-R_SL | 104-R | PDMR-625472 | 625472-104-R_SL | PDX | RNA-Seq | ⋯ | 3184453176 | P2 | Unknown | NA | NA | Unknown | 625472 | Adenocarcinoma - colon | - | Digestive/Gastrointestinal |\n",
       "| 1955 | WUSTL | 625472-104-R.r2.fastq.gz            | PDMR-625472 | 625472-104-R_SL | 104-R | PDMR-625472 | 625472-104-R_SL | PDX | RNA-Seq | ⋯ | 3105288235 | P2 | Unknown | NA | NA | Unknown | 625472 | Adenocarcinoma - colon | - | Digestive/Gastrointestinal |\n",
       "\n"
      ],
      "text/plain": [
       "  Index contributor file_name                           patient_id \n",
       "1 1949  WUSTL       172845-121-T.r1.fastq.gz            PDMR-172845\n",
       "2 1950  WUSTL       172845-121-T.r2.fastq.gz            PDMR-172845\n",
       "3 1951  WUSTL       172845-121-T.singletons.r1.fastq.gz PDMR-172845\n",
       "4 1952  WUSTL       172845-121-T.singletons.r2.fastq.gz PDMR-172845\n",
       "5 1954  WUSTL       625472-104-R.r1.fastq.gz            PDMR-625472\n",
       "6 1955  WUSTL       625472-104-R.r2.fastq.gz            PDMR-625472\n",
       "  model_id        tumor_id case_id     sample_id       sample_type\n",
       "1 172845-121-T_SL 121-T    PDMR-172845 172845-121-T_SL PDX        \n",
       "2 172845-121-T_SL 121-T    PDMR-172845 172845-121-T_SL PDX        \n",
       "3 172845-121-T_SL 121-T    PDMR-172845 172845-121-T_SL PDX        \n",
       "4 172845-121-T_SL 121-T    PDMR-172845 172845-121-T_SL PDX        \n",
       "5 625472-104-R_SL 104-R    PDMR-625472 625472-104-R_SL PDX        \n",
       "6 625472-104-R_SL 104-R    PDMR-625472 625472-104-R_SL PDX        \n",
       "  experimental_strategy ⋯ file_size  passage disease_type comment investigation\n",
       "1 RNA-Seq               ⋯ 4348811841 P3      Unknown      NA      NA           \n",
       "2 RNA-Seq               ⋯ 4209751331 P3      Unknown      NA      NA           \n",
       "3 RNA-Seq               ⋯   40247394 P3      Unknown      NA      NA           \n",
       "4 RNA-Seq               ⋯   93138489 P3      Unknown      NA      NA           \n",
       "5 RNA-Seq               ⋯ 3184453176 P2      Unknown      NA      NA           \n",
       "6 RNA-Seq               ⋯ 3105288235 P2      Unknown      NA      NA           \n",
       "  disease_detail pdmr_patient CTEP SDCDescription    DiagnosisSubtype\n",
       "1 Unknown        172845       Adenocarcinoma - colon -               \n",
       "2 Unknown        172845       Adenocarcinoma - colon -               \n",
       "3 Unknown        172845       Adenocarcinoma - colon -               \n",
       "4 Unknown        172845       Adenocarcinoma - colon -               \n",
       "5 Unknown        625472       Adenocarcinoma - colon -               \n",
       "6 Unknown        625472       Adenocarcinoma - colon -               \n",
       "  Disease BodyLocation      \n",
       "1 Digestive/Gastrointestinal\n",
       "2 Digestive/Gastrointestinal\n",
       "3 Digestive/Gastrointestinal\n",
       "4 Digestive/Gastrointestinal\n",
       "5 Digestive/Gastrointestinal\n",
       "6 Digestive/Gastrointestinal"
      ]
     },
     "metadata": {},
     "output_type": "display_data"
    }
   ],
   "source": [
    "# Add the pdmr info to the data frame\n",
    "\n",
    "edited_wustl_files <- edited_wustl_files %>% left_join(select(pdmr_patient_info, -View, -'STR ProfileAvail', -Gender), by = c('pdmr_patient' = 'Patient ID'))\n",
    "\n",
    "nrow(edited_wustl_files)\n",
    "head(edited_wustl_files)"
   ]
  },
  {
   "cell_type": "code",
   "execution_count": 77,
   "id": "3e63333a-18f3-4bb3-87d5-57ebe2f2a353",
   "metadata": {},
   "outputs": [
    {
     "data": {
      "text/html": [
       "878"
      ],
      "text/latex": [
       "878"
      ],
      "text/markdown": [
       "878"
      ],
      "text/plain": [
       "[1] 878"
      ]
     },
     "metadata": {},
     "output_type": "display_data"
    },
    {
     "data": {
      "text/html": [
       "<table class=\"dataframe\">\n",
       "<caption>A tibble: 6 × 29</caption>\n",
       "<thead>\n",
       "\t<tr><th scope=col>Index</th><th scope=col>contributor</th><th scope=col>file_name</th><th scope=col>patient_id</th><th scope=col>model_id</th><th scope=col>tumor_id</th><th scope=col>case_id</th><th scope=col>sample_id</th><th scope=col>sample_type</th><th scope=col>experimental_strategy</th><th scope=col>⋯</th><th scope=col>data_format</th><th scope=col>data_type</th><th scope=col>platform</th><th scope=col>is_ffpe</th><th scope=col>file_size</th><th scope=col>passage</th><th scope=col>disease_type</th><th scope=col>comment</th><th scope=col>investigation</th><th scope=col>disease_detail</th></tr>\n",
       "\t<tr><th scope=col>&lt;dbl&gt;</th><th scope=col>&lt;chr&gt;</th><th scope=col>&lt;chr&gt;</th><th scope=col>&lt;chr&gt;</th><th scope=col>&lt;chr&gt;</th><th scope=col>&lt;chr&gt;</th><th scope=col>&lt;chr&gt;</th><th scope=col>&lt;chr&gt;</th><th scope=col>&lt;chr&gt;</th><th scope=col>&lt;chr&gt;</th><th scope=col>⋯</th><th scope=col>&lt;chr&gt;</th><th scope=col>&lt;chr&gt;</th><th scope=col>&lt;chr&gt;</th><th scope=col>&lt;lgl&gt;</th><th scope=col>&lt;dbl&gt;</th><th scope=col>&lt;chr&gt;</th><th scope=col>&lt;chr&gt;</th><th scope=col>&lt;chr&gt;</th><th scope=col>&lt;lgl&gt;</th><th scope=col>&lt;chr&gt;</th></tr>\n",
       "</thead>\n",
       "<tbody>\n",
       "\t<tr><td>1949</td><td>WUSTL</td><td>172845-121-T.r1.fastq.gz           </td><td>PDMR-172845</td><td>172845-121-T_SL</td><td>121-T</td><td>PDMR-172845</td><td>172845-121-T_SL</td><td>PDX</td><td>RNA-Seq</td><td>⋯</td><td>fastq.gz</td><td>Raw Reads</td><td>NovaSeq S4</td><td>NA</td><td>4348811841</td><td>P3</td><td>Digestive/Gastrointestinal</td><td>NA</td><td>NA</td><td>Adenocarcinoma - colon</td></tr>\n",
       "\t<tr><td>1950</td><td>WUSTL</td><td>172845-121-T.r2.fastq.gz           </td><td>PDMR-172845</td><td>172845-121-T_SL</td><td>121-T</td><td>PDMR-172845</td><td>172845-121-T_SL</td><td>PDX</td><td>RNA-Seq</td><td>⋯</td><td>fastq.gz</td><td>Raw Reads</td><td>NovaSeq S4</td><td>NA</td><td>4209751331</td><td>P3</td><td>Digestive/Gastrointestinal</td><td>NA</td><td>NA</td><td>Adenocarcinoma - colon</td></tr>\n",
       "\t<tr><td>1951</td><td>WUSTL</td><td>172845-121-T.singletons.r1.fastq.gz</td><td>PDMR-172845</td><td>172845-121-T_SL</td><td>121-T</td><td>PDMR-172845</td><td>172845-121-T_SL</td><td>PDX</td><td>RNA-Seq</td><td>⋯</td><td>fastq.gz</td><td>Raw Reads</td><td>NovaSeq S4</td><td>NA</td><td>  40247394</td><td>P3</td><td>Digestive/Gastrointestinal</td><td>NA</td><td>NA</td><td>Adenocarcinoma - colon</td></tr>\n",
       "\t<tr><td>1952</td><td>WUSTL</td><td>172845-121-T.singletons.r2.fastq.gz</td><td>PDMR-172845</td><td>172845-121-T_SL</td><td>121-T</td><td>PDMR-172845</td><td>172845-121-T_SL</td><td>PDX</td><td>RNA-Seq</td><td>⋯</td><td>fastq.gz</td><td>Raw Reads</td><td>NovaSeq S4</td><td>NA</td><td>  93138489</td><td>P3</td><td>Digestive/Gastrointestinal</td><td>NA</td><td>NA</td><td>Adenocarcinoma - colon</td></tr>\n",
       "\t<tr><td>1954</td><td>WUSTL</td><td>625472-104-R.r1.fastq.gz           </td><td>PDMR-625472</td><td>625472-104-R_SL</td><td>104-R</td><td>PDMR-625472</td><td>625472-104-R_SL</td><td>PDX</td><td>RNA-Seq</td><td>⋯</td><td>fastq.gz</td><td>Raw Reads</td><td>NovaSeq S4</td><td>NA</td><td>3184453176</td><td>P2</td><td>Digestive/Gastrointestinal</td><td>NA</td><td>NA</td><td>Adenocarcinoma - colon</td></tr>\n",
       "\t<tr><td>1955</td><td>WUSTL</td><td>625472-104-R.r2.fastq.gz           </td><td>PDMR-625472</td><td>625472-104-R_SL</td><td>104-R</td><td>PDMR-625472</td><td>625472-104-R_SL</td><td>PDX</td><td>RNA-Seq</td><td>⋯</td><td>fastq.gz</td><td>Raw Reads</td><td>NovaSeq S4</td><td>NA</td><td>3105288235</td><td>P2</td><td>Digestive/Gastrointestinal</td><td>NA</td><td>NA</td><td>Adenocarcinoma - colon</td></tr>\n",
       "</tbody>\n",
       "</table>\n"
      ],
      "text/latex": [
       "A tibble: 6 × 29\n",
       "\\begin{tabular}{lllllllllllllllllllll}\n",
       " Index & contributor & file\\_name & patient\\_id & model\\_id & tumor\\_id & case\\_id & sample\\_id & sample\\_type & experimental\\_strategy & ⋯ & data\\_format & data\\_type & platform & is\\_ffpe & file\\_size & passage & disease\\_type & comment & investigation & disease\\_detail\\\\\n",
       " <dbl> & <chr> & <chr> & <chr> & <chr> & <chr> & <chr> & <chr> & <chr> & <chr> & ⋯ & <chr> & <chr> & <chr> & <lgl> & <dbl> & <chr> & <chr> & <chr> & <lgl> & <chr>\\\\\n",
       "\\hline\n",
       "\t 1949 & WUSTL & 172845-121-T.r1.fastq.gz            & PDMR-172845 & 172845-121-T\\_SL & 121-T & PDMR-172845 & 172845-121-T\\_SL & PDX & RNA-Seq & ⋯ & fastq.gz & Raw Reads & NovaSeq S4 & NA & 4348811841 & P3 & Digestive/Gastrointestinal & NA & NA & Adenocarcinoma - colon\\\\\n",
       "\t 1950 & WUSTL & 172845-121-T.r2.fastq.gz            & PDMR-172845 & 172845-121-T\\_SL & 121-T & PDMR-172845 & 172845-121-T\\_SL & PDX & RNA-Seq & ⋯ & fastq.gz & Raw Reads & NovaSeq S4 & NA & 4209751331 & P3 & Digestive/Gastrointestinal & NA & NA & Adenocarcinoma - colon\\\\\n",
       "\t 1951 & WUSTL & 172845-121-T.singletons.r1.fastq.gz & PDMR-172845 & 172845-121-T\\_SL & 121-T & PDMR-172845 & 172845-121-T\\_SL & PDX & RNA-Seq & ⋯ & fastq.gz & Raw Reads & NovaSeq S4 & NA &   40247394 & P3 & Digestive/Gastrointestinal & NA & NA & Adenocarcinoma - colon\\\\\n",
       "\t 1952 & WUSTL & 172845-121-T.singletons.r2.fastq.gz & PDMR-172845 & 172845-121-T\\_SL & 121-T & PDMR-172845 & 172845-121-T\\_SL & PDX & RNA-Seq & ⋯ & fastq.gz & Raw Reads & NovaSeq S4 & NA &   93138489 & P3 & Digestive/Gastrointestinal & NA & NA & Adenocarcinoma - colon\\\\\n",
       "\t 1954 & WUSTL & 625472-104-R.r1.fastq.gz            & PDMR-625472 & 625472-104-R\\_SL & 104-R & PDMR-625472 & 625472-104-R\\_SL & PDX & RNA-Seq & ⋯ & fastq.gz & Raw Reads & NovaSeq S4 & NA & 3184453176 & P2 & Digestive/Gastrointestinal & NA & NA & Adenocarcinoma - colon\\\\\n",
       "\t 1955 & WUSTL & 625472-104-R.r2.fastq.gz            & PDMR-625472 & 625472-104-R\\_SL & 104-R & PDMR-625472 & 625472-104-R\\_SL & PDX & RNA-Seq & ⋯ & fastq.gz & Raw Reads & NovaSeq S4 & NA & 3105288235 & P2 & Digestive/Gastrointestinal & NA & NA & Adenocarcinoma - colon\\\\\n",
       "\\end{tabular}\n"
      ],
      "text/markdown": [
       "\n",
       "A tibble: 6 × 29\n",
       "\n",
       "| Index &lt;dbl&gt; | contributor &lt;chr&gt; | file_name &lt;chr&gt; | patient_id &lt;chr&gt; | model_id &lt;chr&gt; | tumor_id &lt;chr&gt; | case_id &lt;chr&gt; | sample_id &lt;chr&gt; | sample_type &lt;chr&gt; | experimental_strategy &lt;chr&gt; | ⋯ ⋯ | data_format &lt;chr&gt; | data_type &lt;chr&gt; | platform &lt;chr&gt; | is_ffpe &lt;lgl&gt; | file_size &lt;dbl&gt; | passage &lt;chr&gt; | disease_type &lt;chr&gt; | comment &lt;chr&gt; | investigation &lt;lgl&gt; | disease_detail &lt;chr&gt; |\n",
       "|---|---|---|---|---|---|---|---|---|---|---|---|---|---|---|---|---|---|---|---|---|\n",
       "| 1949 | WUSTL | 172845-121-T.r1.fastq.gz            | PDMR-172845 | 172845-121-T_SL | 121-T | PDMR-172845 | 172845-121-T_SL | PDX | RNA-Seq | ⋯ | fastq.gz | Raw Reads | NovaSeq S4 | NA | 4348811841 | P3 | Digestive/Gastrointestinal | NA | NA | Adenocarcinoma - colon |\n",
       "| 1950 | WUSTL | 172845-121-T.r2.fastq.gz            | PDMR-172845 | 172845-121-T_SL | 121-T | PDMR-172845 | 172845-121-T_SL | PDX | RNA-Seq | ⋯ | fastq.gz | Raw Reads | NovaSeq S4 | NA | 4209751331 | P3 | Digestive/Gastrointestinal | NA | NA | Adenocarcinoma - colon |\n",
       "| 1951 | WUSTL | 172845-121-T.singletons.r1.fastq.gz | PDMR-172845 | 172845-121-T_SL | 121-T | PDMR-172845 | 172845-121-T_SL | PDX | RNA-Seq | ⋯ | fastq.gz | Raw Reads | NovaSeq S4 | NA |   40247394 | P3 | Digestive/Gastrointestinal | NA | NA | Adenocarcinoma - colon |\n",
       "| 1952 | WUSTL | 172845-121-T.singletons.r2.fastq.gz | PDMR-172845 | 172845-121-T_SL | 121-T | PDMR-172845 | 172845-121-T_SL | PDX | RNA-Seq | ⋯ | fastq.gz | Raw Reads | NovaSeq S4 | NA |   93138489 | P3 | Digestive/Gastrointestinal | NA | NA | Adenocarcinoma - colon |\n",
       "| 1954 | WUSTL | 625472-104-R.r1.fastq.gz            | PDMR-625472 | 625472-104-R_SL | 104-R | PDMR-625472 | 625472-104-R_SL | PDX | RNA-Seq | ⋯ | fastq.gz | Raw Reads | NovaSeq S4 | NA | 3184453176 | P2 | Digestive/Gastrointestinal | NA | NA | Adenocarcinoma - colon |\n",
       "| 1955 | WUSTL | 625472-104-R.r2.fastq.gz            | PDMR-625472 | 625472-104-R_SL | 104-R | PDMR-625472 | 625472-104-R_SL | PDX | RNA-Seq | ⋯ | fastq.gz | Raw Reads | NovaSeq S4 | NA | 3105288235 | P2 | Digestive/Gastrointestinal | NA | NA | Adenocarcinoma - colon |\n",
       "\n"
      ],
      "text/plain": [
       "  Index contributor file_name                           patient_id \n",
       "1 1949  WUSTL       172845-121-T.r1.fastq.gz            PDMR-172845\n",
       "2 1950  WUSTL       172845-121-T.r2.fastq.gz            PDMR-172845\n",
       "3 1951  WUSTL       172845-121-T.singletons.r1.fastq.gz PDMR-172845\n",
       "4 1952  WUSTL       172845-121-T.singletons.r2.fastq.gz PDMR-172845\n",
       "5 1954  WUSTL       625472-104-R.r1.fastq.gz            PDMR-625472\n",
       "6 1955  WUSTL       625472-104-R.r2.fastq.gz            PDMR-625472\n",
       "  model_id        tumor_id case_id     sample_id       sample_type\n",
       "1 172845-121-T_SL 121-T    PDMR-172845 172845-121-T_SL PDX        \n",
       "2 172845-121-T_SL 121-T    PDMR-172845 172845-121-T_SL PDX        \n",
       "3 172845-121-T_SL 121-T    PDMR-172845 172845-121-T_SL PDX        \n",
       "4 172845-121-T_SL 121-T    PDMR-172845 172845-121-T_SL PDX        \n",
       "5 625472-104-R_SL 104-R    PDMR-625472 625472-104-R_SL PDX        \n",
       "6 625472-104-R_SL 104-R    PDMR-625472 625472-104-R_SL PDX        \n",
       "  experimental_strategy ⋯ data_format data_type platform   is_ffpe file_size \n",
       "1 RNA-Seq               ⋯ fastq.gz    Raw Reads NovaSeq S4 NA      4348811841\n",
       "2 RNA-Seq               ⋯ fastq.gz    Raw Reads NovaSeq S4 NA      4209751331\n",
       "3 RNA-Seq               ⋯ fastq.gz    Raw Reads NovaSeq S4 NA        40247394\n",
       "4 RNA-Seq               ⋯ fastq.gz    Raw Reads NovaSeq S4 NA        93138489\n",
       "5 RNA-Seq               ⋯ fastq.gz    Raw Reads NovaSeq S4 NA      3184453176\n",
       "6 RNA-Seq               ⋯ fastq.gz    Raw Reads NovaSeq S4 NA      3105288235\n",
       "  passage disease_type               comment investigation\n",
       "1 P3      Digestive/Gastrointestinal NA      NA           \n",
       "2 P3      Digestive/Gastrointestinal NA      NA           \n",
       "3 P3      Digestive/Gastrointestinal NA      NA           \n",
       "4 P3      Digestive/Gastrointestinal NA      NA           \n",
       "5 P2      Digestive/Gastrointestinal NA      NA           \n",
       "6 P2      Digestive/Gastrointestinal NA      NA           \n",
       "  disease_detail        \n",
       "1 Adenocarcinoma - colon\n",
       "2 Adenocarcinoma - colon\n",
       "3 Adenocarcinoma - colon\n",
       "4 Adenocarcinoma - colon\n",
       "5 Adenocarcinoma - colon\n",
       "6 Adenocarcinoma - colon"
      ]
     },
     "metadata": {},
     "output_type": "display_data"
    }
   ],
   "source": [
    "# Fix the disease_type and disease_detail, as well as paired end status\n",
    "\n",
    "edited_wustl_files <- edited_wustl_files %>% mutate(\n",
    "    disease_type = ifelse(!is.na(`Disease BodyLocation`), `Disease BodyLocation`, disease_type),\n",
    "    disease_detail = ifelse(!is.na(`CTEP SDCDescription`), `CTEP SDCDescription`, disease_detail),\n",
    "    paired_end = ifelse(((paired_end == 'Unknown') | is.na(paired_end)), ifelse(endsWith(file_name, 'r1.fastq.gz'), 1, 2), paired_end)\n",
    "    ) %>%\n",
    "    select(Index:disease_detail)\n",
    "\n",
    "nrow(edited_wustl_files)\n",
    "head(edited_wustl_files)"
   ]
  },
  {
   "cell_type": "code",
   "execution_count": 78,
   "id": "67b44834-7767-4e6a-bcbe-f6e1fcc695d4",
   "metadata": {},
   "outputs": [
    {
     "data": {
      "text/html": [
       "<table class=\"dataframe\">\n",
       "<caption>A data.frame: 29 × 1</caption>\n",
       "<thead>\n",
       "\t<tr><th></th><th scope=col>.</th></tr>\n",
       "\t<tr><th></th><th scope=col>&lt;dbl&gt;</th></tr>\n",
       "</thead>\n",
       "<tbody>\n",
       "\t<tr><th scope=row>Index</th><td>  0</td></tr>\n",
       "\t<tr><th scope=row>contributor</th><td>  0</td></tr>\n",
       "\t<tr><th scope=row>file_name</th><td>  0</td></tr>\n",
       "\t<tr><th scope=row>patient_id</th><td>  0</td></tr>\n",
       "\t<tr><th scope=row>model_id</th><td>360</td></tr>\n",
       "\t<tr><th scope=row>tumor_id</th><td>360</td></tr>\n",
       "\t<tr><th scope=row>case_id</th><td>  0</td></tr>\n",
       "\t<tr><th scope=row>sample_id</th><td>  0</td></tr>\n",
       "\t<tr><th scope=row>sample_type</th><td>  0</td></tr>\n",
       "\t<tr><th scope=row>experimental_strategy</th><td>  0</td></tr>\n",
       "\t<tr><th scope=row>gender</th><td>  0</td></tr>\n",
       "\t<tr><th scope=row>paired_end</th><td>  0</td></tr>\n",
       "\t<tr><th scope=row>capture_kit</th><td>  0</td></tr>\n",
       "\t<tr><th scope=row>capture_assembly</th><td>872</td></tr>\n",
       "\t<tr><th scope=row>availability</th><td>  0</td></tr>\n",
       "\t<tr><th scope=row>public</th><td>  0</td></tr>\n",
       "\t<tr><th scope=row>access_level</th><td>  0</td></tr>\n",
       "\t<tr><th scope=row>created_datetime</th><td>860</td></tr>\n",
       "\t<tr><th scope=row>data_category</th><td>  0</td></tr>\n",
       "\t<tr><th scope=row>data_format</th><td>  0</td></tr>\n",
       "\t<tr><th scope=row>data_type</th><td>  0</td></tr>\n",
       "\t<tr><th scope=row>platform</th><td>  0</td></tr>\n",
       "\t<tr><th scope=row>is_ffpe</th><td>878</td></tr>\n",
       "\t<tr><th scope=row>file_size</th><td>  0</td></tr>\n",
       "\t<tr><th scope=row>passage</th><td>360</td></tr>\n",
       "\t<tr><th scope=row>disease_type</th><td>  0</td></tr>\n",
       "\t<tr><th scope=row>comment</th><td>878</td></tr>\n",
       "\t<tr><th scope=row>investigation</th><td>878</td></tr>\n",
       "\t<tr><th scope=row>disease_detail</th><td>  0</td></tr>\n",
       "</tbody>\n",
       "</table>\n"
      ],
      "text/latex": [
       "A data.frame: 29 × 1\n",
       "\\begin{tabular}{r|l}\n",
       "  & .\\\\\n",
       "  & <dbl>\\\\\n",
       "\\hline\n",
       "\tIndex &   0\\\\\n",
       "\tcontributor &   0\\\\\n",
       "\tfile\\_name &   0\\\\\n",
       "\tpatient\\_id &   0\\\\\n",
       "\tmodel\\_id & 360\\\\\n",
       "\ttumor\\_id & 360\\\\\n",
       "\tcase\\_id &   0\\\\\n",
       "\tsample\\_id &   0\\\\\n",
       "\tsample\\_type &   0\\\\\n",
       "\texperimental\\_strategy &   0\\\\\n",
       "\tgender &   0\\\\\n",
       "\tpaired\\_end &   0\\\\\n",
       "\tcapture\\_kit &   0\\\\\n",
       "\tcapture\\_assembly & 872\\\\\n",
       "\tavailability &   0\\\\\n",
       "\tpublic &   0\\\\\n",
       "\taccess\\_level &   0\\\\\n",
       "\tcreated\\_datetime & 860\\\\\n",
       "\tdata\\_category &   0\\\\\n",
       "\tdata\\_format &   0\\\\\n",
       "\tdata\\_type &   0\\\\\n",
       "\tplatform &   0\\\\\n",
       "\tis\\_ffpe & 878\\\\\n",
       "\tfile\\_size &   0\\\\\n",
       "\tpassage & 360\\\\\n",
       "\tdisease\\_type &   0\\\\\n",
       "\tcomment & 878\\\\\n",
       "\tinvestigation & 878\\\\\n",
       "\tdisease\\_detail &   0\\\\\n",
       "\\end{tabular}\n"
      ],
      "text/markdown": [
       "\n",
       "A data.frame: 29 × 1\n",
       "\n",
       "| <!--/--> | . &lt;dbl&gt; |\n",
       "|---|---|\n",
       "| Index |   0 |\n",
       "| contributor |   0 |\n",
       "| file_name |   0 |\n",
       "| patient_id |   0 |\n",
       "| model_id | 360 |\n",
       "| tumor_id | 360 |\n",
       "| case_id |   0 |\n",
       "| sample_id |   0 |\n",
       "| sample_type |   0 |\n",
       "| experimental_strategy |   0 |\n",
       "| gender |   0 |\n",
       "| paired_end |   0 |\n",
       "| capture_kit |   0 |\n",
       "| capture_assembly | 872 |\n",
       "| availability |   0 |\n",
       "| public |   0 |\n",
       "| access_level |   0 |\n",
       "| created_datetime | 860 |\n",
       "| data_category |   0 |\n",
       "| data_format |   0 |\n",
       "| data_type |   0 |\n",
       "| platform |   0 |\n",
       "| is_ffpe | 878 |\n",
       "| file_size |   0 |\n",
       "| passage | 360 |\n",
       "| disease_type |   0 |\n",
       "| comment | 878 |\n",
       "| investigation | 878 |\n",
       "| disease_detail |   0 |\n",
       "\n"
      ],
      "text/plain": [
       "                      .  \n",
       "Index                   0\n",
       "contributor             0\n",
       "file_name               0\n",
       "patient_id              0\n",
       "model_id              360\n",
       "tumor_id              360\n",
       "case_id                 0\n",
       "sample_id               0\n",
       "sample_type             0\n",
       "experimental_strategy   0\n",
       "gender                  0\n",
       "paired_end              0\n",
       "capture_kit             0\n",
       "capture_assembly      872\n",
       "availability            0\n",
       "public                  0\n",
       "access_level            0\n",
       "created_datetime      860\n",
       "data_category           0\n",
       "data_format             0\n",
       "data_type               0\n",
       "platform                0\n",
       "is_ffpe               878\n",
       "file_size               0\n",
       "passage               360\n",
       "disease_type            0\n",
       "comment               878\n",
       "investigation         878\n",
       "disease_detail          0"
      ]
     },
     "metadata": {},
     "output_type": "display_data"
    }
   ],
   "source": [
    "# How'd we do fixing these?\n",
    "\n",
    "colSums((is.na(edited_wustl_files) | (edited_wustl_files == 'Unknown') | (edited_wustl_files == '?'))) %>% as.data.frame()"
   ]
  },
  {
   "cell_type": "markdown",
   "id": "6933b71c-ca3b-45e6-bc5b-be29142f4908",
   "metadata": {},
   "source": [
    "Definitely filled in many."
   ]
  },
  {
   "cell_type": "code",
   "execution_count": 79,
   "id": "23aa4064-5538-4cbf-9198-0f6dfecba4bb",
   "metadata": {},
   "outputs": [],
   "source": [
    "# Export wustl only\n",
    "\n",
    "write_csv(edited_wustl_files, '2022-02-15_wustl_files_edited.csv')"
   ]
  },
  {
   "cell_type": "markdown",
   "id": "adf26363-d9d5-4591-aec3-cc3f2e179f38",
   "metadata": {},
   "source": [
    "### Merge all into a single list and final cleaning\n",
    "Will also need to redo the index number on them."
   ]
  },
  {
   "cell_type": "code",
   "execution_count": 80,
   "id": "4d37678b-a363-44fd-8427-ff633321e927",
   "metadata": {},
   "outputs": [
    {
     "data": {
      "text/html": [
       "2180"
      ],
      "text/latex": [
       "2180"
      ],
      "text/markdown": [
       "2180"
      ],
      "text/plain": [
       "[1] 2180"
      ]
     },
     "metadata": {},
     "output_type": "display_data"
    },
    {
     "data": {
      "text/html": [
       "<table class=\"dataframe\">\n",
       "<caption>A tibble: 6 × 29</caption>\n",
       "<thead>\n",
       "\t<tr><th scope=col>Index</th><th scope=col>contributor</th><th scope=col>file_name</th><th scope=col>patient_id</th><th scope=col>model_id</th><th scope=col>tumor_id</th><th scope=col>case_id</th><th scope=col>sample_id</th><th scope=col>sample_type</th><th scope=col>experimental_strategy</th><th scope=col>⋯</th><th scope=col>data_format</th><th scope=col>data_type</th><th scope=col>platform</th><th scope=col>is_ffpe</th><th scope=col>file_size</th><th scope=col>passage</th><th scope=col>disease_type</th><th scope=col>comment</th><th scope=col>investigation</th><th scope=col>disease_detail</th></tr>\n",
       "\t<tr><th scope=col>&lt;dbl&gt;</th><th scope=col>&lt;chr&gt;</th><th scope=col>&lt;chr&gt;</th><th scope=col>&lt;chr&gt;</th><th scope=col>&lt;chr&gt;</th><th scope=col>&lt;chr&gt;</th><th scope=col>&lt;chr&gt;</th><th scope=col>&lt;chr&gt;</th><th scope=col>&lt;chr&gt;</th><th scope=col>&lt;chr&gt;</th><th scope=col>⋯</th><th scope=col>&lt;chr&gt;</th><th scope=col>&lt;chr&gt;</th><th scope=col>&lt;chr&gt;</th><th scope=col>&lt;lgl&gt;</th><th scope=col>&lt;dbl&gt;</th><th scope=col>&lt;chr&gt;</th><th scope=col>&lt;chr&gt;</th><th scope=col>&lt;chr&gt;</th><th scope=col>&lt;lgl&gt;</th><th scope=col>&lt;chr&gt;</th></tr>\n",
       "</thead>\n",
       "<tbody>\n",
       "\t<tr><td>1</td><td>BCM</td><td>LZML_37246_NoIndex_L00X_R1_001.fastq.gz</td><td>24452</td><td>BCM-0002</td><td>2011012-2  </td><td>NA</td><td>BCM-0002</td><td>PDX</td><td>RNA-Seq</td><td>⋯</td><td>fastq.gz</td><td>Raw Reads</td><td>Illumina</td><td>FALSE</td><td>20656964441</td><td>NA</td><td>Breast</td><td>NA</td><td>NA</td><td>Invasive breast carcinoma</td></tr>\n",
       "\t<tr><td>2</td><td>BCM</td><td>LZML_37246_NoIndex_L00X_R2_001.fastq.gz</td><td>24452</td><td>BCM-0002</td><td>2011012-2  </td><td>NA</td><td>BCM-0002</td><td>PDX</td><td>RNA-Seq</td><td>⋯</td><td>fastq.gz</td><td>Raw Reads</td><td>Illumina</td><td>FALSE</td><td>21093643386</td><td>NA</td><td>Breast</td><td>NA</td><td>NA</td><td>Invasive breast carcinoma</td></tr>\n",
       "\t<tr><td>3</td><td>BCM</td><td>ML6065_GATCAGCG_L00X_R1_001.fastq.gz   </td><td>2219 </td><td>BCM-0046</td><td>2011012-46 </td><td>NA</td><td>BCM-0046</td><td>PDX</td><td>RNA-Seq</td><td>⋯</td><td>fastq.gz</td><td>Raw Reads</td><td>Illumina</td><td>FALSE</td><td>22027304876</td><td>NA</td><td>Breast</td><td>NA</td><td>NA</td><td>Invasive breast carcinoma</td></tr>\n",
       "\t<tr><td>4</td><td>BCM</td><td>ML6065_GATCAGCG_L00X_R2_001.fastq.gz   </td><td>2219 </td><td>BCM-0046</td><td>2011012-46 </td><td>NA</td><td>BCM-0046</td><td>PDX</td><td>RNA-Seq</td><td>⋯</td><td>fastq.gz</td><td>Raw Reads</td><td>Illumina</td><td>FALSE</td><td>22027304876</td><td>NA</td><td>Breast</td><td>NA</td><td>NA</td><td>Invasive breast carcinoma</td></tr>\n",
       "\t<tr><td>5</td><td>BCM</td><td>ML6061_CAGATCTG_L00X_R1_001.fastq.gz   </td><td>24561</td><td>BCM-0104</td><td>2011012-104</td><td>NA</td><td>BCM-0104</td><td>PDX</td><td>RNA-Seq</td><td>⋯</td><td>fastq.gz</td><td>Raw Reads</td><td>Illumina</td><td>FALSE</td><td>17927987899</td><td>NA</td><td>Breast</td><td>NA</td><td>NA</td><td>Invasive breast carcinoma</td></tr>\n",
       "\t<tr><td>6</td><td>BCM</td><td>ML6061_CAGATCTG_L00X_R2_001.fastq.gz   </td><td>24561</td><td>BCM-0104</td><td>2011012-104</td><td>NA</td><td>BCM-0104</td><td>PDX</td><td>RNA-Seq</td><td>⋯</td><td>fastq.gz</td><td>Raw Reads</td><td>Illumina</td><td>FALSE</td><td>18002109303</td><td>NA</td><td>Breast</td><td>NA</td><td>NA</td><td>Invasive breast carcinoma</td></tr>\n",
       "</tbody>\n",
       "</table>\n"
      ],
      "text/latex": [
       "A tibble: 6 × 29\n",
       "\\begin{tabular}{lllllllllllllllllllll}\n",
       " Index & contributor & file\\_name & patient\\_id & model\\_id & tumor\\_id & case\\_id & sample\\_id & sample\\_type & experimental\\_strategy & ⋯ & data\\_format & data\\_type & platform & is\\_ffpe & file\\_size & passage & disease\\_type & comment & investigation & disease\\_detail\\\\\n",
       " <dbl> & <chr> & <chr> & <chr> & <chr> & <chr> & <chr> & <chr> & <chr> & <chr> & ⋯ & <chr> & <chr> & <chr> & <lgl> & <dbl> & <chr> & <chr> & <chr> & <lgl> & <chr>\\\\\n",
       "\\hline\n",
       "\t 1 & BCM & LZML\\_37246\\_NoIndex\\_L00X\\_R1\\_001.fastq.gz & 24452 & BCM-0002 & 2011012-2   & NA & BCM-0002 & PDX & RNA-Seq & ⋯ & fastq.gz & Raw Reads & Illumina & FALSE & 20656964441 & NA & Breast & NA & NA & Invasive breast carcinoma\\\\\n",
       "\t 2 & BCM & LZML\\_37246\\_NoIndex\\_L00X\\_R2\\_001.fastq.gz & 24452 & BCM-0002 & 2011012-2   & NA & BCM-0002 & PDX & RNA-Seq & ⋯ & fastq.gz & Raw Reads & Illumina & FALSE & 21093643386 & NA & Breast & NA & NA & Invasive breast carcinoma\\\\\n",
       "\t 3 & BCM & ML6065\\_GATCAGCG\\_L00X\\_R1\\_001.fastq.gz    & 2219  & BCM-0046 & 2011012-46  & NA & BCM-0046 & PDX & RNA-Seq & ⋯ & fastq.gz & Raw Reads & Illumina & FALSE & 22027304876 & NA & Breast & NA & NA & Invasive breast carcinoma\\\\\n",
       "\t 4 & BCM & ML6065\\_GATCAGCG\\_L00X\\_R2\\_001.fastq.gz    & 2219  & BCM-0046 & 2011012-46  & NA & BCM-0046 & PDX & RNA-Seq & ⋯ & fastq.gz & Raw Reads & Illumina & FALSE & 22027304876 & NA & Breast & NA & NA & Invasive breast carcinoma\\\\\n",
       "\t 5 & BCM & ML6061\\_CAGATCTG\\_L00X\\_R1\\_001.fastq.gz    & 24561 & BCM-0104 & 2011012-104 & NA & BCM-0104 & PDX & RNA-Seq & ⋯ & fastq.gz & Raw Reads & Illumina & FALSE & 17927987899 & NA & Breast & NA & NA & Invasive breast carcinoma\\\\\n",
       "\t 6 & BCM & ML6061\\_CAGATCTG\\_L00X\\_R2\\_001.fastq.gz    & 24561 & BCM-0104 & 2011012-104 & NA & BCM-0104 & PDX & RNA-Seq & ⋯ & fastq.gz & Raw Reads & Illumina & FALSE & 18002109303 & NA & Breast & NA & NA & Invasive breast carcinoma\\\\\n",
       "\\end{tabular}\n"
      ],
      "text/markdown": [
       "\n",
       "A tibble: 6 × 29\n",
       "\n",
       "| Index &lt;dbl&gt; | contributor &lt;chr&gt; | file_name &lt;chr&gt; | patient_id &lt;chr&gt; | model_id &lt;chr&gt; | tumor_id &lt;chr&gt; | case_id &lt;chr&gt; | sample_id &lt;chr&gt; | sample_type &lt;chr&gt; | experimental_strategy &lt;chr&gt; | ⋯ ⋯ | data_format &lt;chr&gt; | data_type &lt;chr&gt; | platform &lt;chr&gt; | is_ffpe &lt;lgl&gt; | file_size &lt;dbl&gt; | passage &lt;chr&gt; | disease_type &lt;chr&gt; | comment &lt;chr&gt; | investigation &lt;lgl&gt; | disease_detail &lt;chr&gt; |\n",
       "|---|---|---|---|---|---|---|---|---|---|---|---|---|---|---|---|---|---|---|---|---|\n",
       "| 1 | BCM | LZML_37246_NoIndex_L00X_R1_001.fastq.gz | 24452 | BCM-0002 | 2011012-2   | NA | BCM-0002 | PDX | RNA-Seq | ⋯ | fastq.gz | Raw Reads | Illumina | FALSE | 20656964441 | NA | Breast | NA | NA | Invasive breast carcinoma |\n",
       "| 2 | BCM | LZML_37246_NoIndex_L00X_R2_001.fastq.gz | 24452 | BCM-0002 | 2011012-2   | NA | BCM-0002 | PDX | RNA-Seq | ⋯ | fastq.gz | Raw Reads | Illumina | FALSE | 21093643386 | NA | Breast | NA | NA | Invasive breast carcinoma |\n",
       "| 3 | BCM | ML6065_GATCAGCG_L00X_R1_001.fastq.gz    | 2219  | BCM-0046 | 2011012-46  | NA | BCM-0046 | PDX | RNA-Seq | ⋯ | fastq.gz | Raw Reads | Illumina | FALSE | 22027304876 | NA | Breast | NA | NA | Invasive breast carcinoma |\n",
       "| 4 | BCM | ML6065_GATCAGCG_L00X_R2_001.fastq.gz    | 2219  | BCM-0046 | 2011012-46  | NA | BCM-0046 | PDX | RNA-Seq | ⋯ | fastq.gz | Raw Reads | Illumina | FALSE | 22027304876 | NA | Breast | NA | NA | Invasive breast carcinoma |\n",
       "| 5 | BCM | ML6061_CAGATCTG_L00X_R1_001.fastq.gz    | 24561 | BCM-0104 | 2011012-104 | NA | BCM-0104 | PDX | RNA-Seq | ⋯ | fastq.gz | Raw Reads | Illumina | FALSE | 17927987899 | NA | Breast | NA | NA | Invasive breast carcinoma |\n",
       "| 6 | BCM | ML6061_CAGATCTG_L00X_R2_001.fastq.gz    | 24561 | BCM-0104 | 2011012-104 | NA | BCM-0104 | PDX | RNA-Seq | ⋯ | fastq.gz | Raw Reads | Illumina | FALSE | 18002109303 | NA | Breast | NA | NA | Invasive breast carcinoma |\n",
       "\n"
      ],
      "text/plain": [
       "  Index contributor file_name                               patient_id model_id\n",
       "1 1     BCM         LZML_37246_NoIndex_L00X_R1_001.fastq.gz 24452      BCM-0002\n",
       "2 2     BCM         LZML_37246_NoIndex_L00X_R2_001.fastq.gz 24452      BCM-0002\n",
       "3 3     BCM         ML6065_GATCAGCG_L00X_R1_001.fastq.gz    2219       BCM-0046\n",
       "4 4     BCM         ML6065_GATCAGCG_L00X_R2_001.fastq.gz    2219       BCM-0046\n",
       "5 5     BCM         ML6061_CAGATCTG_L00X_R1_001.fastq.gz    24561      BCM-0104\n",
       "6 6     BCM         ML6061_CAGATCTG_L00X_R2_001.fastq.gz    24561      BCM-0104\n",
       "  tumor_id    case_id sample_id sample_type experimental_strategy ⋯ data_format\n",
       "1 2011012-2   NA      BCM-0002  PDX         RNA-Seq               ⋯ fastq.gz   \n",
       "2 2011012-2   NA      BCM-0002  PDX         RNA-Seq               ⋯ fastq.gz   \n",
       "3 2011012-46  NA      BCM-0046  PDX         RNA-Seq               ⋯ fastq.gz   \n",
       "4 2011012-46  NA      BCM-0046  PDX         RNA-Seq               ⋯ fastq.gz   \n",
       "5 2011012-104 NA      BCM-0104  PDX         RNA-Seq               ⋯ fastq.gz   \n",
       "6 2011012-104 NA      BCM-0104  PDX         RNA-Seq               ⋯ fastq.gz   \n",
       "  data_type platform is_ffpe file_size   passage disease_type comment\n",
       "1 Raw Reads Illumina FALSE   20656964441 NA      Breast       NA     \n",
       "2 Raw Reads Illumina FALSE   21093643386 NA      Breast       NA     \n",
       "3 Raw Reads Illumina FALSE   22027304876 NA      Breast       NA     \n",
       "4 Raw Reads Illumina FALSE   22027304876 NA      Breast       NA     \n",
       "5 Raw Reads Illumina FALSE   17927987899 NA      Breast       NA     \n",
       "6 Raw Reads Illumina FALSE   18002109303 NA      Breast       NA     \n",
       "  investigation disease_detail           \n",
       "1 NA            Invasive breast carcinoma\n",
       "2 NA            Invasive breast carcinoma\n",
       "3 NA            Invasive breast carcinoma\n",
       "4 NA            Invasive breast carcinoma\n",
       "5 NA            Invasive breast carcinoma\n",
       "6 NA            Invasive breast carcinoma"
      ]
     },
     "metadata": {},
     "output_type": "display_data"
    }
   ],
   "source": [
    "# Bind rows into a single dataframe\n",
    "\n",
    "merged_edited_pdtc_files <- bind_rows(edited_bcm_files, edited_hci_files, edited_mdacc_files, edited_ucd_files, edited_wistar_files, edited_wustl_files)\n",
    "\n",
    "nrow(merged_edited_pdtc_files)\n",
    "head(merged_edited_pdtc_files)"
   ]
  },
  {
   "cell_type": "code",
   "execution_count": 81,
   "id": "988b61cb-a3ef-44a2-a1ac-182416cbf907",
   "metadata": {},
   "outputs": [
    {
     "data": {
      "text/html": [
       "<table class=\"dataframe\">\n",
       "<caption>A data.frame: 29 × 1</caption>\n",
       "<thead>\n",
       "\t<tr><th></th><th scope=col>.</th></tr>\n",
       "\t<tr><th></th><th scope=col>&lt;dbl&gt;</th></tr>\n",
       "</thead>\n",
       "<tbody>\n",
       "\t<tr><th scope=row>Index</th><td>   0</td></tr>\n",
       "\t<tr><th scope=row>contributor</th><td>   0</td></tr>\n",
       "\t<tr><th scope=row>file_name</th><td>   0</td></tr>\n",
       "\t<tr><th scope=row>patient_id</th><td>  26</td></tr>\n",
       "\t<tr><th scope=row>model_id</th><td> 870</td></tr>\n",
       "\t<tr><th scope=row>tumor_id</th><td>1422</td></tr>\n",
       "\t<tr><th scope=row>case_id</th><td> 602</td></tr>\n",
       "\t<tr><th scope=row>sample_id</th><td>   0</td></tr>\n",
       "\t<tr><th scope=row>sample_type</th><td>   0</td></tr>\n",
       "\t<tr><th scope=row>experimental_strategy</th><td>   0</td></tr>\n",
       "\t<tr><th scope=row>gender</th><td>  48</td></tr>\n",
       "\t<tr><th scope=row>paired_end</th><td>   0</td></tr>\n",
       "\t<tr><th scope=row>capture_kit</th><td>  88</td></tr>\n",
       "\t<tr><th scope=row>capture_assembly</th><td>1570</td></tr>\n",
       "\t<tr><th scope=row>availability</th><td>   0</td></tr>\n",
       "\t<tr><th scope=row>public</th><td>  48</td></tr>\n",
       "\t<tr><th scope=row>access_level</th><td> 700</td></tr>\n",
       "\t<tr><th scope=row>created_datetime</th><td>2066</td></tr>\n",
       "\t<tr><th scope=row>data_category</th><td>   0</td></tr>\n",
       "\t<tr><th scope=row>data_format</th><td>   0</td></tr>\n",
       "\t<tr><th scope=row>data_type</th><td>   0</td></tr>\n",
       "\t<tr><th scope=row>platform</th><td>   0</td></tr>\n",
       "\t<tr><th scope=row>is_ffpe</th><td>1714</td></tr>\n",
       "\t<tr><th scope=row>file_size</th><td> 710</td></tr>\n",
       "\t<tr><th scope=row>passage</th><td>1174</td></tr>\n",
       "\t<tr><th scope=row>disease_type</th><td>  80</td></tr>\n",
       "\t<tr><th scope=row>comment</th><td>2144</td></tr>\n",
       "\t<tr><th scope=row>investigation</th><td>2180</td></tr>\n",
       "\t<tr><th scope=row>disease_detail</th><td>  80</td></tr>\n",
       "</tbody>\n",
       "</table>\n"
      ],
      "text/latex": [
       "A data.frame: 29 × 1\n",
       "\\begin{tabular}{r|l}\n",
       "  & .\\\\\n",
       "  & <dbl>\\\\\n",
       "\\hline\n",
       "\tIndex &    0\\\\\n",
       "\tcontributor &    0\\\\\n",
       "\tfile\\_name &    0\\\\\n",
       "\tpatient\\_id &   26\\\\\n",
       "\tmodel\\_id &  870\\\\\n",
       "\ttumor\\_id & 1422\\\\\n",
       "\tcase\\_id &  602\\\\\n",
       "\tsample\\_id &    0\\\\\n",
       "\tsample\\_type &    0\\\\\n",
       "\texperimental\\_strategy &    0\\\\\n",
       "\tgender &   48\\\\\n",
       "\tpaired\\_end &    0\\\\\n",
       "\tcapture\\_kit &   88\\\\\n",
       "\tcapture\\_assembly & 1570\\\\\n",
       "\tavailability &    0\\\\\n",
       "\tpublic &   48\\\\\n",
       "\taccess\\_level &  700\\\\\n",
       "\tcreated\\_datetime & 2066\\\\\n",
       "\tdata\\_category &    0\\\\\n",
       "\tdata\\_format &    0\\\\\n",
       "\tdata\\_type &    0\\\\\n",
       "\tplatform &    0\\\\\n",
       "\tis\\_ffpe & 1714\\\\\n",
       "\tfile\\_size &  710\\\\\n",
       "\tpassage & 1174\\\\\n",
       "\tdisease\\_type &   80\\\\\n",
       "\tcomment & 2144\\\\\n",
       "\tinvestigation & 2180\\\\\n",
       "\tdisease\\_detail &   80\\\\\n",
       "\\end{tabular}\n"
      ],
      "text/markdown": [
       "\n",
       "A data.frame: 29 × 1\n",
       "\n",
       "| <!--/--> | . &lt;dbl&gt; |\n",
       "|---|---|\n",
       "| Index |    0 |\n",
       "| contributor |    0 |\n",
       "| file_name |    0 |\n",
       "| patient_id |   26 |\n",
       "| model_id |  870 |\n",
       "| tumor_id | 1422 |\n",
       "| case_id |  602 |\n",
       "| sample_id |    0 |\n",
       "| sample_type |    0 |\n",
       "| experimental_strategy |    0 |\n",
       "| gender |   48 |\n",
       "| paired_end |    0 |\n",
       "| capture_kit |   88 |\n",
       "| capture_assembly | 1570 |\n",
       "| availability |    0 |\n",
       "| public |   48 |\n",
       "| access_level |  700 |\n",
       "| created_datetime | 2066 |\n",
       "| data_category |    0 |\n",
       "| data_format |    0 |\n",
       "| data_type |    0 |\n",
       "| platform |    0 |\n",
       "| is_ffpe | 1714 |\n",
       "| file_size |  710 |\n",
       "| passage | 1174 |\n",
       "| disease_type |   80 |\n",
       "| comment | 2144 |\n",
       "| investigation | 2180 |\n",
       "| disease_detail |   80 |\n",
       "\n"
      ],
      "text/plain": [
       "                      .   \n",
       "Index                    0\n",
       "contributor              0\n",
       "file_name                0\n",
       "patient_id              26\n",
       "model_id               870\n",
       "tumor_id              1422\n",
       "case_id                602\n",
       "sample_id                0\n",
       "sample_type              0\n",
       "experimental_strategy    0\n",
       "gender                  48\n",
       "paired_end               0\n",
       "capture_kit             88\n",
       "capture_assembly      1570\n",
       "availability             0\n",
       "public                  48\n",
       "access_level           700\n",
       "created_datetime      2066\n",
       "data_category            0\n",
       "data_format              0\n",
       "data_type                0\n",
       "platform                 0\n",
       "is_ffpe               1714\n",
       "file_size              710\n",
       "passage               1174\n",
       "disease_type            80\n",
       "comment               2144\n",
       "investigation         2180\n",
       "disease_detail          80"
      ]
     },
     "metadata": {},
     "output_type": "display_data"
    }
   ],
   "source": [
    "# How'd we do fixing these?\n",
    "\n",
    "colSums((is.na(merged_edited_pdtc_files) | (merged_edited_pdtc_files == 'Unknown') | (merged_edited_pdtc_files == '?'))) %>% as.data.frame()"
   ]
  },
  {
   "cell_type": "code",
   "execution_count": 82,
   "id": "57896fd2-cf99-41ac-a017-1539bdf9fbd8",
   "metadata": {},
   "outputs": [
    {
     "data": {
      "text/html": [
       "<table class=\"dataframe\">\n",
       "<caption>A tibble: 6 × 29</caption>\n",
       "<thead>\n",
       "\t<tr><th scope=col>Index</th><th scope=col>contributor</th><th scope=col>file_name</th><th scope=col>patient_id</th><th scope=col>model_id</th><th scope=col>tumor_id</th><th scope=col>case_id</th><th scope=col>sample_id</th><th scope=col>sample_type</th><th scope=col>experimental_strategy</th><th scope=col>⋯</th><th scope=col>data_format</th><th scope=col>data_type</th><th scope=col>platform</th><th scope=col>is_ffpe</th><th scope=col>file_size</th><th scope=col>passage</th><th scope=col>disease_type</th><th scope=col>comment</th><th scope=col>investigation</th><th scope=col>disease_detail</th></tr>\n",
       "\t<tr><th scope=col>&lt;int&gt;</th><th scope=col>&lt;chr&gt;</th><th scope=col>&lt;chr&gt;</th><th scope=col>&lt;chr&gt;</th><th scope=col>&lt;chr&gt;</th><th scope=col>&lt;chr&gt;</th><th scope=col>&lt;chr&gt;</th><th scope=col>&lt;chr&gt;</th><th scope=col>&lt;chr&gt;</th><th scope=col>&lt;chr&gt;</th><th scope=col>⋯</th><th scope=col>&lt;chr&gt;</th><th scope=col>&lt;chr&gt;</th><th scope=col>&lt;chr&gt;</th><th scope=col>&lt;lgl&gt;</th><th scope=col>&lt;dbl&gt;</th><th scope=col>&lt;chr&gt;</th><th scope=col>&lt;chr&gt;</th><th scope=col>&lt;chr&gt;</th><th scope=col>&lt;lgl&gt;</th><th scope=col>&lt;chr&gt;</th></tr>\n",
       "</thead>\n",
       "<tbody>\n",
       "\t<tr><td>1</td><td>BCM</td><td>LZML_37246_NoIndex_L00X_R1_001.fastq.gz</td><td>24452</td><td>BCM-0002</td><td>2011012-2  </td><td>NA</td><td>BCM-0002</td><td>PDX</td><td>RNA-Seq</td><td>⋯</td><td>fastq.gz</td><td>Raw Reads</td><td>Illumina</td><td>FALSE</td><td>20656964441</td><td>NA</td><td>Breast</td><td>NA</td><td>NA</td><td>Invasive breast carcinoma</td></tr>\n",
       "\t<tr><td>2</td><td>BCM</td><td>LZML_37246_NoIndex_L00X_R2_001.fastq.gz</td><td>24452</td><td>BCM-0002</td><td>2011012-2  </td><td>NA</td><td>BCM-0002</td><td>PDX</td><td>RNA-Seq</td><td>⋯</td><td>fastq.gz</td><td>Raw Reads</td><td>Illumina</td><td>FALSE</td><td>21093643386</td><td>NA</td><td>Breast</td><td>NA</td><td>NA</td><td>Invasive breast carcinoma</td></tr>\n",
       "\t<tr><td>3</td><td>BCM</td><td>ML6065_GATCAGCG_L00X_R1_001.fastq.gz   </td><td>2219 </td><td>BCM-0046</td><td>2011012-46 </td><td>NA</td><td>BCM-0046</td><td>PDX</td><td>RNA-Seq</td><td>⋯</td><td>fastq.gz</td><td>Raw Reads</td><td>Illumina</td><td>FALSE</td><td>22027304876</td><td>NA</td><td>Breast</td><td>NA</td><td>NA</td><td>Invasive breast carcinoma</td></tr>\n",
       "\t<tr><td>4</td><td>BCM</td><td>ML6065_GATCAGCG_L00X_R2_001.fastq.gz   </td><td>2219 </td><td>BCM-0046</td><td>2011012-46 </td><td>NA</td><td>BCM-0046</td><td>PDX</td><td>RNA-Seq</td><td>⋯</td><td>fastq.gz</td><td>Raw Reads</td><td>Illumina</td><td>FALSE</td><td>22027304876</td><td>NA</td><td>Breast</td><td>NA</td><td>NA</td><td>Invasive breast carcinoma</td></tr>\n",
       "\t<tr><td>5</td><td>BCM</td><td>ML6061_CAGATCTG_L00X_R1_001.fastq.gz   </td><td>24561</td><td>BCM-0104</td><td>2011012-104</td><td>NA</td><td>BCM-0104</td><td>PDX</td><td>RNA-Seq</td><td>⋯</td><td>fastq.gz</td><td>Raw Reads</td><td>Illumina</td><td>FALSE</td><td>17927987899</td><td>NA</td><td>Breast</td><td>NA</td><td>NA</td><td>Invasive breast carcinoma</td></tr>\n",
       "\t<tr><td>6</td><td>BCM</td><td>ML6061_CAGATCTG_L00X_R2_001.fastq.gz   </td><td>24561</td><td>BCM-0104</td><td>2011012-104</td><td>NA</td><td>BCM-0104</td><td>PDX</td><td>RNA-Seq</td><td>⋯</td><td>fastq.gz</td><td>Raw Reads</td><td>Illumina</td><td>FALSE</td><td>18002109303</td><td>NA</td><td>Breast</td><td>NA</td><td>NA</td><td>Invasive breast carcinoma</td></tr>\n",
       "</tbody>\n",
       "</table>\n"
      ],
      "text/latex": [
       "A tibble: 6 × 29\n",
       "\\begin{tabular}{lllllllllllllllllllll}\n",
       " Index & contributor & file\\_name & patient\\_id & model\\_id & tumor\\_id & case\\_id & sample\\_id & sample\\_type & experimental\\_strategy & ⋯ & data\\_format & data\\_type & platform & is\\_ffpe & file\\_size & passage & disease\\_type & comment & investigation & disease\\_detail\\\\\n",
       " <int> & <chr> & <chr> & <chr> & <chr> & <chr> & <chr> & <chr> & <chr> & <chr> & ⋯ & <chr> & <chr> & <chr> & <lgl> & <dbl> & <chr> & <chr> & <chr> & <lgl> & <chr>\\\\\n",
       "\\hline\n",
       "\t 1 & BCM & LZML\\_37246\\_NoIndex\\_L00X\\_R1\\_001.fastq.gz & 24452 & BCM-0002 & 2011012-2   & NA & BCM-0002 & PDX & RNA-Seq & ⋯ & fastq.gz & Raw Reads & Illumina & FALSE & 20656964441 & NA & Breast & NA & NA & Invasive breast carcinoma\\\\\n",
       "\t 2 & BCM & LZML\\_37246\\_NoIndex\\_L00X\\_R2\\_001.fastq.gz & 24452 & BCM-0002 & 2011012-2   & NA & BCM-0002 & PDX & RNA-Seq & ⋯ & fastq.gz & Raw Reads & Illumina & FALSE & 21093643386 & NA & Breast & NA & NA & Invasive breast carcinoma\\\\\n",
       "\t 3 & BCM & ML6065\\_GATCAGCG\\_L00X\\_R1\\_001.fastq.gz    & 2219  & BCM-0046 & 2011012-46  & NA & BCM-0046 & PDX & RNA-Seq & ⋯ & fastq.gz & Raw Reads & Illumina & FALSE & 22027304876 & NA & Breast & NA & NA & Invasive breast carcinoma\\\\\n",
       "\t 4 & BCM & ML6065\\_GATCAGCG\\_L00X\\_R2\\_001.fastq.gz    & 2219  & BCM-0046 & 2011012-46  & NA & BCM-0046 & PDX & RNA-Seq & ⋯ & fastq.gz & Raw Reads & Illumina & FALSE & 22027304876 & NA & Breast & NA & NA & Invasive breast carcinoma\\\\\n",
       "\t 5 & BCM & ML6061\\_CAGATCTG\\_L00X\\_R1\\_001.fastq.gz    & 24561 & BCM-0104 & 2011012-104 & NA & BCM-0104 & PDX & RNA-Seq & ⋯ & fastq.gz & Raw Reads & Illumina & FALSE & 17927987899 & NA & Breast & NA & NA & Invasive breast carcinoma\\\\\n",
       "\t 6 & BCM & ML6061\\_CAGATCTG\\_L00X\\_R2\\_001.fastq.gz    & 24561 & BCM-0104 & 2011012-104 & NA & BCM-0104 & PDX & RNA-Seq & ⋯ & fastq.gz & Raw Reads & Illumina & FALSE & 18002109303 & NA & Breast & NA & NA & Invasive breast carcinoma\\\\\n",
       "\\end{tabular}\n"
      ],
      "text/markdown": [
       "\n",
       "A tibble: 6 × 29\n",
       "\n",
       "| Index &lt;int&gt; | contributor &lt;chr&gt; | file_name &lt;chr&gt; | patient_id &lt;chr&gt; | model_id &lt;chr&gt; | tumor_id &lt;chr&gt; | case_id &lt;chr&gt; | sample_id &lt;chr&gt; | sample_type &lt;chr&gt; | experimental_strategy &lt;chr&gt; | ⋯ ⋯ | data_format &lt;chr&gt; | data_type &lt;chr&gt; | platform &lt;chr&gt; | is_ffpe &lt;lgl&gt; | file_size &lt;dbl&gt; | passage &lt;chr&gt; | disease_type &lt;chr&gt; | comment &lt;chr&gt; | investigation &lt;lgl&gt; | disease_detail &lt;chr&gt; |\n",
       "|---|---|---|---|---|---|---|---|---|---|---|---|---|---|---|---|---|---|---|---|---|\n",
       "| 1 | BCM | LZML_37246_NoIndex_L00X_R1_001.fastq.gz | 24452 | BCM-0002 | 2011012-2   | NA | BCM-0002 | PDX | RNA-Seq | ⋯ | fastq.gz | Raw Reads | Illumina | FALSE | 20656964441 | NA | Breast | NA | NA | Invasive breast carcinoma |\n",
       "| 2 | BCM | LZML_37246_NoIndex_L00X_R2_001.fastq.gz | 24452 | BCM-0002 | 2011012-2   | NA | BCM-0002 | PDX | RNA-Seq | ⋯ | fastq.gz | Raw Reads | Illumina | FALSE | 21093643386 | NA | Breast | NA | NA | Invasive breast carcinoma |\n",
       "| 3 | BCM | ML6065_GATCAGCG_L00X_R1_001.fastq.gz    | 2219  | BCM-0046 | 2011012-46  | NA | BCM-0046 | PDX | RNA-Seq | ⋯ | fastq.gz | Raw Reads | Illumina | FALSE | 22027304876 | NA | Breast | NA | NA | Invasive breast carcinoma |\n",
       "| 4 | BCM | ML6065_GATCAGCG_L00X_R2_001.fastq.gz    | 2219  | BCM-0046 | 2011012-46  | NA | BCM-0046 | PDX | RNA-Seq | ⋯ | fastq.gz | Raw Reads | Illumina | FALSE | 22027304876 | NA | Breast | NA | NA | Invasive breast carcinoma |\n",
       "| 5 | BCM | ML6061_CAGATCTG_L00X_R1_001.fastq.gz    | 24561 | BCM-0104 | 2011012-104 | NA | BCM-0104 | PDX | RNA-Seq | ⋯ | fastq.gz | Raw Reads | Illumina | FALSE | 17927987899 | NA | Breast | NA | NA | Invasive breast carcinoma |\n",
       "| 6 | BCM | ML6061_CAGATCTG_L00X_R2_001.fastq.gz    | 24561 | BCM-0104 | 2011012-104 | NA | BCM-0104 | PDX | RNA-Seq | ⋯ | fastq.gz | Raw Reads | Illumina | FALSE | 18002109303 | NA | Breast | NA | NA | Invasive breast carcinoma |\n",
       "\n"
      ],
      "text/plain": [
       "  Index contributor file_name                               patient_id model_id\n",
       "1 1     BCM         LZML_37246_NoIndex_L00X_R1_001.fastq.gz 24452      BCM-0002\n",
       "2 2     BCM         LZML_37246_NoIndex_L00X_R2_001.fastq.gz 24452      BCM-0002\n",
       "3 3     BCM         ML6065_GATCAGCG_L00X_R1_001.fastq.gz    2219       BCM-0046\n",
       "4 4     BCM         ML6065_GATCAGCG_L00X_R2_001.fastq.gz    2219       BCM-0046\n",
       "5 5     BCM         ML6061_CAGATCTG_L00X_R1_001.fastq.gz    24561      BCM-0104\n",
       "6 6     BCM         ML6061_CAGATCTG_L00X_R2_001.fastq.gz    24561      BCM-0104\n",
       "  tumor_id    case_id sample_id sample_type experimental_strategy ⋯ data_format\n",
       "1 2011012-2   NA      BCM-0002  PDX         RNA-Seq               ⋯ fastq.gz   \n",
       "2 2011012-2   NA      BCM-0002  PDX         RNA-Seq               ⋯ fastq.gz   \n",
       "3 2011012-46  NA      BCM-0046  PDX         RNA-Seq               ⋯ fastq.gz   \n",
       "4 2011012-46  NA      BCM-0046  PDX         RNA-Seq               ⋯ fastq.gz   \n",
       "5 2011012-104 NA      BCM-0104  PDX         RNA-Seq               ⋯ fastq.gz   \n",
       "6 2011012-104 NA      BCM-0104  PDX         RNA-Seq               ⋯ fastq.gz   \n",
       "  data_type platform is_ffpe file_size   passage disease_type comment\n",
       "1 Raw Reads Illumina FALSE   20656964441 NA      Breast       NA     \n",
       "2 Raw Reads Illumina FALSE   21093643386 NA      Breast       NA     \n",
       "3 Raw Reads Illumina FALSE   22027304876 NA      Breast       NA     \n",
       "4 Raw Reads Illumina FALSE   22027304876 NA      Breast       NA     \n",
       "5 Raw Reads Illumina FALSE   17927987899 NA      Breast       NA     \n",
       "6 Raw Reads Illumina FALSE   18002109303 NA      Breast       NA     \n",
       "  investigation disease_detail           \n",
       "1 NA            Invasive breast carcinoma\n",
       "2 NA            Invasive breast carcinoma\n",
       "3 NA            Invasive breast carcinoma\n",
       "4 NA            Invasive breast carcinoma\n",
       "5 NA            Invasive breast carcinoma\n",
       "6 NA            Invasive breast carcinoma"
      ]
     },
     "metadata": {},
     "output_type": "display_data"
    }
   ],
   "source": [
    "# Give them all a new index\n",
    "\n",
    "merged_edited_pdtc_files$Index <- seq(1, 2180)\n",
    "\n",
    "head(merged_edited_pdtc_files)"
   ]
  },
  {
   "cell_type": "code",
   "execution_count": 83,
   "id": "a221e3fa-460e-4743-9659-65a7734b9099",
   "metadata": {},
   "outputs": [
    {
     "data": {
      "text/html": [
       "2180"
      ],
      "text/latex": [
       "2180"
      ],
      "text/markdown": [
       "2180"
      ],
      "text/plain": [
       "[1] 2180"
      ]
     },
     "metadata": {},
     "output_type": "display_data"
    },
    {
     "data": {
      "text/html": [
       "<table class=\"dataframe\">\n",
       "<caption>A tibble: 6 × 29</caption>\n",
       "<thead>\n",
       "\t<tr><th scope=col>Index</th><th scope=col>contributor</th><th scope=col>file_name</th><th scope=col>patient_id</th><th scope=col>model_id</th><th scope=col>tumor_id</th><th scope=col>case_id</th><th scope=col>sample_id</th><th scope=col>sample_type</th><th scope=col>experimental_strategy</th><th scope=col>⋯</th><th scope=col>data_format</th><th scope=col>data_type</th><th scope=col>platform</th><th scope=col>is_ffpe</th><th scope=col>file_size</th><th scope=col>passage</th><th scope=col>disease_type</th><th scope=col>comment</th><th scope=col>investigation</th><th scope=col>disease_detail</th></tr>\n",
       "\t<tr><th scope=col>&lt;int&gt;</th><th scope=col>&lt;chr&gt;</th><th scope=col>&lt;chr&gt;</th><th scope=col>&lt;chr&gt;</th><th scope=col>&lt;chr&gt;</th><th scope=col>&lt;chr&gt;</th><th scope=col>&lt;chr&gt;</th><th scope=col>&lt;chr&gt;</th><th scope=col>&lt;chr&gt;</th><th scope=col>&lt;chr&gt;</th><th scope=col>⋯</th><th scope=col>&lt;chr&gt;</th><th scope=col>&lt;chr&gt;</th><th scope=col>&lt;chr&gt;</th><th scope=col>&lt;lgl&gt;</th><th scope=col>&lt;dbl&gt;</th><th scope=col>&lt;chr&gt;</th><th scope=col>&lt;chr&gt;</th><th scope=col>&lt;chr&gt;</th><th scope=col>&lt;lgl&gt;</th><th scope=col>&lt;chr&gt;</th></tr>\n",
       "</thead>\n",
       "<tbody>\n",
       "\t<tr><td>1</td><td>BCM</td><td>LZML_37246_NoIndex_L00X_R1_001.fastq.gz</td><td>24452</td><td>BCM-0002</td><td>2011012-2  </td><td>NA</td><td>BCM-0002</td><td>PDX</td><td>RNA-Seq</td><td>⋯</td><td>fastq.gz</td><td>Raw Reads</td><td>Illumina</td><td>FALSE</td><td>20656964441</td><td>Unknown</td><td>Breast</td><td>NA</td><td>NA</td><td>Invasive breast carcinoma</td></tr>\n",
       "\t<tr><td>2</td><td>BCM</td><td>LZML_37246_NoIndex_L00X_R2_001.fastq.gz</td><td>24452</td><td>BCM-0002</td><td>2011012-2  </td><td>NA</td><td>BCM-0002</td><td>PDX</td><td>RNA-Seq</td><td>⋯</td><td>fastq.gz</td><td>Raw Reads</td><td>Illumina</td><td>FALSE</td><td>21093643386</td><td>Unknown</td><td>Breast</td><td>NA</td><td>NA</td><td>Invasive breast carcinoma</td></tr>\n",
       "\t<tr><td>3</td><td>BCM</td><td>ML6065_GATCAGCG_L00X_R1_001.fastq.gz   </td><td>2219 </td><td>BCM-0046</td><td>2011012-46 </td><td>NA</td><td>BCM-0046</td><td>PDX</td><td>RNA-Seq</td><td>⋯</td><td>fastq.gz</td><td>Raw Reads</td><td>Illumina</td><td>FALSE</td><td>22027304876</td><td>Unknown</td><td>Breast</td><td>NA</td><td>NA</td><td>Invasive breast carcinoma</td></tr>\n",
       "\t<tr><td>4</td><td>BCM</td><td>ML6065_GATCAGCG_L00X_R2_001.fastq.gz   </td><td>2219 </td><td>BCM-0046</td><td>2011012-46 </td><td>NA</td><td>BCM-0046</td><td>PDX</td><td>RNA-Seq</td><td>⋯</td><td>fastq.gz</td><td>Raw Reads</td><td>Illumina</td><td>FALSE</td><td>22027304876</td><td>Unknown</td><td>Breast</td><td>NA</td><td>NA</td><td>Invasive breast carcinoma</td></tr>\n",
       "\t<tr><td>5</td><td>BCM</td><td>ML6061_CAGATCTG_L00X_R1_001.fastq.gz   </td><td>24561</td><td>BCM-0104</td><td>2011012-104</td><td>NA</td><td>BCM-0104</td><td>PDX</td><td>RNA-Seq</td><td>⋯</td><td>fastq.gz</td><td>Raw Reads</td><td>Illumina</td><td>FALSE</td><td>17927987899</td><td>Unknown</td><td>Breast</td><td>NA</td><td>NA</td><td>Invasive breast carcinoma</td></tr>\n",
       "\t<tr><td>6</td><td>BCM</td><td>ML6061_CAGATCTG_L00X_R2_001.fastq.gz   </td><td>24561</td><td>BCM-0104</td><td>2011012-104</td><td>NA</td><td>BCM-0104</td><td>PDX</td><td>RNA-Seq</td><td>⋯</td><td>fastq.gz</td><td>Raw Reads</td><td>Illumina</td><td>FALSE</td><td>18002109303</td><td>Unknown</td><td>Breast</td><td>NA</td><td>NA</td><td>Invasive breast carcinoma</td></tr>\n",
       "</tbody>\n",
       "</table>\n"
      ],
      "text/latex": [
       "A tibble: 6 × 29\n",
       "\\begin{tabular}{lllllllllllllllllllll}\n",
       " Index & contributor & file\\_name & patient\\_id & model\\_id & tumor\\_id & case\\_id & sample\\_id & sample\\_type & experimental\\_strategy & ⋯ & data\\_format & data\\_type & platform & is\\_ffpe & file\\_size & passage & disease\\_type & comment & investigation & disease\\_detail\\\\\n",
       " <int> & <chr> & <chr> & <chr> & <chr> & <chr> & <chr> & <chr> & <chr> & <chr> & ⋯ & <chr> & <chr> & <chr> & <lgl> & <dbl> & <chr> & <chr> & <chr> & <lgl> & <chr>\\\\\n",
       "\\hline\n",
       "\t 1 & BCM & LZML\\_37246\\_NoIndex\\_L00X\\_R1\\_001.fastq.gz & 24452 & BCM-0002 & 2011012-2   & NA & BCM-0002 & PDX & RNA-Seq & ⋯ & fastq.gz & Raw Reads & Illumina & FALSE & 20656964441 & Unknown & Breast & NA & NA & Invasive breast carcinoma\\\\\n",
       "\t 2 & BCM & LZML\\_37246\\_NoIndex\\_L00X\\_R2\\_001.fastq.gz & 24452 & BCM-0002 & 2011012-2   & NA & BCM-0002 & PDX & RNA-Seq & ⋯ & fastq.gz & Raw Reads & Illumina & FALSE & 21093643386 & Unknown & Breast & NA & NA & Invasive breast carcinoma\\\\\n",
       "\t 3 & BCM & ML6065\\_GATCAGCG\\_L00X\\_R1\\_001.fastq.gz    & 2219  & BCM-0046 & 2011012-46  & NA & BCM-0046 & PDX & RNA-Seq & ⋯ & fastq.gz & Raw Reads & Illumina & FALSE & 22027304876 & Unknown & Breast & NA & NA & Invasive breast carcinoma\\\\\n",
       "\t 4 & BCM & ML6065\\_GATCAGCG\\_L00X\\_R2\\_001.fastq.gz    & 2219  & BCM-0046 & 2011012-46  & NA & BCM-0046 & PDX & RNA-Seq & ⋯ & fastq.gz & Raw Reads & Illumina & FALSE & 22027304876 & Unknown & Breast & NA & NA & Invasive breast carcinoma\\\\\n",
       "\t 5 & BCM & ML6061\\_CAGATCTG\\_L00X\\_R1\\_001.fastq.gz    & 24561 & BCM-0104 & 2011012-104 & NA & BCM-0104 & PDX & RNA-Seq & ⋯ & fastq.gz & Raw Reads & Illumina & FALSE & 17927987899 & Unknown & Breast & NA & NA & Invasive breast carcinoma\\\\\n",
       "\t 6 & BCM & ML6061\\_CAGATCTG\\_L00X\\_R2\\_001.fastq.gz    & 24561 & BCM-0104 & 2011012-104 & NA & BCM-0104 & PDX & RNA-Seq & ⋯ & fastq.gz & Raw Reads & Illumina & FALSE & 18002109303 & Unknown & Breast & NA & NA & Invasive breast carcinoma\\\\\n",
       "\\end{tabular}\n"
      ],
      "text/markdown": [
       "\n",
       "A tibble: 6 × 29\n",
       "\n",
       "| Index &lt;int&gt; | contributor &lt;chr&gt; | file_name &lt;chr&gt; | patient_id &lt;chr&gt; | model_id &lt;chr&gt; | tumor_id &lt;chr&gt; | case_id &lt;chr&gt; | sample_id &lt;chr&gt; | sample_type &lt;chr&gt; | experimental_strategy &lt;chr&gt; | ⋯ ⋯ | data_format &lt;chr&gt; | data_type &lt;chr&gt; | platform &lt;chr&gt; | is_ffpe &lt;lgl&gt; | file_size &lt;dbl&gt; | passage &lt;chr&gt; | disease_type &lt;chr&gt; | comment &lt;chr&gt; | investigation &lt;lgl&gt; | disease_detail &lt;chr&gt; |\n",
       "|---|---|---|---|---|---|---|---|---|---|---|---|---|---|---|---|---|---|---|---|---|\n",
       "| 1 | BCM | LZML_37246_NoIndex_L00X_R1_001.fastq.gz | 24452 | BCM-0002 | 2011012-2   | NA | BCM-0002 | PDX | RNA-Seq | ⋯ | fastq.gz | Raw Reads | Illumina | FALSE | 20656964441 | Unknown | Breast | NA | NA | Invasive breast carcinoma |\n",
       "| 2 | BCM | LZML_37246_NoIndex_L00X_R2_001.fastq.gz | 24452 | BCM-0002 | 2011012-2   | NA | BCM-0002 | PDX | RNA-Seq | ⋯ | fastq.gz | Raw Reads | Illumina | FALSE | 21093643386 | Unknown | Breast | NA | NA | Invasive breast carcinoma |\n",
       "| 3 | BCM | ML6065_GATCAGCG_L00X_R1_001.fastq.gz    | 2219  | BCM-0046 | 2011012-46  | NA | BCM-0046 | PDX | RNA-Seq | ⋯ | fastq.gz | Raw Reads | Illumina | FALSE | 22027304876 | Unknown | Breast | NA | NA | Invasive breast carcinoma |\n",
       "| 4 | BCM | ML6065_GATCAGCG_L00X_R2_001.fastq.gz    | 2219  | BCM-0046 | 2011012-46  | NA | BCM-0046 | PDX | RNA-Seq | ⋯ | fastq.gz | Raw Reads | Illumina | FALSE | 22027304876 | Unknown | Breast | NA | NA | Invasive breast carcinoma |\n",
       "| 5 | BCM | ML6061_CAGATCTG_L00X_R1_001.fastq.gz    | 24561 | BCM-0104 | 2011012-104 | NA | BCM-0104 | PDX | RNA-Seq | ⋯ | fastq.gz | Raw Reads | Illumina | FALSE | 17927987899 | Unknown | Breast | NA | NA | Invasive breast carcinoma |\n",
       "| 6 | BCM | ML6061_CAGATCTG_L00X_R2_001.fastq.gz    | 24561 | BCM-0104 | 2011012-104 | NA | BCM-0104 | PDX | RNA-Seq | ⋯ | fastq.gz | Raw Reads | Illumina | FALSE | 18002109303 | Unknown | Breast | NA | NA | Invasive breast carcinoma |\n",
       "\n"
      ],
      "text/plain": [
       "  Index contributor file_name                               patient_id model_id\n",
       "1 1     BCM         LZML_37246_NoIndex_L00X_R1_001.fastq.gz 24452      BCM-0002\n",
       "2 2     BCM         LZML_37246_NoIndex_L00X_R2_001.fastq.gz 24452      BCM-0002\n",
       "3 3     BCM         ML6065_GATCAGCG_L00X_R1_001.fastq.gz    2219       BCM-0046\n",
       "4 4     BCM         ML6065_GATCAGCG_L00X_R2_001.fastq.gz    2219       BCM-0046\n",
       "5 5     BCM         ML6061_CAGATCTG_L00X_R1_001.fastq.gz    24561      BCM-0104\n",
       "6 6     BCM         ML6061_CAGATCTG_L00X_R2_001.fastq.gz    24561      BCM-0104\n",
       "  tumor_id    case_id sample_id sample_type experimental_strategy ⋯ data_format\n",
       "1 2011012-2   NA      BCM-0002  PDX         RNA-Seq               ⋯ fastq.gz   \n",
       "2 2011012-2   NA      BCM-0002  PDX         RNA-Seq               ⋯ fastq.gz   \n",
       "3 2011012-46  NA      BCM-0046  PDX         RNA-Seq               ⋯ fastq.gz   \n",
       "4 2011012-46  NA      BCM-0046  PDX         RNA-Seq               ⋯ fastq.gz   \n",
       "5 2011012-104 NA      BCM-0104  PDX         RNA-Seq               ⋯ fastq.gz   \n",
       "6 2011012-104 NA      BCM-0104  PDX         RNA-Seq               ⋯ fastq.gz   \n",
       "  data_type platform is_ffpe file_size   passage disease_type comment\n",
       "1 Raw Reads Illumina FALSE   20656964441 Unknown Breast       NA     \n",
       "2 Raw Reads Illumina FALSE   21093643386 Unknown Breast       NA     \n",
       "3 Raw Reads Illumina FALSE   22027304876 Unknown Breast       NA     \n",
       "4 Raw Reads Illumina FALSE   22027304876 Unknown Breast       NA     \n",
       "5 Raw Reads Illumina FALSE   17927987899 Unknown Breast       NA     \n",
       "6 Raw Reads Illumina FALSE   18002109303 Unknown Breast       NA     \n",
       "  investigation disease_detail           \n",
       "1 NA            Invasive breast carcinoma\n",
       "2 NA            Invasive breast carcinoma\n",
       "3 NA            Invasive breast carcinoma\n",
       "4 NA            Invasive breast carcinoma\n",
       "5 NA            Invasive breast carcinoma\n",
       "6 NA            Invasive breast carcinoma"
      ]
     },
     "metadata": {},
     "output_type": "display_data"
    }
   ],
   "source": [
    "# In the passage column it should be \"unknown\" if sample type is PDX, rather than NA\n",
    "# Tumors and normals should be NA because that column does not apply\n",
    "\n",
    "merged_edited_pdtc_files <- merged_edited_pdtc_files %>% mutate(passage = ifelse(((sample_type == 'PDX') & is.na(passage)), 'Unknown', passage))\n",
    "\n",
    "nrow(merged_edited_pdtc_files)\n",
    "head(merged_edited_pdtc_files)"
   ]
  },
  {
   "cell_type": "code",
   "execution_count": 84,
   "id": "91ea962e-46d3-4f85-abba-400d939050ac",
   "metadata": {},
   "outputs": [
    {
     "data": {
      "text/html": [
       "2180"
      ],
      "text/latex": [
       "2180"
      ],
      "text/markdown": [
       "2180"
      ],
      "text/plain": [
       "[1] 2180"
      ]
     },
     "metadata": {},
     "output_type": "display_data"
    },
    {
     "data": {
      "text/html": [
       "<table class=\"dataframe\">\n",
       "<caption>A tibble: 6 × 26</caption>\n",
       "<thead>\n",
       "\t<tr><th scope=col>Index</th><th scope=col>contributor</th><th scope=col>file_name</th><th scope=col>patient_id</th><th scope=col>model_id</th><th scope=col>tumor_id</th><th scope=col>case_id</th><th scope=col>sample_id</th><th scope=col>sample_type</th><th scope=col>experimental_strategy</th><th scope=col>⋯</th><th scope=col>access_level</th><th scope=col>data_category</th><th scope=col>data_format</th><th scope=col>data_type</th><th scope=col>platform</th><th scope=col>is_ffpe</th><th scope=col>passage</th><th scope=col>disease_type</th><th scope=col>comment</th><th scope=col>disease_detail</th></tr>\n",
       "\t<tr><th scope=col>&lt;int&gt;</th><th scope=col>&lt;chr&gt;</th><th scope=col>&lt;chr&gt;</th><th scope=col>&lt;chr&gt;</th><th scope=col>&lt;chr&gt;</th><th scope=col>&lt;chr&gt;</th><th scope=col>&lt;chr&gt;</th><th scope=col>&lt;chr&gt;</th><th scope=col>&lt;chr&gt;</th><th scope=col>&lt;chr&gt;</th><th scope=col>⋯</th><th scope=col>&lt;chr&gt;</th><th scope=col>&lt;chr&gt;</th><th scope=col>&lt;chr&gt;</th><th scope=col>&lt;chr&gt;</th><th scope=col>&lt;chr&gt;</th><th scope=col>&lt;lgl&gt;</th><th scope=col>&lt;chr&gt;</th><th scope=col>&lt;chr&gt;</th><th scope=col>&lt;chr&gt;</th><th scope=col>&lt;chr&gt;</th></tr>\n",
       "</thead>\n",
       "<tbody>\n",
       "\t<tr><td>1</td><td>BCM</td><td>LZML_37246_NoIndex_L00X_R1_001.fastq.gz</td><td>24452</td><td>BCM-0002</td><td>2011012-2  </td><td>NA</td><td>BCM-0002</td><td>PDX</td><td>RNA-Seq</td><td>⋯</td><td>Controlled</td><td>Raw Sequencing Data</td><td>fastq.gz</td><td>Raw Reads</td><td>Illumina</td><td>FALSE</td><td>Unknown</td><td>Breast</td><td>NA</td><td>Invasive breast carcinoma</td></tr>\n",
       "\t<tr><td>2</td><td>BCM</td><td>LZML_37246_NoIndex_L00X_R2_001.fastq.gz</td><td>24452</td><td>BCM-0002</td><td>2011012-2  </td><td>NA</td><td>BCM-0002</td><td>PDX</td><td>RNA-Seq</td><td>⋯</td><td>Controlled</td><td>Raw Sequencing Data</td><td>fastq.gz</td><td>Raw Reads</td><td>Illumina</td><td>FALSE</td><td>Unknown</td><td>Breast</td><td>NA</td><td>Invasive breast carcinoma</td></tr>\n",
       "\t<tr><td>3</td><td>BCM</td><td>ML6065_GATCAGCG_L00X_R1_001.fastq.gz   </td><td>2219 </td><td>BCM-0046</td><td>2011012-46 </td><td>NA</td><td>BCM-0046</td><td>PDX</td><td>RNA-Seq</td><td>⋯</td><td>Controlled</td><td>Raw Sequencing Data</td><td>fastq.gz</td><td>Raw Reads</td><td>Illumina</td><td>FALSE</td><td>Unknown</td><td>Breast</td><td>NA</td><td>Invasive breast carcinoma</td></tr>\n",
       "\t<tr><td>4</td><td>BCM</td><td>ML6065_GATCAGCG_L00X_R2_001.fastq.gz   </td><td>2219 </td><td>BCM-0046</td><td>2011012-46 </td><td>NA</td><td>BCM-0046</td><td>PDX</td><td>RNA-Seq</td><td>⋯</td><td>Controlled</td><td>Raw Sequencing Data</td><td>fastq.gz</td><td>Raw Reads</td><td>Illumina</td><td>FALSE</td><td>Unknown</td><td>Breast</td><td>NA</td><td>Invasive breast carcinoma</td></tr>\n",
       "\t<tr><td>5</td><td>BCM</td><td>ML6061_CAGATCTG_L00X_R1_001.fastq.gz   </td><td>24561</td><td>BCM-0104</td><td>2011012-104</td><td>NA</td><td>BCM-0104</td><td>PDX</td><td>RNA-Seq</td><td>⋯</td><td>Controlled</td><td>Raw Sequencing Data</td><td>fastq.gz</td><td>Raw Reads</td><td>Illumina</td><td>FALSE</td><td>Unknown</td><td>Breast</td><td>NA</td><td>Invasive breast carcinoma</td></tr>\n",
       "\t<tr><td>6</td><td>BCM</td><td>ML6061_CAGATCTG_L00X_R2_001.fastq.gz   </td><td>24561</td><td>BCM-0104</td><td>2011012-104</td><td>NA</td><td>BCM-0104</td><td>PDX</td><td>RNA-Seq</td><td>⋯</td><td>Controlled</td><td>Raw Sequencing Data</td><td>fastq.gz</td><td>Raw Reads</td><td>Illumina</td><td>FALSE</td><td>Unknown</td><td>Breast</td><td>NA</td><td>Invasive breast carcinoma</td></tr>\n",
       "</tbody>\n",
       "</table>\n"
      ],
      "text/latex": [
       "A tibble: 6 × 26\n",
       "\\begin{tabular}{lllllllllllllllllllll}\n",
       " Index & contributor & file\\_name & patient\\_id & model\\_id & tumor\\_id & case\\_id & sample\\_id & sample\\_type & experimental\\_strategy & ⋯ & access\\_level & data\\_category & data\\_format & data\\_type & platform & is\\_ffpe & passage & disease\\_type & comment & disease\\_detail\\\\\n",
       " <int> & <chr> & <chr> & <chr> & <chr> & <chr> & <chr> & <chr> & <chr> & <chr> & ⋯ & <chr> & <chr> & <chr> & <chr> & <chr> & <lgl> & <chr> & <chr> & <chr> & <chr>\\\\\n",
       "\\hline\n",
       "\t 1 & BCM & LZML\\_37246\\_NoIndex\\_L00X\\_R1\\_001.fastq.gz & 24452 & BCM-0002 & 2011012-2   & NA & BCM-0002 & PDX & RNA-Seq & ⋯ & Controlled & Raw Sequencing Data & fastq.gz & Raw Reads & Illumina & FALSE & Unknown & Breast & NA & Invasive breast carcinoma\\\\\n",
       "\t 2 & BCM & LZML\\_37246\\_NoIndex\\_L00X\\_R2\\_001.fastq.gz & 24452 & BCM-0002 & 2011012-2   & NA & BCM-0002 & PDX & RNA-Seq & ⋯ & Controlled & Raw Sequencing Data & fastq.gz & Raw Reads & Illumina & FALSE & Unknown & Breast & NA & Invasive breast carcinoma\\\\\n",
       "\t 3 & BCM & ML6065\\_GATCAGCG\\_L00X\\_R1\\_001.fastq.gz    & 2219  & BCM-0046 & 2011012-46  & NA & BCM-0046 & PDX & RNA-Seq & ⋯ & Controlled & Raw Sequencing Data & fastq.gz & Raw Reads & Illumina & FALSE & Unknown & Breast & NA & Invasive breast carcinoma\\\\\n",
       "\t 4 & BCM & ML6065\\_GATCAGCG\\_L00X\\_R2\\_001.fastq.gz    & 2219  & BCM-0046 & 2011012-46  & NA & BCM-0046 & PDX & RNA-Seq & ⋯ & Controlled & Raw Sequencing Data & fastq.gz & Raw Reads & Illumina & FALSE & Unknown & Breast & NA & Invasive breast carcinoma\\\\\n",
       "\t 5 & BCM & ML6061\\_CAGATCTG\\_L00X\\_R1\\_001.fastq.gz    & 24561 & BCM-0104 & 2011012-104 & NA & BCM-0104 & PDX & RNA-Seq & ⋯ & Controlled & Raw Sequencing Data & fastq.gz & Raw Reads & Illumina & FALSE & Unknown & Breast & NA & Invasive breast carcinoma\\\\\n",
       "\t 6 & BCM & ML6061\\_CAGATCTG\\_L00X\\_R2\\_001.fastq.gz    & 24561 & BCM-0104 & 2011012-104 & NA & BCM-0104 & PDX & RNA-Seq & ⋯ & Controlled & Raw Sequencing Data & fastq.gz & Raw Reads & Illumina & FALSE & Unknown & Breast & NA & Invasive breast carcinoma\\\\\n",
       "\\end{tabular}\n"
      ],
      "text/markdown": [
       "\n",
       "A tibble: 6 × 26\n",
       "\n",
       "| Index &lt;int&gt; | contributor &lt;chr&gt; | file_name &lt;chr&gt; | patient_id &lt;chr&gt; | model_id &lt;chr&gt; | tumor_id &lt;chr&gt; | case_id &lt;chr&gt; | sample_id &lt;chr&gt; | sample_type &lt;chr&gt; | experimental_strategy &lt;chr&gt; | ⋯ ⋯ | access_level &lt;chr&gt; | data_category &lt;chr&gt; | data_format &lt;chr&gt; | data_type &lt;chr&gt; | platform &lt;chr&gt; | is_ffpe &lt;lgl&gt; | passage &lt;chr&gt; | disease_type &lt;chr&gt; | comment &lt;chr&gt; | disease_detail &lt;chr&gt; |\n",
       "|---|---|---|---|---|---|---|---|---|---|---|---|---|---|---|---|---|---|---|---|---|\n",
       "| 1 | BCM | LZML_37246_NoIndex_L00X_R1_001.fastq.gz | 24452 | BCM-0002 | 2011012-2   | NA | BCM-0002 | PDX | RNA-Seq | ⋯ | Controlled | Raw Sequencing Data | fastq.gz | Raw Reads | Illumina | FALSE | Unknown | Breast | NA | Invasive breast carcinoma |\n",
       "| 2 | BCM | LZML_37246_NoIndex_L00X_R2_001.fastq.gz | 24452 | BCM-0002 | 2011012-2   | NA | BCM-0002 | PDX | RNA-Seq | ⋯ | Controlled | Raw Sequencing Data | fastq.gz | Raw Reads | Illumina | FALSE | Unknown | Breast | NA | Invasive breast carcinoma |\n",
       "| 3 | BCM | ML6065_GATCAGCG_L00X_R1_001.fastq.gz    | 2219  | BCM-0046 | 2011012-46  | NA | BCM-0046 | PDX | RNA-Seq | ⋯ | Controlled | Raw Sequencing Data | fastq.gz | Raw Reads | Illumina | FALSE | Unknown | Breast | NA | Invasive breast carcinoma |\n",
       "| 4 | BCM | ML6065_GATCAGCG_L00X_R2_001.fastq.gz    | 2219  | BCM-0046 | 2011012-46  | NA | BCM-0046 | PDX | RNA-Seq | ⋯ | Controlled | Raw Sequencing Data | fastq.gz | Raw Reads | Illumina | FALSE | Unknown | Breast | NA | Invasive breast carcinoma |\n",
       "| 5 | BCM | ML6061_CAGATCTG_L00X_R1_001.fastq.gz    | 24561 | BCM-0104 | 2011012-104 | NA | BCM-0104 | PDX | RNA-Seq | ⋯ | Controlled | Raw Sequencing Data | fastq.gz | Raw Reads | Illumina | FALSE | Unknown | Breast | NA | Invasive breast carcinoma |\n",
       "| 6 | BCM | ML6061_CAGATCTG_L00X_R2_001.fastq.gz    | 24561 | BCM-0104 | 2011012-104 | NA | BCM-0104 | PDX | RNA-Seq | ⋯ | Controlled | Raw Sequencing Data | fastq.gz | Raw Reads | Illumina | FALSE | Unknown | Breast | NA | Invasive breast carcinoma |\n",
       "\n"
      ],
      "text/plain": [
       "  Index contributor file_name                               patient_id model_id\n",
       "1 1     BCM         LZML_37246_NoIndex_L00X_R1_001.fastq.gz 24452      BCM-0002\n",
       "2 2     BCM         LZML_37246_NoIndex_L00X_R2_001.fastq.gz 24452      BCM-0002\n",
       "3 3     BCM         ML6065_GATCAGCG_L00X_R1_001.fastq.gz    2219       BCM-0046\n",
       "4 4     BCM         ML6065_GATCAGCG_L00X_R2_001.fastq.gz    2219       BCM-0046\n",
       "5 5     BCM         ML6061_CAGATCTG_L00X_R1_001.fastq.gz    24561      BCM-0104\n",
       "6 6     BCM         ML6061_CAGATCTG_L00X_R2_001.fastq.gz    24561      BCM-0104\n",
       "  tumor_id    case_id sample_id sample_type experimental_strategy ⋯\n",
       "1 2011012-2   NA      BCM-0002  PDX         RNA-Seq               ⋯\n",
       "2 2011012-2   NA      BCM-0002  PDX         RNA-Seq               ⋯\n",
       "3 2011012-46  NA      BCM-0046  PDX         RNA-Seq               ⋯\n",
       "4 2011012-46  NA      BCM-0046  PDX         RNA-Seq               ⋯\n",
       "5 2011012-104 NA      BCM-0104  PDX         RNA-Seq               ⋯\n",
       "6 2011012-104 NA      BCM-0104  PDX         RNA-Seq               ⋯\n",
       "  access_level data_category       data_format data_type platform is_ffpe\n",
       "1 Controlled   Raw Sequencing Data fastq.gz    Raw Reads Illumina FALSE  \n",
       "2 Controlled   Raw Sequencing Data fastq.gz    Raw Reads Illumina FALSE  \n",
       "3 Controlled   Raw Sequencing Data fastq.gz    Raw Reads Illumina FALSE  \n",
       "4 Controlled   Raw Sequencing Data fastq.gz    Raw Reads Illumina FALSE  \n",
       "5 Controlled   Raw Sequencing Data fastq.gz    Raw Reads Illumina FALSE  \n",
       "6 Controlled   Raw Sequencing Data fastq.gz    Raw Reads Illumina FALSE  \n",
       "  passage disease_type comment disease_detail           \n",
       "1 Unknown Breast       NA      Invasive breast carcinoma\n",
       "2 Unknown Breast       NA      Invasive breast carcinoma\n",
       "3 Unknown Breast       NA      Invasive breast carcinoma\n",
       "4 Unknown Breast       NA      Invasive breast carcinoma\n",
       "5 Unknown Breast       NA      Invasive breast carcinoma\n",
       "6 Unknown Breast       NA      Invasive breast carcinoma"
      ]
     },
     "metadata": {},
     "output_type": "display_data"
    }
   ],
   "source": [
    "# Remove columns that are not useful\n",
    "\n",
    "merged_edited_pdtc_files <- merged_edited_pdtc_files %>% select(-file_size, -created_datetime, -investigation)\n",
    "\n",
    "nrow(merged_edited_pdtc_files)\n",
    "head(merged_edited_pdtc_files)"
   ]
  },
  {
   "cell_type": "code",
   "execution_count": 85,
   "id": "d7e8eb08-28b0-457c-8dc8-5b4396b0338d",
   "metadata": {},
   "outputs": [
    {
     "data": {
      "text/html": [
       "<table class=\"dataframe\">\n",
       "<caption>A tibble: 6 × 26</caption>\n",
       "<thead>\n",
       "\t<tr><th scope=col>Index</th><th scope=col>contributor</th><th scope=col>file_name</th><th scope=col>patient_id</th><th scope=col>model_id</th><th scope=col>tumor_id</th><th scope=col>case_id</th><th scope=col>sample_id</th><th scope=col>sample_type</th><th scope=col>experimental_strategy</th><th scope=col>⋯</th><th scope=col>access_level</th><th scope=col>data_category</th><th scope=col>data_format</th><th scope=col>data_type</th><th scope=col>platform</th><th scope=col>is_ffpe</th><th scope=col>passage</th><th scope=col>body_location</th><th scope=col>comment</th><th scope=col>disease_type</th></tr>\n",
       "\t<tr><th scope=col>&lt;int&gt;</th><th scope=col>&lt;chr&gt;</th><th scope=col>&lt;chr&gt;</th><th scope=col>&lt;chr&gt;</th><th scope=col>&lt;chr&gt;</th><th scope=col>&lt;chr&gt;</th><th scope=col>&lt;chr&gt;</th><th scope=col>&lt;chr&gt;</th><th scope=col>&lt;chr&gt;</th><th scope=col>&lt;chr&gt;</th><th scope=col>⋯</th><th scope=col>&lt;chr&gt;</th><th scope=col>&lt;chr&gt;</th><th scope=col>&lt;chr&gt;</th><th scope=col>&lt;chr&gt;</th><th scope=col>&lt;chr&gt;</th><th scope=col>&lt;lgl&gt;</th><th scope=col>&lt;chr&gt;</th><th scope=col>&lt;chr&gt;</th><th scope=col>&lt;chr&gt;</th><th scope=col>&lt;chr&gt;</th></tr>\n",
       "</thead>\n",
       "<tbody>\n",
       "\t<tr><td>1</td><td>BCM</td><td>LZML_37246_NoIndex_L00X_R1_001.fastq.gz</td><td>24452</td><td>BCM-0002</td><td>2011012-2  </td><td>NA</td><td>BCM-0002</td><td>PDX</td><td>RNA-Seq</td><td>⋯</td><td>Controlled</td><td>Raw Sequencing Data</td><td>fastq.gz</td><td>Raw Reads</td><td>Illumina</td><td>FALSE</td><td>Unknown</td><td>Breast</td><td>NA</td><td>Invasive breast carcinoma</td></tr>\n",
       "\t<tr><td>2</td><td>BCM</td><td>LZML_37246_NoIndex_L00X_R2_001.fastq.gz</td><td>24452</td><td>BCM-0002</td><td>2011012-2  </td><td>NA</td><td>BCM-0002</td><td>PDX</td><td>RNA-Seq</td><td>⋯</td><td>Controlled</td><td>Raw Sequencing Data</td><td>fastq.gz</td><td>Raw Reads</td><td>Illumina</td><td>FALSE</td><td>Unknown</td><td>Breast</td><td>NA</td><td>Invasive breast carcinoma</td></tr>\n",
       "\t<tr><td>3</td><td>BCM</td><td>ML6065_GATCAGCG_L00X_R1_001.fastq.gz   </td><td>2219 </td><td>BCM-0046</td><td>2011012-46 </td><td>NA</td><td>BCM-0046</td><td>PDX</td><td>RNA-Seq</td><td>⋯</td><td>Controlled</td><td>Raw Sequencing Data</td><td>fastq.gz</td><td>Raw Reads</td><td>Illumina</td><td>FALSE</td><td>Unknown</td><td>Breast</td><td>NA</td><td>Invasive breast carcinoma</td></tr>\n",
       "\t<tr><td>4</td><td>BCM</td><td>ML6065_GATCAGCG_L00X_R2_001.fastq.gz   </td><td>2219 </td><td>BCM-0046</td><td>2011012-46 </td><td>NA</td><td>BCM-0046</td><td>PDX</td><td>RNA-Seq</td><td>⋯</td><td>Controlled</td><td>Raw Sequencing Data</td><td>fastq.gz</td><td>Raw Reads</td><td>Illumina</td><td>FALSE</td><td>Unknown</td><td>Breast</td><td>NA</td><td>Invasive breast carcinoma</td></tr>\n",
       "\t<tr><td>5</td><td>BCM</td><td>ML6061_CAGATCTG_L00X_R1_001.fastq.gz   </td><td>24561</td><td>BCM-0104</td><td>2011012-104</td><td>NA</td><td>BCM-0104</td><td>PDX</td><td>RNA-Seq</td><td>⋯</td><td>Controlled</td><td>Raw Sequencing Data</td><td>fastq.gz</td><td>Raw Reads</td><td>Illumina</td><td>FALSE</td><td>Unknown</td><td>Breast</td><td>NA</td><td>Invasive breast carcinoma</td></tr>\n",
       "\t<tr><td>6</td><td>BCM</td><td>ML6061_CAGATCTG_L00X_R2_001.fastq.gz   </td><td>24561</td><td>BCM-0104</td><td>2011012-104</td><td>NA</td><td>BCM-0104</td><td>PDX</td><td>RNA-Seq</td><td>⋯</td><td>Controlled</td><td>Raw Sequencing Data</td><td>fastq.gz</td><td>Raw Reads</td><td>Illumina</td><td>FALSE</td><td>Unknown</td><td>Breast</td><td>NA</td><td>Invasive breast carcinoma</td></tr>\n",
       "</tbody>\n",
       "</table>\n"
      ],
      "text/latex": [
       "A tibble: 6 × 26\n",
       "\\begin{tabular}{lllllllllllllllllllll}\n",
       " Index & contributor & file\\_name & patient\\_id & model\\_id & tumor\\_id & case\\_id & sample\\_id & sample\\_type & experimental\\_strategy & ⋯ & access\\_level & data\\_category & data\\_format & data\\_type & platform & is\\_ffpe & passage & body\\_location & comment & disease\\_type\\\\\n",
       " <int> & <chr> & <chr> & <chr> & <chr> & <chr> & <chr> & <chr> & <chr> & <chr> & ⋯ & <chr> & <chr> & <chr> & <chr> & <chr> & <lgl> & <chr> & <chr> & <chr> & <chr>\\\\\n",
       "\\hline\n",
       "\t 1 & BCM & LZML\\_37246\\_NoIndex\\_L00X\\_R1\\_001.fastq.gz & 24452 & BCM-0002 & 2011012-2   & NA & BCM-0002 & PDX & RNA-Seq & ⋯ & Controlled & Raw Sequencing Data & fastq.gz & Raw Reads & Illumina & FALSE & Unknown & Breast & NA & Invasive breast carcinoma\\\\\n",
       "\t 2 & BCM & LZML\\_37246\\_NoIndex\\_L00X\\_R2\\_001.fastq.gz & 24452 & BCM-0002 & 2011012-2   & NA & BCM-0002 & PDX & RNA-Seq & ⋯ & Controlled & Raw Sequencing Data & fastq.gz & Raw Reads & Illumina & FALSE & Unknown & Breast & NA & Invasive breast carcinoma\\\\\n",
       "\t 3 & BCM & ML6065\\_GATCAGCG\\_L00X\\_R1\\_001.fastq.gz    & 2219  & BCM-0046 & 2011012-46  & NA & BCM-0046 & PDX & RNA-Seq & ⋯ & Controlled & Raw Sequencing Data & fastq.gz & Raw Reads & Illumina & FALSE & Unknown & Breast & NA & Invasive breast carcinoma\\\\\n",
       "\t 4 & BCM & ML6065\\_GATCAGCG\\_L00X\\_R2\\_001.fastq.gz    & 2219  & BCM-0046 & 2011012-46  & NA & BCM-0046 & PDX & RNA-Seq & ⋯ & Controlled & Raw Sequencing Data & fastq.gz & Raw Reads & Illumina & FALSE & Unknown & Breast & NA & Invasive breast carcinoma\\\\\n",
       "\t 5 & BCM & ML6061\\_CAGATCTG\\_L00X\\_R1\\_001.fastq.gz    & 24561 & BCM-0104 & 2011012-104 & NA & BCM-0104 & PDX & RNA-Seq & ⋯ & Controlled & Raw Sequencing Data & fastq.gz & Raw Reads & Illumina & FALSE & Unknown & Breast & NA & Invasive breast carcinoma\\\\\n",
       "\t 6 & BCM & ML6061\\_CAGATCTG\\_L00X\\_R2\\_001.fastq.gz    & 24561 & BCM-0104 & 2011012-104 & NA & BCM-0104 & PDX & RNA-Seq & ⋯ & Controlled & Raw Sequencing Data & fastq.gz & Raw Reads & Illumina & FALSE & Unknown & Breast & NA & Invasive breast carcinoma\\\\\n",
       "\\end{tabular}\n"
      ],
      "text/markdown": [
       "\n",
       "A tibble: 6 × 26\n",
       "\n",
       "| Index &lt;int&gt; | contributor &lt;chr&gt; | file_name &lt;chr&gt; | patient_id &lt;chr&gt; | model_id &lt;chr&gt; | tumor_id &lt;chr&gt; | case_id &lt;chr&gt; | sample_id &lt;chr&gt; | sample_type &lt;chr&gt; | experimental_strategy &lt;chr&gt; | ⋯ ⋯ | access_level &lt;chr&gt; | data_category &lt;chr&gt; | data_format &lt;chr&gt; | data_type &lt;chr&gt; | platform &lt;chr&gt; | is_ffpe &lt;lgl&gt; | passage &lt;chr&gt; | body_location &lt;chr&gt; | comment &lt;chr&gt; | disease_type &lt;chr&gt; |\n",
       "|---|---|---|---|---|---|---|---|---|---|---|---|---|---|---|---|---|---|---|---|---|\n",
       "| 1 | BCM | LZML_37246_NoIndex_L00X_R1_001.fastq.gz | 24452 | BCM-0002 | 2011012-2   | NA | BCM-0002 | PDX | RNA-Seq | ⋯ | Controlled | Raw Sequencing Data | fastq.gz | Raw Reads | Illumina | FALSE | Unknown | Breast | NA | Invasive breast carcinoma |\n",
       "| 2 | BCM | LZML_37246_NoIndex_L00X_R2_001.fastq.gz | 24452 | BCM-0002 | 2011012-2   | NA | BCM-0002 | PDX | RNA-Seq | ⋯ | Controlled | Raw Sequencing Data | fastq.gz | Raw Reads | Illumina | FALSE | Unknown | Breast | NA | Invasive breast carcinoma |\n",
       "| 3 | BCM | ML6065_GATCAGCG_L00X_R1_001.fastq.gz    | 2219  | BCM-0046 | 2011012-46  | NA | BCM-0046 | PDX | RNA-Seq | ⋯ | Controlled | Raw Sequencing Data | fastq.gz | Raw Reads | Illumina | FALSE | Unknown | Breast | NA | Invasive breast carcinoma |\n",
       "| 4 | BCM | ML6065_GATCAGCG_L00X_R2_001.fastq.gz    | 2219  | BCM-0046 | 2011012-46  | NA | BCM-0046 | PDX | RNA-Seq | ⋯ | Controlled | Raw Sequencing Data | fastq.gz | Raw Reads | Illumina | FALSE | Unknown | Breast | NA | Invasive breast carcinoma |\n",
       "| 5 | BCM | ML6061_CAGATCTG_L00X_R1_001.fastq.gz    | 24561 | BCM-0104 | 2011012-104 | NA | BCM-0104 | PDX | RNA-Seq | ⋯ | Controlled | Raw Sequencing Data | fastq.gz | Raw Reads | Illumina | FALSE | Unknown | Breast | NA | Invasive breast carcinoma |\n",
       "| 6 | BCM | ML6061_CAGATCTG_L00X_R2_001.fastq.gz    | 24561 | BCM-0104 | 2011012-104 | NA | BCM-0104 | PDX | RNA-Seq | ⋯ | Controlled | Raw Sequencing Data | fastq.gz | Raw Reads | Illumina | FALSE | Unknown | Breast | NA | Invasive breast carcinoma |\n",
       "\n"
      ],
      "text/plain": [
       "  Index contributor file_name                               patient_id model_id\n",
       "1 1     BCM         LZML_37246_NoIndex_L00X_R1_001.fastq.gz 24452      BCM-0002\n",
       "2 2     BCM         LZML_37246_NoIndex_L00X_R2_001.fastq.gz 24452      BCM-0002\n",
       "3 3     BCM         ML6065_GATCAGCG_L00X_R1_001.fastq.gz    2219       BCM-0046\n",
       "4 4     BCM         ML6065_GATCAGCG_L00X_R2_001.fastq.gz    2219       BCM-0046\n",
       "5 5     BCM         ML6061_CAGATCTG_L00X_R1_001.fastq.gz    24561      BCM-0104\n",
       "6 6     BCM         ML6061_CAGATCTG_L00X_R2_001.fastq.gz    24561      BCM-0104\n",
       "  tumor_id    case_id sample_id sample_type experimental_strategy ⋯\n",
       "1 2011012-2   NA      BCM-0002  PDX         RNA-Seq               ⋯\n",
       "2 2011012-2   NA      BCM-0002  PDX         RNA-Seq               ⋯\n",
       "3 2011012-46  NA      BCM-0046  PDX         RNA-Seq               ⋯\n",
       "4 2011012-46  NA      BCM-0046  PDX         RNA-Seq               ⋯\n",
       "5 2011012-104 NA      BCM-0104  PDX         RNA-Seq               ⋯\n",
       "6 2011012-104 NA      BCM-0104  PDX         RNA-Seq               ⋯\n",
       "  access_level data_category       data_format data_type platform is_ffpe\n",
       "1 Controlled   Raw Sequencing Data fastq.gz    Raw Reads Illumina FALSE  \n",
       "2 Controlled   Raw Sequencing Data fastq.gz    Raw Reads Illumina FALSE  \n",
       "3 Controlled   Raw Sequencing Data fastq.gz    Raw Reads Illumina FALSE  \n",
       "4 Controlled   Raw Sequencing Data fastq.gz    Raw Reads Illumina FALSE  \n",
       "5 Controlled   Raw Sequencing Data fastq.gz    Raw Reads Illumina FALSE  \n",
       "6 Controlled   Raw Sequencing Data fastq.gz    Raw Reads Illumina FALSE  \n",
       "  passage body_location comment disease_type             \n",
       "1 Unknown Breast        NA      Invasive breast carcinoma\n",
       "2 Unknown Breast        NA      Invasive breast carcinoma\n",
       "3 Unknown Breast        NA      Invasive breast carcinoma\n",
       "4 Unknown Breast        NA      Invasive breast carcinoma\n",
       "5 Unknown Breast        NA      Invasive breast carcinoma\n",
       "6 Unknown Breast        NA      Invasive breast carcinoma"
      ]
     },
     "metadata": {},
     "output_type": "display_data"
    }
   ],
   "source": [
    "# Rename the disease_type to and change disease_detail to disease_type for consistency\n",
    "\n",
    "merged_edited_pdtc_files <- merged_edited_pdtc_files %>% rename('body_location' = 'disease_type') %>% rename('disease_type' = 'disease_detail')\n",
    "\n",
    "head(merged_edited_pdtc_files)"
   ]
  },
  {
   "cell_type": "code",
   "execution_count": 86,
   "id": "5d125c42-afd4-4601-8df6-b92c39156fa0",
   "metadata": {},
   "outputs": [
    {
     "data": {
      "text/html": [
       "<table class=\"dataframe\">\n",
       "<caption>A tibble: 6 × 26</caption>\n",
       "<thead>\n",
       "\t<tr><th scope=col>Index</th><th scope=col>contributor</th><th scope=col>file_name</th><th scope=col>patient_id</th><th scope=col>model_id</th><th scope=col>tumor_id</th><th scope=col>case_id</th><th scope=col>sample_id</th><th scope=col>sample_type</th><th scope=col>experimental_strategy</th><th scope=col>⋯</th><th scope=col>access_level</th><th scope=col>data_category</th><th scope=col>data_format</th><th scope=col>data_type</th><th scope=col>platform</th><th scope=col>is_ffpe</th><th scope=col>passage</th><th scope=col>body_location</th><th scope=col>comment</th><th scope=col>disease_type</th></tr>\n",
       "\t<tr><th scope=col>&lt;int&gt;</th><th scope=col>&lt;chr&gt;</th><th scope=col>&lt;chr&gt;</th><th scope=col>&lt;chr&gt;</th><th scope=col>&lt;chr&gt;</th><th scope=col>&lt;chr&gt;</th><th scope=col>&lt;chr&gt;</th><th scope=col>&lt;chr&gt;</th><th scope=col>&lt;chr&gt;</th><th scope=col>&lt;chr&gt;</th><th scope=col>⋯</th><th scope=col>&lt;chr&gt;</th><th scope=col>&lt;chr&gt;</th><th scope=col>&lt;chr&gt;</th><th scope=col>&lt;chr&gt;</th><th scope=col>&lt;chr&gt;</th><th scope=col>&lt;chr&gt;</th><th scope=col>&lt;chr&gt;</th><th scope=col>&lt;chr&gt;</th><th scope=col>&lt;chr&gt;</th><th scope=col>&lt;chr&gt;</th></tr>\n",
       "</thead>\n",
       "<tbody>\n",
       "\t<tr><td>1</td><td>BCM</td><td>LZML_37246_NoIndex_L00X_R1_001.fastq.gz</td><td>24452</td><td>BCM-0002</td><td>2011012-2  </td><td>NA</td><td>BCM-0002</td><td>PDX</td><td>RNA-Seq</td><td>⋯</td><td>Controlled</td><td>Raw Sequencing Data</td><td>fastq.gz</td><td>Raw Reads</td><td>Illumina</td><td>FALSE</td><td>Unknown</td><td>Breast</td><td>NA</td><td>Invasive breast carcinoma</td></tr>\n",
       "\t<tr><td>2</td><td>BCM</td><td>LZML_37246_NoIndex_L00X_R2_001.fastq.gz</td><td>24452</td><td>BCM-0002</td><td>2011012-2  </td><td>NA</td><td>BCM-0002</td><td>PDX</td><td>RNA-Seq</td><td>⋯</td><td>Controlled</td><td>Raw Sequencing Data</td><td>fastq.gz</td><td>Raw Reads</td><td>Illumina</td><td>FALSE</td><td>Unknown</td><td>Breast</td><td>NA</td><td>Invasive breast carcinoma</td></tr>\n",
       "\t<tr><td>3</td><td>BCM</td><td>ML6065_GATCAGCG_L00X_R1_001.fastq.gz   </td><td>2219 </td><td>BCM-0046</td><td>2011012-46 </td><td>NA</td><td>BCM-0046</td><td>PDX</td><td>RNA-Seq</td><td>⋯</td><td>Controlled</td><td>Raw Sequencing Data</td><td>fastq.gz</td><td>Raw Reads</td><td>Illumina</td><td>FALSE</td><td>Unknown</td><td>Breast</td><td>NA</td><td>Invasive breast carcinoma</td></tr>\n",
       "\t<tr><td>4</td><td>BCM</td><td>ML6065_GATCAGCG_L00X_R2_001.fastq.gz   </td><td>2219 </td><td>BCM-0046</td><td>2011012-46 </td><td>NA</td><td>BCM-0046</td><td>PDX</td><td>RNA-Seq</td><td>⋯</td><td>Controlled</td><td>Raw Sequencing Data</td><td>fastq.gz</td><td>Raw Reads</td><td>Illumina</td><td>FALSE</td><td>Unknown</td><td>Breast</td><td>NA</td><td>Invasive breast carcinoma</td></tr>\n",
       "\t<tr><td>5</td><td>BCM</td><td>ML6061_CAGATCTG_L00X_R1_001.fastq.gz   </td><td>24561</td><td>BCM-0104</td><td>2011012-104</td><td>NA</td><td>BCM-0104</td><td>PDX</td><td>RNA-Seq</td><td>⋯</td><td>Controlled</td><td>Raw Sequencing Data</td><td>fastq.gz</td><td>Raw Reads</td><td>Illumina</td><td>FALSE</td><td>Unknown</td><td>Breast</td><td>NA</td><td>Invasive breast carcinoma</td></tr>\n",
       "\t<tr><td>6</td><td>BCM</td><td>ML6061_CAGATCTG_L00X_R2_001.fastq.gz   </td><td>24561</td><td>BCM-0104</td><td>2011012-104</td><td>NA</td><td>BCM-0104</td><td>PDX</td><td>RNA-Seq</td><td>⋯</td><td>Controlled</td><td>Raw Sequencing Data</td><td>fastq.gz</td><td>Raw Reads</td><td>Illumina</td><td>FALSE</td><td>Unknown</td><td>Breast</td><td>NA</td><td>Invasive breast carcinoma</td></tr>\n",
       "</tbody>\n",
       "</table>\n"
      ],
      "text/latex": [
       "A tibble: 6 × 26\n",
       "\\begin{tabular}{lllllllllllllllllllll}\n",
       " Index & contributor & file\\_name & patient\\_id & model\\_id & tumor\\_id & case\\_id & sample\\_id & sample\\_type & experimental\\_strategy & ⋯ & access\\_level & data\\_category & data\\_format & data\\_type & platform & is\\_ffpe & passage & body\\_location & comment & disease\\_type\\\\\n",
       " <int> & <chr> & <chr> & <chr> & <chr> & <chr> & <chr> & <chr> & <chr> & <chr> & ⋯ & <chr> & <chr> & <chr> & <chr> & <chr> & <chr> & <chr> & <chr> & <chr> & <chr>\\\\\n",
       "\\hline\n",
       "\t 1 & BCM & LZML\\_37246\\_NoIndex\\_L00X\\_R1\\_001.fastq.gz & 24452 & BCM-0002 & 2011012-2   & NA & BCM-0002 & PDX & RNA-Seq & ⋯ & Controlled & Raw Sequencing Data & fastq.gz & Raw Reads & Illumina & FALSE & Unknown & Breast & NA & Invasive breast carcinoma\\\\\n",
       "\t 2 & BCM & LZML\\_37246\\_NoIndex\\_L00X\\_R2\\_001.fastq.gz & 24452 & BCM-0002 & 2011012-2   & NA & BCM-0002 & PDX & RNA-Seq & ⋯ & Controlled & Raw Sequencing Data & fastq.gz & Raw Reads & Illumina & FALSE & Unknown & Breast & NA & Invasive breast carcinoma\\\\\n",
       "\t 3 & BCM & ML6065\\_GATCAGCG\\_L00X\\_R1\\_001.fastq.gz    & 2219  & BCM-0046 & 2011012-46  & NA & BCM-0046 & PDX & RNA-Seq & ⋯ & Controlled & Raw Sequencing Data & fastq.gz & Raw Reads & Illumina & FALSE & Unknown & Breast & NA & Invasive breast carcinoma\\\\\n",
       "\t 4 & BCM & ML6065\\_GATCAGCG\\_L00X\\_R2\\_001.fastq.gz    & 2219  & BCM-0046 & 2011012-46  & NA & BCM-0046 & PDX & RNA-Seq & ⋯ & Controlled & Raw Sequencing Data & fastq.gz & Raw Reads & Illumina & FALSE & Unknown & Breast & NA & Invasive breast carcinoma\\\\\n",
       "\t 5 & BCM & ML6061\\_CAGATCTG\\_L00X\\_R1\\_001.fastq.gz    & 24561 & BCM-0104 & 2011012-104 & NA & BCM-0104 & PDX & RNA-Seq & ⋯ & Controlled & Raw Sequencing Data & fastq.gz & Raw Reads & Illumina & FALSE & Unknown & Breast & NA & Invasive breast carcinoma\\\\\n",
       "\t 6 & BCM & ML6061\\_CAGATCTG\\_L00X\\_R2\\_001.fastq.gz    & 24561 & BCM-0104 & 2011012-104 & NA & BCM-0104 & PDX & RNA-Seq & ⋯ & Controlled & Raw Sequencing Data & fastq.gz & Raw Reads & Illumina & FALSE & Unknown & Breast & NA & Invasive breast carcinoma\\\\\n",
       "\\end{tabular}\n"
      ],
      "text/markdown": [
       "\n",
       "A tibble: 6 × 26\n",
       "\n",
       "| Index &lt;int&gt; | contributor &lt;chr&gt; | file_name &lt;chr&gt; | patient_id &lt;chr&gt; | model_id &lt;chr&gt; | tumor_id &lt;chr&gt; | case_id &lt;chr&gt; | sample_id &lt;chr&gt; | sample_type &lt;chr&gt; | experimental_strategy &lt;chr&gt; | ⋯ ⋯ | access_level &lt;chr&gt; | data_category &lt;chr&gt; | data_format &lt;chr&gt; | data_type &lt;chr&gt; | platform &lt;chr&gt; | is_ffpe &lt;chr&gt; | passage &lt;chr&gt; | body_location &lt;chr&gt; | comment &lt;chr&gt; | disease_type &lt;chr&gt; |\n",
       "|---|---|---|---|---|---|---|---|---|---|---|---|---|---|---|---|---|---|---|---|---|\n",
       "| 1 | BCM | LZML_37246_NoIndex_L00X_R1_001.fastq.gz | 24452 | BCM-0002 | 2011012-2   | NA | BCM-0002 | PDX | RNA-Seq | ⋯ | Controlled | Raw Sequencing Data | fastq.gz | Raw Reads | Illumina | FALSE | Unknown | Breast | NA | Invasive breast carcinoma |\n",
       "| 2 | BCM | LZML_37246_NoIndex_L00X_R2_001.fastq.gz | 24452 | BCM-0002 | 2011012-2   | NA | BCM-0002 | PDX | RNA-Seq | ⋯ | Controlled | Raw Sequencing Data | fastq.gz | Raw Reads | Illumina | FALSE | Unknown | Breast | NA | Invasive breast carcinoma |\n",
       "| 3 | BCM | ML6065_GATCAGCG_L00X_R1_001.fastq.gz    | 2219  | BCM-0046 | 2011012-46  | NA | BCM-0046 | PDX | RNA-Seq | ⋯ | Controlled | Raw Sequencing Data | fastq.gz | Raw Reads | Illumina | FALSE | Unknown | Breast | NA | Invasive breast carcinoma |\n",
       "| 4 | BCM | ML6065_GATCAGCG_L00X_R2_001.fastq.gz    | 2219  | BCM-0046 | 2011012-46  | NA | BCM-0046 | PDX | RNA-Seq | ⋯ | Controlled | Raw Sequencing Data | fastq.gz | Raw Reads | Illumina | FALSE | Unknown | Breast | NA | Invasive breast carcinoma |\n",
       "| 5 | BCM | ML6061_CAGATCTG_L00X_R1_001.fastq.gz    | 24561 | BCM-0104 | 2011012-104 | NA | BCM-0104 | PDX | RNA-Seq | ⋯ | Controlled | Raw Sequencing Data | fastq.gz | Raw Reads | Illumina | FALSE | Unknown | Breast | NA | Invasive breast carcinoma |\n",
       "| 6 | BCM | ML6061_CAGATCTG_L00X_R2_001.fastq.gz    | 24561 | BCM-0104 | 2011012-104 | NA | BCM-0104 | PDX | RNA-Seq | ⋯ | Controlled | Raw Sequencing Data | fastq.gz | Raw Reads | Illumina | FALSE | Unknown | Breast | NA | Invasive breast carcinoma |\n",
       "\n"
      ],
      "text/plain": [
       "  Index contributor file_name                               patient_id model_id\n",
       "1 1     BCM         LZML_37246_NoIndex_L00X_R1_001.fastq.gz 24452      BCM-0002\n",
       "2 2     BCM         LZML_37246_NoIndex_L00X_R2_001.fastq.gz 24452      BCM-0002\n",
       "3 3     BCM         ML6065_GATCAGCG_L00X_R1_001.fastq.gz    2219       BCM-0046\n",
       "4 4     BCM         ML6065_GATCAGCG_L00X_R2_001.fastq.gz    2219       BCM-0046\n",
       "5 5     BCM         ML6061_CAGATCTG_L00X_R1_001.fastq.gz    24561      BCM-0104\n",
       "6 6     BCM         ML6061_CAGATCTG_L00X_R2_001.fastq.gz    24561      BCM-0104\n",
       "  tumor_id    case_id sample_id sample_type experimental_strategy ⋯\n",
       "1 2011012-2   NA      BCM-0002  PDX         RNA-Seq               ⋯\n",
       "2 2011012-2   NA      BCM-0002  PDX         RNA-Seq               ⋯\n",
       "3 2011012-46  NA      BCM-0046  PDX         RNA-Seq               ⋯\n",
       "4 2011012-46  NA      BCM-0046  PDX         RNA-Seq               ⋯\n",
       "5 2011012-104 NA      BCM-0104  PDX         RNA-Seq               ⋯\n",
       "6 2011012-104 NA      BCM-0104  PDX         RNA-Seq               ⋯\n",
       "  access_level data_category       data_format data_type platform is_ffpe\n",
       "1 Controlled   Raw Sequencing Data fastq.gz    Raw Reads Illumina FALSE  \n",
       "2 Controlled   Raw Sequencing Data fastq.gz    Raw Reads Illumina FALSE  \n",
       "3 Controlled   Raw Sequencing Data fastq.gz    Raw Reads Illumina FALSE  \n",
       "4 Controlled   Raw Sequencing Data fastq.gz    Raw Reads Illumina FALSE  \n",
       "5 Controlled   Raw Sequencing Data fastq.gz    Raw Reads Illumina FALSE  \n",
       "6 Controlled   Raw Sequencing Data fastq.gz    Raw Reads Illumina FALSE  \n",
       "  passage body_location comment disease_type             \n",
       "1 Unknown Breast        NA      Invasive breast carcinoma\n",
       "2 Unknown Breast        NA      Invasive breast carcinoma\n",
       "3 Unknown Breast        NA      Invasive breast carcinoma\n",
       "4 Unknown Breast        NA      Invasive breast carcinoma\n",
       "5 Unknown Breast        NA      Invasive breast carcinoma\n",
       "6 Unknown Breast        NA      Invasive breast carcinoma"
      ]
     },
     "metadata": {},
     "output_type": "display_data"
    }
   ],
   "source": [
    "# Do some final cleanup of the columns to turn things into unknown vs just NA\n",
    "\n",
    "merged_edited_pdtc_files <- merged_edited_pdtc_files %>% mutate(\n",
    "    is_ffpe = ifelse(is.na(is_ffpe), 'Unknown', is_ffpe),\n",
    "    access_level = ifelse(is.na(access_level), 'Controlled', access_level),\n",
    "    public = ifelse(is.na(public), 'No', public),\n",
    "    gender = ifelse(is.na(gender), 'Unknown', gender)\n",
    "    )\n",
    "\n",
    "head(merged_edited_pdtc_files)"
   ]
  },
  {
   "cell_type": "markdown",
   "id": "f5bd7c46-c8ce-4672-8832-8600fad1642a",
   "metadata": {},
   "source": [
    "There are some HCI files missing capture_kit, but we have this information on the CGC. I can fill these, and this should be the last of it"
   ]
  },
  {
   "cell_type": "code",
   "execution_count": 87,
   "id": "83107e29-b40d-4819-af12-0b252e74d9ad",
   "metadata": {},
   "outputs": [
    {
     "name": "stderr",
     "output_type": "stream",
     "text": [
      "\u001b[1mRows: \u001b[22m\u001b[34m201\u001b[39m \u001b[1mColumns: \u001b[22m\u001b[34m64\u001b[39m\n",
      "\n",
      "\u001b[36m──\u001b[39m \u001b[1mColumn specification\u001b[22m \u001b[36m──────────────────────────────────────────────────────────────────────────────────────────────────────────────────────────────────────────────────────────────────────────────────────────────────────────────────────\u001b[39m\n",
      "\u001b[1mDelimiter:\u001b[22m \",\"\n",
      "\u001b[31mchr\u001b[39m (19): id, name, project, sample_id, sample_type, RestrictiveIRB, case_id...\n",
      "\u001b[32mdbl\u001b[39m  (3): size, platform_unit_id, paired_end\n",
      "\u001b[33mlgl\u001b[39m (42): trimmed_read_count, p1_1, Is FFPE, passage, prop_ribosomal_bases, ...\n",
      "\n",
      "\n",
      "\u001b[36mℹ\u001b[39m Use \u001b[30m\u001b[47m\u001b[30m\u001b[47m`spec()`\u001b[47m\u001b[30m\u001b[49m\u001b[39m to retrieve the full column specification for this data.\n",
      "\u001b[36mℹ\u001b[39m Specify the column types or set \u001b[30m\u001b[47m\u001b[30m\u001b[47m`show_col_types = FALSE`\u001b[47m\u001b[30m\u001b[49m\u001b[39m to quiet this message.\n",
      "\n"
     ]
    },
    {
     "data": {
      "text/html": [
       "<table class=\"dataframe\">\n",
       "<caption>A tibble: 6 × 2</caption>\n",
       "<thead>\n",
       "\t<tr><th scope=col>name</th><th scope=col>manifest_capture_kit</th></tr>\n",
       "\t<tr><th scope=col>&lt;chr&gt;</th><th scope=col>&lt;chr&gt;</th></tr>\n",
       "</thead>\n",
       "<tbody>\n",
       "\t<tr><td>0704112-T_HCI-001_Patient_tumor_R1.fastq.gz </td><td>AgilentHumanAllExon50Mb</td></tr>\n",
       "\t<tr><td>0704112-T_HCI-001_Patient_tumor_R2.fastq.gz </td><td>AgilentHumanAllExon50Mb</td></tr>\n",
       "\t<tr><td>0704112-X_HCI-001_PDXtumor_R1.fastq.gz      </td><td>AgilentHumanAllExon50Mb</td></tr>\n",
       "\t<tr><td>0704112-X_HCI-001_PDXtumor_R2.fastq.gz      </td><td>AgilentHumanAllExon50Mb</td></tr>\n",
       "\t<tr><td>0900570-B_HCI-002_Patient_normal_R1.fastq.gz</td><td>AgilentHumanAllExon50Mb</td></tr>\n",
       "\t<tr><td>0900570-B_HCI-002_Patient_normal_R2.fastq.gz</td><td>AgilentHumanAllExon50Mb</td></tr>\n",
       "</tbody>\n",
       "</table>\n"
      ],
      "text/latex": [
       "A tibble: 6 × 2\n",
       "\\begin{tabular}{ll}\n",
       " name & manifest\\_capture\\_kit\\\\\n",
       " <chr> & <chr>\\\\\n",
       "\\hline\n",
       "\t 0704112-T\\_HCI-001\\_Patient\\_tumor\\_R1.fastq.gz  & AgilentHumanAllExon50Mb\\\\\n",
       "\t 0704112-T\\_HCI-001\\_Patient\\_tumor\\_R2.fastq.gz  & AgilentHumanAllExon50Mb\\\\\n",
       "\t 0704112-X\\_HCI-001\\_PDXtumor\\_R1.fastq.gz       & AgilentHumanAllExon50Mb\\\\\n",
       "\t 0704112-X\\_HCI-001\\_PDXtumor\\_R2.fastq.gz       & AgilentHumanAllExon50Mb\\\\\n",
       "\t 0900570-B\\_HCI-002\\_Patient\\_normal\\_R1.fastq.gz & AgilentHumanAllExon50Mb\\\\\n",
       "\t 0900570-B\\_HCI-002\\_Patient\\_normal\\_R2.fastq.gz & AgilentHumanAllExon50Mb\\\\\n",
       "\\end{tabular}\n"
      ],
      "text/markdown": [
       "\n",
       "A tibble: 6 × 2\n",
       "\n",
       "| name &lt;chr&gt; | manifest_capture_kit &lt;chr&gt; |\n",
       "|---|---|\n",
       "| 0704112-T_HCI-001_Patient_tumor_R1.fastq.gz  | AgilentHumanAllExon50Mb |\n",
       "| 0704112-T_HCI-001_Patient_tumor_R2.fastq.gz  | AgilentHumanAllExon50Mb |\n",
       "| 0704112-X_HCI-001_PDXtumor_R1.fastq.gz       | AgilentHumanAllExon50Mb |\n",
       "| 0704112-X_HCI-001_PDXtumor_R2.fastq.gz       | AgilentHumanAllExon50Mb |\n",
       "| 0900570-B_HCI-002_Patient_normal_R1.fastq.gz | AgilentHumanAllExon50Mb |\n",
       "| 0900570-B_HCI-002_Patient_normal_R2.fastq.gz | AgilentHumanAllExon50Mb |\n",
       "\n"
      ],
      "text/plain": [
       "  name                                         manifest_capture_kit   \n",
       "1 0704112-T_HCI-001_Patient_tumor_R1.fastq.gz  AgilentHumanAllExon50Mb\n",
       "2 0704112-T_HCI-001_Patient_tumor_R2.fastq.gz  AgilentHumanAllExon50Mb\n",
       "3 0704112-X_HCI-001_PDXtumor_R1.fastq.gz       AgilentHumanAllExon50Mb\n",
       "4 0704112-X_HCI-001_PDXtumor_R2.fastq.gz       AgilentHumanAllExon50Mb\n",
       "5 0900570-B_HCI-002_Patient_normal_R1.fastq.gz AgilentHumanAllExon50Mb\n",
       "6 0900570-B_HCI-002_Patient_normal_R2.fastq.gz AgilentHumanAllExon50Mb"
      ]
     },
     "metadata": {},
     "output_type": "display_data"
    }
   ],
   "source": [
    "# Load the manifest\n",
    "\n",
    "hci_manifest_pdx_tumor <- read_csv('hci_manifest_20220215_160645.csv') %>%\n",
    "    mutate(name = basename(name)) %>%\n",
    "    select(name, capture_kit) %>%\n",
    "    rename('manifest_capture_kit' = 'capture_kit')\n",
    "\n",
    "head(hci_manifest_pdx_tumor)"
   ]
  },
  {
   "cell_type": "code",
   "execution_count": 90,
   "id": "ee8683d2-a174-498b-b477-c3a098e0d6d9",
   "metadata": {},
   "outputs": [
    {
     "data": {
      "text/html": [
       "<table class=\"dataframe\">\n",
       "<caption>A tibble: 6 × 26</caption>\n",
       "<thead>\n",
       "\t<tr><th scope=col>Index</th><th scope=col>contributor</th><th scope=col>file_name</th><th scope=col>patient_id</th><th scope=col>model_id</th><th scope=col>tumor_id</th><th scope=col>case_id</th><th scope=col>sample_id</th><th scope=col>sample_type</th><th scope=col>experimental_strategy</th><th scope=col>⋯</th><th scope=col>access_level</th><th scope=col>data_category</th><th scope=col>data_format</th><th scope=col>data_type</th><th scope=col>platform</th><th scope=col>is_ffpe</th><th scope=col>passage</th><th scope=col>body_location</th><th scope=col>comment</th><th scope=col>disease_type</th></tr>\n",
       "\t<tr><th scope=col>&lt;int&gt;</th><th scope=col>&lt;chr&gt;</th><th scope=col>&lt;chr&gt;</th><th scope=col>&lt;chr&gt;</th><th scope=col>&lt;chr&gt;</th><th scope=col>&lt;chr&gt;</th><th scope=col>&lt;chr&gt;</th><th scope=col>&lt;chr&gt;</th><th scope=col>&lt;chr&gt;</th><th scope=col>&lt;chr&gt;</th><th scope=col>⋯</th><th scope=col>&lt;chr&gt;</th><th scope=col>&lt;chr&gt;</th><th scope=col>&lt;chr&gt;</th><th scope=col>&lt;chr&gt;</th><th scope=col>&lt;chr&gt;</th><th scope=col>&lt;chr&gt;</th><th scope=col>&lt;chr&gt;</th><th scope=col>&lt;chr&gt;</th><th scope=col>&lt;chr&gt;</th><th scope=col>&lt;chr&gt;</th></tr>\n",
       "</thead>\n",
       "<tbody>\n",
       "\t<tr><td>1</td><td>BCM</td><td>LZML_37246_NoIndex_L00X_R1_001.fastq.gz</td><td>24452</td><td>BCM-0002</td><td>2011012-2  </td><td>NA</td><td>BCM-0002</td><td>PDX</td><td>RNA-Seq</td><td>⋯</td><td>Controlled</td><td>Raw Sequencing Data</td><td>fastq.gz</td><td>Raw Reads</td><td>Illumina</td><td>FALSE</td><td>Unknown</td><td>Breast</td><td>NA</td><td>Invasive breast carcinoma</td></tr>\n",
       "\t<tr><td>2</td><td>BCM</td><td>LZML_37246_NoIndex_L00X_R2_001.fastq.gz</td><td>24452</td><td>BCM-0002</td><td>2011012-2  </td><td>NA</td><td>BCM-0002</td><td>PDX</td><td>RNA-Seq</td><td>⋯</td><td>Controlled</td><td>Raw Sequencing Data</td><td>fastq.gz</td><td>Raw Reads</td><td>Illumina</td><td>FALSE</td><td>Unknown</td><td>Breast</td><td>NA</td><td>Invasive breast carcinoma</td></tr>\n",
       "\t<tr><td>3</td><td>BCM</td><td>ML6065_GATCAGCG_L00X_R1_001.fastq.gz   </td><td>2219 </td><td>BCM-0046</td><td>2011012-46 </td><td>NA</td><td>BCM-0046</td><td>PDX</td><td>RNA-Seq</td><td>⋯</td><td>Controlled</td><td>Raw Sequencing Data</td><td>fastq.gz</td><td>Raw Reads</td><td>Illumina</td><td>FALSE</td><td>Unknown</td><td>Breast</td><td>NA</td><td>Invasive breast carcinoma</td></tr>\n",
       "\t<tr><td>4</td><td>BCM</td><td>ML6065_GATCAGCG_L00X_R2_001.fastq.gz   </td><td>2219 </td><td>BCM-0046</td><td>2011012-46 </td><td>NA</td><td>BCM-0046</td><td>PDX</td><td>RNA-Seq</td><td>⋯</td><td>Controlled</td><td>Raw Sequencing Data</td><td>fastq.gz</td><td>Raw Reads</td><td>Illumina</td><td>FALSE</td><td>Unknown</td><td>Breast</td><td>NA</td><td>Invasive breast carcinoma</td></tr>\n",
       "\t<tr><td>5</td><td>BCM</td><td>ML6061_CAGATCTG_L00X_R1_001.fastq.gz   </td><td>24561</td><td>BCM-0104</td><td>2011012-104</td><td>NA</td><td>BCM-0104</td><td>PDX</td><td>RNA-Seq</td><td>⋯</td><td>Controlled</td><td>Raw Sequencing Data</td><td>fastq.gz</td><td>Raw Reads</td><td>Illumina</td><td>FALSE</td><td>Unknown</td><td>Breast</td><td>NA</td><td>Invasive breast carcinoma</td></tr>\n",
       "\t<tr><td>6</td><td>BCM</td><td>ML6061_CAGATCTG_L00X_R2_001.fastq.gz   </td><td>24561</td><td>BCM-0104</td><td>2011012-104</td><td>NA</td><td>BCM-0104</td><td>PDX</td><td>RNA-Seq</td><td>⋯</td><td>Controlled</td><td>Raw Sequencing Data</td><td>fastq.gz</td><td>Raw Reads</td><td>Illumina</td><td>FALSE</td><td>Unknown</td><td>Breast</td><td>NA</td><td>Invasive breast carcinoma</td></tr>\n",
       "</tbody>\n",
       "</table>\n"
      ],
      "text/latex": [
       "A tibble: 6 × 26\n",
       "\\begin{tabular}{lllllllllllllllllllll}\n",
       " Index & contributor & file\\_name & patient\\_id & model\\_id & tumor\\_id & case\\_id & sample\\_id & sample\\_type & experimental\\_strategy & ⋯ & access\\_level & data\\_category & data\\_format & data\\_type & platform & is\\_ffpe & passage & body\\_location & comment & disease\\_type\\\\\n",
       " <int> & <chr> & <chr> & <chr> & <chr> & <chr> & <chr> & <chr> & <chr> & <chr> & ⋯ & <chr> & <chr> & <chr> & <chr> & <chr> & <chr> & <chr> & <chr> & <chr> & <chr>\\\\\n",
       "\\hline\n",
       "\t 1 & BCM & LZML\\_37246\\_NoIndex\\_L00X\\_R1\\_001.fastq.gz & 24452 & BCM-0002 & 2011012-2   & NA & BCM-0002 & PDX & RNA-Seq & ⋯ & Controlled & Raw Sequencing Data & fastq.gz & Raw Reads & Illumina & FALSE & Unknown & Breast & NA & Invasive breast carcinoma\\\\\n",
       "\t 2 & BCM & LZML\\_37246\\_NoIndex\\_L00X\\_R2\\_001.fastq.gz & 24452 & BCM-0002 & 2011012-2   & NA & BCM-0002 & PDX & RNA-Seq & ⋯ & Controlled & Raw Sequencing Data & fastq.gz & Raw Reads & Illumina & FALSE & Unknown & Breast & NA & Invasive breast carcinoma\\\\\n",
       "\t 3 & BCM & ML6065\\_GATCAGCG\\_L00X\\_R1\\_001.fastq.gz    & 2219  & BCM-0046 & 2011012-46  & NA & BCM-0046 & PDX & RNA-Seq & ⋯ & Controlled & Raw Sequencing Data & fastq.gz & Raw Reads & Illumina & FALSE & Unknown & Breast & NA & Invasive breast carcinoma\\\\\n",
       "\t 4 & BCM & ML6065\\_GATCAGCG\\_L00X\\_R2\\_001.fastq.gz    & 2219  & BCM-0046 & 2011012-46  & NA & BCM-0046 & PDX & RNA-Seq & ⋯ & Controlled & Raw Sequencing Data & fastq.gz & Raw Reads & Illumina & FALSE & Unknown & Breast & NA & Invasive breast carcinoma\\\\\n",
       "\t 5 & BCM & ML6061\\_CAGATCTG\\_L00X\\_R1\\_001.fastq.gz    & 24561 & BCM-0104 & 2011012-104 & NA & BCM-0104 & PDX & RNA-Seq & ⋯ & Controlled & Raw Sequencing Data & fastq.gz & Raw Reads & Illumina & FALSE & Unknown & Breast & NA & Invasive breast carcinoma\\\\\n",
       "\t 6 & BCM & ML6061\\_CAGATCTG\\_L00X\\_R2\\_001.fastq.gz    & 24561 & BCM-0104 & 2011012-104 & NA & BCM-0104 & PDX & RNA-Seq & ⋯ & Controlled & Raw Sequencing Data & fastq.gz & Raw Reads & Illumina & FALSE & Unknown & Breast & NA & Invasive breast carcinoma\\\\\n",
       "\\end{tabular}\n"
      ],
      "text/markdown": [
       "\n",
       "A tibble: 6 × 26\n",
       "\n",
       "| Index &lt;int&gt; | contributor &lt;chr&gt; | file_name &lt;chr&gt; | patient_id &lt;chr&gt; | model_id &lt;chr&gt; | tumor_id &lt;chr&gt; | case_id &lt;chr&gt; | sample_id &lt;chr&gt; | sample_type &lt;chr&gt; | experimental_strategy &lt;chr&gt; | ⋯ ⋯ | access_level &lt;chr&gt; | data_category &lt;chr&gt; | data_format &lt;chr&gt; | data_type &lt;chr&gt; | platform &lt;chr&gt; | is_ffpe &lt;chr&gt; | passage &lt;chr&gt; | body_location &lt;chr&gt; | comment &lt;chr&gt; | disease_type &lt;chr&gt; |\n",
       "|---|---|---|---|---|---|---|---|---|---|---|---|---|---|---|---|---|---|---|---|---|\n",
       "| 1 | BCM | LZML_37246_NoIndex_L00X_R1_001.fastq.gz | 24452 | BCM-0002 | 2011012-2   | NA | BCM-0002 | PDX | RNA-Seq | ⋯ | Controlled | Raw Sequencing Data | fastq.gz | Raw Reads | Illumina | FALSE | Unknown | Breast | NA | Invasive breast carcinoma |\n",
       "| 2 | BCM | LZML_37246_NoIndex_L00X_R2_001.fastq.gz | 24452 | BCM-0002 | 2011012-2   | NA | BCM-0002 | PDX | RNA-Seq | ⋯ | Controlled | Raw Sequencing Data | fastq.gz | Raw Reads | Illumina | FALSE | Unknown | Breast | NA | Invasive breast carcinoma |\n",
       "| 3 | BCM | ML6065_GATCAGCG_L00X_R1_001.fastq.gz    | 2219  | BCM-0046 | 2011012-46  | NA | BCM-0046 | PDX | RNA-Seq | ⋯ | Controlled | Raw Sequencing Data | fastq.gz | Raw Reads | Illumina | FALSE | Unknown | Breast | NA | Invasive breast carcinoma |\n",
       "| 4 | BCM | ML6065_GATCAGCG_L00X_R2_001.fastq.gz    | 2219  | BCM-0046 | 2011012-46  | NA | BCM-0046 | PDX | RNA-Seq | ⋯ | Controlled | Raw Sequencing Data | fastq.gz | Raw Reads | Illumina | FALSE | Unknown | Breast | NA | Invasive breast carcinoma |\n",
       "| 5 | BCM | ML6061_CAGATCTG_L00X_R1_001.fastq.gz    | 24561 | BCM-0104 | 2011012-104 | NA | BCM-0104 | PDX | RNA-Seq | ⋯ | Controlled | Raw Sequencing Data | fastq.gz | Raw Reads | Illumina | FALSE | Unknown | Breast | NA | Invasive breast carcinoma |\n",
       "| 6 | BCM | ML6061_CAGATCTG_L00X_R2_001.fastq.gz    | 24561 | BCM-0104 | 2011012-104 | NA | BCM-0104 | PDX | RNA-Seq | ⋯ | Controlled | Raw Sequencing Data | fastq.gz | Raw Reads | Illumina | FALSE | Unknown | Breast | NA | Invasive breast carcinoma |\n",
       "\n"
      ],
      "text/plain": [
       "  Index contributor file_name                               patient_id model_id\n",
       "1 1     BCM         LZML_37246_NoIndex_L00X_R1_001.fastq.gz 24452      BCM-0002\n",
       "2 2     BCM         LZML_37246_NoIndex_L00X_R2_001.fastq.gz 24452      BCM-0002\n",
       "3 3     BCM         ML6065_GATCAGCG_L00X_R1_001.fastq.gz    2219       BCM-0046\n",
       "4 4     BCM         ML6065_GATCAGCG_L00X_R2_001.fastq.gz    2219       BCM-0046\n",
       "5 5     BCM         ML6061_CAGATCTG_L00X_R1_001.fastq.gz    24561      BCM-0104\n",
       "6 6     BCM         ML6061_CAGATCTG_L00X_R2_001.fastq.gz    24561      BCM-0104\n",
       "  tumor_id    case_id sample_id sample_type experimental_strategy ⋯\n",
       "1 2011012-2   NA      BCM-0002  PDX         RNA-Seq               ⋯\n",
       "2 2011012-2   NA      BCM-0002  PDX         RNA-Seq               ⋯\n",
       "3 2011012-46  NA      BCM-0046  PDX         RNA-Seq               ⋯\n",
       "4 2011012-46  NA      BCM-0046  PDX         RNA-Seq               ⋯\n",
       "5 2011012-104 NA      BCM-0104  PDX         RNA-Seq               ⋯\n",
       "6 2011012-104 NA      BCM-0104  PDX         RNA-Seq               ⋯\n",
       "  access_level data_category       data_format data_type platform is_ffpe\n",
       "1 Controlled   Raw Sequencing Data fastq.gz    Raw Reads Illumina FALSE  \n",
       "2 Controlled   Raw Sequencing Data fastq.gz    Raw Reads Illumina FALSE  \n",
       "3 Controlled   Raw Sequencing Data fastq.gz    Raw Reads Illumina FALSE  \n",
       "4 Controlled   Raw Sequencing Data fastq.gz    Raw Reads Illumina FALSE  \n",
       "5 Controlled   Raw Sequencing Data fastq.gz    Raw Reads Illumina FALSE  \n",
       "6 Controlled   Raw Sequencing Data fastq.gz    Raw Reads Illumina FALSE  \n",
       "  passage body_location comment disease_type             \n",
       "1 Unknown Breast        NA      Invasive breast carcinoma\n",
       "2 Unknown Breast        NA      Invasive breast carcinoma\n",
       "3 Unknown Breast        NA      Invasive breast carcinoma\n",
       "4 Unknown Breast        NA      Invasive breast carcinoma\n",
       "5 Unknown Breast        NA      Invasive breast carcinoma\n",
       "6 Unknown Breast        NA      Invasive breast carcinoma"
      ]
     },
     "metadata": {},
     "output_type": "display_data"
    }
   ],
   "source": [
    "# Merge with all the other files and fix capture_kit\n",
    "\n",
    "merged_edited_pdtc_files <- merged_edited_pdtc_files %>% left_join(hci_manifest_pdx_tumor, by = c('file_name' = 'name')) %>%\n",
    "    mutate(capture_kit = ifelse(((is.na(capture_kit) | (capture_kit == 'Unknown')) & !is.na(manifest_capture_kit)), manifest_capture_kit, capture_kit)) %>%\n",
    "    mutate(capture_kit = ifelse(is.na(capture_kit), 'Unknown', capture_kit)) %>%\n",
    "    select(-manifest_capture_kit)\n",
    "\n",
    "head(merged_edited_pdtc_files)"
   ]
  },
  {
   "cell_type": "code",
   "execution_count": 92,
   "id": "ae7d0b51-d2d6-41a7-9995-77248ed6f392",
   "metadata": {},
   "outputs": [],
   "source": [
    "# Reorder a few of the columns at the end because it makes more sense to put the body location and disease type columns together\n",
    "\n",
    "merged_edited_pdtc_files <- merged_edited_pdtc_files %>% select(Index:body_location, disease_type, comment)"
   ]
  },
  {
   "cell_type": "code",
   "execution_count": 94,
   "id": "9943fafb-03cb-4650-8c0f-3928d0bee8ad",
   "metadata": {},
   "outputs": [
    {
     "data": {
      "text/html": [
       "<table class=\"dataframe\">\n",
       "<caption>A tibble: 6 × 26</caption>\n",
       "<thead>\n",
       "\t<tr><th scope=col></th><th scope=col>contributor</th><th scope=col>file_name</th><th scope=col>patient_id</th><th scope=col>model_id</th><th scope=col>tumor_id</th><th scope=col>case_id</th><th scope=col>sample_id</th><th scope=col>sample_type</th><th scope=col>experimental_strategy</th><th scope=col>⋯</th><th scope=col>access_level</th><th scope=col>data_category</th><th scope=col>data_format</th><th scope=col>data_type</th><th scope=col>platform</th><th scope=col>is_ffpe</th><th scope=col>passage</th><th scope=col>body_location</th><th scope=col>disease_type</th><th scope=col>comment</th></tr>\n",
       "\t<tr><th scope=col>&lt;int&gt;</th><th scope=col>&lt;chr&gt;</th><th scope=col>&lt;chr&gt;</th><th scope=col>&lt;chr&gt;</th><th scope=col>&lt;chr&gt;</th><th scope=col>&lt;chr&gt;</th><th scope=col>&lt;chr&gt;</th><th scope=col>&lt;chr&gt;</th><th scope=col>&lt;chr&gt;</th><th scope=col>&lt;chr&gt;</th><th scope=col>⋯</th><th scope=col>&lt;chr&gt;</th><th scope=col>&lt;chr&gt;</th><th scope=col>&lt;chr&gt;</th><th scope=col>&lt;chr&gt;</th><th scope=col>&lt;chr&gt;</th><th scope=col>&lt;chr&gt;</th><th scope=col>&lt;chr&gt;</th><th scope=col>&lt;chr&gt;</th><th scope=col>&lt;chr&gt;</th><th scope=col>&lt;chr&gt;</th></tr>\n",
       "</thead>\n",
       "<tbody>\n",
       "\t<tr><td>1</td><td>BCM</td><td>LZML_37246_NoIndex_L00X_R1_001.fastq.gz</td><td>24452</td><td>BCM-0002</td><td>2011012-2  </td><td>NA</td><td>BCM-0002</td><td>PDX</td><td>RNA-Seq</td><td>⋯</td><td>Controlled</td><td>Raw Sequencing Data</td><td>fastq.gz</td><td>Raw Reads</td><td>Illumina</td><td>FALSE</td><td>Unknown</td><td>Breast</td><td>Invasive breast carcinoma</td><td>NA</td></tr>\n",
       "\t<tr><td>2</td><td>BCM</td><td>LZML_37246_NoIndex_L00X_R2_001.fastq.gz</td><td>24452</td><td>BCM-0002</td><td>2011012-2  </td><td>NA</td><td>BCM-0002</td><td>PDX</td><td>RNA-Seq</td><td>⋯</td><td>Controlled</td><td>Raw Sequencing Data</td><td>fastq.gz</td><td>Raw Reads</td><td>Illumina</td><td>FALSE</td><td>Unknown</td><td>Breast</td><td>Invasive breast carcinoma</td><td>NA</td></tr>\n",
       "\t<tr><td>3</td><td>BCM</td><td>ML6065_GATCAGCG_L00X_R1_001.fastq.gz   </td><td>2219 </td><td>BCM-0046</td><td>2011012-46 </td><td>NA</td><td>BCM-0046</td><td>PDX</td><td>RNA-Seq</td><td>⋯</td><td>Controlled</td><td>Raw Sequencing Data</td><td>fastq.gz</td><td>Raw Reads</td><td>Illumina</td><td>FALSE</td><td>Unknown</td><td>Breast</td><td>Invasive breast carcinoma</td><td>NA</td></tr>\n",
       "\t<tr><td>4</td><td>BCM</td><td>ML6065_GATCAGCG_L00X_R2_001.fastq.gz   </td><td>2219 </td><td>BCM-0046</td><td>2011012-46 </td><td>NA</td><td>BCM-0046</td><td>PDX</td><td>RNA-Seq</td><td>⋯</td><td>Controlled</td><td>Raw Sequencing Data</td><td>fastq.gz</td><td>Raw Reads</td><td>Illumina</td><td>FALSE</td><td>Unknown</td><td>Breast</td><td>Invasive breast carcinoma</td><td>NA</td></tr>\n",
       "\t<tr><td>5</td><td>BCM</td><td>ML6061_CAGATCTG_L00X_R1_001.fastq.gz   </td><td>24561</td><td>BCM-0104</td><td>2011012-104</td><td>NA</td><td>BCM-0104</td><td>PDX</td><td>RNA-Seq</td><td>⋯</td><td>Controlled</td><td>Raw Sequencing Data</td><td>fastq.gz</td><td>Raw Reads</td><td>Illumina</td><td>FALSE</td><td>Unknown</td><td>Breast</td><td>Invasive breast carcinoma</td><td>NA</td></tr>\n",
       "\t<tr><td>6</td><td>BCM</td><td>ML6061_CAGATCTG_L00X_R2_001.fastq.gz   </td><td>24561</td><td>BCM-0104</td><td>2011012-104</td><td>NA</td><td>BCM-0104</td><td>PDX</td><td>RNA-Seq</td><td>⋯</td><td>Controlled</td><td>Raw Sequencing Data</td><td>fastq.gz</td><td>Raw Reads</td><td>Illumina</td><td>FALSE</td><td>Unknown</td><td>Breast</td><td>Invasive breast carcinoma</td><td>NA</td></tr>\n",
       "</tbody>\n",
       "</table>\n"
      ],
      "text/latex": [
       "A tibble: 6 × 26\n",
       "\\begin{tabular}{lllllllllllllllllllll}\n",
       "  & contributor & file\\_name & patient\\_id & model\\_id & tumor\\_id & case\\_id & sample\\_id & sample\\_type & experimental\\_strategy & ⋯ & access\\_level & data\\_category & data\\_format & data\\_type & platform & is\\_ffpe & passage & body\\_location & disease\\_type & comment\\\\\n",
       " <int> & <chr> & <chr> & <chr> & <chr> & <chr> & <chr> & <chr> & <chr> & <chr> & ⋯ & <chr> & <chr> & <chr> & <chr> & <chr> & <chr> & <chr> & <chr> & <chr> & <chr>\\\\\n",
       "\\hline\n",
       "\t 1 & BCM & LZML\\_37246\\_NoIndex\\_L00X\\_R1\\_001.fastq.gz & 24452 & BCM-0002 & 2011012-2   & NA & BCM-0002 & PDX & RNA-Seq & ⋯ & Controlled & Raw Sequencing Data & fastq.gz & Raw Reads & Illumina & FALSE & Unknown & Breast & Invasive breast carcinoma & NA\\\\\n",
       "\t 2 & BCM & LZML\\_37246\\_NoIndex\\_L00X\\_R2\\_001.fastq.gz & 24452 & BCM-0002 & 2011012-2   & NA & BCM-0002 & PDX & RNA-Seq & ⋯ & Controlled & Raw Sequencing Data & fastq.gz & Raw Reads & Illumina & FALSE & Unknown & Breast & Invasive breast carcinoma & NA\\\\\n",
       "\t 3 & BCM & ML6065\\_GATCAGCG\\_L00X\\_R1\\_001.fastq.gz    & 2219  & BCM-0046 & 2011012-46  & NA & BCM-0046 & PDX & RNA-Seq & ⋯ & Controlled & Raw Sequencing Data & fastq.gz & Raw Reads & Illumina & FALSE & Unknown & Breast & Invasive breast carcinoma & NA\\\\\n",
       "\t 4 & BCM & ML6065\\_GATCAGCG\\_L00X\\_R2\\_001.fastq.gz    & 2219  & BCM-0046 & 2011012-46  & NA & BCM-0046 & PDX & RNA-Seq & ⋯ & Controlled & Raw Sequencing Data & fastq.gz & Raw Reads & Illumina & FALSE & Unknown & Breast & Invasive breast carcinoma & NA\\\\\n",
       "\t 5 & BCM & ML6061\\_CAGATCTG\\_L00X\\_R1\\_001.fastq.gz    & 24561 & BCM-0104 & 2011012-104 & NA & BCM-0104 & PDX & RNA-Seq & ⋯ & Controlled & Raw Sequencing Data & fastq.gz & Raw Reads & Illumina & FALSE & Unknown & Breast & Invasive breast carcinoma & NA\\\\\n",
       "\t 6 & BCM & ML6061\\_CAGATCTG\\_L00X\\_R2\\_001.fastq.gz    & 24561 & BCM-0104 & 2011012-104 & NA & BCM-0104 & PDX & RNA-Seq & ⋯ & Controlled & Raw Sequencing Data & fastq.gz & Raw Reads & Illumina & FALSE & Unknown & Breast & Invasive breast carcinoma & NA\\\\\n",
       "\\end{tabular}\n"
      ],
      "text/markdown": [
       "\n",
       "A tibble: 6 × 26\n",
       "\n",
       "| <!----> &lt;int&gt; | contributor &lt;chr&gt; | file_name &lt;chr&gt; | patient_id &lt;chr&gt; | model_id &lt;chr&gt; | tumor_id &lt;chr&gt; | case_id &lt;chr&gt; | sample_id &lt;chr&gt; | sample_type &lt;chr&gt; | experimental_strategy &lt;chr&gt; | ⋯ ⋯ | access_level &lt;chr&gt; | data_category &lt;chr&gt; | data_format &lt;chr&gt; | data_type &lt;chr&gt; | platform &lt;chr&gt; | is_ffpe &lt;chr&gt; | passage &lt;chr&gt; | body_location &lt;chr&gt; | disease_type &lt;chr&gt; | comment &lt;chr&gt; |\n",
       "|---|---|---|---|---|---|---|---|---|---|---|---|---|---|---|---|---|---|---|---|---|\n",
       "| 1 | BCM | LZML_37246_NoIndex_L00X_R1_001.fastq.gz | 24452 | BCM-0002 | 2011012-2   | NA | BCM-0002 | PDX | RNA-Seq | ⋯ | Controlled | Raw Sequencing Data | fastq.gz | Raw Reads | Illumina | FALSE | Unknown | Breast | Invasive breast carcinoma | NA |\n",
       "| 2 | BCM | LZML_37246_NoIndex_L00X_R2_001.fastq.gz | 24452 | BCM-0002 | 2011012-2   | NA | BCM-0002 | PDX | RNA-Seq | ⋯ | Controlled | Raw Sequencing Data | fastq.gz | Raw Reads | Illumina | FALSE | Unknown | Breast | Invasive breast carcinoma | NA |\n",
       "| 3 | BCM | ML6065_GATCAGCG_L00X_R1_001.fastq.gz    | 2219  | BCM-0046 | 2011012-46  | NA | BCM-0046 | PDX | RNA-Seq | ⋯ | Controlled | Raw Sequencing Data | fastq.gz | Raw Reads | Illumina | FALSE | Unknown | Breast | Invasive breast carcinoma | NA |\n",
       "| 4 | BCM | ML6065_GATCAGCG_L00X_R2_001.fastq.gz    | 2219  | BCM-0046 | 2011012-46  | NA | BCM-0046 | PDX | RNA-Seq | ⋯ | Controlled | Raw Sequencing Data | fastq.gz | Raw Reads | Illumina | FALSE | Unknown | Breast | Invasive breast carcinoma | NA |\n",
       "| 5 | BCM | ML6061_CAGATCTG_L00X_R1_001.fastq.gz    | 24561 | BCM-0104 | 2011012-104 | NA | BCM-0104 | PDX | RNA-Seq | ⋯ | Controlled | Raw Sequencing Data | fastq.gz | Raw Reads | Illumina | FALSE | Unknown | Breast | Invasive breast carcinoma | NA |\n",
       "| 6 | BCM | ML6061_CAGATCTG_L00X_R2_001.fastq.gz    | 24561 | BCM-0104 | 2011012-104 | NA | BCM-0104 | PDX | RNA-Seq | ⋯ | Controlled | Raw Sequencing Data | fastq.gz | Raw Reads | Illumina | FALSE | Unknown | Breast | Invasive breast carcinoma | NA |\n",
       "\n"
      ],
      "text/plain": [
       "    contributor file_name                               patient_id model_id\n",
       "1 1 BCM         LZML_37246_NoIndex_L00X_R1_001.fastq.gz 24452      BCM-0002\n",
       "2 2 BCM         LZML_37246_NoIndex_L00X_R2_001.fastq.gz 24452      BCM-0002\n",
       "3 3 BCM         ML6065_GATCAGCG_L00X_R1_001.fastq.gz    2219       BCM-0046\n",
       "4 4 BCM         ML6065_GATCAGCG_L00X_R2_001.fastq.gz    2219       BCM-0046\n",
       "5 5 BCM         ML6061_CAGATCTG_L00X_R1_001.fastq.gz    24561      BCM-0104\n",
       "6 6 BCM         ML6061_CAGATCTG_L00X_R2_001.fastq.gz    24561      BCM-0104\n",
       "  tumor_id    case_id sample_id sample_type experimental_strategy ⋯\n",
       "1 2011012-2   NA      BCM-0002  PDX         RNA-Seq               ⋯\n",
       "2 2011012-2   NA      BCM-0002  PDX         RNA-Seq               ⋯\n",
       "3 2011012-46  NA      BCM-0046  PDX         RNA-Seq               ⋯\n",
       "4 2011012-46  NA      BCM-0046  PDX         RNA-Seq               ⋯\n",
       "5 2011012-104 NA      BCM-0104  PDX         RNA-Seq               ⋯\n",
       "6 2011012-104 NA      BCM-0104  PDX         RNA-Seq               ⋯\n",
       "  access_level data_category       data_format data_type platform is_ffpe\n",
       "1 Controlled   Raw Sequencing Data fastq.gz    Raw Reads Illumina FALSE  \n",
       "2 Controlled   Raw Sequencing Data fastq.gz    Raw Reads Illumina FALSE  \n",
       "3 Controlled   Raw Sequencing Data fastq.gz    Raw Reads Illumina FALSE  \n",
       "4 Controlled   Raw Sequencing Data fastq.gz    Raw Reads Illumina FALSE  \n",
       "5 Controlled   Raw Sequencing Data fastq.gz    Raw Reads Illumina FALSE  \n",
       "6 Controlled   Raw Sequencing Data fastq.gz    Raw Reads Illumina FALSE  \n",
       "  passage body_location disease_type              comment\n",
       "1 Unknown Breast        Invasive breast carcinoma NA     \n",
       "2 Unknown Breast        Invasive breast carcinoma NA     \n",
       "3 Unknown Breast        Invasive breast carcinoma NA     \n",
       "4 Unknown Breast        Invasive breast carcinoma NA     \n",
       "5 Unknown Breast        Invasive breast carcinoma NA     \n",
       "6 Unknown Breast        Invasive breast carcinoma NA     "
      ]
     },
     "metadata": {},
     "output_type": "display_data"
    }
   ],
   "source": [
    "# Remove the title of the first column for consistency with the existing data\n",
    "\n",
    "colnames(merged_edited_pdtc_files)[1] <- ''\n",
    "\n",
    "merged_edited_pdtc_files %>% head()"
   ]
  },
  {
   "cell_type": "code",
   "execution_count": 95,
   "id": "b8b92071-3c0a-40cb-9120-36dce6207790",
   "metadata": {},
   "outputs": [],
   "source": [
    "# Export this as a file\n",
    "\n",
    "merged_edited_pdtc_files %>% write_csv('2022-02-15_pdtc_metadata_cleaned.csv')"
   ]
  }
 ],
 "metadata": {
  "kernelspec": {
   "display_name": "R",
   "language": "R",
   "name": "ir"
  },
  "language_info": {
   "codemirror_mode": "r",
   "file_extension": ".r",
   "mimetype": "text/x-r-source",
   "name": "R",
   "pygments_lexer": "r",
   "version": "4.1.2"
  }
 },
 "nbformat": 4,
 "nbformat_minor": 5
}
