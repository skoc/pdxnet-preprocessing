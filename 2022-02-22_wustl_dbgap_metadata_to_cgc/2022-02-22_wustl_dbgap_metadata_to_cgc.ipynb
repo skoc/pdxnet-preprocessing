{
 "cells": [
  {
   "cell_type": "markdown",
   "id": "f5e87f2d-e636-4191-a183-9a899cb7d5e1",
   "metadata": {},
   "source": [
    "# Add dbGaP and CDS Submission Status to WUSTL's File Metadata\n",
    "## Date: 2022-02-22\n",
    "## Author: Jeffrey Grover\n",
    "**Purpose:** Previously, we had made copies of files and added this as tags. That is bad, and the multiple copies will make maintaining the metadata in the datapool even more of a disaster than it is. With multiple copies we don't know which one is the \"main\" copy and should get metadata applied. So, I'm going to add the dbGaP and CDS submission status of everything as more metadata fields to the \"main\" files."
   ]
  },
  {
   "cell_type": "markdown",
   "id": "526d1a37-6940-4b1b-9066-ab0cc8350192",
   "metadata": {},
   "source": [
    "### Load libraries"
   ]
  },
  {
   "cell_type": "code",
   "execution_count": 9,
   "id": "3198de66-6cf5-4db1-88e0-f3f794fcd32b",
   "metadata": {},
   "outputs": [],
   "source": [
    "library(tidyverse)\n",
    "library(sevenbridges)"
   ]
  },
  {
   "cell_type": "markdown",
   "id": "1f4d2168-8441-4df5-b16a-011993869523",
   "metadata": {},
   "source": [
    "### Load the metadata\n",
    "They had some files which hadn't already been analyzed, and those were in a separate folder on the CGC. I added the `dbgap_accession` and `cds_status` as metadata fields to those separate, and put them in the `Data_Submission` folder under `WUSTL`.\n",
    "\n",
    "There are also a bunch of files which were previously existing in the WUSTL folders. There may be a second copy in the dbGaP folder. Therefore, I don't know which ones should be the \"main\" copy and get the dbGaP and CDS submission metadata. To fix this, I can compare the lists of files."
   ]
  },
  {
   "cell_type": "code",
   "execution_count": 4,
   "id": "771cdbb1-59c5-4e6d-a77f-29e1be9f2de6",
   "metadata": {},
   "outputs": [
    {
     "name": "stderr",
     "output_type": "stream",
     "text": [
      "\u001b[1mRows: \u001b[22m\u001b[34m434\u001b[39m \u001b[1mColumns: \u001b[22m\u001b[34m66\u001b[39m\n",
      "\n",
      "\u001b[36m──\u001b[39m \u001b[1mColumn specification\u001b[22m \u001b[36m──────────────────────────────────────────────────────────────────────────────────────────────────────────────────────────────────────────────────────────────────────────────────────────────────────────────────────\u001b[39m\n",
      "\u001b[1mDelimiter:\u001b[22m \",\"\n",
      "\u001b[31mchr\u001b[39m (19): id, name, project, passage, sample_id, sample_type, library_prep_k...\n",
      "\u001b[32mdbl\u001b[39m  (2): size, paired_end\n",
      "\u001b[33mlgl\u001b[39m (45): trimmed_read_count, p1_1, Is FFPE, prop_ribosomal_bases, Restricti...\n",
      "\n",
      "\n",
      "\u001b[36mℹ\u001b[39m Use \u001b[30m\u001b[47m\u001b[30m\u001b[47m`spec()`\u001b[47m\u001b[30m\u001b[49m\u001b[39m to retrieve the full column specification for this data.\n",
      "\u001b[36mℹ\u001b[39m Specify the column types or set \u001b[30m\u001b[47m\u001b[30m\u001b[47m`show_col_types = FALSE`\u001b[47m\u001b[30m\u001b[49m\u001b[39m to quiet this message.\n",
      "\n"
     ]
    },
    {
     "data": {
      "text/html": [
       "<table class=\"dataframe\">\n",
       "<caption>A tibble: 6 × 66</caption>\n",
       "<thead>\n",
       "\t<tr><th scope=col>id</th><th scope=col>name</th><th scope=col>size</th><th scope=col>project</th><th scope=col>trimmed_read_count</th><th scope=col>p1_1</th><th scope=col>Is FFPE</th><th scope=col>passage</th><th scope=col>sample_id</th><th scope=col>prop_ribosomal_bases</th><th scope=col>⋯</th><th scope=col>dbgap_upload</th><th scope=col>model_id</th><th scope=col>paired_end</th><th scope=col>__inherit__</th><th scope=col>update_manifest</th><th scope=col>species</th><th scope=col>tumor_id</th><th scope=col>investigation</th><th scope=col>prop_20x_cov</th><th scope=col>experimental_strategy</th></tr>\n",
       "\t<tr><th scope=col>&lt;chr&gt;</th><th scope=col>&lt;chr&gt;</th><th scope=col>&lt;dbl&gt;</th><th scope=col>&lt;chr&gt;</th><th scope=col>&lt;lgl&gt;</th><th scope=col>&lt;lgl&gt;</th><th scope=col>&lt;lgl&gt;</th><th scope=col>&lt;chr&gt;</th><th scope=col>&lt;chr&gt;</th><th scope=col>&lt;lgl&gt;</th><th scope=col>⋯</th><th scope=col>&lt;lgl&gt;</th><th scope=col>&lt;lgl&gt;</th><th scope=col>&lt;dbl&gt;</th><th scope=col>&lt;lgl&gt;</th><th scope=col>&lt;lgl&gt;</th><th scope=col>&lt;lgl&gt;</th><th scope=col>&lt;lgl&gt;</th><th scope=col>&lt;lgl&gt;</th><th scope=col>&lt;lgl&gt;</th><th scope=col>&lt;chr&gt;</th></tr>\n",
       "</thead>\n",
       "<tbody>\n",
       "\t<tr><td>5d8914ace4b06d0cb492458b</td><td>WUPDTC-002-B01.pe_2.fastq.paired.fq    </td><td>14208130600</td><td>pdxnet/pdxnet-datapool</td><td>NA</td><td>NA</td><td>NA</td><td>NA </td><td>WUPDTC-002-B01    </td><td>NA</td><td>⋯</td><td>NA</td><td>NA</td><td>2</td><td>NA</td><td>NA</td><td>NA</td><td>NA</td><td>NA</td><td>NA</td><td>WES</td></tr>\n",
       "\t<tr><td>5d891c1fe4b065d300c6e31c</td><td>WUPDTC-002-T01-P12.pe_1.fastq.paired.fq</td><td>18071815881</td><td>pdxnet/pdxnet-datapool</td><td>NA</td><td>NA</td><td>NA</td><td>P12</td><td>WUPDTC-002-T01-P12</td><td>NA</td><td>⋯</td><td>NA</td><td>NA</td><td>1</td><td>NA</td><td>NA</td><td>NA</td><td>NA</td><td>NA</td><td>NA</td><td>WES</td></tr>\n",
       "\t<tr><td>5d891c1fe4b065d300c6e31b</td><td>WUPDTC-002-T01-P12.pe_2.fastq.paired.fq</td><td>18071815881</td><td>pdxnet/pdxnet-datapool</td><td>NA</td><td>NA</td><td>NA</td><td>P12</td><td>WUPDTC-002-T01-P12</td><td>NA</td><td>⋯</td><td>NA</td><td>NA</td><td>2</td><td>NA</td><td>NA</td><td>NA</td><td>NA</td><td>NA</td><td>NA</td><td>WES</td></tr>\n",
       "\t<tr><td>5d8914bee4b06d0cb4924592</td><td>WUPDTC-002-T01.pe_1.fastq.paired.fq    </td><td>13816487982</td><td>pdxnet/pdxnet-datapool</td><td>NA</td><td>NA</td><td>NA</td><td>NA </td><td>WUPDTC-002-T01    </td><td>NA</td><td>⋯</td><td>NA</td><td>NA</td><td>1</td><td>NA</td><td>NA</td><td>NA</td><td>NA</td><td>NA</td><td>NA</td><td>WES</td></tr>\n",
       "\t<tr><td>5d8914bee4b06d0cb4924590</td><td>WUPDTC-002-T01.pe_2.fastq.paired.fq    </td><td>13816487982</td><td>pdxnet/pdxnet-datapool</td><td>NA</td><td>NA</td><td>NA</td><td>NA </td><td>WUPDTC-002-T01    </td><td>NA</td><td>⋯</td><td>NA</td><td>NA</td><td>2</td><td>NA</td><td>NA</td><td>NA</td><td>NA</td><td>NA</td><td>NA</td><td>WES</td></tr>\n",
       "\t<tr><td>5d891395e4b065d300c6a1fc</td><td>WUPDTC-003-B01.pe_1.fastq.paired.fq    </td><td>13787659314</td><td>pdxnet/pdxnet-datapool</td><td>NA</td><td>NA</td><td>NA</td><td>NA </td><td>WUPDTC-003-B01    </td><td>NA</td><td>⋯</td><td>NA</td><td>NA</td><td>1</td><td>NA</td><td>NA</td><td>NA</td><td>NA</td><td>NA</td><td>NA</td><td>WES</td></tr>\n",
       "</tbody>\n",
       "</table>\n"
      ],
      "text/latex": [
       "A tibble: 6 × 66\n",
       "\\begin{tabular}{lllllllllllllllllllll}\n",
       " id & name & size & project & trimmed\\_read\\_count & p1\\_1 & Is FFPE & passage & sample\\_id & prop\\_ribosomal\\_bases & ⋯ & dbgap\\_upload & model\\_id & paired\\_end & \\_\\_inherit\\_\\_ & update\\_manifest & species & tumor\\_id & investigation & prop\\_20x\\_cov & experimental\\_strategy\\\\\n",
       " <chr> & <chr> & <dbl> & <chr> & <lgl> & <lgl> & <lgl> & <chr> & <chr> & <lgl> & ⋯ & <lgl> & <lgl> & <dbl> & <lgl> & <lgl> & <lgl> & <lgl> & <lgl> & <lgl> & <chr>\\\\\n",
       "\\hline\n",
       "\t 5d8914ace4b06d0cb492458b & WUPDTC-002-B01.pe\\_2.fastq.paired.fq     & 14208130600 & pdxnet/pdxnet-datapool & NA & NA & NA & NA  & WUPDTC-002-B01     & NA & ⋯ & NA & NA & 2 & NA & NA & NA & NA & NA & NA & WES\\\\\n",
       "\t 5d891c1fe4b065d300c6e31c & WUPDTC-002-T01-P12.pe\\_1.fastq.paired.fq & 18071815881 & pdxnet/pdxnet-datapool & NA & NA & NA & P12 & WUPDTC-002-T01-P12 & NA & ⋯ & NA & NA & 1 & NA & NA & NA & NA & NA & NA & WES\\\\\n",
       "\t 5d891c1fe4b065d300c6e31b & WUPDTC-002-T01-P12.pe\\_2.fastq.paired.fq & 18071815881 & pdxnet/pdxnet-datapool & NA & NA & NA & P12 & WUPDTC-002-T01-P12 & NA & ⋯ & NA & NA & 2 & NA & NA & NA & NA & NA & NA & WES\\\\\n",
       "\t 5d8914bee4b06d0cb4924592 & WUPDTC-002-T01.pe\\_1.fastq.paired.fq     & 13816487982 & pdxnet/pdxnet-datapool & NA & NA & NA & NA  & WUPDTC-002-T01     & NA & ⋯ & NA & NA & 1 & NA & NA & NA & NA & NA & NA & WES\\\\\n",
       "\t 5d8914bee4b06d0cb4924590 & WUPDTC-002-T01.pe\\_2.fastq.paired.fq     & 13816487982 & pdxnet/pdxnet-datapool & NA & NA & NA & NA  & WUPDTC-002-T01     & NA & ⋯ & NA & NA & 2 & NA & NA & NA & NA & NA & NA & WES\\\\\n",
       "\t 5d891395e4b065d300c6a1fc & WUPDTC-003-B01.pe\\_1.fastq.paired.fq     & 13787659314 & pdxnet/pdxnet-datapool & NA & NA & NA & NA  & WUPDTC-003-B01     & NA & ⋯ & NA & NA & 1 & NA & NA & NA & NA & NA & NA & WES\\\\\n",
       "\\end{tabular}\n"
      ],
      "text/markdown": [
       "\n",
       "A tibble: 6 × 66\n",
       "\n",
       "| id &lt;chr&gt; | name &lt;chr&gt; | size &lt;dbl&gt; | project &lt;chr&gt; | trimmed_read_count &lt;lgl&gt; | p1_1 &lt;lgl&gt; | Is FFPE &lt;lgl&gt; | passage &lt;chr&gt; | sample_id &lt;chr&gt; | prop_ribosomal_bases &lt;lgl&gt; | ⋯ ⋯ | dbgap_upload &lt;lgl&gt; | model_id &lt;lgl&gt; | paired_end &lt;dbl&gt; | __inherit__ &lt;lgl&gt; | update_manifest &lt;lgl&gt; | species &lt;lgl&gt; | tumor_id &lt;lgl&gt; | investigation &lt;lgl&gt; | prop_20x_cov &lt;lgl&gt; | experimental_strategy &lt;chr&gt; |\n",
       "|---|---|---|---|---|---|---|---|---|---|---|---|---|---|---|---|---|---|---|---|---|\n",
       "| 5d8914ace4b06d0cb492458b | WUPDTC-002-B01.pe_2.fastq.paired.fq     | 14208130600 | pdxnet/pdxnet-datapool | NA | NA | NA | NA  | WUPDTC-002-B01     | NA | ⋯ | NA | NA | 2 | NA | NA | NA | NA | NA | NA | WES |\n",
       "| 5d891c1fe4b065d300c6e31c | WUPDTC-002-T01-P12.pe_1.fastq.paired.fq | 18071815881 | pdxnet/pdxnet-datapool | NA | NA | NA | P12 | WUPDTC-002-T01-P12 | NA | ⋯ | NA | NA | 1 | NA | NA | NA | NA | NA | NA | WES |\n",
       "| 5d891c1fe4b065d300c6e31b | WUPDTC-002-T01-P12.pe_2.fastq.paired.fq | 18071815881 | pdxnet/pdxnet-datapool | NA | NA | NA | P12 | WUPDTC-002-T01-P12 | NA | ⋯ | NA | NA | 2 | NA | NA | NA | NA | NA | NA | WES |\n",
       "| 5d8914bee4b06d0cb4924592 | WUPDTC-002-T01.pe_1.fastq.paired.fq     | 13816487982 | pdxnet/pdxnet-datapool | NA | NA | NA | NA  | WUPDTC-002-T01     | NA | ⋯ | NA | NA | 1 | NA | NA | NA | NA | NA | NA | WES |\n",
       "| 5d8914bee4b06d0cb4924590 | WUPDTC-002-T01.pe_2.fastq.paired.fq     | 13816487982 | pdxnet/pdxnet-datapool | NA | NA | NA | NA  | WUPDTC-002-T01     | NA | ⋯ | NA | NA | 2 | NA | NA | NA | NA | NA | NA | WES |\n",
       "| 5d891395e4b065d300c6a1fc | WUPDTC-003-B01.pe_1.fastq.paired.fq     | 13787659314 | pdxnet/pdxnet-datapool | NA | NA | NA | NA  | WUPDTC-003-B01     | NA | ⋯ | NA | NA | 1 | NA | NA | NA | NA | NA | NA | WES |\n",
       "\n"
      ],
      "text/plain": [
       "  id                       name                                    size       \n",
       "1 5d8914ace4b06d0cb492458b WUPDTC-002-B01.pe_2.fastq.paired.fq     14208130600\n",
       "2 5d891c1fe4b065d300c6e31c WUPDTC-002-T01-P12.pe_1.fastq.paired.fq 18071815881\n",
       "3 5d891c1fe4b065d300c6e31b WUPDTC-002-T01-P12.pe_2.fastq.paired.fq 18071815881\n",
       "4 5d8914bee4b06d0cb4924592 WUPDTC-002-T01.pe_1.fastq.paired.fq     13816487982\n",
       "5 5d8914bee4b06d0cb4924590 WUPDTC-002-T01.pe_2.fastq.paired.fq     13816487982\n",
       "6 5d891395e4b065d300c6a1fc WUPDTC-003-B01.pe_1.fastq.paired.fq     13787659314\n",
       "  project                trimmed_read_count p1_1 Is FFPE passage\n",
       "1 pdxnet/pdxnet-datapool NA                 NA   NA      NA     \n",
       "2 pdxnet/pdxnet-datapool NA                 NA   NA      P12    \n",
       "3 pdxnet/pdxnet-datapool NA                 NA   NA      P12    \n",
       "4 pdxnet/pdxnet-datapool NA                 NA   NA      NA     \n",
       "5 pdxnet/pdxnet-datapool NA                 NA   NA      NA     \n",
       "6 pdxnet/pdxnet-datapool NA                 NA   NA      NA     \n",
       "  sample_id          prop_ribosomal_bases ⋯ dbgap_upload model_id paired_end\n",
       "1 WUPDTC-002-B01     NA                   ⋯ NA           NA       2         \n",
       "2 WUPDTC-002-T01-P12 NA                   ⋯ NA           NA       1         \n",
       "3 WUPDTC-002-T01-P12 NA                   ⋯ NA           NA       2         \n",
       "4 WUPDTC-002-T01     NA                   ⋯ NA           NA       1         \n",
       "5 WUPDTC-002-T01     NA                   ⋯ NA           NA       2         \n",
       "6 WUPDTC-003-B01     NA                   ⋯ NA           NA       1         \n",
       "  __inherit__ update_manifest species tumor_id investigation prop_20x_cov\n",
       "1 NA          NA              NA      NA       NA            NA          \n",
       "2 NA          NA              NA      NA       NA            NA          \n",
       "3 NA          NA              NA      NA       NA            NA          \n",
       "4 NA          NA              NA      NA       NA            NA          \n",
       "5 NA          NA              NA      NA       NA            NA          \n",
       "6 NA          NA              NA      NA       NA            NA          \n",
       "  experimental_strategy\n",
       "1 WES                  \n",
       "2 WES                  \n",
       "3 WES                  \n",
       "4 WES                  \n",
       "5 WES                  \n",
       "6 WES                  "
      ]
     },
     "metadata": {},
     "output_type": "display_data"
    }
   ],
   "source": [
    "existing_wustl_files <- read_csv('2022-02-22_wustl_datapool_existing_rnaseq_wes_manifest.csv') %>%\n",
    "    mutate(name = basename(name))\n",
    "\n",
    "head(existing_wustl_files)"
   ]
  },
  {
   "cell_type": "code",
   "execution_count": 6,
   "id": "1c18d189-f2ac-4761-b22d-b9e503c79059",
   "metadata": {},
   "outputs": [
    {
     "name": "stderr",
     "output_type": "stream",
     "text": [
      "\u001b[1mRows: \u001b[22m\u001b[34m850\u001b[39m \u001b[1mColumns: \u001b[22m\u001b[34m66\u001b[39m\n",
      "\n",
      "\u001b[36m──\u001b[39m \u001b[1mColumn specification\u001b[22m \u001b[36m──────────────────────────────────────────────────────────────────────────────────────────────────────────────────────────────────────────────────────────────────────────────────────────────────────────────────────\u001b[39m\n",
      "\u001b[1mDelimiter:\u001b[22m \",\"\n",
      "\u001b[31mchr\u001b[39m (10): id, name, project, sample_type, case_id, patient_id, contributor, ...\n",
      "\u001b[32mdbl\u001b[39m  (1): size\n",
      "\u001b[33mlgl\u001b[39m (55): trimmed_read_count, p1_1, Is FFPE, passage, sample_id, prop_riboso...\n",
      "\n",
      "\n",
      "\u001b[36mℹ\u001b[39m Use \u001b[30m\u001b[47m\u001b[30m\u001b[47m`spec()`\u001b[47m\u001b[30m\u001b[49m\u001b[39m to retrieve the full column specification for this data.\n",
      "\u001b[36mℹ\u001b[39m Specify the column types or set \u001b[30m\u001b[47m\u001b[30m\u001b[47m`show_col_types = FALSE`\u001b[47m\u001b[30m\u001b[49m\u001b[39m to quiet this message.\n",
      "\n"
     ]
    },
    {
     "data": {
      "text/html": [
       "<table class=\"dataframe\">\n",
       "<caption>A tibble: 6 × 66</caption>\n",
       "<thead>\n",
       "\t<tr><th scope=col>id</th><th scope=col>name</th><th scope=col>size</th><th scope=col>project</th><th scope=col>trimmed_read_count</th><th scope=col>p1_1</th><th scope=col>Is FFPE</th><th scope=col>passage</th><th scope=col>sample_id</th><th scope=col>prop_ribosomal_bases</th><th scope=col>⋯</th><th scope=col>dbgap_upload</th><th scope=col>model_id</th><th scope=col>paired_end</th><th scope=col>__inherit__</th><th scope=col>update_manifest</th><th scope=col>species</th><th scope=col>tumor_id</th><th scope=col>investigation</th><th scope=col>prop_20x_cov</th><th scope=col>experimental_strategy</th></tr>\n",
       "\t<tr><th scope=col>&lt;chr&gt;</th><th scope=col>&lt;chr&gt;</th><th scope=col>&lt;dbl&gt;</th><th scope=col>&lt;chr&gt;</th><th scope=col>&lt;lgl&gt;</th><th scope=col>&lt;lgl&gt;</th><th scope=col>&lt;lgl&gt;</th><th scope=col>&lt;lgl&gt;</th><th scope=col>&lt;lgl&gt;</th><th scope=col>&lt;lgl&gt;</th><th scope=col>⋯</th><th scope=col>&lt;lgl&gt;</th><th scope=col>&lt;chr&gt;</th><th scope=col>&lt;lgl&gt;</th><th scope=col>&lt;lgl&gt;</th><th scope=col>&lt;lgl&gt;</th><th scope=col>&lt;lgl&gt;</th><th scope=col>&lt;chr&gt;</th><th scope=col>&lt;lgl&gt;</th><th scope=col>&lt;lgl&gt;</th><th scope=col>&lt;chr&gt;</th></tr>\n",
       "</thead>\n",
       "<tbody>\n",
       "\t<tr><td>6053a7661f537262530d81d0</td><td>WU-L034-T1.WES.r1.fastq.gz     </td><td>2643723290</td><td>pdxnet/pdxnet-datapool</td><td>NA</td><td>NA</td><td>NA</td><td>NA</td><td>NA</td><td>NA</td><td>⋯</td><td>NA</td><td>NA        </td><td>NA</td><td>NA</td><td>NA</td><td>NA</td><td>NA        </td><td>NA</td><td>NA</td><td>WES</td></tr>\n",
       "\t<tr><td>6053a7661f537262530d81c2</td><td>WU-L034-T1.WES.r2.fastq.gz     </td><td>2746938346</td><td>pdxnet/pdxnet-datapool</td><td>NA</td><td>NA</td><td>NA</td><td>NA</td><td>NA</td><td>NA</td><td>⋯</td><td>NA</td><td>NA        </td><td>NA</td><td>NA</td><td>NA</td><td>NA</td><td>NA        </td><td>NA</td><td>NA</td><td>WES</td></tr>\n",
       "\t<tr><td>6053a7661f537262530d81c3</td><td>WU-L035-N1.WES.r1.fastq.gz     </td><td>1876415309</td><td>pdxnet/pdxnet-datapool</td><td>NA</td><td>NA</td><td>NA</td><td>NA</td><td>NA</td><td>NA</td><td>⋯</td><td>NA</td><td>NA        </td><td>NA</td><td>NA</td><td>NA</td><td>NA</td><td>NA        </td><td>NA</td><td>NA</td><td>WES</td></tr>\n",
       "\t<tr><td>6053a7661f537262530d81f9</td><td>WU-L035-N1.WES.r2.fastq.gz     </td><td>1886646726</td><td>pdxnet/pdxnet-datapool</td><td>NA</td><td>NA</td><td>NA</td><td>NA</td><td>NA</td><td>NA</td><td>⋯</td><td>NA</td><td>NA        </td><td>NA</td><td>NA</td><td>NA</td><td>NA</td><td>NA        </td><td>NA</td><td>NA</td><td>WES</td></tr>\n",
       "\t<tr><td>6053a7661f537262530d827e</td><td>WU-L035-T1-X1P0.WES.r1.fastq.gz</td><td> 837482288</td><td>pdxnet/pdxnet-datapool</td><td>NA</td><td>NA</td><td>NA</td><td>NA</td><td>NA</td><td>NA</td><td>⋯</td><td>NA</td><td>WU-L035-T1</td><td>NA</td><td>NA</td><td>NA</td><td>NA</td><td>WU-L035-T1</td><td>NA</td><td>NA</td><td>WES</td></tr>\n",
       "\t<tr><td>6053a7661f537262530d824a</td><td>WU-L035-T1-X1P0.WES.r2.fastq.gz</td><td> 859970829</td><td>pdxnet/pdxnet-datapool</td><td>NA</td><td>NA</td><td>NA</td><td>NA</td><td>NA</td><td>NA</td><td>⋯</td><td>NA</td><td>WU-L035-T1</td><td>NA</td><td>NA</td><td>NA</td><td>NA</td><td>WU-L035-T1</td><td>NA</td><td>NA</td><td>WES</td></tr>\n",
       "</tbody>\n",
       "</table>\n"
      ],
      "text/latex": [
       "A tibble: 6 × 66\n",
       "\\begin{tabular}{lllllllllllllllllllll}\n",
       " id & name & size & project & trimmed\\_read\\_count & p1\\_1 & Is FFPE & passage & sample\\_id & prop\\_ribosomal\\_bases & ⋯ & dbgap\\_upload & model\\_id & paired\\_end & \\_\\_inherit\\_\\_ & update\\_manifest & species & tumor\\_id & investigation & prop\\_20x\\_cov & experimental\\_strategy\\\\\n",
       " <chr> & <chr> & <dbl> & <chr> & <lgl> & <lgl> & <lgl> & <lgl> & <lgl> & <lgl> & ⋯ & <lgl> & <chr> & <lgl> & <lgl> & <lgl> & <lgl> & <chr> & <lgl> & <lgl> & <chr>\\\\\n",
       "\\hline\n",
       "\t 6053a7661f537262530d81d0 & WU-L034-T1.WES.r1.fastq.gz      & 2643723290 & pdxnet/pdxnet-datapool & NA & NA & NA & NA & NA & NA & ⋯ & NA & NA         & NA & NA & NA & NA & NA         & NA & NA & WES\\\\\n",
       "\t 6053a7661f537262530d81c2 & WU-L034-T1.WES.r2.fastq.gz      & 2746938346 & pdxnet/pdxnet-datapool & NA & NA & NA & NA & NA & NA & ⋯ & NA & NA         & NA & NA & NA & NA & NA         & NA & NA & WES\\\\\n",
       "\t 6053a7661f537262530d81c3 & WU-L035-N1.WES.r1.fastq.gz      & 1876415309 & pdxnet/pdxnet-datapool & NA & NA & NA & NA & NA & NA & ⋯ & NA & NA         & NA & NA & NA & NA & NA         & NA & NA & WES\\\\\n",
       "\t 6053a7661f537262530d81f9 & WU-L035-N1.WES.r2.fastq.gz      & 1886646726 & pdxnet/pdxnet-datapool & NA & NA & NA & NA & NA & NA & ⋯ & NA & NA         & NA & NA & NA & NA & NA         & NA & NA & WES\\\\\n",
       "\t 6053a7661f537262530d827e & WU-L035-T1-X1P0.WES.r1.fastq.gz &  837482288 & pdxnet/pdxnet-datapool & NA & NA & NA & NA & NA & NA & ⋯ & NA & WU-L035-T1 & NA & NA & NA & NA & WU-L035-T1 & NA & NA & WES\\\\\n",
       "\t 6053a7661f537262530d824a & WU-L035-T1-X1P0.WES.r2.fastq.gz &  859970829 & pdxnet/pdxnet-datapool & NA & NA & NA & NA & NA & NA & ⋯ & NA & WU-L035-T1 & NA & NA & NA & NA & WU-L035-T1 & NA & NA & WES\\\\\n",
       "\\end{tabular}\n"
      ],
      "text/markdown": [
       "\n",
       "A tibble: 6 × 66\n",
       "\n",
       "| id &lt;chr&gt; | name &lt;chr&gt; | size &lt;dbl&gt; | project &lt;chr&gt; | trimmed_read_count &lt;lgl&gt; | p1_1 &lt;lgl&gt; | Is FFPE &lt;lgl&gt; | passage &lt;lgl&gt; | sample_id &lt;lgl&gt; | prop_ribosomal_bases &lt;lgl&gt; | ⋯ ⋯ | dbgap_upload &lt;lgl&gt; | model_id &lt;chr&gt; | paired_end &lt;lgl&gt; | __inherit__ &lt;lgl&gt; | update_manifest &lt;lgl&gt; | species &lt;lgl&gt; | tumor_id &lt;chr&gt; | investigation &lt;lgl&gt; | prop_20x_cov &lt;lgl&gt; | experimental_strategy &lt;chr&gt; |\n",
       "|---|---|---|---|---|---|---|---|---|---|---|---|---|---|---|---|---|---|---|---|---|\n",
       "| 6053a7661f537262530d81d0 | WU-L034-T1.WES.r1.fastq.gz      | 2643723290 | pdxnet/pdxnet-datapool | NA | NA | NA | NA | NA | NA | ⋯ | NA | NA         | NA | NA | NA | NA | NA         | NA | NA | WES |\n",
       "| 6053a7661f537262530d81c2 | WU-L034-T1.WES.r2.fastq.gz      | 2746938346 | pdxnet/pdxnet-datapool | NA | NA | NA | NA | NA | NA | ⋯ | NA | NA         | NA | NA | NA | NA | NA         | NA | NA | WES |\n",
       "| 6053a7661f537262530d81c3 | WU-L035-N1.WES.r1.fastq.gz      | 1876415309 | pdxnet/pdxnet-datapool | NA | NA | NA | NA | NA | NA | ⋯ | NA | NA         | NA | NA | NA | NA | NA         | NA | NA | WES |\n",
       "| 6053a7661f537262530d81f9 | WU-L035-N1.WES.r2.fastq.gz      | 1886646726 | pdxnet/pdxnet-datapool | NA | NA | NA | NA | NA | NA | ⋯ | NA | NA         | NA | NA | NA | NA | NA         | NA | NA | WES |\n",
       "| 6053a7661f537262530d827e | WU-L035-T1-X1P0.WES.r1.fastq.gz |  837482288 | pdxnet/pdxnet-datapool | NA | NA | NA | NA | NA | NA | ⋯ | NA | WU-L035-T1 | NA | NA | NA | NA | WU-L035-T1 | NA | NA | WES |\n",
       "| 6053a7661f537262530d824a | WU-L035-T1-X1P0.WES.r2.fastq.gz |  859970829 | pdxnet/pdxnet-datapool | NA | NA | NA | NA | NA | NA | ⋯ | NA | WU-L035-T1 | NA | NA | NA | NA | WU-L035-T1 | NA | NA | WES |\n",
       "\n"
      ],
      "text/plain": [
       "  id                       name                            size      \n",
       "1 6053a7661f537262530d81d0 WU-L034-T1.WES.r1.fastq.gz      2643723290\n",
       "2 6053a7661f537262530d81c2 WU-L034-T1.WES.r2.fastq.gz      2746938346\n",
       "3 6053a7661f537262530d81c3 WU-L035-N1.WES.r1.fastq.gz      1876415309\n",
       "4 6053a7661f537262530d81f9 WU-L035-N1.WES.r2.fastq.gz      1886646726\n",
       "5 6053a7661f537262530d827e WU-L035-T1-X1P0.WES.r1.fastq.gz  837482288\n",
       "6 6053a7661f537262530d824a WU-L035-T1-X1P0.WES.r2.fastq.gz  859970829\n",
       "  project                trimmed_read_count p1_1 Is FFPE passage sample_id\n",
       "1 pdxnet/pdxnet-datapool NA                 NA   NA      NA      NA       \n",
       "2 pdxnet/pdxnet-datapool NA                 NA   NA      NA      NA       \n",
       "3 pdxnet/pdxnet-datapool NA                 NA   NA      NA      NA       \n",
       "4 pdxnet/pdxnet-datapool NA                 NA   NA      NA      NA       \n",
       "5 pdxnet/pdxnet-datapool NA                 NA   NA      NA      NA       \n",
       "6 pdxnet/pdxnet-datapool NA                 NA   NA      NA      NA       \n",
       "  prop_ribosomal_bases ⋯ dbgap_upload model_id   paired_end __inherit__\n",
       "1 NA                   ⋯ NA           NA         NA         NA         \n",
       "2 NA                   ⋯ NA           NA         NA         NA         \n",
       "3 NA                   ⋯ NA           NA         NA         NA         \n",
       "4 NA                   ⋯ NA           NA         NA         NA         \n",
       "5 NA                   ⋯ NA           WU-L035-T1 NA         NA         \n",
       "6 NA                   ⋯ NA           WU-L035-T1 NA         NA         \n",
       "  update_manifest species tumor_id   investigation prop_20x_cov\n",
       "1 NA              NA      NA         NA            NA          \n",
       "2 NA              NA      NA         NA            NA          \n",
       "3 NA              NA      NA         NA            NA          \n",
       "4 NA              NA      NA         NA            NA          \n",
       "5 NA              NA      WU-L035-T1 NA            NA          \n",
       "6 NA              NA      WU-L035-T1 NA            NA          \n",
       "  experimental_strategy\n",
       "1 WES                  \n",
       "2 WES                  \n",
       "3 WES                  \n",
       "4 WES                  \n",
       "5 WES                  \n",
       "6 WES                  "
      ]
     },
     "metadata": {},
     "output_type": "display_data"
    }
   ],
   "source": [
    "cds_wustl_files <- read_csv('2022-02-22_wustl_datapool_cds_rnaseq_wes_manifest.csv') %>%\n",
    "    mutate(name = basename(name))\n",
    "\n",
    "head(cds_wustl_files)"
   ]
  },
  {
   "cell_type": "markdown",
   "id": "3eb808ad-d127-4a9f-be78-73fce5309c44",
   "metadata": {},
   "source": [
    "### Find files missing from the existing files list"
   ]
  },
  {
   "cell_type": "code",
   "execution_count": 8,
   "id": "a6a479d8-6f23-4fc7-885c-edfadb6da614",
   "metadata": {},
   "outputs": [
    {
     "data": {
      "text/html": [
       "478"
      ],
      "text/latex": [
       "478"
      ],
      "text/markdown": [
       "478"
      ],
      "text/plain": [
       "[1] 478"
      ]
     },
     "metadata": {},
     "output_type": "display_data"
    },
    {
     "data": {
      "text/html": [
       "<table class=\"dataframe\">\n",
       "<caption>A tibble: 6 × 66</caption>\n",
       "<thead>\n",
       "\t<tr><th scope=col>id</th><th scope=col>name</th><th scope=col>size</th><th scope=col>project</th><th scope=col>trimmed_read_count</th><th scope=col>p1_1</th><th scope=col>Is FFPE</th><th scope=col>passage</th><th scope=col>sample_id</th><th scope=col>prop_ribosomal_bases</th><th scope=col>⋯</th><th scope=col>dbgap_upload</th><th scope=col>model_id</th><th scope=col>paired_end</th><th scope=col>__inherit__</th><th scope=col>update_manifest</th><th scope=col>species</th><th scope=col>tumor_id</th><th scope=col>investigation</th><th scope=col>prop_20x_cov</th><th scope=col>experimental_strategy</th></tr>\n",
       "\t<tr><th scope=col>&lt;chr&gt;</th><th scope=col>&lt;chr&gt;</th><th scope=col>&lt;dbl&gt;</th><th scope=col>&lt;chr&gt;</th><th scope=col>&lt;lgl&gt;</th><th scope=col>&lt;lgl&gt;</th><th scope=col>&lt;lgl&gt;</th><th scope=col>&lt;lgl&gt;</th><th scope=col>&lt;lgl&gt;</th><th scope=col>&lt;lgl&gt;</th><th scope=col>⋯</th><th scope=col>&lt;lgl&gt;</th><th scope=col>&lt;chr&gt;</th><th scope=col>&lt;lgl&gt;</th><th scope=col>&lt;lgl&gt;</th><th scope=col>&lt;lgl&gt;</th><th scope=col>&lt;lgl&gt;</th><th scope=col>&lt;chr&gt;</th><th scope=col>&lt;lgl&gt;</th><th scope=col>&lt;lgl&gt;</th><th scope=col>&lt;chr&gt;</th></tr>\n",
       "</thead>\n",
       "<tbody>\n",
       "\t<tr><td>6053a7661f537262530d81d0</td><td>WU-L034-T1.WES.r1.fastq.gz     </td><td>2643723290</td><td>pdxnet/pdxnet-datapool</td><td>NA</td><td>NA</td><td>NA</td><td>NA</td><td>NA</td><td>NA</td><td>⋯</td><td>NA</td><td>NA        </td><td>NA</td><td>NA</td><td>NA</td><td>NA</td><td>NA        </td><td>NA</td><td>NA</td><td>WES</td></tr>\n",
       "\t<tr><td>6053a7661f537262530d81c2</td><td>WU-L034-T1.WES.r2.fastq.gz     </td><td>2746938346</td><td>pdxnet/pdxnet-datapool</td><td>NA</td><td>NA</td><td>NA</td><td>NA</td><td>NA</td><td>NA</td><td>⋯</td><td>NA</td><td>NA        </td><td>NA</td><td>NA</td><td>NA</td><td>NA</td><td>NA        </td><td>NA</td><td>NA</td><td>WES</td></tr>\n",
       "\t<tr><td>6053a7661f537262530d81c3</td><td>WU-L035-N1.WES.r1.fastq.gz     </td><td>1876415309</td><td>pdxnet/pdxnet-datapool</td><td>NA</td><td>NA</td><td>NA</td><td>NA</td><td>NA</td><td>NA</td><td>⋯</td><td>NA</td><td>NA        </td><td>NA</td><td>NA</td><td>NA</td><td>NA</td><td>NA        </td><td>NA</td><td>NA</td><td>WES</td></tr>\n",
       "\t<tr><td>6053a7661f537262530d81f9</td><td>WU-L035-N1.WES.r2.fastq.gz     </td><td>1886646726</td><td>pdxnet/pdxnet-datapool</td><td>NA</td><td>NA</td><td>NA</td><td>NA</td><td>NA</td><td>NA</td><td>⋯</td><td>NA</td><td>NA        </td><td>NA</td><td>NA</td><td>NA</td><td>NA</td><td>NA        </td><td>NA</td><td>NA</td><td>WES</td></tr>\n",
       "\t<tr><td>6053a7661f537262530d827e</td><td>WU-L035-T1-X1P0.WES.r1.fastq.gz</td><td> 837482288</td><td>pdxnet/pdxnet-datapool</td><td>NA</td><td>NA</td><td>NA</td><td>NA</td><td>NA</td><td>NA</td><td>⋯</td><td>NA</td><td>WU-L035-T1</td><td>NA</td><td>NA</td><td>NA</td><td>NA</td><td>WU-L035-T1</td><td>NA</td><td>NA</td><td>WES</td></tr>\n",
       "\t<tr><td>6053a7661f537262530d824a</td><td>WU-L035-T1-X1P0.WES.r2.fastq.gz</td><td> 859970829</td><td>pdxnet/pdxnet-datapool</td><td>NA</td><td>NA</td><td>NA</td><td>NA</td><td>NA</td><td>NA</td><td>⋯</td><td>NA</td><td>WU-L035-T1</td><td>NA</td><td>NA</td><td>NA</td><td>NA</td><td>WU-L035-T1</td><td>NA</td><td>NA</td><td>WES</td></tr>\n",
       "</tbody>\n",
       "</table>\n"
      ],
      "text/latex": [
       "A tibble: 6 × 66\n",
       "\\begin{tabular}{lllllllllllllllllllll}\n",
       " id & name & size & project & trimmed\\_read\\_count & p1\\_1 & Is FFPE & passage & sample\\_id & prop\\_ribosomal\\_bases & ⋯ & dbgap\\_upload & model\\_id & paired\\_end & \\_\\_inherit\\_\\_ & update\\_manifest & species & tumor\\_id & investigation & prop\\_20x\\_cov & experimental\\_strategy\\\\\n",
       " <chr> & <chr> & <dbl> & <chr> & <lgl> & <lgl> & <lgl> & <lgl> & <lgl> & <lgl> & ⋯ & <lgl> & <chr> & <lgl> & <lgl> & <lgl> & <lgl> & <chr> & <lgl> & <lgl> & <chr>\\\\\n",
       "\\hline\n",
       "\t 6053a7661f537262530d81d0 & WU-L034-T1.WES.r1.fastq.gz      & 2643723290 & pdxnet/pdxnet-datapool & NA & NA & NA & NA & NA & NA & ⋯ & NA & NA         & NA & NA & NA & NA & NA         & NA & NA & WES\\\\\n",
       "\t 6053a7661f537262530d81c2 & WU-L034-T1.WES.r2.fastq.gz      & 2746938346 & pdxnet/pdxnet-datapool & NA & NA & NA & NA & NA & NA & ⋯ & NA & NA         & NA & NA & NA & NA & NA         & NA & NA & WES\\\\\n",
       "\t 6053a7661f537262530d81c3 & WU-L035-N1.WES.r1.fastq.gz      & 1876415309 & pdxnet/pdxnet-datapool & NA & NA & NA & NA & NA & NA & ⋯ & NA & NA         & NA & NA & NA & NA & NA         & NA & NA & WES\\\\\n",
       "\t 6053a7661f537262530d81f9 & WU-L035-N1.WES.r2.fastq.gz      & 1886646726 & pdxnet/pdxnet-datapool & NA & NA & NA & NA & NA & NA & ⋯ & NA & NA         & NA & NA & NA & NA & NA         & NA & NA & WES\\\\\n",
       "\t 6053a7661f537262530d827e & WU-L035-T1-X1P0.WES.r1.fastq.gz &  837482288 & pdxnet/pdxnet-datapool & NA & NA & NA & NA & NA & NA & ⋯ & NA & WU-L035-T1 & NA & NA & NA & NA & WU-L035-T1 & NA & NA & WES\\\\\n",
       "\t 6053a7661f537262530d824a & WU-L035-T1-X1P0.WES.r2.fastq.gz &  859970829 & pdxnet/pdxnet-datapool & NA & NA & NA & NA & NA & NA & ⋯ & NA & WU-L035-T1 & NA & NA & NA & NA & WU-L035-T1 & NA & NA & WES\\\\\n",
       "\\end{tabular}\n"
      ],
      "text/markdown": [
       "\n",
       "A tibble: 6 × 66\n",
       "\n",
       "| id &lt;chr&gt; | name &lt;chr&gt; | size &lt;dbl&gt; | project &lt;chr&gt; | trimmed_read_count &lt;lgl&gt; | p1_1 &lt;lgl&gt; | Is FFPE &lt;lgl&gt; | passage &lt;lgl&gt; | sample_id &lt;lgl&gt; | prop_ribosomal_bases &lt;lgl&gt; | ⋯ ⋯ | dbgap_upload &lt;lgl&gt; | model_id &lt;chr&gt; | paired_end &lt;lgl&gt; | __inherit__ &lt;lgl&gt; | update_manifest &lt;lgl&gt; | species &lt;lgl&gt; | tumor_id &lt;chr&gt; | investigation &lt;lgl&gt; | prop_20x_cov &lt;lgl&gt; | experimental_strategy &lt;chr&gt; |\n",
       "|---|---|---|---|---|---|---|---|---|---|---|---|---|---|---|---|---|---|---|---|---|\n",
       "| 6053a7661f537262530d81d0 | WU-L034-T1.WES.r1.fastq.gz      | 2643723290 | pdxnet/pdxnet-datapool | NA | NA | NA | NA | NA | NA | ⋯ | NA | NA         | NA | NA | NA | NA | NA         | NA | NA | WES |\n",
       "| 6053a7661f537262530d81c2 | WU-L034-T1.WES.r2.fastq.gz      | 2746938346 | pdxnet/pdxnet-datapool | NA | NA | NA | NA | NA | NA | ⋯ | NA | NA         | NA | NA | NA | NA | NA         | NA | NA | WES |\n",
       "| 6053a7661f537262530d81c3 | WU-L035-N1.WES.r1.fastq.gz      | 1876415309 | pdxnet/pdxnet-datapool | NA | NA | NA | NA | NA | NA | ⋯ | NA | NA         | NA | NA | NA | NA | NA         | NA | NA | WES |\n",
       "| 6053a7661f537262530d81f9 | WU-L035-N1.WES.r2.fastq.gz      | 1886646726 | pdxnet/pdxnet-datapool | NA | NA | NA | NA | NA | NA | ⋯ | NA | NA         | NA | NA | NA | NA | NA         | NA | NA | WES |\n",
       "| 6053a7661f537262530d827e | WU-L035-T1-X1P0.WES.r1.fastq.gz |  837482288 | pdxnet/pdxnet-datapool | NA | NA | NA | NA | NA | NA | ⋯ | NA | WU-L035-T1 | NA | NA | NA | NA | WU-L035-T1 | NA | NA | WES |\n",
       "| 6053a7661f537262530d824a | WU-L035-T1-X1P0.WES.r2.fastq.gz |  859970829 | pdxnet/pdxnet-datapool | NA | NA | NA | NA | NA | NA | ⋯ | NA | WU-L035-T1 | NA | NA | NA | NA | WU-L035-T1 | NA | NA | WES |\n",
       "\n"
      ],
      "text/plain": [
       "  id                       name                            size      \n",
       "1 6053a7661f537262530d81d0 WU-L034-T1.WES.r1.fastq.gz      2643723290\n",
       "2 6053a7661f537262530d81c2 WU-L034-T1.WES.r2.fastq.gz      2746938346\n",
       "3 6053a7661f537262530d81c3 WU-L035-N1.WES.r1.fastq.gz      1876415309\n",
       "4 6053a7661f537262530d81f9 WU-L035-N1.WES.r2.fastq.gz      1886646726\n",
       "5 6053a7661f537262530d827e WU-L035-T1-X1P0.WES.r1.fastq.gz  837482288\n",
       "6 6053a7661f537262530d824a WU-L035-T1-X1P0.WES.r2.fastq.gz  859970829\n",
       "  project                trimmed_read_count p1_1 Is FFPE passage sample_id\n",
       "1 pdxnet/pdxnet-datapool NA                 NA   NA      NA      NA       \n",
       "2 pdxnet/pdxnet-datapool NA                 NA   NA      NA      NA       \n",
       "3 pdxnet/pdxnet-datapool NA                 NA   NA      NA      NA       \n",
       "4 pdxnet/pdxnet-datapool NA                 NA   NA      NA      NA       \n",
       "5 pdxnet/pdxnet-datapool NA                 NA   NA      NA      NA       \n",
       "6 pdxnet/pdxnet-datapool NA                 NA   NA      NA      NA       \n",
       "  prop_ribosomal_bases ⋯ dbgap_upload model_id   paired_end __inherit__\n",
       "1 NA                   ⋯ NA           NA         NA         NA         \n",
       "2 NA                   ⋯ NA           NA         NA         NA         \n",
       "3 NA                   ⋯ NA           NA         NA         NA         \n",
       "4 NA                   ⋯ NA           NA         NA         NA         \n",
       "5 NA                   ⋯ NA           WU-L035-T1 NA         NA         \n",
       "6 NA                   ⋯ NA           WU-L035-T1 NA         NA         \n",
       "  update_manifest species tumor_id   investigation prop_20x_cov\n",
       "1 NA              NA      NA         NA            NA          \n",
       "2 NA              NA      NA         NA            NA          \n",
       "3 NA              NA      NA         NA            NA          \n",
       "4 NA              NA      NA         NA            NA          \n",
       "5 NA              NA      WU-L035-T1 NA            NA          \n",
       "6 NA              NA      WU-L035-T1 NA            NA          \n",
       "  experimental_strategy\n",
       "1 WES                  \n",
       "2 WES                  \n",
       "3 WES                  \n",
       "4 WES                  \n",
       "5 WES                  \n",
       "6 WES                  "
      ]
     },
     "metadata": {},
     "output_type": "display_data"
    }
   ],
   "source": [
    "# Files not already in the datapool have not been analyzed\n",
    "# Create a separate list\n",
    "\n",
    "new_wustl_files <- cds_wustl_files %>% filter(!(name %in% existing_wustl_files$name))\n",
    "\n",
    "nrow(new_wustl_files)\n",
    "head(new_wustl_files)"
   ]
  },
  {
   "cell_type": "markdown",
   "id": "e51aba7c-8ba5-4872-9070-2c133beaa2d5",
   "metadata": {},
   "source": [
    "### Move Files Which Haven't Been Analyzed Yet\n",
    "To avoid chaos when it comes to file organization."
   ]
  },
  {
   "cell_type": "code",
   "execution_count": 10,
   "id": "757608c6-f2b2-4fb9-962e-df3d11b080b0",
   "metadata": {},
   "outputs": [
    {
     "name": "stderr",
     "output_type": "stream",
     "text": [
      "Authenticating with user configuration file: ~/.sevenbridges/credentials\n",
      "\n",
      "Authenticating with user profile: cgc\n",
      "\n"
     ]
    }
   ],
   "source": [
    "# Connect to the platform\n",
    "\n",
    "sbg_auth <- Auth(from = 'file', profile_name = 'cgc')\n",
    "sbg_proj <- sbg_auth$project(id = 'pdxnet/pdxnet-datapool')"
   ]
  },
  {
   "cell_type": "code",
   "execution_count": 27,
   "id": "cc426ce2-f6ac-4273-ad21-d02304182c47",
   "metadata": {},
   "outputs": [
    {
     "data": {
      "text/plain": [
       "== Files ==\n",
       "id : 62153e7819807d361ecf5e70\n",
       "name : analysis_incomplete\n",
       "project : pdxnet/pdxnet-datapool\n",
       "parent : 620d1ca68b04ac66e6c00d5b\n",
       "type : folder"
      ]
     },
     "metadata": {},
     "output_type": "display_data"
    },
    {
     "data": {
      "text/html": [
       "'62153e7819807d361ecf5e70'"
      ],
      "text/latex": [
       "'62153e7819807d361ecf5e70'"
      ],
      "text/markdown": [
       "'62153e7819807d361ecf5e70'"
      ],
      "text/plain": [
       "[1] \"62153e7819807d361ecf5e70\""
      ]
     },
     "metadata": {},
     "output_type": "display_data"
    }
   ],
   "source": [
    "# Get the folder object for the analysis_incomplete folder\n",
    "\n",
    "analysis_incomplete_folder <- sbg_proj$get_root_folder()$list_folder_contents(complete = TRUE)[[5]]$list_folder_contents(complete = TRUE)[[6]]$list_folder_contents(complete = TRUE)[[1]]\n",
    "\n",
    "analysis_incomplete_folder\n",
    "analysis_incomplete_folder$id"
   ]
  },
  {
   "cell_type": "code",
   "execution_count": 30,
   "id": "6bca2f99-9a36-40ee-8659-64df4c561435",
   "metadata": {
    "collapsed": true,
    "jupyter": {
     "outputs_hidden": true
    },
    "tags": []
   },
   "outputs": [
    {
     "data": {
      "text/html": [
       "<dl>\n",
       "\t<dt>$contributor</dt>\n",
       "\t\t<dd>'WUSTL'</dd>\n",
       "\t<dt>$patient_id</dt>\n",
       "\t\t<dd>'WU-L034'</dd>\n",
       "\t<dt>$case_id</dt>\n",
       "\t\t<dd>'WU-L034'</dd>\n",
       "\t<dt>$cds_status</dt>\n",
       "\t\t<dd>'uploaded'</dd>\n",
       "\t<dt>$experimental_strategy</dt>\n",
       "\t\t<dd>'WES'</dd>\n",
       "\t<dt>$sample_type</dt>\n",
       "\t\t<dd>'Human_tumor'</dd>\n",
       "\t<dt>$dbgap_accession</dt>\n",
       "\t\t<dd>'phs002432.v1.p1'</dd>\n",
       "</dl>\n"
      ],
      "text/latex": [
       "\\begin{description}\n",
       "\\item[\\$contributor] 'WUSTL'\n",
       "\\item[\\$patient\\_id] 'WU-L034'\n",
       "\\item[\\$case\\_id] 'WU-L034'\n",
       "\\item[\\$cds\\_status] 'uploaded'\n",
       "\\item[\\$experimental\\_strategy] 'WES'\n",
       "\\item[\\$sample\\_type] 'Human\\_tumor'\n",
       "\\item[\\$dbgap\\_accession] 'phs002432.v1.p1'\n",
       "\\end{description}\n"
      ],
      "text/markdown": [
       "$contributor\n",
       ":   'WUSTL'\n",
       "$patient_id\n",
       ":   'WU-L034'\n",
       "$case_id\n",
       ":   'WU-L034'\n",
       "$cds_status\n",
       ":   'uploaded'\n",
       "$experimental_strategy\n",
       ":   'WES'\n",
       "$sample_type\n",
       ":   'Human_tumor'\n",
       "$dbgap_accession\n",
       ":   'phs002432.v1.p1'\n",
       "\n",
       "\n"
      ],
      "text/plain": [
       "$contributor\n",
       "[1] \"WUSTL\"\n",
       "\n",
       "$patient_id\n",
       "[1] \"WU-L034\"\n",
       "\n",
       "$case_id\n",
       "[1] \"WU-L034\"\n",
       "\n",
       "$cds_status\n",
       "[1] \"uploaded\"\n",
       "\n",
       "$experimental_strategy\n",
       "[1] \"WES\"\n",
       "\n",
       "$sample_type\n",
       "[1] \"Human_tumor\"\n",
       "\n",
       "$dbgap_accession\n",
       "[1] \"phs002432.v1.p1\"\n",
       "\n",
       "attr(,\"response\")\n",
       "Response [https://cgc-api.sbgenomics.com/v2/files/6053a7661f537262530d81d0/metadata]\n",
       "  Date: 2022-02-22 21:22\n",
       "  Status: 200\n",
       "  Content-Type: application/json\n",
       "  Size: 184 B\n"
      ]
     },
     "metadata": {},
     "output_type": "display_data"
    },
    {
     "data": {
      "text/plain": [
       "== Files ==\n",
       "id : 6053a7661f537262530d81d0\n",
       "name : WU-L034-T1.WES.r1.fastq.gz\n",
       "size : 2643723290\n",
       "project : pdxnet/pdxnet-datapool\n",
       "created_on : 2021-03-18T19:17:58Z\n",
       "modified_on : 2022-02-22T21:22:43Z\n",
       "storage:\n",
       "  type : PLATFORM\n",
       "  hosted_on_locations : 1 items\n",
       "     - aws:us-east-1\n",
       "tags:\n",
       "   - phs002305.v1.p1\n",
       "   - WES\n",
       "   - 2020_10\n",
       "   - WUSTL\n",
       "   - CDS_DONE\n",
       "metadata:\n",
       "  contributor : WUSTL\n",
       "  patient_id : WU-L034\n",
       "  case_id : WU-L034\n",
       "  cds_status : uploaded\n",
       "  experimental_strategy : WES\n",
       "  sample_type : Human_tumor\n",
       "  dbgap_accession : phs002432.v1.p1\n",
       "parent : 62153e7819807d361ecf5e70\n",
       "type : file"
      ]
     },
     "metadata": {},
     "output_type": "display_data"
    },
    {
     "data": {
      "text/plain": [
       "== Files ==\n",
       "id : 6053a7661f537262530d81d0\n",
       "name : WU-L034-T1.WES.r1.fastq.gz\n",
       "size : 2643723290\n",
       "project : pdxnet/pdxnet-datapool\n",
       "created_on : 2021-03-18T19:17:58Z\n",
       "modified_on : 2022-02-22T21:22:43Z\n",
       "storage:\n",
       "  type : PLATFORM\n",
       "  hosted_on_locations : 1 items\n",
       "     - aws:us-east-1\n",
       "tags:\n",
       "   - phs002305.v1.p1\n",
       "   - WES\n",
       "   - 2020_10\n",
       "   - WUSTL\n",
       "   - CDS_DONE\n",
       "metadata:\n",
       "  contributor : WUSTL\n",
       "  patient_id : WU-L034\n",
       "  case_id : WU-L034\n",
       "  cds_status : uploaded\n",
       "  experimental_strategy : WES\n",
       "  sample_type : Human_tumor\n",
       "  dbgap_accession : phs002432.v1.p1\n",
       "parent : 62153e7819807d361ecf5e70\n",
       "type : file"
      ]
     },
     "metadata": {},
     "output_type": "display_data"
    },
    {
     "data": {
      "text/plain": [
       "== Files ==\n",
       "id : 62153e7819807d361ecf5e70\n",
       "name : analysis_incomplete\n",
       "project : pdxnet/pdxnet-datapool\n",
       "created_on : 2022-02-22T19:50:16Z\n",
       "modified_on : 2022-02-22T19:50:16Z\n",
       "parent : 620d1ca68b04ac66e6c00d5b\n",
       "type : folder"
      ]
     },
     "metadata": {},
     "output_type": "display_data"
    }
   ],
   "source": [
    "# Test folder operations with the first file\n",
    "\n",
    "# Test setting metadata\n",
    "sbg_proj$file(id = new_wustl_files$id[1])$set_meta(cds_status = 'uploaded', dbgap_accession = 'phs002432.v1.p1')\n",
    "\n",
    "# Test moving file\n",
    "sbg_proj$file(id = new_wustl_files$id[1])$move_to_folder(analysis_incomplete_folder$id)\n",
    "\n",
    "# Get file info\n",
    "sbg_proj$file(id = new_wustl_files$id[1])\n",
    "sbg_proj$file(id = new_wustl_files$id[1])$get_parent_folder()"
   ]
  },
  {
   "cell_type": "code",
   "execution_count": 32,
   "id": "d49d49ef-c64a-4471-8a5b-26f608fc7920",
   "metadata": {},
   "outputs": [],
   "source": [
    "# Loop to move the files which haven't been analyzed yet and set metadata fields\n",
    "\n",
    "for (i in seq_along(new_wustl_files$id)) {\n",
    "    \n",
    "    # Pause for 5 mins every 200 iterations to avoid API call limits\n",
    "    if (i %% 200 == 0) {\n",
    "        Sys.sleep(300)\n",
    "    }\n",
    "    \n",
    "    # Set metadata and move files\n",
    "    sbg_proj$file(id = new_wustl_files$id[i])$set_meta(cds_status = 'uploaded', dbgap_accession = 'phs002432.v1.p1')\n",
    "    sbg_proj$file(id = new_wustl_files$id[i])$move_to_folder(analysis_incomplete_folder$id)\n",
    "}"
   ]
  },
  {
   "cell_type": "markdown",
   "id": "5e11e1ef-6ae9-4212-9ac4-77ad38429f9f",
   "metadata": {},
   "source": [
    "All files which were uploaded to the datapool prior to cds and dbgap submissions are now in a separate folder to indicate that they haven't been analyzed."
   ]
  },
  {
   "cell_type": "markdown",
   "id": "e8a3e283-4150-429c-8bc6-f4427b5f57b6",
   "metadata": {},
   "source": [
    "### Add metadata to all cds-submitted files which already were on the CGC"
   ]
  },
  {
   "cell_type": "code",
   "execution_count": 36,
   "id": "d60a76fd-e9c2-438f-83ff-204c21d0ea88",
   "metadata": {},
   "outputs": [
    {
     "data": {
      "text/html": [
       "372"
      ],
      "text/latex": [
       "372"
      ],
      "text/markdown": [
       "372"
      ],
      "text/plain": [
       "[1] 372"
      ]
     },
     "metadata": {},
     "output_type": "display_data"
    },
    {
     "data": {
      "text/html": [
       "<table class=\"dataframe\">\n",
       "<caption>A tibble: 6 × 66</caption>\n",
       "<thead>\n",
       "\t<tr><th scope=col>id</th><th scope=col>name</th><th scope=col>size</th><th scope=col>project</th><th scope=col>trimmed_read_count</th><th scope=col>p1_1</th><th scope=col>Is FFPE</th><th scope=col>passage</th><th scope=col>sample_id</th><th scope=col>prop_ribosomal_bases</th><th scope=col>⋯</th><th scope=col>dbgap_upload</th><th scope=col>model_id</th><th scope=col>paired_end</th><th scope=col>__inherit__</th><th scope=col>update_manifest</th><th scope=col>species</th><th scope=col>tumor_id</th><th scope=col>investigation</th><th scope=col>prop_20x_cov</th><th scope=col>experimental_strategy</th></tr>\n",
       "\t<tr><th scope=col>&lt;chr&gt;</th><th scope=col>&lt;chr&gt;</th><th scope=col>&lt;dbl&gt;</th><th scope=col>&lt;chr&gt;</th><th scope=col>&lt;lgl&gt;</th><th scope=col>&lt;lgl&gt;</th><th scope=col>&lt;lgl&gt;</th><th scope=col>&lt;chr&gt;</th><th scope=col>&lt;chr&gt;</th><th scope=col>&lt;lgl&gt;</th><th scope=col>⋯</th><th scope=col>&lt;lgl&gt;</th><th scope=col>&lt;lgl&gt;</th><th scope=col>&lt;dbl&gt;</th><th scope=col>&lt;lgl&gt;</th><th scope=col>&lt;lgl&gt;</th><th scope=col>&lt;lgl&gt;</th><th scope=col>&lt;lgl&gt;</th><th scope=col>&lt;lgl&gt;</th><th scope=col>&lt;lgl&gt;</th><th scope=col>&lt;chr&gt;</th></tr>\n",
       "</thead>\n",
       "<tbody>\n",
       "\t<tr><td>5d60005de4b09cae7680875a</td><td>WU-0056-T1-X1P2.WES.r1.fastq.gz</td><td>2126007246</td><td>pdxnet/pdxnet-datapool</td><td>NA</td><td>NA</td><td>NA</td><td>P2</td><td>WU-0056-T1-X1P2</td><td>NA</td><td>⋯</td><td>NA</td><td>NA</td><td> 1</td><td>NA</td><td>NA</td><td>NA</td><td>NA</td><td>NA</td><td>NA</td><td>WES</td></tr>\n",
       "\t<tr><td>5d60005de4b09cae76808740</td><td>WU-0056-T1-X1P2.WES.r2.fastq.gz</td><td>2109115670</td><td>pdxnet/pdxnet-datapool</td><td>NA</td><td>NA</td><td>NA</td><td>P2</td><td>WU-0056-T1-X1P2</td><td>NA</td><td>⋯</td><td>NA</td><td>NA</td><td> 2</td><td>NA</td><td>NA</td><td>NA</td><td>NA</td><td>NA</td><td>NA</td><td>WES</td></tr>\n",
       "\t<tr><td>5d60005de4b09cae76808753</td><td>WU-0059-T1-X1P1.WES.r1.fastq.gz</td><td>2534091484</td><td>pdxnet/pdxnet-datapool</td><td>NA</td><td>NA</td><td>NA</td><td>P1</td><td>WU-0059-T1-X1P1</td><td>NA</td><td>⋯</td><td>NA</td><td>NA</td><td> 1</td><td>NA</td><td>NA</td><td>NA</td><td>NA</td><td>NA</td><td>NA</td><td>WES</td></tr>\n",
       "\t<tr><td>5d60005de4b09cae76808755</td><td>WU-0059-T1-X1P1.WES.r2.fastq.gz</td><td>2531199502</td><td>pdxnet/pdxnet-datapool</td><td>NA</td><td>NA</td><td>NA</td><td>P1</td><td>WU-0059-T1-X1P1</td><td>NA</td><td>⋯</td><td>NA</td><td>NA</td><td> 2</td><td>NA</td><td>NA</td><td>NA</td><td>NA</td><td>NA</td><td>NA</td><td>WES</td></tr>\n",
       "\t<tr><td>5f4efaf6e4b0bf4a931cc751</td><td>WU-0059-T1-X1P2.WES.r1.fastq.gz</td><td>3176500221</td><td>pdxnet/pdxnet-datapool</td><td>NA</td><td>NA</td><td>NA</td><td>NA</td><td>NA             </td><td>NA</td><td>⋯</td><td>NA</td><td>NA</td><td>NA</td><td>NA</td><td>NA</td><td>NA</td><td>NA</td><td>NA</td><td>NA</td><td>WES</td></tr>\n",
       "\t<tr><td>5f4efaf6e4b0bf4a931cc741</td><td>WU-0059-T1-X1P2.WES.r2.fastq.gz</td><td>3259841516</td><td>pdxnet/pdxnet-datapool</td><td>NA</td><td>NA</td><td>NA</td><td>NA</td><td>NA             </td><td>NA</td><td>⋯</td><td>NA</td><td>NA</td><td>NA</td><td>NA</td><td>NA</td><td>NA</td><td>NA</td><td>NA</td><td>NA</td><td>WES</td></tr>\n",
       "</tbody>\n",
       "</table>\n"
      ],
      "text/latex": [
       "A tibble: 6 × 66\n",
       "\\begin{tabular}{lllllllllllllllllllll}\n",
       " id & name & size & project & trimmed\\_read\\_count & p1\\_1 & Is FFPE & passage & sample\\_id & prop\\_ribosomal\\_bases & ⋯ & dbgap\\_upload & model\\_id & paired\\_end & \\_\\_inherit\\_\\_ & update\\_manifest & species & tumor\\_id & investigation & prop\\_20x\\_cov & experimental\\_strategy\\\\\n",
       " <chr> & <chr> & <dbl> & <chr> & <lgl> & <lgl> & <lgl> & <chr> & <chr> & <lgl> & ⋯ & <lgl> & <lgl> & <dbl> & <lgl> & <lgl> & <lgl> & <lgl> & <lgl> & <lgl> & <chr>\\\\\n",
       "\\hline\n",
       "\t 5d60005de4b09cae7680875a & WU-0056-T1-X1P2.WES.r1.fastq.gz & 2126007246 & pdxnet/pdxnet-datapool & NA & NA & NA & P2 & WU-0056-T1-X1P2 & NA & ⋯ & NA & NA &  1 & NA & NA & NA & NA & NA & NA & WES\\\\\n",
       "\t 5d60005de4b09cae76808740 & WU-0056-T1-X1P2.WES.r2.fastq.gz & 2109115670 & pdxnet/pdxnet-datapool & NA & NA & NA & P2 & WU-0056-T1-X1P2 & NA & ⋯ & NA & NA &  2 & NA & NA & NA & NA & NA & NA & WES\\\\\n",
       "\t 5d60005de4b09cae76808753 & WU-0059-T1-X1P1.WES.r1.fastq.gz & 2534091484 & pdxnet/pdxnet-datapool & NA & NA & NA & P1 & WU-0059-T1-X1P1 & NA & ⋯ & NA & NA &  1 & NA & NA & NA & NA & NA & NA & WES\\\\\n",
       "\t 5d60005de4b09cae76808755 & WU-0059-T1-X1P1.WES.r2.fastq.gz & 2531199502 & pdxnet/pdxnet-datapool & NA & NA & NA & P1 & WU-0059-T1-X1P1 & NA & ⋯ & NA & NA &  2 & NA & NA & NA & NA & NA & NA & WES\\\\\n",
       "\t 5f4efaf6e4b0bf4a931cc751 & WU-0059-T1-X1P2.WES.r1.fastq.gz & 3176500221 & pdxnet/pdxnet-datapool & NA & NA & NA & NA & NA              & NA & ⋯ & NA & NA & NA & NA & NA & NA & NA & NA & NA & WES\\\\\n",
       "\t 5f4efaf6e4b0bf4a931cc741 & WU-0059-T1-X1P2.WES.r2.fastq.gz & 3259841516 & pdxnet/pdxnet-datapool & NA & NA & NA & NA & NA              & NA & ⋯ & NA & NA & NA & NA & NA & NA & NA & NA & NA & WES\\\\\n",
       "\\end{tabular}\n"
      ],
      "text/markdown": [
       "\n",
       "A tibble: 6 × 66\n",
       "\n",
       "| id &lt;chr&gt; | name &lt;chr&gt; | size &lt;dbl&gt; | project &lt;chr&gt; | trimmed_read_count &lt;lgl&gt; | p1_1 &lt;lgl&gt; | Is FFPE &lt;lgl&gt; | passage &lt;chr&gt; | sample_id &lt;chr&gt; | prop_ribosomal_bases &lt;lgl&gt; | ⋯ ⋯ | dbgap_upload &lt;lgl&gt; | model_id &lt;lgl&gt; | paired_end &lt;dbl&gt; | __inherit__ &lt;lgl&gt; | update_manifest &lt;lgl&gt; | species &lt;lgl&gt; | tumor_id &lt;lgl&gt; | investigation &lt;lgl&gt; | prop_20x_cov &lt;lgl&gt; | experimental_strategy &lt;chr&gt; |\n",
       "|---|---|---|---|---|---|---|---|---|---|---|---|---|---|---|---|---|---|---|---|---|\n",
       "| 5d60005de4b09cae7680875a | WU-0056-T1-X1P2.WES.r1.fastq.gz | 2126007246 | pdxnet/pdxnet-datapool | NA | NA | NA | P2 | WU-0056-T1-X1P2 | NA | ⋯ | NA | NA |  1 | NA | NA | NA | NA | NA | NA | WES |\n",
       "| 5d60005de4b09cae76808740 | WU-0056-T1-X1P2.WES.r2.fastq.gz | 2109115670 | pdxnet/pdxnet-datapool | NA | NA | NA | P2 | WU-0056-T1-X1P2 | NA | ⋯ | NA | NA |  2 | NA | NA | NA | NA | NA | NA | WES |\n",
       "| 5d60005de4b09cae76808753 | WU-0059-T1-X1P1.WES.r1.fastq.gz | 2534091484 | pdxnet/pdxnet-datapool | NA | NA | NA | P1 | WU-0059-T1-X1P1 | NA | ⋯ | NA | NA |  1 | NA | NA | NA | NA | NA | NA | WES |\n",
       "| 5d60005de4b09cae76808755 | WU-0059-T1-X1P1.WES.r2.fastq.gz | 2531199502 | pdxnet/pdxnet-datapool | NA | NA | NA | P1 | WU-0059-T1-X1P1 | NA | ⋯ | NA | NA |  2 | NA | NA | NA | NA | NA | NA | WES |\n",
       "| 5f4efaf6e4b0bf4a931cc751 | WU-0059-T1-X1P2.WES.r1.fastq.gz | 3176500221 | pdxnet/pdxnet-datapool | NA | NA | NA | NA | NA              | NA | ⋯ | NA | NA | NA | NA | NA | NA | NA | NA | NA | WES |\n",
       "| 5f4efaf6e4b0bf4a931cc741 | WU-0059-T1-X1P2.WES.r2.fastq.gz | 3259841516 | pdxnet/pdxnet-datapool | NA | NA | NA | NA | NA              | NA | ⋯ | NA | NA | NA | NA | NA | NA | NA | NA | NA | WES |\n",
       "\n"
      ],
      "text/plain": [
       "  id                       name                            size      \n",
       "1 5d60005de4b09cae7680875a WU-0056-T1-X1P2.WES.r1.fastq.gz 2126007246\n",
       "2 5d60005de4b09cae76808740 WU-0056-T1-X1P2.WES.r2.fastq.gz 2109115670\n",
       "3 5d60005de4b09cae76808753 WU-0059-T1-X1P1.WES.r1.fastq.gz 2534091484\n",
       "4 5d60005de4b09cae76808755 WU-0059-T1-X1P1.WES.r2.fastq.gz 2531199502\n",
       "5 5f4efaf6e4b0bf4a931cc751 WU-0059-T1-X1P2.WES.r1.fastq.gz 3176500221\n",
       "6 5f4efaf6e4b0bf4a931cc741 WU-0059-T1-X1P2.WES.r2.fastq.gz 3259841516\n",
       "  project                trimmed_read_count p1_1 Is FFPE passage\n",
       "1 pdxnet/pdxnet-datapool NA                 NA   NA      P2     \n",
       "2 pdxnet/pdxnet-datapool NA                 NA   NA      P2     \n",
       "3 pdxnet/pdxnet-datapool NA                 NA   NA      P1     \n",
       "4 pdxnet/pdxnet-datapool NA                 NA   NA      P1     \n",
       "5 pdxnet/pdxnet-datapool NA                 NA   NA      NA     \n",
       "6 pdxnet/pdxnet-datapool NA                 NA   NA      NA     \n",
       "  sample_id       prop_ribosomal_bases ⋯ dbgap_upload model_id paired_end\n",
       "1 WU-0056-T1-X1P2 NA                   ⋯ NA           NA        1        \n",
       "2 WU-0056-T1-X1P2 NA                   ⋯ NA           NA        2        \n",
       "3 WU-0059-T1-X1P1 NA                   ⋯ NA           NA        1        \n",
       "4 WU-0059-T1-X1P1 NA                   ⋯ NA           NA        2        \n",
       "5 NA              NA                   ⋯ NA           NA       NA        \n",
       "6 NA              NA                   ⋯ NA           NA       NA        \n",
       "  __inherit__ update_manifest species tumor_id investigation prop_20x_cov\n",
       "1 NA          NA              NA      NA       NA            NA          \n",
       "2 NA          NA              NA      NA       NA            NA          \n",
       "3 NA          NA              NA      NA       NA            NA          \n",
       "4 NA          NA              NA      NA       NA            NA          \n",
       "5 NA          NA              NA      NA       NA            NA          \n",
       "6 NA          NA              NA      NA       NA            NA          \n",
       "  experimental_strategy\n",
       "1 WES                  \n",
       "2 WES                  \n",
       "3 WES                  \n",
       "4 WES                  \n",
       "5 WES                  \n",
       "6 WES                  "
      ]
     },
     "metadata": {},
     "output_type": "display_data"
    }
   ],
   "source": [
    "# Filter the manifest for files which were submitted to CDS\n",
    "\n",
    "existing_files_cds_uploaded <- existing_wustl_files %>% filter(name %in% cds_wustl_files$name)\n",
    "\n",
    "nrow(existing_files_cds_uploaded)\n",
    "head(existing_files_cds_uploaded)"
   ]
  },
  {
   "cell_type": "code",
   "execution_count": 37,
   "id": "8efc125d-6038-44dc-9679-e1d2fcccbabb",
   "metadata": {},
   "outputs": [],
   "source": [
    "# Add the metadata to the files in-place\n",
    "\n",
    "for (i in seq_along(existing_files_cds_uploaded$id)) {\n",
    "    \n",
    "    # Pause for 5 mins every 200 iterations to avoid API call limits\n",
    "    if (i %% 200 == 0) {\n",
    "        Sys.sleep(300)\n",
    "    }\n",
    "    \n",
    "    # Set metadata and move files\n",
    "    sbg_proj$file(id = existing_files_cds_uploaded$id[i])$set_meta(cds_status = 'uploaded', dbgap_accession = 'phs002432.v1.p1')\n",
    "}"
   ]
  },
  {
   "cell_type": "markdown",
   "id": "71cec4c5-2162-4ca2-90b1-57ef23774868",
   "metadata": {},
   "source": [
    "The copy of those files still in the cds upload folder on the CGC can now be removed through the GUI. There are 186 RNAseq and 186 WES fastq files (total = 372), which all match the files that were elsewhere on the CGC, as shown above."
   ]
  }
 ],
 "metadata": {
  "kernelspec": {
   "display_name": "R",
   "language": "R",
   "name": "ir"
  },
  "language_info": {
   "codemirror_mode": "r",
   "file_extension": ".r",
   "mimetype": "text/x-r-source",
   "name": "R",
   "pygments_lexer": "r",
   "version": "4.1.2"
  }
 },
 "nbformat": 4,
 "nbformat_minor": 5
}
