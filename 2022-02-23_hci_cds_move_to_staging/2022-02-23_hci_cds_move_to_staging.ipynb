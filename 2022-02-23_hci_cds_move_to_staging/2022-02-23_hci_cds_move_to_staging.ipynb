{
 "cells": [
  {
   "cell_type": "markdown",
   "id": "8893b66c-adc6-40a7-b5e6-3a44e807d709",
   "metadata": {},
   "source": [
    "# Move HCI's CDS Files To a Temporary Staging Folder\n",
    "## Date: 2022-02-23\n",
    "## Author: Jeffrey Grover\n",
    "**Purpose:** I have the full list of HCI files to send to the CDS, as well as credentials for the CDS bucket. I can put these files in a temporary staging area in order to more easily facilitate the upload. After this, the files will be removed."
   ]
  },
  {
   "cell_type": "markdown",
   "id": "02f81795-3b06-43e0-9187-e28541b836ed",
   "metadata": {},
   "source": [
    "### Load libraries"
   ]
  },
  {
   "cell_type": "code",
   "execution_count": 1,
   "id": "3d80ce81-286a-408b-ab69-a72afe6df4db",
   "metadata": {},
   "outputs": [
    {
     "name": "stderr",
     "output_type": "stream",
     "text": [
      "── \u001b[1mAttaching packages\u001b[22m ─────────────────────────────────────────────────────────────────────────────────────────────────────────────────────────────────────────────────────────────────────────────────────────────────── tidyverse 1.3.1 ──\n",
      "\n",
      "\u001b[32m✔\u001b[39m \u001b[34mggplot2\u001b[39m 3.3.5     \u001b[32m✔\u001b[39m \u001b[34mpurrr  \u001b[39m 0.3.4\n",
      "\u001b[32m✔\u001b[39m \u001b[34mtibble \u001b[39m 3.1.6     \u001b[32m✔\u001b[39m \u001b[34mdplyr  \u001b[39m 1.0.7\n",
      "\u001b[32m✔\u001b[39m \u001b[34mtidyr  \u001b[39m 1.1.4     \u001b[32m✔\u001b[39m \u001b[34mstringr\u001b[39m 1.4.0\n",
      "\u001b[32m✔\u001b[39m \u001b[34mreadr  \u001b[39m 2.1.1     \u001b[32m✔\u001b[39m \u001b[34mforcats\u001b[39m 0.5.1\n",
      "\n",
      "── \u001b[1mConflicts\u001b[22m ────────────────────────────────────────────────────────────────────────────────────────────────────────────────────────────────────────────────────────────────────────────────────────────────────── tidyverse_conflicts() ──\n",
      "\u001b[31m✖\u001b[39m \u001b[34mdplyr\u001b[39m::\u001b[32mfilter()\u001b[39m masks \u001b[34mstats\u001b[39m::filter()\n",
      "\u001b[31m✖\u001b[39m \u001b[34mdplyr\u001b[39m::\u001b[32mlag()\u001b[39m    masks \u001b[34mstats\u001b[39m::lag()\n",
      "\n"
     ]
    }
   ],
   "source": [
    "library(tidyverse)\n",
    "library(sevenbridges)"
   ]
  },
  {
   "cell_type": "markdown",
   "id": "9384460a-5543-45c4-aefe-a9abe1ee0a4f",
   "metadata": {},
   "source": [
    "### Load the CDS Files and CGC Manifest\n",
    "To get the file IDs so I can copy them to the staging folder."
   ]
  },
  {
   "cell_type": "code",
   "execution_count": 2,
   "id": "9a82e014-64b3-44b7-9673-77d459d79f92",
   "metadata": {},
   "outputs": [
    {
     "name": "stderr",
     "output_type": "stream",
     "text": [
      "New names:\n",
      "* `` -> ...15\n",
      "* `` -> ...16\n",
      "\n",
      "\u001b[1mRows: \u001b[22m\u001b[34m281\u001b[39m \u001b[1mColumns: \u001b[22m\u001b[34m16\u001b[39m\n",
      "\n",
      "\u001b[36m──\u001b[39m \u001b[1mColumn specification\u001b[22m \u001b[36m────────────────────────────────────────────────────────────────────────────────────────────────────────────────────────────────────────────────────────────────────────────────────────────────────────────────────\u001b[39m\n",
      "\u001b[1mDelimiter:\u001b[22m \",\"\n",
      "\u001b[31mchr\u001b[39m (5): id, SAMPLE_ID, FILENAME, ALT_SAMLE_ID, SUBJECT_ID\n",
      "\u001b[32mdbl\u001b[39m (8): DATA_FROMAT, SAMPLE_TYPE, PASSAGE, EXPERIMENTAL_STRATEGY, PAIRED_EN...\n",
      "\u001b[33mlgl\u001b[39m (3): FILESIZE, CHECKSUM, ...15\n",
      "\n",
      "\n",
      "\u001b[36mℹ\u001b[39m Use \u001b[30m\u001b[47m\u001b[30m\u001b[47m`spec()`\u001b[47m\u001b[30m\u001b[49m\u001b[39m to retrieve the full column specification for this data.\n",
      "\u001b[36mℹ\u001b[39m Specify the column types or set \u001b[30m\u001b[47m\u001b[30m\u001b[47m`show_col_types = FALSE`\u001b[47m\u001b[30m\u001b[49m\u001b[39m to quiet this message.\n",
      "\n"
     ]
    },
    {
     "data": {
      "text/html": [
       "281"
      ],
      "text/latex": [
       "281"
      ],
      "text/markdown": [
       "281"
      ],
      "text/plain": [
       "[1] 281"
      ]
     },
     "metadata": {},
     "output_type": "display_data"
    }
   ],
   "source": [
    "# Load the dbgap metadata for the file list\n",
    "\n",
    "cds_files <- read_csv('HCI_dbGaP_SampleMapping_SampleAttributes_DS_v1.csv')$FILENAME\n",
    "\n",
    "length(cds_files)"
   ]
  },
  {
   "cell_type": "code",
   "execution_count": 5,
   "id": "d1517e1b-f9f7-4221-b00d-710e5b9cf8f8",
   "metadata": {},
   "outputs": [
    {
     "name": "stderr",
     "output_type": "stream",
     "text": [
      "\u001b[1mRows: \u001b[22m\u001b[34m816\u001b[39m \u001b[1mColumns: \u001b[22m\u001b[34m66\u001b[39m\n",
      "\n",
      "\u001b[36m──\u001b[39m \u001b[1mColumn specification\u001b[22m \u001b[36m────────────────────────────────────────────────────────────────────────────────────────────────────────────────────────────────────────────────────────────────────────────────────────────────────────────────────\u001b[39m\n",
      "\u001b[1mDelimiter:\u001b[22m \",\"\n",
      "\u001b[31mchr\u001b[39m (21): id, name, project, sample_id, sample_type, library_prep_kit, Restr...\n",
      "\u001b[32mdbl\u001b[39m  (3): size, platform_unit_id, paired_end\n",
      "\u001b[33mlgl\u001b[39m (42): trimmed_read_count, p1_1, Is FFPE, passage, prop_ribosomal_bases, ...\n",
      "\n",
      "\n",
      "\u001b[36mℹ\u001b[39m Use \u001b[30m\u001b[47m\u001b[30m\u001b[47m`spec()`\u001b[47m\u001b[30m\u001b[49m\u001b[39m to retrieve the full column specification for this data.\n",
      "\u001b[36mℹ\u001b[39m Specify the column types or set \u001b[30m\u001b[47m\u001b[30m\u001b[47m`show_col_types = FALSE`\u001b[47m\u001b[30m\u001b[49m\u001b[39m to quiet this message.\n",
      "\n"
     ]
    },
    {
     "data": {
      "text/html": [
       "<table class=\"dataframe\">\n",
       "<caption>A tibble: 6 × 2</caption>\n",
       "<thead>\n",
       "\t<tr><th scope=col>id</th><th scope=col>name</th></tr>\n",
       "\t<tr><th scope=col>&lt;chr&gt;</th><th scope=col>&lt;chr&gt;</th></tr>\n",
       "</thead>\n",
       "<tbody>\n",
       "\t<tr><td>615ddbb165de4868125988dc</td><td>19120X19_210830_A00421_0362_BHGLM2DSX2_S19_L002_R1_001.fastq.gz</td></tr>\n",
       "\t<tr><td>615ddbb165de4868125988df</td><td>19120X19_210830_A00421_0362_BHGLM2DSX2_S19_L002_R2_001.fastq.gz</td></tr>\n",
       "\t<tr><td>615ddbaf65de4868125988a0</td><td>19120X1_210830_A00421_0362_BHGLM2DSX2_S1_L002_R1_001.fastq.gz  </td></tr>\n",
       "\t<tr><td>615ddbaf65de4868125988a3</td><td>19120X1_210830_A00421_0362_BHGLM2DSX2_S1_L002_R2_001.fastq.gz  </td></tr>\n",
       "\t<tr><td>615ddbb165de4868125988e8</td><td>19120X20_210830_A00421_0362_BHGLM2DSX2_S20_L002_R1_001.fastq.gz</td></tr>\n",
       "\t<tr><td>615ddbb265de4868125988eb</td><td>19120X20_210830_A00421_0362_BHGLM2DSX2_S20_L002_R2_001.fastq.gz</td></tr>\n",
       "</tbody>\n",
       "</table>\n"
      ],
      "text/latex": [
       "A tibble: 6 × 2\n",
       "\\begin{tabular}{ll}\n",
       " id & name\\\\\n",
       " <chr> & <chr>\\\\\n",
       "\\hline\n",
       "\t 615ddbb165de4868125988dc & 19120X19\\_210830\\_A00421\\_0362\\_BHGLM2DSX2\\_S19\\_L002\\_R1\\_001.fastq.gz\\\\\n",
       "\t 615ddbb165de4868125988df & 19120X19\\_210830\\_A00421\\_0362\\_BHGLM2DSX2\\_S19\\_L002\\_R2\\_001.fastq.gz\\\\\n",
       "\t 615ddbaf65de4868125988a0 & 19120X1\\_210830\\_A00421\\_0362\\_BHGLM2DSX2\\_S1\\_L002\\_R1\\_001.fastq.gz  \\\\\n",
       "\t 615ddbaf65de4868125988a3 & 19120X1\\_210830\\_A00421\\_0362\\_BHGLM2DSX2\\_S1\\_L002\\_R2\\_001.fastq.gz  \\\\\n",
       "\t 615ddbb165de4868125988e8 & 19120X20\\_210830\\_A00421\\_0362\\_BHGLM2DSX2\\_S20\\_L002\\_R1\\_001.fastq.gz\\\\\n",
       "\t 615ddbb265de4868125988eb & 19120X20\\_210830\\_A00421\\_0362\\_BHGLM2DSX2\\_S20\\_L002\\_R2\\_001.fastq.gz\\\\\n",
       "\\end{tabular}\n"
      ],
      "text/markdown": [
       "\n",
       "A tibble: 6 × 2\n",
       "\n",
       "| id &lt;chr&gt; | name &lt;chr&gt; |\n",
       "|---|---|\n",
       "| 615ddbb165de4868125988dc | 19120X19_210830_A00421_0362_BHGLM2DSX2_S19_L002_R1_001.fastq.gz |\n",
       "| 615ddbb165de4868125988df | 19120X19_210830_A00421_0362_BHGLM2DSX2_S19_L002_R2_001.fastq.gz |\n",
       "| 615ddbaf65de4868125988a0 | 19120X1_210830_A00421_0362_BHGLM2DSX2_S1_L002_R1_001.fastq.gz   |\n",
       "| 615ddbaf65de4868125988a3 | 19120X1_210830_A00421_0362_BHGLM2DSX2_S1_L002_R2_001.fastq.gz   |\n",
       "| 615ddbb165de4868125988e8 | 19120X20_210830_A00421_0362_BHGLM2DSX2_S20_L002_R1_001.fastq.gz |\n",
       "| 615ddbb265de4868125988eb | 19120X20_210830_A00421_0362_BHGLM2DSX2_S20_L002_R2_001.fastq.gz |\n",
       "\n"
      ],
      "text/plain": [
       "  id                      \n",
       "1 615ddbb165de4868125988dc\n",
       "2 615ddbb165de4868125988df\n",
       "3 615ddbaf65de4868125988a0\n",
       "4 615ddbaf65de4868125988a3\n",
       "5 615ddbb165de4868125988e8\n",
       "6 615ddbb265de4868125988eb\n",
       "  name                                                           \n",
       "1 19120X19_210830_A00421_0362_BHGLM2DSX2_S19_L002_R1_001.fastq.gz\n",
       "2 19120X19_210830_A00421_0362_BHGLM2DSX2_S19_L002_R2_001.fastq.gz\n",
       "3 19120X1_210830_A00421_0362_BHGLM2DSX2_S1_L002_R1_001.fastq.gz  \n",
       "4 19120X1_210830_A00421_0362_BHGLM2DSX2_S1_L002_R2_001.fastq.gz  \n",
       "5 19120X20_210830_A00421_0362_BHGLM2DSX2_S20_L002_R1_001.fastq.gz\n",
       "6 19120X20_210830_A00421_0362_BHGLM2DSX2_S20_L002_R2_001.fastq.gz"
      ]
     },
     "metadata": {},
     "output_type": "display_data"
    }
   ],
   "source": [
    "# Load the CGC metadata to get the file IDS\n",
    "\n",
    "hci_files <- read_csv('2022-02-23_hci_fastq_manifest_20220223_150616.csv') %>% select(id, name) %>% mutate(name = basename(name))\n",
    "\n",
    "head(hci_files)"
   ]
  },
  {
   "cell_type": "code",
   "execution_count": 7,
   "id": "96509bfd-94c0-430e-b04c-0e3b64b67017",
   "metadata": {},
   "outputs": [
    {
     "data": {
      "text/html": [
       "281"
      ],
      "text/latex": [
       "281"
      ],
      "text/markdown": [
       "281"
      ],
      "text/plain": [
       "[1] 281"
      ]
     },
     "metadata": {},
     "output_type": "display_data"
    },
    {
     "data": {
      "text/html": [
       "<table class=\"dataframe\">\n",
       "<caption>A tibble: 6 × 2</caption>\n",
       "<thead>\n",
       "\t<tr><th scope=col>id</th><th scope=col>name</th></tr>\n",
       "\t<tr><th scope=col>&lt;chr&gt;</th><th scope=col>&lt;chr&gt;</th></tr>\n",
       "</thead>\n",
       "<tbody>\n",
       "\t<tr><td>615ddba665de4868125987aa</td><td>18588X6_1201216_A00421_0267_BHN2TJDSXY_S44_L003_R1_001.fastq.gz</td></tr>\n",
       "\t<tr><td>615ddba665de4868125987ad</td><td>18588X6_1201216_A00421_0267_BHN2TJDSXY_S44_L003_R2_001.fastq.gz</td></tr>\n",
       "\t<tr><td>615ddba665de4868125987b0</td><td>18588X7_1201216_A00421_0267_BHN2TJDSXY_S45_L003_R1_001.fastq.gz</td></tr>\n",
       "\t<tr><td>615ddba665de4868125987b3</td><td>18588X7_1201216_A00421_0267_BHN2TJDSXY_S45_L003_R2_001.fastq.gz</td></tr>\n",
       "\t<tr><td>615ddba665de4868125987b6</td><td>18588X8_1201216_A00421_0267_BHN2TJDSXY_S46_L003_R1_001.fastq.gz</td></tr>\n",
       "\t<tr><td>615ddba765de4868125987b9</td><td>18588X8_1201216_A00421_0267_BHN2TJDSXY_S46_L003_R2_001.fastq.gz</td></tr>\n",
       "</tbody>\n",
       "</table>\n"
      ],
      "text/latex": [
       "A tibble: 6 × 2\n",
       "\\begin{tabular}{ll}\n",
       " id & name\\\\\n",
       " <chr> & <chr>\\\\\n",
       "\\hline\n",
       "\t 615ddba665de4868125987aa & 18588X6\\_1201216\\_A00421\\_0267\\_BHN2TJDSXY\\_S44\\_L003\\_R1\\_001.fastq.gz\\\\\n",
       "\t 615ddba665de4868125987ad & 18588X6\\_1201216\\_A00421\\_0267\\_BHN2TJDSXY\\_S44\\_L003\\_R2\\_001.fastq.gz\\\\\n",
       "\t 615ddba665de4868125987b0 & 18588X7\\_1201216\\_A00421\\_0267\\_BHN2TJDSXY\\_S45\\_L003\\_R1\\_001.fastq.gz\\\\\n",
       "\t 615ddba665de4868125987b3 & 18588X7\\_1201216\\_A00421\\_0267\\_BHN2TJDSXY\\_S45\\_L003\\_R2\\_001.fastq.gz\\\\\n",
       "\t 615ddba665de4868125987b6 & 18588X8\\_1201216\\_A00421\\_0267\\_BHN2TJDSXY\\_S46\\_L003\\_R1\\_001.fastq.gz\\\\\n",
       "\t 615ddba765de4868125987b9 & 18588X8\\_1201216\\_A00421\\_0267\\_BHN2TJDSXY\\_S46\\_L003\\_R2\\_001.fastq.gz\\\\\n",
       "\\end{tabular}\n"
      ],
      "text/markdown": [
       "\n",
       "A tibble: 6 × 2\n",
       "\n",
       "| id &lt;chr&gt; | name &lt;chr&gt; |\n",
       "|---|---|\n",
       "| 615ddba665de4868125987aa | 18588X6_1201216_A00421_0267_BHN2TJDSXY_S44_L003_R1_001.fastq.gz |\n",
       "| 615ddba665de4868125987ad | 18588X6_1201216_A00421_0267_BHN2TJDSXY_S44_L003_R2_001.fastq.gz |\n",
       "| 615ddba665de4868125987b0 | 18588X7_1201216_A00421_0267_BHN2TJDSXY_S45_L003_R1_001.fastq.gz |\n",
       "| 615ddba665de4868125987b3 | 18588X7_1201216_A00421_0267_BHN2TJDSXY_S45_L003_R2_001.fastq.gz |\n",
       "| 615ddba665de4868125987b6 | 18588X8_1201216_A00421_0267_BHN2TJDSXY_S46_L003_R1_001.fastq.gz |\n",
       "| 615ddba765de4868125987b9 | 18588X8_1201216_A00421_0267_BHN2TJDSXY_S46_L003_R2_001.fastq.gz |\n",
       "\n"
      ],
      "text/plain": [
       "  id                      \n",
       "1 615ddba665de4868125987aa\n",
       "2 615ddba665de4868125987ad\n",
       "3 615ddba665de4868125987b0\n",
       "4 615ddba665de4868125987b3\n",
       "5 615ddba665de4868125987b6\n",
       "6 615ddba765de4868125987b9\n",
       "  name                                                           \n",
       "1 18588X6_1201216_A00421_0267_BHN2TJDSXY_S44_L003_R1_001.fastq.gz\n",
       "2 18588X6_1201216_A00421_0267_BHN2TJDSXY_S44_L003_R2_001.fastq.gz\n",
       "3 18588X7_1201216_A00421_0267_BHN2TJDSXY_S45_L003_R1_001.fastq.gz\n",
       "4 18588X7_1201216_A00421_0267_BHN2TJDSXY_S45_L003_R2_001.fastq.gz\n",
       "5 18588X8_1201216_A00421_0267_BHN2TJDSXY_S46_L003_R1_001.fastq.gz\n",
       "6 18588X8_1201216_A00421_0267_BHN2TJDSXY_S46_L003_R2_001.fastq.gz"
      ]
     },
     "metadata": {},
     "output_type": "display_data"
    }
   ],
   "source": [
    "# Filter the hci files on the cgc for the list of files from dbGaP\n",
    "\n",
    "cds_files_manifest <- hci_files %>% filter(name %in% cds_files)\n",
    "\n",
    "nrow(cds_files_manifest)\n",
    "head(cds_files_manifest)"
   ]
  },
  {
   "cell_type": "markdown",
   "id": "071326fb-a8c2-425d-ba3b-b0317df249e4",
   "metadata": {
    "tags": []
   },
   "source": [
    "### Copy those files to the staging area"
   ]
  },
  {
   "cell_type": "code",
   "execution_count": 8,
   "id": "12ef6e47-f57e-4a9e-a9b6-4186dd41e086",
   "metadata": {},
   "outputs": [
    {
     "name": "stderr",
     "output_type": "stream",
     "text": [
      "Authenticating with user configuration file: ~/.sevenbridges/credentials\n",
      "\n",
      "Authenticating with user profile: cgc\n",
      "\n"
     ]
    }
   ],
   "source": [
    "# Connect to the platform\n",
    "\n",
    "sbg_auth <- Auth(from = 'file', profile_name = 'cgc')\n",
    "sbg_proj <- sbg_auth$project(id = 'pdxnet/pdxnet-datapool')"
   ]
  },
  {
   "cell_type": "code",
   "execution_count": 14,
   "id": "6afdc8b4-ba78-451f-9ce4-1ee9b75e611b",
   "metadata": {},
   "outputs": [
    {
     "data": {
      "text/plain": [
       "== Files ==\n",
       "id : 621692a9b07915019d2bfe4b\n",
       "name : 2022-02-23_cds_upload_staging\n",
       "project : pdxnet/pdxnet-datapool\n",
       "parent : 5d5ffce2e4b0b892538d3488\n",
       "type : folder"
      ]
     },
     "metadata": {},
     "output_type": "display_data"
    },
    {
     "data": {
      "text/html": [
       "'621692a9b07915019d2bfe4b'"
      ],
      "text/latex": [
       "'621692a9b07915019d2bfe4b'"
      ],
      "text/markdown": [
       "'621692a9b07915019d2bfe4b'"
      ],
      "text/plain": [
       "[1] \"621692a9b07915019d2bfe4b\""
      ]
     },
     "metadata": {},
     "output_type": "display_data"
    }
   ],
   "source": [
    "# Get the folder object for the staging area\n",
    "\n",
    "staging_folder <- sbg_proj$get_root_folder()$list_folder_contents(complete = TRUE)[[6]]$list_folder_contents(complete = TRUE)[[1]]\n",
    "\n",
    "staging_folder\n",
    "staging_folder$id"
   ]
  },
  {
   "cell_type": "code",
   "execution_count": 15,
   "id": "4ea22725-6384-4557-ba68-79fb8b833287",
   "metadata": {},
   "outputs": [],
   "source": [
    "# Copy files to the staging area\n",
    "\n",
    "for (i in seq_along(cds_files_manifest$id)) {\n",
    "    \n",
    "    # Pause for 5 mins every 200 iterations to avoid API call limits\n",
    "    if (i %% 200 == 0) {\n",
    "        Sys.sleep(300)\n",
    "    }\n",
    "    \n",
    "    # Copy files\n",
    "    sbg_proj$file(id = cds_files_manifest$id[i])$copy_to_folder(staging_folder$id)\n",
    "}"
   ]
  },
  {
   "cell_type": "markdown",
   "id": "8cdef64f-977f-4d55-b6ed-cd678506680d",
   "metadata": {},
   "source": [
    "### Set the metadata for these files after the upload\n",
    "The CDS upload was successful for all of these files so we can go ahead and add the `cds_status` and `dbgap_accession` metadata fields to these files."
   ]
  },
  {
   "cell_type": "code",
   "execution_count": 16,
   "id": "41b94f21-83f3-4c0e-abd8-0e00fb0c76d3",
   "metadata": {},
   "outputs": [],
   "source": [
    "for (i in seq_along(cds_files_manifest$id)) {\n",
    "    \n",
    "    # Pause for 5 mins every 200 iterations to avoid API call limits\n",
    "    if (i %% 200 == 0) {\n",
    "        Sys.sleep(300)\n",
    "    }\n",
    "    \n",
    "    # Set metadata\n",
    "    sbg_proj$file(id = cds_files_manifest$id[i])$set_meta(cds_status = 'uploaded', dbgap_accession = 'phs002479.v1.p1')\n",
    "}"
   ]
  }
 ],
 "metadata": {
  "kernelspec": {
   "display_name": "R",
   "language": "R",
   "name": "ir"
  },
  "language_info": {
   "codemirror_mode": "r",
   "file_extension": ".r",
   "mimetype": "text/x-r-source",
   "name": "R",
   "pygments_lexer": "r",
   "version": "4.1.2"
  }
 },
 "nbformat": 4,
 "nbformat_minor": 5
}
