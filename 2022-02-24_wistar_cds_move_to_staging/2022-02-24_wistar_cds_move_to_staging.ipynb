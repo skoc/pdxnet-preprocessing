{
 "cells": [
  {
   "cell_type": "markdown",
   "id": "537c7d80-2f8e-46c6-b7b7-53db78134a94",
   "metadata": {},
   "source": [
    "# Move WISTAR's CDS Files To a Temporary Staging Folder\n",
    "## Date: 2022-02-24\n",
    "## Author: Jeffrey Grover\n",
    "**Purpose:** Do the same as with HCI's files in support of the CDS data submission."
   ]
  },
  {
   "cell_type": "markdown",
   "id": "68b44129-1a88-4367-998b-65323803c588",
   "metadata": {},
   "source": [
    "### Load libraries"
   ]
  },
  {
   "cell_type": "code",
   "execution_count": 1,
   "id": "17969ebc-0ef4-421d-815a-a8fa84d994bd",
   "metadata": {},
   "outputs": [
    {
     "name": "stderr",
     "output_type": "stream",
     "text": [
      "── \u001b[1mAttaching packages\u001b[22m ───────────────────────────────────────────────────────────────────────────────────────────────────────────────────────────────────────────────────────────────────────────────────────────────────── tidyverse 1.3.1 ──\n",
      "\n",
      "\u001b[32m✔\u001b[39m \u001b[34mggplot2\u001b[39m 3.3.5     \u001b[32m✔\u001b[39m \u001b[34mpurrr  \u001b[39m 0.3.4\n",
      "\u001b[32m✔\u001b[39m \u001b[34mtibble \u001b[39m 3.1.6     \u001b[32m✔\u001b[39m \u001b[34mdplyr  \u001b[39m 1.0.7\n",
      "\u001b[32m✔\u001b[39m \u001b[34mtidyr  \u001b[39m 1.1.4     \u001b[32m✔\u001b[39m \u001b[34mstringr\u001b[39m 1.4.0\n",
      "\u001b[32m✔\u001b[39m \u001b[34mreadr  \u001b[39m 2.1.1     \u001b[32m✔\u001b[39m \u001b[34mforcats\u001b[39m 0.5.1\n",
      "\n",
      "── \u001b[1mConflicts\u001b[22m ──────────────────────────────────────────────────────────────────────────────────────────────────────────────────────────────────────────────────────────────────────────────────────────────────────── tidyverse_conflicts() ──\n",
      "\u001b[31m✖\u001b[39m \u001b[34mdplyr\u001b[39m::\u001b[32mfilter()\u001b[39m masks \u001b[34mstats\u001b[39m::filter()\n",
      "\u001b[31m✖\u001b[39m \u001b[34mdplyr\u001b[39m::\u001b[32mlag()\u001b[39m    masks \u001b[34mstats\u001b[39m::lag()\n",
      "\n"
     ]
    }
   ],
   "source": [
    "library(tidyverse)\n",
    "library(readxl)\n",
    "library(sevenbridges)"
   ]
  },
  {
   "cell_type": "markdown",
   "id": "1c9a81e1-a1c4-4223-a13b-003414a4bdb1",
   "metadata": {},
   "source": [
    "### Load the metadata"
   ]
  },
  {
   "cell_type": "code",
   "execution_count": 2,
   "id": "fec2c47f-09d2-4bc7-b41d-bcb8cf897b30",
   "metadata": {},
   "outputs": [
    {
     "data": {
      "text/html": [
       "370"
      ],
      "text/latex": [
       "370"
      ],
      "text/markdown": [
       "370"
      ],
      "text/plain": [
       "[1] 370"
      ]
     },
     "metadata": {},
     "output_type": "display_data"
    },
    {
     "data": {
      "text/html": [
       "<style>\n",
       ".list-inline {list-style: none; margin:0; padding: 0}\n",
       ".list-inline>li {display: inline-block}\n",
       ".list-inline>li:not(:last-child)::after {content: \"\\00b7\"; padding: 0 .5ex}\n",
       "</style>\n",
       "<ol class=list-inline><li>'wm3907n_R1.fastq.gz'</li><li>'wm3907n_R2.fastq.gz'</li><li>'wm3922n_R1.fastq.gz'</li><li>'wm3922n_R2.fastq.gz'</li><li>'wm3926n_R1.fastq.gz'</li><li>'wm3926n_R2.fastq.gz'</li></ol>\n"
      ],
      "text/latex": [
       "\\begin{enumerate*}\n",
       "\\item 'wm3907n\\_R1.fastq.gz'\n",
       "\\item 'wm3907n\\_R2.fastq.gz'\n",
       "\\item 'wm3922n\\_R1.fastq.gz'\n",
       "\\item 'wm3922n\\_R2.fastq.gz'\n",
       "\\item 'wm3926n\\_R1.fastq.gz'\n",
       "\\item 'wm3926n\\_R2.fastq.gz'\n",
       "\\end{enumerate*}\n"
      ],
      "text/markdown": [
       "1. 'wm3907n_R1.fastq.gz'\n",
       "2. 'wm3907n_R2.fastq.gz'\n",
       "3. 'wm3922n_R1.fastq.gz'\n",
       "4. 'wm3922n_R2.fastq.gz'\n",
       "5. 'wm3926n_R1.fastq.gz'\n",
       "6. 'wm3926n_R2.fastq.gz'\n",
       "\n",
       "\n"
      ],
      "text/plain": [
       "[1] \"wm3907n_R1.fastq.gz\" \"wm3907n_R2.fastq.gz\" \"wm3922n_R1.fastq.gz\"\n",
       "[4] \"wm3922n_R2.fastq.gz\" \"wm3926n_R1.fastq.gz\" \"wm3926n_R2.fastq.gz\""
      ]
     },
     "metadata": {},
     "output_type": "display_data"
    }
   ],
   "source": [
    "# Load the files for cds upload\n",
    "\n",
    "cds_files <- read_excel('wistar_files_sampleattributes_DS.xlsx')$FILENAME\n",
    "\n",
    "length(cds_files)\n",
    "head(cds_files)"
   ]
  },
  {
   "cell_type": "code",
   "execution_count": 3,
   "id": "57578e74-6347-49bd-b986-10872c005388",
   "metadata": {},
   "outputs": [
    {
     "name": "stderr",
     "output_type": "stream",
     "text": [
      "\u001b[1mRows: \u001b[22m\u001b[34m382\u001b[39m \u001b[1mColumns: \u001b[22m\u001b[34m66\u001b[39m\n",
      "\n",
      "\u001b[36m──\u001b[39m \u001b[1mColumn specification\u001b[22m \u001b[36m──────────────────────────────────────────────────────────────────────────────────────────────────────────────────────────────────────────────────────────────────────────────────────────────────────────────────────\u001b[39m\n",
      "\u001b[1mDelimiter:\u001b[22m \",\"\n",
      "\u001b[31mchr\u001b[39m (30): id, name, project, p1_1, passage, sample_id, sample_type, case_id,...\n",
      "\u001b[32mdbl\u001b[39m  (3): size, paired_end, update_manifest\n",
      "\u001b[33mlgl\u001b[39m (33): trimmed_read_count, Is FFPE, prop_ribosomal_bases, library_prep_ki...\n",
      "\n",
      "\n",
      "\u001b[36mℹ\u001b[39m Use \u001b[30m\u001b[47m\u001b[30m\u001b[47m`spec()`\u001b[47m\u001b[30m\u001b[49m\u001b[39m to retrieve the full column specification for this data.\n",
      "\u001b[36mℹ\u001b[39m Specify the column types or set \u001b[30m\u001b[47m\u001b[30m\u001b[47m`show_col_types = FALSE`\u001b[47m\u001b[30m\u001b[49m\u001b[39m to quiet this message.\n",
      "\n"
     ]
    },
    {
     "data": {
      "text/html": [
       "<table class=\"dataframe\">\n",
       "<caption>A tibble: 6 × 66</caption>\n",
       "<thead>\n",
       "\t<tr><th scope=col>id</th><th scope=col>name</th><th scope=col>size</th><th scope=col>project</th><th scope=col>trimmed_read_count</th><th scope=col>p1_1</th><th scope=col>Is FFPE</th><th scope=col>passage</th><th scope=col>sample_id</th><th scope=col>prop_ribosomal_bases</th><th scope=col>⋯</th><th scope=col>dbgap_upload</th><th scope=col>model_id</th><th scope=col>paired_end</th><th scope=col>__inherit__</th><th scope=col>update_manifest</th><th scope=col>species</th><th scope=col>tumor_id</th><th scope=col>investigation</th><th scope=col>prop_20x_cov</th><th scope=col>experimental_strategy</th></tr>\n",
       "\t<tr><th scope=col>&lt;chr&gt;</th><th scope=col>&lt;chr&gt;</th><th scope=col>&lt;dbl&gt;</th><th scope=col>&lt;chr&gt;</th><th scope=col>&lt;lgl&gt;</th><th scope=col>&lt;chr&gt;</th><th scope=col>&lt;lgl&gt;</th><th scope=col>&lt;chr&gt;</th><th scope=col>&lt;chr&gt;</th><th scope=col>&lt;lgl&gt;</th><th scope=col>⋯</th><th scope=col>&lt;lgl&gt;</th><th scope=col>&lt;lgl&gt;</th><th scope=col>&lt;dbl&gt;</th><th scope=col>&lt;lgl&gt;</th><th scope=col>&lt;dbl&gt;</th><th scope=col>&lt;lgl&gt;</th><th scope=col>&lt;lgl&gt;</th><th scope=col>&lt;lgl&gt;</th><th scope=col>&lt;lgl&gt;</th><th scope=col>&lt;chr&gt;</th></tr>\n",
       "</thead>\n",
       "<tbody>\n",
       "\t<tr><td>5d805c02e4b06d0cb47c4dde</td><td>WISTAR/WES/wm4281_R1.fastq.gz </td><td>10388246367</td><td>pdxnet/pdxnet-datapool</td><td>NA</td><td>NA</td><td>NA</td><td>tumor</td><td>wm4281 </td><td>NA</td><td>⋯</td><td>NA</td><td>NA</td><td>1</td><td>NA</td><td>NA</td><td>NA</td><td>NA</td><td>NA</td><td>NA</td><td>WES</td></tr>\n",
       "\t<tr><td>5d805c02e4b06d0cb47c4ecf</td><td>WISTAR/WES/wm4281_R2.fastq.gz </td><td>11865334115</td><td>pdxnet/pdxnet-datapool</td><td>NA</td><td>NA</td><td>NA</td><td>tumor</td><td>wm4281 </td><td>NA</td><td>⋯</td><td>NA</td><td>NA</td><td>2</td><td>NA</td><td>NA</td><td>NA</td><td>NA</td><td>NA</td><td>NA</td><td>WES</td></tr>\n",
       "\t<tr><td>5d805c02e4b06d0cb47c4f19</td><td>WISTAR/WES/wm4281n_R1.fastq.gz</td><td> 2742803646</td><td>pdxnet/pdxnet-datapool</td><td>NA</td><td>NA</td><td>NA</td><td>blood</td><td>wm4281n</td><td>NA</td><td>⋯</td><td>NA</td><td>NA</td><td>1</td><td>NA</td><td>NA</td><td>NA</td><td>NA</td><td>NA</td><td>NA</td><td>WES</td></tr>\n",
       "\t<tr><td>5d805c02e4b06d0cb47c4f82</td><td>WISTAR/WES/wm4281n_R2.fastq.gz</td><td> 3256676515</td><td>pdxnet/pdxnet-datapool</td><td>NA</td><td>NA</td><td>NA</td><td>blood</td><td>wm4281n</td><td>NA</td><td>⋯</td><td>NA</td><td>NA</td><td>2</td><td>NA</td><td>NA</td><td>NA</td><td>NA</td><td>NA</td><td>NA</td><td>WES</td></tr>\n",
       "\t<tr><td>5d805c02e4b06d0cb47c4e1e</td><td>WISTAR/WES/wm4304_R1.fastq.gz </td><td> 8838299944</td><td>pdxnet/pdxnet-datapool</td><td>NA</td><td>NA</td><td>NA</td><td>tumor</td><td>wm4304 </td><td>NA</td><td>⋯</td><td>NA</td><td>NA</td><td>1</td><td>NA</td><td>NA</td><td>NA</td><td>NA</td><td>NA</td><td>NA</td><td>WES</td></tr>\n",
       "\t<tr><td>5d805c02e4b06d0cb47c4e23</td><td>WISTAR/WES/wm4304_R2.fastq.gz </td><td>10346466097</td><td>pdxnet/pdxnet-datapool</td><td>NA</td><td>NA</td><td>NA</td><td>tumor</td><td>wm4304 </td><td>NA</td><td>⋯</td><td>NA</td><td>NA</td><td>2</td><td>NA</td><td>NA</td><td>NA</td><td>NA</td><td>NA</td><td>NA</td><td>WES</td></tr>\n",
       "</tbody>\n",
       "</table>\n"
      ],
      "text/latex": [
       "A tibble: 6 × 66\n",
       "\\begin{tabular}{lllllllllllllllllllll}\n",
       " id & name & size & project & trimmed\\_read\\_count & p1\\_1 & Is FFPE & passage & sample\\_id & prop\\_ribosomal\\_bases & ⋯ & dbgap\\_upload & model\\_id & paired\\_end & \\_\\_inherit\\_\\_ & update\\_manifest & species & tumor\\_id & investigation & prop\\_20x\\_cov & experimental\\_strategy\\\\\n",
       " <chr> & <chr> & <dbl> & <chr> & <lgl> & <chr> & <lgl> & <chr> & <chr> & <lgl> & ⋯ & <lgl> & <lgl> & <dbl> & <lgl> & <dbl> & <lgl> & <lgl> & <lgl> & <lgl> & <chr>\\\\\n",
       "\\hline\n",
       "\t 5d805c02e4b06d0cb47c4dde & WISTAR/WES/wm4281\\_R1.fastq.gz  & 10388246367 & pdxnet/pdxnet-datapool & NA & NA & NA & tumor & wm4281  & NA & ⋯ & NA & NA & 1 & NA & NA & NA & NA & NA & NA & WES\\\\\n",
       "\t 5d805c02e4b06d0cb47c4ecf & WISTAR/WES/wm4281\\_R2.fastq.gz  & 11865334115 & pdxnet/pdxnet-datapool & NA & NA & NA & tumor & wm4281  & NA & ⋯ & NA & NA & 2 & NA & NA & NA & NA & NA & NA & WES\\\\\n",
       "\t 5d805c02e4b06d0cb47c4f19 & WISTAR/WES/wm4281n\\_R1.fastq.gz &  2742803646 & pdxnet/pdxnet-datapool & NA & NA & NA & blood & wm4281n & NA & ⋯ & NA & NA & 1 & NA & NA & NA & NA & NA & NA & WES\\\\\n",
       "\t 5d805c02e4b06d0cb47c4f82 & WISTAR/WES/wm4281n\\_R2.fastq.gz &  3256676515 & pdxnet/pdxnet-datapool & NA & NA & NA & blood & wm4281n & NA & ⋯ & NA & NA & 2 & NA & NA & NA & NA & NA & NA & WES\\\\\n",
       "\t 5d805c02e4b06d0cb47c4e1e & WISTAR/WES/wm4304\\_R1.fastq.gz  &  8838299944 & pdxnet/pdxnet-datapool & NA & NA & NA & tumor & wm4304  & NA & ⋯ & NA & NA & 1 & NA & NA & NA & NA & NA & NA & WES\\\\\n",
       "\t 5d805c02e4b06d0cb47c4e23 & WISTAR/WES/wm4304\\_R2.fastq.gz  & 10346466097 & pdxnet/pdxnet-datapool & NA & NA & NA & tumor & wm4304  & NA & ⋯ & NA & NA & 2 & NA & NA & NA & NA & NA & NA & WES\\\\\n",
       "\\end{tabular}\n"
      ],
      "text/markdown": [
       "\n",
       "A tibble: 6 × 66\n",
       "\n",
       "| id &lt;chr&gt; | name &lt;chr&gt; | size &lt;dbl&gt; | project &lt;chr&gt; | trimmed_read_count &lt;lgl&gt; | p1_1 &lt;chr&gt; | Is FFPE &lt;lgl&gt; | passage &lt;chr&gt; | sample_id &lt;chr&gt; | prop_ribosomal_bases &lt;lgl&gt; | ⋯ ⋯ | dbgap_upload &lt;lgl&gt; | model_id &lt;lgl&gt; | paired_end &lt;dbl&gt; | __inherit__ &lt;lgl&gt; | update_manifest &lt;dbl&gt; | species &lt;lgl&gt; | tumor_id &lt;lgl&gt; | investigation &lt;lgl&gt; | prop_20x_cov &lt;lgl&gt; | experimental_strategy &lt;chr&gt; |\n",
       "|---|---|---|---|---|---|---|---|---|---|---|---|---|---|---|---|---|---|---|---|---|\n",
       "| 5d805c02e4b06d0cb47c4dde | WISTAR/WES/wm4281_R1.fastq.gz  | 10388246367 | pdxnet/pdxnet-datapool | NA | NA | NA | tumor | wm4281  | NA | ⋯ | NA | NA | 1 | NA | NA | NA | NA | NA | NA | WES |\n",
       "| 5d805c02e4b06d0cb47c4ecf | WISTAR/WES/wm4281_R2.fastq.gz  | 11865334115 | pdxnet/pdxnet-datapool | NA | NA | NA | tumor | wm4281  | NA | ⋯ | NA | NA | 2 | NA | NA | NA | NA | NA | NA | WES |\n",
       "| 5d805c02e4b06d0cb47c4f19 | WISTAR/WES/wm4281n_R1.fastq.gz |  2742803646 | pdxnet/pdxnet-datapool | NA | NA | NA | blood | wm4281n | NA | ⋯ | NA | NA | 1 | NA | NA | NA | NA | NA | NA | WES |\n",
       "| 5d805c02e4b06d0cb47c4f82 | WISTAR/WES/wm4281n_R2.fastq.gz |  3256676515 | pdxnet/pdxnet-datapool | NA | NA | NA | blood | wm4281n | NA | ⋯ | NA | NA | 2 | NA | NA | NA | NA | NA | NA | WES |\n",
       "| 5d805c02e4b06d0cb47c4e1e | WISTAR/WES/wm4304_R1.fastq.gz  |  8838299944 | pdxnet/pdxnet-datapool | NA | NA | NA | tumor | wm4304  | NA | ⋯ | NA | NA | 1 | NA | NA | NA | NA | NA | NA | WES |\n",
       "| 5d805c02e4b06d0cb47c4e23 | WISTAR/WES/wm4304_R2.fastq.gz  | 10346466097 | pdxnet/pdxnet-datapool | NA | NA | NA | tumor | wm4304  | NA | ⋯ | NA | NA | 2 | NA | NA | NA | NA | NA | NA | WES |\n",
       "\n"
      ],
      "text/plain": [
       "  id                       name                           size       \n",
       "1 5d805c02e4b06d0cb47c4dde WISTAR/WES/wm4281_R1.fastq.gz  10388246367\n",
       "2 5d805c02e4b06d0cb47c4ecf WISTAR/WES/wm4281_R2.fastq.gz  11865334115\n",
       "3 5d805c02e4b06d0cb47c4f19 WISTAR/WES/wm4281n_R1.fastq.gz  2742803646\n",
       "4 5d805c02e4b06d0cb47c4f82 WISTAR/WES/wm4281n_R2.fastq.gz  3256676515\n",
       "5 5d805c02e4b06d0cb47c4e1e WISTAR/WES/wm4304_R1.fastq.gz   8838299944\n",
       "6 5d805c02e4b06d0cb47c4e23 WISTAR/WES/wm4304_R2.fastq.gz  10346466097\n",
       "  project                trimmed_read_count p1_1 Is FFPE passage sample_id\n",
       "1 pdxnet/pdxnet-datapool NA                 NA   NA      tumor   wm4281   \n",
       "2 pdxnet/pdxnet-datapool NA                 NA   NA      tumor   wm4281   \n",
       "3 pdxnet/pdxnet-datapool NA                 NA   NA      blood   wm4281n  \n",
       "4 pdxnet/pdxnet-datapool NA                 NA   NA      blood   wm4281n  \n",
       "5 pdxnet/pdxnet-datapool NA                 NA   NA      tumor   wm4304   \n",
       "6 pdxnet/pdxnet-datapool NA                 NA   NA      tumor   wm4304   \n",
       "  prop_ribosomal_bases ⋯ dbgap_upload model_id paired_end __inherit__\n",
       "1 NA                   ⋯ NA           NA       1          NA         \n",
       "2 NA                   ⋯ NA           NA       2          NA         \n",
       "3 NA                   ⋯ NA           NA       1          NA         \n",
       "4 NA                   ⋯ NA           NA       2          NA         \n",
       "5 NA                   ⋯ NA           NA       1          NA         \n",
       "6 NA                   ⋯ NA           NA       2          NA         \n",
       "  update_manifest species tumor_id investigation prop_20x_cov\n",
       "1 NA              NA      NA       NA            NA          \n",
       "2 NA              NA      NA       NA            NA          \n",
       "3 NA              NA      NA       NA            NA          \n",
       "4 NA              NA      NA       NA            NA          \n",
       "5 NA              NA      NA       NA            NA          \n",
       "6 NA              NA      NA       NA            NA          \n",
       "  experimental_strategy\n",
       "1 WES                  \n",
       "2 WES                  \n",
       "3 WES                  \n",
       "4 WES                  \n",
       "5 WES                  \n",
       "6 WES                  "
      ]
     },
     "metadata": {},
     "output_type": "display_data"
    }
   ],
   "source": [
    "# Load the cgc metadata\n",
    "\n",
    "cgc_files <- read_csv('2022-02-24_wistar_rnaseq_wes_manifest_20220224_095810.csv')\n",
    "\n",
    "head(cgc_files)"
   ]
  },
  {
   "cell_type": "code",
   "execution_count": 4,
   "id": "f48c8f65-0041-4427-bd85-70d5e13768a6",
   "metadata": {},
   "outputs": [
    {
     "data": {
      "text/html": [
       "<table class=\"dataframe\">\n",
       "<caption>A tibble: 6 × 2</caption>\n",
       "<thead>\n",
       "\t<tr><th scope=col>id</th><th scope=col>name</th></tr>\n",
       "\t<tr><th scope=col>&lt;chr&gt;</th><th scope=col>&lt;chr&gt;</th></tr>\n",
       "</thead>\n",
       "<tbody>\n",
       "\t<tr><td>5d805c02e4b06d0cb47c4dde</td><td>wm4281_R1.fastq.gz </td></tr>\n",
       "\t<tr><td>5d805c02e4b06d0cb47c4ecf</td><td>wm4281_R2.fastq.gz </td></tr>\n",
       "\t<tr><td>5d805c02e4b06d0cb47c4f19</td><td>wm4281n_R1.fastq.gz</td></tr>\n",
       "\t<tr><td>5d805c02e4b06d0cb47c4f82</td><td>wm4281n_R2.fastq.gz</td></tr>\n",
       "\t<tr><td>5d805c02e4b06d0cb47c4e1e</td><td>wm4304_R1.fastq.gz </td></tr>\n",
       "\t<tr><td>5d805c02e4b06d0cb47c4e23</td><td>wm4304_R2.fastq.gz </td></tr>\n",
       "</tbody>\n",
       "</table>\n"
      ],
      "text/latex": [
       "A tibble: 6 × 2\n",
       "\\begin{tabular}{ll}\n",
       " id & name\\\\\n",
       " <chr> & <chr>\\\\\n",
       "\\hline\n",
       "\t 5d805c02e4b06d0cb47c4dde & wm4281\\_R1.fastq.gz \\\\\n",
       "\t 5d805c02e4b06d0cb47c4ecf & wm4281\\_R2.fastq.gz \\\\\n",
       "\t 5d805c02e4b06d0cb47c4f19 & wm4281n\\_R1.fastq.gz\\\\\n",
       "\t 5d805c02e4b06d0cb47c4f82 & wm4281n\\_R2.fastq.gz\\\\\n",
       "\t 5d805c02e4b06d0cb47c4e1e & wm4304\\_R1.fastq.gz \\\\\n",
       "\t 5d805c02e4b06d0cb47c4e23 & wm4304\\_R2.fastq.gz \\\\\n",
       "\\end{tabular}\n"
      ],
      "text/markdown": [
       "\n",
       "A tibble: 6 × 2\n",
       "\n",
       "| id &lt;chr&gt; | name &lt;chr&gt; |\n",
       "|---|---|\n",
       "| 5d805c02e4b06d0cb47c4dde | wm4281_R1.fastq.gz  |\n",
       "| 5d805c02e4b06d0cb47c4ecf | wm4281_R2.fastq.gz  |\n",
       "| 5d805c02e4b06d0cb47c4f19 | wm4281n_R1.fastq.gz |\n",
       "| 5d805c02e4b06d0cb47c4f82 | wm4281n_R2.fastq.gz |\n",
       "| 5d805c02e4b06d0cb47c4e1e | wm4304_R1.fastq.gz  |\n",
       "| 5d805c02e4b06d0cb47c4e23 | wm4304_R2.fastq.gz  |\n",
       "\n"
      ],
      "text/plain": [
       "  id                       name               \n",
       "1 5d805c02e4b06d0cb47c4dde wm4281_R1.fastq.gz \n",
       "2 5d805c02e4b06d0cb47c4ecf wm4281_R2.fastq.gz \n",
       "3 5d805c02e4b06d0cb47c4f19 wm4281n_R1.fastq.gz\n",
       "4 5d805c02e4b06d0cb47c4f82 wm4281n_R2.fastq.gz\n",
       "5 5d805c02e4b06d0cb47c4e1e wm4304_R1.fastq.gz \n",
       "6 5d805c02e4b06d0cb47c4e23 wm4304_R2.fastq.gz "
      ]
     },
     "metadata": {},
     "output_type": "display_data"
    },
    {
     "data": {
      "text/html": [
       "382"
      ],
      "text/latex": [
       "382"
      ],
      "text/markdown": [
       "382"
      ],
      "text/plain": [
       "[1] 382"
      ]
     },
     "metadata": {},
     "output_type": "display_data"
    }
   ],
   "source": [
    "# I don't need all the column, so just get the filename and id from the cgc files\n",
    "\n",
    "cgc_files <- cgc_files %>% select(id, name)\n",
    "\n",
    "# basename for the name field\n",
    "\n",
    "cgc_files <- cgc_files %>% mutate(name = basename(name))\n",
    "\n",
    "head(cgc_files)\n",
    "nrow(cgc_files)"
   ]
  },
  {
   "cell_type": "markdown",
   "id": "699e82c5-468e-430d-9078-6cbd8c7676eb",
   "metadata": {},
   "source": [
    "### Check the files and filter for only cds files\n",
    "Are all the cds files contained in the cgc files? If so, I can create a manifest that only has the cds files in it."
   ]
  },
  {
   "cell_type": "code",
   "execution_count": 5,
   "id": "cc2fd1ba-2f21-4948-864e-955c46f5f88f",
   "metadata": {},
   "outputs": [
    {
     "data": {
      "text/html": [
       "TRUE"
      ],
      "text/latex": [
       "TRUE"
      ],
      "text/markdown": [
       "TRUE"
      ],
      "text/plain": [
       "[1] TRUE"
      ]
     },
     "metadata": {},
     "output_type": "display_data"
    }
   ],
   "source": [
    "all(cds_files %in% cgc_files$name)"
   ]
  },
  {
   "cell_type": "code",
   "execution_count": 6,
   "id": "f424683d-1675-4b8e-92c6-3d4ec9243aef",
   "metadata": {},
   "outputs": [
    {
     "data": {
      "text/html": [
       "370"
      ],
      "text/latex": [
       "370"
      ],
      "text/markdown": [
       "370"
      ],
      "text/plain": [
       "[1] 370"
      ]
     },
     "metadata": {},
     "output_type": "display_data"
    },
    {
     "data": {
      "text/html": [
       "<table class=\"dataframe\">\n",
       "<caption>A tibble: 6 × 2</caption>\n",
       "<thead>\n",
       "\t<tr><th scope=col>id</th><th scope=col>name</th></tr>\n",
       "\t<tr><th scope=col>&lt;chr&gt;</th><th scope=col>&lt;chr&gt;</th></tr>\n",
       "</thead>\n",
       "<tbody>\n",
       "\t<tr><td>5d805c02e4b06d0cb47c4dde</td><td>wm4281_R1.fastq.gz </td></tr>\n",
       "\t<tr><td>5d805c02e4b06d0cb47c4ecf</td><td>wm4281_R2.fastq.gz </td></tr>\n",
       "\t<tr><td>5d805c02e4b06d0cb47c4f19</td><td>wm4281n_R1.fastq.gz</td></tr>\n",
       "\t<tr><td>5d805c02e4b06d0cb47c4f82</td><td>wm4281n_R2.fastq.gz</td></tr>\n",
       "\t<tr><td>5d805c02e4b06d0cb47c4e1e</td><td>wm4304_R1.fastq.gz </td></tr>\n",
       "\t<tr><td>5d805c02e4b06d0cb47c4e23</td><td>wm4304_R2.fastq.gz </td></tr>\n",
       "</tbody>\n",
       "</table>\n"
      ],
      "text/latex": [
       "A tibble: 6 × 2\n",
       "\\begin{tabular}{ll}\n",
       " id & name\\\\\n",
       " <chr> & <chr>\\\\\n",
       "\\hline\n",
       "\t 5d805c02e4b06d0cb47c4dde & wm4281\\_R1.fastq.gz \\\\\n",
       "\t 5d805c02e4b06d0cb47c4ecf & wm4281\\_R2.fastq.gz \\\\\n",
       "\t 5d805c02e4b06d0cb47c4f19 & wm4281n\\_R1.fastq.gz\\\\\n",
       "\t 5d805c02e4b06d0cb47c4f82 & wm4281n\\_R2.fastq.gz\\\\\n",
       "\t 5d805c02e4b06d0cb47c4e1e & wm4304\\_R1.fastq.gz \\\\\n",
       "\t 5d805c02e4b06d0cb47c4e23 & wm4304\\_R2.fastq.gz \\\\\n",
       "\\end{tabular}\n"
      ],
      "text/markdown": [
       "\n",
       "A tibble: 6 × 2\n",
       "\n",
       "| id &lt;chr&gt; | name &lt;chr&gt; |\n",
       "|---|---|\n",
       "| 5d805c02e4b06d0cb47c4dde | wm4281_R1.fastq.gz  |\n",
       "| 5d805c02e4b06d0cb47c4ecf | wm4281_R2.fastq.gz  |\n",
       "| 5d805c02e4b06d0cb47c4f19 | wm4281n_R1.fastq.gz |\n",
       "| 5d805c02e4b06d0cb47c4f82 | wm4281n_R2.fastq.gz |\n",
       "| 5d805c02e4b06d0cb47c4e1e | wm4304_R1.fastq.gz  |\n",
       "| 5d805c02e4b06d0cb47c4e23 | wm4304_R2.fastq.gz  |\n",
       "\n"
      ],
      "text/plain": [
       "  id                       name               \n",
       "1 5d805c02e4b06d0cb47c4dde wm4281_R1.fastq.gz \n",
       "2 5d805c02e4b06d0cb47c4ecf wm4281_R2.fastq.gz \n",
       "3 5d805c02e4b06d0cb47c4f19 wm4281n_R1.fastq.gz\n",
       "4 5d805c02e4b06d0cb47c4f82 wm4281n_R2.fastq.gz\n",
       "5 5d805c02e4b06d0cb47c4e1e wm4304_R1.fastq.gz \n",
       "6 5d805c02e4b06d0cb47c4e23 wm4304_R2.fastq.gz "
      ]
     },
     "metadata": {},
     "output_type": "display_data"
    }
   ],
   "source": [
    "# Filter the cgc files for only the cds files\n",
    "\n",
    "cds_files_manifest <- cgc_files %>% filter(name %in% cds_files)\n",
    "\n",
    "nrow(cds_files_manifest)\n",
    "head(cds_files_manifest)"
   ]
  },
  {
   "cell_type": "markdown",
   "id": "33c88124-1e19-4651-9d04-288b05cc35df",
   "metadata": {
    "tags": []
   },
   "source": [
    "### Copy the files to the cds staging folder"
   ]
  },
  {
   "cell_type": "code",
   "execution_count": 7,
   "id": "c312d1bc-9f30-46c1-b6fc-fe13ed7f23df",
   "metadata": {},
   "outputs": [
    {
     "name": "stderr",
     "output_type": "stream",
     "text": [
      "Authenticating with user configuration file: ~/.sevenbridges/credentials\n",
      "\n",
      "Authenticating with user profile: cgc\n",
      "\n"
     ]
    }
   ],
   "source": [
    "# Connect to the platform\n",
    "\n",
    "sbg_auth <- Auth(from = 'file', profile_name = 'cgc')\n",
    "sbg_proj <- sbg_auth$project(id = 'pdxnet/pdxnet-datapool')"
   ]
  },
  {
   "cell_type": "code",
   "execution_count": 8,
   "id": "038364c3-149b-444b-a7da-c751d4c74b50",
   "metadata": {},
   "outputs": [
    {
     "data": {
      "text/plain": [
       "== Files ==\n",
       "id : 6217a99bb07915019d2c0d29\n",
       "name : 2022-02-24_cds_upload_staging\n",
       "project : pdxnet/pdxnet-datapool\n",
       "parent : 5d60008fe4b0b892538d34b4\n",
       "type : folder"
      ]
     },
     "metadata": {},
     "output_type": "display_data"
    },
    {
     "data": {
      "text/html": [
       "'6217a99bb07915019d2c0d29'"
      ],
      "text/latex": [
       "'6217a99bb07915019d2c0d29'"
      ],
      "text/markdown": [
       "'6217a99bb07915019d2c0d29'"
      ],
      "text/plain": [
       "[1] \"6217a99bb07915019d2c0d29\""
      ]
     },
     "metadata": {},
     "output_type": "display_data"
    }
   ],
   "source": [
    "# Get the folder object for the staging area\n",
    "\n",
    "staging_folder <- sbg_proj$get_root_folder()$list_folder_contents(complete = TRUE)[[11]]$list_folder_contents(complete = TRUE)[[1]]\n",
    "\n",
    "staging_folder\n",
    "staging_folder$id"
   ]
  },
  {
   "cell_type": "code",
   "execution_count": 9,
   "id": "bea185bd-37e9-4b9a-9607-350ae9816512",
   "metadata": {},
   "outputs": [],
   "source": [
    "# Copy files to the staging area\n",
    "\n",
    "for (i in seq_along(cds_files_manifest$id)) {\n",
    "    \n",
    "    # Pause for 5 mins every 200 iterations to avoid API call limits\n",
    "    if (i %% 200 == 0) {\n",
    "        Sys.sleep(300)\n",
    "    }\n",
    "    \n",
    "    # Copy files\n",
    "    sbg_proj$file(id = cds_files_manifest$id[i])$copy_to_folder(staging_folder$id)\n",
    "}"
   ]
  },
  {
   "cell_type": "markdown",
   "id": "84810179-f388-4115-8de9-c609dc2709f8",
   "metadata": {},
   "source": [
    "### Set the metadata for these files after the upload\n",
    "The CDS upload was successful for all of these files so we can go ahead and add the `cds_status` and `dbgap_accession` metadata fields to these files."
   ]
  },
  {
   "cell_type": "code",
   "execution_count": 10,
   "id": "bcc311f2-b99e-471a-8a66-cafad9e916f7",
   "metadata": {},
   "outputs": [],
   "source": [
    "for (i in seq_along(cds_files_manifest$id)) {\n",
    "    \n",
    "    # Pause for 5 mins every 200 iterations to avoid API call limits\n",
    "    if (i %% 200 == 0) {\n",
    "        Sys.sleep(300)\n",
    "    }\n",
    "    \n",
    "    # Set metadata\n",
    "    sbg_proj$file(id = cds_files_manifest$id[i])$set_meta(cds_status = 'uploaded', dbgap_accession = 'phs002432.v1.p1')\n",
    "}"
   ]
  }
 ],
 "metadata": {
  "kernelspec": {
   "display_name": "R",
   "language": "R",
   "name": "ir"
  },
  "language_info": {
   "codemirror_mode": "r",
   "file_extension": ".r",
   "mimetype": "text/x-r-source",
   "name": "R",
   "pygments_lexer": "r",
   "version": "4.1.2"
  }
 },
 "nbformat": 4,
 "nbformat_minor": 5
}
