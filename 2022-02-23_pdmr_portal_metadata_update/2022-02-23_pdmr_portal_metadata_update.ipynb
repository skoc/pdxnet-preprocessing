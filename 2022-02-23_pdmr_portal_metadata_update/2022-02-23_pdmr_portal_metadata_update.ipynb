{
 "cells": [
  {
   "cell_type": "markdown",
   "id": "652f20c7-bbba-4c0b-a01b-ddae29891b46",
   "metadata": {},
   "source": [
    "# Update the PDMR Metadata For the PDXNet Portal\n",
    "## Date: 2022-02-23\n",
    "## Author: Jeffrey Grover\n",
    "**Purpose:** After creating new metadata for the PDTC models on the portal, the PDMR's metadata can also be updated to remove some unnecessary columns."
   ]
  },
  {
   "cell_type": "markdown",
   "id": "2582ac66-8b5b-4a72-8213-3eaf2e5963aa",
   "metadata": {},
   "source": [
    "### Load libraries"
   ]
  },
  {
   "cell_type": "code",
   "execution_count": 1,
   "id": "e88ff79b-8106-410b-8e12-9b3a92a9d0d4",
   "metadata": {},
   "outputs": [
    {
     "name": "stderr",
     "output_type": "stream",
     "text": [
      "── \u001b[1mAttaching packages\u001b[22m ─────────────────────────────────────────────────────────────────────────────────────────────────────────────────────────────────────────────────────────────────────────────────────────────────── tidyverse 1.3.1 ──\n",
      "\n",
      "\u001b[32m✔\u001b[39m \u001b[34mggplot2\u001b[39m 3.3.5     \u001b[32m✔\u001b[39m \u001b[34mpurrr  \u001b[39m 0.3.4\n",
      "\u001b[32m✔\u001b[39m \u001b[34mtibble \u001b[39m 3.1.6     \u001b[32m✔\u001b[39m \u001b[34mdplyr  \u001b[39m 1.0.7\n",
      "\u001b[32m✔\u001b[39m \u001b[34mtidyr  \u001b[39m 1.1.4     \u001b[32m✔\u001b[39m \u001b[34mstringr\u001b[39m 1.4.0\n",
      "\u001b[32m✔\u001b[39m \u001b[34mreadr  \u001b[39m 2.1.1     \u001b[32m✔\u001b[39m \u001b[34mforcats\u001b[39m 0.5.1\n",
      "\n",
      "── \u001b[1mConflicts\u001b[22m ────────────────────────────────────────────────────────────────────────────────────────────────────────────────────────────────────────────────────────────────────────────────────────────────────── tidyverse_conflicts() ──\n",
      "\u001b[31m✖\u001b[39m \u001b[34mdplyr\u001b[39m::\u001b[32mfilter()\u001b[39m masks \u001b[34mstats\u001b[39m::filter()\n",
      "\u001b[31m✖\u001b[39m \u001b[34mdplyr\u001b[39m::\u001b[32mlag()\u001b[39m    masks \u001b[34mstats\u001b[39m::lag()\n",
      "\n"
     ]
    }
   ],
   "source": [
    "library(tidyverse)"
   ]
  },
  {
   "cell_type": "markdown",
   "id": "f38eed24-39c8-4fe6-b87a-011094d4dec8",
   "metadata": {},
   "source": [
    "### Load metadata"
   ]
  },
  {
   "cell_type": "code",
   "execution_count": 2,
   "id": "1455c01c-2825-43c7-aac4-49b28b57fad2",
   "metadata": {},
   "outputs": [
    {
     "name": "stderr",
     "output_type": "stream",
     "text": [
      "\u001b[1mRows: \u001b[22m\u001b[34m9492\u001b[39m \u001b[1mColumns: \u001b[22m\u001b[34m21\u001b[39m\n",
      "\n",
      "\u001b[36m──\u001b[39m \u001b[1mColumn specification\u001b[22m \u001b[36m────────────────────────────────────────────────────────────────────────────────────────────────────────────────────────────────────────────────────────────────────────────────────────────────────────────────────\u001b[39m\n",
      "\u001b[1mDelimiter:\u001b[22m \",\"\n",
      "\u001b[31mchr\u001b[39m (19): id, name, project, Patient ID, gender, Capture assembly, disease_t...\n",
      "\u001b[32mdbl\u001b[39m  (2): paired_end, age_at_diagnosis\n",
      "\n",
      "\n",
      "\u001b[36mℹ\u001b[39m Use \u001b[30m\u001b[47m\u001b[30m\u001b[47m`spec()`\u001b[47m\u001b[30m\u001b[49m\u001b[39m to retrieve the full column specification for this data.\n",
      "\u001b[36mℹ\u001b[39m Specify the column types or set \u001b[30m\u001b[47m\u001b[30m\u001b[47m`show_col_types = FALSE`\u001b[47m\u001b[30m\u001b[49m\u001b[39m to quiet this message.\n",
      "\n",
      "\u001b[1mRows: \u001b[22m\u001b[34m5014\u001b[39m \u001b[1mColumns: \u001b[22m\u001b[34m21\u001b[39m\n",
      "\n",
      "\u001b[36m──\u001b[39m \u001b[1mColumn specification\u001b[22m \u001b[36m────────────────────────────────────────────────────────────────────────────────────────────────────────────────────────────────────────────────────────────────────────────────────────────────────────────────────\u001b[39m\n",
      "\u001b[1mDelimiter:\u001b[22m \",\"\n",
      "\u001b[31mchr\u001b[39m (19): id, name, project, Patient ID, gender, Capture assembly, disease_t...\n",
      "\u001b[32mdbl\u001b[39m  (2): paired_end, age_at_diagnosis\n",
      "\n",
      "\n",
      "\u001b[36mℹ\u001b[39m Use \u001b[30m\u001b[47m\u001b[30m\u001b[47m`spec()`\u001b[47m\u001b[30m\u001b[49m\u001b[39m to retrieve the full column specification for this data.\n",
      "\u001b[36mℹ\u001b[39m Specify the column types or set \u001b[30m\u001b[47m\u001b[30m\u001b[47m`show_col_types = FALSE`\u001b[47m\u001b[30m\u001b[49m\u001b[39m to quiet this message.\n",
      "\n"
     ]
    },
    {
     "data": {
      "text/html": [
       "14506"
      ],
      "text/latex": [
       "14506"
      ],
      "text/markdown": [
       "14506"
      ],
      "text/plain": [
       "[1] 14506"
      ]
     },
     "metadata": {},
     "output_type": "display_data"
    },
    {
     "data": {
      "text/html": [
       "<table class=\"dataframe\">\n",
       "<caption>A tibble: 6 × 21</caption>\n",
       "<thead>\n",
       "\t<tr><th scope=col>id</th><th scope=col>name</th><th scope=col>project</th><th scope=col>Patient ID</th><th scope=col>gender</th><th scope=col>Capture assembly</th><th scope=col>disease_type</th><th scope=col>sample_id</th><th scope=col>PDMR Version</th><th scope=col>PDMR Sample ID</th><th scope=col>⋯</th><th scope=col>Has Matched Normal</th><th scope=col>Passage</th><th scope=col>paired_end</th><th scope=col>sample_type</th><th scope=col>platform</th><th scope=col>age_at_diagnosis</th><th scope=col>Capture kit</th><th scope=col>case_id</th><th scope=col>Specimen ID</th><th scope=col>experimental_strategy</th></tr>\n",
       "\t<tr><th scope=col>&lt;chr&gt;</th><th scope=col>&lt;chr&gt;</th><th scope=col>&lt;chr&gt;</th><th scope=col>&lt;chr&gt;</th><th scope=col>&lt;chr&gt;</th><th scope=col>&lt;chr&gt;</th><th scope=col>&lt;chr&gt;</th><th scope=col>&lt;chr&gt;</th><th scope=col>&lt;chr&gt;</th><th scope=col>&lt;chr&gt;</th><th scope=col>⋯</th><th scope=col>&lt;chr&gt;</th><th scope=col>&lt;chr&gt;</th><th scope=col>&lt;dbl&gt;</th><th scope=col>&lt;chr&gt;</th><th scope=col>&lt;chr&gt;</th><th scope=col>&lt;dbl&gt;</th><th scope=col>&lt;chr&gt;</th><th scope=col>&lt;chr&gt;</th><th scope=col>&lt;chr&gt;</th><th scope=col>&lt;chr&gt;</th></tr>\n",
       "</thead>\n",
       "<tbody>\n",
       "\t<tr><td>5f43cd0be4b0bf4ad141bd5e</td><td>253994~v2.0.1.10.0~germlineWES.R1.FASTQ.gz    </td><td>jeffrey.grover/pdxnet-pdmr-datapool</td><td>253994</td><td>Male  </td><td>hg19</td><td>Colorectal cancer - NOS       </td><td>253994                  </td><td>2_0_1_10_0</td><td>NA       </td><td>⋯</td><td>NA</td><td>NA</td><td>1</td><td>normal_germline</td><td>Illumina HiSeq</td><td>50</td><td>SureSelect Human All Exon V5</td><td>253994</td><td>NA   </td><td>WES   </td></tr>\n",
       "\t<tr><td>5f43cd0be4b0bf4ad141bd27</td><td>174316~266-R~AD7I14~v1.2~WES.R1.FASTQ.gz      </td><td>jeffrey.grover/pdxnet-pdmr-datapool</td><td>174316</td><td>Male  </td><td>hg19</td><td>Squamous cell carcinoma - skin</td><td>174316--266-R--AD7I14   </td><td>1_2       </td><td>AD7I14   </td><td>⋯</td><td>Y </td><td>P1</td><td>1</td><td>PDX            </td><td>Illumina HiSeq</td><td>83</td><td>SureSelect Human All Exon V5</td><td>174316</td><td>266-R</td><td>WES   </td></tr>\n",
       "\t<tr><td>5f43cd0be4b0bf4ad141bcde</td><td>345371~062-R~P27PQ6~v1.2~RNASEQ.R2.FASTQ.gz   </td><td>jeffrey.grover/pdxnet-pdmr-datapool</td><td>345371</td><td>Female</td><td>hg19</td><td>Salivary gland cancer         </td><td>345371--062-R--P27PQ6   </td><td>1_2       </td><td>P27PQ6   </td><td>⋯</td><td>NA</td><td>P1</td><td>2</td><td>PDX            </td><td>Illumina HiSeq</td><td>65</td><td>TruSeq RNA Access           </td><td>345371</td><td>062-R</td><td>RNASEQ</td></tr>\n",
       "\t<tr><td>5f43cd0be4b0bf4ad141bce0</td><td>417821~307-R~TO3~v1.2~WES.R2.FASTQ.gz         </td><td>jeffrey.grover/pdxnet-pdmr-datapool</td><td>417821</td><td>Male  </td><td>hg19</td><td>Squamous cell lung carcinoma  </td><td>417821--307-R--TO3      </td><td>1_2       </td><td>TO3      </td><td>⋯</td><td>Y </td><td>P0</td><td>2</td><td>PDX            </td><td>Illumina HiSeq</td><td>67</td><td>SureSelect Human All Exon V5</td><td>417821</td><td>307-R</td><td>WES   </td></tr>\n",
       "\t<tr><td>5f43cd0be4b0bf4ad141bcdf</td><td>594176~295-R~AL8~v1.2~WES.R2.FASTQ.gz         </td><td>jeffrey.grover/pdxnet-pdmr-datapool</td><td>594176</td><td>Male  </td><td>hg19</td><td>Osteosarcoma                  </td><td>594176--295-R--AL8      </td><td>1_2       </td><td>AL8      </td><td>⋯</td><td>Y </td><td>P0</td><td>2</td><td>PDX            </td><td>Illumina HiSeq</td><td>72</td><td>SureSelect Human All Exon V5</td><td>594176</td><td>295-R</td><td>WES   </td></tr>\n",
       "\t<tr><td>5f43cd0be4b0bf4ad141bcd8</td><td>283228~195-R~A04VW5UV9~v1.2~RNASEQ.R2.FASTQ.gz</td><td>jeffrey.grover/pdxnet-pdmr-datapool</td><td>283228</td><td>Male  </td><td>hg19</td><td>Melanoma                      </td><td>283228--195-R--A04VW5UV9</td><td>1_2       </td><td>A04VW5UV9</td><td>⋯</td><td>NA</td><td>P2</td><td>2</td><td>PDX            </td><td>Illumina HiSeq</td><td>48</td><td>TruSeq RNA Access           </td><td>283228</td><td>195-R</td><td>RNASEQ</td></tr>\n",
       "</tbody>\n",
       "</table>\n"
      ],
      "text/latex": [
       "A tibble: 6 × 21\n",
       "\\begin{tabular}{lllllllllllllllllllll}\n",
       " id & name & project & Patient ID & gender & Capture assembly & disease\\_type & sample\\_id & PDMR Version & PDMR Sample ID & ⋯ & Has Matched Normal & Passage & paired\\_end & sample\\_type & platform & age\\_at\\_diagnosis & Capture kit & case\\_id & Specimen ID & experimental\\_strategy\\\\\n",
       " <chr> & <chr> & <chr> & <chr> & <chr> & <chr> & <chr> & <chr> & <chr> & <chr> & ⋯ & <chr> & <chr> & <dbl> & <chr> & <chr> & <dbl> & <chr> & <chr> & <chr> & <chr>\\\\\n",
       "\\hline\n",
       "\t 5f43cd0be4b0bf4ad141bd5e & 253994\\textasciitilde{}v2.0.1.10.0\\textasciitilde{}germlineWES.R1.FASTQ.gz     & jeffrey.grover/pdxnet-pdmr-datapool & 253994 & Male   & hg19 & Colorectal cancer - NOS        & 253994                   & 2\\_0\\_1\\_10\\_0 & NA        & ⋯ & NA & NA & 1 & normal\\_germline & Illumina HiSeq & 50 & SureSelect Human All Exon V5 & 253994 & NA    & WES   \\\\\n",
       "\t 5f43cd0be4b0bf4ad141bd27 & 174316\\textasciitilde{}266-R\\textasciitilde{}AD7I14\\textasciitilde{}v1.2\\textasciitilde{}WES.R1.FASTQ.gz       & jeffrey.grover/pdxnet-pdmr-datapool & 174316 & Male   & hg19 & Squamous cell carcinoma - skin & 174316--266-R--AD7I14    & 1\\_2        & AD7I14    & ⋯ & Y  & P1 & 1 & PDX             & Illumina HiSeq & 83 & SureSelect Human All Exon V5 & 174316 & 266-R & WES   \\\\\n",
       "\t 5f43cd0be4b0bf4ad141bcde & 345371\\textasciitilde{}062-R\\textasciitilde{}P27PQ6\\textasciitilde{}v1.2\\textasciitilde{}RNASEQ.R2.FASTQ.gz    & jeffrey.grover/pdxnet-pdmr-datapool & 345371 & Female & hg19 & Salivary gland cancer          & 345371--062-R--P27PQ6    & 1\\_2        & P27PQ6    & ⋯ & NA & P1 & 2 & PDX             & Illumina HiSeq & 65 & TruSeq RNA Access            & 345371 & 062-R & RNASEQ\\\\\n",
       "\t 5f43cd0be4b0bf4ad141bce0 & 417821\\textasciitilde{}307-R\\textasciitilde{}TO3\\textasciitilde{}v1.2\\textasciitilde{}WES.R2.FASTQ.gz          & jeffrey.grover/pdxnet-pdmr-datapool & 417821 & Male   & hg19 & Squamous cell lung carcinoma   & 417821--307-R--TO3       & 1\\_2        & TO3       & ⋯ & Y  & P0 & 2 & PDX             & Illumina HiSeq & 67 & SureSelect Human All Exon V5 & 417821 & 307-R & WES   \\\\\n",
       "\t 5f43cd0be4b0bf4ad141bcdf & 594176\\textasciitilde{}295-R\\textasciitilde{}AL8\\textasciitilde{}v1.2\\textasciitilde{}WES.R2.FASTQ.gz          & jeffrey.grover/pdxnet-pdmr-datapool & 594176 & Male   & hg19 & Osteosarcoma                   & 594176--295-R--AL8       & 1\\_2        & AL8       & ⋯ & Y  & P0 & 2 & PDX             & Illumina HiSeq & 72 & SureSelect Human All Exon V5 & 594176 & 295-R & WES   \\\\\n",
       "\t 5f43cd0be4b0bf4ad141bcd8 & 283228\\textasciitilde{}195-R\\textasciitilde{}A04VW5UV9\\textasciitilde{}v1.2\\textasciitilde{}RNASEQ.R2.FASTQ.gz & jeffrey.grover/pdxnet-pdmr-datapool & 283228 & Male   & hg19 & Melanoma                       & 283228--195-R--A04VW5UV9 & 1\\_2        & A04VW5UV9 & ⋯ & NA & P2 & 2 & PDX             & Illumina HiSeq & 48 & TruSeq RNA Access            & 283228 & 195-R & RNASEQ\\\\\n",
       "\\end{tabular}\n"
      ],
      "text/markdown": [
       "\n",
       "A tibble: 6 × 21\n",
       "\n",
       "| id &lt;chr&gt; | name &lt;chr&gt; | project &lt;chr&gt; | Patient ID &lt;chr&gt; | gender &lt;chr&gt; | Capture assembly &lt;chr&gt; | disease_type &lt;chr&gt; | sample_id &lt;chr&gt; | PDMR Version &lt;chr&gt; | PDMR Sample ID &lt;chr&gt; | ⋯ ⋯ | Has Matched Normal &lt;chr&gt; | Passage &lt;chr&gt; | paired_end &lt;dbl&gt; | sample_type &lt;chr&gt; | platform &lt;chr&gt; | age_at_diagnosis &lt;dbl&gt; | Capture kit &lt;chr&gt; | case_id &lt;chr&gt; | Specimen ID &lt;chr&gt; | experimental_strategy &lt;chr&gt; |\n",
       "|---|---|---|---|---|---|---|---|---|---|---|---|---|---|---|---|---|---|---|---|---|\n",
       "| 5f43cd0be4b0bf4ad141bd5e | 253994~v2.0.1.10.0~germlineWES.R1.FASTQ.gz     | jeffrey.grover/pdxnet-pdmr-datapool | 253994 | Male   | hg19 | Colorectal cancer - NOS        | 253994                   | 2_0_1_10_0 | NA        | ⋯ | NA | NA | 1 | normal_germline | Illumina HiSeq | 50 | SureSelect Human All Exon V5 | 253994 | NA    | WES    |\n",
       "| 5f43cd0be4b0bf4ad141bd27 | 174316~266-R~AD7I14~v1.2~WES.R1.FASTQ.gz       | jeffrey.grover/pdxnet-pdmr-datapool | 174316 | Male   | hg19 | Squamous cell carcinoma - skin | 174316--266-R--AD7I14    | 1_2        | AD7I14    | ⋯ | Y  | P1 | 1 | PDX             | Illumina HiSeq | 83 | SureSelect Human All Exon V5 | 174316 | 266-R | WES    |\n",
       "| 5f43cd0be4b0bf4ad141bcde | 345371~062-R~P27PQ6~v1.2~RNASEQ.R2.FASTQ.gz    | jeffrey.grover/pdxnet-pdmr-datapool | 345371 | Female | hg19 | Salivary gland cancer          | 345371--062-R--P27PQ6    | 1_2        | P27PQ6    | ⋯ | NA | P1 | 2 | PDX             | Illumina HiSeq | 65 | TruSeq RNA Access            | 345371 | 062-R | RNASEQ |\n",
       "| 5f43cd0be4b0bf4ad141bce0 | 417821~307-R~TO3~v1.2~WES.R2.FASTQ.gz          | jeffrey.grover/pdxnet-pdmr-datapool | 417821 | Male   | hg19 | Squamous cell lung carcinoma   | 417821--307-R--TO3       | 1_2        | TO3       | ⋯ | Y  | P0 | 2 | PDX             | Illumina HiSeq | 67 | SureSelect Human All Exon V5 | 417821 | 307-R | WES    |\n",
       "| 5f43cd0be4b0bf4ad141bcdf | 594176~295-R~AL8~v1.2~WES.R2.FASTQ.gz          | jeffrey.grover/pdxnet-pdmr-datapool | 594176 | Male   | hg19 | Osteosarcoma                   | 594176--295-R--AL8       | 1_2        | AL8       | ⋯ | Y  | P0 | 2 | PDX             | Illumina HiSeq | 72 | SureSelect Human All Exon V5 | 594176 | 295-R | WES    |\n",
       "| 5f43cd0be4b0bf4ad141bcd8 | 283228~195-R~A04VW5UV9~v1.2~RNASEQ.R2.FASTQ.gz | jeffrey.grover/pdxnet-pdmr-datapool | 283228 | Male   | hg19 | Melanoma                       | 283228--195-R--A04VW5UV9 | 1_2        | A04VW5UV9 | ⋯ | NA | P2 | 2 | PDX             | Illumina HiSeq | 48 | TruSeq RNA Access            | 283228 | 195-R | RNASEQ |\n",
       "\n"
      ],
      "text/plain": [
       "  id                       name                                          \n",
       "1 5f43cd0be4b0bf4ad141bd5e 253994~v2.0.1.10.0~germlineWES.R1.FASTQ.gz    \n",
       "2 5f43cd0be4b0bf4ad141bd27 174316~266-R~AD7I14~v1.2~WES.R1.FASTQ.gz      \n",
       "3 5f43cd0be4b0bf4ad141bcde 345371~062-R~P27PQ6~v1.2~RNASEQ.R2.FASTQ.gz   \n",
       "4 5f43cd0be4b0bf4ad141bce0 417821~307-R~TO3~v1.2~WES.R2.FASTQ.gz         \n",
       "5 5f43cd0be4b0bf4ad141bcdf 594176~295-R~AL8~v1.2~WES.R2.FASTQ.gz         \n",
       "6 5f43cd0be4b0bf4ad141bcd8 283228~195-R~A04VW5UV9~v1.2~RNASEQ.R2.FASTQ.gz\n",
       "  project                             Patient ID gender Capture assembly\n",
       "1 jeffrey.grover/pdxnet-pdmr-datapool 253994     Male   hg19            \n",
       "2 jeffrey.grover/pdxnet-pdmr-datapool 174316     Male   hg19            \n",
       "3 jeffrey.grover/pdxnet-pdmr-datapool 345371     Female hg19            \n",
       "4 jeffrey.grover/pdxnet-pdmr-datapool 417821     Male   hg19            \n",
       "5 jeffrey.grover/pdxnet-pdmr-datapool 594176     Male   hg19            \n",
       "6 jeffrey.grover/pdxnet-pdmr-datapool 283228     Male   hg19            \n",
       "  disease_type                   sample_id                PDMR Version\n",
       "1 Colorectal cancer - NOS        253994                   2_0_1_10_0  \n",
       "2 Squamous cell carcinoma - skin 174316--266-R--AD7I14    1_2         \n",
       "3 Salivary gland cancer          345371--062-R--P27PQ6    1_2         \n",
       "4 Squamous cell lung carcinoma   417821--307-R--TO3       1_2         \n",
       "5 Osteosarcoma                   594176--295-R--AL8       1_2         \n",
       "6 Melanoma                       283228--195-R--A04VW5UV9 1_2         \n",
       "  PDMR Sample ID ⋯ Has Matched Normal Passage paired_end sample_type    \n",
       "1 NA             ⋯ NA                 NA      1          normal_germline\n",
       "2 AD7I14         ⋯ Y                  P1      1          PDX            \n",
       "3 P27PQ6         ⋯ NA                 P1      2          PDX            \n",
       "4 TO3            ⋯ Y                  P0      2          PDX            \n",
       "5 AL8            ⋯ Y                  P0      2          PDX            \n",
       "6 A04VW5UV9      ⋯ NA                 P2      2          PDX            \n",
       "  platform       age_at_diagnosis Capture kit                  case_id\n",
       "1 Illumina HiSeq 50               SureSelect Human All Exon V5 253994 \n",
       "2 Illumina HiSeq 83               SureSelect Human All Exon V5 174316 \n",
       "3 Illumina HiSeq 65               TruSeq RNA Access            345371 \n",
       "4 Illumina HiSeq 67               SureSelect Human All Exon V5 417821 \n",
       "5 Illumina HiSeq 72               SureSelect Human All Exon V5 594176 \n",
       "6 Illumina HiSeq 48               TruSeq RNA Access            283228 \n",
       "  Specimen ID experimental_strategy\n",
       "1 NA          WES                  \n",
       "2 266-R       WES                  \n",
       "3 062-R       RNASEQ               \n",
       "4 307-R       WES                  \n",
       "5 295-R       WES                  \n",
       "6 195-R       RNASEQ               "
      ]
     },
     "metadata": {},
     "output_type": "display_data"
    }
   ],
   "source": [
    "pdmr_metadata <- read_csv('2021-04-01_pdxnet-pdmr_datapool-fastq-manifest.csv') %>% bind_rows(read_csv('2021-08-16_pdxnet_pdmr_datapool_uploaded_fastq-manifest.csv'))\n",
    "\n",
    "nrow(pdmr_metadata)\n",
    "head(pdmr_metadata)"
   ]
  },
  {
   "cell_type": "markdown",
   "id": "6408b9e9-5cc1-4612-a51a-5126411f8c6c",
   "metadata": {},
   "source": [
    "### Reformatting"
   ]
  },
  {
   "cell_type": "code",
   "execution_count": 3,
   "id": "8bc5bcce-1799-493a-a162-e786a97179e2",
   "metadata": {},
   "outputs": [],
   "source": [
    "# Remove unnecessary columns\n",
    "\n",
    "pdmr_metadata <- pdmr_metadata %>% select(-id, -project)"
   ]
  },
  {
   "cell_type": "code",
   "execution_count": 4,
   "id": "1dc1cdc8-7f00-4ae9-b4f5-a6e1f80bf7da",
   "metadata": {},
   "outputs": [
    {
     "data": {
      "text/html": [
       "<table class=\"dataframe\">\n",
       "<caption>A tibble: 6 × 21</caption>\n",
       "<thead>\n",
       "\t<tr><th scope=col>name</th><th scope=col>Patient ID</th><th scope=col>gender</th><th scope=col>Capture assembly</th><th scope=col>disease_type</th><th scope=col>sample_id</th><th scope=col>PDMR Version</th><th scope=col>PDMR Sample ID</th><th scope=col>Is PDMR Version 2</th><th scope=col>Has Matched Normal</th><th scope=col>⋯</th><th scope=col>paired_end</th><th scope=col>sample_type</th><th scope=col>platform</th><th scope=col>age_at_diagnosis</th><th scope=col>Capture kit</th><th scope=col>case_id</th><th scope=col>Specimen ID</th><th scope=col>experimental_strategy</th><th scope=col>index</th><th scope=col>contributor</th></tr>\n",
       "\t<tr><th scope=col>&lt;chr&gt;</th><th scope=col>&lt;chr&gt;</th><th scope=col>&lt;chr&gt;</th><th scope=col>&lt;chr&gt;</th><th scope=col>&lt;chr&gt;</th><th scope=col>&lt;chr&gt;</th><th scope=col>&lt;chr&gt;</th><th scope=col>&lt;chr&gt;</th><th scope=col>&lt;chr&gt;</th><th scope=col>&lt;chr&gt;</th><th scope=col>⋯</th><th scope=col>&lt;dbl&gt;</th><th scope=col>&lt;chr&gt;</th><th scope=col>&lt;chr&gt;</th><th scope=col>&lt;dbl&gt;</th><th scope=col>&lt;chr&gt;</th><th scope=col>&lt;chr&gt;</th><th scope=col>&lt;chr&gt;</th><th scope=col>&lt;chr&gt;</th><th scope=col>&lt;int&gt;</th><th scope=col>&lt;chr&gt;</th></tr>\n",
       "</thead>\n",
       "<tbody>\n",
       "\t<tr><td>253994~v2.0.1.10.0~germlineWES.R1.FASTQ.gz    </td><td>253994</td><td>Male  </td><td>hg19</td><td>Colorectal cancer - NOS       </td><td>253994                  </td><td>2_0_1_10_0</td><td>NA       </td><td>Y</td><td>NA</td><td>⋯</td><td>1</td><td>normal_germline</td><td>Illumina HiSeq</td><td>50</td><td>SureSelect Human All Exon V5</td><td>253994</td><td>NA   </td><td>WES   </td><td>1</td><td>NCI</td></tr>\n",
       "\t<tr><td>174316~266-R~AD7I14~v1.2~WES.R1.FASTQ.gz      </td><td>174316</td><td>Male  </td><td>hg19</td><td>Squamous cell carcinoma - skin</td><td>174316--266-R--AD7I14   </td><td>1_2       </td><td>AD7I14   </td><td>N</td><td>Y </td><td>⋯</td><td>1</td><td>PDX            </td><td>Illumina HiSeq</td><td>83</td><td>SureSelect Human All Exon V5</td><td>174316</td><td>266-R</td><td>WES   </td><td>2</td><td>NCI</td></tr>\n",
       "\t<tr><td>345371~062-R~P27PQ6~v1.2~RNASEQ.R2.FASTQ.gz   </td><td>345371</td><td>Female</td><td>hg19</td><td>Salivary gland cancer         </td><td>345371--062-R--P27PQ6   </td><td>1_2       </td><td>P27PQ6   </td><td>N</td><td>NA</td><td>⋯</td><td>2</td><td>PDX            </td><td>Illumina HiSeq</td><td>65</td><td>TruSeq RNA Access           </td><td>345371</td><td>062-R</td><td>RNASEQ</td><td>3</td><td>NCI</td></tr>\n",
       "\t<tr><td>417821~307-R~TO3~v1.2~WES.R2.FASTQ.gz         </td><td>417821</td><td>Male  </td><td>hg19</td><td>Squamous cell lung carcinoma  </td><td>417821--307-R--TO3      </td><td>1_2       </td><td>TO3      </td><td>N</td><td>Y </td><td>⋯</td><td>2</td><td>PDX            </td><td>Illumina HiSeq</td><td>67</td><td>SureSelect Human All Exon V5</td><td>417821</td><td>307-R</td><td>WES   </td><td>4</td><td>NCI</td></tr>\n",
       "\t<tr><td>594176~295-R~AL8~v1.2~WES.R2.FASTQ.gz         </td><td>594176</td><td>Male  </td><td>hg19</td><td>Osteosarcoma                  </td><td>594176--295-R--AL8      </td><td>1_2       </td><td>AL8      </td><td>N</td><td>Y </td><td>⋯</td><td>2</td><td>PDX            </td><td>Illumina HiSeq</td><td>72</td><td>SureSelect Human All Exon V5</td><td>594176</td><td>295-R</td><td>WES   </td><td>5</td><td>NCI</td></tr>\n",
       "\t<tr><td>283228~195-R~A04VW5UV9~v1.2~RNASEQ.R2.FASTQ.gz</td><td>283228</td><td>Male  </td><td>hg19</td><td>Melanoma                      </td><td>283228--195-R--A04VW5UV9</td><td>1_2       </td><td>A04VW5UV9</td><td>N</td><td>NA</td><td>⋯</td><td>2</td><td>PDX            </td><td>Illumina HiSeq</td><td>48</td><td>TruSeq RNA Access           </td><td>283228</td><td>195-R</td><td>RNASEQ</td><td>6</td><td>NCI</td></tr>\n",
       "</tbody>\n",
       "</table>\n"
      ],
      "text/latex": [
       "A tibble: 6 × 21\n",
       "\\begin{tabular}{lllllllllllllllllllll}\n",
       " name & Patient ID & gender & Capture assembly & disease\\_type & sample\\_id & PDMR Version & PDMR Sample ID & Is PDMR Version 2 & Has Matched Normal & ⋯ & paired\\_end & sample\\_type & platform & age\\_at\\_diagnosis & Capture kit & case\\_id & Specimen ID & experimental\\_strategy & index & contributor\\\\\n",
       " <chr> & <chr> & <chr> & <chr> & <chr> & <chr> & <chr> & <chr> & <chr> & <chr> & ⋯ & <dbl> & <chr> & <chr> & <dbl> & <chr> & <chr> & <chr> & <chr> & <int> & <chr>\\\\\n",
       "\\hline\n",
       "\t 253994\\textasciitilde{}v2.0.1.10.0\\textasciitilde{}germlineWES.R1.FASTQ.gz     & 253994 & Male   & hg19 & Colorectal cancer - NOS        & 253994                   & 2\\_0\\_1\\_10\\_0 & NA        & Y & NA & ⋯ & 1 & normal\\_germline & Illumina HiSeq & 50 & SureSelect Human All Exon V5 & 253994 & NA    & WES    & 1 & NCI\\\\\n",
       "\t 174316\\textasciitilde{}266-R\\textasciitilde{}AD7I14\\textasciitilde{}v1.2\\textasciitilde{}WES.R1.FASTQ.gz       & 174316 & Male   & hg19 & Squamous cell carcinoma - skin & 174316--266-R--AD7I14    & 1\\_2        & AD7I14    & N & Y  & ⋯ & 1 & PDX             & Illumina HiSeq & 83 & SureSelect Human All Exon V5 & 174316 & 266-R & WES    & 2 & NCI\\\\\n",
       "\t 345371\\textasciitilde{}062-R\\textasciitilde{}P27PQ6\\textasciitilde{}v1.2\\textasciitilde{}RNASEQ.R2.FASTQ.gz    & 345371 & Female & hg19 & Salivary gland cancer          & 345371--062-R--P27PQ6    & 1\\_2        & P27PQ6    & N & NA & ⋯ & 2 & PDX             & Illumina HiSeq & 65 & TruSeq RNA Access            & 345371 & 062-R & RNASEQ & 3 & NCI\\\\\n",
       "\t 417821\\textasciitilde{}307-R\\textasciitilde{}TO3\\textasciitilde{}v1.2\\textasciitilde{}WES.R2.FASTQ.gz          & 417821 & Male   & hg19 & Squamous cell lung carcinoma   & 417821--307-R--TO3       & 1\\_2        & TO3       & N & Y  & ⋯ & 2 & PDX             & Illumina HiSeq & 67 & SureSelect Human All Exon V5 & 417821 & 307-R & WES    & 4 & NCI\\\\\n",
       "\t 594176\\textasciitilde{}295-R\\textasciitilde{}AL8\\textasciitilde{}v1.2\\textasciitilde{}WES.R2.FASTQ.gz          & 594176 & Male   & hg19 & Osteosarcoma                   & 594176--295-R--AL8       & 1\\_2        & AL8       & N & Y  & ⋯ & 2 & PDX             & Illumina HiSeq & 72 & SureSelect Human All Exon V5 & 594176 & 295-R & WES    & 5 & NCI\\\\\n",
       "\t 283228\\textasciitilde{}195-R\\textasciitilde{}A04VW5UV9\\textasciitilde{}v1.2\\textasciitilde{}RNASEQ.R2.FASTQ.gz & 283228 & Male   & hg19 & Melanoma                       & 283228--195-R--A04VW5UV9 & 1\\_2        & A04VW5UV9 & N & NA & ⋯ & 2 & PDX             & Illumina HiSeq & 48 & TruSeq RNA Access            & 283228 & 195-R & RNASEQ & 6 & NCI\\\\\n",
       "\\end{tabular}\n"
      ],
      "text/markdown": [
       "\n",
       "A tibble: 6 × 21\n",
       "\n",
       "| name &lt;chr&gt; | Patient ID &lt;chr&gt; | gender &lt;chr&gt; | Capture assembly &lt;chr&gt; | disease_type &lt;chr&gt; | sample_id &lt;chr&gt; | PDMR Version &lt;chr&gt; | PDMR Sample ID &lt;chr&gt; | Is PDMR Version 2 &lt;chr&gt; | Has Matched Normal &lt;chr&gt; | ⋯ ⋯ | paired_end &lt;dbl&gt; | sample_type &lt;chr&gt; | platform &lt;chr&gt; | age_at_diagnosis &lt;dbl&gt; | Capture kit &lt;chr&gt; | case_id &lt;chr&gt; | Specimen ID &lt;chr&gt; | experimental_strategy &lt;chr&gt; | index &lt;int&gt; | contributor &lt;chr&gt; |\n",
       "|---|---|---|---|---|---|---|---|---|---|---|---|---|---|---|---|---|---|---|---|---|\n",
       "| 253994~v2.0.1.10.0~germlineWES.R1.FASTQ.gz     | 253994 | Male   | hg19 | Colorectal cancer - NOS        | 253994                   | 2_0_1_10_0 | NA        | Y | NA | ⋯ | 1 | normal_germline | Illumina HiSeq | 50 | SureSelect Human All Exon V5 | 253994 | NA    | WES    | 1 | NCI |\n",
       "| 174316~266-R~AD7I14~v1.2~WES.R1.FASTQ.gz       | 174316 | Male   | hg19 | Squamous cell carcinoma - skin | 174316--266-R--AD7I14    | 1_2        | AD7I14    | N | Y  | ⋯ | 1 | PDX             | Illumina HiSeq | 83 | SureSelect Human All Exon V5 | 174316 | 266-R | WES    | 2 | NCI |\n",
       "| 345371~062-R~P27PQ6~v1.2~RNASEQ.R2.FASTQ.gz    | 345371 | Female | hg19 | Salivary gland cancer          | 345371--062-R--P27PQ6    | 1_2        | P27PQ6    | N | NA | ⋯ | 2 | PDX             | Illumina HiSeq | 65 | TruSeq RNA Access            | 345371 | 062-R | RNASEQ | 3 | NCI |\n",
       "| 417821~307-R~TO3~v1.2~WES.R2.FASTQ.gz          | 417821 | Male   | hg19 | Squamous cell lung carcinoma   | 417821--307-R--TO3       | 1_2        | TO3       | N | Y  | ⋯ | 2 | PDX             | Illumina HiSeq | 67 | SureSelect Human All Exon V5 | 417821 | 307-R | WES    | 4 | NCI |\n",
       "| 594176~295-R~AL8~v1.2~WES.R2.FASTQ.gz          | 594176 | Male   | hg19 | Osteosarcoma                   | 594176--295-R--AL8       | 1_2        | AL8       | N | Y  | ⋯ | 2 | PDX             | Illumina HiSeq | 72 | SureSelect Human All Exon V5 | 594176 | 295-R | WES    | 5 | NCI |\n",
       "| 283228~195-R~A04VW5UV9~v1.2~RNASEQ.R2.FASTQ.gz | 283228 | Male   | hg19 | Melanoma                       | 283228--195-R--A04VW5UV9 | 1_2        | A04VW5UV9 | N | NA | ⋯ | 2 | PDX             | Illumina HiSeq | 48 | TruSeq RNA Access            | 283228 | 195-R | RNASEQ | 6 | NCI |\n",
       "\n"
      ],
      "text/plain": [
       "  name                                           Patient ID gender\n",
       "1 253994~v2.0.1.10.0~germlineWES.R1.FASTQ.gz     253994     Male  \n",
       "2 174316~266-R~AD7I14~v1.2~WES.R1.FASTQ.gz       174316     Male  \n",
       "3 345371~062-R~P27PQ6~v1.2~RNASEQ.R2.FASTQ.gz    345371     Female\n",
       "4 417821~307-R~TO3~v1.2~WES.R2.FASTQ.gz          417821     Male  \n",
       "5 594176~295-R~AL8~v1.2~WES.R2.FASTQ.gz          594176     Male  \n",
       "6 283228~195-R~A04VW5UV9~v1.2~RNASEQ.R2.FASTQ.gz 283228     Male  \n",
       "  Capture assembly disease_type                   sample_id               \n",
       "1 hg19             Colorectal cancer - NOS        253994                  \n",
       "2 hg19             Squamous cell carcinoma - skin 174316--266-R--AD7I14   \n",
       "3 hg19             Salivary gland cancer          345371--062-R--P27PQ6   \n",
       "4 hg19             Squamous cell lung carcinoma   417821--307-R--TO3      \n",
       "5 hg19             Osteosarcoma                   594176--295-R--AL8      \n",
       "6 hg19             Melanoma                       283228--195-R--A04VW5UV9\n",
       "  PDMR Version PDMR Sample ID Is PDMR Version 2 Has Matched Normal ⋯ paired_end\n",
       "1 2_0_1_10_0   NA             Y                 NA                 ⋯ 1         \n",
       "2 1_2          AD7I14         N                 Y                  ⋯ 1         \n",
       "3 1_2          P27PQ6         N                 NA                 ⋯ 2         \n",
       "4 1_2          TO3            N                 Y                  ⋯ 2         \n",
       "5 1_2          AL8            N                 Y                  ⋯ 2         \n",
       "6 1_2          A04VW5UV9      N                 NA                 ⋯ 2         \n",
       "  sample_type     platform       age_at_diagnosis Capture kit                 \n",
       "1 normal_germline Illumina HiSeq 50               SureSelect Human All Exon V5\n",
       "2 PDX             Illumina HiSeq 83               SureSelect Human All Exon V5\n",
       "3 PDX             Illumina HiSeq 65               TruSeq RNA Access           \n",
       "4 PDX             Illumina HiSeq 67               SureSelect Human All Exon V5\n",
       "5 PDX             Illumina HiSeq 72               SureSelect Human All Exon V5\n",
       "6 PDX             Illumina HiSeq 48               TruSeq RNA Access           \n",
       "  case_id Specimen ID experimental_strategy index contributor\n",
       "1 253994  NA          WES                   1     NCI        \n",
       "2 174316  266-R       WES                   2     NCI        \n",
       "3 345371  062-R       RNASEQ                3     NCI        \n",
       "4 417821  307-R       WES                   4     NCI        \n",
       "5 594176  295-R       WES                   5     NCI        \n",
       "6 283228  195-R       RNASEQ                6     NCI        "
      ]
     },
     "metadata": {},
     "output_type": "display_data"
    }
   ],
   "source": [
    "# Create index and contributor columns\n",
    "\n",
    "pdmr_metadata$index <- seq(1, nrow(pdmr_metadata))\n",
    "pdmr_metadata$contributor <- 'NCI'\n",
    "\n",
    "head(pdmr_metadata)"
   ]
  },
  {
   "cell_type": "code",
   "execution_count": 5,
   "id": "2750e383-5c9f-4ee9-a069-91d8181237d8",
   "metadata": {},
   "outputs": [
    {
     "data": {
      "text/html": [
       "<style>\n",
       ".list-inline {list-style: none; margin:0; padding: 0}\n",
       ".list-inline>li {display: inline-block}\n",
       ".list-inline>li:not(:last-child)::after {content: \"\\00b7\"; padding: 0 .5ex}\n",
       "</style>\n",
       "<ol class=list-inline><li>'name'</li><li>'Patient ID'</li><li>'gender'</li><li>'Capture assembly'</li><li>'disease_type'</li><li>'sample_id'</li><li>'PDMR Version'</li><li>'PDMR Sample ID'</li><li>'Is PDMR Version 2'</li><li>'Has Matched Normal'</li><li>'Passage'</li><li>'paired_end'</li><li>'sample_type'</li><li>'platform'</li><li>'age_at_diagnosis'</li><li>'Capture kit'</li><li>'case_id'</li><li>'Specimen ID'</li><li>'experimental_strategy'</li><li>'index'</li><li>'contributor'</li></ol>\n"
      ],
      "text/latex": [
       "\\begin{enumerate*}\n",
       "\\item 'name'\n",
       "\\item 'Patient ID'\n",
       "\\item 'gender'\n",
       "\\item 'Capture assembly'\n",
       "\\item 'disease\\_type'\n",
       "\\item 'sample\\_id'\n",
       "\\item 'PDMR Version'\n",
       "\\item 'PDMR Sample ID'\n",
       "\\item 'Is PDMR Version 2'\n",
       "\\item 'Has Matched Normal'\n",
       "\\item 'Passage'\n",
       "\\item 'paired\\_end'\n",
       "\\item 'sample\\_type'\n",
       "\\item 'platform'\n",
       "\\item 'age\\_at\\_diagnosis'\n",
       "\\item 'Capture kit'\n",
       "\\item 'case\\_id'\n",
       "\\item 'Specimen ID'\n",
       "\\item 'experimental\\_strategy'\n",
       "\\item 'index'\n",
       "\\item 'contributor'\n",
       "\\end{enumerate*}\n"
      ],
      "text/markdown": [
       "1. 'name'\n",
       "2. 'Patient ID'\n",
       "3. 'gender'\n",
       "4. 'Capture assembly'\n",
       "5. 'disease_type'\n",
       "6. 'sample_id'\n",
       "7. 'PDMR Version'\n",
       "8. 'PDMR Sample ID'\n",
       "9. 'Is PDMR Version 2'\n",
       "10. 'Has Matched Normal'\n",
       "11. 'Passage'\n",
       "12. 'paired_end'\n",
       "13. 'sample_type'\n",
       "14. 'platform'\n",
       "15. 'age_at_diagnosis'\n",
       "16. 'Capture kit'\n",
       "17. 'case_id'\n",
       "18. 'Specimen ID'\n",
       "19. 'experimental_strategy'\n",
       "20. 'index'\n",
       "21. 'contributor'\n",
       "\n",
       "\n"
      ],
      "text/plain": [
       " [1] \"name\"                  \"Patient ID\"            \"gender\"               \n",
       " [4] \"Capture assembly\"      \"disease_type\"          \"sample_id\"            \n",
       " [7] \"PDMR Version\"          \"PDMR Sample ID\"        \"Is PDMR Version 2\"    \n",
       "[10] \"Has Matched Normal\"    \"Passage\"               \"paired_end\"           \n",
       "[13] \"sample_type\"           \"platform\"              \"age_at_diagnosis\"     \n",
       "[16] \"Capture kit\"           \"case_id\"               \"Specimen ID\"          \n",
       "[19] \"experimental_strategy\" \"index\"                 \"contributor\"          "
      ]
     },
     "metadata": {},
     "output_type": "display_data"
    }
   ],
   "source": [
    "colnames(pdmr_metadata)"
   ]
  },
  {
   "cell_type": "code",
   "execution_count": 6,
   "id": "e8362925-6a3a-484d-a50f-946e6295edff",
   "metadata": {},
   "outputs": [
    {
     "data": {
      "text/html": [
       "<style>\n",
       ".list-inline {list-style: none; margin:0; padding: 0}\n",
       ".list-inline>li {display: inline-block}\n",
       ".list-inline>li:not(:last-child)::after {content: \"\\00b7\"; padding: 0 .5ex}\n",
       "</style>\n",
       "<ol class=list-inline><li>'index'</li><li>'contributor'</li><li>'name'</li><li>'Patient ID'</li><li>'PDMR Sample ID'</li><li>'PDMR Version'</li><li>'Is PDMR Version 2'</li><li>'sample_id'</li><li>'case_id'</li><li>'Specimen ID'</li><li>'sample_type'</li><li>'Has Matched Normal'</li><li>'experimental_strategy'</li><li>'gender'</li><li>'age_at_diagnosis'</li><li>'paired_end'</li><li>'Capture kit'</li><li>'Capture assembly'</li><li>'platform'</li><li>'Passage'</li><li>'disease_type'</li></ol>\n"
      ],
      "text/latex": [
       "\\begin{enumerate*}\n",
       "\\item 'index'\n",
       "\\item 'contributor'\n",
       "\\item 'name'\n",
       "\\item 'Patient ID'\n",
       "\\item 'PDMR Sample ID'\n",
       "\\item 'PDMR Version'\n",
       "\\item 'Is PDMR Version 2'\n",
       "\\item 'sample\\_id'\n",
       "\\item 'case\\_id'\n",
       "\\item 'Specimen ID'\n",
       "\\item 'sample\\_type'\n",
       "\\item 'Has Matched Normal'\n",
       "\\item 'experimental\\_strategy'\n",
       "\\item 'gender'\n",
       "\\item 'age\\_at\\_diagnosis'\n",
       "\\item 'paired\\_end'\n",
       "\\item 'Capture kit'\n",
       "\\item 'Capture assembly'\n",
       "\\item 'platform'\n",
       "\\item 'Passage'\n",
       "\\item 'disease\\_type'\n",
       "\\end{enumerate*}\n"
      ],
      "text/markdown": [
       "1. 'index'\n",
       "2. 'contributor'\n",
       "3. 'name'\n",
       "4. 'Patient ID'\n",
       "5. 'PDMR Sample ID'\n",
       "6. 'PDMR Version'\n",
       "7. 'Is PDMR Version 2'\n",
       "8. 'sample_id'\n",
       "9. 'case_id'\n",
       "10. 'Specimen ID'\n",
       "11. 'sample_type'\n",
       "12. 'Has Matched Normal'\n",
       "13. 'experimental_strategy'\n",
       "14. 'gender'\n",
       "15. 'age_at_diagnosis'\n",
       "16. 'paired_end'\n",
       "17. 'Capture kit'\n",
       "18. 'Capture assembly'\n",
       "19. 'platform'\n",
       "20. 'Passage'\n",
       "21. 'disease_type'\n",
       "\n",
       "\n"
      ],
      "text/plain": [
       " [1] \"index\"                 \"contributor\"           \"name\"                 \n",
       " [4] \"Patient ID\"            \"PDMR Sample ID\"        \"PDMR Version\"         \n",
       " [7] \"Is PDMR Version 2\"     \"sample_id\"             \"case_id\"              \n",
       "[10] \"Specimen ID\"           \"sample_type\"           \"Has Matched Normal\"   \n",
       "[13] \"experimental_strategy\" \"gender\"                \"age_at_diagnosis\"     \n",
       "[16] \"paired_end\"            \"Capture kit\"           \"Capture assembly\"     \n",
       "[19] \"platform\"              \"Passage\"               \"disease_type\"         "
      ]
     },
     "metadata": {},
     "output_type": "display_data"
    },
    {
     "data": {
      "text/html": [
       "21"
      ],
      "text/latex": [
       "21"
      ],
      "text/markdown": [
       "21"
      ],
      "text/plain": [
       "[1] 21"
      ]
     },
     "metadata": {},
     "output_type": "display_data"
    }
   ],
   "source": [
    "# Reorder columns\n",
    "\n",
    "pdmr_metadata <- pdmr_metadata %>% select(index, contributor, name, `Patient ID`, `PDMR Sample ID`, `PDMR Version`, `Is PDMR Version 2`, sample_id, case_id, `Specimen ID`, sample_type, `Has Matched Normal`,\n",
    "                         experimental_strategy, gender, age_at_diagnosis, paired_end, `Capture kit`, `Capture assembly`, platform, Passage, disease_type)\n",
    "\n",
    "colnames(pdmr_metadata)\n",
    "colnames(pdmr_metadata) %>% length()"
   ]
  },
  {
   "cell_type": "code",
   "execution_count": 7,
   "id": "ea769b9d-cb76-4f35-9830-931ab72d402f",
   "metadata": {},
   "outputs": [
    {
     "data": {
      "text/html": [
       "<style>\n",
       ".list-inline {list-style: none; margin:0; padding: 0}\n",
       ".list-inline>li {display: inline-block}\n",
       ".list-inline>li:not(:last-child)::after {content: \"\\00b7\"; padding: 0 .5ex}\n",
       "</style>\n",
       "<ol class=list-inline><li>''</li><li>'contributor'</li><li>'file_name'</li><li>'patient_id'</li><li>'pdmr_sample_id'</li><li>'pdmr_version'</li><li>'is_pdmr_version_2'</li><li>'sample_id'</li><li>'case_id'</li><li>'specimen_id'</li><li>'sample_type'</li><li>'has_matched_normal'</li><li>'experimental_strategy'</li><li>'gender'</li><li>'age_at_diagnosis'</li><li>'paired_end'</li><li>'capture_kit'</li><li>'capture_assembly'</li><li>'platform'</li><li>'passage'</li><li>'disease_type'</li></ol>\n"
      ],
      "text/latex": [
       "\\begin{enumerate*}\n",
       "\\item ''\n",
       "\\item 'contributor'\n",
       "\\item 'file\\_name'\n",
       "\\item 'patient\\_id'\n",
       "\\item 'pdmr\\_sample\\_id'\n",
       "\\item 'pdmr\\_version'\n",
       "\\item 'is\\_pdmr\\_version\\_2'\n",
       "\\item 'sample\\_id'\n",
       "\\item 'case\\_id'\n",
       "\\item 'specimen\\_id'\n",
       "\\item 'sample\\_type'\n",
       "\\item 'has\\_matched\\_normal'\n",
       "\\item 'experimental\\_strategy'\n",
       "\\item 'gender'\n",
       "\\item 'age\\_at\\_diagnosis'\n",
       "\\item 'paired\\_end'\n",
       "\\item 'capture\\_kit'\n",
       "\\item 'capture\\_assembly'\n",
       "\\item 'platform'\n",
       "\\item 'passage'\n",
       "\\item 'disease\\_type'\n",
       "\\end{enumerate*}\n"
      ],
      "text/markdown": [
       "1. ''\n",
       "2. 'contributor'\n",
       "3. 'file_name'\n",
       "4. 'patient_id'\n",
       "5. 'pdmr_sample_id'\n",
       "6. 'pdmr_version'\n",
       "7. 'is_pdmr_version_2'\n",
       "8. 'sample_id'\n",
       "9. 'case_id'\n",
       "10. 'specimen_id'\n",
       "11. 'sample_type'\n",
       "12. 'has_matched_normal'\n",
       "13. 'experimental_strategy'\n",
       "14. 'gender'\n",
       "15. 'age_at_diagnosis'\n",
       "16. 'paired_end'\n",
       "17. 'capture_kit'\n",
       "18. 'capture_assembly'\n",
       "19. 'platform'\n",
       "20. 'passage'\n",
       "21. 'disease_type'\n",
       "\n",
       "\n"
      ],
      "text/plain": [
       " [1] \"\"                      \"contributor\"           \"file_name\"            \n",
       " [4] \"patient_id\"            \"pdmr_sample_id\"        \"pdmr_version\"         \n",
       " [7] \"is_pdmr_version_2\"     \"sample_id\"             \"case_id\"              \n",
       "[10] \"specimen_id\"           \"sample_type\"           \"has_matched_normal\"   \n",
       "[13] \"experimental_strategy\" \"gender\"                \"age_at_diagnosis\"     \n",
       "[16] \"paired_end\"            \"capture_kit\"           \"capture_assembly\"     \n",
       "[19] \"platform\"              \"passage\"               \"disease_type\"         "
      ]
     },
     "metadata": {},
     "output_type": "display_data"
    },
    {
     "data": {
      "text/html": [
       "21"
      ],
      "text/latex": [
       "21"
      ],
      "text/markdown": [
       "21"
      ],
      "text/plain": [
       "[1] 21"
      ]
     },
     "metadata": {},
     "output_type": "display_data"
    }
   ],
   "source": [
    "colnames(pdmr_metadata) <- c('', 'contributor', 'file_name', 'patient_id', 'pdmr_sample_id', 'pdmr_version', 'is_pdmr_version_2', 'sample_id', 'case_id', 'specimen_id', 'sample_type',\n",
    "                             'has_matched_normal', 'experimental_strategy', 'gender', 'age_at_diagnosis', 'paired_end', 'capture_kit', 'capture_assembly', 'platform', 'passage',\n",
    "                             'disease_type')\n",
    "\n",
    "colnames(pdmr_metadata)\n",
    "colnames(pdmr_metadata) %>% length()"
   ]
  },
  {
   "cell_type": "code",
   "execution_count": 8,
   "id": "3d6eef91-f09b-437c-9ff2-992ce9eff8b5",
   "metadata": {},
   "outputs": [],
   "source": [
    "# Export\n",
    "\n",
    "write_csv(pdmr_metadata, '2022-02-23_pdmr_portal_metadata.csv')"
   ]
  }
 ],
 "metadata": {
  "kernelspec": {
   "display_name": "R",
   "language": "R",
   "name": "ir"
  },
  "language_info": {
   "codemirror_mode": "r",
   "file_extension": ".r",
   "mimetype": "text/x-r-source",
   "name": "R",
   "pygments_lexer": "r",
   "version": "4.1.2"
  }
 },
 "nbformat": 4,
 "nbformat_minor": 5
}
